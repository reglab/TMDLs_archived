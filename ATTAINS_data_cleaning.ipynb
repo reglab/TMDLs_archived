{
 "cells": [
  {
   "cell_type": "markdown",
   "source": [
    "# ATTAINS Data Cleaning\n",
    "<i> Ryan Treves\n",
    "### Goals:\n",
    "- Download and clean data from EPA's ATTAINS database in order to explore TMDLs and water quality"
   ],
   "metadata": {
    "collapsed": false,
    "pycharm": {
     "name": "#%% md\n"
    }
   }
  },
  {
   "cell_type": "markdown",
   "source": [
    "### Can we download summary data on Assessment Units (AUs) for 52 states and territories?"
   ],
   "metadata": {
    "collapsed": false,
    "pycharm": {
     "name": "#%% md\n"
    }
   }
  },
  {
   "cell_type": "code",
   "execution_count": 1,
   "metadata": {
    "collapsed": true,
    "pycharm": {
     "name": "#%%\n"
    }
   },
   "outputs": [],
   "source": [
    "import pandas as pd\n",
    "\n",
    "# display all rows & columns\n",
    "pd.set_option('display.max_columns', None)\n",
    "pd.set_option('display.max_rows', None)\n",
    "\n",
    "import json\n",
    "from urllib.request import urlopen"
   ]
  },
  {
   "cell_type": "code",
   "execution_count": 112,
   "outputs": [],
   "source": [
    "# Load acceptable list of state codes (this came from https://attains.epa.gov/attains-public/api/domains?domainName=OrgStateCode)\n",
    "orgID_list = pd.read_csv('OrgID_list.csv')"
   ],
   "metadata": {
    "collapsed": false,
    "pycharm": {
     "name": "#%%\n"
    }
   }
  },
  {
   "cell_type": "code",
   "execution_count": null,
   "outputs": [],
   "source": [
    "# Download .json files for each state\n",
    "for stateCode in orgID_list['code'].unique():\n",
    "    response = urlopen('https://attains.epa.gov/attains-public/api/assessmentUnits?stateCode=' + stateCode)\n",
    "    data = json.loads(response.read())\n",
    "    with open(stateCode + '.json', 'w') as f:\n",
    "        json.dump(data, f)"
   ],
   "metadata": {
    "collapsed": false,
    "pycharm": {
     "name": "#%%\n"
    }
   }
  },
  {
   "cell_type": "markdown",
   "source": [
    "After this step, I manually uploaded each .json file into this jsontocsv converter and downloaded the output: https://csvjson.com/json2csv . Output files are labeled state code + '_AUs.csv' and can be found in Raw_AU_data/. NOTE: because the Pennsylvania .json file was so massive (127MB), I couldn't find a way to run it through the converter without crashing. Thus, Pennsylvania is excluded for now."
   ],
   "metadata": {
    "collapsed": false,
    "pycharm": {
     "name": "#%% md\n"
    }
   }
  },
  {
   "cell_type": "markdown",
   "source": [
    "Now, we want to clean up columns so all the files can be concatenated. A few states (e.g., AZ, ME, NC will throw parsing errors at this step due to data entry differences within the rows- I went back and fixed these manually)"
   ],
   "metadata": {
    "collapsed": false,
    "pycharm": {
     "name": "#%% md\n"
    }
   }
  },
  {
   "cell_type": "code",
   "execution_count": 4,
   "outputs": [],
   "source": [
    "stateCode = 'WV' # Example"
   ],
   "metadata": {
    "collapsed": false,
    "pycharm": {
     "name": "#%%\n"
    }
   }
  },
  {
   "cell_type": "code",
   "execution_count": 5,
   "outputs": [],
   "source": [
    "AUs = pd.read_csv('Raw_AU_data/' + stateCode + '_AUs.csv')"
   ],
   "metadata": {
    "collapsed": false,
    "pycharm": {
     "name": "#%%\n"
    }
   }
  },
  {
   "cell_type": "markdown",
   "source": [
    "For some states, this pipeline will work:"
   ],
   "metadata": {
    "collapsed": false,
    "pycharm": {
     "name": "#%% md\n"
    }
   }
  },
  {
   "cell_type": "code",
   "execution_count": 32,
   "outputs": [],
   "source": [
    "# Pipeline 1\n",
    "AU_keys = AUs[['items.organizationTypeText', 'items.organizationIdentifier', 'items.organizationName', 'items.assessmentUnits.assessmentUnitIdentifier', 'items.assessmentUnits.assessmentUnitName', 'items.assessmentUnits.agencyCode', 'items.assessmentUnits.statusIndicator', 'items.assessmentUnits.useClass']].rename(columns={'items.organizationTypeText': 'AUID'}).drop_duplicates()\n",
    "\n",
    "HUC_codes = AUs[AUs['items.assessmentUnits.locations.locationTypeCode']=='HUC-8'][['items.organizationTypeText', 'items.assessmentUnits.locations.locationText']].rename(columns={'items.organizationTypeText': 'AUID', 'items.assessmentUnits.locations.locationText': 'HUC-8'})\n",
    "\n",
    "waterTypes = AUs[['items.organizationTypeText', 'items.assessmentUnits.waterTypes.waterTypeCode', 'items.assessmentUnits.waterTypes.waterSizeNumber', 'items.assessmentUnits.waterTypes.unitsCode']].dropna().rename(columns={'items.organizationTypeText': 'AUID'})\n",
    "AUs = AU_keys.merge(waterTypes, on='AUID', how='left').merge(HUC_codes, on='AUID', how='left')"
   ],
   "metadata": {
    "collapsed": false,
    "pycharm": {
     "name": "#%%\n"
    }
   }
  },
  {
   "cell_type": "markdown",
   "source": [
    "For others, this pipeline will work:"
   ],
   "metadata": {
    "collapsed": false,
    "pycharm": {
     "name": "#%% md\n"
    }
   }
  },
  {
   "cell_type": "code",
   "execution_count": 9,
   "outputs": [],
   "source": [
    "# Pipeline 2\n",
    "AU_keys = AUs[['items.organizationTypeText', 'items.organizationIdentifier', 'items.organizationName', 'items.assessmentUnits.assessmentUnitIdentifier', 'items.assessmentUnits.assessmentUnitName', 'items.assessmentUnits.agencyCode', 'items.assessmentUnits.statusIndicator', 'items.assessmentUnits.useClass']].rename(columns={'items.assessmentUnits.assessmentUnitIdentifier': 'AUID'}).drop_duplicates()\n",
    "\n",
    "HUC_codes_1 = AUs[AUs['items.assessmentUnits.locations.locationTypeCode']=='HUC-8'][['items.assessmentUnits.assessmentUnitIdentifier', 'items.assessmentUnits.locations.locationText']].rename(columns={'items.assessmentUnits.assessmentUnitIdentifier': 'AUID', 'items.assessmentUnits.locations.locationText': 'HUC-8'})\n",
    "\n",
    "HUC_codes_12 = AUs[AUs['items.assessmentUnits.locations.locationTypeCode']=='HUC-12'][['items.assessmentUnits.assessmentUnitIdentifier', 'items.assessmentUnits.locations.locationText']].rename(columns={'items.assessmentUnits.assessmentUnitIdentifier': 'AUID', 'items.assessmentUnits.locations.locationText': 'HUC-12'})\n",
    "\n",
    "\n",
    "waterTypes = AUs[['items.assessmentUnits.assessmentUnitIdentifier', 'items.assessmentUnits.waterTypes.waterTypeCode', 'items.assessmentUnits.waterTypes.waterSizeNumber', 'items.assessmentUnits.waterTypes.unitsCode']].dropna().rename(columns={'items.assessmentUnits.assessmentUnitIdentifier': 'AUID'})\n",
    "\n",
    "AUs = AU_keys.merge(waterTypes, on='AUID', how='left').merge(HUC_codes_1, on='AUID', how='left').merge(HUC_codes_12, on='AUID', how='left')"
   ],
   "metadata": {
    "collapsed": false,
    "pycharm": {
     "name": "#%%\n"
    }
   }
  },
  {
   "cell_type": "markdown",
   "source": [
    "For others still, no HUC data is available and we just use this:"
   ],
   "metadata": {
    "collapsed": false,
    "pycharm": {
     "name": "#%% md\n"
    }
   }
  },
  {
   "cell_type": "code",
   "execution_count": 63,
   "outputs": [],
   "source": [
    "AUs.rename(columns={'items.assessmentUnits.assessmentUnitIdentifier': 'AUID'}).to_csv('NY_AUs_cleaned.csv')"
   ],
   "metadata": {
    "collapsed": false,
    "pycharm": {
     "name": "#%%\n"
    }
   }
  },
  {
   "cell_type": "markdown",
   "source": [
    "Finally, save the result to a cleaned .csv file:"
   ],
   "metadata": {
    "collapsed": false,
    "pycharm": {
     "name": "#%% md\n"
    }
   }
  },
  {
   "cell_type": "code",
   "execution_count": 12,
   "outputs": [],
   "source": [
    "AUs.to_csv('Clean_AU_data/' + stateCode + '_AUs_cleaned.csv')"
   ],
   "metadata": {
    "collapsed": false,
    "pycharm": {
     "name": "#%%\n"
    }
   }
  },
  {
   "cell_type": "markdown",
   "source": [
    "Once the above code has been done for all states, we can concatenate the data:"
   ],
   "metadata": {
    "collapsed": false,
    "pycharm": {
     "name": "#%% md\n"
    }
   }
  },
  {
   "cell_type": "code",
   "execution_count": null,
   "outputs": [],
   "source": [
    "# Note: Pennsylvania (PA) is excluded, see above for an explanation. Note that 'VI'= Virgin Islands, 'PR'=Puerto Rico, 'GU'=Guam\n",
    "states = ['AL', 'AK', 'AZ', 'AR', 'CA', 'CO', 'CT', 'DE', 'FL', 'GA', 'GU', 'HI', 'ID', 'IL', 'IN', 'IA', 'KS', 'KY', 'LA', 'MA', 'MD', 'ME', 'MI', 'MN', 'MS', 'MO', 'MT', 'NE', 'NV', 'NH', 'NJ', 'NM', 'NY', 'NC', 'ND', 'OH', 'OK', 'OR', 'PR', 'RI', 'SC', 'SD', 'TN', 'TX', 'UT', 'VT', 'VA', 'VI', 'WA', 'WV', 'WI', 'WY']\n",
    "\n",
    "# Load and concatenate all state AUs data\n",
    "all_AUs = pd.DataFrame()\n",
    "for state in states:\n",
    "    state_AUs = pd.read_csv('Clean_AU_data/' + state + '_AUs_cleaned.csv')\n",
    "    all_AUs = pd.concat([state_AUs, all_AUs], axis=0)\n",
    "    del state_AUs"
   ],
   "metadata": {
    "collapsed": false,
    "pycharm": {
     "name": "#%%\n"
    }
   }
  },
  {
   "cell_type": "code",
   "execution_count": null,
   "outputs": [],
   "source": [
    "all_AUs.to_csv('Clean_AU_data/all_AUs_cleaned.csv')"
   ],
   "metadata": {
    "collapsed": false,
    "pycharm": {
     "name": "#%%\n"
    }
   }
  },
  {
   "cell_type": "markdown",
   "source": [
    "### Can we download summary data on assessments yielding IR category 5 determinations for 52 states and territories?\n",
    "It turns out, because the ATTAINS API provides the data in deeply nested .json format, I wasn't able to find a workable way to download the .json files in the way that I did for the assessment unit data above. Instead, find the R script `pull_IR5_assessments.R`, which can be run to download assessment summary data containing the features we're interested in."
   ],
   "metadata": {
    "collapsed": false,
    "pycharm": {
     "name": "#%% md\n"
    }
   }
  }
 ],
 "metadata": {
  "kernelspec": {
   "display_name": "Python 3",
   "language": "python",
   "name": "python3"
  },
  "language_info": {
   "codemirror_mode": {
    "name": "ipython",
    "version": 2
   },
   "file_extension": ".py",
   "mimetype": "text/x-python",
   "name": "python",
   "nbconvert_exporter": "python",
   "pygments_lexer": "ipython2",
   "version": "2.7.6"
  }
 },
 "nbformat": 4,
 "nbformat_minor": 0
}