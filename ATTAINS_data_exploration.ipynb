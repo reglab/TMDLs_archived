{
 "cells": [
  {
   "cell_type": "markdown",
   "source": [
    "# ATTAINS DATA EXPLORATION\n",
    "<i> Ryan Treves\n",
    "\n",
    "### Questions:\n",
    "- How many Assessment Units (AUs) exist nationwide?\n",
    "- For many AUs do we have a HUC code match?\n",
    "- How many use assessments nationwide, ever, have contributed to an IR5 category determination?\n",
    "- How many unique assessment units have been assigned category IR5?\n",
    "- Which states have had the most use assessments leading to IR5 determinations?\n",
    "- Which states have had the highest rate of IR5 determinations per assessment unit?\n",
    "- For what fraction of use assessments do we have an assessment date?\n",
    "- What parameters have caused the most use non-attainment declarations?\n",
    "- What parameters have caused the most assessment units to be categorized as IR5, irrespective of number of use non-attainment declarations?\n",
    "- What uses have the highest rate of non-attainment?\n",
    "\n",
    "Note: the dataset of AUs doesn't include Pennsylvania (see `ATTAINS_data_cleaning.ipynb` for an explanation)\n"
   ],
   "metadata": {
    "collapsed": false,
    "pycharm": {
     "name": "#%% md\n"
    }
   }
  },
  {
   "cell_type": "code",
   "execution_count": 1,
   "outputs": [],
   "source": [
    "import pandas as pd\n",
    "import json\n",
    "from urllib.request import urlopen\n",
    "\n",
    "# display all rows & columns\n",
    "pd.set_option('display.max_columns', None)\n",
    "pd.set_option('display.max_rows', None)"
   ],
   "metadata": {
    "collapsed": false,
    "pycharm": {
     "name": "#%%\n"
    }
   }
  },
  {
   "cell_type": "code",
   "execution_count": 47,
   "outputs": [
    {
     "name": "stderr",
     "output_type": "stream",
     "text": [
      "/var/folders/1h/lmmglcgx2652108zjxqs36vr0000gq/T/ipykernel_56609/2797704080.py:2: DtypeWarning: Columns (5,11,16,17,18,19,20,21,22,23,24,25,27) have mixed types. Specify dtype option on import or set low_memory=False.\n",
      "  AUs = pd.read_csv('Clean_AU_data/all_AUs_cleaned.csv')\n"
     ]
    }
   ],
   "source": [
    "# Load in national Assessment Unit (AU) data\n",
    "AUs = pd.read_csv('Clean_AU_data/all_AUs_cleaned.csv')"
   ],
   "metadata": {
    "collapsed": false,
    "pycharm": {
     "name": "#%%\n"
    }
   }
  },
  {
   "cell_type": "code",
   "execution_count": 3,
   "outputs": [
    {
     "data": {
      "text/plain": "   Unnamed: 0.1  Unnamed: 0                  AUID  \\\n0             0           0   WYGR140401040103_01   \n1             1           1   WYNP101800020105_02   \n2             2           2   WYBH100800140107_01   \n3             3           3   WYBH100800030108_02   \n4             4           4  WYGR140401040303 _01   \n\n  items.organizationIdentifier items.organizationName  \\\n0                      Wyoming                  State   \n1                      Wyoming                  State   \n2                      Wyoming                  State   \n3                      Wyoming                  State   \n4                      Wyoming                  State   \n\n  items.assessmentUnits.assessmentUnitIdentifier  \\\n0                          Lower Big Sandy River   \n1                                    Muddy Creek   \n2                                      Dry Gulch   \n3                         Little Popo Agie River   \n4                                  Pacific Creek   \n\n            items.assessmentUnits.assessmentUnitName  \\\n0  From the confluence with Squaw Creek downstrea...   \n1  Entire watershed upstream of the confluence wi...   \n2  From the confluence with the Shoshone River to...   \n3  From the confluence with the Popo Agie River u...   \n4  Confluence with Jack Morrow Creek upstream to ...   \n\n  items.assessmentUnits.agencyCode items.assessmentUnits.statusIndicator  \\\n0                               WY               {\\useClassCode\\\":\\\"85\\\"   \n1                               WY               {\\useClassCode\\\":\\\"85\\\"   \n2                               WY              {\\useClassCode\\\":\\\"117\\\"   \n3                               WY               {\\useClassCode\\\":\\\"85\\\"   \n4                               WY               {\\useClassCode\\\":\\\"85\\\"   \n\n     items.assessmentUnits.useClass  \\\n0  \\\"useClassName\\\":\\\"CLASS 2AB\\\"}\"   \n1  \\\"useClassName\\\":\\\"CLASS 2AB\\\"}\"   \n2   \\\"useClassName\\\":\\\"CLASS 3B\\\"}\"   \n3  \\\"useClassName\\\":\\\"CLASS 2AB\\\"}\"   \n4  \\\"useClassName\\\":\\\"CLASS 2AB\\\"}\"   \n\n  items.assessmentUnits.waterTypes.waterTypeCode  \\\n0                                         STREAM   \n1                                         STREAM   \n2                                         STREAM   \n3                                         STREAM   \n4                                         STREAM   \n\n  items.assessmentUnits.waterTypes.waterSizeNumber  \\\n0                                              2.1   \n1                                             44.5   \n2                                              0.5   \n3                                             11.1   \n4                                             13.8   \n\n  items.assessmentUnits.waterTypes.unitsCode  HUC-8  \\\n0                                      Miles    NaN   \n1                                      Miles    NaN   \n2                                      Miles    NaN   \n3                                      Miles    NaN   \n4                                      Miles    NaN   \n\n  items.organizationTypeText  HUC-12 count  \\\n0                        NaN     NaN   NaN   \n1                        NaN     NaN   NaN   \n2                        NaN     NaN   NaN   \n3                        NaN     NaN   NaN   \n4                        NaN     NaN   NaN   \n\n  items.assessmentUnits.locationDescriptionText  \\\n0                                           NaN   \n1                                           NaN   \n2                                           NaN   \n3                                           NaN   \n4                                           NaN   \n\n  items.assessmentUnits.stateCode  \\\n0                             NaN   \n1                             NaN   \n2                             NaN   \n3                             NaN   \n4                             NaN   \n\n  items.assessmentUnits.waterTypes.sizeEstimationMethodCode  \\\n0                                                NaN          \n1                                                NaN          \n2                                                NaN          \n3                                                NaN          \n4                                                NaN          \n\n  items.assessmentUnits.waterTypes.sizeSourceText  \\\n0                                             NaN   \n1                                             NaN   \n2                                             NaN   \n3                                             NaN   \n4                                             NaN   \n\n  items.assessmentUnits.waterTypes.sizeSourceScaleText  \\\n0                                                NaN     \n1                                                NaN     \n2                                                NaN     \n3                                                NaN     \n4                                                NaN     \n\n  items.assessmentUnits.monitoringStations.monitoringOrganizationIdentifier  \\\n0                                                NaN                          \n1                                                NaN                          \n2                                                NaN                          \n3                                                NaN                          \n4                                                NaN                          \n\n  items.assessmentUnits.monitoringStations.monitoringLocationIdentifier  \\\n0                                                NaN                      \n1                                                NaN                      \n2                                                NaN                      \n3                                                NaN                      \n4                                                NaN                      \n\n  items.assessmentUnits.monitoringStations.monitoringDataLinkText  \\\n0                                                NaN                \n1                                                NaN                \n2                                                NaN                \n3                                                NaN                \n4                                                NaN                \n\n  items.assessmentUnits.locations.locationTypeCode  \\\n0                                              NaN   \n1                                              NaN   \n2                                              NaN   \n3                                              NaN   \n4                                              NaN   \n\n   items.assessmentUnits.locations.locationText HUC-10  \n0                                           NaN    NaN  \n1                                           NaN    NaN  \n2                                           NaN    NaN  \n3                                           NaN    NaN  \n4                                           NaN    NaN  ",
      "text/html": "<div>\n<style scoped>\n    .dataframe tbody tr th:only-of-type {\n        vertical-align: middle;\n    }\n\n    .dataframe tbody tr th {\n        vertical-align: top;\n    }\n\n    .dataframe thead th {\n        text-align: right;\n    }\n</style>\n<table border=\"1\" class=\"dataframe\">\n  <thead>\n    <tr style=\"text-align: right;\">\n      <th></th>\n      <th>Unnamed: 0.1</th>\n      <th>Unnamed: 0</th>\n      <th>AUID</th>\n      <th>items.organizationIdentifier</th>\n      <th>items.organizationName</th>\n      <th>items.assessmentUnits.assessmentUnitIdentifier</th>\n      <th>items.assessmentUnits.assessmentUnitName</th>\n      <th>items.assessmentUnits.agencyCode</th>\n      <th>items.assessmentUnits.statusIndicator</th>\n      <th>items.assessmentUnits.useClass</th>\n      <th>items.assessmentUnits.waterTypes.waterTypeCode</th>\n      <th>items.assessmentUnits.waterTypes.waterSizeNumber</th>\n      <th>items.assessmentUnits.waterTypes.unitsCode</th>\n      <th>HUC-8</th>\n      <th>items.organizationTypeText</th>\n      <th>HUC-12</th>\n      <th>count</th>\n      <th>items.assessmentUnits.locationDescriptionText</th>\n      <th>items.assessmentUnits.stateCode</th>\n      <th>items.assessmentUnits.waterTypes.sizeEstimationMethodCode</th>\n      <th>items.assessmentUnits.waterTypes.sizeSourceText</th>\n      <th>items.assessmentUnits.waterTypes.sizeSourceScaleText</th>\n      <th>items.assessmentUnits.monitoringStations.monitoringOrganizationIdentifier</th>\n      <th>items.assessmentUnits.monitoringStations.monitoringLocationIdentifier</th>\n      <th>items.assessmentUnits.monitoringStations.monitoringDataLinkText</th>\n      <th>items.assessmentUnits.locations.locationTypeCode</th>\n      <th>items.assessmentUnits.locations.locationText</th>\n      <th>HUC-10</th>\n    </tr>\n  </thead>\n  <tbody>\n    <tr>\n      <th>0</th>\n      <td>0</td>\n      <td>0</td>\n      <td>WYGR140401040103_01</td>\n      <td>Wyoming</td>\n      <td>State</td>\n      <td>Lower Big Sandy River</td>\n      <td>From the confluence with Squaw Creek downstrea...</td>\n      <td>WY</td>\n      <td>{\\useClassCode\\\":\\\"85\\\"</td>\n      <td>\\\"useClassName\\\":\\\"CLASS 2AB\\\"}\"</td>\n      <td>STREAM</td>\n      <td>2.1</td>\n      <td>Miles</td>\n      <td>NaN</td>\n      <td>NaN</td>\n      <td>NaN</td>\n      <td>NaN</td>\n      <td>NaN</td>\n      <td>NaN</td>\n      <td>NaN</td>\n      <td>NaN</td>\n      <td>NaN</td>\n      <td>NaN</td>\n      <td>NaN</td>\n      <td>NaN</td>\n      <td>NaN</td>\n      <td>NaN</td>\n      <td>NaN</td>\n    </tr>\n    <tr>\n      <th>1</th>\n      <td>1</td>\n      <td>1</td>\n      <td>WYNP101800020105_02</td>\n      <td>Wyoming</td>\n      <td>State</td>\n      <td>Muddy Creek</td>\n      <td>Entire watershed upstream of the confluence wi...</td>\n      <td>WY</td>\n      <td>{\\useClassCode\\\":\\\"85\\\"</td>\n      <td>\\\"useClassName\\\":\\\"CLASS 2AB\\\"}\"</td>\n      <td>STREAM</td>\n      <td>44.5</td>\n      <td>Miles</td>\n      <td>NaN</td>\n      <td>NaN</td>\n      <td>NaN</td>\n      <td>NaN</td>\n      <td>NaN</td>\n      <td>NaN</td>\n      <td>NaN</td>\n      <td>NaN</td>\n      <td>NaN</td>\n      <td>NaN</td>\n      <td>NaN</td>\n      <td>NaN</td>\n      <td>NaN</td>\n      <td>NaN</td>\n      <td>NaN</td>\n    </tr>\n    <tr>\n      <th>2</th>\n      <td>2</td>\n      <td>2</td>\n      <td>WYBH100800140107_01</td>\n      <td>Wyoming</td>\n      <td>State</td>\n      <td>Dry Gulch</td>\n      <td>From the confluence with the Shoshone River to...</td>\n      <td>WY</td>\n      <td>{\\useClassCode\\\":\\\"117\\\"</td>\n      <td>\\\"useClassName\\\":\\\"CLASS 3B\\\"}\"</td>\n      <td>STREAM</td>\n      <td>0.5</td>\n      <td>Miles</td>\n      <td>NaN</td>\n      <td>NaN</td>\n      <td>NaN</td>\n      <td>NaN</td>\n      <td>NaN</td>\n      <td>NaN</td>\n      <td>NaN</td>\n      <td>NaN</td>\n      <td>NaN</td>\n      <td>NaN</td>\n      <td>NaN</td>\n      <td>NaN</td>\n      <td>NaN</td>\n      <td>NaN</td>\n      <td>NaN</td>\n    </tr>\n    <tr>\n      <th>3</th>\n      <td>3</td>\n      <td>3</td>\n      <td>WYBH100800030108_02</td>\n      <td>Wyoming</td>\n      <td>State</td>\n      <td>Little Popo Agie River</td>\n      <td>From the confluence with the Popo Agie River u...</td>\n      <td>WY</td>\n      <td>{\\useClassCode\\\":\\\"85\\\"</td>\n      <td>\\\"useClassName\\\":\\\"CLASS 2AB\\\"}\"</td>\n      <td>STREAM</td>\n      <td>11.1</td>\n      <td>Miles</td>\n      <td>NaN</td>\n      <td>NaN</td>\n      <td>NaN</td>\n      <td>NaN</td>\n      <td>NaN</td>\n      <td>NaN</td>\n      <td>NaN</td>\n      <td>NaN</td>\n      <td>NaN</td>\n      <td>NaN</td>\n      <td>NaN</td>\n      <td>NaN</td>\n      <td>NaN</td>\n      <td>NaN</td>\n      <td>NaN</td>\n    </tr>\n    <tr>\n      <th>4</th>\n      <td>4</td>\n      <td>4</td>\n      <td>WYGR140401040303 _01</td>\n      <td>Wyoming</td>\n      <td>State</td>\n      <td>Pacific Creek</td>\n      <td>Confluence with Jack Morrow Creek upstream to ...</td>\n      <td>WY</td>\n      <td>{\\useClassCode\\\":\\\"85\\\"</td>\n      <td>\\\"useClassName\\\":\\\"CLASS 2AB\\\"}\"</td>\n      <td>STREAM</td>\n      <td>13.8</td>\n      <td>Miles</td>\n      <td>NaN</td>\n      <td>NaN</td>\n      <td>NaN</td>\n      <td>NaN</td>\n      <td>NaN</td>\n      <td>NaN</td>\n      <td>NaN</td>\n      <td>NaN</td>\n      <td>NaN</td>\n      <td>NaN</td>\n      <td>NaN</td>\n      <td>NaN</td>\n      <td>NaN</td>\n      <td>NaN</td>\n      <td>NaN</td>\n    </tr>\n  </tbody>\n</table>\n</div>"
     },
     "execution_count": 3,
     "metadata": {},
     "output_type": "execute_result"
    }
   ],
   "source": [
    "AUs.head()"
   ],
   "metadata": {
    "collapsed": false,
    "pycharm": {
     "name": "#%%\n"
    }
   }
  },
  {
   "cell_type": "markdown",
   "source": [
    "### How many Assessment Units (AUs) exist nationwide?\n",
    "Note: this estimate doesn't include Pennsylvania, which according to https://attains.epa.gov/attains-public/api/assessmentUnits?stateCode=PA&returnCountOnly=Y contains on the order of 200,000 AUs on its own."
   ],
   "metadata": {
    "collapsed": false,
    "pycharm": {
     "name": "#%% md\n"
    }
   }
  },
  {
   "cell_type": "code",
   "execution_count": 4,
   "outputs": [
    {
     "data": {
      "text/plain": "331553"
     },
     "execution_count": 4,
     "metadata": {},
     "output_type": "execute_result"
    }
   ],
   "source": [
    "len(AUs['AUID'].unique())"
   ],
   "metadata": {
    "collapsed": false,
    "pycharm": {
     "name": "#%%\n"
    }
   }
  },
  {
   "cell_type": "markdown",
   "source": [
    "### For many AUs do we have a HUC code match?"
   ],
   "metadata": {
    "collapsed": false,
    "pycharm": {
     "name": "#%% md\n"
    }
   }
  },
  {
   "cell_type": "code",
   "execution_count": 5,
   "outputs": [
    {
     "data": {
      "text/plain": "99534"
     },
     "execution_count": 5,
     "metadata": {},
     "output_type": "execute_result"
    }
   ],
   "source": [
    "AUs[(~pd.isna(AUs['HUC-12'])) | (~pd.isna(AUs['HUC-10'])) | (~pd.isna(AUs['HUC-8']))].shape[0]"
   ],
   "metadata": {
    "collapsed": false,
    "pycharm": {
     "name": "#%%\n"
    }
   }
  },
  {
   "cell_type": "markdown",
   "source": [
    "### How many use assessments nationwide, ever, have contributed to an IR5 category determination?\n",
    "Here, a use assessment is uniquely identified by assessmentUnitIdentifier + useName + reportingCycleText + assessment_date"
   ],
   "metadata": {
    "collapsed": false,
    "pycharm": {
     "name": "#%% md\n"
    }
   }
  },
  {
   "cell_type": "code",
   "execution_count": 36,
   "outputs": [
    {
     "data": {
      "text/plain": "   Unnamed: 0.1  Unnamed: 0 state_code organizationIdentifier  \\\n0             0           1         AL                 21AWIC   \n1             1           2         AL                 21AWIC   \n2             2           3         AL                 21AWIC   \n3             3           4         AL                 21AWIC   \n4             4           5         AL                 21AWIC   \n\n  organizationTypeText  reportingCycleText reportStatusCode  \\\n0                State                2008       Historical   \n1                State                2008       Historical   \n2                State                2008       Historical   \n3                State                2008       Historical   \n4                State                2008       Historical   \n\n  assessmentUnitIdentifier trophicStatusCode  \\\n0        AL-Gulf-of-Mexico               NaN   \n1        AL-Gulf-of-Mexico               NaN   \n2        AL-Gulf-of-Mexico               NaN   \n3        AL-Gulf-of-Mexico               NaN   \n4        AL-Gulf-of-Mexico               NaN   \n\n                            useName useAttainmentCode threatenedIndicator  \\\n0                Contact Recreation                 F                   N   \n1                           Fishing                 N                   N   \n2  Propagation of Fish and Wildlife                 F                   N   \n3                      Shellfishing                 N                   N   \n4   Industrial and Agriculture Uses                 F                   N   \n\n  parameterStatusName parameterName  cycle_first_listed  \\\n0               Cause       MERCURY              2006.0   \n1               Cause       MERCURY              2006.0   \n2               Cause       MERCURY              2006.0   \n3               Cause       MERCURY              2006.0   \n4               Cause       MERCURY              2006.0   \n\n   cycleLastAssessedText  cycle_scheduled_for_TMDL assessment_date  \n0                   1998                    2013.0      1998-04-01  \n1                   1998                    2013.0      1998-04-01  \n2                   1998                    2013.0      1998-04-01  \n3                   1998                    2013.0      1998-04-01  \n4                   1998                    2013.0      1998-04-01  ",
      "text/html": "<div>\n<style scoped>\n    .dataframe tbody tr th:only-of-type {\n        vertical-align: middle;\n    }\n\n    .dataframe tbody tr th {\n        vertical-align: top;\n    }\n\n    .dataframe thead th {\n        text-align: right;\n    }\n</style>\n<table border=\"1\" class=\"dataframe\">\n  <thead>\n    <tr style=\"text-align: right;\">\n      <th></th>\n      <th>Unnamed: 0.1</th>\n      <th>Unnamed: 0</th>\n      <th>state_code</th>\n      <th>organizationIdentifier</th>\n      <th>organizationTypeText</th>\n      <th>reportingCycleText</th>\n      <th>reportStatusCode</th>\n      <th>assessmentUnitIdentifier</th>\n      <th>trophicStatusCode</th>\n      <th>useName</th>\n      <th>useAttainmentCode</th>\n      <th>threatenedIndicator</th>\n      <th>parameterStatusName</th>\n      <th>parameterName</th>\n      <th>cycle_first_listed</th>\n      <th>cycleLastAssessedText</th>\n      <th>cycle_scheduled_for_TMDL</th>\n      <th>assessment_date</th>\n    </tr>\n  </thead>\n  <tbody>\n    <tr>\n      <th>0</th>\n      <td>0</td>\n      <td>1</td>\n      <td>AL</td>\n      <td>21AWIC</td>\n      <td>State</td>\n      <td>2008</td>\n      <td>Historical</td>\n      <td>AL-Gulf-of-Mexico</td>\n      <td>NaN</td>\n      <td>Contact Recreation</td>\n      <td>F</td>\n      <td>N</td>\n      <td>Cause</td>\n      <td>MERCURY</td>\n      <td>2006.0</td>\n      <td>1998</td>\n      <td>2013.0</td>\n      <td>1998-04-01</td>\n    </tr>\n    <tr>\n      <th>1</th>\n      <td>1</td>\n      <td>2</td>\n      <td>AL</td>\n      <td>21AWIC</td>\n      <td>State</td>\n      <td>2008</td>\n      <td>Historical</td>\n      <td>AL-Gulf-of-Mexico</td>\n      <td>NaN</td>\n      <td>Fishing</td>\n      <td>N</td>\n      <td>N</td>\n      <td>Cause</td>\n      <td>MERCURY</td>\n      <td>2006.0</td>\n      <td>1998</td>\n      <td>2013.0</td>\n      <td>1998-04-01</td>\n    </tr>\n    <tr>\n      <th>2</th>\n      <td>2</td>\n      <td>3</td>\n      <td>AL</td>\n      <td>21AWIC</td>\n      <td>State</td>\n      <td>2008</td>\n      <td>Historical</td>\n      <td>AL-Gulf-of-Mexico</td>\n      <td>NaN</td>\n      <td>Propagation of Fish and Wildlife</td>\n      <td>F</td>\n      <td>N</td>\n      <td>Cause</td>\n      <td>MERCURY</td>\n      <td>2006.0</td>\n      <td>1998</td>\n      <td>2013.0</td>\n      <td>1998-04-01</td>\n    </tr>\n    <tr>\n      <th>3</th>\n      <td>3</td>\n      <td>4</td>\n      <td>AL</td>\n      <td>21AWIC</td>\n      <td>State</td>\n      <td>2008</td>\n      <td>Historical</td>\n      <td>AL-Gulf-of-Mexico</td>\n      <td>NaN</td>\n      <td>Shellfishing</td>\n      <td>N</td>\n      <td>N</td>\n      <td>Cause</td>\n      <td>MERCURY</td>\n      <td>2006.0</td>\n      <td>1998</td>\n      <td>2013.0</td>\n      <td>1998-04-01</td>\n    </tr>\n    <tr>\n      <th>4</th>\n      <td>4</td>\n      <td>5</td>\n      <td>AL</td>\n      <td>21AWIC</td>\n      <td>State</td>\n      <td>2008</td>\n      <td>Historical</td>\n      <td>AL-Gulf-of-Mexico</td>\n      <td>NaN</td>\n      <td>Industrial and Agriculture Uses</td>\n      <td>F</td>\n      <td>N</td>\n      <td>Cause</td>\n      <td>MERCURY</td>\n      <td>2006.0</td>\n      <td>1998</td>\n      <td>2013.0</td>\n      <td>1998-04-01</td>\n    </tr>\n  </tbody>\n</table>\n</div>"
     },
     "execution_count": 36,
     "metadata": {},
     "output_type": "execute_result"
    }
   ],
   "source": [
    "assessments = pd.read_csv('all_IR5_assessments.csv')\n",
    "assessments.head()"
   ],
   "metadata": {
    "collapsed": false,
    "pycharm": {
     "name": "#%%\n"
    }
   }
  },
  {
   "cell_type": "code",
   "execution_count": 44,
   "outputs": [
    {
     "data": {
      "text/plain": "564221"
     },
     "execution_count": 44,
     "metadata": {},
     "output_type": "execute_result"
    }
   ],
   "source": [
    "\n",
    "assessments_nonattainment = assessments[assessments['useAttainmentCode']=='N']\n",
    "assessments_nonattainment.drop_duplicates(subset=['assessmentUnitIdentifier', 'useName', 'reportingCycleText', 'assessment_date']).shape[0]"
   ],
   "metadata": {
    "collapsed": false,
    "pycharm": {
     "name": "#%%\n"
    }
   }
  },
  {
   "cell_type": "markdown",
   "source": [
    "### How many unique assessment units have been assigned category IR5?"
   ],
   "metadata": {
    "collapsed": false,
    "pycharm": {
     "name": "#%% md\n"
    }
   }
  },
  {
   "cell_type": "code",
   "execution_count": 45,
   "outputs": [
    {
     "data": {
      "text/plain": "126751"
     },
     "execution_count": 45,
     "metadata": {},
     "output_type": "execute_result"
    }
   ],
   "source": [
    "len(assessments['assessmentUnitIdentifier'].unique())"
   ],
   "metadata": {
    "collapsed": false,
    "pycharm": {
     "name": "#%%\n"
    }
   }
  },
  {
   "cell_type": "markdown",
   "source": [
    "### Which states have had the most use assessments leading to IR5 determinations?"
   ],
   "metadata": {
    "collapsed": false,
    "pycharm": {
     "name": "#%% md\n"
    }
   }
  },
  {
   "cell_type": "code",
   "execution_count": 46,
   "outputs": [
    {
     "data": {
      "text/plain": "PA    226200\nVA     27282\nNH     22287\nIN     19875\nMI     15928\nWV     14355\nMN     14161\nFL     12923\nNC     12718\nTN     12564\nCA     11523\nKY     11422\nNJ     11141\nOR     10842\nOK      9592\nMA      9164\nID      8943\nWA      8330\nKS      8263\nOH      7425\nMT      7320\nSC      6850\nTX      6672\nWI      5559\nIL      5378\nCT      4145\nCO      3816\nPR      3722\nAL      3661\nLA      3538\nIA      3255\nNM      2908\nHI      2620\nUT      2518\nGA      2511\nRI      2347\nNV      2293\nSD      2190\nNE      2003\nMS      1787\nVT      1761\nME      1665\nAR      1619\nMD      1419\nDE      1395\nMO      1237\nVI      1183\nAK       845\nAZ       782\nWY       750\nNY       664\nND       629\nGU       241\nName: state_code, dtype: int64"
     },
     "execution_count": 46,
     "metadata": {},
     "output_type": "execute_result"
    }
   ],
   "source": [
    "assessments_nonattainment.drop_duplicates(subset=['assessmentUnitIdentifier', 'useName', 'reportingCycleText', 'assessment_date'])['state_code'].value_counts()"
   ],
   "metadata": {
    "collapsed": false,
    "pycharm": {
     "name": "#%%\n"
    }
   }
  },
  {
   "cell_type": "markdown",
   "source": [
    "### Which states have had the highest rate of IR5 determinations per assessment unit?"
   ],
   "metadata": {
    "collapsed": false,
    "pycharm": {
     "name": "#%% md\n"
    }
   }
  },
  {
   "cell_type": "code",
   "execution_count": 55,
   "outputs": [],
   "source": [
    "# Get counts of assessment units in each state\n",
    "AU_counts = {}\n",
    "for state in assessments['state_code'].unique():\n",
    "    response = urlopen('https://attains.epa.gov/attains-public/api/assessmentUnits?stateCode=' + state + '&returnCountOnly=Y')\n",
    "    data = json.loads(response.read())['count']\n",
    "    AU_counts[state] = data"
   ],
   "metadata": {
    "collapsed": false,
    "pycharm": {
     "name": "#%%\n"
    }
   }
  },
  {
   "cell_type": "code",
   "execution_count": 70,
   "outputs": [],
   "source": [
    "rates = pd.DataFrame(assessments_nonattainment.drop_duplicates(subset=['assessmentUnitIdentifier', 'useName', 'reportingCycleText', 'assessment_date'])['state_code'].value_counts())\n",
    "rates = rates.reset_index().rename(columns = {'index':'state', 'state_code':'# IR5 use assessments'})\n",
    "rates['AUs'] = rates['state'].apply(lambda x: AU_counts[x])\n",
    "rates['IR5 use assessment rate'] = rates['# IR5 use assessments']/rates['AUs']"
   ],
   "metadata": {
    "collapsed": false,
    "pycharm": {
     "name": "#%%\n"
    }
   }
  },
  {
   "cell_type": "code",
   "execution_count": 75,
   "outputs": [
    {
     "data": {
      "text/plain": "   state  # IR5 use assessments   AUs  IR5 use assessment rate\n12    NJ                  11141   958                11.629436\n27    PR                   3722   358                10.396648\n46    VI                   1183   177                 6.683616\n29    LA                   3538   563                 6.284192\n20    MT                   7320  1203                 6.084788\n37    SD                   2190   400                 5.475000\n19    OH                   7425  1723                 4.309344\n18    KS                   8263  2421                 3.413052\n15    MA                   9164  2764                 3.315485\n36    NV                   2293   711                 3.225035",
      "text/html": "<div>\n<style scoped>\n    .dataframe tbody tr th:only-of-type {\n        vertical-align: middle;\n    }\n\n    .dataframe tbody tr th {\n        vertical-align: top;\n    }\n\n    .dataframe thead th {\n        text-align: right;\n    }\n</style>\n<table border=\"1\" class=\"dataframe\">\n  <thead>\n    <tr style=\"text-align: right;\">\n      <th></th>\n      <th>state</th>\n      <th># IR5 use assessments</th>\n      <th>AUs</th>\n      <th>IR5 use assessment rate</th>\n    </tr>\n  </thead>\n  <tbody>\n    <tr>\n      <th>12</th>\n      <td>NJ</td>\n      <td>11141</td>\n      <td>958</td>\n      <td>11.629436</td>\n    </tr>\n    <tr>\n      <th>27</th>\n      <td>PR</td>\n      <td>3722</td>\n      <td>358</td>\n      <td>10.396648</td>\n    </tr>\n    <tr>\n      <th>46</th>\n      <td>VI</td>\n      <td>1183</td>\n      <td>177</td>\n      <td>6.683616</td>\n    </tr>\n    <tr>\n      <th>29</th>\n      <td>LA</td>\n      <td>3538</td>\n      <td>563</td>\n      <td>6.284192</td>\n    </tr>\n    <tr>\n      <th>20</th>\n      <td>MT</td>\n      <td>7320</td>\n      <td>1203</td>\n      <td>6.084788</td>\n    </tr>\n    <tr>\n      <th>37</th>\n      <td>SD</td>\n      <td>2190</td>\n      <td>400</td>\n      <td>5.475000</td>\n    </tr>\n    <tr>\n      <th>19</th>\n      <td>OH</td>\n      <td>7425</td>\n      <td>1723</td>\n      <td>4.309344</td>\n    </tr>\n    <tr>\n      <th>18</th>\n      <td>KS</td>\n      <td>8263</td>\n      <td>2421</td>\n      <td>3.413052</td>\n    </tr>\n    <tr>\n      <th>15</th>\n      <td>MA</td>\n      <td>9164</td>\n      <td>2764</td>\n      <td>3.315485</td>\n    </tr>\n    <tr>\n      <th>36</th>\n      <td>NV</td>\n      <td>2293</td>\n      <td>711</td>\n      <td>3.225035</td>\n    </tr>\n  </tbody>\n</table>\n</div>"
     },
     "execution_count": 75,
     "metadata": {},
     "output_type": "execute_result"
    }
   ],
   "source": [
    "rates.sort_values(by='IR5 use assessment rate', ascending=False).iloc[0:10]"
   ],
   "metadata": {
    "collapsed": false,
    "pycharm": {
     "name": "#%%\n"
    }
   }
  },
  {
   "cell_type": "markdown",
   "source": [
    "### For what fraction of use assessments do we have an assessment date?"
   ],
   "metadata": {
    "collapsed": false,
    "pycharm": {
     "name": "#%% md\n"
    }
   }
  },
  {
   "cell_type": "code",
   "execution_count": 77,
   "outputs": [
    {
     "data": {
      "text/plain": "0.24028999680744875"
     },
     "execution_count": 77,
     "metadata": {},
     "output_type": "execute_result"
    }
   ],
   "source": [
    "use_assessments_unique = assessments.drop_duplicates(subset=['assessmentUnitIdentifier', 'useName', 'reportingCycleText', 'assessment_date'])\n",
    "use_assessments_unique[~pd.isna(use_assessments_unique['assessment_date'])].shape[0]/use_assessments_unique.shape[0]"
   ],
   "metadata": {
    "collapsed": false,
    "pycharm": {
     "name": "#%%\n"
    }
   }
  },
  {
   "cell_type": "markdown",
   "source": [
    "### What parameters have caused the most use non-attainment declarations?"
   ],
   "metadata": {
    "collapsed": false,
    "pycharm": {
     "name": "#%% md\n"
    }
   }
  },
  {
   "cell_type": "code",
   "execution_count": 78,
   "outputs": [
    {
     "data": {
      "text/plain": "ESCHERICHIA COLI (E. COLI)          0.077221\nPATHOGENS                           0.055360\nDISSOLVED OXYGEN                    0.050509\nPOLYCHLORINATED BIPHENYLS (PCBS)    0.044071\nPCBS IN FISH TISSUE                 0.044023\nFECAL COLIFORM                      0.037691\nSEDIMENTATION/SILTATION             0.035051\nMERCURY IN FISH TISSUE              0.034144\nSILTATION                           0.033814\nMERCURY                             0.030667\nName: parameterName, dtype: float64"
     },
     "execution_count": 78,
     "metadata": {},
     "output_type": "execute_result"
    }
   ],
   "source": [
    "assessments[assessments['parameterStatusName']=='Cause']['parameterName'].value_counts(normalize=True).iloc[0:10]"
   ],
   "metadata": {
    "collapsed": false,
    "pycharm": {
     "name": "#%%\n"
    }
   }
  },
  {
   "cell_type": "markdown",
   "source": [
    "### What parameters have caused the most assessment units to be categorized as IR5, irrespective of number of use non-attainment declarations?"
   ],
   "metadata": {
    "collapsed": false,
    "pycharm": {
     "name": "#%% md\n"
    }
   }
  },
  {
   "cell_type": "code",
   "execution_count": 86,
   "outputs": [
    {
     "data": {
      "text/plain": "PATHOGENS                           0.089291\nESCHERICHIA COLI (E. COLI)          0.075443\nSILTATION                           0.072346\nDISSOLVED OXYGEN                    0.045512\nPCBS IN FISH TISSUE                 0.037096\nMERCURY                             0.036874\nFECAL COLIFORM                      0.035271\nPOLYCHLORINATED BIPHENYLS (PCBS)    0.033996\nPH                                  0.032374\nCAUSE UNKNOWN                       0.031365\nName: parameterName, dtype: float64"
     },
     "execution_count": 86,
     "metadata": {},
     "output_type": "execute_result"
    }
   ],
   "source": [
    "IR5_culprits_unique = assessments.drop_duplicates(subset=['assessmentUnitIdentifier', 'reportingCycleText', 'assessment_date', 'parameterName'])\n",
    "\n",
    "IR5_culprits_unique[IR5_culprits_unique['parameterStatusName']=='Cause']['parameterName'].value_counts(normalize=True).iloc[0:10]"
   ],
   "metadata": {
    "collapsed": false,
    "pycharm": {
     "name": "#%%\n"
    }
   }
  },
  {
   "cell_type": "markdown",
   "source": [
    "### What uses have the highest rate of non-attainment?"
   ],
   "metadata": {
    "collapsed": false,
    "pycharm": {
     "name": "#%% md\n"
    }
   }
  },
  {
   "cell_type": "code",
   "execution_count": 87,
   "outputs": [
    {
     "data": {
      "text/plain": "Water Contact Sports            0.082313\nFish Consumption                0.059401\nFishing                         0.052269\nWarm Water Fishes               0.049517\nCold Water Fishes               0.043985\nAquatic Life                    0.032166\nPrimary Contact Recreation      0.029205\nRecreation                      0.027474\nTrout Stocking                  0.024389\nSecondary Contact Recreation    0.022256\nName: useName, dtype: float64"
     },
     "execution_count": 87,
     "metadata": {},
     "output_type": "execute_result"
    }
   ],
   "source": [
    "use_assessments_unique['useName'].value_counts(normalize=True).iloc[0:10]"
   ],
   "metadata": {
    "collapsed": false,
    "pycharm": {
     "name": "#%%\n"
    }
   }
  }
 ],
 "metadata": {
  "kernelspec": {
   "display_name": "Python 3",
   "language": "python",
   "name": "python3"
  },
  "language_info": {
   "codemirror_mode": {
    "name": "ipython",
    "version": 2
   },
   "file_extension": ".py",
   "mimetype": "text/x-python",
   "name": "python",
   "nbconvert_exporter": "python",
   "pygments_lexer": "ipython2",
   "version": "2.7.6"
  }
 },
 "nbformat": 4,
 "nbformat_minor": 0
}