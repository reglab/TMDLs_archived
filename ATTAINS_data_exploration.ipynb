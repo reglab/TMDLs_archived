{
 "cells": [
  {
   "cell_type": "markdown",
   "source": [
    "# ATTAINS DATA EXPLORATION\n",
    "<i> Ryan Treves\n",
    "\n",
    "Under the Clean Water Act (CWA) section 303(d), states and Tribes are required to monitor water bodies in their territory, and identify water bodies for which a water quality standard has not been met. To do this, they must conduct 'assessments' of water bodies based on whether that water body attains its water quality standard for a certain type of use (e.g., swimming, fishing). Water bodies are delineated into 'assessment units' for the purposes of organizing assessments. Based on the results of the assessment, an assessment unit is assigned an Integrated Reporting (IR) category from 1-5 based on the degree of impairment of the water body. An IR category 5 determination means that a TMDL should be developed for that assessment unit, and the water is 'impaired'. (See https://drive.google.com/drive/u/0/folders/1tGpCSD-3mRBChTC1PZStt5bdRljTK1ck for more details on IR category determination).\n",
    " Every two years (reporting cycles are biennial), states must submit their list of impaired waters (including but not limited to all waters with an IR category 5 determination) as a part of their Integrated Report (IR) to the federal EPA under  sections 303(d), 305(b), and 314.\n",
    "\n",
    "See https://www.epa.gov/wqs-tech/supplemental-module-listing-impaired-waters-and-developing-tmdls#tab-2  for more details.\n",
    "\n",
    "### Questions:\n",
    "- How many Assessment Units (AUs) exist nationwide?\n",
    "- For many AUs do we have a HUC code match?\n",
    "- How many use assessments nationwide, ever, have contributed to an IR5 category determination?\n",
    "- How many unique assessment units have been assigned category IR5?\n",
    "- Which states have had the most use assessments leading to IR5 determinations?\n",
    "- Which states have had the highest rate of IR5 determinations per assessment unit?\n",
    "- For what fraction of use assessments do we have an assessment date?\n",
    "- What parameters have caused the most use non-attainment declarations?\n",
    "- What parameters have caused the most assessment units to be categorized as IR5, irrespective of number of use non-attainment declarations?\n",
    "- What uses have the highest rate of non-attainment?\n",
    "\n",
    "Note: the dataset of AUs doesn't include Pennsylvania (see `ATTAINS_data_cleaning.ipynb` for an explanation)"
   ],
   "metadata": {
    "collapsed": false,
    "pycharm": {
     "name": "#%% md\n"
    }
   }
  },
  {
   "cell_type": "code",
   "execution_count": 27,
   "outputs": [],
   "source": [
    "import pandas as pd\n",
    "import matplotlib.pyplot as plt\n",
    "import json\n",
    "from urllib.request import urlopen\n",
    "import datetime as dt\n",
    "import warnings\n",
    "\n",
    "# Suppress warning messages\n",
    "warnings.filterwarnings('ignore')\n",
    "pd.options.display.max_columns = 200\n",
    "pd.options.display.max_rows = 2000\n",
    "# display all rows & columns\n",
    "pd.set_option('display.max_columns', None)\n",
    "pd.set_option('display.max_rows', None)"
   ],
   "metadata": {
    "collapsed": false,
    "pycharm": {
     "name": "#%%\n"
    }
   }
  },
  {
   "cell_type": "markdown",
   "source": [
    "# 1.  Assessment Units"
   ],
   "metadata": {
    "collapsed": false,
    "pycharm": {
     "name": "#%% md\n"
    }
   }
  },
  {
   "cell_type": "code",
   "execution_count": 28,
   "outputs": [],
   "source": [
    "# Load in national Assessment Unit (AU) data\n",
    "AUs = pd.read_csv('Clean_AU_data/all_AUs_cleaned.csv')"
   ],
   "metadata": {
    "collapsed": false,
    "pycharm": {
     "name": "#%%\n"
    }
   }
  },
  {
   "cell_type": "code",
   "execution_count": 29,
   "outputs": [
    {
     "data": {
      "text/plain": "   Unnamed: 0.1  Unnamed: 0                  AUID  \\\n0             0           0   WYGR140401040103_01   \n1             1           1   WYNP101800020105_02   \n2             2           2   WYBH100800140107_01   \n3             3           3   WYBH100800030108_02   \n4             4           4  WYGR140401040303 _01   \n\n  items.organizationIdentifier items.organizationName  \\\n0                      Wyoming                  State   \n1                      Wyoming                  State   \n2                      Wyoming                  State   \n3                      Wyoming                  State   \n4                      Wyoming                  State   \n\n  items.assessmentUnits.assessmentUnitIdentifier  \\\n0                          Lower Big Sandy River   \n1                                    Muddy Creek   \n2                                      Dry Gulch   \n3                         Little Popo Agie River   \n4                                  Pacific Creek   \n\n            items.assessmentUnits.assessmentUnitName  \\\n0  From the confluence with Squaw Creek downstrea...   \n1  Entire watershed upstream of the confluence wi...   \n2  From the confluence with the Shoshone River to...   \n3  From the confluence with the Popo Agie River u...   \n4  Confluence with Jack Morrow Creek upstream to ...   \n\n  items.assessmentUnits.agencyCode items.assessmentUnits.statusIndicator  \\\n0                               WY               {\\useClassCode\\\":\\\"85\\\"   \n1                               WY               {\\useClassCode\\\":\\\"85\\\"   \n2                               WY              {\\useClassCode\\\":\\\"117\\\"   \n3                               WY               {\\useClassCode\\\":\\\"85\\\"   \n4                               WY               {\\useClassCode\\\":\\\"85\\\"   \n\n     items.assessmentUnits.useClass  \\\n0  \\\"useClassName\\\":\\\"CLASS 2AB\\\"}\"   \n1  \\\"useClassName\\\":\\\"CLASS 2AB\\\"}\"   \n2   \\\"useClassName\\\":\\\"CLASS 3B\\\"}\"   \n3  \\\"useClassName\\\":\\\"CLASS 2AB\\\"}\"   \n4  \\\"useClassName\\\":\\\"CLASS 2AB\\\"}\"   \n\n  items.assessmentUnits.waterTypes.waterTypeCode  \\\n0                                         STREAM   \n1                                         STREAM   \n2                                         STREAM   \n3                                         STREAM   \n4                                         STREAM   \n\n  items.assessmentUnits.waterTypes.waterSizeNumber  \\\n0                                              2.1   \n1                                             44.5   \n2                                              0.5   \n3                                             11.1   \n4                                             13.8   \n\n  items.assessmentUnits.waterTypes.unitsCode  HUC-8  \\\n0                                      Miles    NaN   \n1                                      Miles    NaN   \n2                                      Miles    NaN   \n3                                      Miles    NaN   \n4                                      Miles    NaN   \n\n  items.organizationTypeText  HUC-12 count  \\\n0                        NaN     NaN   NaN   \n1                        NaN     NaN   NaN   \n2                        NaN     NaN   NaN   \n3                        NaN     NaN   NaN   \n4                        NaN     NaN   NaN   \n\n  items.assessmentUnits.locationDescriptionText  \\\n0                                           NaN   \n1                                           NaN   \n2                                           NaN   \n3                                           NaN   \n4                                           NaN   \n\n  items.assessmentUnits.stateCode  \\\n0                             NaN   \n1                             NaN   \n2                             NaN   \n3                             NaN   \n4                             NaN   \n\n  items.assessmentUnits.waterTypes.sizeEstimationMethodCode  \\\n0                                                NaN          \n1                                                NaN          \n2                                                NaN          \n3                                                NaN          \n4                                                NaN          \n\n  items.assessmentUnits.waterTypes.sizeSourceText  \\\n0                                             NaN   \n1                                             NaN   \n2                                             NaN   \n3                                             NaN   \n4                                             NaN   \n\n  items.assessmentUnits.waterTypes.sizeSourceScaleText  \\\n0                                                NaN     \n1                                                NaN     \n2                                                NaN     \n3                                                NaN     \n4                                                NaN     \n\n  items.assessmentUnits.monitoringStations.monitoringOrganizationIdentifier  \\\n0                                                NaN                          \n1                                                NaN                          \n2                                                NaN                          \n3                                                NaN                          \n4                                                NaN                          \n\n  items.assessmentUnits.monitoringStations.monitoringLocationIdentifier  \\\n0                                                NaN                      \n1                                                NaN                      \n2                                                NaN                      \n3                                                NaN                      \n4                                                NaN                      \n\n  items.assessmentUnits.monitoringStations.monitoringDataLinkText  \\\n0                                                NaN                \n1                                                NaN                \n2                                                NaN                \n3                                                NaN                \n4                                                NaN                \n\n  items.assessmentUnits.locations.locationTypeCode  \\\n0                                              NaN   \n1                                              NaN   \n2                                              NaN   \n3                                              NaN   \n4                                              NaN   \n\n   items.assessmentUnits.locations.locationText HUC-10  \n0                                           NaN    NaN  \n1                                           NaN    NaN  \n2                                           NaN    NaN  \n3                                           NaN    NaN  \n4                                           NaN    NaN  ",
      "text/html": "<div>\n<style scoped>\n    .dataframe tbody tr th:only-of-type {\n        vertical-align: middle;\n    }\n\n    .dataframe tbody tr th {\n        vertical-align: top;\n    }\n\n    .dataframe thead th {\n        text-align: right;\n    }\n</style>\n<table border=\"1\" class=\"dataframe\">\n  <thead>\n    <tr style=\"text-align: right;\">\n      <th></th>\n      <th>Unnamed: 0.1</th>\n      <th>Unnamed: 0</th>\n      <th>AUID</th>\n      <th>items.organizationIdentifier</th>\n      <th>items.organizationName</th>\n      <th>items.assessmentUnits.assessmentUnitIdentifier</th>\n      <th>items.assessmentUnits.assessmentUnitName</th>\n      <th>items.assessmentUnits.agencyCode</th>\n      <th>items.assessmentUnits.statusIndicator</th>\n      <th>items.assessmentUnits.useClass</th>\n      <th>items.assessmentUnits.waterTypes.waterTypeCode</th>\n      <th>items.assessmentUnits.waterTypes.waterSizeNumber</th>\n      <th>items.assessmentUnits.waterTypes.unitsCode</th>\n      <th>HUC-8</th>\n      <th>items.organizationTypeText</th>\n      <th>HUC-12</th>\n      <th>count</th>\n      <th>items.assessmentUnits.locationDescriptionText</th>\n      <th>items.assessmentUnits.stateCode</th>\n      <th>items.assessmentUnits.waterTypes.sizeEstimationMethodCode</th>\n      <th>items.assessmentUnits.waterTypes.sizeSourceText</th>\n      <th>items.assessmentUnits.waterTypes.sizeSourceScaleText</th>\n      <th>items.assessmentUnits.monitoringStations.monitoringOrganizationIdentifier</th>\n      <th>items.assessmentUnits.monitoringStations.monitoringLocationIdentifier</th>\n      <th>items.assessmentUnits.monitoringStations.monitoringDataLinkText</th>\n      <th>items.assessmentUnits.locations.locationTypeCode</th>\n      <th>items.assessmentUnits.locations.locationText</th>\n      <th>HUC-10</th>\n    </tr>\n  </thead>\n  <tbody>\n    <tr>\n      <th>0</th>\n      <td>0</td>\n      <td>0</td>\n      <td>WYGR140401040103_01</td>\n      <td>Wyoming</td>\n      <td>State</td>\n      <td>Lower Big Sandy River</td>\n      <td>From the confluence with Squaw Creek downstrea...</td>\n      <td>WY</td>\n      <td>{\\useClassCode\\\":\\\"85\\\"</td>\n      <td>\\\"useClassName\\\":\\\"CLASS 2AB\\\"}\"</td>\n      <td>STREAM</td>\n      <td>2.1</td>\n      <td>Miles</td>\n      <td>NaN</td>\n      <td>NaN</td>\n      <td>NaN</td>\n      <td>NaN</td>\n      <td>NaN</td>\n      <td>NaN</td>\n      <td>NaN</td>\n      <td>NaN</td>\n      <td>NaN</td>\n      <td>NaN</td>\n      <td>NaN</td>\n      <td>NaN</td>\n      <td>NaN</td>\n      <td>NaN</td>\n      <td>NaN</td>\n    </tr>\n    <tr>\n      <th>1</th>\n      <td>1</td>\n      <td>1</td>\n      <td>WYNP101800020105_02</td>\n      <td>Wyoming</td>\n      <td>State</td>\n      <td>Muddy Creek</td>\n      <td>Entire watershed upstream of the confluence wi...</td>\n      <td>WY</td>\n      <td>{\\useClassCode\\\":\\\"85\\\"</td>\n      <td>\\\"useClassName\\\":\\\"CLASS 2AB\\\"}\"</td>\n      <td>STREAM</td>\n      <td>44.5</td>\n      <td>Miles</td>\n      <td>NaN</td>\n      <td>NaN</td>\n      <td>NaN</td>\n      <td>NaN</td>\n      <td>NaN</td>\n      <td>NaN</td>\n      <td>NaN</td>\n      <td>NaN</td>\n      <td>NaN</td>\n      <td>NaN</td>\n      <td>NaN</td>\n      <td>NaN</td>\n      <td>NaN</td>\n      <td>NaN</td>\n      <td>NaN</td>\n    </tr>\n    <tr>\n      <th>2</th>\n      <td>2</td>\n      <td>2</td>\n      <td>WYBH100800140107_01</td>\n      <td>Wyoming</td>\n      <td>State</td>\n      <td>Dry Gulch</td>\n      <td>From the confluence with the Shoshone River to...</td>\n      <td>WY</td>\n      <td>{\\useClassCode\\\":\\\"117\\\"</td>\n      <td>\\\"useClassName\\\":\\\"CLASS 3B\\\"}\"</td>\n      <td>STREAM</td>\n      <td>0.5</td>\n      <td>Miles</td>\n      <td>NaN</td>\n      <td>NaN</td>\n      <td>NaN</td>\n      <td>NaN</td>\n      <td>NaN</td>\n      <td>NaN</td>\n      <td>NaN</td>\n      <td>NaN</td>\n      <td>NaN</td>\n      <td>NaN</td>\n      <td>NaN</td>\n      <td>NaN</td>\n      <td>NaN</td>\n      <td>NaN</td>\n      <td>NaN</td>\n    </tr>\n    <tr>\n      <th>3</th>\n      <td>3</td>\n      <td>3</td>\n      <td>WYBH100800030108_02</td>\n      <td>Wyoming</td>\n      <td>State</td>\n      <td>Little Popo Agie River</td>\n      <td>From the confluence with the Popo Agie River u...</td>\n      <td>WY</td>\n      <td>{\\useClassCode\\\":\\\"85\\\"</td>\n      <td>\\\"useClassName\\\":\\\"CLASS 2AB\\\"}\"</td>\n      <td>STREAM</td>\n      <td>11.1</td>\n      <td>Miles</td>\n      <td>NaN</td>\n      <td>NaN</td>\n      <td>NaN</td>\n      <td>NaN</td>\n      <td>NaN</td>\n      <td>NaN</td>\n      <td>NaN</td>\n      <td>NaN</td>\n      <td>NaN</td>\n      <td>NaN</td>\n      <td>NaN</td>\n      <td>NaN</td>\n      <td>NaN</td>\n      <td>NaN</td>\n      <td>NaN</td>\n    </tr>\n    <tr>\n      <th>4</th>\n      <td>4</td>\n      <td>4</td>\n      <td>WYGR140401040303 _01</td>\n      <td>Wyoming</td>\n      <td>State</td>\n      <td>Pacific Creek</td>\n      <td>Confluence with Jack Morrow Creek upstream to ...</td>\n      <td>WY</td>\n      <td>{\\useClassCode\\\":\\\"85\\\"</td>\n      <td>\\\"useClassName\\\":\\\"CLASS 2AB\\\"}\"</td>\n      <td>STREAM</td>\n      <td>13.8</td>\n      <td>Miles</td>\n      <td>NaN</td>\n      <td>NaN</td>\n      <td>NaN</td>\n      <td>NaN</td>\n      <td>NaN</td>\n      <td>NaN</td>\n      <td>NaN</td>\n      <td>NaN</td>\n      <td>NaN</td>\n      <td>NaN</td>\n      <td>NaN</td>\n      <td>NaN</td>\n      <td>NaN</td>\n      <td>NaN</td>\n      <td>NaN</td>\n    </tr>\n  </tbody>\n</table>\n</div>"
     },
     "execution_count": 29,
     "metadata": {},
     "output_type": "execute_result"
    }
   ],
   "source": [
    "AUs.head()"
   ],
   "metadata": {
    "collapsed": false,
    "pycharm": {
     "name": "#%%\n"
    }
   }
  },
  {
   "cell_type": "markdown",
   "source": [
    "### How many Assessment Units (AUs) exist nationwide?\n",
    "Note: this estimate doesn't include Pennsylvania, which according to https://attains.epa.gov/attains-public/api/assessmentUnits?stateCode=PA&returnCountOnly=Y contains on the order of 200,000 AUs on its own."
   ],
   "metadata": {
    "collapsed": false,
    "pycharm": {
     "name": "#%% md\n"
    }
   }
  },
  {
   "cell_type": "code",
   "execution_count": 30,
   "outputs": [
    {
     "data": {
      "text/plain": "331553"
     },
     "execution_count": 30,
     "metadata": {},
     "output_type": "execute_result"
    }
   ],
   "source": [
    "len(AUs['AUID'].unique())"
   ],
   "metadata": {
    "collapsed": false,
    "pycharm": {
     "name": "#%%\n"
    }
   }
  },
  {
   "cell_type": "markdown",
   "source": [
    "### For many AUs do we have a HUC code match?"
   ],
   "metadata": {
    "collapsed": false,
    "pycharm": {
     "name": "#%% md\n"
    }
   }
  },
  {
   "cell_type": "code",
   "execution_count": 31,
   "outputs": [
    {
     "data": {
      "text/plain": "99534"
     },
     "execution_count": 31,
     "metadata": {},
     "output_type": "execute_result"
    }
   ],
   "source": [
    "AUs[(~pd.isna(AUs['HUC-12'])) | (~pd.isna(AUs['HUC-10'])) | (~pd.isna(AUs['HUC-8']))].shape[0]"
   ],
   "metadata": {
    "collapsed": false,
    "pycharm": {
     "name": "#%%\n"
    }
   }
  },
  {
   "cell_type": "markdown",
   "source": [
    "Note - that fact that we don't have HUC code matches for every AU may not be as big an issue as it seems."
   ],
   "metadata": {
    "collapsed": false,
    "pycharm": {
     "name": "#%% md\n"
    }
   }
  },
  {
   "cell_type": "markdown",
   "source": [
    "### Does a single water body ever have more than one AUID on record?"
   ],
   "metadata": {
    "collapsed": false,
    "pycharm": {
     "name": "#%% md\n"
    }
   }
  },
  {
   "cell_type": "code",
   "execution_count": 32,
   "outputs": [],
   "source": [
    "counts = AUs.groupby(['items.assessmentUnits.assessmentUnitName', 'items.assessmentUnits.assessmentUnitIdentifier'], as_index=False).nunique()\n",
    "changed_AUIDs = counts[counts['AUID']>1][['items.assessmentUnits.assessmentUnitName', 'items.assessmentUnits.assessmentUnitIdentifier']]"
   ],
   "metadata": {
    "collapsed": false,
    "pycharm": {
     "name": "#%%\n"
    }
   }
  },
  {
   "cell_type": "code",
   "execution_count": 33,
   "outputs": [
    {
     "data": {
      "text/plain": "             items.assessmentUnits.assessmentUnitName  \\\n0   Aarons Creek from the confluence with Big Bran...   \n2   Aarons Creek from the confluence with Big Bran...   \n3                                             Abenaki   \n4                                             Abenaki   \n5                        All waters in watershed L33R   \n7                        All waters in watershed L33R   \n8   Allen Creek from its headwaters to its mouth o...   \n9   Allen Creek from its headwaters to its mouth o...   \n11                                            Amherst   \n12                                            Amherst   \n13  An unnamed tributary of Hurricane Branch from ...   \n14  An unnamed tributary of Hurricane Branch from ...   \n16             An unnamed tributary to Frisby Branch.   \n18             An unnamed tributary to Frisby Branch.   \n19  An unnamed tributary to the Big Otter River fr...   \n21  An unnamed tributary to the Big Otter River fr...   \n22  An unnamed tributary to the Roanoke (Staunton)...   \n23  An unnamed tributary to the Roanoke (Staunton)...   \n25  An unnamed tributary to the Roanoke (Staunton)...   \n26  An unnamed tributary to the Roanoke (Staunton)...   \n\n   items.assessmentUnits.assessmentUnitIdentifier               AUID  HUC-12  \n0                                    Aarons Creek  VAC-L73R_AAR01A00     NaN  \n2                                    Aarons Creek  VAW-L73R_AAR01A00     NaN  \n3                                         ABENAKI      VT14-03L03_02     NaN  \n4                                         ABENAKI      VT14-03L03_01     NaN  \n5            Unsegmented Portion of Watershed L33  VAC-L33R_ZZZ01A00     NaN  \n7            Unsegmented Portion of Watershed L33  VAW-L33R_ZZZ01A00     NaN  \n8                                     Allen Creek  VAW-L67R_ALL01A08     NaN  \n9                                     Allen Creek  VAC-L67R_ALL01A08     NaN  \n11                                        AMHERST      VT10-15L02_01     NaN  \n12                                        AMHERST      VT10-15L02_02     NaN  \n13            Hurricane Branch, Unnamed Tributary  VAP-K16R_XBL02A02     NaN  \n14            Hurricane Branch, Unnamed Tributary  VAC-K16R_XBL02A02     NaN  \n16               Frisby Branch, Unnamed Tributary  VAC-H21R_XQL01A00     NaN  \n18               Frisby Branch, Unnamed Tributary  VAP-H21R_XQL01A00     NaN  \n19             Big Otter River, Unnamed Tributary  VAC-L28R_XMA01A02     NaN  \n21             Big Otter River, Unnamed Tributary  VAW-L28R_XMA01A02     NaN  \n22    Roanoke (Staunton) River, Unnamed Tributary  VAW-L19R_XCN01A02     NaN  \n23    Roanoke (Staunton) River, Unnamed Tributary  VAC-L19R_XCN01A02     NaN  \n25    Roanoke (Staunton) River, Unnamed Tributary  VAW-L30R_XMH01A02     NaN  \n26    Roanoke (Staunton) River, Unnamed Tributary  VAC-L30R_XMH01A02     NaN  ",
      "text/html": "<div>\n<style scoped>\n    .dataframe tbody tr th:only-of-type {\n        vertical-align: middle;\n    }\n\n    .dataframe tbody tr th {\n        vertical-align: top;\n    }\n\n    .dataframe thead th {\n        text-align: right;\n    }\n</style>\n<table border=\"1\" class=\"dataframe\">\n  <thead>\n    <tr style=\"text-align: right;\">\n      <th></th>\n      <th>items.assessmentUnits.assessmentUnitName</th>\n      <th>items.assessmentUnits.assessmentUnitIdentifier</th>\n      <th>AUID</th>\n      <th>HUC-12</th>\n    </tr>\n  </thead>\n  <tbody>\n    <tr>\n      <th>0</th>\n      <td>Aarons Creek from the confluence with Big Bran...</td>\n      <td>Aarons Creek</td>\n      <td>VAC-L73R_AAR01A00</td>\n      <td>NaN</td>\n    </tr>\n    <tr>\n      <th>2</th>\n      <td>Aarons Creek from the confluence with Big Bran...</td>\n      <td>Aarons Creek</td>\n      <td>VAW-L73R_AAR01A00</td>\n      <td>NaN</td>\n    </tr>\n    <tr>\n      <th>3</th>\n      <td>Abenaki</td>\n      <td>ABENAKI</td>\n      <td>VT14-03L03_02</td>\n      <td>NaN</td>\n    </tr>\n    <tr>\n      <th>4</th>\n      <td>Abenaki</td>\n      <td>ABENAKI</td>\n      <td>VT14-03L03_01</td>\n      <td>NaN</td>\n    </tr>\n    <tr>\n      <th>5</th>\n      <td>All waters in watershed L33R</td>\n      <td>Unsegmented Portion of Watershed L33</td>\n      <td>VAC-L33R_ZZZ01A00</td>\n      <td>NaN</td>\n    </tr>\n    <tr>\n      <th>7</th>\n      <td>All waters in watershed L33R</td>\n      <td>Unsegmented Portion of Watershed L33</td>\n      <td>VAW-L33R_ZZZ01A00</td>\n      <td>NaN</td>\n    </tr>\n    <tr>\n      <th>8</th>\n      <td>Allen Creek from its headwaters to its mouth o...</td>\n      <td>Allen Creek</td>\n      <td>VAW-L67R_ALL01A08</td>\n      <td>NaN</td>\n    </tr>\n    <tr>\n      <th>9</th>\n      <td>Allen Creek from its headwaters to its mouth o...</td>\n      <td>Allen Creek</td>\n      <td>VAC-L67R_ALL01A08</td>\n      <td>NaN</td>\n    </tr>\n    <tr>\n      <th>11</th>\n      <td>Amherst</td>\n      <td>AMHERST</td>\n      <td>VT10-15L02_01</td>\n      <td>NaN</td>\n    </tr>\n    <tr>\n      <th>12</th>\n      <td>Amherst</td>\n      <td>AMHERST</td>\n      <td>VT10-15L02_02</td>\n      <td>NaN</td>\n    </tr>\n    <tr>\n      <th>13</th>\n      <td>An unnamed tributary of Hurricane Branch from ...</td>\n      <td>Hurricane Branch, Unnamed Tributary</td>\n      <td>VAP-K16R_XBL02A02</td>\n      <td>NaN</td>\n    </tr>\n    <tr>\n      <th>14</th>\n      <td>An unnamed tributary of Hurricane Branch from ...</td>\n      <td>Hurricane Branch, Unnamed Tributary</td>\n      <td>VAC-K16R_XBL02A02</td>\n      <td>NaN</td>\n    </tr>\n    <tr>\n      <th>16</th>\n      <td>An unnamed tributary to Frisby Branch.</td>\n      <td>Frisby Branch, Unnamed Tributary</td>\n      <td>VAC-H21R_XQL01A00</td>\n      <td>NaN</td>\n    </tr>\n    <tr>\n      <th>18</th>\n      <td>An unnamed tributary to Frisby Branch.</td>\n      <td>Frisby Branch, Unnamed Tributary</td>\n      <td>VAP-H21R_XQL01A00</td>\n      <td>NaN</td>\n    </tr>\n    <tr>\n      <th>19</th>\n      <td>An unnamed tributary to the Big Otter River fr...</td>\n      <td>Big Otter River, Unnamed Tributary</td>\n      <td>VAC-L28R_XMA01A02</td>\n      <td>NaN</td>\n    </tr>\n    <tr>\n      <th>21</th>\n      <td>An unnamed tributary to the Big Otter River fr...</td>\n      <td>Big Otter River, Unnamed Tributary</td>\n      <td>VAW-L28R_XMA01A02</td>\n      <td>NaN</td>\n    </tr>\n    <tr>\n      <th>22</th>\n      <td>An unnamed tributary to the Roanoke (Staunton)...</td>\n      <td>Roanoke (Staunton) River, Unnamed Tributary</td>\n      <td>VAW-L19R_XCN01A02</td>\n      <td>NaN</td>\n    </tr>\n    <tr>\n      <th>23</th>\n      <td>An unnamed tributary to the Roanoke (Staunton)...</td>\n      <td>Roanoke (Staunton) River, Unnamed Tributary</td>\n      <td>VAC-L19R_XCN01A02</td>\n      <td>NaN</td>\n    </tr>\n    <tr>\n      <th>25</th>\n      <td>An unnamed tributary to the Roanoke (Staunton)...</td>\n      <td>Roanoke (Staunton) River, Unnamed Tributary</td>\n      <td>VAW-L30R_XMH01A02</td>\n      <td>NaN</td>\n    </tr>\n    <tr>\n      <th>26</th>\n      <td>An unnamed tributary to the Roanoke (Staunton)...</td>\n      <td>Roanoke (Staunton) River, Unnamed Tributary</td>\n      <td>VAC-L30R_XMH01A02</td>\n      <td>NaN</td>\n    </tr>\n  </tbody>\n</table>\n</div>"
     },
     "execution_count": 33,
     "metadata": {},
     "output_type": "execute_result"
    }
   ],
   "source": [
    "changed_AUIDs = changed_AUIDs.merge(AUs[['AUID', 'HUC-12', 'items.assessmentUnits.assessmentUnitName', 'items.assessmentUnits.assessmentUnitIdentifier']], on=['items.assessmentUnits.assessmentUnitName', 'items.assessmentUnits.assessmentUnitIdentifier'], how='left').drop_duplicates()\n",
    "changed_AUIDs.head(20)"
   ],
   "metadata": {
    "collapsed": false,
    "pycharm": {
     "name": "#%%\n"
    }
   }
  },
  {
   "cell_type": "markdown",
   "source": [
    "Cross-referencing these records with the assessments file below, it appears that many of the examples in the table above represent water bodies in Virginia that underwent a AUID change in 2018 from using the 'VAC' prefix to using 'VAP' or 'VAW' (maybe this has to do with a change to the state's segmentation methodology?). Similar renamings may have occurred in CT, RI, MD, and MO.\n",
    "Other examples seem to be distinct water bodies that happen to share the same `items.assessmentUnits.assessmentUnitName` and `items.assessmentUnits.assessmentUnitIdentifier` values - in some cases, because they are unnamed tributaries or unsegmented portions of watersheds, in other cases, because names are not specific. This appears to be the case for the examples from Alabama.\n",
    "Some examples from Vermont use a two-digit 'Assessment Database segment code' suffix for \"EPA tracking purposes\" (e.g., VT17-01L01_01 and VT17-01L01_02, see https://www.epa.gov/sites/default/files/2019-02/documents/2018-vt-303d-list-report.pdf)"
   ],
   "metadata": {
    "collapsed": false,
    "pycharm": {
     "name": "#%% md\n"
    }
   }
  },
  {
   "cell_type": "markdown",
   "source": [
    "# 2. Assessments\n",
    "Source: `pull_NotSupporting_assessments.R`"
   ],
   "metadata": {
    "collapsed": false,
    "pycharm": {
     "name": "#%% md\n"
    }
   }
  },
  {
   "cell_type": "code",
   "execution_count": 34,
   "outputs": [
    {
     "data": {
      "text/plain": "   Unnamed: 0 state_code organizationIdentifier organizationTypeText  \\\n0           1         AL                 21AWIC                State   \n1           2         AL                 21AWIC                State   \n2           3         AL                 21AWIC                State   \n3           4         AL                 21AWIC                State   \n4           5         AL                 21AWIC                State   \n\n  reportingCycleText assessmentUnitIdentifier  \\\n0               2004        AL-Gulf of Mexico   \n1               2004        AL-Gulf of Mexico   \n2               2004        AL-Gulf of Mexico   \n3               2004        AL-Gulf of Mexico   \n4               2004        AL-Gulf of Mexico   \n\n                            useName useAttainmentCode epaIRCategory  \\\n0                Contact Recreation                 N           NaN   \n1                Contact Recreation                 N           NaN   \n2                           Fishing                 N           NaN   \n3                           Fishing                 N           NaN   \n4  Propagation of Fish and Wildlife                 N           NaN   \n\n  associatedActionIdentifier threatenedIndicator parameterStatusName  \\\n0                        NaN                   N               Cause   \n1                        NaN                   N               Cause   \n2                        NaN                   N               Cause   \n3                        NaN                   N               Cause   \n4                        NaN                   N               Cause   \n\n  parameterName  cycle_first_listed  cycleLastAssessedText  \\\n0       MERCURY              2004.0                   2002   \n1        METALS              2004.0                   2002   \n2       MERCURY              2004.0                   2002   \n3        METALS              2004.0                   2002   \n4       MERCURY              2004.0                   2002   \n\n   cycle_scheduled_for_TMDL assessment_date  \n0                       NaN             NaT  \n1                       NaN             NaT  \n2                       NaN             NaT  \n3                       NaN             NaT  \n4                       NaN             NaT  ",
      "text/html": "<div>\n<style scoped>\n    .dataframe tbody tr th:only-of-type {\n        vertical-align: middle;\n    }\n\n    .dataframe tbody tr th {\n        vertical-align: top;\n    }\n\n    .dataframe thead th {\n        text-align: right;\n    }\n</style>\n<table border=\"1\" class=\"dataframe\">\n  <thead>\n    <tr style=\"text-align: right;\">\n      <th></th>\n      <th>Unnamed: 0</th>\n      <th>state_code</th>\n      <th>organizationIdentifier</th>\n      <th>organizationTypeText</th>\n      <th>reportingCycleText</th>\n      <th>assessmentUnitIdentifier</th>\n      <th>useName</th>\n      <th>useAttainmentCode</th>\n      <th>epaIRCategory</th>\n      <th>associatedActionIdentifier</th>\n      <th>threatenedIndicator</th>\n      <th>parameterStatusName</th>\n      <th>parameterName</th>\n      <th>cycle_first_listed</th>\n      <th>cycleLastAssessedText</th>\n      <th>cycle_scheduled_for_TMDL</th>\n      <th>assessment_date</th>\n    </tr>\n  </thead>\n  <tbody>\n    <tr>\n      <th>0</th>\n      <td>1</td>\n      <td>AL</td>\n      <td>21AWIC</td>\n      <td>State</td>\n      <td>2004</td>\n      <td>AL-Gulf of Mexico</td>\n      <td>Contact Recreation</td>\n      <td>N</td>\n      <td>NaN</td>\n      <td>NaN</td>\n      <td>N</td>\n      <td>Cause</td>\n      <td>MERCURY</td>\n      <td>2004.0</td>\n      <td>2002</td>\n      <td>NaN</td>\n      <td>NaT</td>\n    </tr>\n    <tr>\n      <th>1</th>\n      <td>2</td>\n      <td>AL</td>\n      <td>21AWIC</td>\n      <td>State</td>\n      <td>2004</td>\n      <td>AL-Gulf of Mexico</td>\n      <td>Contact Recreation</td>\n      <td>N</td>\n      <td>NaN</td>\n      <td>NaN</td>\n      <td>N</td>\n      <td>Cause</td>\n      <td>METALS</td>\n      <td>2004.0</td>\n      <td>2002</td>\n      <td>NaN</td>\n      <td>NaT</td>\n    </tr>\n    <tr>\n      <th>2</th>\n      <td>3</td>\n      <td>AL</td>\n      <td>21AWIC</td>\n      <td>State</td>\n      <td>2004</td>\n      <td>AL-Gulf of Mexico</td>\n      <td>Fishing</td>\n      <td>N</td>\n      <td>NaN</td>\n      <td>NaN</td>\n      <td>N</td>\n      <td>Cause</td>\n      <td>MERCURY</td>\n      <td>2004.0</td>\n      <td>2002</td>\n      <td>NaN</td>\n      <td>NaT</td>\n    </tr>\n    <tr>\n      <th>3</th>\n      <td>4</td>\n      <td>AL</td>\n      <td>21AWIC</td>\n      <td>State</td>\n      <td>2004</td>\n      <td>AL-Gulf of Mexico</td>\n      <td>Fishing</td>\n      <td>N</td>\n      <td>NaN</td>\n      <td>NaN</td>\n      <td>N</td>\n      <td>Cause</td>\n      <td>METALS</td>\n      <td>2004.0</td>\n      <td>2002</td>\n      <td>NaN</td>\n      <td>NaT</td>\n    </tr>\n    <tr>\n      <th>4</th>\n      <td>5</td>\n      <td>AL</td>\n      <td>21AWIC</td>\n      <td>State</td>\n      <td>2004</td>\n      <td>AL-Gulf of Mexico</td>\n      <td>Propagation of Fish and Wildlife</td>\n      <td>N</td>\n      <td>NaN</td>\n      <td>NaN</td>\n      <td>N</td>\n      <td>Cause</td>\n      <td>MERCURY</td>\n      <td>2004.0</td>\n      <td>2002</td>\n      <td>NaN</td>\n      <td>NaT</td>\n    </tr>\n  </tbody>\n</table>\n</div>"
     },
     "execution_count": 34,
     "metadata": {},
     "output_type": "execute_result"
    }
   ],
   "source": [
    "assessments = pd.read_csv('all_NotSupporting_assessments.csv', dtype={'reportingCycleText': str}, parse_dates=['assessment_date'], date_parser=lambda t: pd.to_datetime(t, errors='coerce'))\n",
    "assessments.head()"
   ],
   "metadata": {
    "collapsed": false,
    "pycharm": {
     "name": "#%%\n"
    }
   }
  },
  {
   "cell_type": "code",
   "execution_count": 35,
   "outputs": [
    {
     "data": {
      "text/plain": "3960114"
     },
     "execution_count": 35,
     "metadata": {},
     "output_type": "execute_result"
    }
   ],
   "source": [
    "len(assessments)"
   ],
   "metadata": {
    "collapsed": false,
    "pycharm": {
     "name": "#%%\n"
    }
   }
  },
  {
   "cell_type": "markdown",
   "source": [
    "### How many use assessments nationwide, ever, have contributed to a 'Not Supporting' determination?\n",
    "From here on, 'impaired' = received a 'Not Supporting' determination for any use. One assessment unit can be impaired by having multiple impairments - e.g., multiple chemicals (parameters) or multiple uses or both.\n",
    "Here, a use assessment is uniquely identified by assessmentUnitIdentifier + useName + parameterName + reportingCycleText + assessment_date"
   ],
   "metadata": {
    "collapsed": false,
    "pycharm": {
     "name": "#%% md\n"
    }
   }
  },
  {
   "cell_type": "code",
   "execution_count": 36,
   "outputs": [
    {
     "data": {
      "text/plain": "3699477"
     },
     "execution_count": 36,
     "metadata": {},
     "output_type": "execute_result"
    }
   ],
   "source": [
    "assessments.drop_duplicates(subset=['assessmentUnitIdentifier', 'useName', 'reportingCycleText', 'parameterName', 'assessment_date']).shape[0]"
   ],
   "metadata": {
    "collapsed": false,
    "pycharm": {
     "name": "#%%\n"
    }
   }
  },
  {
   "cell_type": "markdown",
   "source": [
    "These numbers are different because the assessments table contains one row per use assessment x TMDL instance, and some use assessments are associated with multiple TMDLs from different years."
   ],
   "metadata": {
    "collapsed": false,
    "pycharm": {
     "name": "#%% md\n"
    }
   }
  },
  {
   "cell_type": "markdown",
   "source": [
    "### What proportion of assessments have been associated with multiple TMDLs?"
   ],
   "metadata": {
    "collapsed": false,
    "pycharm": {
     "name": "#%% md\n"
    }
   }
  },
  {
   "cell_type": "code",
   "execution_count": 37,
   "outputs": [
    {
     "data": {
      "text/plain": "False    0.934184\nTrue     0.065816\ndtype: float64"
     },
     "execution_count": 37,
     "metadata": {},
     "output_type": "execute_result"
    }
   ],
   "source": [
    "assessments.duplicated(subset=['assessmentUnitIdentifier', 'useName', 'reportingCycleText', 'parameterName', 'assessment_date']).value_counts(normalize=True)"
   ],
   "metadata": {
    "collapsed": false,
    "pycharm": {
     "name": "#%%\n"
    }
   }
  },
  {
   "cell_type": "markdown",
   "source": [
    "### What proportion of all assessment units have been associated with multiple TMDLs?"
   ],
   "metadata": {
    "collapsed": false,
    "pycharm": {
     "name": "#%% md\n"
    }
   }
  },
  {
   "cell_type": "code",
   "execution_count": 38,
   "outputs": [
    {
     "data": {
      "text/plain": "0.24237452232373105"
     },
     "execution_count": 38,
     "metadata": {},
     "output_type": "execute_result"
    }
   ],
   "source": [
    "len(assessments[assessments.duplicated(subset=['assessmentUnitIdentifier', 'associatedActionIdentifier'])].dropna(subset='associatedActionIdentifier').drop_duplicates('assessmentUnitIdentifier'))/len(AUs['AUID'].unique())"
   ],
   "metadata": {
    "collapsed": false,
    "pycharm": {
     "name": "#%%\n"
    }
   }
  },
  {
   "cell_type": "markdown",
   "source": [
    "### How many unique assessment units have been impaired?"
   ],
   "metadata": {
    "collapsed": false,
    "pycharm": {
     "name": "#%% md\n"
    }
   }
  },
  {
   "cell_type": "code",
   "execution_count": 39,
   "outputs": [
    {
     "data": {
      "text/plain": "220326"
     },
     "execution_count": 39,
     "metadata": {},
     "output_type": "execute_result"
    }
   ],
   "source": [
    "len(assessments['assessmentUnitIdentifier'].unique())"
   ],
   "metadata": {
    "collapsed": false,
    "pycharm": {
     "name": "#%%\n"
    }
   }
  },
  {
   "cell_type": "markdown",
   "source": [
    "### Which states have had the most use assessments leading to impairments?"
   ],
   "metadata": {
    "collapsed": false,
    "pycharm": {
     "name": "#%% md\n"
    }
   }
  },
  {
   "cell_type": "code",
   "execution_count": 40,
   "outputs": [
    {
     "data": {
      "text/plain": "state_code\nPA            0.150262\nNH            0.136518\nKS            0.086511\nCA            0.060322\nVA            0.058579\nFL            0.050741\nNJ            0.044158\nOR            0.038471\nWV            0.033967\nNV            0.027243\nIN            0.023406\nMI            0.022562\nWA            0.020319\nMT            0.017350\nNC            0.016956\nMN            0.016645\nID            0.015851\nOH            0.015627\nMA            0.013891\nTN            0.013100\nIL            0.011953\nTX            0.010832\nOK            0.010769\nWI            0.010639\nKY            0.010069\nAR            0.008470\nLA            0.005192\nSC            0.005006\nPR            0.004974\nCT            0.004763\nVT            0.004592\nGA            0.004165\nAL            0.004144\nSD            0.004061\nIA            0.003507\nCO            0.003328\nHI            0.003304\nNM            0.003031\nMO            0.002970\nNE            0.002884\nRI            0.002796\nDE            0.002290\nMS            0.002075\nUT            0.002032\nMD            0.002009\nME            0.001889\nAZ            0.001739\nAK            0.001448\nVI            0.001073\nND            0.000620\nWY            0.000480\nNY            0.000418\ndtype: float64"
     },
     "execution_count": 40,
     "metadata": {},
     "output_type": "execute_result"
    }
   ],
   "source": [
    "assessments.drop_duplicates(subset=['assessmentUnitIdentifier', 'useName', 'reportingCycleText',  'parameterName', 'assessment_date'])[['state_code']].value_counts(normalize=True)"
   ],
   "metadata": {
    "collapsed": false,
    "pycharm": {
     "name": "#%%\n"
    }
   }
  },
  {
   "cell_type": "markdown",
   "source": [
    "### Which states have the highest and lowest rates of impairments per assessment unit?"
   ],
   "metadata": {
    "collapsed": false,
    "pycharm": {
     "name": "#%% md\n"
    }
   }
  },
  {
   "cell_type": "code",
   "execution_count": 41,
   "outputs": [],
   "source": [
    "# Get counts of assessment units in each state\n",
    "AU_counts = {}\n",
    "for state in assessments['state_code'].unique():\n",
    "    response = urlopen('https://attains.epa.gov/attains-public/api/assessmentUnits?stateCode=' + state + '&returnCountOnly=Y')\n",
    "    data = json.loads(response.read())['count']\n",
    "    AU_counts[state] = data"
   ],
   "metadata": {
    "collapsed": false,
    "pycharm": {
     "name": "#%%\n"
    }
   }
  },
  {
   "cell_type": "code",
   "execution_count": 42,
   "outputs": [],
   "source": [
    "rates = pd.DataFrame(assessments.drop_duplicates(subset=['assessmentUnitIdentifier', 'useName',  'parameterName', 'reportingCycleText', 'assessment_date'])['state_code'].value_counts())\n",
    "rates = rates.reset_index().rename(columns = {'index':'state', 'state_code':'# impairments'})\n",
    "rates['AUs'] = rates['state'].apply(lambda x: AU_counts[x])\n",
    "rates['Impairment rate'] = rates['# impairments']/rates['AUs']"
   ],
   "metadata": {
    "collapsed": false,
    "pycharm": {
     "name": "#%%\n"
    }
   }
  },
  {
   "cell_type": "code",
   "execution_count": 43,
   "outputs": [
    {
     "data": {
      "text/plain": "   state  # impairments   AUs  Impairment rate\n6     NJ         163360   958       170.521921\n9     NV         100786   711       141.752461\n2     KS         320045  2421       132.195374\n3     CA         223161  4068        54.857670\n13    MT          64186  1203        53.354946\n28    PR          18403   358        51.405028\n33    SD          15022   400        37.555000\n26    LA          19206   563        34.113677\n17    OH          57812  1723        33.553105\n5     FL         187714  7072        26.543269",
      "text/html": "<div>\n<style scoped>\n    .dataframe tbody tr th:only-of-type {\n        vertical-align: middle;\n    }\n\n    .dataframe tbody tr th {\n        vertical-align: top;\n    }\n\n    .dataframe thead th {\n        text-align: right;\n    }\n</style>\n<table border=\"1\" class=\"dataframe\">\n  <thead>\n    <tr style=\"text-align: right;\">\n      <th></th>\n      <th>state</th>\n      <th># impairments</th>\n      <th>AUs</th>\n      <th>Impairment rate</th>\n    </tr>\n  </thead>\n  <tbody>\n    <tr>\n      <th>6</th>\n      <td>NJ</td>\n      <td>163360</td>\n      <td>958</td>\n      <td>170.521921</td>\n    </tr>\n    <tr>\n      <th>9</th>\n      <td>NV</td>\n      <td>100786</td>\n      <td>711</td>\n      <td>141.752461</td>\n    </tr>\n    <tr>\n      <th>2</th>\n      <td>KS</td>\n      <td>320045</td>\n      <td>2421</td>\n      <td>132.195374</td>\n    </tr>\n    <tr>\n      <th>3</th>\n      <td>CA</td>\n      <td>223161</td>\n      <td>4068</td>\n      <td>54.857670</td>\n    </tr>\n    <tr>\n      <th>13</th>\n      <td>MT</td>\n      <td>64186</td>\n      <td>1203</td>\n      <td>53.354946</td>\n    </tr>\n    <tr>\n      <th>28</th>\n      <td>PR</td>\n      <td>18403</td>\n      <td>358</td>\n      <td>51.405028</td>\n    </tr>\n    <tr>\n      <th>33</th>\n      <td>SD</td>\n      <td>15022</td>\n      <td>400</td>\n      <td>37.555000</td>\n    </tr>\n    <tr>\n      <th>26</th>\n      <td>LA</td>\n      <td>19206</td>\n      <td>563</td>\n      <td>34.113677</td>\n    </tr>\n    <tr>\n      <th>17</th>\n      <td>OH</td>\n      <td>57812</td>\n      <td>1723</td>\n      <td>33.553105</td>\n    </tr>\n    <tr>\n      <th>5</th>\n      <td>FL</td>\n      <td>187714</td>\n      <td>7072</td>\n      <td>26.543269</td>\n    </tr>\n  </tbody>\n</table>\n</div>"
     },
     "execution_count": 43,
     "metadata": {},
     "output_type": "execute_result"
    }
   ],
   "source": [
    "rates.sort_values(by='Impairment rate', ascending=False).head(10)"
   ],
   "metadata": {
    "collapsed": false,
    "pycharm": {
     "name": "#%%\n"
    }
   }
  },
  {
   "cell_type": "code",
   "execution_count": 44,
   "outputs": [
    {
     "data": {
      "text/plain": "   state  # impairments     AUs  Impairment rate\n45    ME           6989    1967         3.553127\n34    IA          12973    4924         2.634647\n0     PA         555891  216735         2.564842\n38    MO          10988    4331         2.537058\n39    NE          10671    4270         2.499063\n8     WV         125659   60450         2.078726\n49    ND           2294    1834         1.250818\n23    WI          39357   35583         1.106062\n15    MN          61579   55855         1.102480\n51    NY           1548    4873         0.317669",
      "text/html": "<div>\n<style scoped>\n    .dataframe tbody tr th:only-of-type {\n        vertical-align: middle;\n    }\n\n    .dataframe tbody tr th {\n        vertical-align: top;\n    }\n\n    .dataframe thead th {\n        text-align: right;\n    }\n</style>\n<table border=\"1\" class=\"dataframe\">\n  <thead>\n    <tr style=\"text-align: right;\">\n      <th></th>\n      <th>state</th>\n      <th># impairments</th>\n      <th>AUs</th>\n      <th>Impairment rate</th>\n    </tr>\n  </thead>\n  <tbody>\n    <tr>\n      <th>45</th>\n      <td>ME</td>\n      <td>6989</td>\n      <td>1967</td>\n      <td>3.553127</td>\n    </tr>\n    <tr>\n      <th>34</th>\n      <td>IA</td>\n      <td>12973</td>\n      <td>4924</td>\n      <td>2.634647</td>\n    </tr>\n    <tr>\n      <th>0</th>\n      <td>PA</td>\n      <td>555891</td>\n      <td>216735</td>\n      <td>2.564842</td>\n    </tr>\n    <tr>\n      <th>38</th>\n      <td>MO</td>\n      <td>10988</td>\n      <td>4331</td>\n      <td>2.537058</td>\n    </tr>\n    <tr>\n      <th>39</th>\n      <td>NE</td>\n      <td>10671</td>\n      <td>4270</td>\n      <td>2.499063</td>\n    </tr>\n    <tr>\n      <th>8</th>\n      <td>WV</td>\n      <td>125659</td>\n      <td>60450</td>\n      <td>2.078726</td>\n    </tr>\n    <tr>\n      <th>49</th>\n      <td>ND</td>\n      <td>2294</td>\n      <td>1834</td>\n      <td>1.250818</td>\n    </tr>\n    <tr>\n      <th>23</th>\n      <td>WI</td>\n      <td>39357</td>\n      <td>35583</td>\n      <td>1.106062</td>\n    </tr>\n    <tr>\n      <th>15</th>\n      <td>MN</td>\n      <td>61579</td>\n      <td>55855</td>\n      <td>1.102480</td>\n    </tr>\n    <tr>\n      <th>51</th>\n      <td>NY</td>\n      <td>1548</td>\n      <td>4873</td>\n      <td>0.317669</td>\n    </tr>\n  </tbody>\n</table>\n</div>"
     },
     "execution_count": 44,
     "metadata": {},
     "output_type": "execute_result"
    }
   ],
   "source": [
    "rates.sort_values(by='Impairment rate', ascending=False).tail(10)"
   ],
   "metadata": {
    "collapsed": false,
    "pycharm": {
     "name": "#%%\n"
    }
   }
  },
  {
   "cell_type": "markdown",
   "source": [
    "Note: this table counts an impairment as a unique combination of a parameter x use x AUID x reportingCycle. Thus, having one parameter lead to 5 uses being impaired will have the same effect on impairment rate as 5 parameters each leading to one use being impaired."
   ],
   "metadata": {
    "collapsed": false,
    "pycharm": {
     "name": "#%% md\n"
    }
   }
  },
  {
   "cell_type": "markdown",
   "source": [
    "### For what fraction of use assessments do we have an assessment date?"
   ],
   "metadata": {
    "collapsed": false,
    "pycharm": {
     "name": "#%% md\n"
    }
   }
  },
  {
   "cell_type": "code",
   "execution_count": 45,
   "outputs": [
    {
     "data": {
      "text/plain": "0.24951797240528864"
     },
     "execution_count": 45,
     "metadata": {},
     "output_type": "execute_result"
    }
   ],
   "source": [
    "use_assessments_unique = assessments.drop_duplicates(subset=['assessmentUnitIdentifier', 'useName', 'parameterName', 'reportingCycleText', 'assessment_date'])\n",
    "use_assessments_unique[~pd.isna(use_assessments_unique['assessment_date'])].shape[0]/use_assessments_unique.shape[0]"
   ],
   "metadata": {
    "collapsed": false,
    "pycharm": {
     "name": "#%%\n"
    }
   }
  },
  {
   "cell_type": "markdown",
   "source": [
    "### What parameters have caused the most impairments?"
   ],
   "metadata": {
    "collapsed": false,
    "pycharm": {
     "name": "#%% md\n"
    }
   }
  },
  {
   "cell_type": "code",
   "execution_count": 46,
   "outputs": [
    {
     "data": {
      "text/plain": "ESCHERICHIA COLI (E. COLI)          0.066455\nPATHOGENS                           0.065500\nSILTATION                           0.060735\nFECAL COLIFORM                      0.051016\nDISSOLVED OXYGEN                    0.046293\nPH                                  0.042407\nMERCURY                             0.041189\nMERCURY IN FISH TISSUE              0.036908\nPCBS IN FISH TISSUE                 0.030882\nPOLYCHLORINATED BIPHENYLS (PCBS)    0.026713\nName: parameterName, dtype: float64"
     },
     "execution_count": 46,
     "metadata": {},
     "output_type": "execute_result"
    }
   ],
   "source": [
    "use_assessments_unique[use_assessments_unique['parameterStatusName']=='Cause']['parameterName'].value_counts(normalize=True).iloc[0:10]"
   ],
   "metadata": {
    "collapsed": false,
    "pycharm": {
     "name": "#%%\n"
    }
   }
  },
  {
   "cell_type": "markdown",
   "source": [
    "### What parameters have caused the most assessment units to be impaired, irrespective of number of use non-attainment declarations?"
   ],
   "metadata": {
    "collapsed": false,
    "pycharm": {
     "name": "#%% md\n"
    }
   }
  },
  {
   "cell_type": "code",
   "execution_count": 47,
   "outputs": [
    {
     "data": {
      "text/plain": "PATHOGENS                           0.074285\nSILTATION                           0.072638\nESCHERICHIA COLI (E. COLI)          0.068849\nMERCURY                             0.052655\nMERCURY IN FISH TISSUE              0.046431\nFECAL COLIFORM                      0.042380\nPH                                  0.040274\nDISSOLVED OXYGEN                    0.038449\nMETALS                              0.034789\nPOLYCHLORINATED BIPHENYLS (PCBS)    0.027160\nName: parameterName, dtype: float64"
     },
     "execution_count": 47,
     "metadata": {},
     "output_type": "execute_result"
    }
   ],
   "source": [
    "culprits_unique = assessments.drop_duplicates(subset=['assessmentUnitIdentifier', 'reportingCycleText', 'assessment_date', 'parameterName'])\n",
    "\n",
    "culprits_unique[culprits_unique['parameterStatusName']=='Cause']['parameterName'].value_counts(normalize=True).iloc[0:10]"
   ],
   "metadata": {
    "collapsed": false,
    "pycharm": {
     "name": "#%%\n"
    }
   }
  },
  {
   "cell_type": "markdown",
   "source": [
    "### What uses have the highest rate of non-attainment?"
   ],
   "metadata": {
    "collapsed": false,
    "pycharm": {
     "name": "#%% md\n"
    }
   }
  },
  {
   "cell_type": "code",
   "execution_count": 48,
   "outputs": [
    {
     "data": {
      "text/plain": "Fish Consumption              0.145012\nAquatic Life                  0.063840\nPrimary Contact Recreation    0.044730\nWater Contact Sports          0.043442\nRecreation                    0.038429\nAQUATIC LIFE USE              0.036220\nWarm Water Fishes             0.031540\nCold Water Fishes             0.028787\nDomestic Water Supply         0.025068\nAquatic Life Integrity        0.022380\nName: useName, dtype: float64"
     },
     "execution_count": 48,
     "metadata": {},
     "output_type": "execute_result"
    }
   ],
   "source": [
    "use_assessments_unique['useName'].value_counts(normalize=True).iloc[0:10]"
   ],
   "metadata": {
    "collapsed": false,
    "pycharm": {
     "name": "#%%\n"
    }
   }
  },
  {
   "cell_type": "markdown",
   "source": [
    "Let's look at an example of one AUID x use x parameter combination over time:"
   ],
   "metadata": {
    "collapsed": false,
    "pycharm": {
     "name": "#%% md\n"
    }
   }
  },
  {
   "cell_type": "code",
   "execution_count": 49,
   "outputs": [
    {
     "data": {
      "text/plain": "      Unnamed: 0 state_code organizationIdentifier organizationTypeText  \\\n1694        1695         AL                 21AWIC                State   \n3225        3226         AL                 21AWIC                State   \n4861        4862         AL                 21AWIC                State   \n6506        6507         AL                 21AWIC                State   \n8143        8144         AL                 21AWIC                State   \n\n     reportingCycleText assessmentUnitIdentifier             useName  \\\n1694               2006      AL03140106-0302-202  Contact Recreation   \n3225               2008      AL03140106-0302-202  Contact Recreation   \n4861               2010      AL03140106-0302-202  Contact Recreation   \n6506               2012      AL03140106-0302-202  Contact Recreation   \n8143               2014      AL03140106-0302-202  Contact Recreation   \n\n     useAttainmentCode epaIRCategory associatedActionIdentifier  \\\n1694                 N           NaN                        NaN   \n3225                 N             5                        NaN   \n4861                 N             5                        NaN   \n6506                 N             5                        NaN   \n8143                 N             5                        NaN   \n\n     threatenedIndicator parameterStatusName   parameterName  \\\n1694                   N               Cause  AMMONIA, TOTAL   \n3225                   N               Cause  AMMONIA, TOTAL   \n4861                   N               Cause  AMMONIA, TOTAL   \n6506                   N               Cause  AMMONIA, TOTAL   \n8143                   N               Cause  AMMONIA, TOTAL   \n\n      cycle_first_listed  cycleLastAssessedText  cycle_scheduled_for_TMDL  \\\n1694              2006.0                   2006                       NaN   \n3225              2006.0                   2008                    2010.0   \n4861              1998.0                   2006                    2015.0   \n6506              1998.0                   2006                    2015.0   \n8143              1998.0                   2006                    2016.0   \n\n     assessment_date  \n1694      2006-04-01  \n3225      2006-04-01  \n4861      2006-04-01  \n6506      2006-04-01  \n8143      2006-04-01  ",
      "text/html": "<div>\n<style scoped>\n    .dataframe tbody tr th:only-of-type {\n        vertical-align: middle;\n    }\n\n    .dataframe tbody tr th {\n        vertical-align: top;\n    }\n\n    .dataframe thead th {\n        text-align: right;\n    }\n</style>\n<table border=\"1\" class=\"dataframe\">\n  <thead>\n    <tr style=\"text-align: right;\">\n      <th></th>\n      <th>Unnamed: 0</th>\n      <th>state_code</th>\n      <th>organizationIdentifier</th>\n      <th>organizationTypeText</th>\n      <th>reportingCycleText</th>\n      <th>assessmentUnitIdentifier</th>\n      <th>useName</th>\n      <th>useAttainmentCode</th>\n      <th>epaIRCategory</th>\n      <th>associatedActionIdentifier</th>\n      <th>threatenedIndicator</th>\n      <th>parameterStatusName</th>\n      <th>parameterName</th>\n      <th>cycle_first_listed</th>\n      <th>cycleLastAssessedText</th>\n      <th>cycle_scheduled_for_TMDL</th>\n      <th>assessment_date</th>\n    </tr>\n  </thead>\n  <tbody>\n    <tr>\n      <th>1694</th>\n      <td>1695</td>\n      <td>AL</td>\n      <td>21AWIC</td>\n      <td>State</td>\n      <td>2006</td>\n      <td>AL03140106-0302-202</td>\n      <td>Contact Recreation</td>\n      <td>N</td>\n      <td>NaN</td>\n      <td>NaN</td>\n      <td>N</td>\n      <td>Cause</td>\n      <td>AMMONIA, TOTAL</td>\n      <td>2006.0</td>\n      <td>2006</td>\n      <td>NaN</td>\n      <td>2006-04-01</td>\n    </tr>\n    <tr>\n      <th>3225</th>\n      <td>3226</td>\n      <td>AL</td>\n      <td>21AWIC</td>\n      <td>State</td>\n      <td>2008</td>\n      <td>AL03140106-0302-202</td>\n      <td>Contact Recreation</td>\n      <td>N</td>\n      <td>5</td>\n      <td>NaN</td>\n      <td>N</td>\n      <td>Cause</td>\n      <td>AMMONIA, TOTAL</td>\n      <td>2006.0</td>\n      <td>2008</td>\n      <td>2010.0</td>\n      <td>2006-04-01</td>\n    </tr>\n    <tr>\n      <th>4861</th>\n      <td>4862</td>\n      <td>AL</td>\n      <td>21AWIC</td>\n      <td>State</td>\n      <td>2010</td>\n      <td>AL03140106-0302-202</td>\n      <td>Contact Recreation</td>\n      <td>N</td>\n      <td>5</td>\n      <td>NaN</td>\n      <td>N</td>\n      <td>Cause</td>\n      <td>AMMONIA, TOTAL</td>\n      <td>1998.0</td>\n      <td>2006</td>\n      <td>2015.0</td>\n      <td>2006-04-01</td>\n    </tr>\n    <tr>\n      <th>6506</th>\n      <td>6507</td>\n      <td>AL</td>\n      <td>21AWIC</td>\n      <td>State</td>\n      <td>2012</td>\n      <td>AL03140106-0302-202</td>\n      <td>Contact Recreation</td>\n      <td>N</td>\n      <td>5</td>\n      <td>NaN</td>\n      <td>N</td>\n      <td>Cause</td>\n      <td>AMMONIA, TOTAL</td>\n      <td>1998.0</td>\n      <td>2006</td>\n      <td>2015.0</td>\n      <td>2006-04-01</td>\n    </tr>\n    <tr>\n      <th>8143</th>\n      <td>8144</td>\n      <td>AL</td>\n      <td>21AWIC</td>\n      <td>State</td>\n      <td>2014</td>\n      <td>AL03140106-0302-202</td>\n      <td>Contact Recreation</td>\n      <td>N</td>\n      <td>5</td>\n      <td>NaN</td>\n      <td>N</td>\n      <td>Cause</td>\n      <td>AMMONIA, TOTAL</td>\n      <td>1998.0</td>\n      <td>2006</td>\n      <td>2016.0</td>\n      <td>2006-04-01</td>\n    </tr>\n  </tbody>\n</table>\n</div>"
     },
     "execution_count": 49,
     "metadata": {},
     "output_type": "execute_result"
    }
   ],
   "source": [
    "assessments[(assessments['assessmentUnitIdentifier']=='AL03140106-0302-202') &\n",
    "            (assessments['useName']=='Contact Recreation') &\n",
    "            (assessments['parameterName']=='AMMONIA, TOTAL')].sort_values(by='reportingCycleText').drop_duplicates()"
   ],
   "metadata": {
    "collapsed": false,
    "pycharm": {
     "name": "#%%\n"
    }
   }
  },
  {
   "cell_type": "markdown",
   "source": [
    "Clearly, the fields `cycle_first_listed` and `cycleLastAssessedText` are misleading."
   ],
   "metadata": {
    "collapsed": false,
    "pycharm": {
     "name": "#%% md\n"
    }
   }
  },
  {
   "cell_type": "markdown",
   "source": [
    "### Which states have the most and fewest reporting cycles present in ATTAINS?"
   ],
   "metadata": {
    "collapsed": false,
    "pycharm": {
     "name": "#%% md\n"
    }
   }
  },
  {
   "cell_type": "code",
   "execution_count": 50,
   "outputs": [
    {
     "data": {
      "text/plain": "            reportingCycleText\nstate_code                    \nLA                          11\nNM                          11\nVI                          11\nVA                          11\nMS                          11\nCT                          11\nTX                          11\nOK                          11\nTN                          11\nIA                          11\nSD                          11\nNE                          11\nMI                          10\nNJ                          10\nNC                          10",
      "text/html": "<div>\n<style scoped>\n    .dataframe tbody tr th:only-of-type {\n        vertical-align: middle;\n    }\n\n    .dataframe tbody tr th {\n        vertical-align: top;\n    }\n\n    .dataframe thead th {\n        text-align: right;\n    }\n</style>\n<table border=\"1\" class=\"dataframe\">\n  <thead>\n    <tr style=\"text-align: right;\">\n      <th></th>\n      <th>reportingCycleText</th>\n    </tr>\n    <tr>\n      <th>state_code</th>\n      <th></th>\n    </tr>\n  </thead>\n  <tbody>\n    <tr>\n      <th>LA</th>\n      <td>11</td>\n    </tr>\n    <tr>\n      <th>NM</th>\n      <td>11</td>\n    </tr>\n    <tr>\n      <th>VI</th>\n      <td>11</td>\n    </tr>\n    <tr>\n      <th>VA</th>\n      <td>11</td>\n    </tr>\n    <tr>\n      <th>MS</th>\n      <td>11</td>\n    </tr>\n    <tr>\n      <th>CT</th>\n      <td>11</td>\n    </tr>\n    <tr>\n      <th>TX</th>\n      <td>11</td>\n    </tr>\n    <tr>\n      <th>OK</th>\n      <td>11</td>\n    </tr>\n    <tr>\n      <th>TN</th>\n      <td>11</td>\n    </tr>\n    <tr>\n      <th>IA</th>\n      <td>11</td>\n    </tr>\n    <tr>\n      <th>SD</th>\n      <td>11</td>\n    </tr>\n    <tr>\n      <th>NE</th>\n      <td>11</td>\n    </tr>\n    <tr>\n      <th>MI</th>\n      <td>10</td>\n    </tr>\n    <tr>\n      <th>NJ</th>\n      <td>10</td>\n    </tr>\n    <tr>\n      <th>NC</th>\n      <td>10</td>\n    </tr>\n  </tbody>\n</table>\n</div>"
     },
     "execution_count": 50,
     "metadata": {},
     "output_type": "execute_result"
    }
   ],
   "source": [
    "state_reporting_cycles = assessments.groupby('state_code').nunique()[['reportingCycleText']].sort_values('reportingCycleText', ascending=False)\n",
    "\n",
    "state_reporting_cycles.head(15)"
   ],
   "metadata": {
    "collapsed": false,
    "pycharm": {
     "name": "#%%\n"
    }
   }
  },
  {
   "cell_type": "code",
   "execution_count": 51,
   "outputs": [
    {
     "data": {
      "text/plain": "            reportingCycleText\nstate_code                    \nOH                           8\nIL                           8\nWI                           7\nAR                           6\nMD                           5\nFL                           4\nPA                           4\nOR                           3\nWA                           2\nNY                           1",
      "text/html": "<div>\n<style scoped>\n    .dataframe tbody tr th:only-of-type {\n        vertical-align: middle;\n    }\n\n    .dataframe tbody tr th {\n        vertical-align: top;\n    }\n\n    .dataframe thead th {\n        text-align: right;\n    }\n</style>\n<table border=\"1\" class=\"dataframe\">\n  <thead>\n    <tr style=\"text-align: right;\">\n      <th></th>\n      <th>reportingCycleText</th>\n    </tr>\n    <tr>\n      <th>state_code</th>\n      <th></th>\n    </tr>\n  </thead>\n  <tbody>\n    <tr>\n      <th>OH</th>\n      <td>8</td>\n    </tr>\n    <tr>\n      <th>IL</th>\n      <td>8</td>\n    </tr>\n    <tr>\n      <th>WI</th>\n      <td>7</td>\n    </tr>\n    <tr>\n      <th>AR</th>\n      <td>6</td>\n    </tr>\n    <tr>\n      <th>MD</th>\n      <td>5</td>\n    </tr>\n    <tr>\n      <th>FL</th>\n      <td>4</td>\n    </tr>\n    <tr>\n      <th>PA</th>\n      <td>4</td>\n    </tr>\n    <tr>\n      <th>OR</th>\n      <td>3</td>\n    </tr>\n    <tr>\n      <th>WA</th>\n      <td>2</td>\n    </tr>\n    <tr>\n      <th>NY</th>\n      <td>1</td>\n    </tr>\n  </tbody>\n</table>\n</div>"
     },
     "execution_count": 51,
     "metadata": {},
     "output_type": "execute_result"
    }
   ],
   "source": [
    "state_reporting_cycles.tail(10)"
   ],
   "metadata": {
    "collapsed": false,
    "pycharm": {
     "name": "#%%\n"
    }
   }
  },
  {
   "cell_type": "markdown",
   "source": [
    "### What is the distribution of times when an AUID first appears on a 303(d) list in ATTAINS?"
   ],
   "metadata": {
    "collapsed": false,
    "pycharm": {
     "name": "#%% md\n"
    }
   }
  },
  {
   "cell_type": "code",
   "execution_count": 52,
   "outputs": [],
   "source": [
    "# Determine first appearance on a 303(d) list in ATTAINS\n",
    "# appearance_dates = assessments.groupby(['assessmentUnitIdentifier', 'parameterName'], as_index=False).min()[\n",
    "#         ['assessmentUnitIdentifier', 'parameterName', 'reportingCycleText']]\n",
    "# appearance_dates.rename(columns={'reportingCycleText': 'appearance_date'},\n",
    "#                                inplace=True)\n",
    "# appearance_dates['appearance_date'] = pd.to_datetime(appearance_dates['appearance_date'])"
   ],
   "metadata": {
    "collapsed": false,
    "pycharm": {
     "name": "#%%\n"
    }
   }
  },
  {
   "cell_type": "code",
   "execution_count": 53,
   "outputs": [],
   "source": [
    "# test = assessments.merge(appearance_dates, on=['assessmentUnitIdentifier', 'parameterName'], how='inner')\n",
    "# test.head()"
   ],
   "metadata": {
    "collapsed": false,
    "pycharm": {
     "name": "#%%\n"
    }
   }
  },
  {
   "cell_type": "markdown",
   "source": [
    "TODO: change `appearance_date` from january 1st to just the year"
   ],
   "metadata": {
    "collapsed": false,
    "pycharm": {
     "name": "#%% md\n"
    }
   }
  },
  {
   "cell_type": "markdown",
   "source": [
    "# 3. Actions\n",
    "Source: `pull_actions.R`"
   ],
   "metadata": {
    "collapsed": false,
    "pycharm": {
     "name": "#%% md\n"
    }
   }
  },
  {
   "cell_type": "code",
   "execution_count": 54,
   "outputs": [],
   "source": [
    "all_actions = pd.read_csv('all_actions.csv', parse_dates=['completionDate', 'TMDLDate'], date_parser=lambda t: pd.to_datetime(t, errors='coerce')).drop('Unnamed: 0', axis=1).drop_duplicates()\n",
    "all_actions_permit_data = pd.read_csv('all_actions_permit_data.csv').drop('Unnamed: 0', axis=1).drop_duplicates()"
   ],
   "metadata": {
    "collapsed": false,
    "pycharm": {
     "name": "#%%\n"
    }
   }
  },
  {
   "cell_type": "markdown",
   "source": [
    "### How many unique TMDL actions do we have?"
   ],
   "metadata": {
    "collapsed": false,
    "pycharm": {
     "name": "#%% md\n"
    }
   }
  },
  {
   "cell_type": "code",
   "execution_count": 55,
   "outputs": [
    {
     "data": {
      "text/plain": "20009"
     },
     "execution_count": 55,
     "metadata": {},
     "output_type": "execute_result"
    }
   ],
   "source": [
    "len(all_actions.drop_duplicates(subset='actionIdentifier'))"
   ],
   "metadata": {
    "collapsed": false,
    "pycharm": {
     "name": "#%%\n"
    }
   }
  },
  {
   "cell_type": "markdown",
   "source": [
    "How does this compare to the number of unique actions in our assessments table?"
   ],
   "metadata": {
    "collapsed": false,
    "pycharm": {
     "name": "#%% md\n"
    }
   }
  },
  {
   "cell_type": "code",
   "execution_count": 56,
   "outputs": [
    {
     "data": {
      "text/plain": "21816"
     },
     "execution_count": 56,
     "metadata": {},
     "output_type": "execute_result"
    }
   ],
   "source": [
    "len(assessments.drop_duplicates(subset='associatedActionIdentifier'))"
   ],
   "metadata": {
    "collapsed": false,
    "pycharm": {
     "name": "#%%\n"
    }
   }
  },
  {
   "cell_type": "markdown",
   "source": [
    "### How many unique AUs are represented in the actions data?"
   ],
   "metadata": {
    "collapsed": false,
    "pycharm": {
     "name": "#%% md\n"
    }
   }
  },
  {
   "cell_type": "code",
   "execution_count": 57,
   "outputs": [
    {
     "data": {
      "text/plain": "96171"
     },
     "execution_count": 57,
     "metadata": {},
     "output_type": "execute_result"
    }
   ],
   "source": [
    "len(all_actions.drop_duplicates(subset='assessmentUnitIdentifier'))"
   ],
   "metadata": {
    "collapsed": false,
    "pycharm": {
     "name": "#%%\n"
    }
   }
  },
  {
   "cell_type": "markdown",
   "source": [
    "### Which states have the most TMDL actions?"
   ],
   "metadata": {
    "collapsed": false,
    "pycharm": {
     "name": "#%% md\n"
    }
   }
  },
  {
   "cell_type": "code",
   "execution_count": 58,
   "outputs": [
    {
     "data": {
      "text/plain": "WV    0.268479\nKS    0.101804\nVA    0.088460\nMD    0.042031\nMT    0.028787\nDE    0.028237\nCO    0.022990\nOK    0.021290\nFL    0.020241\nCA    0.019791\nName: state_code, dtype: float64"
     },
     "execution_count": 58,
     "metadata": {},
     "output_type": "execute_result"
    }
   ],
   "source": [
    "all_actions.drop_duplicates(subset='actionIdentifier')['state_code'].value_counts(normalize=True).iloc[0:10]"
   ],
   "metadata": {
    "collapsed": false,
    "pycharm": {
     "name": "#%%\n"
    }
   }
  },
  {
   "cell_type": "markdown",
   "source": [
    "### Which states have the highest and lowest rates of TMDL actions per AUID?"
   ],
   "metadata": {
    "collapsed": false,
    "pycharm": {
     "name": "#%% md\n"
    }
   }
  },
  {
   "cell_type": "code",
   "execution_count": 59,
   "outputs": [
    {
     "data": {
      "text/plain": "   state  # TMDLs   AUs  TMDL rate\n5     DE      565   590   0.957627\n13    SD      369   400   0.922500\n3     MD      841   973   0.864337\n1     KS     2037  2421   0.841388\n11    LA      395   563   0.701599\n24    WY      183   314   0.582803\n4     MT      576  1203   0.478803\n12    MS      374  1178   0.317487\n18    NJ      304   958   0.317328\n6     CO      460  1893   0.243001",
      "text/html": "<div>\n<style scoped>\n    .dataframe tbody tr th:only-of-type {\n        vertical-align: middle;\n    }\n\n    .dataframe tbody tr th {\n        vertical-align: top;\n    }\n\n    .dataframe thead th {\n        text-align: right;\n    }\n</style>\n<table border=\"1\" class=\"dataframe\">\n  <thead>\n    <tr style=\"text-align: right;\">\n      <th></th>\n      <th>state</th>\n      <th># TMDLs</th>\n      <th>AUs</th>\n      <th>TMDL rate</th>\n    </tr>\n  </thead>\n  <tbody>\n    <tr>\n      <th>5</th>\n      <td>DE</td>\n      <td>565</td>\n      <td>590</td>\n      <td>0.957627</td>\n    </tr>\n    <tr>\n      <th>13</th>\n      <td>SD</td>\n      <td>369</td>\n      <td>400</td>\n      <td>0.922500</td>\n    </tr>\n    <tr>\n      <th>3</th>\n      <td>MD</td>\n      <td>841</td>\n      <td>973</td>\n      <td>0.864337</td>\n    </tr>\n    <tr>\n      <th>1</th>\n      <td>KS</td>\n      <td>2037</td>\n      <td>2421</td>\n      <td>0.841388</td>\n    </tr>\n    <tr>\n      <th>11</th>\n      <td>LA</td>\n      <td>395</td>\n      <td>563</td>\n      <td>0.701599</td>\n    </tr>\n    <tr>\n      <th>24</th>\n      <td>WY</td>\n      <td>183</td>\n      <td>314</td>\n      <td>0.582803</td>\n    </tr>\n    <tr>\n      <th>4</th>\n      <td>MT</td>\n      <td>576</td>\n      <td>1203</td>\n      <td>0.478803</td>\n    </tr>\n    <tr>\n      <th>12</th>\n      <td>MS</td>\n      <td>374</td>\n      <td>1178</td>\n      <td>0.317487</td>\n    </tr>\n    <tr>\n      <th>18</th>\n      <td>NJ</td>\n      <td>304</td>\n      <td>958</td>\n      <td>0.317328</td>\n    </tr>\n    <tr>\n      <th>6</th>\n      <td>CO</td>\n      <td>460</td>\n      <td>1893</td>\n      <td>0.243001</td>\n    </tr>\n  </tbody>\n</table>\n</div>"
     },
     "execution_count": 59,
     "metadata": {},
     "output_type": "execute_result"
    }
   ],
   "source": [
    "TMDL_rates = pd.DataFrame(all_actions.drop_duplicates(\n",
    "    subset=['actionIdentifier'])['state_code'].value_counts())\n",
    "TMDL_rates = TMDL_rates.reset_index().rename(columns={'index': 'state', 'state_code': '# TMDLs'})\n",
    "TMDL_rates = TMDL_rates[TMDL_rates['state'] != 'GU']\n",
    "TMDL_rates['AUs'] = TMDL_rates['state'].apply(lambda x: AU_counts[x])\n",
    "TMDL_rates['TMDL rate'] = TMDL_rates['# TMDLs'] / TMDL_rates['AUs']\n",
    "TMDL_rates.sort_values(by='TMDL rate', ascending=False).head(10)"
   ],
   "metadata": {
    "collapsed": false,
    "pycharm": {
     "name": "#%%\n"
    }
   }
  },
  {
   "cell_type": "code",
   "execution_count": 60,
   "outputs": [
    {
     "data": {
      "text/plain": "   state  # TMDLs     AUs  TMDL rate\n37    MI      115    8028   0.014325\n46    KY       52    6239   0.008335\n15    MN      344   55855   0.006159\n21    NH      200   32484   0.006157\n35    WA      121   20272   0.005969\n41    IN       94   16762   0.005608\n43    NC       75   13628   0.005503\n42    WI       83   35583   0.002333\n14    PA      367  216735   0.001693\n51    OR        5    7316   0.000683",
      "text/html": "<div>\n<style scoped>\n    .dataframe tbody tr th:only-of-type {\n        vertical-align: middle;\n    }\n\n    .dataframe tbody tr th {\n        vertical-align: top;\n    }\n\n    .dataframe thead th {\n        text-align: right;\n    }\n</style>\n<table border=\"1\" class=\"dataframe\">\n  <thead>\n    <tr style=\"text-align: right;\">\n      <th></th>\n      <th>state</th>\n      <th># TMDLs</th>\n      <th>AUs</th>\n      <th>TMDL rate</th>\n    </tr>\n  </thead>\n  <tbody>\n    <tr>\n      <th>37</th>\n      <td>MI</td>\n      <td>115</td>\n      <td>8028</td>\n      <td>0.014325</td>\n    </tr>\n    <tr>\n      <th>46</th>\n      <td>KY</td>\n      <td>52</td>\n      <td>6239</td>\n      <td>0.008335</td>\n    </tr>\n    <tr>\n      <th>15</th>\n      <td>MN</td>\n      <td>344</td>\n      <td>55855</td>\n      <td>0.006159</td>\n    </tr>\n    <tr>\n      <th>21</th>\n      <td>NH</td>\n      <td>200</td>\n      <td>32484</td>\n      <td>0.006157</td>\n    </tr>\n    <tr>\n      <th>35</th>\n      <td>WA</td>\n      <td>121</td>\n      <td>20272</td>\n      <td>0.005969</td>\n    </tr>\n    <tr>\n      <th>41</th>\n      <td>IN</td>\n      <td>94</td>\n      <td>16762</td>\n      <td>0.005608</td>\n    </tr>\n    <tr>\n      <th>43</th>\n      <td>NC</td>\n      <td>75</td>\n      <td>13628</td>\n      <td>0.005503</td>\n    </tr>\n    <tr>\n      <th>42</th>\n      <td>WI</td>\n      <td>83</td>\n      <td>35583</td>\n      <td>0.002333</td>\n    </tr>\n    <tr>\n      <th>14</th>\n      <td>PA</td>\n      <td>367</td>\n      <td>216735</td>\n      <td>0.001693</td>\n    </tr>\n    <tr>\n      <th>51</th>\n      <td>OR</td>\n      <td>5</td>\n      <td>7316</td>\n      <td>0.000683</td>\n    </tr>\n  </tbody>\n</table>\n</div>"
     },
     "execution_count": 60,
     "metadata": {},
     "output_type": "execute_result"
    }
   ],
   "source": [
    "TMDL_rates.sort_values(by='TMDL rate', ascending=False).tail(10)"
   ],
   "metadata": {
    "collapsed": false,
    "pycharm": {
     "name": "#%%\n"
    }
   }
  },
  {
   "cell_type": "markdown",
   "source": [
    "### What is the temporal distribution of TMDLs?"
   ],
   "metadata": {
    "collapsed": false,
    "pycharm": {
     "name": "#%% md\n"
    }
   }
  },
  {
   "cell_type": "markdown",
   "source": [
    "Based on a document here: https://www.exchangenetwork.net/schema/ATTAINS/1/ATTAINS_DET_v1.0a.xlsx , `completionDate` refers to the planned TMDL date, and `TMDLDate` refers to the actual date the TMDL was approved by EPA."
   ],
   "metadata": {
    "collapsed": false,
    "pycharm": {
     "name": "#%% md\n"
    }
   }
  },
  {
   "cell_type": "code",
   "execution_count": 61,
   "outputs": [
    {
     "data": {
      "text/plain": "<Figure size 432x288 with 1 Axes>",
      "image/png": "[encoded data removed]"
     },
     "metadata": {
      "needs_background": "light"
     },
     "output_type": "display_data"
    }
   ],
   "source": [
    "plt.title('Planned TMDL Date')\n",
    "plt.hist(all_actions.drop_duplicates(subset='actionIdentifier')['completionDate'], bins=50);"
   ],
   "metadata": {
    "collapsed": false,
    "pycharm": {
     "name": "#%%\n"
    }
   }
  },
  {
   "cell_type": "code",
   "execution_count": 62,
   "outputs": [
    {
     "data": {
      "text/plain": "<Figure size 432x288 with 1 Axes>",
      "image/png": "[encoded data removed]"
     },
     "metadata": {
      "needs_background": "light"
     },
     "output_type": "display_data"
    }
   ],
   "source": [
    "plt.title('Actual TMDL Date')\n",
    "plt.hist(all_actions.drop_duplicates(subset='actionIdentifier')['TMDLDate'], bins=50);"
   ],
   "metadata": {
    "collapsed": false,
    "pycharm": {
     "name": "#%%\n"
    }
   }
  },
  {
   "cell_type": "code",
   "execution_count": 63,
   "outputs": [
    {
     "data": {
      "text/plain": "Text(0.5, 0, 'Days')"
     },
     "execution_count": 63,
     "metadata": {},
     "output_type": "execute_result"
    },
    {
     "data": {
      "text/plain": "<Figure size 864x576 with 1 Axes>",
      "image/png": "[encoded data removed]"
     },
     "metadata": {
      "needs_background": "light"
     },
     "output_type": "display_data"
    }
   ],
   "source": [
    "import numpy as np\n",
    "delays = (all_actions.drop_duplicates(subset='actionIdentifier')['TMDLDate'] -\n",
    "          all_actions.drop_duplicates(subset='actionIdentifier')['completionDate']) / dt.timedelta(\n",
    "    days=1)\n",
    "plt.figure(figsize=(12, 8))\n",
    "plt.xscale(\"log\")\n",
    "plt.hist(delays, bins=np.logspace(np.log10(1),np.log10(10000.0), 50))\n",
    "plt.title('Days between planned TMDL Date and actual TMDL Date')\n",
    "plt.ylabel('# TMDLs')\n",
    "plt.xlabel('Days')"
   ],
   "metadata": {
    "collapsed": false,
    "pycharm": {
     "name": "#%%\n"
    }
   }
  },
  {
   "cell_type": "markdown",
   "source": [
    "### Which pollutants most often lead to TMDLs?"
   ],
   "metadata": {
    "collapsed": false,
    "pycharm": {
     "name": "#%% md\n"
    }
   }
  },
  {
   "cell_type": "code",
   "execution_count": 64,
   "outputs": [
    {
     "data": {
      "text/plain": "FECAL COLIFORM                  0.155362\nIRON                            0.102766\nESCHERICHIA COLI (E. COLI)      0.070738\nPHOSPHORUS, TOTAL               0.059801\nSEDIMENT                        0.040726\nPH                              0.037441\nALUMINUM                        0.036657\nNITROGEN, TOTAL                 0.030498\nTOTAL SUSPENDED SOLIDS (TSS)    0.027586\nMANGANESE                       0.027474\nName: pollutantName, dtype: float64"
     },
     "execution_count": 64,
     "metadata": {},
     "output_type": "execute_result"
    }
   ],
   "source": [
    "all_actions.drop_duplicates(subset=['actionIdentifier', 'pollutantName'])['pollutantName'].value_counts(normalize=True).iloc[0:10]"
   ],
   "metadata": {
    "collapsed": false,
    "pycharm": {
     "name": "#%%\n"
    }
   }
  },
  {
   "cell_type": "markdown",
   "source": [
    "### Which combinations of state x pollutant are most frequent across all TMDLS?"
   ],
   "metadata": {
    "collapsed": false,
    "pycharm": {
     "name": "#%% md\n"
    }
   }
  },
  {
   "cell_type": "code",
   "execution_count": 65,
   "outputs": [
    {
     "data": {
      "text/plain": "                                              0\npollutantName              state_code          \nIRON                       WV          0.085558\nFECAL COLIFORM             WV          0.050021\nALUMINUM                   WV          0.022061\nPH                         WV          0.019411\nESCHERICHIA COLI (E. COLI) VA          0.017545\nFECAL COLIFORM             VA          0.015902\n                           KS          0.015454\nMANGANESE                  WV          0.015118\nDISSOLVED OXYGEN           KS          0.009705\nSEDIMENT                   MT          0.009482",
      "text/html": "<div>\n<style scoped>\n    .dataframe tbody tr th:only-of-type {\n        vertical-align: middle;\n    }\n\n    .dataframe tbody tr th {\n        vertical-align: top;\n    }\n\n    .dataframe thead th {\n        text-align: right;\n    }\n</style>\n<table border=\"1\" class=\"dataframe\">\n  <thead>\n    <tr style=\"text-align: right;\">\n      <th></th>\n      <th></th>\n      <th>0</th>\n    </tr>\n    <tr>\n      <th>pollutantName</th>\n      <th>state_code</th>\n      <th></th>\n    </tr>\n  </thead>\n  <tbody>\n    <tr>\n      <th>IRON</th>\n      <th>WV</th>\n      <td>0.085558</td>\n    </tr>\n    <tr>\n      <th>FECAL COLIFORM</th>\n      <th>WV</th>\n      <td>0.050021</td>\n    </tr>\n    <tr>\n      <th>ALUMINUM</th>\n      <th>WV</th>\n      <td>0.022061</td>\n    </tr>\n    <tr>\n      <th>PH</th>\n      <th>WV</th>\n      <td>0.019411</td>\n    </tr>\n    <tr>\n      <th>ESCHERICHIA COLI (E. COLI)</th>\n      <th>VA</th>\n      <td>0.017545</td>\n    </tr>\n    <tr>\n      <th rowspan=\"2\" valign=\"top\">FECAL COLIFORM</th>\n      <th>VA</th>\n      <td>0.015902</td>\n    </tr>\n    <tr>\n      <th>KS</th>\n      <td>0.015454</td>\n    </tr>\n    <tr>\n      <th>MANGANESE</th>\n      <th>WV</th>\n      <td>0.015118</td>\n    </tr>\n    <tr>\n      <th>DISSOLVED OXYGEN</th>\n      <th>KS</th>\n      <td>0.009705</td>\n    </tr>\n    <tr>\n      <th>SEDIMENT</th>\n      <th>MT</th>\n      <td>0.009482</td>\n    </tr>\n  </tbody>\n</table>\n</div>"
     },
     "execution_count": 65,
     "metadata": {},
     "output_type": "execute_result"
    }
   ],
   "source": [
    "pd.DataFrame(all_actions.drop_duplicates(subset=['actionIdentifier', 'pollutantName'])[['pollutantName', 'state_code']].value_counts(normalize=True).iloc[0:10])"
   ],
   "metadata": {
    "collapsed": false,
    "pycharm": {
     "name": "#%%\n"
    }
   }
  },
  {
   "cell_type": "markdown",
   "source": [
    "### For how many TMDL actions do we have one or more NPDES permit ID matches?"
   ],
   "metadata": {
    "collapsed": false,
    "pycharm": {
     "name": "#%% md\n"
    }
   }
  },
  {
   "cell_type": "code",
   "execution_count": 66,
   "outputs": [
    {
     "data": {
      "text/plain": "4069"
     },
     "execution_count": 66,
     "metadata": {},
     "output_type": "execute_result"
    }
   ],
   "source": [
    "all_actions_permit_data.dropna().drop_duplicates('actionIdentifier').shape[0]"
   ],
   "metadata": {
    "collapsed": false,
    "pycharm": {
     "name": "#%%\n"
    }
   }
  },
  {
   "cell_type": "markdown",
   "source": [
    "### What is the distribution of these TMDLs across states?"
   ],
   "metadata": {
    "collapsed": false,
    "pycharm": {
     "name": "#%% md\n"
    }
   }
  },
  {
   "cell_type": "code",
   "execution_count": 67,
   "outputs": [
    {
     "data": {
      "text/plain": "KS    0.167363\nWV    0.109118\nVA    0.060211\nMS    0.046695\nCA    0.041042\nLA    0.039076\nMN    0.036864\nTX    0.036127\nMD    0.033669\nSD    0.032686\nTN    0.028017\nOK    0.026296\nWY    0.023347\nFL    0.022856\nMO    0.022364\nMT    0.021873\nNE    0.021873\nGA    0.018678\nIL    0.017941\nSC    0.016220\nAL    0.014500\nMI    0.012042\nNM    0.011059\nDE    0.010322\nIA    0.010076\nNC    0.009830\nIN    0.009339\nAR    0.009093\nMA    0.007864\nID    0.007619\nKY    0.007127\nUT    0.006881\nNJ    0.006636\nAK    0.006636\nRI    0.005898\nCO    0.005652\nN/    0.004424\nND    0.003686\nPR    0.003195\nCT    0.003195\nNH    0.002703\nAZ    0.002458\nME    0.001966\nVT    0.001966\nM-    0.001720\nWA    0.001229\n11    0.000983\nHI    0.000983\nNo    0.000737\nVI    0.000737\nno    0.000737\nOH    0.000737\nOR    0.000492\nWG    0.000492\nGU    0.000492\n2P    0.000492\n00    0.000246\n15    0.000246\nS-    0.000246\n W    0.000246\nIM    0.000246\n#     0.000246\nPA    0.000246\nH1    0.000246\n2I    0.000246\nMG    0.000246\nco    0.000246\n31    0.000246\nNV    0.000246\nWL    0.000246\n59    0.000246\nName: NPDESIdentifier, dtype: float64"
     },
     "execution_count": 67,
     "metadata": {},
     "output_type": "execute_result"
    }
   ],
   "source": [
    "all_actions_permit_data.dropna().drop_duplicates('actionIdentifier')['NPDESIdentifier'].apply(lambda x: x[0:2]).value_counts(normalize=True)"
   ],
   "metadata": {
    "collapsed": false,
    "pycharm": {
     "name": "#%%\n"
    }
   }
  },
  {
   "cell_type": "markdown",
   "source": [
    "### What is the time delay between a water body appearing on the 303(d) list and receiving a TMDL?\n",
    "Let's try to answer this question for a few states first before looking at the whole country."
   ],
   "metadata": {
    "collapsed": false,
    "pycharm": {
     "name": "#%% md\n"
    }
   }
  },
  {
   "cell_type": "code",
   "execution_count": null,
   "outputs": [],
   "source": [
    "# These states were selected based on having a high number of unique reporting cycles present in their assessments table\n",
    "states = ['NM', 'VA', 'MS', 'CT']\n",
    "for state in states:\n",
    "    state_actions = all_actions[(all_actions['state_code'] == state) & (all_actions['TMDLDate']>=pd.to_datetime('2003-01-01'))].dropna(subset=['assessmentUnitIdentifier', 'pollutantName'])\n",
    "    state_assessments = assessments[assessments['state_code'] == state].dropna(\n",
    "        subset=['assessmentUnitIdentifier', 'parameterName'])\n",
    "\n",
    "    # Data cleaning to account for changes in parameter categorization over time\n",
    "    state_assessments['parameterName'] = state_assessments['parameterName'].apply(lambda x: x.replace('SULFATES', 'SULFATE'))\n",
    "    state_assessments['parameterName'] = state_assessments['parameterName'].apply(\n",
    "        lambda x: x.replace('TEMPERATURE, WATER', 'TEMPERATURE'))\n",
    "    state_assessments['parameterName'] = state_assessments['parameterName'].apply(\n",
    "        lambda x: x.replace('ESCHERICHIA COLI (E. COLI)', 'PATHOGENS'))\n",
    "    state_assessments['parameterName'] = state_assessments['parameterName'].apply(\n",
    "        lambda x: x.replace('FECAL COLIFORM', 'PATHOGENS'))\n",
    "    state_assessments['parameterName'] = state_assessments['parameterName'].apply(\n",
    "        lambda x: x.replace('ENTEROCOCCUS BACTERIA', 'ENTEROCOCCUS'))\n",
    "    state_actions['pollutantName'] = state_actions['pollutantName'].apply(\n",
    "        lambda x: x.replace('FECAL COLIFORM', 'PATHOGENS'))\n",
    "    state_actions['pollutantName'] = state_actions['pollutantName'].apply(\n",
    "        lambda x: x.replace('ESCHERICHIA COLI (E. COLI)', 'PATHOGENS'))\n",
    "\n",
    "    # Determine first appearance on a 303(d) list in ATTAINS\n",
    "    appearance_dates = state_assessments.groupby(['assessmentUnitIdentifier', 'parameterName'], as_index=False).min()[\n",
    "        ['assessmentUnitIdentifier', 'parameterName', 'reportingCycleText']]\n",
    "    appearance_dates.rename(columns={'reportingCycleText': 'appearance_date', 'parameterName': 'pollutantName'},\n",
    "                               inplace=True)\n",
    "    appearance_dates['appearance_date'] = pd.to_datetime(appearance_dates['appearance_date'])\n",
    "\n",
    "    # Merge on AU and pollutant\n",
    "    merged = state_actions.merge(appearance_dates, on=['assessmentUnitIdentifier', 'pollutantName'], how='inner')\n",
    "\n",
    "    # Calculate delay time\n",
    "    delays = (merged.drop_duplicates(subset=['assessmentUnitIdentifier', 'pollutantName'])['TMDLDate'] - merged.drop_duplicates(subset=['assessmentUnitIdentifier', 'pollutantName'])[\n",
    "              'appearance_date']) / dt.timedelta(days=365)\n",
    "\n",
    "    # Plot\n",
    "    plt.figure(figsize=(10, 6))\n",
    "    plt.hist(delays, bins=50);\n",
    "    plt.axvline(x=0, linestyle='--', c='silver')\n",
    "    plt.ylabel('# of AU x pollutant combinations')\n",
    "    plt.xlabel('Years')\n",
    "    plt.title(state + ': Delays between first impairment in ATTAINS and TMDL Date \\n (n=' + str(len(delays)) + ' combos, ' + str(len(merged['assessmentUnitIdentifier'].unique())) + ' assessment units (AUs). TMDLs 2003 or later included.)')"
   ],
   "metadata": {
    "collapsed": false,
    "pycharm": {
     "name": "#%%\n",
     "is_executing": true
    }
   }
  },
  {
   "cell_type": "markdown",
   "source": [
    "TODO: ### How many AUs scheduled to receive a TMDL actually received one?"
   ],
   "metadata": {
    "collapsed": false,
    "pycharm": {
     "name": "#%% md\n"
    }
   }
  },
  {
   "cell_type": "markdown",
   "source": [
    "# 4. Exploring our linkage tables"
   ],
   "metadata": {
    "collapsed": false,
    "pycharm": {
     "name": "#%% md\n"
    }
   }
  },
  {
   "cell_type": "code",
   "execution_count": 69,
   "outputs": [
    {
     "data": {
      "text/plain": "      AUID        HUC-12\n0  FL1137A  031300110605\n1   FL1145  031300130103\n2   FL1146  031200010903\n3   FL1146  031200010901\n4   FL1151  031300130302",
      "text/html": "<div>\n<style scoped>\n    .dataframe tbody tr th:only-of-type {\n        vertical-align: middle;\n    }\n\n    .dataframe tbody tr th {\n        vertical-align: top;\n    }\n\n    .dataframe thead th {\n        text-align: right;\n    }\n</style>\n<table border=\"1\" class=\"dataframe\">\n  <thead>\n    <tr style=\"text-align: right;\">\n      <th></th>\n      <th>AUID</th>\n      <th>HUC-12</th>\n    </tr>\n  </thead>\n  <tbody>\n    <tr>\n      <th>0</th>\n      <td>FL1137A</td>\n      <td>031300110605</td>\n    </tr>\n    <tr>\n      <th>1</th>\n      <td>FL1145</td>\n      <td>031300130103</td>\n    </tr>\n    <tr>\n      <th>2</th>\n      <td>FL1146</td>\n      <td>031200010903</td>\n    </tr>\n    <tr>\n      <th>3</th>\n      <td>FL1146</td>\n      <td>031200010901</td>\n    </tr>\n    <tr>\n      <th>4</th>\n      <td>FL1151</td>\n      <td>031300130302</td>\n    </tr>\n  </tbody>\n</table>\n</div>"
     },
     "execution_count": 69,
     "metadata": {},
     "output_type": "execute_result"
    }
   ],
   "source": [
    "# Load HUC_AUID link table\n",
    "HUC_AUID_links = pd.read_csv('huc_AUID_links.csv', dtype={'attributes.huc12': object})\n",
    "HUC_AUID_links = HUC_AUID_links.drop('Unnamed: 0', axis=1).rename(columns={'attributes.huc12': 'HUC-12', 'attributes.assessmentunitidentifier':'AUID'})\n",
    "HUC_AUID_links.head()"
   ],
   "metadata": {
    "collapsed": false,
    "pycharm": {
     "name": "#%%\n"
    }
   }
  },
  {
   "cell_type": "markdown",
   "source": [
    "### How many AUIDs do we have in our HUC-AUID link table?"
   ],
   "metadata": {
    "collapsed": false,
    "pycharm": {
     "name": "#%% md\n"
    }
   }
  },
  {
   "cell_type": "code",
   "execution_count": 70,
   "outputs": [
    {
     "data": {
      "text/plain": "419499"
     },
     "execution_count": 70,
     "metadata": {},
     "output_type": "execute_result"
    }
   ],
   "source": [
    "len(HUC_AUID_links.drop_duplicates('AUID'))"
   ],
   "metadata": {
    "collapsed": false,
    "pycharm": {
     "name": "#%%\n"
    }
   }
  },
  {
   "cell_type": "markdown",
   "source": [
    "### How many of these AUIDs are we able to use to directly merge with our ATTAINS AUID table?"
   ],
   "metadata": {
    "collapsed": false,
    "pycharm": {
     "name": "#%% md\n"
    }
   }
  },
  {
   "cell_type": "code",
   "execution_count": 71,
   "outputs": [
    {
     "data": {
      "text/plain": "206349"
     },
     "execution_count": 71,
     "metadata": {},
     "output_type": "execute_result"
    }
   ],
   "source": [
    "AUs_merged = HUC_AUID_links.drop_duplicates('AUID').merge(AUs, how='inner', on='AUID')\n",
    "len(AUs_merged[~pd.isna(AUs_merged['HUC-12_x'])])"
   ],
   "metadata": {
    "collapsed": false,
    "pycharm": {
     "name": "#%%\n"
    }
   }
  },
  {
   "cell_type": "markdown",
   "source": [
    "What explains the AUs that are in the AUs table but not the HUC_AUID_links table?"
   ],
   "metadata": {
    "collapsed": false,
    "pycharm": {
     "name": "#%% md\n"
    }
   }
  },
  {
   "cell_type": "markdown",
   "source": [
    "Based on hand-checking examples from a variety of states, it appears that the primary reasons why AUIDs appear in the AUs table but not the HUC_AUID_links table are:\n",
    "- Some AUIDs were added in 2022 (e.g., AL06030005-1004-200). These AUIDs would not be present in the HUC_AUID_links table because it is current as of June 2020.\n",
    "- Some AUIDs were split pre-2020 and are no longer in use (e.g., CAX9013000020021202102208, see https://www.waterboards.ca.gov/sandiego/water_issues/programs/303d_list/ref_reports/miscellaneous_changes_report.shtml). These are still reflected in the AUs table because it goes back to 2002."
   ],
   "metadata": {
    "collapsed": false,
    "pycharm": {
     "name": "#%% md\n"
    }
   }
  },
  {
   "cell_type": "markdown",
   "source": [
    "What explains the AUs that are in the HUC_AUID_links table but not the AUs table?"
   ],
   "metadata": {
    "collapsed": false,
    "pycharm": {
     "name": "#%% md\n"
    }
   }
  },
  {
   "cell_type": "markdown",
   "source": [
    "Again, based on hand-checking examples, it appears that almost all (if not all) of the AUIDs that appear in the HUC_AUID_links table but not the AUs table are from Pennsylvania, which was excluded from the AUs table due to computation limitations."
   ],
   "metadata": {
    "collapsed": false,
    "pycharm": {
     "name": "#%% md\n"
    }
   }
  },
  {
   "cell_type": "markdown",
   "source": [
    "### How many NPDES permit IDs do we have in our HUC-permit linkage table?"
   ],
   "metadata": {
    "collapsed": false,
    "pycharm": {
     "name": "#%% md\n"
    }
   }
  },
  {
   "cell_type": "code",
   "execution_count": 84,
   "outputs": [
    {
     "data": {
      "text/plain": "  attributes.SOURCE_FEATUREID        HUC-12 npdes_permit_id\n0                AL0000019001  060300020503       AL0000019\n1                AL0000019002  060300020904       AL0000019\n2                AL0000019003  060300020505       AL0000019\n3                AL0000019004  060300020503       AL0000019\n4                AL0000019005  060300020503       AL0000019",
      "text/html": "<div>\n<style scoped>\n    .dataframe tbody tr th:only-of-type {\n        vertical-align: middle;\n    }\n\n    .dataframe tbody tr th {\n        vertical-align: top;\n    }\n\n    .dataframe thead th {\n        text-align: right;\n    }\n</style>\n<table border=\"1\" class=\"dataframe\">\n  <thead>\n    <tr style=\"text-align: right;\">\n      <th></th>\n      <th>attributes.SOURCE_FEATUREID</th>\n      <th>HUC-12</th>\n      <th>npdes_permit_id</th>\n    </tr>\n  </thead>\n  <tbody>\n    <tr>\n      <th>0</th>\n      <td>AL0000019001</td>\n      <td>060300020503</td>\n      <td>AL0000019</td>\n    </tr>\n    <tr>\n      <th>1</th>\n      <td>AL0000019002</td>\n      <td>060300020904</td>\n      <td>AL0000019</td>\n    </tr>\n    <tr>\n      <th>2</th>\n      <td>AL0000019003</td>\n      <td>060300020505</td>\n      <td>AL0000019</td>\n    </tr>\n    <tr>\n      <th>3</th>\n      <td>AL0000019004</td>\n      <td>060300020503</td>\n      <td>AL0000019</td>\n    </tr>\n    <tr>\n      <th>4</th>\n      <td>AL0000019005</td>\n      <td>060300020503</td>\n      <td>AL0000019</td>\n    </tr>\n  </tbody>\n</table>\n</div>"
     },
     "execution_count": 84,
     "metadata": {},
     "output_type": "execute_result"
    }
   ],
   "source": [
    "HUC_npdes_permit_links = pd.read_csv('huc_npdes_permit_links.csv', dtype={'attributes.WBD_HUC12': object})\n",
    "HUC_npdes_permit_links = HUC_npdes_permit_links.drop('Unnamed: 0', axis=1).rename(columns={'attributes.WBD_HUC12': 'HUC-12'})\n",
    "HUC_npdes_permit_links.head()"
   ],
   "metadata": {
    "collapsed": false,
    "pycharm": {
     "name": "#%%\n"
    }
   }
  },
  {
   "cell_type": "code",
   "execution_count": 81,
   "outputs": [
    {
     "data": {
      "text/plain": "761542"
     },
     "execution_count": 81,
     "metadata": {},
     "output_type": "execute_result"
    }
   ],
   "source": [
    "len(HUC_npdes_permit_links.drop_duplicates('npdes_permit_id'))"
   ],
   "metadata": {
    "collapsed": false,
    "pycharm": {
     "name": "#%%\n"
    }
   }
  },
  {
   "cell_type": "markdown",
   "source": [
    "How does this compare to the total number of active NPDES permit IDs in ICIS-NPDES?"
   ],
   "metadata": {
    "collapsed": false,
    "pycharm": {
     "name": "#%% md\n"
    }
   }
  },
  {
   "cell_type": "code",
   "execution_count": 91,
   "outputs": [
    {
     "data": {
      "text/plain": "823373"
     },
     "execution_count": 91,
     "metadata": {},
     "output_type": "execute_result"
    }
   ],
   "source": [
    "all_permit_ids = pd.read_csv('all_icis_npdes_permit_ids.csv')\n",
    "len(all_permit_ids.drop_duplicates('npdes_permit_id'))"
   ],
   "metadata": {
    "collapsed": false,
    "pycharm": {
     "name": "#%%\n"
    }
   }
  },
  {
   "cell_type": "markdown",
   "source": [
    "They are of similar order of magnitude. The difference is likely due to permits in ICIS-NPDES that were retired/terminated prior to 2020."
   ],
   "metadata": {
    "collapsed": false,
    "pycharm": {
     "name": "#%% md\n"
    }
   }
  }
 ],
 "metadata": {
  "kernelspec": {
   "display_name": "Python 3",
   "language": "python",
   "name": "python3"
  },
  "language_info": {
   "codemirror_mode": {
    "name": "ipython",
    "version": 2
   },
   "file_extension": ".py",
   "mimetype": "text/x-python",
   "name": "python",
   "nbconvert_exporter": "python",
   "pygments_lexer": "ipython2",
   "version": "2.7.6"
  }
 },
 "nbformat": 4,
 "nbformat_minor": 0
}