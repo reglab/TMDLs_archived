{
 "cells": [
  {
   "cell_type": "markdown",
   "source": [
    "# ATTAINS DATA EXPLORATION\n",
    "<i> Ryan Treves\n",
    "\n",
    "Under the Clean Water Act (CWA) section 303(d), states and Tribes are required to monitor water bodies in their territory, and identify water bodies for which a water quality standard has not been met. To do this, they must conduct 'assessments' of water bodies based on whether that water body attains its water quality standard for a certain type of use (e.g., swimming, fishing). Water bodies are delineated into 'assessment units' for the purposes of organizing assessments. Based on the results of the assessment, an assessment unit is assigned an Integrated Reporting (IR) category from 1-5 based on the degree of impairment of the water body. An IR category 5 determination means that a TMDL should be developed for that assessment unit, and the water is 'impaired'. (See https://drive.google.com/drive/u/0/folders/1tGpCSD-3mRBChTC1PZStt5bdRljTK1ck for more details on IR category determination).\n",
    " Every two years (reporting cycles are biennial), states must submit their list of impaired waters (including but not limited to all waters with an IR category 5 determination) as a part of their Integrated Report (IR) to the federal EPA under  sections 303(d), 305(b), and 314.\n",
    "\n",
    "See https://www.epa.gov/wqs-tech/supplemental-module-listing-impaired-waters-and-developing-tmdls#tab-2  for more details.\n",
    "\n",
    "### Questions:\n",
    "- How many Assessment Units (AUs) exist nationwide?\n",
    "- For many AUs do we have a HUC code match?\n",
    "- How many use assessments nationwide, ever, have contributed to an IR5 category determination?\n",
    "- How many unique assessment units have been assigned category IR5?\n",
    "- Which states have had the most use assessments leading to IR5 determinations?\n",
    "- Which states have had the highest rate of IR5 determinations per assessment unit?\n",
    "- For what fraction of use assessments do we have an assessment date?\n",
    "- What parameters have caused the most use non-attainment declarations?\n",
    "- What parameters have caused the most assessment units to be categorized as IR5, irrespective of number of use non-attainment declarations?\n",
    "- What uses have the highest rate of non-attainment?\n",
    "\n",
    "Note: the dataset of AUs doesn't include Pennsylvania (see `ATTAINS_data_cleaning.ipynb` for an explanation)\n"
   ],
   "metadata": {
    "collapsed": false,
    "pycharm": {
     "name": "#%% md\n"
    }
   }
  },
  {
   "cell_type": "code",
   "execution_count": 144,
   "outputs": [],
   "source": [
    "import pandas as pd\n",
    "import matplotlib.pyplot as plt\n",
    "import json\n",
    "from urllib.request import urlopen\n",
    "import datetime as dt\n",
    "import warnings\n",
    "\n",
    "# Suppress warning messages\n",
    "warnings.filterwarnings('ignore')\n",
    "pd.options.display.max_columns = 200\n",
    "pd.options.display.max_rows = 2000\n",
    "# display all rows & columns\n",
    "pd.set_option('display.max_columns', None)\n",
    "pd.set_option('display.max_rows', None)"
   ],
   "metadata": {
    "collapsed": false,
    "pycharm": {
     "name": "#%%\n"
    }
   }
  },
  {
   "cell_type": "markdown",
   "source": [
    "# Assessment Units"
   ],
   "metadata": {
    "collapsed": false,
    "pycharm": {
     "name": "#%% md\n"
    }
   }
  },
  {
   "cell_type": "code",
   "execution_count": 2,
   "outputs": [
    {
     "name": "stderr",
     "output_type": "stream",
     "text": [
      "/var/folders/1h/lmmglcgx2652108zjxqs36vr0000gq/T/ipykernel_45394/2797704080.py:2: DtypeWarning: Columns (5,11,16,17,18,19,20,21,22,23,24,25,27) have mixed types. Specify dtype option on import or set low_memory=False.\n",
      "  AUs = pd.read_csv('Clean_AU_data/all_AUs_cleaned.csv')\n"
     ]
    }
   ],
   "source": [
    "# Load in national Assessment Unit (AU) data\n",
    "AUs = pd.read_csv('Clean_AU_data/all_AUs_cleaned.csv')"
   ],
   "metadata": {
    "collapsed": false,
    "pycharm": {
     "name": "#%%\n"
    }
   }
  },
  {
   "cell_type": "code",
   "execution_count": 3,
   "outputs": [
    {
     "data": {
      "text/plain": "   Unnamed: 0.1  Unnamed: 0                  AUID  \\\n0             0           0   WYGR140401040103_01   \n1             1           1   WYNP101800020105_02   \n2             2           2   WYBH100800140107_01   \n3             3           3   WYBH100800030108_02   \n4             4           4  WYGR140401040303 _01   \n\n  items.organizationIdentifier items.organizationName  \\\n0                      Wyoming                  State   \n1                      Wyoming                  State   \n2                      Wyoming                  State   \n3                      Wyoming                  State   \n4                      Wyoming                  State   \n\n  items.assessmentUnits.assessmentUnitIdentifier  \\\n0                          Lower Big Sandy River   \n1                                    Muddy Creek   \n2                                      Dry Gulch   \n3                         Little Popo Agie River   \n4                                  Pacific Creek   \n\n            items.assessmentUnits.assessmentUnitName  \\\n0  From the confluence with Squaw Creek downstrea...   \n1  Entire watershed upstream of the confluence wi...   \n2  From the confluence with the Shoshone River to...   \n3  From the confluence with the Popo Agie River u...   \n4  Confluence with Jack Morrow Creek upstream to ...   \n\n  items.assessmentUnits.agencyCode items.assessmentUnits.statusIndicator  \\\n0                               WY               {\\useClassCode\\\":\\\"85\\\"   \n1                               WY               {\\useClassCode\\\":\\\"85\\\"   \n2                               WY              {\\useClassCode\\\":\\\"117\\\"   \n3                               WY               {\\useClassCode\\\":\\\"85\\\"   \n4                               WY               {\\useClassCode\\\":\\\"85\\\"   \n\n     items.assessmentUnits.useClass  \\\n0  \\\"useClassName\\\":\\\"CLASS 2AB\\\"}\"   \n1  \\\"useClassName\\\":\\\"CLASS 2AB\\\"}\"   \n2   \\\"useClassName\\\":\\\"CLASS 3B\\\"}\"   \n3  \\\"useClassName\\\":\\\"CLASS 2AB\\\"}\"   \n4  \\\"useClassName\\\":\\\"CLASS 2AB\\\"}\"   \n\n  items.assessmentUnits.waterTypes.waterTypeCode  \\\n0                                         STREAM   \n1                                         STREAM   \n2                                         STREAM   \n3                                         STREAM   \n4                                         STREAM   \n\n  items.assessmentUnits.waterTypes.waterSizeNumber  \\\n0                                              2.1   \n1                                             44.5   \n2                                              0.5   \n3                                             11.1   \n4                                             13.8   \n\n  items.assessmentUnits.waterTypes.unitsCode  HUC-8  \\\n0                                      Miles    NaN   \n1                                      Miles    NaN   \n2                                      Miles    NaN   \n3                                      Miles    NaN   \n4                                      Miles    NaN   \n\n  items.organizationTypeText  HUC-12 count  \\\n0                        NaN     NaN   NaN   \n1                        NaN     NaN   NaN   \n2                        NaN     NaN   NaN   \n3                        NaN     NaN   NaN   \n4                        NaN     NaN   NaN   \n\n  items.assessmentUnits.locationDescriptionText  \\\n0                                           NaN   \n1                                           NaN   \n2                                           NaN   \n3                                           NaN   \n4                                           NaN   \n\n  items.assessmentUnits.stateCode  \\\n0                             NaN   \n1                             NaN   \n2                             NaN   \n3                             NaN   \n4                             NaN   \n\n  items.assessmentUnits.waterTypes.sizeEstimationMethodCode  \\\n0                                                NaN          \n1                                                NaN          \n2                                                NaN          \n3                                                NaN          \n4                                                NaN          \n\n  items.assessmentUnits.waterTypes.sizeSourceText  \\\n0                                             NaN   \n1                                             NaN   \n2                                             NaN   \n3                                             NaN   \n4                                             NaN   \n\n  items.assessmentUnits.waterTypes.sizeSourceScaleText  \\\n0                                                NaN     \n1                                                NaN     \n2                                                NaN     \n3                                                NaN     \n4                                                NaN     \n\n  items.assessmentUnits.monitoringStations.monitoringOrganizationIdentifier  \\\n0                                                NaN                          \n1                                                NaN                          \n2                                                NaN                          \n3                                                NaN                          \n4                                                NaN                          \n\n  items.assessmentUnits.monitoringStations.monitoringLocationIdentifier  \\\n0                                                NaN                      \n1                                                NaN                      \n2                                                NaN                      \n3                                                NaN                      \n4                                                NaN                      \n\n  items.assessmentUnits.monitoringStations.monitoringDataLinkText  \\\n0                                                NaN                \n1                                                NaN                \n2                                                NaN                \n3                                                NaN                \n4                                                NaN                \n\n  items.assessmentUnits.locations.locationTypeCode  \\\n0                                              NaN   \n1                                              NaN   \n2                                              NaN   \n3                                              NaN   \n4                                              NaN   \n\n   items.assessmentUnits.locations.locationText HUC-10  \n0                                           NaN    NaN  \n1                                           NaN    NaN  \n2                                           NaN    NaN  \n3                                           NaN    NaN  \n4                                           NaN    NaN  ",
      "text/html": "<div>\n<style scoped>\n    .dataframe tbody tr th:only-of-type {\n        vertical-align: middle;\n    }\n\n    .dataframe tbody tr th {\n        vertical-align: top;\n    }\n\n    .dataframe thead th {\n        text-align: right;\n    }\n</style>\n<table border=\"1\" class=\"dataframe\">\n  <thead>\n    <tr style=\"text-align: right;\">\n      <th></th>\n      <th>Unnamed: 0.1</th>\n      <th>Unnamed: 0</th>\n      <th>AUID</th>\n      <th>items.organizationIdentifier</th>\n      <th>items.organizationName</th>\n      <th>items.assessmentUnits.assessmentUnitIdentifier</th>\n      <th>items.assessmentUnits.assessmentUnitName</th>\n      <th>items.assessmentUnits.agencyCode</th>\n      <th>items.assessmentUnits.statusIndicator</th>\n      <th>items.assessmentUnits.useClass</th>\n      <th>items.assessmentUnits.waterTypes.waterTypeCode</th>\n      <th>items.assessmentUnits.waterTypes.waterSizeNumber</th>\n      <th>items.assessmentUnits.waterTypes.unitsCode</th>\n      <th>HUC-8</th>\n      <th>items.organizationTypeText</th>\n      <th>HUC-12</th>\n      <th>count</th>\n      <th>items.assessmentUnits.locationDescriptionText</th>\n      <th>items.assessmentUnits.stateCode</th>\n      <th>items.assessmentUnits.waterTypes.sizeEstimationMethodCode</th>\n      <th>items.assessmentUnits.waterTypes.sizeSourceText</th>\n      <th>items.assessmentUnits.waterTypes.sizeSourceScaleText</th>\n      <th>items.assessmentUnits.monitoringStations.monitoringOrganizationIdentifier</th>\n      <th>items.assessmentUnits.monitoringStations.monitoringLocationIdentifier</th>\n      <th>items.assessmentUnits.monitoringStations.monitoringDataLinkText</th>\n      <th>items.assessmentUnits.locations.locationTypeCode</th>\n      <th>items.assessmentUnits.locations.locationText</th>\n      <th>HUC-10</th>\n    </tr>\n  </thead>\n  <tbody>\n    <tr>\n      <th>0</th>\n      <td>0</td>\n      <td>0</td>\n      <td>WYGR140401040103_01</td>\n      <td>Wyoming</td>\n      <td>State</td>\n      <td>Lower Big Sandy River</td>\n      <td>From the confluence with Squaw Creek downstrea...</td>\n      <td>WY</td>\n      <td>{\\useClassCode\\\":\\\"85\\\"</td>\n      <td>\\\"useClassName\\\":\\\"CLASS 2AB\\\"}\"</td>\n      <td>STREAM</td>\n      <td>2.1</td>\n      <td>Miles</td>\n      <td>NaN</td>\n      <td>NaN</td>\n      <td>NaN</td>\n      <td>NaN</td>\n      <td>NaN</td>\n      <td>NaN</td>\n      <td>NaN</td>\n      <td>NaN</td>\n      <td>NaN</td>\n      <td>NaN</td>\n      <td>NaN</td>\n      <td>NaN</td>\n      <td>NaN</td>\n      <td>NaN</td>\n      <td>NaN</td>\n    </tr>\n    <tr>\n      <th>1</th>\n      <td>1</td>\n      <td>1</td>\n      <td>WYNP101800020105_02</td>\n      <td>Wyoming</td>\n      <td>State</td>\n      <td>Muddy Creek</td>\n      <td>Entire watershed upstream of the confluence wi...</td>\n      <td>WY</td>\n      <td>{\\useClassCode\\\":\\\"85\\\"</td>\n      <td>\\\"useClassName\\\":\\\"CLASS 2AB\\\"}\"</td>\n      <td>STREAM</td>\n      <td>44.5</td>\n      <td>Miles</td>\n      <td>NaN</td>\n      <td>NaN</td>\n      <td>NaN</td>\n      <td>NaN</td>\n      <td>NaN</td>\n      <td>NaN</td>\n      <td>NaN</td>\n      <td>NaN</td>\n      <td>NaN</td>\n      <td>NaN</td>\n      <td>NaN</td>\n      <td>NaN</td>\n      <td>NaN</td>\n      <td>NaN</td>\n      <td>NaN</td>\n    </tr>\n    <tr>\n      <th>2</th>\n      <td>2</td>\n      <td>2</td>\n      <td>WYBH100800140107_01</td>\n      <td>Wyoming</td>\n      <td>State</td>\n      <td>Dry Gulch</td>\n      <td>From the confluence with the Shoshone River to...</td>\n      <td>WY</td>\n      <td>{\\useClassCode\\\":\\\"117\\\"</td>\n      <td>\\\"useClassName\\\":\\\"CLASS 3B\\\"}\"</td>\n      <td>STREAM</td>\n      <td>0.5</td>\n      <td>Miles</td>\n      <td>NaN</td>\n      <td>NaN</td>\n      <td>NaN</td>\n      <td>NaN</td>\n      <td>NaN</td>\n      <td>NaN</td>\n      <td>NaN</td>\n      <td>NaN</td>\n      <td>NaN</td>\n      <td>NaN</td>\n      <td>NaN</td>\n      <td>NaN</td>\n      <td>NaN</td>\n      <td>NaN</td>\n      <td>NaN</td>\n    </tr>\n    <tr>\n      <th>3</th>\n      <td>3</td>\n      <td>3</td>\n      <td>WYBH100800030108_02</td>\n      <td>Wyoming</td>\n      <td>State</td>\n      <td>Little Popo Agie River</td>\n      <td>From the confluence with the Popo Agie River u...</td>\n      <td>WY</td>\n      <td>{\\useClassCode\\\":\\\"85\\\"</td>\n      <td>\\\"useClassName\\\":\\\"CLASS 2AB\\\"}\"</td>\n      <td>STREAM</td>\n      <td>11.1</td>\n      <td>Miles</td>\n      <td>NaN</td>\n      <td>NaN</td>\n      <td>NaN</td>\n      <td>NaN</td>\n      <td>NaN</td>\n      <td>NaN</td>\n      <td>NaN</td>\n      <td>NaN</td>\n      <td>NaN</td>\n      <td>NaN</td>\n      <td>NaN</td>\n      <td>NaN</td>\n      <td>NaN</td>\n      <td>NaN</td>\n      <td>NaN</td>\n    </tr>\n    <tr>\n      <th>4</th>\n      <td>4</td>\n      <td>4</td>\n      <td>WYGR140401040303 _01</td>\n      <td>Wyoming</td>\n      <td>State</td>\n      <td>Pacific Creek</td>\n      <td>Confluence with Jack Morrow Creek upstream to ...</td>\n      <td>WY</td>\n      <td>{\\useClassCode\\\":\\\"85\\\"</td>\n      <td>\\\"useClassName\\\":\\\"CLASS 2AB\\\"}\"</td>\n      <td>STREAM</td>\n      <td>13.8</td>\n      <td>Miles</td>\n      <td>NaN</td>\n      <td>NaN</td>\n      <td>NaN</td>\n      <td>NaN</td>\n      <td>NaN</td>\n      <td>NaN</td>\n      <td>NaN</td>\n      <td>NaN</td>\n      <td>NaN</td>\n      <td>NaN</td>\n      <td>NaN</td>\n      <td>NaN</td>\n      <td>NaN</td>\n      <td>NaN</td>\n      <td>NaN</td>\n    </tr>\n  </tbody>\n</table>\n</div>"
     },
     "execution_count": 3,
     "metadata": {},
     "output_type": "execute_result"
    }
   ],
   "source": [
    "AUs.head()"
   ],
   "metadata": {
    "collapsed": false,
    "pycharm": {
     "name": "#%%\n"
    }
   }
  },
  {
   "cell_type": "markdown",
   "source": [
    "### How many Assessment Units (AUs) exist nationwide?\n",
    "Note: this estimate doesn't include Pennsylvania, which according to https://attains.epa.gov/attains-public/api/assessmentUnits?stateCode=PA&returnCountOnly=Y contains on the order of 200,000 AUs on its own."
   ],
   "metadata": {
    "collapsed": false,
    "pycharm": {
     "name": "#%% md\n"
    }
   }
  },
  {
   "cell_type": "code",
   "execution_count": 4,
   "outputs": [
    {
     "data": {
      "text/plain": "331553"
     },
     "execution_count": 4,
     "metadata": {},
     "output_type": "execute_result"
    }
   ],
   "source": [
    "len(AUs['AUID'].unique())"
   ],
   "metadata": {
    "collapsed": false,
    "pycharm": {
     "name": "#%%\n"
    }
   }
  },
  {
   "cell_type": "markdown",
   "source": [
    "### For many AUs do we have a HUC code match?"
   ],
   "metadata": {
    "collapsed": false,
    "pycharm": {
     "name": "#%% md\n"
    }
   }
  },
  {
   "cell_type": "code",
   "execution_count": 5,
   "outputs": [
    {
     "data": {
      "text/plain": "99534"
     },
     "execution_count": 5,
     "metadata": {},
     "output_type": "execute_result"
    }
   ],
   "source": [
    "AUs[(~pd.isna(AUs['HUC-12'])) | (~pd.isna(AUs['HUC-10'])) | (~pd.isna(AUs['HUC-8']))].shape[0]"
   ],
   "metadata": {
    "collapsed": false,
    "pycharm": {
     "name": "#%%\n"
    }
   }
  },
  {
   "cell_type": "markdown",
   "source": [
    "Note - that fact that we don't have HUC code matches for every AU may not be as big an issue as it seems."
   ],
   "metadata": {
    "collapsed": false,
    "pycharm": {
     "name": "#%% md\n"
    }
   }
  },
  {
   "cell_type": "markdown",
   "source": [
    "# Assessments\n",
    "Source: `pull_IR5_assessments.R`"
   ],
   "metadata": {
    "collapsed": false,
    "pycharm": {
     "name": "#%% md\n"
    }
   }
  },
  {
   "cell_type": "markdown",
   "source": [
    "### How many use assessments nationwide, ever, have contributed to an IR4a or IR5 category determination?\n",
    "Here, a use assessment is uniquely identified by assessmentUnitIdentifier + useName + reportingCycleText + assessment_date"
   ],
   "metadata": {
    "collapsed": false,
    "pycharm": {
     "name": "#%% md\n"
    }
   }
  },
  {
   "cell_type": "code",
   "execution_count": 6,
   "outputs": [
    {
     "name": "stderr",
     "output_type": "stream",
     "text": [
      "/var/folders/1h/lmmglcgx2652108zjxqs36vr0000gq/T/ipykernel_45394/2772328984.py:1: DtypeWarning: Columns (2,8,9) have mixed types. Specify dtype option on import or set low_memory=False.\n",
      "  assessments = pd.read_csv('all_IR(4a,5)_assessments.csv', dtype={'reportingCycleText': str}, parse_dates=['assessment_date'], date_parser=lambda t: pd.to_datetime(t, errors='coerce'))\n"
     ]
    },
    {
     "data": {
      "text/plain": "   Unnamed: 0 state_code organizationIdentifier organizationTypeText  \\\n0           1         AL                 21AWIC                State   \n1           2         AL                 21AWIC                State   \n2           3         AL                 21AWIC                State   \n3           4         AL                 21AWIC                State   \n4           5         AL                 21AWIC                State   \n\n  reportingCycleText assessmentUnitIdentifier  \\\n0               2008        AL-Gulf-of-Mexico   \n1               2008        AL-Gulf-of-Mexico   \n2               2008        AL-Gulf-of-Mexico   \n3               2008        AL-Gulf-of-Mexico   \n4               2008        AL-Gulf-of-Mexico   \n\n                            useName useAttainmentCode epaIRCategory  \\\n0                Contact Recreation                 F             5   \n1                           Fishing                 N             5   \n2  Propagation of Fish and Wildlife                 F             5   \n3                      Shellfishing                 N             5   \n4   Industrial and Agriculture Uses                 F             5   \n\n  associatedActionIdentifier threatenedIndicator parameterStatusName  \\\n0                        NaN                   N               Cause   \n1                        NaN                   N               Cause   \n2                        NaN                   N               Cause   \n3                        NaN                   N               Cause   \n4                        NaN                   N               Cause   \n\n  parameterName  cycle_first_listed  cycleLastAssessedText  \\\n0       MERCURY              2006.0                   1998   \n1       MERCURY              2006.0                   1998   \n2       MERCURY              2006.0                   1998   \n3       MERCURY              2006.0                   1998   \n4       MERCURY              2006.0                   1998   \n\n   cycle_scheduled_for_TMDL assessment_date  \n0                    2013.0      1998-04-01  \n1                    2013.0      1998-04-01  \n2                    2013.0      1998-04-01  \n3                    2013.0      1998-04-01  \n4                    2013.0      1998-04-01  ",
      "text/html": "<div>\n<style scoped>\n    .dataframe tbody tr th:only-of-type {\n        vertical-align: middle;\n    }\n\n    .dataframe tbody tr th {\n        vertical-align: top;\n    }\n\n    .dataframe thead th {\n        text-align: right;\n    }\n</style>\n<table border=\"1\" class=\"dataframe\">\n  <thead>\n    <tr style=\"text-align: right;\">\n      <th></th>\n      <th>Unnamed: 0</th>\n      <th>state_code</th>\n      <th>organizationIdentifier</th>\n      <th>organizationTypeText</th>\n      <th>reportingCycleText</th>\n      <th>assessmentUnitIdentifier</th>\n      <th>useName</th>\n      <th>useAttainmentCode</th>\n      <th>epaIRCategory</th>\n      <th>associatedActionIdentifier</th>\n      <th>threatenedIndicator</th>\n      <th>parameterStatusName</th>\n      <th>parameterName</th>\n      <th>cycle_first_listed</th>\n      <th>cycleLastAssessedText</th>\n      <th>cycle_scheduled_for_TMDL</th>\n      <th>assessment_date</th>\n    </tr>\n  </thead>\n  <tbody>\n    <tr>\n      <th>0</th>\n      <td>1</td>\n      <td>AL</td>\n      <td>21AWIC</td>\n      <td>State</td>\n      <td>2008</td>\n      <td>AL-Gulf-of-Mexico</td>\n      <td>Contact Recreation</td>\n      <td>F</td>\n      <td>5</td>\n      <td>NaN</td>\n      <td>N</td>\n      <td>Cause</td>\n      <td>MERCURY</td>\n      <td>2006.0</td>\n      <td>1998</td>\n      <td>2013.0</td>\n      <td>1998-04-01</td>\n    </tr>\n    <tr>\n      <th>1</th>\n      <td>2</td>\n      <td>AL</td>\n      <td>21AWIC</td>\n      <td>State</td>\n      <td>2008</td>\n      <td>AL-Gulf-of-Mexico</td>\n      <td>Fishing</td>\n      <td>N</td>\n      <td>5</td>\n      <td>NaN</td>\n      <td>N</td>\n      <td>Cause</td>\n      <td>MERCURY</td>\n      <td>2006.0</td>\n      <td>1998</td>\n      <td>2013.0</td>\n      <td>1998-04-01</td>\n    </tr>\n    <tr>\n      <th>2</th>\n      <td>3</td>\n      <td>AL</td>\n      <td>21AWIC</td>\n      <td>State</td>\n      <td>2008</td>\n      <td>AL-Gulf-of-Mexico</td>\n      <td>Propagation of Fish and Wildlife</td>\n      <td>F</td>\n      <td>5</td>\n      <td>NaN</td>\n      <td>N</td>\n      <td>Cause</td>\n      <td>MERCURY</td>\n      <td>2006.0</td>\n      <td>1998</td>\n      <td>2013.0</td>\n      <td>1998-04-01</td>\n    </tr>\n    <tr>\n      <th>3</th>\n      <td>4</td>\n      <td>AL</td>\n      <td>21AWIC</td>\n      <td>State</td>\n      <td>2008</td>\n      <td>AL-Gulf-of-Mexico</td>\n      <td>Shellfishing</td>\n      <td>N</td>\n      <td>5</td>\n      <td>NaN</td>\n      <td>N</td>\n      <td>Cause</td>\n      <td>MERCURY</td>\n      <td>2006.0</td>\n      <td>1998</td>\n      <td>2013.0</td>\n      <td>1998-04-01</td>\n    </tr>\n    <tr>\n      <th>4</th>\n      <td>5</td>\n      <td>AL</td>\n      <td>21AWIC</td>\n      <td>State</td>\n      <td>2008</td>\n      <td>AL-Gulf-of-Mexico</td>\n      <td>Industrial and Agriculture Uses</td>\n      <td>F</td>\n      <td>5</td>\n      <td>NaN</td>\n      <td>N</td>\n      <td>Cause</td>\n      <td>MERCURY</td>\n      <td>2006.0</td>\n      <td>1998</td>\n      <td>2013.0</td>\n      <td>1998-04-01</td>\n    </tr>\n  </tbody>\n</table>\n</div>"
     },
     "execution_count": 6,
     "metadata": {},
     "output_type": "execute_result"
    }
   ],
   "source": [
    "assessments = pd.read_csv('all_IR(4a,5)_assessments.csv', dtype={'reportingCycleText': str}, parse_dates=['assessment_date'], date_parser=lambda t: pd.to_datetime(t, errors='coerce'))\n",
    "assessments.head()"
   ],
   "metadata": {
    "collapsed": false,
    "pycharm": {
     "name": "#%%\n"
    }
   }
  },
  {
   "cell_type": "code",
   "execution_count": 7,
   "outputs": [],
   "source": [
    "# All states are required to submit their 303(d) lists by April 1st - hence the cycles can be assigned to April 1st\n",
    "# assessments['reportingCycleText'] = pd.to_datetime(assessments['reportingCycleText'] + '-04-01', errors='coerce')\n",
    "# def repair_date(x):\n",
    "#     if not pd.isna(x):\n",
    "#         return pd.to_datetime(str(int(x)) + '-04-01', errors='coerce')\n",
    "#     return(x)\n",
    "# assessments['cycle_scheduled_for_TMDL'] = assessments['cycle_scheduled_for_TMDL'].apply(lambda x: repair_date(x))"
   ],
   "metadata": {
    "collapsed": false,
    "pycharm": {
     "name": "#%%\n"
    }
   }
  },
  {
   "cell_type": "code",
   "execution_count": 8,
   "outputs": [
    {
     "data": {
      "text/plain": "836242"
     },
     "execution_count": 8,
     "metadata": {},
     "output_type": "execute_result"
    }
   ],
   "source": [
    "assessments_nonattainment = assessments[assessments['useAttainmentCode']=='N']\n",
    "assessments_nonattainment.drop_duplicates(subset=['assessmentUnitIdentifier', 'useName', 'reportingCycleText', 'assessment_date']).shape[0]"
   ],
   "metadata": {
    "collapsed": false,
    "pycharm": {
     "name": "#%%\n"
    }
   }
  },
  {
   "cell_type": "markdown",
   "source": [
    "### How many unique assessment units have been assigned category IR4a or IR5?"
   ],
   "metadata": {
    "collapsed": false,
    "pycharm": {
     "name": "#%% md\n"
    }
   }
  },
  {
   "cell_type": "code",
   "execution_count": 9,
   "outputs": [
    {
     "data": {
      "text/plain": "175818"
     },
     "execution_count": 9,
     "metadata": {},
     "output_type": "execute_result"
    }
   ],
   "source": [
    "len(assessments['assessmentUnitIdentifier'].unique())"
   ],
   "metadata": {
    "collapsed": false,
    "pycharm": {
     "name": "#%%\n"
    }
   }
  },
  {
   "cell_type": "markdown",
   "source": [
    "### Which states have had the most use assessments leading to IR4a or IR5 determinations?"
   ],
   "metadata": {
    "collapsed": false,
    "pycharm": {
     "name": "#%% md\n"
    }
   }
  },
  {
   "cell_type": "code",
   "execution_count": 10,
   "outputs": [
    {
     "data": {
      "text/plain": "PA    291402\nNH     73914\nWV     40966\nVA     39291\nNC     37759\nMI     26084\nIN     25787\nMN     23027\nID     22443\nTN     16142\nFL     14704\nCA     12724\nKY     12600\nOR     11984\nNJ     11844\nMA     11708\nWA     11162\nKS     10791\nMT     10504\nOK     10353\nGA     10225\nSC      8563\nOH      8449\nTX      7850\nWI      6650\nCT      5736\nIL      5649\nAL      5234\nPR      4912\nLA      4633\nCO      4212\nRI      3663\nNM      3620\nIA      3614\nMS      3517\nSD      2983\nME      2887\nUT      2764\nHI      2718\nVT      2631\nMD      2393\nNV      2325\nDE      2321\nNE      2294\nAK      2208\nAR      2016\nMO      1372\nAZ      1367\nVI      1237\nWY       961\nNY       922\nND       704\nGU       423\nName: state_code, dtype: int64"
     },
     "execution_count": 10,
     "metadata": {},
     "output_type": "execute_result"
    }
   ],
   "source": [
    "assessments_nonattainment.drop_duplicates(subset=['assessmentUnitIdentifier', 'useName', 'reportingCycleText', 'assessment_date'])['state_code'].value_counts()"
   ],
   "metadata": {
    "collapsed": false,
    "pycharm": {
     "name": "#%%\n"
    }
   }
  },
  {
   "cell_type": "markdown",
   "source": [
    "### Which states have had the highest rate of IR4a or IR5 determinations per assessment unit?"
   ],
   "metadata": {
    "collapsed": false,
    "pycharm": {
     "name": "#%% md\n"
    }
   }
  },
  {
   "cell_type": "code",
   "execution_count": 11,
   "outputs": [],
   "source": [
    "# Get counts of assessment units in each state\n",
    "AU_counts = {}\n",
    "for state in assessments['state_code'].unique():\n",
    "    response = urlopen('https://attains.epa.gov/attains-public/api/assessmentUnits?stateCode=' + state + '&returnCountOnly=Y')\n",
    "    data = json.loads(response.read())['count']\n",
    "    AU_counts[state] = data"
   ],
   "metadata": {
    "collapsed": false,
    "pycharm": {
     "name": "#%%\n"
    }
   }
  },
  {
   "cell_type": "code",
   "execution_count": 12,
   "outputs": [],
   "source": [
    "rates = pd.DataFrame(assessments_nonattainment.drop_duplicates(subset=['assessmentUnitIdentifier', 'useName', 'reportingCycleText', 'assessment_date'])['state_code'].value_counts())\n",
    "rates = rates.reset_index().rename(columns = {'index':'state', 'state_code':'# IR5 use assessments'})\n",
    "rates['AUs'] = rates['state'].apply(lambda x: AU_counts[x])\n",
    "rates['IR5 use assessment rate'] = rates['# IR5 use assessments']/rates['AUs']"
   ],
   "metadata": {
    "collapsed": false,
    "pycharm": {
     "name": "#%%\n"
    }
   }
  },
  {
   "cell_type": "code",
   "execution_count": 13,
   "outputs": [
    {
     "data": {
      "text/plain": "   state  # IR5 use assessments   AUs  IR5 use assessment rate\n28    PR                   4912   358                13.720670\n14    NJ                  11844   958                12.363257\n18    MT                  10504  1203                 8.731505\n29    LA                   4633   563                 8.229130\n35    SD                   2983   400                 7.457500\n48    VI                   1237   177                 6.988701\n22    OH                   8449  1723                 4.903656\n17    KS                  10791  2421                 4.457249\n15    MA                  11708  2764                 4.235890\n31    RI                   3663   897                 4.083612",
      "text/html": "<div>\n<style scoped>\n    .dataframe tbody tr th:only-of-type {\n        vertical-align: middle;\n    }\n\n    .dataframe tbody tr th {\n        vertical-align: top;\n    }\n\n    .dataframe thead th {\n        text-align: right;\n    }\n</style>\n<table border=\"1\" class=\"dataframe\">\n  <thead>\n    <tr style=\"text-align: right;\">\n      <th></th>\n      <th>state</th>\n      <th># IR5 use assessments</th>\n      <th>AUs</th>\n      <th>IR5 use assessment rate</th>\n    </tr>\n  </thead>\n  <tbody>\n    <tr>\n      <th>28</th>\n      <td>PR</td>\n      <td>4912</td>\n      <td>358</td>\n      <td>13.720670</td>\n    </tr>\n    <tr>\n      <th>14</th>\n      <td>NJ</td>\n      <td>11844</td>\n      <td>958</td>\n      <td>12.363257</td>\n    </tr>\n    <tr>\n      <th>18</th>\n      <td>MT</td>\n      <td>10504</td>\n      <td>1203</td>\n      <td>8.731505</td>\n    </tr>\n    <tr>\n      <th>29</th>\n      <td>LA</td>\n      <td>4633</td>\n      <td>563</td>\n      <td>8.229130</td>\n    </tr>\n    <tr>\n      <th>35</th>\n      <td>SD</td>\n      <td>2983</td>\n      <td>400</td>\n      <td>7.457500</td>\n    </tr>\n    <tr>\n      <th>48</th>\n      <td>VI</td>\n      <td>1237</td>\n      <td>177</td>\n      <td>6.988701</td>\n    </tr>\n    <tr>\n      <th>22</th>\n      <td>OH</td>\n      <td>8449</td>\n      <td>1723</td>\n      <td>4.903656</td>\n    </tr>\n    <tr>\n      <th>17</th>\n      <td>KS</td>\n      <td>10791</td>\n      <td>2421</td>\n      <td>4.457249</td>\n    </tr>\n    <tr>\n      <th>15</th>\n      <td>MA</td>\n      <td>11708</td>\n      <td>2764</td>\n      <td>4.235890</td>\n    </tr>\n    <tr>\n      <th>31</th>\n      <td>RI</td>\n      <td>3663</td>\n      <td>897</td>\n      <td>4.083612</td>\n    </tr>\n  </tbody>\n</table>\n</div>"
     },
     "execution_count": 13,
     "metadata": {},
     "output_type": "execute_result"
    }
   ],
   "source": [
    "rates.sort_values(by='IR5 use assessment rate', ascending=False).iloc[0:10]"
   ],
   "metadata": {
    "collapsed": false,
    "pycharm": {
     "name": "#%%\n"
    }
   }
  },
  {
   "cell_type": "markdown",
   "source": [
    "### For what fraction of use assessments do we have an assessment date?"
   ],
   "metadata": {
    "collapsed": false,
    "pycharm": {
     "name": "#%% md\n"
    }
   }
  },
  {
   "cell_type": "code",
   "execution_count": 14,
   "outputs": [
    {
     "data": {
      "text/plain": "0.20059259540217036"
     },
     "execution_count": 14,
     "metadata": {},
     "output_type": "execute_result"
    }
   ],
   "source": [
    "use_assessments_unique = assessments.drop_duplicates(subset=['assessmentUnitIdentifier', 'useName', 'reportingCycleText', 'assessment_date'])\n",
    "use_assessments_unique[~pd.isna(use_assessments_unique['assessment_date'])].shape[0]/use_assessments_unique.shape[0]"
   ],
   "metadata": {
    "collapsed": false,
    "pycharm": {
     "name": "#%%\n"
    }
   }
  },
  {
   "cell_type": "markdown",
   "source": [
    "### What parameters have caused the most use non-attainment declarations?"
   ],
   "metadata": {
    "collapsed": false,
    "pycharm": {
     "name": "#%% md\n"
    }
   }
  },
  {
   "cell_type": "code",
   "execution_count": 15,
   "outputs": [
    {
     "data": {
      "text/plain": "ESCHERICHIA COLI (E. COLI)             0.073085\nPATHOGENS                              0.052151\nMERCURY                                0.051950\nDISSOLVED OXYGEN                       0.049377\nFECAL COLIFORM                         0.048766\nMERCURY - FISH CONSUMPTION ADVISORY    0.043938\nSILTATION                              0.039510\nPOLYCHLORINATED BIPHENYLS (PCBS)       0.038593\nPH                                     0.036390\nMERCURY IN FISH TISSUE                 0.034452\nName: parameterName, dtype: float64"
     },
     "execution_count": 15,
     "metadata": {},
     "output_type": "execute_result"
    }
   ],
   "source": [
    "assessments[assessments['parameterStatusName']=='Cause']['parameterName'].value_counts(normalize=True).iloc[0:10]"
   ],
   "metadata": {
    "collapsed": false,
    "pycharm": {
     "name": "#%%\n"
    }
   }
  },
  {
   "cell_type": "markdown",
   "source": [
    "### What parameters have caused the most assessment units to be categorized as IR4a or IR5, irrespective of number of use non-attainment declarations?"
   ],
   "metadata": {
    "collapsed": false,
    "pycharm": {
     "name": "#%% md\n"
    }
   }
  },
  {
   "cell_type": "code",
   "execution_count": 16,
   "outputs": [
    {
     "data": {
      "text/plain": "ESCHERICHIA COLI (E. COLI)          0.080626\nSILTATION                           0.069908\nPATHOGENS                           0.069699\nMERCURY IN FISH TISSUE              0.047492\nMERCURY                             0.044341\nFECAL COLIFORM                      0.042387\nPH                                  0.038666\nDISSOLVED OXYGEN                    0.038277\nMETALS                              0.033642\nPOLYCHLORINATED BIPHENYLS (PCBS)    0.033543\nName: parameterName, dtype: float64"
     },
     "execution_count": 16,
     "metadata": {},
     "output_type": "execute_result"
    }
   ],
   "source": [
    "IR5_culprits_unique = assessments.drop_duplicates(subset=['assessmentUnitIdentifier', 'reportingCycleText', 'assessment_date', 'parameterName'])\n",
    "\n",
    "IR5_culprits_unique[IR5_culprits_unique['parameterStatusName']=='Cause']['parameterName'].value_counts(normalize=True).iloc[0:10]"
   ],
   "metadata": {
    "collapsed": false,
    "pycharm": {
     "name": "#%%\n"
    }
   }
  },
  {
   "cell_type": "markdown",
   "source": [
    "### What uses have the highest rate of non-attainment?"
   ],
   "metadata": {
    "collapsed": false,
    "pycharm": {
     "name": "#%% md\n"
    }
   }
  },
  {
   "cell_type": "code",
   "execution_count": 17,
   "outputs": [
    {
     "data": {
      "text/plain": "Fish Consumption                0.073106\nWater Contact Sports            0.058909\nPrimary Contact Recreation      0.048515\nSecondary Contact Recreation    0.042694\nFishing                         0.042032\nCold Water Fishes               0.040945\nWarm Water Fishes               0.038143\nAquatic Life                    0.036596\nRecreation                      0.024002\nWildlife                        0.021430\nName: useName, dtype: float64"
     },
     "execution_count": 17,
     "metadata": {},
     "output_type": "execute_result"
    }
   ],
   "source": [
    "use_assessments_unique['useName'].value_counts(normalize=True).iloc[0:10]"
   ],
   "metadata": {
    "collapsed": false,
    "pycharm": {
     "name": "#%%\n"
    }
   }
  },
  {
   "cell_type": "markdown",
   "source": [
    "Let's look at an example of one AUID x use x parameter combination over time:"
   ],
   "metadata": {
    "collapsed": false,
    "pycharm": {
     "name": "#%% md\n"
    }
   }
  },
  {
   "cell_type": "code",
   "execution_count": 18,
   "outputs": [
    {
     "data": {
      "text/plain": "      Unnamed: 0 state_code organizationIdentifier organizationTypeText  \\\n97            98         AL                 21AWIC                State   \n2579        2580         AL                 21AWIC                State   \n5209        5210         AL                 21AWIC                State   \n7946        7947         AL                 21AWIC                State   \n\n     reportingCycleText assessmentUnitIdentifier             useName  \\\n97                 2008      AL03140106-0302-202  Contact Recreation   \n2579               2010      AL03140106-0302-202  Contact Recreation   \n5209               2012      AL03140106-0302-202  Contact Recreation   \n7946               2014      AL03140106-0302-202  Contact Recreation   \n\n     useAttainmentCode epaIRCategory associatedActionIdentifier  \\\n97                   N             5                        NaN   \n2579                 N             5                        NaN   \n5209                 N             5                        NaN   \n7946                 N             5                        NaN   \n\n     threatenedIndicator parameterStatusName   parameterName  \\\n97                     N               Cause  AMMONIA, TOTAL   \n2579                   N               Cause  AMMONIA, TOTAL   \n5209                   N               Cause  AMMONIA, TOTAL   \n7946                   N               Cause  AMMONIA, TOTAL   \n\n      cycle_first_listed  cycleLastAssessedText  cycle_scheduled_for_TMDL  \\\n97                2006.0                   2008                    2010.0   \n2579              1998.0                   2006                    2015.0   \n5209              1998.0                   2006                    2015.0   \n7946              1998.0                   2006                    2016.0   \n\n     assessment_date  \n97        2006-04-01  \n2579      2006-04-01  \n5209      2006-04-01  \n7946      2006-04-01  ",
      "text/html": "<div>\n<style scoped>\n    .dataframe tbody tr th:only-of-type {\n        vertical-align: middle;\n    }\n\n    .dataframe tbody tr th {\n        vertical-align: top;\n    }\n\n    .dataframe thead th {\n        text-align: right;\n    }\n</style>\n<table border=\"1\" class=\"dataframe\">\n  <thead>\n    <tr style=\"text-align: right;\">\n      <th></th>\n      <th>Unnamed: 0</th>\n      <th>state_code</th>\n      <th>organizationIdentifier</th>\n      <th>organizationTypeText</th>\n      <th>reportingCycleText</th>\n      <th>assessmentUnitIdentifier</th>\n      <th>useName</th>\n      <th>useAttainmentCode</th>\n      <th>epaIRCategory</th>\n      <th>associatedActionIdentifier</th>\n      <th>threatenedIndicator</th>\n      <th>parameterStatusName</th>\n      <th>parameterName</th>\n      <th>cycle_first_listed</th>\n      <th>cycleLastAssessedText</th>\n      <th>cycle_scheduled_for_TMDL</th>\n      <th>assessment_date</th>\n    </tr>\n  </thead>\n  <tbody>\n    <tr>\n      <th>97</th>\n      <td>98</td>\n      <td>AL</td>\n      <td>21AWIC</td>\n      <td>State</td>\n      <td>2008</td>\n      <td>AL03140106-0302-202</td>\n      <td>Contact Recreation</td>\n      <td>N</td>\n      <td>5</td>\n      <td>NaN</td>\n      <td>N</td>\n      <td>Cause</td>\n      <td>AMMONIA, TOTAL</td>\n      <td>2006.0</td>\n      <td>2008</td>\n      <td>2010.0</td>\n      <td>2006-04-01</td>\n    </tr>\n    <tr>\n      <th>2579</th>\n      <td>2580</td>\n      <td>AL</td>\n      <td>21AWIC</td>\n      <td>State</td>\n      <td>2010</td>\n      <td>AL03140106-0302-202</td>\n      <td>Contact Recreation</td>\n      <td>N</td>\n      <td>5</td>\n      <td>NaN</td>\n      <td>N</td>\n      <td>Cause</td>\n      <td>AMMONIA, TOTAL</td>\n      <td>1998.0</td>\n      <td>2006</td>\n      <td>2015.0</td>\n      <td>2006-04-01</td>\n    </tr>\n    <tr>\n      <th>5209</th>\n      <td>5210</td>\n      <td>AL</td>\n      <td>21AWIC</td>\n      <td>State</td>\n      <td>2012</td>\n      <td>AL03140106-0302-202</td>\n      <td>Contact Recreation</td>\n      <td>N</td>\n      <td>5</td>\n      <td>NaN</td>\n      <td>N</td>\n      <td>Cause</td>\n      <td>AMMONIA, TOTAL</td>\n      <td>1998.0</td>\n      <td>2006</td>\n      <td>2015.0</td>\n      <td>2006-04-01</td>\n    </tr>\n    <tr>\n      <th>7946</th>\n      <td>7947</td>\n      <td>AL</td>\n      <td>21AWIC</td>\n      <td>State</td>\n      <td>2014</td>\n      <td>AL03140106-0302-202</td>\n      <td>Contact Recreation</td>\n      <td>N</td>\n      <td>5</td>\n      <td>NaN</td>\n      <td>N</td>\n      <td>Cause</td>\n      <td>AMMONIA, TOTAL</td>\n      <td>1998.0</td>\n      <td>2006</td>\n      <td>2016.0</td>\n      <td>2006-04-01</td>\n    </tr>\n  </tbody>\n</table>\n</div>"
     },
     "execution_count": 18,
     "metadata": {},
     "output_type": "execute_result"
    }
   ],
   "source": [
    "assessments[(assessments['assessmentUnitIdentifier']=='AL03140106-0302-202') &\n",
    "            (assessments['useName']=='Contact Recreation') &\n",
    "            (assessments['parameterName']=='AMMONIA, TOTAL')].sort_values(by='reportingCycleText').drop_duplicates()"
   ],
   "metadata": {
    "collapsed": false,
    "pycharm": {
     "name": "#%%\n"
    }
   }
  },
  {
   "cell_type": "markdown",
   "source": [
    "Clearly, the fields `cycle_first_listed` and `cycleLastAssessedText` are misleading."
   ],
   "metadata": {
    "collapsed": false,
    "pycharm": {
     "name": "#%% md\n"
    }
   }
  },
  {
   "cell_type": "markdown",
   "source": [
    "# Actions\n",
    "Source: `pull_actions.R`"
   ],
   "metadata": {
    "collapsed": false,
    "pycharm": {
     "name": "#%% md\n"
    }
   }
  },
  {
   "cell_type": "code",
   "execution_count": 19,
   "outputs": [
    {
     "name": "stderr",
     "output_type": "stream",
     "text": [
      "/var/folders/1h/lmmglcgx2652108zjxqs36vr0000gq/T/ipykernel_45394/1988036257.py:1: DtypeWarning: Columns (4,11,12,13) have mixed types. Specify dtype option on import or set low_memory=False.\n",
      "  all_actions = pd.read_csv('all_actions.csv', parse_dates=['completionDate', 'TMDLDate'], date_parser=lambda t: pd.to_datetime(t, errors='coerce')).drop('Unnamed: 0', axis=1).drop_duplicates()\n"
     ]
    }
   ],
   "source": [
    "all_actions = pd.read_csv('all_actions.csv', parse_dates=['completionDate', 'TMDLDate'], date_parser=lambda t: pd.to_datetime(t, errors='coerce')).drop('Unnamed: 0', axis=1).drop_duplicates()\n",
    "all_actions_permit_data = pd.read_csv('all_actions_permit_data.csv').drop('Unnamed: 0', axis=1).drop_duplicates()"
   ],
   "metadata": {
    "collapsed": false,
    "pycharm": {
     "name": "#%%\n"
    }
   }
  },
  {
   "cell_type": "code",
   "execution_count": 20,
   "outputs": [
    {
     "data": {
      "text/plain": "  organizationIdentifier organizationTypeText state_code actionIdentifier  \\\n0                 21AWIC                State         AL            36562   \n2                 21AWIC                State         AL            36561   \n4                 21AWIC                State         AL            36556   \n6                 21AWIC                State         AL            36559   \n8                 21AWIC                State         AL            39070   \n\n  actionTypeCode  actionStatusCode completionDate assessmentUnitIdentifier  \\\n0           TMDL  EPA Final Action     2009-09-23      AL03160205-0310-702   \n2           TMDL  EPA Final Action     2009-09-23      AL03160205-0202-400   \n4           TMDL  EPA Final Action     2009-09-23      AL03150202-0202-401   \n6           TMDL  EPA Final Action     2009-09-23      AL03160205-0202-300   \n8           TMDL  EPA Final Action     2010-09-21      AL03140107-0205-102   \n\n           pollutantName pollutantSourceTypeCode explicitMarginofSafetyText  \\\n0         FECAL COLIFORM         Nonpoint source         1320000000 CFU/DAY   \n2         FECAL COLIFORM                    Both         2010000000 CFU/DAY   \n4         FECAL COLIFORM                    Both         7290000000 CFU/DAY   \n6         FECAL COLIFORM                    Both         1660000000 CFU/DAY   \n8  ENTEROCOCCUS BACTERIA         Nonpoint source                        NaN   \n\n  implicitMarginofSafetyText  \\\n0                          N   \n2                          N   \n4                          N   \n6                          N   \n8                          N   \n\n                                    TMDLEndPointText   TMDLDate  \n0  JUNE-SEPTEMBER: GEOMETRIC MEAN OF 200 COLONIES... 2009-09-23  \n2  JUNE-SEPTEMBER: GEOMETRIC MEAN OF 200 COLONIES... 2009-09-23  \n4  JUNE-SEPTEMBER: GEOMETRIC MEAN OF 200 COLONIES... 2009-09-23  \n6  JUNE-SEPTEMBER: GEOMETRIC MEAN OF 200 COLONIES... 2009-09-23  \n8  IN COASTAL WATERS, BACTERIA OF THE ENTEROCOCCI... 2010-09-21  ",
      "text/html": "<div>\n<style scoped>\n    .dataframe tbody tr th:only-of-type {\n        vertical-align: middle;\n    }\n\n    .dataframe tbody tr th {\n        vertical-align: top;\n    }\n\n    .dataframe thead th {\n        text-align: right;\n    }\n</style>\n<table border=\"1\" class=\"dataframe\">\n  <thead>\n    <tr style=\"text-align: right;\">\n      <th></th>\n      <th>organizationIdentifier</th>\n      <th>organizationTypeText</th>\n      <th>state_code</th>\n      <th>actionIdentifier</th>\n      <th>actionTypeCode</th>\n      <th>actionStatusCode</th>\n      <th>completionDate</th>\n      <th>assessmentUnitIdentifier</th>\n      <th>pollutantName</th>\n      <th>pollutantSourceTypeCode</th>\n      <th>explicitMarginofSafetyText</th>\n      <th>implicitMarginofSafetyText</th>\n      <th>TMDLEndPointText</th>\n      <th>TMDLDate</th>\n    </tr>\n  </thead>\n  <tbody>\n    <tr>\n      <th>0</th>\n      <td>21AWIC</td>\n      <td>State</td>\n      <td>AL</td>\n      <td>36562</td>\n      <td>TMDL</td>\n      <td>EPA Final Action</td>\n      <td>2009-09-23</td>\n      <td>AL03160205-0310-702</td>\n      <td>FECAL COLIFORM</td>\n      <td>Nonpoint source</td>\n      <td>1320000000 CFU/DAY</td>\n      <td>N</td>\n      <td>JUNE-SEPTEMBER: GEOMETRIC MEAN OF 200 COLONIES...</td>\n      <td>2009-09-23</td>\n    </tr>\n    <tr>\n      <th>2</th>\n      <td>21AWIC</td>\n      <td>State</td>\n      <td>AL</td>\n      <td>36561</td>\n      <td>TMDL</td>\n      <td>EPA Final Action</td>\n      <td>2009-09-23</td>\n      <td>AL03160205-0202-400</td>\n      <td>FECAL COLIFORM</td>\n      <td>Both</td>\n      <td>2010000000 CFU/DAY</td>\n      <td>N</td>\n      <td>JUNE-SEPTEMBER: GEOMETRIC MEAN OF 200 COLONIES...</td>\n      <td>2009-09-23</td>\n    </tr>\n    <tr>\n      <th>4</th>\n      <td>21AWIC</td>\n      <td>State</td>\n      <td>AL</td>\n      <td>36556</td>\n      <td>TMDL</td>\n      <td>EPA Final Action</td>\n      <td>2009-09-23</td>\n      <td>AL03150202-0202-401</td>\n      <td>FECAL COLIFORM</td>\n      <td>Both</td>\n      <td>7290000000 CFU/DAY</td>\n      <td>N</td>\n      <td>JUNE-SEPTEMBER: GEOMETRIC MEAN OF 200 COLONIES...</td>\n      <td>2009-09-23</td>\n    </tr>\n    <tr>\n      <th>6</th>\n      <td>21AWIC</td>\n      <td>State</td>\n      <td>AL</td>\n      <td>36559</td>\n      <td>TMDL</td>\n      <td>EPA Final Action</td>\n      <td>2009-09-23</td>\n      <td>AL03160205-0202-300</td>\n      <td>FECAL COLIFORM</td>\n      <td>Both</td>\n      <td>1660000000 CFU/DAY</td>\n      <td>N</td>\n      <td>JUNE-SEPTEMBER: GEOMETRIC MEAN OF 200 COLONIES...</td>\n      <td>2009-09-23</td>\n    </tr>\n    <tr>\n      <th>8</th>\n      <td>21AWIC</td>\n      <td>State</td>\n      <td>AL</td>\n      <td>39070</td>\n      <td>TMDL</td>\n      <td>EPA Final Action</td>\n      <td>2010-09-21</td>\n      <td>AL03140107-0205-102</td>\n      <td>ENTEROCOCCUS BACTERIA</td>\n      <td>Nonpoint source</td>\n      <td>NaN</td>\n      <td>N</td>\n      <td>IN COASTAL WATERS, BACTERIA OF THE ENTEROCOCCI...</td>\n      <td>2010-09-21</td>\n    </tr>\n  </tbody>\n</table>\n</div>"
     },
     "execution_count": 20,
     "metadata": {},
     "output_type": "execute_result"
    }
   ],
   "source": [
    "all_actions.head()"
   ],
   "metadata": {
    "collapsed": false,
    "pycharm": {
     "name": "#%%\n"
    }
   }
  },
  {
   "cell_type": "markdown",
   "source": [
    "### How many unique TMDL actions do we have?"
   ],
   "metadata": {
    "collapsed": false,
    "pycharm": {
     "name": "#%% md\n"
    }
   }
  },
  {
   "cell_type": "code",
   "execution_count": 21,
   "outputs": [
    {
     "data": {
      "text/plain": "20009"
     },
     "execution_count": 21,
     "metadata": {},
     "output_type": "execute_result"
    }
   ],
   "source": [
    "len(all_actions.drop_duplicates(subset='actionIdentifier'))"
   ],
   "metadata": {
    "collapsed": false,
    "pycharm": {
     "name": "#%%\n"
    }
   }
  },
  {
   "cell_type": "markdown",
   "source": [
    "### How many unique AUs are represented in the actions data?"
   ],
   "metadata": {
    "collapsed": false,
    "pycharm": {
     "name": "#%% md\n"
    }
   }
  },
  {
   "cell_type": "code",
   "execution_count": 22,
   "outputs": [
    {
     "data": {
      "text/plain": "96171"
     },
     "execution_count": 22,
     "metadata": {},
     "output_type": "execute_result"
    }
   ],
   "source": [
    "len(all_actions.drop_duplicates(subset='assessmentUnitIdentifier'))"
   ],
   "metadata": {
    "collapsed": false,
    "pycharm": {
     "name": "#%%\n"
    }
   }
  },
  {
   "cell_type": "markdown",
   "source": [
    "### Which states have the most TMDL actions?"
   ],
   "metadata": {
    "collapsed": false,
    "pycharm": {
     "name": "#%% md\n"
    }
   }
  },
  {
   "cell_type": "code",
   "execution_count": 23,
   "outputs": [
    {
     "data": {
      "text/plain": "WV    0.268479\nKS    0.101804\nVA    0.088460\nMD    0.042031\nMT    0.028787\nDE    0.028237\nCO    0.022990\nOK    0.021290\nFL    0.020241\nCA    0.019791\nGA    0.019791\nLA    0.019741\nMS    0.018692\nSD    0.018442\nPA    0.018342\nMN    0.017192\nMA    0.016892\nOH    0.016143\nNJ    0.015193\nNY    0.012294\nTX    0.011045\nNH    0.009996\nNM    0.009896\nUT    0.009696\nWY    0.009146\nIL    0.009046\nMO    0.008996\nIA    0.008396\nCT    0.008146\nID    0.007747\nNE    0.007397\nTN    0.007047\nAL    0.006597\nME    0.006597\nSC    0.006147\nWA    0.006047\nND    0.005947\nMI    0.005747\nRI    0.005647\nAR    0.005348\nVT    0.004798\nIN    0.004698\nWI    0.004148\nNC    0.003748\nHI    0.002999\nAK    0.002799\nKY    0.002599\nAZ    0.001599\nNV    0.001149\nVI    0.000950\nPR    0.000650\nOR    0.000250\nGU    0.000150\nName: state_code, dtype: float64"
     },
     "execution_count": 23,
     "metadata": {},
     "output_type": "execute_result"
    }
   ],
   "source": [
    "all_actions.drop_duplicates(subset='actionIdentifier')['state_code'].value_counts(normalize=True)"
   ],
   "metadata": {
    "collapsed": false,
    "pycharm": {
     "name": "#%%\n"
    }
   }
  },
  {
   "cell_type": "markdown",
   "source": [
    "### Which states have the highest rate of TMDL actions per AU?"
   ],
   "metadata": {
    "collapsed": false,
    "pycharm": {
     "name": "#%% md\n"
    }
   }
  },
  {
   "cell_type": "code",
   "execution_count": 24,
   "outputs": [],
   "source": [
    "# TMDL_rates = pd.DataFrame(all_actions.drop_duplicates(\n",
    "#     subset=['actionIdentifier'])['state_code'].value_counts())\n",
    "# TMDL_rates = TMDL_rates.reset_index().rename(columns={'index': 'state', 'state_code': '# TMDLs'})\n",
    "# TMDL_rates['AUs'] = TMDL_rates['state'].apply(lambda x: AU_counts[x])\n",
    "# TMDL_rates['TMDL rate'] = TMDL_rates['# TMDLs'] / TMDL_rates['AUs']\n",
    "# TMDL_rates.sort_values(by='TMDL rate', ascending=False).iloc[0:10]"
   ],
   "metadata": {
    "collapsed": false,
    "pycharm": {
     "name": "#%%\n"
    }
   }
  },
  {
   "cell_type": "markdown",
   "source": [
    "### What is the temporal distribution of TMDLs?"
   ],
   "metadata": {
    "collapsed": false,
    "pycharm": {
     "name": "#%% md\n"
    }
   }
  },
  {
   "cell_type": "markdown",
   "source": [
    "Based on a document here: https://www.exchangenetwork.net/schema/ATTAINS/1/ATTAINS_DET_v1.0a.xlsx , `completionDate` refers to the planned TMDL date, and `TMDLDate` refers to the actual date the TMDL was approved by EPA."
   ],
   "metadata": {
    "collapsed": false,
    "pycharm": {
     "name": "#%% md\n"
    }
   }
  },
  {
   "cell_type": "code",
   "execution_count": 25,
   "outputs": [
    {
     "data": {
      "text/plain": "<Figure size 432x288 with 1 Axes>",
      "image/png": "[encoded data removed]"
     },
     "metadata": {
      "needs_background": "light"
     },
     "output_type": "display_data"
    }
   ],
   "source": [
    "plt.title('Planned TMDL Date')\n",
    "plt.hist(all_actions.drop_duplicates(subset='actionIdentifier')['completionDate'], bins=50);"
   ],
   "metadata": {
    "collapsed": false,
    "pycharm": {
     "name": "#%%\n"
    }
   }
  },
  {
   "cell_type": "code",
   "execution_count": 26,
   "outputs": [
    {
     "data": {
      "text/plain": "<Figure size 432x288 with 1 Axes>",
      "image/png": "[encoded data removed]"
     },
     "metadata": {
      "needs_background": "light"
     },
     "output_type": "display_data"
    }
   ],
   "source": [
    "plt.title('Actual TMDL Date')\n",
    "plt.hist(all_actions.drop_duplicates(subset='actionIdentifier')['TMDLDate'], bins=50);"
   ],
   "metadata": {
    "collapsed": false,
    "pycharm": {
     "name": "#%%\n"
    }
   }
  },
  {
   "cell_type": "code",
   "execution_count": 27,
   "outputs": [
    {
     "data": {
      "text/plain": "Text(0.5, 1.0, 'Days between planned TMDL Date and actual TMDL Date')"
     },
     "execution_count": 27,
     "metadata": {},
     "output_type": "execute_result"
    },
    {
     "data": {
      "text/plain": "<Figure size 432x288 with 1 Axes>",
      "image/png": "[encoded data removed]"
     },
     "metadata": {
      "needs_background": "light"
     },
     "output_type": "display_data"
    }
   ],
   "source": [
    "import numpy as np\n",
    "delays = (all_actions.drop_duplicates(subset='assessmentUnitIdentifier')['TMDLDate'] -\n",
    "          all_actions.drop_duplicates(subset='assessmentUnitIdentifier')['completionDate']) / dt.timedelta(\n",
    "    days=1)\n",
    "plt.xscale(\"log\")\n",
    "plt.hist(delays, bins=np.logspace(np.log10(1),np.log10(10000.0), 50))\n",
    "plt.title('Days between planned TMDL Date and actual TMDL Date')"
   ],
   "metadata": {
    "collapsed": false,
    "pycharm": {
     "name": "#%%\n"
    }
   }
  },
  {
   "cell_type": "markdown",
   "source": [
    "### Which pollutants most often lead to TMDLs?"
   ],
   "metadata": {
    "collapsed": false,
    "pycharm": {
     "name": "#%% md\n"
    }
   }
  },
  {
   "cell_type": "code",
   "execution_count": 28,
   "outputs": [
    {
     "data": {
      "text/plain": "FECAL COLIFORM                  0.155362\nIRON                            0.102766\nESCHERICHIA COLI (E. COLI)      0.070738\nPHOSPHORUS, TOTAL               0.059801\nSEDIMENT                        0.040726\nPH                              0.037441\nALUMINUM                        0.036657\nNITROGEN, TOTAL                 0.030498\nTOTAL SUSPENDED SOLIDS (TSS)    0.027586\nMANGANESE                       0.027474\nName: pollutantName, dtype: float64"
     },
     "execution_count": 28,
     "metadata": {},
     "output_type": "execute_result"
    }
   ],
   "source": [
    "all_actions.drop_duplicates(subset=['actionIdentifier', 'pollutantName'])['pollutantName'].value_counts(normalize=True).iloc[0:10]"
   ],
   "metadata": {
    "collapsed": false,
    "pycharm": {
     "name": "#%%\n"
    }
   }
  },
  {
   "cell_type": "markdown",
   "source": [
    "### Which combinations of state x pollutant are most frequent across all TMDLS?"
   ],
   "metadata": {
    "collapsed": false,
    "pycharm": {
     "name": "#%% md\n"
    }
   }
  },
  {
   "cell_type": "code",
   "execution_count": 29,
   "outputs": [
    {
     "data": {
      "text/plain": "                                              0\npollutantName              state_code          \nIRON                       WV          0.085558\nFECAL COLIFORM             WV          0.050021\nALUMINUM                   WV          0.022061\nPH                         WV          0.019411\nESCHERICHIA COLI (E. COLI) VA          0.017545\nFECAL COLIFORM             VA          0.015902\n                           KS          0.015454\nMANGANESE                  WV          0.015118\nDISSOLVED OXYGEN           KS          0.009705\nSEDIMENT                   MT          0.009482",
      "text/html": "<div>\n<style scoped>\n    .dataframe tbody tr th:only-of-type {\n        vertical-align: middle;\n    }\n\n    .dataframe tbody tr th {\n        vertical-align: top;\n    }\n\n    .dataframe thead th {\n        text-align: right;\n    }\n</style>\n<table border=\"1\" class=\"dataframe\">\n  <thead>\n    <tr style=\"text-align: right;\">\n      <th></th>\n      <th></th>\n      <th>0</th>\n    </tr>\n    <tr>\n      <th>pollutantName</th>\n      <th>state_code</th>\n      <th></th>\n    </tr>\n  </thead>\n  <tbody>\n    <tr>\n      <th>IRON</th>\n      <th>WV</th>\n      <td>0.085558</td>\n    </tr>\n    <tr>\n      <th>FECAL COLIFORM</th>\n      <th>WV</th>\n      <td>0.050021</td>\n    </tr>\n    <tr>\n      <th>ALUMINUM</th>\n      <th>WV</th>\n      <td>0.022061</td>\n    </tr>\n    <tr>\n      <th>PH</th>\n      <th>WV</th>\n      <td>0.019411</td>\n    </tr>\n    <tr>\n      <th>ESCHERICHIA COLI (E. COLI)</th>\n      <th>VA</th>\n      <td>0.017545</td>\n    </tr>\n    <tr>\n      <th rowspan=\"2\" valign=\"top\">FECAL COLIFORM</th>\n      <th>VA</th>\n      <td>0.015902</td>\n    </tr>\n    <tr>\n      <th>KS</th>\n      <td>0.015454</td>\n    </tr>\n    <tr>\n      <th>MANGANESE</th>\n      <th>WV</th>\n      <td>0.015118</td>\n    </tr>\n    <tr>\n      <th>DISSOLVED OXYGEN</th>\n      <th>KS</th>\n      <td>0.009705</td>\n    </tr>\n    <tr>\n      <th>SEDIMENT</th>\n      <th>MT</th>\n      <td>0.009482</td>\n    </tr>\n  </tbody>\n</table>\n</div>"
     },
     "execution_count": 29,
     "metadata": {},
     "output_type": "execute_result"
    }
   ],
   "source": [
    "pd.DataFrame(all_actions.drop_duplicates(subset=['actionIdentifier', 'pollutantName'])[['pollutantName', 'state_code']].value_counts(normalize=True).iloc[0:10])"
   ],
   "metadata": {
    "collapsed": false,
    "pycharm": {
     "name": "#%%\n"
    }
   }
  },
  {
   "cell_type": "markdown",
   "source": [
    "### For how many TMDL actions do we have one or more NPDES permit ID matches?"
   ],
   "metadata": {
    "collapsed": false,
    "pycharm": {
     "name": "#%% md\n"
    }
   }
  },
  {
   "cell_type": "code",
   "execution_count": 30,
   "outputs": [
    {
     "data": {
      "text/plain": "4069"
     },
     "execution_count": 30,
     "metadata": {},
     "output_type": "execute_result"
    }
   ],
   "source": [
    "all_actions_permit_data.dropna().drop_duplicates('actionIdentifier').shape[0]"
   ],
   "metadata": {
    "collapsed": false,
    "pycharm": {
     "name": "#%%\n"
    }
   }
  },
  {
   "cell_type": "markdown",
   "source": [
    "### What is the distribution of these TMDLs across states?"
   ],
   "metadata": {
    "collapsed": false,
    "pycharm": {
     "name": "#%% md\n"
    }
   }
  },
  {
   "cell_type": "code",
   "execution_count": 31,
   "outputs": [
    {
     "data": {
      "text/plain": "KS    0.167363\nWV    0.109118\nVA    0.060211\nMS    0.046695\nCA    0.041042\nLA    0.039076\nMN    0.036864\nTX    0.036127\nMD    0.033669\nSD    0.032686\nTN    0.028017\nOK    0.026296\nWY    0.023347\nFL    0.022856\nMO    0.022364\nMT    0.021873\nNE    0.021873\nGA    0.018678\nIL    0.017941\nSC    0.016220\nAL    0.014500\nMI    0.012042\nNM    0.011059\nDE    0.010322\nIA    0.010076\nNC    0.009830\nIN    0.009339\nAR    0.009093\nMA    0.007864\nID    0.007619\nKY    0.007127\nUT    0.006881\nNJ    0.006636\nAK    0.006636\nRI    0.005898\nCO    0.005652\nN/    0.004424\nND    0.003686\nPR    0.003195\nCT    0.003195\nNH    0.002703\nAZ    0.002458\nME    0.001966\nVT    0.001966\nM-    0.001720\nWA    0.001229\n11    0.000983\nHI    0.000983\nNo    0.000737\nVI    0.000737\nno    0.000737\nOH    0.000737\nOR    0.000492\nWG    0.000492\nGU    0.000492\n2P    0.000492\n00    0.000246\n15    0.000246\nS-    0.000246\n W    0.000246\nIM    0.000246\n#     0.000246\nPA    0.000246\nH1    0.000246\n2I    0.000246\nMG    0.000246\nco    0.000246\n31    0.000246\nNV    0.000246\nWL    0.000246\n59    0.000246\nName: NPDESIdentifier, dtype: float64"
     },
     "execution_count": 31,
     "metadata": {},
     "output_type": "execute_result"
    }
   ],
   "source": [
    "all_actions_permit_data.dropna().drop_duplicates('actionIdentifier')['NPDESIdentifier'].apply(lambda x: x[0:2]).value_counts(normalize=True)"
   ],
   "metadata": {
    "collapsed": false,
    "pycharm": {
     "name": "#%%\n"
    }
   }
  },
  {
   "cell_type": "markdown",
   "source": [
    "### What is the time delay between a water body appearing on the 303(d) list and receiving a TMDL?\n",
    "Let's try to answer this question for one state first before looking at the whole country."
   ],
   "metadata": {
    "collapsed": false,
    "pycharm": {
     "name": "#%% md\n"
    }
   }
  },
  {
   "cell_type": "code",
   "execution_count": 195,
   "outputs": [],
   "source": [
    "IL_actions = all_actions[all_actions['state_code']=='IL']\n",
    "IL_assessments = assessments[assessments['state_code']=='IL']"
   ],
   "metadata": {
    "collapsed": false,
    "pycharm": {
     "name": "#%%\n"
    }
   }
  },
  {
   "cell_type": "code",
   "execution_count": 230,
   "outputs": [],
   "source": [
    "IL_appearance_dates = IL_assessments.groupby(['assessmentUnitIdentifier', 'parameterName'], as_index=False).min()[['assessmentUnitIdentifier', 'parameterName', 'reportingCycleText']]\n",
    "IL_appearance_dates.rename(columns={'reportingCycleText':'appearance_date', 'parameterName': 'pollutantName'}, inplace=True)\n",
    "IL_appearance_dates['appearance_date'] = pd.to_datetime(IL_appearance_dates['appearance_date'])"
   ],
   "metadata": {
    "collapsed": false,
    "pycharm": {
     "name": "#%%\n"
    }
   }
  },
  {
   "cell_type": "code",
   "execution_count": 148,
   "outputs": [
    {
     "data": {
      "text/plain": "422"
     },
     "execution_count": 148,
     "metadata": {},
     "output_type": "execute_result"
    }
   ],
   "source": [
    "len(IL_actions['assessmentUnitIdentifier'].unique())"
   ],
   "metadata": {
    "collapsed": false,
    "pycharm": {
     "name": "#%%\n"
    }
   }
  },
  {
   "cell_type": "code",
   "execution_count": 199,
   "outputs": [],
   "source": [
    "AUID_list = list(IL_appearance_dates['assessmentUnitIdentifier'].unique())"
   ],
   "metadata": {
    "collapsed": false,
    "pycharm": {
     "name": "#%%\n"
    }
   }
  },
  {
   "cell_type": "code",
   "execution_count": 196,
   "outputs": [],
   "source": [
    "IL_actions['assessmentUnitIdentifier'] = IL_actions['assessmentUnitIdentifier'].apply(lambda x: x[:2] + '_' + x[2:])\n",
    "IL_actions['assessmentUnitIdentifier'] = IL_actions['assessmentUnitIdentifier'].apply(lambda x: x.replace('__', '_'))"
   ],
   "metadata": {
    "collapsed": false,
    "pycharm": {
     "name": "#%%\n"
    }
   }
  },
  {
   "cell_type": "code",
   "execution_count": 200,
   "outputs": [],
   "source": [
    "def longest_match(x, l):\n",
    "    i=0\n",
    "    longest_match = ''\n",
    "    while i < len(l):\n",
    "        if l[i].replace('-', '') in x:\n",
    "            if len(l[i].replace('-', '')) > len(longest_match):\n",
    "                longest_match = l[i]\n",
    "        i += 1\n",
    "    return longest_match\n",
    "IL_actions['best_match'] = IL_actions['assessmentUnitIdentifier'].apply(lambda x: longest_match(x.replace('-', ''), AUID_list))"
   ],
   "metadata": {
    "collapsed": false,
    "pycharm": {
     "name": "#%%\n"
    }
   }
  },
  {
   "cell_type": "code",
   "execution_count": 231,
   "outputs": [],
   "source": [
    "IL_merged = IL_actions.merge(IL_appearance_dates, left_on=['best_match', 'pollutantName'], right_on=['assessmentUnitIdentifier', 'pollutantName'], how='left')"
   ],
   "metadata": {
    "collapsed": false,
    "pycharm": {
     "name": "#%%\n"
    }
   }
  },
  {
   "cell_type": "code",
   "execution_count": 235,
   "outputs": [
    {
     "data": {
      "text/plain": "   organizationIdentifier organizationTypeText state_code actionIdentifier  \\\n0                  IL_EPA                State         IL            52441   \n1                  IL_EPA                State         IL            52441   \n2                  IL_EPA                State         IL            52441   \n3                  IL_EPA                State         IL            52441   \n4                  IL_EPA                State         IL            52441   \n5                  IL_EPA                State         IL            52441   \n6                  IL_EPA                State         IL            52441   \n7                  IL_EPA                State         IL            52441   \n8                  IL_EPA                State         IL            52441   \n9                  IL_EPA                State         IL            52441   \n10                 IL_EPA                State         IL            52441   \n11                 IL_EPA                State         IL            52441   \n12                 IL_EPA                State         IL            52441   \n13                 IL_EPA                State         IL            52441   \n14                 IL_EPA                State         IL            52441   \n15                 IL_EPA                State         IL            52441   \n16                 IL_EPA                State         IL            52441   \n17                 IL_EPA                State         IL            52441   \n18                 IL_EPA                State         IL            52441   \n19                 IL_EPA                State         IL            52441   \n20                 IL_EPA                State         IL            52441   \n21                 IL_EPA                State         IL            52441   \n22                 IL_EPA                State         IL            52441   \n23                 IL_EPA                State         IL            52441   \n24                 IL_EPA                State         IL            52441   \n25                 IL_EPA                State         IL            52441   \n26                 IL_EPA                State         IL            52441   \n27                 IL_EPA                State         IL            52441   \n28                 IL_EPA                State         IL            52441   \n29                 IL_EPA                State         IL            52441   \n30                 IL_EPA                State         IL            52441   \n31                 IL_EPA                State         IL            52441   \n32                 IL_EPA                State         IL            52441   \n33                 IL_EPA                State         IL            52441   \n34                 IL_EPA                State         IL            52441   \n35                 IL_EPA                State         IL            52441   \n36                 IL_EPA                State         IL            52441   \n37                 IL_EPA                State         IL            52441   \n38                 IL_EPA                State         IL            52441   \n39                 IL_EPA                State         IL            52441   \n40                 IL_EPA                State         IL            52441   \n41                 IL_EPA                State         IL            52441   \n42                 IL_EPA                State         IL            52441   \n43                 IL_EPA                State         IL            52441   \n44                 IL_EPA                State         IL            52441   \n45                 IL_EPA                State         IL            52441   \n46                 IL_EPA                State         IL            52441   \n47                 IL_EPA                State         IL            52441   \n48                 IL_EPA                State         IL            52441   \n49                 IL_EPA                State         IL            52441   \n50                 IL_EPA                State         IL            52441   \n51                 IL_EPA                State         IL            32054   \n52                 IL_EPA                State         IL            33202   \n53                 IL_EPA                State         IL            33201   \n54                 IL_EPA                State         IL            10690   \n55                 IL_EPA                State         IL            10690   \n56                 IL_EPA                State         IL            10690   \n57                 IL_EPA                State         IL            33208   \n58                 IL_EPA                State         IL            10691   \n59                 IL_EPA                State         IL            10691   \n60                 IL_EPA                State         IL            33209   \n61                 IL_EPA                State         IL            33206   \n62                 IL_EPA                State         IL            33206   \n63                 IL_EPA                State         IL            33207   \n64                 IL_EPA                State         IL            33204   \n65                 IL_EPA                State         IL            33204   \n66                 IL_EPA                State         IL            33205   \n67                 IL_EPA                State         IL            33205   \n68                 IL_EPA                State         IL            33205   \n69                 IL_EPA                State         IL            33205   \n70                 IL_EPA                State         IL            33205   \n71                 IL_EPA                State         IL            33205   \n72                 IL_EPA                State         IL            33594   \n73                 IL_EPA                State         IL            33594   \n74                 IL_EPA                State         IL            33594   \n75                 IL_EPA                State         IL            33590   \n76                 IL_EPA                State         IL            33590   \n77                 IL_EPA                State         IL            33590   \n78                 IL_EPA                State         IL            68183   \n79                 IL_EPA                State         IL            10688   \n80                 IL_EPA                State         IL            10689   \n81                 IL_EPA                State         IL            10689   \n82                 IL_EPA                State         IL            10689   \n83                 IL_EPA                State         IL            68184   \n84                 IL_EPA                State         IL            10687   \n85                 IL_EPA                State         IL            33210   \n86                 IL_EPA                State         IL            33211   \n87                 IL_EPA                State         IL            33211   \n88                 IL_EPA                State         IL      IL-2021-001   \n89                 IL_EPA                State         IL      IL-2021-001   \n90                 IL_EPA                State         IL      IL-2021-001   \n91                 IL_EPA                State         IL      IL-2021-001   \n92                 IL_EPA                State         IL      IL-2021-001   \n93                 IL_EPA                State         IL      IL-2021-001   \n94                 IL_EPA                State         IL      IL-2021-001   \n95                 IL_EPA                State         IL      IL-2021-001   \n96                 IL_EPA                State         IL      IL-2021-001   \n97                 IL_EPA                State         IL      IL-2021-001   \n98                 IL_EPA                State         IL      IL-2021-001   \n99                 IL_EPA                State         IL      IL-2021-001   \n\n   actionTypeCode  actionStatusCode completionDate assessmentUnitIdentifier_x  \\\n0            TMDL  EPA Final Action     2013-07-31                   IL_QS-03   \n1            TMDL  EPA Final Action     2013-07-31                   IL_QS-04   \n2            TMDL  EPA Final Action     2013-07-31                   IL_QS-05   \n3            TMDL  EPA Final Action     2013-07-31                   IL_QS-06   \n4            TMDL  EPA Final Action     2013-07-31                   IL_QO-01   \n5            TMDL  EPA Final Action     2013-07-31                   IL_QO-02   \n6            TMDL  EPA Final Action     2013-07-31                   IL_QS-02   \n7            TMDL  EPA Final Action     2013-07-31                   IL_QK-07   \n8            TMDL  EPA Final Action     2013-07-31                   IL_QK-08   \n9            TMDL  EPA Final Action     2013-07-31                   IL_QK-09   \n10           TMDL  EPA Final Action     2013-07-31                   IL_QO-05   \n11           TMDL  EPA Final Action     2013-07-31                   IL_QO-03   \n12           TMDL  EPA Final Action     2013-07-31                   IL_QO-04   \n13           TMDL  EPA Final Action     2013-07-31                   IL_QK-04   \n14           TMDL  EPA Final Action     2013-07-31                   IL_QK-06   \n15           TMDL  EPA Final Action     2013-07-31                   IL_QP-02   \n16           TMDL  EPA Final Action     2013-07-31                   IL_QP-03   \n17           TMDL  EPA Final Action     2013-07-31                   IL_QT-03   \n18           TMDL  EPA Final Action     2013-07-31                   IL_QH-03   \n19           TMDL  EPA Final Action     2013-07-31                   IL_QH-01   \n20           TMDL  EPA Final Action     2013-07-31                   IL_QI-10   \n21           TMDL  EPA Final Action     2013-07-31                   IL_QL-03   \n22           TMDL  EPA Final Action     2013-07-31                   IL_QH-09   \n23           TMDL  EPA Final Action     2013-07-31                   IL_QH-05   \n24           TMDL  EPA Final Action     2013-07-31                   IL_QL-06   \n25           TMDL  EPA Final Action     2013-07-31                   IL_QH-04   \n26           TMDL  EPA Final Action     2013-07-31                   IL_QN-11   \n27           TMDL  EPA Final Action     2013-07-31                   IL_QN-12   \n28           TMDL  EPA Final Action     2013-07-31                   IL_QQ-02   \n29           TMDL  EPA Final Action     2013-07-31                   IL_QQ-01   \n30           TMDL  EPA Final Action     2013-07-31                   IL_QN-10   \n31           TMDL  EPA Final Action     2013-07-31                   IL_QN-13   \n32           TMDL  EPA Final Action     2013-07-31                   IL_QM-04   \n33           TMDL  EPA Final Action     2013-07-31                   IL_QM-03   \n34           TMDL  EPA Final Action     2013-07-31                   IL_QM-06   \n35           TMDL  EPA Final Action     2013-07-31                   IL_QM-05   \n36           TMDL  EPA Final Action     2013-07-31                   IL_QM-08   \n37           TMDL  EPA Final Action     2013-07-31                   IL_QI-06   \n38           TMDL  EPA Final Action     2013-07-31                   IL_QM-07   \n39           TMDL  EPA Final Action     2013-07-31                   IL_QR-01   \n40           TMDL  EPA Final Action     2013-07-31                      IL_QJ   \n41           TMDL  EPA Final Action     2013-07-31                   IL_QN-01   \n42           TMDL  EPA Final Action     2013-07-31                   IL_QN-04   \n43           TMDL  EPA Final Action     2013-07-31                   IL_QN-05   \n44           TMDL  EPA Final Action     2013-07-31                   IL_QN-02   \n45           TMDL  EPA Final Action     2013-07-31                   IL_QN-03   \n46           TMDL  EPA Final Action     2013-07-31                   IL_QN-08   \n47           TMDL  EPA Final Action     2013-07-31                   IL_QN-09   \n48           TMDL  EPA Final Action     2013-07-31                   IL_QN-06   \n49           TMDL  EPA Final Action     2013-07-31                   IL_QJ-05   \n50           TMDL  EPA Final Action     2013-07-31                   IL_QN-07   \n51           TMDL  EPA Final Action     2006-10-13            IL_BO07 _BO  07   \n52           TMDL  EPA Final Action     2006-12-29            IL_BPG09_BPG 09   \n53           TMDL  EPA Final Action     2006-12-29                  IL_BPG 05   \n54           TMDL  EPA Final Action     2004-06-09              IL_NCD01_NCDB   \n55           TMDL  EPA Final Action     2004-06-09              IL_NCD01_NCDB   \n56           TMDL  EPA Final Action     2004-06-09              IL_NCD01_NCDB   \n57           TMDL  EPA Final Action     2007-09-18                    IL_RAZB   \n58           TMDL  EPA Final Action     2004-06-09            IL_NE05 _NE  05   \n59           TMDL  EPA Final Action     2004-06-09            IL_NE05 _NE  05   \n60           TMDL  EPA Final Action     2007-09-18                     IL_RAT   \n61           TMDL  EPA Final Action     2007-09-06                IL_E29 _EZV   \n62           TMDL  EPA Final Action     2007-09-06                IL_E29 _EZV   \n63           TMDL  EPA Final Action     2007-09-18           IL_AJF01 _AJF 16   \n64           TMDL  EPA Final Action     2007-09-06             IL_E29 _E   29   \n65           TMDL  EPA Final Action     2007-09-06                    IL_E-18   \n66           TMDL  EPA Final Action     2007-09-06                IL_REA _REA   \n67           TMDL  EPA Final Action     2007-09-06                IL_REA _REA   \n68           TMDL  EPA Final Action     2007-09-06                IL_REA _REA   \n69           TMDL  EPA Final Action     2007-09-06                IL_REA _REA   \n70           TMDL  EPA Final Action     2007-09-06                IL_REA _REA   \n71           TMDL  EPA Final Action     2007-09-06                IL_REA _REA   \n72           TMDL  EPA Final Action     2007-09-28              IL_DKP02 _RDO   \n73           TMDL  EPA Final Action     2007-09-28              IL_DKP02 _RDO   \n74           TMDL  EPA Final Action     2007-09-28              IL_DKP02 _RDO   \n75           TMDL  EPA Final Action     2007-09-20           IL_OIP10 _OIP 10   \n76           TMDL  EPA Final Action     2007-09-20           IL_OIP10 _OIP 10   \n77           TMDL  EPA Final Action     2007-09-20           IL_OIP10 _OIP 10   \n78           TMDL  EPA Final Action     2017-06-28                     IL_RDD   \n79           TMDL  EPA Final Action     2004-06-09            IL_NCD01_NCD 03   \n80           TMDL  EPA Final Action     2004-06-09            IL_NCD01_NCD 03   \n81           TMDL  EPA Final Action     2004-06-09            IL_NCD01_NCD 03   \n82           TMDL  EPA Final Action     2004-06-09            IL_NCD01_NCD 03   \n83           TMDL  EPA Final Action     2017-03-28               IL_DB01 _SDC   \n84           TMDL  EPA Final Action     2004-06-09            IL_NCD01_NCDC01   \n85           TMDL  EPA Final Action     2007-09-17                     IL_ROY   \n86           TMDL  EPA Final Action     2007-09-17               IL_OID01_ROG   \n87           TMDL  EPA Final Action     2007-09-17               IL_OID01_ROG   \n88           TMDL  EPA Final Action     2020-12-16                 IL_HBDB-03   \n89           TMDL  EPA Final Action     2020-12-16                 IL_HBDA-01   \n90           TMDL  EPA Final Action     2020-12-16                 IL_HBDA-01   \n91           TMDL  EPA Final Action     2020-12-16                 IL_HBDA-01   \n92           TMDL  EPA Final Action     2020-12-16                 IL_HBDA-01   \n93           TMDL  EPA Final Action     2020-12-16                     IL_RHI   \n94           TMDL  EPA Final Action     2020-12-16                    IL_HBDC   \n95           TMDL  EPA Final Action     2020-12-16                 IL_HBDC-02   \n96           TMDL  EPA Final Action     2020-12-16                 IL_HBDC-02   \n97           TMDL  EPA Final Action     2020-12-16                 IL_HBDC-02   \n98           TMDL  EPA Final Action     2020-12-16                 IL_HBDC-02   \n99           TMDL  EPA Final Action     2020-12-16                 IL_HBDC-02   \n\n                                    pollutantName pollutantSourceTypeCode  \\\n0                      ESCHERICHIA COLI (E. COLI)                    Both   \n1                      ESCHERICHIA COLI (E. COLI)                    Both   \n2                      ESCHERICHIA COLI (E. COLI)                    Both   \n3                      ESCHERICHIA COLI (E. COLI)                    Both   \n4                      ESCHERICHIA COLI (E. COLI)                    Both   \n5                      ESCHERICHIA COLI (E. COLI)                    Both   \n6                      ESCHERICHIA COLI (E. COLI)                    Both   \n7                      ESCHERICHIA COLI (E. COLI)                    Both   \n8                      ESCHERICHIA COLI (E. COLI)                    Both   \n9                      ESCHERICHIA COLI (E. COLI)                    Both   \n10                     ESCHERICHIA COLI (E. COLI)                    Both   \n11                     ESCHERICHIA COLI (E. COLI)                    Both   \n12                     ESCHERICHIA COLI (E. COLI)                    Both   \n13                     ESCHERICHIA COLI (E. COLI)                    Both   \n14                     ESCHERICHIA COLI (E. COLI)                    Both   \n15                     ESCHERICHIA COLI (E. COLI)                    Both   \n16                     ESCHERICHIA COLI (E. COLI)                    Both   \n17                     ESCHERICHIA COLI (E. COLI)                    Both   \n18                     ESCHERICHIA COLI (E. COLI)                    Both   \n19                     ESCHERICHIA COLI (E. COLI)                    Both   \n20                     ESCHERICHIA COLI (E. COLI)                    Both   \n21                     ESCHERICHIA COLI (E. COLI)                    Both   \n22                     ESCHERICHIA COLI (E. COLI)                    Both   \n23                     ESCHERICHIA COLI (E. COLI)                    Both   \n24                     ESCHERICHIA COLI (E. COLI)                    Both   \n25                     ESCHERICHIA COLI (E. COLI)                    Both   \n26                     ESCHERICHIA COLI (E. COLI)                    Both   \n27                     ESCHERICHIA COLI (E. COLI)                    Both   \n28                     ESCHERICHIA COLI (E. COLI)                    Both   \n29                     ESCHERICHIA COLI (E. COLI)                    Both   \n30                     ESCHERICHIA COLI (E. COLI)                    Both   \n31                     ESCHERICHIA COLI (E. COLI)                    Both   \n32                     ESCHERICHIA COLI (E. COLI)                    Both   \n33                     ESCHERICHIA COLI (E. COLI)                    Both   \n34                     ESCHERICHIA COLI (E. COLI)                    Both   \n35                     ESCHERICHIA COLI (E. COLI)                    Both   \n36                     ESCHERICHIA COLI (E. COLI)                    Both   \n37                     ESCHERICHIA COLI (E. COLI)                    Both   \n38                     ESCHERICHIA COLI (E. COLI)                    Both   \n39                     ESCHERICHIA COLI (E. COLI)                    Both   \n40                     ESCHERICHIA COLI (E. COLI)                    Both   \n41                     ESCHERICHIA COLI (E. COLI)                    Both   \n42                     ESCHERICHIA COLI (E. COLI)                    Both   \n43                     ESCHERICHIA COLI (E. COLI)                    Both   \n44                     ESCHERICHIA COLI (E. COLI)                    Both   \n45                     ESCHERICHIA COLI (E. COLI)                    Both   \n46                     ESCHERICHIA COLI (E. COLI)                    Both   \n47                     ESCHERICHIA COLI (E. COLI)                    Both   \n48                     ESCHERICHIA COLI (E. COLI)                    Both   \n49                     ESCHERICHIA COLI (E. COLI)                    Both   \n50                     ESCHERICHIA COLI (E. COLI)                    Both   \n51                                 FECAL COLIFORM                    Both   \n52                                 FECAL COLIFORM                    Both   \n53                                       NITRATES         Nonpoint source   \n54                   TOTAL DISSOLVED SOLIDS (TDS)         Nonpoint source   \n55                                       SULFATES         Nonpoint source   \n56                                      MANGANESE         Nonpoint source   \n57                              PHOSPHORUS, TOTAL         Nonpoint source   \n58                    METALS (OTHER THAN MERCURY)         Nonpoint source   \n59                                       SULFATES         Nonpoint source   \n60                              PHOSPHORUS, TOTAL         Nonpoint source   \n61                               DISSOLVED OXYGEN                    Both   \n62                              PHOSPHORUS, TOTAL                    Both   \n63                                      MANGANESE         Nonpoint source   \n64                                 FECAL COLIFORM                    Both   \n65                                 FECAL COLIFORM                    Both   \n66                        SEDIMENTATION/SILTATION         Nonpoint source   \n67                                       NITRATES                    Both   \n68                   TOTAL SUSPENDED SOLIDS (TSS)         Nonpoint source   \n69                              PHOSPHORUS, TOTAL         Nonpoint source   \n70                                NITROGEN, TOTAL                    Both   \n71                               DISSOLVED OXYGEN         Nonpoint source   \n72                   TOTAL SUSPENDED SOLIDS (TSS)                    Both   \n73                                       NITRATES                    Both   \n74                              PHOSPHORUS, TOTAL                    Both   \n75                                         COPPER         Nonpoint source   \n76                                 AMMONIA, TOTAL         Nonpoint source   \n77                   TOTAL DISSOLVED SOLIDS (TDS)         Nonpoint source   \n78                              PHOSPHORUS, TOTAL                    Both   \n79                                      MANGANESE         Nonpoint source   \n80                   TOTAL DISSOLVED SOLIDS (TDS)         Nonpoint source   \n81                                       SULFATES         Nonpoint source   \n82                                         SILVER         Nonpoint source   \n83                              PHOSPHORUS, TOTAL         Nonpoint source   \n84                                       SULFATES         Nonpoint source   \n85                              PHOSPHORUS, TOTAL         Nonpoint source   \n86                              PHOSPHORUS, TOTAL                    Both   \n87                   TOTAL SUSPENDED SOLIDS (TSS)                    Both   \n88                                 FECAL COLIFORM                    Both   \n89                              PHOSPHORUS, TOTAL         Nonpoint source   \n90                               AMMONIA-NITROGEN                    Both   \n91                         SEDIMENT OXYGEN DEMAND         Nonpoint source   \n92  BIOCHEMICAL OXYGEN DEMAND (BOD), CARBONACEOUS         Nonpoint source   \n93                              PHOSPHORUS, TOTAL                    Both   \n94                                 FECAL COLIFORM                    Both   \n95                                 FECAL COLIFORM                    Both   \n96                              PHOSPHORUS, TOTAL         Nonpoint source   \n97                         SEDIMENT OXYGEN DEMAND         Nonpoint source   \n98  BIOCHEMICAL OXYGEN DEMAND (BOD), CARBONACEOUS         Nonpoint source   \n99                               AMMONIA-NITROGEN                    Both   \n\n   explicitMarginofSafetyText implicitMarginofSafetyText  \\\n0                         NaN                        NaN   \n1                         NaN                        NaN   \n2                         NaN                        NaN   \n3                         NaN                        NaN   \n4                         NaN                        NaN   \n5                         NaN                        NaN   \n6                         NaN                        NaN   \n7                         NaN                        NaN   \n8                         NaN                        NaN   \n9                         NaN                        NaN   \n10                        NaN                        NaN   \n11                        NaN                        NaN   \n12                        NaN                        NaN   \n13                        NaN                        NaN   \n14                        NaN                        NaN   \n15                        NaN                        NaN   \n16                        NaN                        NaN   \n17                        NaN                        NaN   \n18                        NaN                        NaN   \n19                        NaN                        NaN   \n20                        NaN                        NaN   \n21                        NaN                        NaN   \n22                        NaN                        NaN   \n23                        NaN                        NaN   \n24                        NaN                        NaN   \n25                        NaN                        NaN   \n26                        NaN                        NaN   \n27                        NaN                        NaN   \n28                        NaN                        NaN   \n29                        NaN                        NaN   \n30                        NaN                        NaN   \n31                        NaN                        NaN   \n32                        NaN                        NaN   \n33                        NaN                        NaN   \n34                        NaN                        NaN   \n35                        NaN                        NaN   \n36                        NaN                        NaN   \n37                        NaN                        NaN   \n38                        NaN                        NaN   \n39                        NaN                        NaN   \n40                        NaN                        NaN   \n41                        NaN                        NaN   \n42                        NaN                        NaN   \n43                        NaN                        NaN   \n44                        NaN                        NaN   \n45                        NaN                        NaN   \n46                        NaN                        NaN   \n47                        NaN                        NaN   \n48                        NaN                        NaN   \n49                        NaN                        NaN   \n50                        NaN                        NaN   \n51                        NaN                        NaN   \n52                        NaN                        NaN   \n53                        NaN                        NaN   \n54                        NaN                        NaN   \n55                        NaN                        NaN   \n56                        NaN                        NaN   \n57                        NaN                        NaN   \n58                        NaN                        NaN   \n59                        NaN                        NaN   \n60                        NaN                        NaN   \n61                        NaN                          N   \n62                        NaN                          N   \n63                        NaN                        NaN   \n64                        NaN                          Y   \n65                        NaN                          Y   \n66                        NaN                        NaN   \n67                        NaN                          N   \n68                        NaN                        NaN   \n69                        NaN                        NaN   \n70                        NaN                          N   \n71                        NaN                        NaN   \n72                        NaN                        NaN   \n73                        NaN                        NaN   \n74                        NaN                        NaN   \n75                        NaN                        NaN   \n76                        NaN                        NaN   \n77                        NaN                        NaN   \n78                        NaN                        NaN   \n79                        NaN                        NaN   \n80                        NaN                        NaN   \n81                        NaN                        NaN   \n82                        NaN                        NaN   \n83                        NaN                        NaN   \n84                        NaN                        NaN   \n85                        NaN                        NaN   \n86                        NaN                          N   \n87                        NaN                          N   \n88                        NaN                        NaN   \n89                        NaN                        NaN   \n90                        NaN                        NaN   \n91                        NaN                        NaN   \n92                        NaN                        NaN   \n93                        NaN                        NaN   \n94                        NaN                        NaN   \n95                        NaN                        NaN   \n96                        NaN                        NaN   \n97                        NaN                        NaN   \n98                        NaN                        NaN   \n99                        NaN                        NaN   \n\n                                     TMDLEndPointText   TMDLDate  best_match  \\\n0   E. coli TMDL =126 cfu of E. coli /100 ml as a ... 2013-07-31    IL_QS-03   \n1   E. coli TMDL =126 cfu of E. coli /100 ml as a ... 2013-07-31    IL_QS-04   \n2   E. coli TMDL =126 cfu of E. coli /100 ml as a ... 2013-07-31    IL_QS-05   \n3   E. coli TMDL =126 cfu of E. coli /100 ml as a ... 2013-07-31    IL_QS-06   \n4   E. coli TMDL =126 cfu of E. coli /100 ml as a ... 2013-07-31    IL_QO-01   \n5   E. coli TMDL =126 cfu of E. coli /100 ml as a ... 2013-07-31    IL_QO-02   \n6   E. coli TMDL =126 cfu of E. coli /100 ml as a ... 2013-07-31    IL_QS-02   \n7   E. coli TMDL =126 cfu of E. coli /100 ml as a ... 2013-07-31    IL_QK-07   \n8   E. coli TMDL =126 cfu of E. coli /100 ml as a ... 2013-07-31    IL_QK-08   \n9   E. coli TMDL =126 cfu of E. coli /100 ml as a ... 2013-07-31    IL_QK-09   \n10  E. coli TMDL =126 cfu of E. coli /100 ml as a ... 2013-07-31    IL_QO-05   \n11  E. coli TMDL =126 cfu of E. coli /100 ml as a ... 2013-07-31    IL_QO-03   \n12  E. coli TMDL =126 cfu of E. coli /100 ml as a ... 2013-07-31    IL_QO-04   \n13  E. coli TMDL =126 cfu of E. coli /100 ml as a ... 2013-07-31    IL_QK-04   \n14  E. coli TMDL =126 cfu of E. coli /100 ml as a ... 2013-07-31    IL_QK-06   \n15  E. coli TMDL =126 cfu of E. coli /100 ml as a ... 2013-07-31    IL_QP-02   \n16  E. coli TMDL =126 cfu of E. coli /100 ml as a ... 2013-07-31    IL_QP-03   \n17  E. coli TMDL =126 cfu of E. coli /100 ml as a ... 2013-07-31    IL_QT-03   \n18  E. coli TMDL =126 cfu of E. coli /100 ml as a ... 2013-07-31    IL_QH-03   \n19  E. coli TMDL =126 cfu of E. coli /100 ml as a ... 2013-07-31    IL_QH-01   \n20  E. coli TMDL =126 cfu of E. coli /100 ml as a ... 2013-07-31    IL_QI-10   \n21  E. coli TMDL =126 cfu of E. coli /100 ml as a ... 2013-07-31    IL_QL-03   \n22  E. coli TMDL =126 cfu of E. coli /100 ml as a ... 2013-07-31    IL_QH-09   \n23  E. coli TMDL =126 cfu of E. coli /100 ml as a ... 2013-07-31    IL_QH-05   \n24  E. coli TMDL =126 cfu of E. coli /100 ml as a ... 2013-07-31    IL_QL-06   \n25  E. coli TMDL =126 cfu of E. coli /100 ml as a ... 2013-07-31    IL_QH-04   \n26  E. coli TMDL =126 cfu of E. coli /100 ml as a ... 2013-07-31    IL_QN-11   \n27  E. coli TMDL =126 cfu of E. coli /100 ml as a ... 2013-07-31    IL_QN-12   \n28  E. coli TMDL =126 cfu of E. coli /100 ml as a ... 2013-07-31    IL_QQ-02   \n29  E. coli TMDL =126 cfu of E. coli /100 ml as a ... 2013-07-31    IL_QQ-01   \n30  E. coli TMDL =126 cfu of E. coli /100 ml as a ... 2013-07-31    IL_QN-10   \n31  E. coli TMDL =126 cfu of E. coli /100 ml as a ... 2013-07-31    IL_QN-13   \n32  E. coli TMDL =126 cfu of E. coli /100 ml as a ... 2013-07-31    IL_QM-04   \n33  E. coli TMDL =126 cfu of E. coli /100 ml as a ... 2013-07-31    IL_QM-03   \n34  E. coli TMDL =126 cfu of E. coli /100 ml as a ... 2013-07-31    IL_QM-06   \n35  E. coli TMDL =126 cfu of E. coli /100 ml as a ... 2013-07-31    IL_QM-05   \n36  E. coli TMDL =126 cfu of E. coli /100 ml as a ... 2013-07-31    IL_QM-08   \n37  E. coli TMDL =126 cfu of E. coli /100 ml as a ... 2013-07-31    IL_QI-06   \n38  E. coli TMDL =126 cfu of E. coli /100 ml as a ... 2013-07-31    IL_QM-07   \n39  E. coli TMDL =126 cfu of E. coli /100 ml as a ... 2013-07-31    IL_QR-01   \n40  E. coli TMDL =126 cfu of E. coli /100 ml as a ... 2013-07-31       IL_QJ   \n41  E. coli TMDL =126 cfu of E. coli /100 ml as a ... 2013-07-31    IL_QN-01   \n42  E. coli TMDL =126 cfu of E. coli /100 ml as a ... 2013-07-31    IL_QN-04   \n43  E. coli TMDL =126 cfu of E. coli /100 ml as a ... 2013-07-31    IL_QN-05   \n44  E. coli TMDL =126 cfu of E. coli /100 ml as a ... 2013-07-31    IL_QN-02   \n45  E. coli TMDL =126 cfu of E. coli /100 ml as a ... 2013-07-31    IL_QN-03   \n46  E. coli TMDL =126 cfu of E. coli /100 ml as a ... 2013-07-31    IL_QN-08   \n47  E. coli TMDL =126 cfu of E. coli /100 ml as a ... 2013-07-31    IL_QN-09   \n48  E. coli TMDL =126 cfu of E. coli /100 ml as a ... 2013-07-31    IL_QN-06   \n49  E. coli TMDL =126 cfu of E. coli /100 ml as a ... 2013-07-31    IL_QJ-05   \n50  E. coli TMDL =126 cfu of E. coli /100 ml as a ... 2013-07-31    IL_QN-07   \n51  HIGH FLOW (0-10): 466,425 MILLION/DAY\\r\\nMOIST... 2006-10-13    IL_BO-07   \n52  FLOW; LOADING CAPACITY\\r\\nHIGH; 3150E+9 CFU/10... 2006-12-29   IL_BPG-09   \n53  FLOW; LOADING CAPACITY\\r\\nHIGH; 35513.7 LBS/DA... 2006-12-29               \n54                                     97,826 LBS/DAY 2004-06-09               \n55                                     37,675 LBS/DAY 2004-06-09               \n56                                         52 LBS/DAY 2004-06-09               \n57                                       0.41 LBS/DAY 2007-09-18     IL_RAZB   \n58                                        178 LBS/DAY 2004-06-09    IL_NE-05   \n59                                     68,805 LBS/DAY 2004-06-09    IL_NE-05   \n60                                       0.12 LBS/DAY 2007-09-18      IL_RAT   \n61                                       1.42 KG/DAY  2007-09-06     IL_E-29   \n62                                       1.42 KG/DAY  2007-09-06     IL_E-29   \n63  FLOW (CFS); LOADING CAPACITY (LBS/DAY)\\r\\n5; 2... 2007-09-18               \n64  FLOW (CFS); LOADING CAPACITY (CFU/DAY)\\r\\n5; 2... 2007-09-06     IL_E-29   \n65  FLOW (CFS); LOADING CAPACITY (CFU/DAY)\\r\\n5; 2... 2007-09-06     IL_E-18   \n66                    LOADING CAPACITY = 31.4 KG/DAY  2007-09-06      IL_REA   \n67  FLOW (CFS); LOADING CAPACITY (KG/DAY)\\r\\n10; 2... 2007-09-06      IL_REA   \n68                    LOADING CAPACITY = 31.4 KG/DAY  2007-09-06      IL_REA   \n69                    LOADING CAPACITY = 31.4 KG/DAY  2007-09-06      IL_REA   \n70  FLOW (CFS); LOADING CAPACITY (KG/DAY)\\r\\n10; 2... 2007-09-06      IL_REA   \n71                    LOADING CAPACITY = 31.4 KG/DAY  2007-09-06      IL_REA   \n72                                        2.2 LBS/DAY 2007-09-28               \n73                                    1,663.2 LBS/DAY 2007-09-28               \n74                                        2.2 LBS/DAY 2007-09-28               \n75  FLOW RANGE; TMDL (KG/DAY)\\r\\n0-10 (HIGH); 0.67... 2007-09-20   IL_OIP-10   \n76  FLOW RANGE; TMDL (KG/DAY)\\r\\n0-10 (HIGH); 277\\... 2007-09-20   IL_OIP-10   \n77  FLOW RANGE; TMDL (KG/DAY)\\r\\n0-10 (HIGH); 32.9... 2007-09-20   IL_OIP-10   \n78  Refer to Table 2 in the decision document for ... 2017-06-28      IL_RDD   \n79                                         91 LBS/DAY 2004-06-09               \n80                                    506,942 LBS/DAY 2004-06-09               \n81                                    257,557 LBS/DAY 2004-06-09               \n82                                        1.3 LBS/DAY 2004-06-09               \n83  Refer to Table 3 in the decision document for ... 2017-03-28    IL_DB-01   \n84                                     32,026 LBS/DAY 2004-06-09               \n85                                       0.477 KG/DAY 2007-09-17      IL_ROY   \n86                                        0.16 KG/DAY 2007-09-17               \n87                                        0.16 KG/DAY 2007-09-17               \n88  See Table 2-18 in the Thorn Creek Watershed TM... 2021-01-13  IL_HBDB-03   \n89  See Table 2-36 in the Thorn Creek Watershed TM... 2021-01-13  IL_HBDA-01   \n90  See Table 2-36 in the Thorn Creek Watershed TM... 2021-01-13  IL_HBDA-01   \n91  See Table 2-36 in the Thorn Creek Watershed TM... 2021-01-13  IL_HBDA-01   \n92  See Table 2-36 in the Thorn Creek Watershed TM... 2021-01-13  IL_HBDA-01   \n93                                                NaN 2021-01-13      IL_RHI   \n94  See Table 2-19 in the Thorn Creek Watershed TM... 2021-01-13     IL_HBDC   \n95  See Table 2-20 in the Thorn Creek Watershed TM... 2021-01-13  IL_HBDC-02   \n96  See Table 2-37 in the Thorn Creek Watershed TM... 2021-01-13  IL_HBDC-02   \n97  See Table 2-37 in the Thorn Creek Watershed TM... 2021-01-13  IL_HBDC-02   \n98  See Table 2-37 in the Thorn Creek Watershed TM... 2021-01-13  IL_HBDC-02   \n99  See Table 2-37 in the Thorn Creek Watershed TM... 2021-01-13  IL_HBDC-02   \n\n   assessmentUnitIdentifier_y appearance_date  \n0                    IL_QS-03      2016-01-01  \n1                    IL_QS-04      2016-01-01  \n2                    IL_QS-05      2016-01-01  \n3                    IL_QS-06      2016-01-01  \n4                    IL_QO-01      2016-01-01  \n5                    IL_QO-02      2016-01-01  \n6                    IL_QS-02      2016-01-01  \n7                    IL_QK-07      2016-01-01  \n8                    IL_QK-08      2016-01-01  \n9                    IL_QK-09      2016-01-01  \n10                   IL_QO-05      2016-01-01  \n11                   IL_QO-03      2016-01-01  \n12                   IL_QO-04      2016-01-01  \n13                   IL_QK-04      2016-01-01  \n14                   IL_QK-06      2016-01-01  \n15                   IL_QP-02      2016-01-01  \n16                   IL_QP-03      2016-01-01  \n17                   IL_QT-03      2016-01-01  \n18                   IL_QH-03      2016-01-01  \n19                   IL_QH-01      2016-01-01  \n20                   IL_QI-10      2016-01-01  \n21                   IL_QL-03      2016-01-01  \n22                   IL_QH-09      2016-01-01  \n23                   IL_QH-05      2016-01-01  \n24                   IL_QL-06      2016-01-01  \n25                   IL_QH-04      2016-01-01  \n26                   IL_QN-11      2016-01-01  \n27                   IL_QN-12      2016-01-01  \n28                   IL_QQ-02      2016-01-01  \n29                   IL_QQ-01      2016-01-01  \n30                   IL_QN-10      2016-01-01  \n31                   IL_QN-13      2016-01-01  \n32                   IL_QM-04      2016-01-01  \n33                   IL_QM-03      2016-01-01  \n34                   IL_QM-06      2016-01-01  \n35                   IL_QM-05      2016-01-01  \n36                   IL_QM-08      2016-01-01  \n37                   IL_QI-06      2018-01-01  \n38                   IL_QM-07      2016-01-01  \n39                   IL_QR-01      2016-01-01  \n40                      IL_QJ      2016-01-01  \n41                   IL_QN-01      2016-01-01  \n42                   IL_QN-04      2016-01-01  \n43                   IL_QN-05      2016-01-01  \n44                   IL_QN-02      2016-01-01  \n45                   IL_QN-03      2016-01-01  \n46                   IL_QN-08      2016-01-01  \n47                   IL_QN-09      2016-01-01  \n48                   IL_QN-06      2016-01-01  \n49                   IL_QJ-05      2016-01-01  \n50                   IL_QN-07      2016-01-01  \n51                   IL_BO-07      2016-01-01  \n52                  IL_BPG-09      2016-01-01  \n53                        NaN             NaT  \n54                        NaN             NaT  \n55                        NaN             NaT  \n56                        NaN             NaT  \n57                    IL_RAZB      2016-01-01  \n58                        NaN             NaT  \n59                        NaN             NaT  \n60                        NaN             NaT  \n61                        NaN             NaT  \n62                        NaN             NaT  \n63                        NaN             NaT  \n64                    IL_E-29      2016-01-01  \n65                    IL_E-18      2016-01-01  \n66                        NaN             NaT  \n67                        NaN             NaT  \n68                        NaN             NaT  \n69                     IL_REA      2016-01-01  \n70                        NaN             NaT  \n71                        NaN             NaT  \n72                        NaN             NaT  \n73                        NaN             NaT  \n74                        NaN             NaT  \n75                  IL_OIP-10      2016-01-01  \n76                  IL_OIP-10      2016-01-01  \n77                        NaN             NaT  \n78                     IL_RDD      2016-01-01  \n79                        NaN             NaT  \n80                        NaN             NaT  \n81                        NaN             NaT  \n82                        NaN             NaT  \n83                        NaN             NaT  \n84                        NaN             NaT  \n85                     IL_ROY      2016-01-01  \n86                        NaN             NaT  \n87                        NaN             NaT  \n88                 IL_HBDB-03      2016-01-01  \n89                        NaN             NaT  \n90                        NaN             NaT  \n91                        NaN             NaT  \n92                        NaN             NaT  \n93                     IL_RHI      2016-01-01  \n94                    IL_HBDC      2016-01-01  \n95                 IL_HBDC-02      2016-01-01  \n96                 IL_HBDC-02      2016-01-01  \n97                        NaN             NaT  \n98                        NaN             NaT  \n99                        NaN             NaT  ",
      "text/html": "<div>\n<style scoped>\n    .dataframe tbody tr th:only-of-type {\n        vertical-align: middle;\n    }\n\n    .dataframe tbody tr th {\n        vertical-align: top;\n    }\n\n    .dataframe thead th {\n        text-align: right;\n    }\n</style>\n<table border=\"1\" class=\"dataframe\">\n  <thead>\n    <tr style=\"text-align: right;\">\n      <th></th>\n      <th>organizationIdentifier</th>\n      <th>organizationTypeText</th>\n      <th>state_code</th>\n      <th>actionIdentifier</th>\n      <th>actionTypeCode</th>\n      <th>actionStatusCode</th>\n      <th>completionDate</th>\n      <th>assessmentUnitIdentifier_x</th>\n      <th>pollutantName</th>\n      <th>pollutantSourceTypeCode</th>\n      <th>explicitMarginofSafetyText</th>\n      <th>implicitMarginofSafetyText</th>\n      <th>TMDLEndPointText</th>\n      <th>TMDLDate</th>\n      <th>best_match</th>\n      <th>assessmentUnitIdentifier_y</th>\n      <th>appearance_date</th>\n    </tr>\n  </thead>\n  <tbody>\n    <tr>\n      <th>0</th>\n      <td>IL_EPA</td>\n      <td>State</td>\n      <td>IL</td>\n      <td>52441</td>\n      <td>TMDL</td>\n      <td>EPA Final Action</td>\n      <td>2013-07-31</td>\n      <td>IL_QS-03</td>\n      <td>ESCHERICHIA COLI (E. COLI)</td>\n      <td>Both</td>\n      <td>NaN</td>\n      <td>NaN</td>\n      <td>E. coli TMDL =126 cfu of E. coli /100 ml as a ...</td>\n      <td>2013-07-31</td>\n      <td>IL_QS-03</td>\n      <td>IL_QS-03</td>\n      <td>2016-01-01</td>\n    </tr>\n    <tr>\n      <th>1</th>\n      <td>IL_EPA</td>\n      <td>State</td>\n      <td>IL</td>\n      <td>52441</td>\n      <td>TMDL</td>\n      <td>EPA Final Action</td>\n      <td>2013-07-31</td>\n      <td>IL_QS-04</td>\n      <td>ESCHERICHIA COLI (E. COLI)</td>\n      <td>Both</td>\n      <td>NaN</td>\n      <td>NaN</td>\n      <td>E. coli TMDL =126 cfu of E. coli /100 ml as a ...</td>\n      <td>2013-07-31</td>\n      <td>IL_QS-04</td>\n      <td>IL_QS-04</td>\n      <td>2016-01-01</td>\n    </tr>\n    <tr>\n      <th>2</th>\n      <td>IL_EPA</td>\n      <td>State</td>\n      <td>IL</td>\n      <td>52441</td>\n      <td>TMDL</td>\n      <td>EPA Final Action</td>\n      <td>2013-07-31</td>\n      <td>IL_QS-05</td>\n      <td>ESCHERICHIA COLI (E. COLI)</td>\n      <td>Both</td>\n      <td>NaN</td>\n      <td>NaN</td>\n      <td>E. coli TMDL =126 cfu of E. coli /100 ml as a ...</td>\n      <td>2013-07-31</td>\n      <td>IL_QS-05</td>\n      <td>IL_QS-05</td>\n      <td>2016-01-01</td>\n    </tr>\n    <tr>\n      <th>3</th>\n      <td>IL_EPA</td>\n      <td>State</td>\n      <td>IL</td>\n      <td>52441</td>\n      <td>TMDL</td>\n      <td>EPA Final Action</td>\n      <td>2013-07-31</td>\n      <td>IL_QS-06</td>\n      <td>ESCHERICHIA COLI (E. COLI)</td>\n      <td>Both</td>\n      <td>NaN</td>\n      <td>NaN</td>\n      <td>E. coli TMDL =126 cfu of E. coli /100 ml as a ...</td>\n      <td>2013-07-31</td>\n      <td>IL_QS-06</td>\n      <td>IL_QS-06</td>\n      <td>2016-01-01</td>\n    </tr>\n    <tr>\n      <th>4</th>\n      <td>IL_EPA</td>\n      <td>State</td>\n      <td>IL</td>\n      <td>52441</td>\n      <td>TMDL</td>\n      <td>EPA Final Action</td>\n      <td>2013-07-31</td>\n      <td>IL_QO-01</td>\n      <td>ESCHERICHIA COLI (E. COLI)</td>\n      <td>Both</td>\n      <td>NaN</td>\n      <td>NaN</td>\n      <td>E. coli TMDL =126 cfu of E. coli /100 ml as a ...</td>\n      <td>2013-07-31</td>\n      <td>IL_QO-01</td>\n      <td>IL_QO-01</td>\n      <td>2016-01-01</td>\n    </tr>\n    <tr>\n      <th>5</th>\n      <td>IL_EPA</td>\n      <td>State</td>\n      <td>IL</td>\n      <td>52441</td>\n      <td>TMDL</td>\n      <td>EPA Final Action</td>\n      <td>2013-07-31</td>\n      <td>IL_QO-02</td>\n      <td>ESCHERICHIA COLI (E. COLI)</td>\n      <td>Both</td>\n      <td>NaN</td>\n      <td>NaN</td>\n      <td>E. coli TMDL =126 cfu of E. coli /100 ml as a ...</td>\n      <td>2013-07-31</td>\n      <td>IL_QO-02</td>\n      <td>IL_QO-02</td>\n      <td>2016-01-01</td>\n    </tr>\n    <tr>\n      <th>6</th>\n      <td>IL_EPA</td>\n      <td>State</td>\n      <td>IL</td>\n      <td>52441</td>\n      <td>TMDL</td>\n      <td>EPA Final Action</td>\n      <td>2013-07-31</td>\n      <td>IL_QS-02</td>\n      <td>ESCHERICHIA COLI (E. COLI)</td>\n      <td>Both</td>\n      <td>NaN</td>\n      <td>NaN</td>\n      <td>E. coli TMDL =126 cfu of E. coli /100 ml as a ...</td>\n      <td>2013-07-31</td>\n      <td>IL_QS-02</td>\n      <td>IL_QS-02</td>\n      <td>2016-01-01</td>\n    </tr>\n    <tr>\n      <th>7</th>\n      <td>IL_EPA</td>\n      <td>State</td>\n      <td>IL</td>\n      <td>52441</td>\n      <td>TMDL</td>\n      <td>EPA Final Action</td>\n      <td>2013-07-31</td>\n      <td>IL_QK-07</td>\n      <td>ESCHERICHIA COLI (E. COLI)</td>\n      <td>Both</td>\n      <td>NaN</td>\n      <td>NaN</td>\n      <td>E. coli TMDL =126 cfu of E. coli /100 ml as a ...</td>\n      <td>2013-07-31</td>\n      <td>IL_QK-07</td>\n      <td>IL_QK-07</td>\n      <td>2016-01-01</td>\n    </tr>\n    <tr>\n      <th>8</th>\n      <td>IL_EPA</td>\n      <td>State</td>\n      <td>IL</td>\n      <td>52441</td>\n      <td>TMDL</td>\n      <td>EPA Final Action</td>\n      <td>2013-07-31</td>\n      <td>IL_QK-08</td>\n      <td>ESCHERICHIA COLI (E. COLI)</td>\n      <td>Both</td>\n      <td>NaN</td>\n      <td>NaN</td>\n      <td>E. coli TMDL =126 cfu of E. coli /100 ml as a ...</td>\n      <td>2013-07-31</td>\n      <td>IL_QK-08</td>\n      <td>IL_QK-08</td>\n      <td>2016-01-01</td>\n    </tr>\n    <tr>\n      <th>9</th>\n      <td>IL_EPA</td>\n      <td>State</td>\n      <td>IL</td>\n      <td>52441</td>\n      <td>TMDL</td>\n      <td>EPA Final Action</td>\n      <td>2013-07-31</td>\n      <td>IL_QK-09</td>\n      <td>ESCHERICHIA COLI (E. COLI)</td>\n      <td>Both</td>\n      <td>NaN</td>\n      <td>NaN</td>\n      <td>E. coli TMDL =126 cfu of E. coli /100 ml as a ...</td>\n      <td>2013-07-31</td>\n      <td>IL_QK-09</td>\n      <td>IL_QK-09</td>\n      <td>2016-01-01</td>\n    </tr>\n    <tr>\n      <th>10</th>\n      <td>IL_EPA</td>\n      <td>State</td>\n      <td>IL</td>\n      <td>52441</td>\n      <td>TMDL</td>\n      <td>EPA Final Action</td>\n      <td>2013-07-31</td>\n      <td>IL_QO-05</td>\n      <td>ESCHERICHIA COLI (E. COLI)</td>\n      <td>Both</td>\n      <td>NaN</td>\n      <td>NaN</td>\n      <td>E. coli TMDL =126 cfu of E. coli /100 ml as a ...</td>\n      <td>2013-07-31</td>\n      <td>IL_QO-05</td>\n      <td>IL_QO-05</td>\n      <td>2016-01-01</td>\n    </tr>\n    <tr>\n      <th>11</th>\n      <td>IL_EPA</td>\n      <td>State</td>\n      <td>IL</td>\n      <td>52441</td>\n      <td>TMDL</td>\n      <td>EPA Final Action</td>\n      <td>2013-07-31</td>\n      <td>IL_QO-03</td>\n      <td>ESCHERICHIA COLI (E. COLI)</td>\n      <td>Both</td>\n      <td>NaN</td>\n      <td>NaN</td>\n      <td>E. coli TMDL =126 cfu of E. coli /100 ml as a ...</td>\n      <td>2013-07-31</td>\n      <td>IL_QO-03</td>\n      <td>IL_QO-03</td>\n      <td>2016-01-01</td>\n    </tr>\n    <tr>\n      <th>12</th>\n      <td>IL_EPA</td>\n      <td>State</td>\n      <td>IL</td>\n      <td>52441</td>\n      <td>TMDL</td>\n      <td>EPA Final Action</td>\n      <td>2013-07-31</td>\n      <td>IL_QO-04</td>\n      <td>ESCHERICHIA COLI (E. COLI)</td>\n      <td>Both</td>\n      <td>NaN</td>\n      <td>NaN</td>\n      <td>E. coli TMDL =126 cfu of E. coli /100 ml as a ...</td>\n      <td>2013-07-31</td>\n      <td>IL_QO-04</td>\n      <td>IL_QO-04</td>\n      <td>2016-01-01</td>\n    </tr>\n    <tr>\n      <th>13</th>\n      <td>IL_EPA</td>\n      <td>State</td>\n      <td>IL</td>\n      <td>52441</td>\n      <td>TMDL</td>\n      <td>EPA Final Action</td>\n      <td>2013-07-31</td>\n      <td>IL_QK-04</td>\n      <td>ESCHERICHIA COLI (E. COLI)</td>\n      <td>Both</td>\n      <td>NaN</td>\n      <td>NaN</td>\n      <td>E. coli TMDL =126 cfu of E. coli /100 ml as a ...</td>\n      <td>2013-07-31</td>\n      <td>IL_QK-04</td>\n      <td>IL_QK-04</td>\n      <td>2016-01-01</td>\n    </tr>\n    <tr>\n      <th>14</th>\n      <td>IL_EPA</td>\n      <td>State</td>\n      <td>IL</td>\n      <td>52441</td>\n      <td>TMDL</td>\n      <td>EPA Final Action</td>\n      <td>2013-07-31</td>\n      <td>IL_QK-06</td>\n      <td>ESCHERICHIA COLI (E. COLI)</td>\n      <td>Both</td>\n      <td>NaN</td>\n      <td>NaN</td>\n      <td>E. coli TMDL =126 cfu of E. coli /100 ml as a ...</td>\n      <td>2013-07-31</td>\n      <td>IL_QK-06</td>\n      <td>IL_QK-06</td>\n      <td>2016-01-01</td>\n    </tr>\n    <tr>\n      <th>15</th>\n      <td>IL_EPA</td>\n      <td>State</td>\n      <td>IL</td>\n      <td>52441</td>\n      <td>TMDL</td>\n      <td>EPA Final Action</td>\n      <td>2013-07-31</td>\n      <td>IL_QP-02</td>\n      <td>ESCHERICHIA COLI (E. COLI)</td>\n      <td>Both</td>\n      <td>NaN</td>\n      <td>NaN</td>\n      <td>E. coli TMDL =126 cfu of E. coli /100 ml as a ...</td>\n      <td>2013-07-31</td>\n      <td>IL_QP-02</td>\n      <td>IL_QP-02</td>\n      <td>2016-01-01</td>\n    </tr>\n    <tr>\n      <th>16</th>\n      <td>IL_EPA</td>\n      <td>State</td>\n      <td>IL</td>\n      <td>52441</td>\n      <td>TMDL</td>\n      <td>EPA Final Action</td>\n      <td>2013-07-31</td>\n      <td>IL_QP-03</td>\n      <td>ESCHERICHIA COLI (E. COLI)</td>\n      <td>Both</td>\n      <td>NaN</td>\n      <td>NaN</td>\n      <td>E. coli TMDL =126 cfu of E. coli /100 ml as a ...</td>\n      <td>2013-07-31</td>\n      <td>IL_QP-03</td>\n      <td>IL_QP-03</td>\n      <td>2016-01-01</td>\n    </tr>\n    <tr>\n      <th>17</th>\n      <td>IL_EPA</td>\n      <td>State</td>\n      <td>IL</td>\n      <td>52441</td>\n      <td>TMDL</td>\n      <td>EPA Final Action</td>\n      <td>2013-07-31</td>\n      <td>IL_QT-03</td>\n      <td>ESCHERICHIA COLI (E. COLI)</td>\n      <td>Both</td>\n      <td>NaN</td>\n      <td>NaN</td>\n      <td>E. coli TMDL =126 cfu of E. coli /100 ml as a ...</td>\n      <td>2013-07-31</td>\n      <td>IL_QT-03</td>\n      <td>IL_QT-03</td>\n      <td>2016-01-01</td>\n    </tr>\n    <tr>\n      <th>18</th>\n      <td>IL_EPA</td>\n      <td>State</td>\n      <td>IL</td>\n      <td>52441</td>\n      <td>TMDL</td>\n      <td>EPA Final Action</td>\n      <td>2013-07-31</td>\n      <td>IL_QH-03</td>\n      <td>ESCHERICHIA COLI (E. COLI)</td>\n      <td>Both</td>\n      <td>NaN</td>\n      <td>NaN</td>\n      <td>E. coli TMDL =126 cfu of E. coli /100 ml as a ...</td>\n      <td>2013-07-31</td>\n      <td>IL_QH-03</td>\n      <td>IL_QH-03</td>\n      <td>2016-01-01</td>\n    </tr>\n    <tr>\n      <th>19</th>\n      <td>IL_EPA</td>\n      <td>State</td>\n      <td>IL</td>\n      <td>52441</td>\n      <td>TMDL</td>\n      <td>EPA Final Action</td>\n      <td>2013-07-31</td>\n      <td>IL_QH-01</td>\n      <td>ESCHERICHIA COLI (E. COLI)</td>\n      <td>Both</td>\n      <td>NaN</td>\n      <td>NaN</td>\n      <td>E. coli TMDL =126 cfu of E. coli /100 ml as a ...</td>\n      <td>2013-07-31</td>\n      <td>IL_QH-01</td>\n      <td>IL_QH-01</td>\n      <td>2016-01-01</td>\n    </tr>\n    <tr>\n      <th>20</th>\n      <td>IL_EPA</td>\n      <td>State</td>\n      <td>IL</td>\n      <td>52441</td>\n      <td>TMDL</td>\n      <td>EPA Final Action</td>\n      <td>2013-07-31</td>\n      <td>IL_QI-10</td>\n      <td>ESCHERICHIA COLI (E. COLI)</td>\n      <td>Both</td>\n      <td>NaN</td>\n      <td>NaN</td>\n      <td>E. coli TMDL =126 cfu of E. coli /100 ml as a ...</td>\n      <td>2013-07-31</td>\n      <td>IL_QI-10</td>\n      <td>IL_QI-10</td>\n      <td>2016-01-01</td>\n    </tr>\n    <tr>\n      <th>21</th>\n      <td>IL_EPA</td>\n      <td>State</td>\n      <td>IL</td>\n      <td>52441</td>\n      <td>TMDL</td>\n      <td>EPA Final Action</td>\n      <td>2013-07-31</td>\n      <td>IL_QL-03</td>\n      <td>ESCHERICHIA COLI (E. COLI)</td>\n      <td>Both</td>\n      <td>NaN</td>\n      <td>NaN</td>\n      <td>E. coli TMDL =126 cfu of E. coli /100 ml as a ...</td>\n      <td>2013-07-31</td>\n      <td>IL_QL-03</td>\n      <td>IL_QL-03</td>\n      <td>2016-01-01</td>\n    </tr>\n    <tr>\n      <th>22</th>\n      <td>IL_EPA</td>\n      <td>State</td>\n      <td>IL</td>\n      <td>52441</td>\n      <td>TMDL</td>\n      <td>EPA Final Action</td>\n      <td>2013-07-31</td>\n      <td>IL_QH-09</td>\n      <td>ESCHERICHIA COLI (E. COLI)</td>\n      <td>Both</td>\n      <td>NaN</td>\n      <td>NaN</td>\n      <td>E. coli TMDL =126 cfu of E. coli /100 ml as a ...</td>\n      <td>2013-07-31</td>\n      <td>IL_QH-09</td>\n      <td>IL_QH-09</td>\n      <td>2016-01-01</td>\n    </tr>\n    <tr>\n      <th>23</th>\n      <td>IL_EPA</td>\n      <td>State</td>\n      <td>IL</td>\n      <td>52441</td>\n      <td>TMDL</td>\n      <td>EPA Final Action</td>\n      <td>2013-07-31</td>\n      <td>IL_QH-05</td>\n      <td>ESCHERICHIA COLI (E. COLI)</td>\n      <td>Both</td>\n      <td>NaN</td>\n      <td>NaN</td>\n      <td>E. coli TMDL =126 cfu of E. coli /100 ml as a ...</td>\n      <td>2013-07-31</td>\n      <td>IL_QH-05</td>\n      <td>IL_QH-05</td>\n      <td>2016-01-01</td>\n    </tr>\n    <tr>\n      <th>24</th>\n      <td>IL_EPA</td>\n      <td>State</td>\n      <td>IL</td>\n      <td>52441</td>\n      <td>TMDL</td>\n      <td>EPA Final Action</td>\n      <td>2013-07-31</td>\n      <td>IL_QL-06</td>\n      <td>ESCHERICHIA COLI (E. COLI)</td>\n      <td>Both</td>\n      <td>NaN</td>\n      <td>NaN</td>\n      <td>E. coli TMDL =126 cfu of E. coli /100 ml as a ...</td>\n      <td>2013-07-31</td>\n      <td>IL_QL-06</td>\n      <td>IL_QL-06</td>\n      <td>2016-01-01</td>\n    </tr>\n    <tr>\n      <th>25</th>\n      <td>IL_EPA</td>\n      <td>State</td>\n      <td>IL</td>\n      <td>52441</td>\n      <td>TMDL</td>\n      <td>EPA Final Action</td>\n      <td>2013-07-31</td>\n      <td>IL_QH-04</td>\n      <td>ESCHERICHIA COLI (E. COLI)</td>\n      <td>Both</td>\n      <td>NaN</td>\n      <td>NaN</td>\n      <td>E. coli TMDL =126 cfu of E. coli /100 ml as a ...</td>\n      <td>2013-07-31</td>\n      <td>IL_QH-04</td>\n      <td>IL_QH-04</td>\n      <td>2016-01-01</td>\n    </tr>\n    <tr>\n      <th>26</th>\n      <td>IL_EPA</td>\n      <td>State</td>\n      <td>IL</td>\n      <td>52441</td>\n      <td>TMDL</td>\n      <td>EPA Final Action</td>\n      <td>2013-07-31</td>\n      <td>IL_QN-11</td>\n      <td>ESCHERICHIA COLI (E. COLI)</td>\n      <td>Both</td>\n      <td>NaN</td>\n      <td>NaN</td>\n      <td>E. coli TMDL =126 cfu of E. coli /100 ml as a ...</td>\n      <td>2013-07-31</td>\n      <td>IL_QN-11</td>\n      <td>IL_QN-11</td>\n      <td>2016-01-01</td>\n    </tr>\n    <tr>\n      <th>27</th>\n      <td>IL_EPA</td>\n      <td>State</td>\n      <td>IL</td>\n      <td>52441</td>\n      <td>TMDL</td>\n      <td>EPA Final Action</td>\n      <td>2013-07-31</td>\n      <td>IL_QN-12</td>\n      <td>ESCHERICHIA COLI (E. COLI)</td>\n      <td>Both</td>\n      <td>NaN</td>\n      <td>NaN</td>\n      <td>E. coli TMDL =126 cfu of E. coli /100 ml as a ...</td>\n      <td>2013-07-31</td>\n      <td>IL_QN-12</td>\n      <td>IL_QN-12</td>\n      <td>2016-01-01</td>\n    </tr>\n    <tr>\n      <th>28</th>\n      <td>IL_EPA</td>\n      <td>State</td>\n      <td>IL</td>\n      <td>52441</td>\n      <td>TMDL</td>\n      <td>EPA Final Action</td>\n      <td>2013-07-31</td>\n      <td>IL_QQ-02</td>\n      <td>ESCHERICHIA COLI (E. COLI)</td>\n      <td>Both</td>\n      <td>NaN</td>\n      <td>NaN</td>\n      <td>E. coli TMDL =126 cfu of E. coli /100 ml as a ...</td>\n      <td>2013-07-31</td>\n      <td>IL_QQ-02</td>\n      <td>IL_QQ-02</td>\n      <td>2016-01-01</td>\n    </tr>\n    <tr>\n      <th>29</th>\n      <td>IL_EPA</td>\n      <td>State</td>\n      <td>IL</td>\n      <td>52441</td>\n      <td>TMDL</td>\n      <td>EPA Final Action</td>\n      <td>2013-07-31</td>\n      <td>IL_QQ-01</td>\n      <td>ESCHERICHIA COLI (E. COLI)</td>\n      <td>Both</td>\n      <td>NaN</td>\n      <td>NaN</td>\n      <td>E. coli TMDL =126 cfu of E. coli /100 ml as a ...</td>\n      <td>2013-07-31</td>\n      <td>IL_QQ-01</td>\n      <td>IL_QQ-01</td>\n      <td>2016-01-01</td>\n    </tr>\n    <tr>\n      <th>30</th>\n      <td>IL_EPA</td>\n      <td>State</td>\n      <td>IL</td>\n      <td>52441</td>\n      <td>TMDL</td>\n      <td>EPA Final Action</td>\n      <td>2013-07-31</td>\n      <td>IL_QN-10</td>\n      <td>ESCHERICHIA COLI (E. COLI)</td>\n      <td>Both</td>\n      <td>NaN</td>\n      <td>NaN</td>\n      <td>E. coli TMDL =126 cfu of E. coli /100 ml as a ...</td>\n      <td>2013-07-31</td>\n      <td>IL_QN-10</td>\n      <td>IL_QN-10</td>\n      <td>2016-01-01</td>\n    </tr>\n    <tr>\n      <th>31</th>\n      <td>IL_EPA</td>\n      <td>State</td>\n      <td>IL</td>\n      <td>52441</td>\n      <td>TMDL</td>\n      <td>EPA Final Action</td>\n      <td>2013-07-31</td>\n      <td>IL_QN-13</td>\n      <td>ESCHERICHIA COLI (E. COLI)</td>\n      <td>Both</td>\n      <td>NaN</td>\n      <td>NaN</td>\n      <td>E. coli TMDL =126 cfu of E. coli /100 ml as a ...</td>\n      <td>2013-07-31</td>\n      <td>IL_QN-13</td>\n      <td>IL_QN-13</td>\n      <td>2016-01-01</td>\n    </tr>\n    <tr>\n      <th>32</th>\n      <td>IL_EPA</td>\n      <td>State</td>\n      <td>IL</td>\n      <td>52441</td>\n      <td>TMDL</td>\n      <td>EPA Final Action</td>\n      <td>2013-07-31</td>\n      <td>IL_QM-04</td>\n      <td>ESCHERICHIA COLI (E. COLI)</td>\n      <td>Both</td>\n      <td>NaN</td>\n      <td>NaN</td>\n      <td>E. coli TMDL =126 cfu of E. coli /100 ml as a ...</td>\n      <td>2013-07-31</td>\n      <td>IL_QM-04</td>\n      <td>IL_QM-04</td>\n      <td>2016-01-01</td>\n    </tr>\n    <tr>\n      <th>33</th>\n      <td>IL_EPA</td>\n      <td>State</td>\n      <td>IL</td>\n      <td>52441</td>\n      <td>TMDL</td>\n      <td>EPA Final Action</td>\n      <td>2013-07-31</td>\n      <td>IL_QM-03</td>\n      <td>ESCHERICHIA COLI (E. COLI)</td>\n      <td>Both</td>\n      <td>NaN</td>\n      <td>NaN</td>\n      <td>E. coli TMDL =126 cfu of E. coli /100 ml as a ...</td>\n      <td>2013-07-31</td>\n      <td>IL_QM-03</td>\n      <td>IL_QM-03</td>\n      <td>2016-01-01</td>\n    </tr>\n    <tr>\n      <th>34</th>\n      <td>IL_EPA</td>\n      <td>State</td>\n      <td>IL</td>\n      <td>52441</td>\n      <td>TMDL</td>\n      <td>EPA Final Action</td>\n      <td>2013-07-31</td>\n      <td>IL_QM-06</td>\n      <td>ESCHERICHIA COLI (E. COLI)</td>\n      <td>Both</td>\n      <td>NaN</td>\n      <td>NaN</td>\n      <td>E. coli TMDL =126 cfu of E. coli /100 ml as a ...</td>\n      <td>2013-07-31</td>\n      <td>IL_QM-06</td>\n      <td>IL_QM-06</td>\n      <td>2016-01-01</td>\n    </tr>\n    <tr>\n      <th>35</th>\n      <td>IL_EPA</td>\n      <td>State</td>\n      <td>IL</td>\n      <td>52441</td>\n      <td>TMDL</td>\n      <td>EPA Final Action</td>\n      <td>2013-07-31</td>\n      <td>IL_QM-05</td>\n      <td>ESCHERICHIA COLI (E. COLI)</td>\n      <td>Both</td>\n      <td>NaN</td>\n      <td>NaN</td>\n      <td>E. coli TMDL =126 cfu of E. coli /100 ml as a ...</td>\n      <td>2013-07-31</td>\n      <td>IL_QM-05</td>\n      <td>IL_QM-05</td>\n      <td>2016-01-01</td>\n    </tr>\n    <tr>\n      <th>36</th>\n      <td>IL_EPA</td>\n      <td>State</td>\n      <td>IL</td>\n      <td>52441</td>\n      <td>TMDL</td>\n      <td>EPA Final Action</td>\n      <td>2013-07-31</td>\n      <td>IL_QM-08</td>\n      <td>ESCHERICHIA COLI (E. COLI)</td>\n      <td>Both</td>\n      <td>NaN</td>\n      <td>NaN</td>\n      <td>E. coli TMDL =126 cfu of E. coli /100 ml as a ...</td>\n      <td>2013-07-31</td>\n      <td>IL_QM-08</td>\n      <td>IL_QM-08</td>\n      <td>2016-01-01</td>\n    </tr>\n    <tr>\n      <th>37</th>\n      <td>IL_EPA</td>\n      <td>State</td>\n      <td>IL</td>\n      <td>52441</td>\n      <td>TMDL</td>\n      <td>EPA Final Action</td>\n      <td>2013-07-31</td>\n      <td>IL_QI-06</td>\n      <td>ESCHERICHIA COLI (E. COLI)</td>\n      <td>Both</td>\n      <td>NaN</td>\n      <td>NaN</td>\n      <td>E. coli TMDL =126 cfu of E. coli /100 ml as a ...</td>\n      <td>2013-07-31</td>\n      <td>IL_QI-06</td>\n      <td>IL_QI-06</td>\n      <td>2018-01-01</td>\n    </tr>\n    <tr>\n      <th>38</th>\n      <td>IL_EPA</td>\n      <td>State</td>\n      <td>IL</td>\n      <td>52441</td>\n      <td>TMDL</td>\n      <td>EPA Final Action</td>\n      <td>2013-07-31</td>\n      <td>IL_QM-07</td>\n      <td>ESCHERICHIA COLI (E. COLI)</td>\n      <td>Both</td>\n      <td>NaN</td>\n      <td>NaN</td>\n      <td>E. coli TMDL =126 cfu of E. coli /100 ml as a ...</td>\n      <td>2013-07-31</td>\n      <td>IL_QM-07</td>\n      <td>IL_QM-07</td>\n      <td>2016-01-01</td>\n    </tr>\n    <tr>\n      <th>39</th>\n      <td>IL_EPA</td>\n      <td>State</td>\n      <td>IL</td>\n      <td>52441</td>\n      <td>TMDL</td>\n      <td>EPA Final Action</td>\n      <td>2013-07-31</td>\n      <td>IL_QR-01</td>\n      <td>ESCHERICHIA COLI (E. COLI)</td>\n      <td>Both</td>\n      <td>NaN</td>\n      <td>NaN</td>\n      <td>E. coli TMDL =126 cfu of E. coli /100 ml as a ...</td>\n      <td>2013-07-31</td>\n      <td>IL_QR-01</td>\n      <td>IL_QR-01</td>\n      <td>2016-01-01</td>\n    </tr>\n    <tr>\n      <th>40</th>\n      <td>IL_EPA</td>\n      <td>State</td>\n      <td>IL</td>\n      <td>52441</td>\n      <td>TMDL</td>\n      <td>EPA Final Action</td>\n      <td>2013-07-31</td>\n      <td>IL_QJ</td>\n      <td>ESCHERICHIA COLI (E. COLI)</td>\n      <td>Both</td>\n      <td>NaN</td>\n      <td>NaN</td>\n      <td>E. coli TMDL =126 cfu of E. coli /100 ml as a ...</td>\n      <td>2013-07-31</td>\n      <td>IL_QJ</td>\n      <td>IL_QJ</td>\n      <td>2016-01-01</td>\n    </tr>\n    <tr>\n      <th>41</th>\n      <td>IL_EPA</td>\n      <td>State</td>\n      <td>IL</td>\n      <td>52441</td>\n      <td>TMDL</td>\n      <td>EPA Final Action</td>\n      <td>2013-07-31</td>\n      <td>IL_QN-01</td>\n      <td>ESCHERICHIA COLI (E. COLI)</td>\n      <td>Both</td>\n      <td>NaN</td>\n      <td>NaN</td>\n      <td>E. coli TMDL =126 cfu of E. coli /100 ml as a ...</td>\n      <td>2013-07-31</td>\n      <td>IL_QN-01</td>\n      <td>IL_QN-01</td>\n      <td>2016-01-01</td>\n    </tr>\n    <tr>\n      <th>42</th>\n      <td>IL_EPA</td>\n      <td>State</td>\n      <td>IL</td>\n      <td>52441</td>\n      <td>TMDL</td>\n      <td>EPA Final Action</td>\n      <td>2013-07-31</td>\n      <td>IL_QN-04</td>\n      <td>ESCHERICHIA COLI (E. COLI)</td>\n      <td>Both</td>\n      <td>NaN</td>\n      <td>NaN</td>\n      <td>E. coli TMDL =126 cfu of E. coli /100 ml as a ...</td>\n      <td>2013-07-31</td>\n      <td>IL_QN-04</td>\n      <td>IL_QN-04</td>\n      <td>2016-01-01</td>\n    </tr>\n    <tr>\n      <th>43</th>\n      <td>IL_EPA</td>\n      <td>State</td>\n      <td>IL</td>\n      <td>52441</td>\n      <td>TMDL</td>\n      <td>EPA Final Action</td>\n      <td>2013-07-31</td>\n      <td>IL_QN-05</td>\n      <td>ESCHERICHIA COLI (E. COLI)</td>\n      <td>Both</td>\n      <td>NaN</td>\n      <td>NaN</td>\n      <td>E. coli TMDL =126 cfu of E. coli /100 ml as a ...</td>\n      <td>2013-07-31</td>\n      <td>IL_QN-05</td>\n      <td>IL_QN-05</td>\n      <td>2016-01-01</td>\n    </tr>\n    <tr>\n      <th>44</th>\n      <td>IL_EPA</td>\n      <td>State</td>\n      <td>IL</td>\n      <td>52441</td>\n      <td>TMDL</td>\n      <td>EPA Final Action</td>\n      <td>2013-07-31</td>\n      <td>IL_QN-02</td>\n      <td>ESCHERICHIA COLI (E. COLI)</td>\n      <td>Both</td>\n      <td>NaN</td>\n      <td>NaN</td>\n      <td>E. coli TMDL =126 cfu of E. coli /100 ml as a ...</td>\n      <td>2013-07-31</td>\n      <td>IL_QN-02</td>\n      <td>IL_QN-02</td>\n      <td>2016-01-01</td>\n    </tr>\n    <tr>\n      <th>45</th>\n      <td>IL_EPA</td>\n      <td>State</td>\n      <td>IL</td>\n      <td>52441</td>\n      <td>TMDL</td>\n      <td>EPA Final Action</td>\n      <td>2013-07-31</td>\n      <td>IL_QN-03</td>\n      <td>ESCHERICHIA COLI (E. COLI)</td>\n      <td>Both</td>\n      <td>NaN</td>\n      <td>NaN</td>\n      <td>E. coli TMDL =126 cfu of E. coli /100 ml as a ...</td>\n      <td>2013-07-31</td>\n      <td>IL_QN-03</td>\n      <td>IL_QN-03</td>\n      <td>2016-01-01</td>\n    </tr>\n    <tr>\n      <th>46</th>\n      <td>IL_EPA</td>\n      <td>State</td>\n      <td>IL</td>\n      <td>52441</td>\n      <td>TMDL</td>\n      <td>EPA Final Action</td>\n      <td>2013-07-31</td>\n      <td>IL_QN-08</td>\n      <td>ESCHERICHIA COLI (E. COLI)</td>\n      <td>Both</td>\n      <td>NaN</td>\n      <td>NaN</td>\n      <td>E. coli TMDL =126 cfu of E. coli /100 ml as a ...</td>\n      <td>2013-07-31</td>\n      <td>IL_QN-08</td>\n      <td>IL_QN-08</td>\n      <td>2016-01-01</td>\n    </tr>\n    <tr>\n      <th>47</th>\n      <td>IL_EPA</td>\n      <td>State</td>\n      <td>IL</td>\n      <td>52441</td>\n      <td>TMDL</td>\n      <td>EPA Final Action</td>\n      <td>2013-07-31</td>\n      <td>IL_QN-09</td>\n      <td>ESCHERICHIA COLI (E. COLI)</td>\n      <td>Both</td>\n      <td>NaN</td>\n      <td>NaN</td>\n      <td>E. coli TMDL =126 cfu of E. coli /100 ml as a ...</td>\n      <td>2013-07-31</td>\n      <td>IL_QN-09</td>\n      <td>IL_QN-09</td>\n      <td>2016-01-01</td>\n    </tr>\n    <tr>\n      <th>48</th>\n      <td>IL_EPA</td>\n      <td>State</td>\n      <td>IL</td>\n      <td>52441</td>\n      <td>TMDL</td>\n      <td>EPA Final Action</td>\n      <td>2013-07-31</td>\n      <td>IL_QN-06</td>\n      <td>ESCHERICHIA COLI (E. COLI)</td>\n      <td>Both</td>\n      <td>NaN</td>\n      <td>NaN</td>\n      <td>E. coli TMDL =126 cfu of E. coli /100 ml as a ...</td>\n      <td>2013-07-31</td>\n      <td>IL_QN-06</td>\n      <td>IL_QN-06</td>\n      <td>2016-01-01</td>\n    </tr>\n    <tr>\n      <th>49</th>\n      <td>IL_EPA</td>\n      <td>State</td>\n      <td>IL</td>\n      <td>52441</td>\n      <td>TMDL</td>\n      <td>EPA Final Action</td>\n      <td>2013-07-31</td>\n      <td>IL_QJ-05</td>\n      <td>ESCHERICHIA COLI (E. COLI)</td>\n      <td>Both</td>\n      <td>NaN</td>\n      <td>NaN</td>\n      <td>E. coli TMDL =126 cfu of E. coli /100 ml as a ...</td>\n      <td>2013-07-31</td>\n      <td>IL_QJ-05</td>\n      <td>IL_QJ-05</td>\n      <td>2016-01-01</td>\n    </tr>\n    <tr>\n      <th>50</th>\n      <td>IL_EPA</td>\n      <td>State</td>\n      <td>IL</td>\n      <td>52441</td>\n      <td>TMDL</td>\n      <td>EPA Final Action</td>\n      <td>2013-07-31</td>\n      <td>IL_QN-07</td>\n      <td>ESCHERICHIA COLI (E. COLI)</td>\n      <td>Both</td>\n      <td>NaN</td>\n      <td>NaN</td>\n      <td>E. coli TMDL =126 cfu of E. coli /100 ml as a ...</td>\n      <td>2013-07-31</td>\n      <td>IL_QN-07</td>\n      <td>IL_QN-07</td>\n      <td>2016-01-01</td>\n    </tr>\n    <tr>\n      <th>51</th>\n      <td>IL_EPA</td>\n      <td>State</td>\n      <td>IL</td>\n      <td>32054</td>\n      <td>TMDL</td>\n      <td>EPA Final Action</td>\n      <td>2006-10-13</td>\n      <td>IL_BO07 _BO  07</td>\n      <td>FECAL COLIFORM</td>\n      <td>Both</td>\n      <td>NaN</td>\n      <td>NaN</td>\n      <td>HIGH FLOW (0-10): 466,425 MILLION/DAY\\r\\nMOIST...</td>\n      <td>2006-10-13</td>\n      <td>IL_BO-07</td>\n      <td>IL_BO-07</td>\n      <td>2016-01-01</td>\n    </tr>\n    <tr>\n      <th>52</th>\n      <td>IL_EPA</td>\n      <td>State</td>\n      <td>IL</td>\n      <td>33202</td>\n      <td>TMDL</td>\n      <td>EPA Final Action</td>\n      <td>2006-12-29</td>\n      <td>IL_BPG09_BPG 09</td>\n      <td>FECAL COLIFORM</td>\n      <td>Both</td>\n      <td>NaN</td>\n      <td>NaN</td>\n      <td>FLOW; LOADING CAPACITY\\r\\nHIGH; 3150E+9 CFU/10...</td>\n      <td>2006-12-29</td>\n      <td>IL_BPG-09</td>\n      <td>IL_BPG-09</td>\n      <td>2016-01-01</td>\n    </tr>\n    <tr>\n      <th>53</th>\n      <td>IL_EPA</td>\n      <td>State</td>\n      <td>IL</td>\n      <td>33201</td>\n      <td>TMDL</td>\n      <td>EPA Final Action</td>\n      <td>2006-12-29</td>\n      <td>IL_BPG 05</td>\n      <td>NITRATES</td>\n      <td>Nonpoint source</td>\n      <td>NaN</td>\n      <td>NaN</td>\n      <td>FLOW; LOADING CAPACITY\\r\\nHIGH; 35513.7 LBS/DA...</td>\n      <td>2006-12-29</td>\n      <td></td>\n      <td>NaN</td>\n      <td>NaT</td>\n    </tr>\n    <tr>\n      <th>54</th>\n      <td>IL_EPA</td>\n      <td>State</td>\n      <td>IL</td>\n      <td>10690</td>\n      <td>TMDL</td>\n      <td>EPA Final Action</td>\n      <td>2004-06-09</td>\n      <td>IL_NCD01_NCDB</td>\n      <td>TOTAL DISSOLVED SOLIDS (TDS)</td>\n      <td>Nonpoint source</td>\n      <td>NaN</td>\n      <td>NaN</td>\n      <td>97,826 LBS/DAY</td>\n      <td>2004-06-09</td>\n      <td></td>\n      <td>NaN</td>\n      <td>NaT</td>\n    </tr>\n    <tr>\n      <th>55</th>\n      <td>IL_EPA</td>\n      <td>State</td>\n      <td>IL</td>\n      <td>10690</td>\n      <td>TMDL</td>\n      <td>EPA Final Action</td>\n      <td>2004-06-09</td>\n      <td>IL_NCD01_NCDB</td>\n      <td>SULFATES</td>\n      <td>Nonpoint source</td>\n      <td>NaN</td>\n      <td>NaN</td>\n      <td>37,675 LBS/DAY</td>\n      <td>2004-06-09</td>\n      <td></td>\n      <td>NaN</td>\n      <td>NaT</td>\n    </tr>\n    <tr>\n      <th>56</th>\n      <td>IL_EPA</td>\n      <td>State</td>\n      <td>IL</td>\n      <td>10690</td>\n      <td>TMDL</td>\n      <td>EPA Final Action</td>\n      <td>2004-06-09</td>\n      <td>IL_NCD01_NCDB</td>\n      <td>MANGANESE</td>\n      <td>Nonpoint source</td>\n      <td>NaN</td>\n      <td>NaN</td>\n      <td>52 LBS/DAY</td>\n      <td>2004-06-09</td>\n      <td></td>\n      <td>NaN</td>\n      <td>NaT</td>\n    </tr>\n    <tr>\n      <th>57</th>\n      <td>IL_EPA</td>\n      <td>State</td>\n      <td>IL</td>\n      <td>33208</td>\n      <td>TMDL</td>\n      <td>EPA Final Action</td>\n      <td>2007-09-18</td>\n      <td>IL_RAZB</td>\n      <td>PHOSPHORUS, TOTAL</td>\n      <td>Nonpoint source</td>\n      <td>NaN</td>\n      <td>NaN</td>\n      <td>0.41 LBS/DAY</td>\n      <td>2007-09-18</td>\n      <td>IL_RAZB</td>\n      <td>IL_RAZB</td>\n      <td>2016-01-01</td>\n    </tr>\n    <tr>\n      <th>58</th>\n      <td>IL_EPA</td>\n      <td>State</td>\n      <td>IL</td>\n      <td>10691</td>\n      <td>TMDL</td>\n      <td>EPA Final Action</td>\n      <td>2004-06-09</td>\n      <td>IL_NE05 _NE  05</td>\n      <td>METALS (OTHER THAN MERCURY)</td>\n      <td>Nonpoint source</td>\n      <td>NaN</td>\n      <td>NaN</td>\n      <td>178 LBS/DAY</td>\n      <td>2004-06-09</td>\n      <td>IL_NE-05</td>\n      <td>NaN</td>\n      <td>NaT</td>\n    </tr>\n    <tr>\n      <th>59</th>\n      <td>IL_EPA</td>\n      <td>State</td>\n      <td>IL</td>\n      <td>10691</td>\n      <td>TMDL</td>\n      <td>EPA Final Action</td>\n      <td>2004-06-09</td>\n      <td>IL_NE05 _NE  05</td>\n      <td>SULFATES</td>\n      <td>Nonpoint source</td>\n      <td>NaN</td>\n      <td>NaN</td>\n      <td>68,805 LBS/DAY</td>\n      <td>2004-06-09</td>\n      <td>IL_NE-05</td>\n      <td>NaN</td>\n      <td>NaT</td>\n    </tr>\n    <tr>\n      <th>60</th>\n      <td>IL_EPA</td>\n      <td>State</td>\n      <td>IL</td>\n      <td>33209</td>\n      <td>TMDL</td>\n      <td>EPA Final Action</td>\n      <td>2007-09-18</td>\n      <td>IL_RAT</td>\n      <td>PHOSPHORUS, TOTAL</td>\n      <td>Nonpoint source</td>\n      <td>NaN</td>\n      <td>NaN</td>\n      <td>0.12 LBS/DAY</td>\n      <td>2007-09-18</td>\n      <td>IL_RAT</td>\n      <td>NaN</td>\n      <td>NaT</td>\n    </tr>\n    <tr>\n      <th>61</th>\n      <td>IL_EPA</td>\n      <td>State</td>\n      <td>IL</td>\n      <td>33206</td>\n      <td>TMDL</td>\n      <td>EPA Final Action</td>\n      <td>2007-09-06</td>\n      <td>IL_E29 _EZV</td>\n      <td>DISSOLVED OXYGEN</td>\n      <td>Both</td>\n      <td>NaN</td>\n      <td>N</td>\n      <td>1.42 KG/DAY</td>\n      <td>2007-09-06</td>\n      <td>IL_E-29</td>\n      <td>NaN</td>\n      <td>NaT</td>\n    </tr>\n    <tr>\n      <th>62</th>\n      <td>IL_EPA</td>\n      <td>State</td>\n      <td>IL</td>\n      <td>33206</td>\n      <td>TMDL</td>\n      <td>EPA Final Action</td>\n      <td>2007-09-06</td>\n      <td>IL_E29 _EZV</td>\n      <td>PHOSPHORUS, TOTAL</td>\n      <td>Both</td>\n      <td>NaN</td>\n      <td>N</td>\n      <td>1.42 KG/DAY</td>\n      <td>2007-09-06</td>\n      <td>IL_E-29</td>\n      <td>NaN</td>\n      <td>NaT</td>\n    </tr>\n    <tr>\n      <th>63</th>\n      <td>IL_EPA</td>\n      <td>State</td>\n      <td>IL</td>\n      <td>33207</td>\n      <td>TMDL</td>\n      <td>EPA Final Action</td>\n      <td>2007-09-18</td>\n      <td>IL_AJF01 _AJF 16</td>\n      <td>MANGANESE</td>\n      <td>Nonpoint source</td>\n      <td>NaN</td>\n      <td>NaN</td>\n      <td>FLOW (CFS); LOADING CAPACITY (LBS/DAY)\\r\\n5; 2...</td>\n      <td>2007-09-18</td>\n      <td></td>\n      <td>NaN</td>\n      <td>NaT</td>\n    </tr>\n    <tr>\n      <th>64</th>\n      <td>IL_EPA</td>\n      <td>State</td>\n      <td>IL</td>\n      <td>33204</td>\n      <td>TMDL</td>\n      <td>EPA Final Action</td>\n      <td>2007-09-06</td>\n      <td>IL_E29 _E   29</td>\n      <td>FECAL COLIFORM</td>\n      <td>Both</td>\n      <td>NaN</td>\n      <td>Y</td>\n      <td>FLOW (CFS); LOADING CAPACITY (CFU/DAY)\\r\\n5; 2...</td>\n      <td>2007-09-06</td>\n      <td>IL_E-29</td>\n      <td>IL_E-29</td>\n      <td>2016-01-01</td>\n    </tr>\n    <tr>\n      <th>65</th>\n      <td>IL_EPA</td>\n      <td>State</td>\n      <td>IL</td>\n      <td>33204</td>\n      <td>TMDL</td>\n      <td>EPA Final Action</td>\n      <td>2007-09-06</td>\n      <td>IL_E-18</td>\n      <td>FECAL COLIFORM</td>\n      <td>Both</td>\n      <td>NaN</td>\n      <td>Y</td>\n      <td>FLOW (CFS); LOADING CAPACITY (CFU/DAY)\\r\\n5; 2...</td>\n      <td>2007-09-06</td>\n      <td>IL_E-18</td>\n      <td>IL_E-18</td>\n      <td>2016-01-01</td>\n    </tr>\n    <tr>\n      <th>66</th>\n      <td>IL_EPA</td>\n      <td>State</td>\n      <td>IL</td>\n      <td>33205</td>\n      <td>TMDL</td>\n      <td>EPA Final Action</td>\n      <td>2007-09-06</td>\n      <td>IL_REA _REA</td>\n      <td>SEDIMENTATION/SILTATION</td>\n      <td>Nonpoint source</td>\n      <td>NaN</td>\n      <td>NaN</td>\n      <td>LOADING CAPACITY = 31.4 KG/DAY</td>\n      <td>2007-09-06</td>\n      <td>IL_REA</td>\n      <td>NaN</td>\n      <td>NaT</td>\n    </tr>\n    <tr>\n      <th>67</th>\n      <td>IL_EPA</td>\n      <td>State</td>\n      <td>IL</td>\n      <td>33205</td>\n      <td>TMDL</td>\n      <td>EPA Final Action</td>\n      <td>2007-09-06</td>\n      <td>IL_REA _REA</td>\n      <td>NITRATES</td>\n      <td>Both</td>\n      <td>NaN</td>\n      <td>N</td>\n      <td>FLOW (CFS); LOADING CAPACITY (KG/DAY)\\r\\n10; 2...</td>\n      <td>2007-09-06</td>\n      <td>IL_REA</td>\n      <td>NaN</td>\n      <td>NaT</td>\n    </tr>\n    <tr>\n      <th>68</th>\n      <td>IL_EPA</td>\n      <td>State</td>\n      <td>IL</td>\n      <td>33205</td>\n      <td>TMDL</td>\n      <td>EPA Final Action</td>\n      <td>2007-09-06</td>\n      <td>IL_REA _REA</td>\n      <td>TOTAL SUSPENDED SOLIDS (TSS)</td>\n      <td>Nonpoint source</td>\n      <td>NaN</td>\n      <td>NaN</td>\n      <td>LOADING CAPACITY = 31.4 KG/DAY</td>\n      <td>2007-09-06</td>\n      <td>IL_REA</td>\n      <td>NaN</td>\n      <td>NaT</td>\n    </tr>\n    <tr>\n      <th>69</th>\n      <td>IL_EPA</td>\n      <td>State</td>\n      <td>IL</td>\n      <td>33205</td>\n      <td>TMDL</td>\n      <td>EPA Final Action</td>\n      <td>2007-09-06</td>\n      <td>IL_REA _REA</td>\n      <td>PHOSPHORUS, TOTAL</td>\n      <td>Nonpoint source</td>\n      <td>NaN</td>\n      <td>NaN</td>\n      <td>LOADING CAPACITY = 31.4 KG/DAY</td>\n      <td>2007-09-06</td>\n      <td>IL_REA</td>\n      <td>IL_REA</td>\n      <td>2016-01-01</td>\n    </tr>\n    <tr>\n      <th>70</th>\n      <td>IL_EPA</td>\n      <td>State</td>\n      <td>IL</td>\n      <td>33205</td>\n      <td>TMDL</td>\n      <td>EPA Final Action</td>\n      <td>2007-09-06</td>\n      <td>IL_REA _REA</td>\n      <td>NITROGEN, TOTAL</td>\n      <td>Both</td>\n      <td>NaN</td>\n      <td>N</td>\n      <td>FLOW (CFS); LOADING CAPACITY (KG/DAY)\\r\\n10; 2...</td>\n      <td>2007-09-06</td>\n      <td>IL_REA</td>\n      <td>NaN</td>\n      <td>NaT</td>\n    </tr>\n    <tr>\n      <th>71</th>\n      <td>IL_EPA</td>\n      <td>State</td>\n      <td>IL</td>\n      <td>33205</td>\n      <td>TMDL</td>\n      <td>EPA Final Action</td>\n      <td>2007-09-06</td>\n      <td>IL_REA _REA</td>\n      <td>DISSOLVED OXYGEN</td>\n      <td>Nonpoint source</td>\n      <td>NaN</td>\n      <td>NaN</td>\n      <td>LOADING CAPACITY = 31.4 KG/DAY</td>\n      <td>2007-09-06</td>\n      <td>IL_REA</td>\n      <td>NaN</td>\n      <td>NaT</td>\n    </tr>\n    <tr>\n      <th>72</th>\n      <td>IL_EPA</td>\n      <td>State</td>\n      <td>IL</td>\n      <td>33594</td>\n      <td>TMDL</td>\n      <td>EPA Final Action</td>\n      <td>2007-09-28</td>\n      <td>IL_DKP02 _RDO</td>\n      <td>TOTAL SUSPENDED SOLIDS (TSS)</td>\n      <td>Both</td>\n      <td>NaN</td>\n      <td>NaN</td>\n      <td>2.2 LBS/DAY</td>\n      <td>2007-09-28</td>\n      <td></td>\n      <td>NaN</td>\n      <td>NaT</td>\n    </tr>\n    <tr>\n      <th>73</th>\n      <td>IL_EPA</td>\n      <td>State</td>\n      <td>IL</td>\n      <td>33594</td>\n      <td>TMDL</td>\n      <td>EPA Final Action</td>\n      <td>2007-09-28</td>\n      <td>IL_DKP02 _RDO</td>\n      <td>NITRATES</td>\n      <td>Both</td>\n      <td>NaN</td>\n      <td>NaN</td>\n      <td>1,663.2 LBS/DAY</td>\n      <td>2007-09-28</td>\n      <td></td>\n      <td>NaN</td>\n      <td>NaT</td>\n    </tr>\n    <tr>\n      <th>74</th>\n      <td>IL_EPA</td>\n      <td>State</td>\n      <td>IL</td>\n      <td>33594</td>\n      <td>TMDL</td>\n      <td>EPA Final Action</td>\n      <td>2007-09-28</td>\n      <td>IL_DKP02 _RDO</td>\n      <td>PHOSPHORUS, TOTAL</td>\n      <td>Both</td>\n      <td>NaN</td>\n      <td>NaN</td>\n      <td>2.2 LBS/DAY</td>\n      <td>2007-09-28</td>\n      <td></td>\n      <td>NaN</td>\n      <td>NaT</td>\n    </tr>\n    <tr>\n      <th>75</th>\n      <td>IL_EPA</td>\n      <td>State</td>\n      <td>IL</td>\n      <td>33590</td>\n      <td>TMDL</td>\n      <td>EPA Final Action</td>\n      <td>2007-09-20</td>\n      <td>IL_OIP10 _OIP 10</td>\n      <td>COPPER</td>\n      <td>Nonpoint source</td>\n      <td>NaN</td>\n      <td>NaN</td>\n      <td>FLOW RANGE; TMDL (KG/DAY)\\r\\n0-10 (HIGH); 0.67...</td>\n      <td>2007-09-20</td>\n      <td>IL_OIP-10</td>\n      <td>IL_OIP-10</td>\n      <td>2016-01-01</td>\n    </tr>\n    <tr>\n      <th>76</th>\n      <td>IL_EPA</td>\n      <td>State</td>\n      <td>IL</td>\n      <td>33590</td>\n      <td>TMDL</td>\n      <td>EPA Final Action</td>\n      <td>2007-09-20</td>\n      <td>IL_OIP10 _OIP 10</td>\n      <td>AMMONIA, TOTAL</td>\n      <td>Nonpoint source</td>\n      <td>NaN</td>\n      <td>NaN</td>\n      <td>FLOW RANGE; TMDL (KG/DAY)\\r\\n0-10 (HIGH); 277\\...</td>\n      <td>2007-09-20</td>\n      <td>IL_OIP-10</td>\n      <td>IL_OIP-10</td>\n      <td>2016-01-01</td>\n    </tr>\n    <tr>\n      <th>77</th>\n      <td>IL_EPA</td>\n      <td>State</td>\n      <td>IL</td>\n      <td>33590</td>\n      <td>TMDL</td>\n      <td>EPA Final Action</td>\n      <td>2007-09-20</td>\n      <td>IL_OIP10 _OIP 10</td>\n      <td>TOTAL DISSOLVED SOLIDS (TDS)</td>\n      <td>Nonpoint source</td>\n      <td>NaN</td>\n      <td>NaN</td>\n      <td>FLOW RANGE; TMDL (KG/DAY)\\r\\n0-10 (HIGH); 32.9...</td>\n      <td>2007-09-20</td>\n      <td>IL_OIP-10</td>\n      <td>NaN</td>\n      <td>NaT</td>\n    </tr>\n    <tr>\n      <th>78</th>\n      <td>IL_EPA</td>\n      <td>State</td>\n      <td>IL</td>\n      <td>68183</td>\n      <td>TMDL</td>\n      <td>EPA Final Action</td>\n      <td>2017-06-28</td>\n      <td>IL_RDD</td>\n      <td>PHOSPHORUS, TOTAL</td>\n      <td>Both</td>\n      <td>NaN</td>\n      <td>NaN</td>\n      <td>Refer to Table 2 in the decision document for ...</td>\n      <td>2017-06-28</td>\n      <td>IL_RDD</td>\n      <td>IL_RDD</td>\n      <td>2016-01-01</td>\n    </tr>\n    <tr>\n      <th>79</th>\n      <td>IL_EPA</td>\n      <td>State</td>\n      <td>IL</td>\n      <td>10688</td>\n      <td>TMDL</td>\n      <td>EPA Final Action</td>\n      <td>2004-06-09</td>\n      <td>IL_NCD01_NCD 03</td>\n      <td>MANGANESE</td>\n      <td>Nonpoint source</td>\n      <td>NaN</td>\n      <td>NaN</td>\n      <td>91 LBS/DAY</td>\n      <td>2004-06-09</td>\n      <td></td>\n      <td>NaN</td>\n      <td>NaT</td>\n    </tr>\n    <tr>\n      <th>80</th>\n      <td>IL_EPA</td>\n      <td>State</td>\n      <td>IL</td>\n      <td>10689</td>\n      <td>TMDL</td>\n      <td>EPA Final Action</td>\n      <td>2004-06-09</td>\n      <td>IL_NCD01_NCD 03</td>\n      <td>TOTAL DISSOLVED SOLIDS (TDS)</td>\n      <td>Nonpoint source</td>\n      <td>NaN</td>\n      <td>NaN</td>\n      <td>506,942 LBS/DAY</td>\n      <td>2004-06-09</td>\n      <td></td>\n      <td>NaN</td>\n      <td>NaT</td>\n    </tr>\n    <tr>\n      <th>81</th>\n      <td>IL_EPA</td>\n      <td>State</td>\n      <td>IL</td>\n      <td>10689</td>\n      <td>TMDL</td>\n      <td>EPA Final Action</td>\n      <td>2004-06-09</td>\n      <td>IL_NCD01_NCD 03</td>\n      <td>SULFATES</td>\n      <td>Nonpoint source</td>\n      <td>NaN</td>\n      <td>NaN</td>\n      <td>257,557 LBS/DAY</td>\n      <td>2004-06-09</td>\n      <td></td>\n      <td>NaN</td>\n      <td>NaT</td>\n    </tr>\n    <tr>\n      <th>82</th>\n      <td>IL_EPA</td>\n      <td>State</td>\n      <td>IL</td>\n      <td>10689</td>\n      <td>TMDL</td>\n      <td>EPA Final Action</td>\n      <td>2004-06-09</td>\n      <td>IL_NCD01_NCD 03</td>\n      <td>SILVER</td>\n      <td>Nonpoint source</td>\n      <td>NaN</td>\n      <td>NaN</td>\n      <td>1.3 LBS/DAY</td>\n      <td>2004-06-09</td>\n      <td></td>\n      <td>NaN</td>\n      <td>NaT</td>\n    </tr>\n    <tr>\n      <th>83</th>\n      <td>IL_EPA</td>\n      <td>State</td>\n      <td>IL</td>\n      <td>68184</td>\n      <td>TMDL</td>\n      <td>EPA Final Action</td>\n      <td>2017-03-28</td>\n      <td>IL_DB01 _SDC</td>\n      <td>PHOSPHORUS, TOTAL</td>\n      <td>Nonpoint source</td>\n      <td>NaN</td>\n      <td>NaN</td>\n      <td>Refer to Table 3 in the decision document for ...</td>\n      <td>2017-03-28</td>\n      <td>IL_DB-01</td>\n      <td>NaN</td>\n      <td>NaT</td>\n    </tr>\n    <tr>\n      <th>84</th>\n      <td>IL_EPA</td>\n      <td>State</td>\n      <td>IL</td>\n      <td>10687</td>\n      <td>TMDL</td>\n      <td>EPA Final Action</td>\n      <td>2004-06-09</td>\n      <td>IL_NCD01_NCDC01</td>\n      <td>SULFATES</td>\n      <td>Nonpoint source</td>\n      <td>NaN</td>\n      <td>NaN</td>\n      <td>32,026 LBS/DAY</td>\n      <td>2004-06-09</td>\n      <td></td>\n      <td>NaN</td>\n      <td>NaT</td>\n    </tr>\n    <tr>\n      <th>85</th>\n      <td>IL_EPA</td>\n      <td>State</td>\n      <td>IL</td>\n      <td>33210</td>\n      <td>TMDL</td>\n      <td>EPA Final Action</td>\n      <td>2007-09-17</td>\n      <td>IL_ROY</td>\n      <td>PHOSPHORUS, TOTAL</td>\n      <td>Nonpoint source</td>\n      <td>NaN</td>\n      <td>NaN</td>\n      <td>0.477 KG/DAY</td>\n      <td>2007-09-17</td>\n      <td>IL_ROY</td>\n      <td>IL_ROY</td>\n      <td>2016-01-01</td>\n    </tr>\n    <tr>\n      <th>86</th>\n      <td>IL_EPA</td>\n      <td>State</td>\n      <td>IL</td>\n      <td>33211</td>\n      <td>TMDL</td>\n      <td>EPA Final Action</td>\n      <td>2007-09-17</td>\n      <td>IL_OID01_ROG</td>\n      <td>PHOSPHORUS, TOTAL</td>\n      <td>Both</td>\n      <td>NaN</td>\n      <td>N</td>\n      <td>0.16 KG/DAY</td>\n      <td>2007-09-17</td>\n      <td></td>\n      <td>NaN</td>\n      <td>NaT</td>\n    </tr>\n    <tr>\n      <th>87</th>\n      <td>IL_EPA</td>\n      <td>State</td>\n      <td>IL</td>\n      <td>33211</td>\n      <td>TMDL</td>\n      <td>EPA Final Action</td>\n      <td>2007-09-17</td>\n      <td>IL_OID01_ROG</td>\n      <td>TOTAL SUSPENDED SOLIDS (TSS)</td>\n      <td>Both</td>\n      <td>NaN</td>\n      <td>N</td>\n      <td>0.16 KG/DAY</td>\n      <td>2007-09-17</td>\n      <td></td>\n      <td>NaN</td>\n      <td>NaT</td>\n    </tr>\n    <tr>\n      <th>88</th>\n      <td>IL_EPA</td>\n      <td>State</td>\n      <td>IL</td>\n      <td>IL-2021-001</td>\n      <td>TMDL</td>\n      <td>EPA Final Action</td>\n      <td>2020-12-16</td>\n      <td>IL_HBDB-03</td>\n      <td>FECAL COLIFORM</td>\n      <td>Both</td>\n      <td>NaN</td>\n      <td>NaN</td>\n      <td>See Table 2-18 in the Thorn Creek Watershed TM...</td>\n      <td>2021-01-13</td>\n      <td>IL_HBDB-03</td>\n      <td>IL_HBDB-03</td>\n      <td>2016-01-01</td>\n    </tr>\n    <tr>\n      <th>89</th>\n      <td>IL_EPA</td>\n      <td>State</td>\n      <td>IL</td>\n      <td>IL-2021-001</td>\n      <td>TMDL</td>\n      <td>EPA Final Action</td>\n      <td>2020-12-16</td>\n      <td>IL_HBDA-01</td>\n      <td>PHOSPHORUS, TOTAL</td>\n      <td>Nonpoint source</td>\n      <td>NaN</td>\n      <td>NaN</td>\n      <td>See Table 2-36 in the Thorn Creek Watershed TM...</td>\n      <td>2021-01-13</td>\n      <td>IL_HBDA-01</td>\n      <td>NaN</td>\n      <td>NaT</td>\n    </tr>\n    <tr>\n      <th>90</th>\n      <td>IL_EPA</td>\n      <td>State</td>\n      <td>IL</td>\n      <td>IL-2021-001</td>\n      <td>TMDL</td>\n      <td>EPA Final Action</td>\n      <td>2020-12-16</td>\n      <td>IL_HBDA-01</td>\n      <td>AMMONIA-NITROGEN</td>\n      <td>Both</td>\n      <td>NaN</td>\n      <td>NaN</td>\n      <td>See Table 2-36 in the Thorn Creek Watershed TM...</td>\n      <td>2021-01-13</td>\n      <td>IL_HBDA-01</td>\n      <td>NaN</td>\n      <td>NaT</td>\n    </tr>\n    <tr>\n      <th>91</th>\n      <td>IL_EPA</td>\n      <td>State</td>\n      <td>IL</td>\n      <td>IL-2021-001</td>\n      <td>TMDL</td>\n      <td>EPA Final Action</td>\n      <td>2020-12-16</td>\n      <td>IL_HBDA-01</td>\n      <td>SEDIMENT OXYGEN DEMAND</td>\n      <td>Nonpoint source</td>\n      <td>NaN</td>\n      <td>NaN</td>\n      <td>See Table 2-36 in the Thorn Creek Watershed TM...</td>\n      <td>2021-01-13</td>\n      <td>IL_HBDA-01</td>\n      <td>NaN</td>\n      <td>NaT</td>\n    </tr>\n    <tr>\n      <th>92</th>\n      <td>IL_EPA</td>\n      <td>State</td>\n      <td>IL</td>\n      <td>IL-2021-001</td>\n      <td>TMDL</td>\n      <td>EPA Final Action</td>\n      <td>2020-12-16</td>\n      <td>IL_HBDA-01</td>\n      <td>BIOCHEMICAL OXYGEN DEMAND (BOD), CARBONACEOUS</td>\n      <td>Nonpoint source</td>\n      <td>NaN</td>\n      <td>NaN</td>\n      <td>See Table 2-36 in the Thorn Creek Watershed TM...</td>\n      <td>2021-01-13</td>\n      <td>IL_HBDA-01</td>\n      <td>NaN</td>\n      <td>NaT</td>\n    </tr>\n    <tr>\n      <th>93</th>\n      <td>IL_EPA</td>\n      <td>State</td>\n      <td>IL</td>\n      <td>IL-2021-001</td>\n      <td>TMDL</td>\n      <td>EPA Final Action</td>\n      <td>2020-12-16</td>\n      <td>IL_RHI</td>\n      <td>PHOSPHORUS, TOTAL</td>\n      <td>Both</td>\n      <td>NaN</td>\n      <td>NaN</td>\n      <td>NaN</td>\n      <td>2021-01-13</td>\n      <td>IL_RHI</td>\n      <td>IL_RHI</td>\n      <td>2016-01-01</td>\n    </tr>\n    <tr>\n      <th>94</th>\n      <td>IL_EPA</td>\n      <td>State</td>\n      <td>IL</td>\n      <td>IL-2021-001</td>\n      <td>TMDL</td>\n      <td>EPA Final Action</td>\n      <td>2020-12-16</td>\n      <td>IL_HBDC</td>\n      <td>FECAL COLIFORM</td>\n      <td>Both</td>\n      <td>NaN</td>\n      <td>NaN</td>\n      <td>See Table 2-19 in the Thorn Creek Watershed TM...</td>\n      <td>2021-01-13</td>\n      <td>IL_HBDC</td>\n      <td>IL_HBDC</td>\n      <td>2016-01-01</td>\n    </tr>\n    <tr>\n      <th>95</th>\n      <td>IL_EPA</td>\n      <td>State</td>\n      <td>IL</td>\n      <td>IL-2021-001</td>\n      <td>TMDL</td>\n      <td>EPA Final Action</td>\n      <td>2020-12-16</td>\n      <td>IL_HBDC-02</td>\n      <td>FECAL COLIFORM</td>\n      <td>Both</td>\n      <td>NaN</td>\n      <td>NaN</td>\n      <td>See Table 2-20 in the Thorn Creek Watershed TM...</td>\n      <td>2021-01-13</td>\n      <td>IL_HBDC-02</td>\n      <td>IL_HBDC-02</td>\n      <td>2016-01-01</td>\n    </tr>\n    <tr>\n      <th>96</th>\n      <td>IL_EPA</td>\n      <td>State</td>\n      <td>IL</td>\n      <td>IL-2021-001</td>\n      <td>TMDL</td>\n      <td>EPA Final Action</td>\n      <td>2020-12-16</td>\n      <td>IL_HBDC-02</td>\n      <td>PHOSPHORUS, TOTAL</td>\n      <td>Nonpoint source</td>\n      <td>NaN</td>\n      <td>NaN</td>\n      <td>See Table 2-37 in the Thorn Creek Watershed TM...</td>\n      <td>2021-01-13</td>\n      <td>IL_HBDC-02</td>\n      <td>IL_HBDC-02</td>\n      <td>2016-01-01</td>\n    </tr>\n    <tr>\n      <th>97</th>\n      <td>IL_EPA</td>\n      <td>State</td>\n      <td>IL</td>\n      <td>IL-2021-001</td>\n      <td>TMDL</td>\n      <td>EPA Final Action</td>\n      <td>2020-12-16</td>\n      <td>IL_HBDC-02</td>\n      <td>SEDIMENT OXYGEN DEMAND</td>\n      <td>Nonpoint source</td>\n      <td>NaN</td>\n      <td>NaN</td>\n      <td>See Table 2-37 in the Thorn Creek Watershed TM...</td>\n      <td>2021-01-13</td>\n      <td>IL_HBDC-02</td>\n      <td>NaN</td>\n      <td>NaT</td>\n    </tr>\n    <tr>\n      <th>98</th>\n      <td>IL_EPA</td>\n      <td>State</td>\n      <td>IL</td>\n      <td>IL-2021-001</td>\n      <td>TMDL</td>\n      <td>EPA Final Action</td>\n      <td>2020-12-16</td>\n      <td>IL_HBDC-02</td>\n      <td>BIOCHEMICAL OXYGEN DEMAND (BOD), CARBONACEOUS</td>\n      <td>Nonpoint source</td>\n      <td>NaN</td>\n      <td>NaN</td>\n      <td>See Table 2-37 in the Thorn Creek Watershed TM...</td>\n      <td>2021-01-13</td>\n      <td>IL_HBDC-02</td>\n      <td>NaN</td>\n      <td>NaT</td>\n    </tr>\n    <tr>\n      <th>99</th>\n      <td>IL_EPA</td>\n      <td>State</td>\n      <td>IL</td>\n      <td>IL-2021-001</td>\n      <td>TMDL</td>\n      <td>EPA Final Action</td>\n      <td>2020-12-16</td>\n      <td>IL_HBDC-02</td>\n      <td>AMMONIA-NITROGEN</td>\n      <td>Both</td>\n      <td>NaN</td>\n      <td>NaN</td>\n      <td>See Table 2-37 in the Thorn Creek Watershed TM...</td>\n      <td>2021-01-13</td>\n      <td>IL_HBDC-02</td>\n      <td>NaN</td>\n      <td>NaT</td>\n    </tr>\n  </tbody>\n</table>\n</div>"
     },
     "execution_count": 235,
     "metadata": {},
     "output_type": "execute_result"
    }
   ],
   "source": [
    "IL_merged.iloc[0:100]"
   ],
   "metadata": {
    "collapsed": false,
    "pycharm": {
     "name": "#%%\n"
    }
   }
  },
  {
   "cell_type": "code",
   "execution_count": 233,
   "outputs": [
    {
     "data": {
      "text/plain": "274"
     },
     "execution_count": 233,
     "metadata": {},
     "output_type": "execute_result"
    }
   ],
   "source": [
    "len(IL_merged['assessmentUnitIdentifier_y'].unique())"
   ],
   "metadata": {
    "collapsed": false,
    "pycharm": {
     "name": "#%%\n"
    }
   }
  },
  {
   "cell_type": "code",
   "execution_count": 236,
   "outputs": [],
   "source": [
    "delays = (IL_merged.drop_duplicates(subset=['assessmentUnitIdentifier_y'])['TMDLDate']-IL_merged.drop_duplicates(subset='assessmentUnitIdentifier_y')['appearance_date']) / dt.timedelta(days=365)"
   ],
   "metadata": {
    "collapsed": false,
    "pycharm": {
     "name": "#%%\n"
    }
   }
  },
  {
   "cell_type": "code",
   "execution_count": 237,
   "outputs": [
    {
     "data": {
      "text/plain": "Text(0.5, 1.0, 'Years between appearance on 303(d) list and TMDL Date')"
     },
     "execution_count": 237,
     "metadata": {},
     "output_type": "execute_result"
    },
    {
     "data": {
      "text/plain": "<Figure size 432x288 with 1 Axes>",
      "image/png": "[encoded data removed]"
     },
     "metadata": {
      "needs_background": "light"
     },
     "output_type": "display_data"
    }
   ],
   "source": [
    "plt.hist(delays, bins=30);\n",
    "plt.title('Years between appearance on 303(d) list and TMDL Date')"
   ],
   "metadata": {
    "collapsed": false,
    "pycharm": {
     "name": "#%%\n"
    }
   }
  },
  {
   "cell_type": "markdown",
   "source": [
    "TODO: Understand why AUIDs get suffixes and why action records contain them but assessment records don't\n",
    "TODO: understand what's going on in this graph"
   ],
   "metadata": {
    "collapsed": false,
    "pycharm": {
     "name": "#%% md\n"
    }
   }
  },
  {
   "cell_type": "code",
   "execution_count": 226,
   "outputs": [
    {
     "data": {
      "text/plain": "         Unnamed: 0 state_code organizationIdentifier organizationTypeText  \\\n1205812     1205813         IL                 IL_EPA                State   \n1205813     1205814         IL                 IL_EPA                State   \n1205814     1205815         IL                 IL_EPA                State   \n1205815     1205816         IL                 IL_EPA                State   \n1205816     1205817         IL                 IL_EPA                State   \n1205817     1205818         IL                 IL_EPA                State   \n1205818     1205819         IL                 IL_EPA                State   \n1205819     1205820         IL                 IL_EPA                State   \n1205820     1205821         IL                 IL_EPA                State   \n1205821     1205822         IL                 IL_EPA                State   \n1205822     1205823         IL                 IL_EPA                State   \n1205823     1205824         IL                 IL_EPA                State   \n1205824     1205825         IL                 IL_EPA                State   \n1205825     1205826         IL                 IL_EPA                State   \n1205826     1205827         IL                 IL_EPA                State   \n1205827     1205828         IL                 IL_EPA                State   \n1205828     1205829         IL                 IL_EPA                State   \n1205829     1205830         IL                 IL_EPA                State   \n1205830     1205831         IL                 IL_EPA                State   \n1205831     1205832         IL                 IL_EPA                State   \n1205832     1205833         IL                 IL_EPA                State   \n1205833     1205834         IL                 IL_EPA                State   \n1205834     1205835         IL                 IL_EPA                State   \n1205835     1205836         IL                 IL_EPA                State   \n1205836     1205837         IL                 IL_EPA                State   \n1205837     1205838         IL                 IL_EPA                State   \n1205838     1205839         IL                 IL_EPA                State   \n1205839     1205840         IL                 IL_EPA                State   \n1205840     1205841         IL                 IL_EPA                State   \n1205841     1205842         IL                 IL_EPA                State   \n1223104     1223105         IL                 IL_EPA                State   \n1223105     1223106         IL                 IL_EPA                State   \n1223106     1223107         IL                 IL_EPA                State   \n1223107     1223108         IL                 IL_EPA                State   \n1223108     1223109         IL                 IL_EPA                State   \n1223109     1223110         IL                 IL_EPA                State   \n1223110     1223111         IL                 IL_EPA                State   \n1223111     1223112         IL                 IL_EPA                State   \n1223112     1223113         IL                 IL_EPA                State   \n1223113     1223114         IL                 IL_EPA                State   \n1223114     1223115         IL                 IL_EPA                State   \n1223115     1223116         IL                 IL_EPA                State   \n1223116     1223117         IL                 IL_EPA                State   \n1223117     1223118         IL                 IL_EPA                State   \n1223118     1223119         IL                 IL_EPA                State   \n1223119     1223120         IL                 IL_EPA                State   \n1223120     1223121         IL                 IL_EPA                State   \n1223121     1223122         IL                 IL_EPA                State   \n1223122     1223123         IL                 IL_EPA                State   \n1223123     1223124         IL                 IL_EPA                State   \n1223124     1223125         IL                 IL_EPA                State   \n1223125     1223126         IL                 IL_EPA                State   \n1223126     1223127         IL                 IL_EPA                State   \n1223127     1223128         IL                 IL_EPA                State   \n1223128     1223129         IL                 IL_EPA                State   \n1243125     1243126         IL                 IL_EPA                State   \n1243126     1243127         IL                 IL_EPA                State   \n1243127     1243128         IL                 IL_EPA                State   \n1243128     1243129         IL                 IL_EPA                State   \n1243129     1243130         IL                 IL_EPA                State   \n1243130     1243131         IL                 IL_EPA                State   \n1243131     1243132         IL                 IL_EPA                State   \n1243132     1243133         IL                 IL_EPA                State   \n1243133     1243134         IL                 IL_EPA                State   \n1243134     1243135         IL                 IL_EPA                State   \n1243135     1243136         IL                 IL_EPA                State   \n1243136     1243137         IL                 IL_EPA                State   \n1243137     1243138         IL                 IL_EPA                State   \n1243138     1243139         IL                 IL_EPA                State   \n1243139     1243140         IL                 IL_EPA                State   \n1243140     1243141         IL                 IL_EPA                State   \n1243141     1243142         IL                 IL_EPA                State   \n1243142     1243143         IL                 IL_EPA                State   \n1243143     1243144         IL                 IL_EPA                State   \n1243144     1243145         IL                 IL_EPA                State   \n1243145     1243146         IL                 IL_EPA                State   \n1243146     1243147         IL                 IL_EPA                State   \n1243147     1243148         IL                 IL_EPA                State   \n1243148     1243149         IL                 IL_EPA                State   \n1243149     1243150         IL                 IL_EPA                State   \n\n        reportingCycleText assessmentUnitIdentifier  \\\n1205812               2016                   IL_REA   \n1205813               2016                   IL_REA   \n1205814               2016                   IL_REA   \n1205815               2016                   IL_REA   \n1205816               2016                   IL_REA   \n1205817               2016                   IL_REA   \n1205818               2016                   IL_REA   \n1205819               2016                   IL_REA   \n1205820               2016                   IL_REA   \n1205821               2016                   IL_REA   \n1205822               2016                   IL_REA   \n1205823               2016                   IL_REA   \n1205824               2016                   IL_REA   \n1205825               2016                   IL_REA   \n1205826               2016                   IL_REA   \n1205827               2016                   IL_REA   \n1205828               2016                   IL_REA   \n1205829               2016                   IL_REA   \n1205830               2016                   IL_REA   \n1205831               2016                   IL_REA   \n1205832               2016                   IL_REA   \n1205833               2016                   IL_REA   \n1205834               2016                   IL_REA   \n1205835               2016                   IL_REA   \n1205836               2016                   IL_REA   \n1205837               2016                   IL_REA   \n1205838               2016                   IL_REA   \n1205839               2016                   IL_REA   \n1205840               2016                   IL_REA   \n1205841               2016                   IL_REA   \n1223104               2018                   IL_REA   \n1223105               2018                   IL_REA   \n1223106               2018                   IL_REA   \n1223107               2018                   IL_REA   \n1223108               2018                   IL_REA   \n1223109               2018                   IL_REA   \n1223110               2018                   IL_REA   \n1223111               2018                   IL_REA   \n1223112               2018                   IL_REA   \n1223113               2018                   IL_REA   \n1223114               2018                   IL_REA   \n1223115               2018                   IL_REA   \n1223116               2018                   IL_REA   \n1223117               2018                   IL_REA   \n1223118               2018                   IL_REA   \n1223119               2018                   IL_REA   \n1223120               2018                   IL_REA   \n1223121               2018                   IL_REA   \n1223122               2018                   IL_REA   \n1223123               2018                   IL_REA   \n1223124               2018                   IL_REA   \n1223125               2018                   IL_REA   \n1223126               2018                   IL_REA   \n1223127               2018                   IL_REA   \n1223128               2018                   IL_REA   \n1243125               2022                   IL_REA   \n1243126               2022                   IL_REA   \n1243127               2022                   IL_REA   \n1243128               2022                   IL_REA   \n1243129               2022                   IL_REA   \n1243130               2022                   IL_REA   \n1243131               2022                   IL_REA   \n1243132               2022                   IL_REA   \n1243133               2022                   IL_REA   \n1243134               2022                   IL_REA   \n1243135               2022                   IL_REA   \n1243136               2022                   IL_REA   \n1243137               2022                   IL_REA   \n1243138               2022                   IL_REA   \n1243139               2022                   IL_REA   \n1243140               2022                   IL_REA   \n1243141               2022                   IL_REA   \n1243142               2022                   IL_REA   \n1243143               2022                   IL_REA   \n1243144               2022                   IL_REA   \n1243145               2022                   IL_REA   \n1243146               2022                   IL_REA   \n1243147               2022                   IL_REA   \n1243148               2022                   IL_REA   \n1243149               2022                   IL_REA   \n\n                                         useName useAttainmentCode  \\\n1205812                             Aquatic Life                 F   \n1205813                             Aquatic Life                 F   \n1205814                             Aquatic Life                 F   \n1205815                             Aquatic Life                 F   \n1205816                             Aquatic Life                 F   \n1205817                         Fish Consumption                 N   \n1205818                         Fish Consumption                 N   \n1205819                         Fish Consumption                 N   \n1205820                         Fish Consumption                 N   \n1205821                         Fish Consumption                 N   \n1205822  Public and Food Processing Water Supply                 N   \n1205823  Public and Food Processing Water Supply                 N   \n1205824  Public and Food Processing Water Supply                 N   \n1205825  Public and Food Processing Water Supply                 N   \n1205826  Public and Food Processing Water Supply                 N   \n1205827                          Primary Contact                 X   \n1205828                          Primary Contact                 X   \n1205829                          Primary Contact                 X   \n1205830                          Primary Contact                 X   \n1205831                          Primary Contact                 X   \n1205832                        Aesthetic Quality                 N   \n1205833                        Aesthetic Quality                 N   \n1205834                        Aesthetic Quality                 N   \n1205835                        Aesthetic Quality                 N   \n1205836                        Aesthetic Quality                 N   \n1205837                        SECONDARY CONTACT                 X   \n1205838                        SECONDARY CONTACT                 X   \n1205839                        SECONDARY CONTACT                 X   \n1205840                        SECONDARY CONTACT                 X   \n1205841                        SECONDARY CONTACT                 X   \n1223104                             Aquatic Life                 F   \n1223105                             Aquatic Life                 F   \n1223106                             Aquatic Life                 F   \n1223107                             Aquatic Life                 F   \n1223108                             Aquatic Life                 F   \n1223109                         Fish Consumption                 N   \n1223110                         Fish Consumption                 N   \n1223111                         Fish Consumption                 N   \n1223112                         Fish Consumption                 N   \n1223113                         Fish Consumption                 N   \n1223114  Public and Food Processing Water Supply                 N   \n1223115  Public and Food Processing Water Supply                 N   \n1223116  Public and Food Processing Water Supply                 N   \n1223117  Public and Food Processing Water Supply                 N   \n1223118  Public and Food Processing Water Supply                 N   \n1223119                          Primary Contact                 X   \n1223120                          Primary Contact                 X   \n1223121                          Primary Contact                 X   \n1223122                          Primary Contact                 X   \n1223123                          Primary Contact                 X   \n1223124                        Aesthetic Quality                 N   \n1223125                        Aesthetic Quality                 N   \n1223126                        Aesthetic Quality                 N   \n1223127                        Aesthetic Quality                 N   \n1223128                        Aesthetic Quality                 N   \n1243125                             Aquatic Life                 F   \n1243126                             Aquatic Life                 F   \n1243127                             Aquatic Life                 F   \n1243128                             Aquatic Life                 F   \n1243129                             Aquatic Life                 F   \n1243130                         Fish Consumption                 N   \n1243131                         Fish Consumption                 N   \n1243132                         Fish Consumption                 N   \n1243133                         Fish Consumption                 N   \n1243134                         Fish Consumption                 N   \n1243135  Public and Food Processing Water Supply                 N   \n1243136  Public and Food Processing Water Supply                 N   \n1243137  Public and Food Processing Water Supply                 N   \n1243138  Public and Food Processing Water Supply                 N   \n1243139  Public and Food Processing Water Supply                 N   \n1243140                          Primary Contact                 X   \n1243141                          Primary Contact                 X   \n1243142                          Primary Contact                 X   \n1243143                          Primary Contact                 X   \n1243144                          Primary Contact                 X   \n1243145                        Aesthetic Quality                 N   \n1243146                        Aesthetic Quality                 N   \n1243147                        Aesthetic Quality                 N   \n1243148                        Aesthetic Quality                 N   \n1243149                        Aesthetic Quality                 N   \n\n        epaIRCategory associatedActionIdentifier threatenedIndicator  \\\n1205812             5                        NaN                   N   \n1205813             5                        NaN                   N   \n1205814             5                        NaN                   N   \n1205815             5                        NaN                   N   \n1205816             5                        NaN                   N   \n1205817             5                        NaN                   N   \n1205818             5                        NaN                   N   \n1205819             5                        NaN                   N   \n1205820             5                        NaN                   N   \n1205821             5                        NaN                   N   \n1205822             5                        NaN                   N   \n1205823             5                        NaN                   N   \n1205824             5                        NaN                   N   \n1205825             5                        NaN                   N   \n1205826             5                        NaN                   N   \n1205827             5                        NaN                   N   \n1205828             5                        NaN                   N   \n1205829             5                        NaN                   N   \n1205830             5                        NaN                   N   \n1205831             5                        NaN                   N   \n1205832             5                        NaN                   N   \n1205833             5                        NaN                   N   \n1205834             5                        NaN                   N   \n1205835             5                        NaN                   N   \n1205836             5                        NaN                   N   \n1205837             5                        NaN                   N   \n1205838             5                        NaN                   N   \n1205839             5                        NaN                   N   \n1205840             5                        NaN                   N   \n1205841             5                        NaN                   N   \n1223104             5                      33205                   N   \n1223105             5                      33205                   N   \n1223106             5                        NaN                   N   \n1223107             5                        NaN                   N   \n1223108             5                        NaN                   N   \n1223109             5                      33205                   N   \n1223110             5                      33205                   N   \n1223111             5                        NaN                   N   \n1223112             5                        NaN                   N   \n1223113             5                        NaN                   N   \n1223114             5                      33205                   N   \n1223115             5                      33205                   N   \n1223116             5                        NaN                   N   \n1223117             5                        NaN                   N   \n1223118             5                        NaN                   N   \n1223119             5                      33205                   N   \n1223120             5                      33205                   N   \n1223121             5                        NaN                   N   \n1223122             5                        NaN                   N   \n1223123             5                        NaN                   N   \n1223124             5                      33205                   N   \n1223125             5                      33205                   N   \n1223126             5                        NaN                   N   \n1223127             5                        NaN                   N   \n1223128             5                        NaN                   N   \n1243125             5                      33205                   N   \n1243126             5                        NaN                   N   \n1243127             5                      33205                   N   \n1243128             5                        NaN                   N   \n1243129             5                        NaN                   N   \n1243130             5                      33205                   N   \n1243131             5                        NaN                   N   \n1243132             5                      33205                   N   \n1243133             5                        NaN                   N   \n1243134             5                        NaN                   N   \n1243135             5                      33205                   N   \n1243136             5                        NaN                   N   \n1243137             5                      33205                   N   \n1243138             5                        NaN                   N   \n1243139             5                        NaN                   N   \n1243140             5                      33205                   N   \n1243141             5                        NaN                   N   \n1243142             5                      33205                   N   \n1243143             5                        NaN                   N   \n1243144             5                        NaN                   N   \n1243145             5                      33205                   N   \n1243146             5                        NaN                   N   \n1243147             5                      33205                   N   \n1243148             5                        NaN                   N   \n1243149             5                        NaN                   N   \n\n        parameterStatusName                     parameterName  \\\n1205812               Cause                         CHLORDANE   \n1205813               Cause                           MERCURY   \n1205814               Cause  POLYCHLORINATED BIPHENYLS (PCBS)   \n1205815               Cause                 PHOSPHORUS, TOTAL   \n1205816               Cause                 NITROGEN, NITRATE   \n1205817               Cause                         CHLORDANE   \n1205818               Cause                           MERCURY   \n1205819               Cause  POLYCHLORINATED BIPHENYLS (PCBS)   \n1205820               Cause                 PHOSPHORUS, TOTAL   \n1205821               Cause                 NITROGEN, NITRATE   \n1205822               Cause                         CHLORDANE   \n1205823               Cause                           MERCURY   \n1205824               Cause  POLYCHLORINATED BIPHENYLS (PCBS)   \n1205825               Cause                 PHOSPHORUS, TOTAL   \n1205826               Cause                 NITROGEN, NITRATE   \n1205827               Cause                         CHLORDANE   \n1205828               Cause                           MERCURY   \n1205829               Cause  POLYCHLORINATED BIPHENYLS (PCBS)   \n1205830               Cause                 PHOSPHORUS, TOTAL   \n1205831               Cause                 NITROGEN, NITRATE   \n1205832               Cause                         CHLORDANE   \n1205833               Cause                           MERCURY   \n1205834               Cause  POLYCHLORINATED BIPHENYLS (PCBS)   \n1205835               Cause                 PHOSPHORUS, TOTAL   \n1205836               Cause                 NITROGEN, NITRATE   \n1205837               Cause                         CHLORDANE   \n1205838               Cause                           MERCURY   \n1205839               Cause  POLYCHLORINATED BIPHENYLS (PCBS)   \n1205840               Cause                 PHOSPHORUS, TOTAL   \n1205841               Cause                 NITROGEN, NITRATE   \n1223104               Cause                 PHOSPHORUS, TOTAL   \n1223105               Cause                 NITROGEN, NITRATE   \n1223106               Cause                         CHLORDANE   \n1223107               Cause                           MERCURY   \n1223108               Cause  POLYCHLORINATED BIPHENYLS (PCBS)   \n1223109               Cause                 PHOSPHORUS, TOTAL   \n1223110               Cause                 NITROGEN, NITRATE   \n1223111               Cause                         CHLORDANE   \n1223112               Cause                           MERCURY   \n1223113               Cause  POLYCHLORINATED BIPHENYLS (PCBS)   \n1223114               Cause                 PHOSPHORUS, TOTAL   \n1223115               Cause                 NITROGEN, NITRATE   \n1223116               Cause                         CHLORDANE   \n1223117               Cause                           MERCURY   \n1223118               Cause  POLYCHLORINATED BIPHENYLS (PCBS)   \n1223119               Cause                 PHOSPHORUS, TOTAL   \n1223120               Cause                 NITROGEN, NITRATE   \n1223121               Cause                         CHLORDANE   \n1223122               Cause                           MERCURY   \n1223123               Cause  POLYCHLORINATED BIPHENYLS (PCBS)   \n1223124               Cause                 PHOSPHORUS, TOTAL   \n1223125               Cause                 NITROGEN, NITRATE   \n1223126               Cause                         CHLORDANE   \n1223127               Cause                           MERCURY   \n1223128               Cause  POLYCHLORINATED BIPHENYLS (PCBS)   \n1243125               Cause                 PHOSPHORUS, TOTAL   \n1243126               Cause                         CHLORDANE   \n1243127               Cause                 NITROGEN, NITRATE   \n1243128               Cause                           MERCURY   \n1243129               Cause  POLYCHLORINATED BIPHENYLS (PCBS)   \n1243130               Cause                 PHOSPHORUS, TOTAL   \n1243131               Cause                         CHLORDANE   \n1243132               Cause                 NITROGEN, NITRATE   \n1243133               Cause                           MERCURY   \n1243134               Cause  POLYCHLORINATED BIPHENYLS (PCBS)   \n1243135               Cause                 PHOSPHORUS, TOTAL   \n1243136               Cause                         CHLORDANE   \n1243137               Cause                 NITROGEN, NITRATE   \n1243138               Cause                           MERCURY   \n1243139               Cause  POLYCHLORINATED BIPHENYLS (PCBS)   \n1243140               Cause                 PHOSPHORUS, TOTAL   \n1243141               Cause                         CHLORDANE   \n1243142               Cause                 NITROGEN, NITRATE   \n1243143               Cause                           MERCURY   \n1243144               Cause  POLYCHLORINATED BIPHENYLS (PCBS)   \n1243145               Cause                 PHOSPHORUS, TOTAL   \n1243146               Cause                         CHLORDANE   \n1243147               Cause                 NITROGEN, NITRATE   \n1243148               Cause                           MERCURY   \n1243149               Cause  POLYCHLORINATED BIPHENYLS (PCBS)   \n\n         cycle_first_listed  cycleLastAssessedText  cycle_scheduled_for_TMDL  \\\n1205812              1996.0                   2015                       NaN   \n1205813              2008.0                   2015                       NaN   \n1205814              1996.0                   2015                       NaN   \n1205815              1996.0                   2015                       NaN   \n1205816              2006.0                   2015                       NaN   \n1205817              1996.0                   2015                       NaN   \n1205818              2008.0                   2015                       NaN   \n1205819              1996.0                   2015                       NaN   \n1205820              1996.0                   2015                       NaN   \n1205821              2006.0                   2015                       NaN   \n1205822              1996.0                   2015                       NaN   \n1205823              2008.0                   2015                       NaN   \n1205824              1996.0                   2015                       NaN   \n1205825              1996.0                   2015                       NaN   \n1205826              2006.0                   2015                       NaN   \n1205827              1996.0                   2015                       NaN   \n1205828              2008.0                   2015                       NaN   \n1205829              1996.0                   2015                       NaN   \n1205830              1996.0                   2015                       NaN   \n1205831              2006.0                   2015                       NaN   \n1205832              1996.0                   2015                       NaN   \n1205833              2008.0                   2015                       NaN   \n1205834              1996.0                   2015                       NaN   \n1205835              1996.0                   2015                       NaN   \n1205836              2006.0                   2015                       NaN   \n1205837              1996.0                   2015                       NaN   \n1205838              2008.0                   2015                       NaN   \n1205839              1996.0                   2015                       NaN   \n1205840              1996.0                   2015                       NaN   \n1205841              2006.0                   2015                       NaN   \n1223104              1996.0                   2018                       NaN   \n1223105              2006.0                   2018                       NaN   \n1223106              1996.0                   2018                       NaN   \n1223107              2008.0                   2018                       NaN   \n1223108              1996.0                   2018                       NaN   \n1223109              1996.0                   2018                       NaN   \n1223110              2006.0                   2018                       NaN   \n1223111              1996.0                   2018                       NaN   \n1223112              2008.0                   2018                       NaN   \n1223113              1996.0                   2018                       NaN   \n1223114              1996.0                   2018                       NaN   \n1223115              2006.0                   2018                       NaN   \n1223116              1996.0                   2018                       NaN   \n1223117              2008.0                   2018                       NaN   \n1223118              1996.0                   2018                       NaN   \n1223119              1996.0                   2018                       NaN   \n1223120              2006.0                   2018                       NaN   \n1223121              1996.0                   2018                       NaN   \n1223122              2008.0                   2018                       NaN   \n1223123              1996.0                   2018                       NaN   \n1223124              1996.0                   2018                       NaN   \n1223125              2006.0                   2018                       NaN   \n1223126              1996.0                   2018                       NaN   \n1223127              2008.0                   2018                       NaN   \n1223128              1996.0                   2018                       NaN   \n1243125              1996.0                   2022                       NaN   \n1243126              1996.0                   2022                       NaN   \n1243127              2006.0                   2022                       NaN   \n1243128              2008.0                   2022                       NaN   \n1243129              1996.0                   2022                       NaN   \n1243130              1996.0                   2022                       NaN   \n1243131              1996.0                   2022                       NaN   \n1243132              2006.0                   2022                       NaN   \n1243133              2008.0                   2022                       NaN   \n1243134              1996.0                   2022                       NaN   \n1243135              1996.0                   2022                       NaN   \n1243136              1996.0                   2022                       NaN   \n1243137              2006.0                   2022                       NaN   \n1243138              2008.0                   2022                       NaN   \n1243139              1996.0                   2022                       NaN   \n1243140              1996.0                   2022                       NaN   \n1243141              1996.0                   2022                       NaN   \n1243142              2006.0                   2022                       NaN   \n1243143              2008.0                   2022                       NaN   \n1243144              1996.0                   2022                       NaN   \n1243145              1996.0                   2022                       NaN   \n1243146              1996.0                   2022                       NaN   \n1243147              2006.0                   2022                       NaN   \n1243148              2008.0                   2022                       NaN   \n1243149              1996.0                   2022                       NaN   \n\n        assessment_date  \n1205812      2015-03-02  \n1205813      2015-03-02  \n1205814      2015-03-02  \n1205815      2015-03-02  \n1205816      2015-03-02  \n1205817      2008-01-23  \n1205818      2008-01-23  \n1205819      2008-01-23  \n1205820      2008-01-23  \n1205821      2008-01-23  \n1205822      2015-03-04  \n1205823      2015-03-04  \n1205824      2015-03-04  \n1205825      2015-03-04  \n1205826      2015-03-04  \n1205827             NaT  \n1205828             NaT  \n1205829             NaT  \n1205830             NaT  \n1205831             NaT  \n1205832      2010-03-01  \n1205833      2010-03-01  \n1205834      2010-03-01  \n1205835      2010-03-01  \n1205836      2010-03-01  \n1205837             NaT  \n1205838             NaT  \n1205839             NaT  \n1205840             NaT  \n1205841             NaT  \n1223104      2015-03-01  \n1223105      2015-03-01  \n1223106      2015-03-01  \n1223107      2015-03-01  \n1223108      2015-03-01  \n1223109      2017-04-25  \n1223110      2017-04-25  \n1223111      2017-04-25  \n1223112      2017-04-25  \n1223113      2017-04-25  \n1223114      2017-05-14  \n1223115      2017-05-14  \n1223116      2017-05-14  \n1223117      2017-05-14  \n1223118      2017-05-14  \n1223119             NaT  \n1223120             NaT  \n1223121             NaT  \n1223122             NaT  \n1223123             NaT  \n1223124      2010-02-28  \n1223125      2010-02-28  \n1223126      2010-02-28  \n1223127      2010-02-28  \n1223128      2010-02-28  \n1243125      2015-03-01  \n1243126      2015-03-01  \n1243127      2015-03-01  \n1243128      2015-03-01  \n1243129      2015-03-01  \n1243130      2017-04-25  \n1243131      2017-04-25  \n1243132      2017-04-25  \n1243133      2017-04-25  \n1243134      2017-04-25  \n1243135      2021-05-18  \n1243136      2021-05-18  \n1243137      2021-05-18  \n1243138      2021-05-18  \n1243139      2021-05-18  \n1243140             NaT  \n1243141             NaT  \n1243142             NaT  \n1243143             NaT  \n1243144             NaT  \n1243145      2010-02-28  \n1243146      2010-02-28  \n1243147      2010-02-28  \n1243148      2010-02-28  \n1243149      2010-02-28  ",
      "text/html": "<div>\n<style scoped>\n    .dataframe tbody tr th:only-of-type {\n        vertical-align: middle;\n    }\n\n    .dataframe tbody tr th {\n        vertical-align: top;\n    }\n\n    .dataframe thead th {\n        text-align: right;\n    }\n</style>\n<table border=\"1\" class=\"dataframe\">\n  <thead>\n    <tr style=\"text-align: right;\">\n      <th></th>\n      <th>Unnamed: 0</th>\n      <th>state_code</th>\n      <th>organizationIdentifier</th>\n      <th>organizationTypeText</th>\n      <th>reportingCycleText</th>\n      <th>assessmentUnitIdentifier</th>\n      <th>useName</th>\n      <th>useAttainmentCode</th>\n      <th>epaIRCategory</th>\n      <th>associatedActionIdentifier</th>\n      <th>threatenedIndicator</th>\n      <th>parameterStatusName</th>\n      <th>parameterName</th>\n      <th>cycle_first_listed</th>\n      <th>cycleLastAssessedText</th>\n      <th>cycle_scheduled_for_TMDL</th>\n      <th>assessment_date</th>\n    </tr>\n  </thead>\n  <tbody>\n    <tr>\n      <th>1205812</th>\n      <td>1205813</td>\n      <td>IL</td>\n      <td>IL_EPA</td>\n      <td>State</td>\n      <td>2016</td>\n      <td>IL_REA</td>\n      <td>Aquatic Life</td>\n      <td>F</td>\n      <td>5</td>\n      <td>NaN</td>\n      <td>N</td>\n      <td>Cause</td>\n      <td>CHLORDANE</td>\n      <td>1996.0</td>\n      <td>2015</td>\n      <td>NaN</td>\n      <td>2015-03-02</td>\n    </tr>\n    <tr>\n      <th>1205813</th>\n      <td>1205814</td>\n      <td>IL</td>\n      <td>IL_EPA</td>\n      <td>State</td>\n      <td>2016</td>\n      <td>IL_REA</td>\n      <td>Aquatic Life</td>\n      <td>F</td>\n      <td>5</td>\n      <td>NaN</td>\n      <td>N</td>\n      <td>Cause</td>\n      <td>MERCURY</td>\n      <td>2008.0</td>\n      <td>2015</td>\n      <td>NaN</td>\n      <td>2015-03-02</td>\n    </tr>\n    <tr>\n      <th>1205814</th>\n      <td>1205815</td>\n      <td>IL</td>\n      <td>IL_EPA</td>\n      <td>State</td>\n      <td>2016</td>\n      <td>IL_REA</td>\n      <td>Aquatic Life</td>\n      <td>F</td>\n      <td>5</td>\n      <td>NaN</td>\n      <td>N</td>\n      <td>Cause</td>\n      <td>POLYCHLORINATED BIPHENYLS (PCBS)</td>\n      <td>1996.0</td>\n      <td>2015</td>\n      <td>NaN</td>\n      <td>2015-03-02</td>\n    </tr>\n    <tr>\n      <th>1205815</th>\n      <td>1205816</td>\n      <td>IL</td>\n      <td>IL_EPA</td>\n      <td>State</td>\n      <td>2016</td>\n      <td>IL_REA</td>\n      <td>Aquatic Life</td>\n      <td>F</td>\n      <td>5</td>\n      <td>NaN</td>\n      <td>N</td>\n      <td>Cause</td>\n      <td>PHOSPHORUS, TOTAL</td>\n      <td>1996.0</td>\n      <td>2015</td>\n      <td>NaN</td>\n      <td>2015-03-02</td>\n    </tr>\n    <tr>\n      <th>1205816</th>\n      <td>1205817</td>\n      <td>IL</td>\n      <td>IL_EPA</td>\n      <td>State</td>\n      <td>2016</td>\n      <td>IL_REA</td>\n      <td>Aquatic Life</td>\n      <td>F</td>\n      <td>5</td>\n      <td>NaN</td>\n      <td>N</td>\n      <td>Cause</td>\n      <td>NITROGEN, NITRATE</td>\n      <td>2006.0</td>\n      <td>2015</td>\n      <td>NaN</td>\n      <td>2015-03-02</td>\n    </tr>\n    <tr>\n      <th>1205817</th>\n      <td>1205818</td>\n      <td>IL</td>\n      <td>IL_EPA</td>\n      <td>State</td>\n      <td>2016</td>\n      <td>IL_REA</td>\n      <td>Fish Consumption</td>\n      <td>N</td>\n      <td>5</td>\n      <td>NaN</td>\n      <td>N</td>\n      <td>Cause</td>\n      <td>CHLORDANE</td>\n      <td>1996.0</td>\n      <td>2015</td>\n      <td>NaN</td>\n      <td>2008-01-23</td>\n    </tr>\n    <tr>\n      <th>1205818</th>\n      <td>1205819</td>\n      <td>IL</td>\n      <td>IL_EPA</td>\n      <td>State</td>\n      <td>2016</td>\n      <td>IL_REA</td>\n      <td>Fish Consumption</td>\n      <td>N</td>\n      <td>5</td>\n      <td>NaN</td>\n      <td>N</td>\n      <td>Cause</td>\n      <td>MERCURY</td>\n      <td>2008.0</td>\n      <td>2015</td>\n      <td>NaN</td>\n      <td>2008-01-23</td>\n    </tr>\n    <tr>\n      <th>1205819</th>\n      <td>1205820</td>\n      <td>IL</td>\n      <td>IL_EPA</td>\n      <td>State</td>\n      <td>2016</td>\n      <td>IL_REA</td>\n      <td>Fish Consumption</td>\n      <td>N</td>\n      <td>5</td>\n      <td>NaN</td>\n      <td>N</td>\n      <td>Cause</td>\n      <td>POLYCHLORINATED BIPHENYLS (PCBS)</td>\n      <td>1996.0</td>\n      <td>2015</td>\n      <td>NaN</td>\n      <td>2008-01-23</td>\n    </tr>\n    <tr>\n      <th>1205820</th>\n      <td>1205821</td>\n      <td>IL</td>\n      <td>IL_EPA</td>\n      <td>State</td>\n      <td>2016</td>\n      <td>IL_REA</td>\n      <td>Fish Consumption</td>\n      <td>N</td>\n      <td>5</td>\n      <td>NaN</td>\n      <td>N</td>\n      <td>Cause</td>\n      <td>PHOSPHORUS, TOTAL</td>\n      <td>1996.0</td>\n      <td>2015</td>\n      <td>NaN</td>\n      <td>2008-01-23</td>\n    </tr>\n    <tr>\n      <th>1205821</th>\n      <td>1205822</td>\n      <td>IL</td>\n      <td>IL_EPA</td>\n      <td>State</td>\n      <td>2016</td>\n      <td>IL_REA</td>\n      <td>Fish Consumption</td>\n      <td>N</td>\n      <td>5</td>\n      <td>NaN</td>\n      <td>N</td>\n      <td>Cause</td>\n      <td>NITROGEN, NITRATE</td>\n      <td>2006.0</td>\n      <td>2015</td>\n      <td>NaN</td>\n      <td>2008-01-23</td>\n    </tr>\n    <tr>\n      <th>1205822</th>\n      <td>1205823</td>\n      <td>IL</td>\n      <td>IL_EPA</td>\n      <td>State</td>\n      <td>2016</td>\n      <td>IL_REA</td>\n      <td>Public and Food Processing Water Supply</td>\n      <td>N</td>\n      <td>5</td>\n      <td>NaN</td>\n      <td>N</td>\n      <td>Cause</td>\n      <td>CHLORDANE</td>\n      <td>1996.0</td>\n      <td>2015</td>\n      <td>NaN</td>\n      <td>2015-03-04</td>\n    </tr>\n    <tr>\n      <th>1205823</th>\n      <td>1205824</td>\n      <td>IL</td>\n      <td>IL_EPA</td>\n      <td>State</td>\n      <td>2016</td>\n      <td>IL_REA</td>\n      <td>Public and Food Processing Water Supply</td>\n      <td>N</td>\n      <td>5</td>\n      <td>NaN</td>\n      <td>N</td>\n      <td>Cause</td>\n      <td>MERCURY</td>\n      <td>2008.0</td>\n      <td>2015</td>\n      <td>NaN</td>\n      <td>2015-03-04</td>\n    </tr>\n    <tr>\n      <th>1205824</th>\n      <td>1205825</td>\n      <td>IL</td>\n      <td>IL_EPA</td>\n      <td>State</td>\n      <td>2016</td>\n      <td>IL_REA</td>\n      <td>Public and Food Processing Water Supply</td>\n      <td>N</td>\n      <td>5</td>\n      <td>NaN</td>\n      <td>N</td>\n      <td>Cause</td>\n      <td>POLYCHLORINATED BIPHENYLS (PCBS)</td>\n      <td>1996.0</td>\n      <td>2015</td>\n      <td>NaN</td>\n      <td>2015-03-04</td>\n    </tr>\n    <tr>\n      <th>1205825</th>\n      <td>1205826</td>\n      <td>IL</td>\n      <td>IL_EPA</td>\n      <td>State</td>\n      <td>2016</td>\n      <td>IL_REA</td>\n      <td>Public and Food Processing Water Supply</td>\n      <td>N</td>\n      <td>5</td>\n      <td>NaN</td>\n      <td>N</td>\n      <td>Cause</td>\n      <td>PHOSPHORUS, TOTAL</td>\n      <td>1996.0</td>\n      <td>2015</td>\n      <td>NaN</td>\n      <td>2015-03-04</td>\n    </tr>\n    <tr>\n      <th>1205826</th>\n      <td>1205827</td>\n      <td>IL</td>\n      <td>IL_EPA</td>\n      <td>State</td>\n      <td>2016</td>\n      <td>IL_REA</td>\n      <td>Public and Food Processing Water Supply</td>\n      <td>N</td>\n      <td>5</td>\n      <td>NaN</td>\n      <td>N</td>\n      <td>Cause</td>\n      <td>NITROGEN, NITRATE</td>\n      <td>2006.0</td>\n      <td>2015</td>\n      <td>NaN</td>\n      <td>2015-03-04</td>\n    </tr>\n    <tr>\n      <th>1205827</th>\n      <td>1205828</td>\n      <td>IL</td>\n      <td>IL_EPA</td>\n      <td>State</td>\n      <td>2016</td>\n      <td>IL_REA</td>\n      <td>Primary Contact</td>\n      <td>X</td>\n      <td>5</td>\n      <td>NaN</td>\n      <td>N</td>\n      <td>Cause</td>\n      <td>CHLORDANE</td>\n      <td>1996.0</td>\n      <td>2015</td>\n      <td>NaN</td>\n      <td>NaT</td>\n    </tr>\n    <tr>\n      <th>1205828</th>\n      <td>1205829</td>\n      <td>IL</td>\n      <td>IL_EPA</td>\n      <td>State</td>\n      <td>2016</td>\n      <td>IL_REA</td>\n      <td>Primary Contact</td>\n      <td>X</td>\n      <td>5</td>\n      <td>NaN</td>\n      <td>N</td>\n      <td>Cause</td>\n      <td>MERCURY</td>\n      <td>2008.0</td>\n      <td>2015</td>\n      <td>NaN</td>\n      <td>NaT</td>\n    </tr>\n    <tr>\n      <th>1205829</th>\n      <td>1205830</td>\n      <td>IL</td>\n      <td>IL_EPA</td>\n      <td>State</td>\n      <td>2016</td>\n      <td>IL_REA</td>\n      <td>Primary Contact</td>\n      <td>X</td>\n      <td>5</td>\n      <td>NaN</td>\n      <td>N</td>\n      <td>Cause</td>\n      <td>POLYCHLORINATED BIPHENYLS (PCBS)</td>\n      <td>1996.0</td>\n      <td>2015</td>\n      <td>NaN</td>\n      <td>NaT</td>\n    </tr>\n    <tr>\n      <th>1205830</th>\n      <td>1205831</td>\n      <td>IL</td>\n      <td>IL_EPA</td>\n      <td>State</td>\n      <td>2016</td>\n      <td>IL_REA</td>\n      <td>Primary Contact</td>\n      <td>X</td>\n      <td>5</td>\n      <td>NaN</td>\n      <td>N</td>\n      <td>Cause</td>\n      <td>PHOSPHORUS, TOTAL</td>\n      <td>1996.0</td>\n      <td>2015</td>\n      <td>NaN</td>\n      <td>NaT</td>\n    </tr>\n    <tr>\n      <th>1205831</th>\n      <td>1205832</td>\n      <td>IL</td>\n      <td>IL_EPA</td>\n      <td>State</td>\n      <td>2016</td>\n      <td>IL_REA</td>\n      <td>Primary Contact</td>\n      <td>X</td>\n      <td>5</td>\n      <td>NaN</td>\n      <td>N</td>\n      <td>Cause</td>\n      <td>NITROGEN, NITRATE</td>\n      <td>2006.0</td>\n      <td>2015</td>\n      <td>NaN</td>\n      <td>NaT</td>\n    </tr>\n    <tr>\n      <th>1205832</th>\n      <td>1205833</td>\n      <td>IL</td>\n      <td>IL_EPA</td>\n      <td>State</td>\n      <td>2016</td>\n      <td>IL_REA</td>\n      <td>Aesthetic Quality</td>\n      <td>N</td>\n      <td>5</td>\n      <td>NaN</td>\n      <td>N</td>\n      <td>Cause</td>\n      <td>CHLORDANE</td>\n      <td>1996.0</td>\n      <td>2015</td>\n      <td>NaN</td>\n      <td>2010-03-01</td>\n    </tr>\n    <tr>\n      <th>1205833</th>\n      <td>1205834</td>\n      <td>IL</td>\n      <td>IL_EPA</td>\n      <td>State</td>\n      <td>2016</td>\n      <td>IL_REA</td>\n      <td>Aesthetic Quality</td>\n      <td>N</td>\n      <td>5</td>\n      <td>NaN</td>\n      <td>N</td>\n      <td>Cause</td>\n      <td>MERCURY</td>\n      <td>2008.0</td>\n      <td>2015</td>\n      <td>NaN</td>\n      <td>2010-03-01</td>\n    </tr>\n    <tr>\n      <th>1205834</th>\n      <td>1205835</td>\n      <td>IL</td>\n      <td>IL_EPA</td>\n      <td>State</td>\n      <td>2016</td>\n      <td>IL_REA</td>\n      <td>Aesthetic Quality</td>\n      <td>N</td>\n      <td>5</td>\n      <td>NaN</td>\n      <td>N</td>\n      <td>Cause</td>\n      <td>POLYCHLORINATED BIPHENYLS (PCBS)</td>\n      <td>1996.0</td>\n      <td>2015</td>\n      <td>NaN</td>\n      <td>2010-03-01</td>\n    </tr>\n    <tr>\n      <th>1205835</th>\n      <td>1205836</td>\n      <td>IL</td>\n      <td>IL_EPA</td>\n      <td>State</td>\n      <td>2016</td>\n      <td>IL_REA</td>\n      <td>Aesthetic Quality</td>\n      <td>N</td>\n      <td>5</td>\n      <td>NaN</td>\n      <td>N</td>\n      <td>Cause</td>\n      <td>PHOSPHORUS, TOTAL</td>\n      <td>1996.0</td>\n      <td>2015</td>\n      <td>NaN</td>\n      <td>2010-03-01</td>\n    </tr>\n    <tr>\n      <th>1205836</th>\n      <td>1205837</td>\n      <td>IL</td>\n      <td>IL_EPA</td>\n      <td>State</td>\n      <td>2016</td>\n      <td>IL_REA</td>\n      <td>Aesthetic Quality</td>\n      <td>N</td>\n      <td>5</td>\n      <td>NaN</td>\n      <td>N</td>\n      <td>Cause</td>\n      <td>NITROGEN, NITRATE</td>\n      <td>2006.0</td>\n      <td>2015</td>\n      <td>NaN</td>\n      <td>2010-03-01</td>\n    </tr>\n    <tr>\n      <th>1205837</th>\n      <td>1205838</td>\n      <td>IL</td>\n      <td>IL_EPA</td>\n      <td>State</td>\n      <td>2016</td>\n      <td>IL_REA</td>\n      <td>SECONDARY CONTACT</td>\n      <td>X</td>\n      <td>5</td>\n      <td>NaN</td>\n      <td>N</td>\n      <td>Cause</td>\n      <td>CHLORDANE</td>\n      <td>1996.0</td>\n      <td>2015</td>\n      <td>NaN</td>\n      <td>NaT</td>\n    </tr>\n    <tr>\n      <th>1205838</th>\n      <td>1205839</td>\n      <td>IL</td>\n      <td>IL_EPA</td>\n      <td>State</td>\n      <td>2016</td>\n      <td>IL_REA</td>\n      <td>SECONDARY CONTACT</td>\n      <td>X</td>\n      <td>5</td>\n      <td>NaN</td>\n      <td>N</td>\n      <td>Cause</td>\n      <td>MERCURY</td>\n      <td>2008.0</td>\n      <td>2015</td>\n      <td>NaN</td>\n      <td>NaT</td>\n    </tr>\n    <tr>\n      <th>1205839</th>\n      <td>1205840</td>\n      <td>IL</td>\n      <td>IL_EPA</td>\n      <td>State</td>\n      <td>2016</td>\n      <td>IL_REA</td>\n      <td>SECONDARY CONTACT</td>\n      <td>X</td>\n      <td>5</td>\n      <td>NaN</td>\n      <td>N</td>\n      <td>Cause</td>\n      <td>POLYCHLORINATED BIPHENYLS (PCBS)</td>\n      <td>1996.0</td>\n      <td>2015</td>\n      <td>NaN</td>\n      <td>NaT</td>\n    </tr>\n    <tr>\n      <th>1205840</th>\n      <td>1205841</td>\n      <td>IL</td>\n      <td>IL_EPA</td>\n      <td>State</td>\n      <td>2016</td>\n      <td>IL_REA</td>\n      <td>SECONDARY CONTACT</td>\n      <td>X</td>\n      <td>5</td>\n      <td>NaN</td>\n      <td>N</td>\n      <td>Cause</td>\n      <td>PHOSPHORUS, TOTAL</td>\n      <td>1996.0</td>\n      <td>2015</td>\n      <td>NaN</td>\n      <td>NaT</td>\n    </tr>\n    <tr>\n      <th>1205841</th>\n      <td>1205842</td>\n      <td>IL</td>\n      <td>IL_EPA</td>\n      <td>State</td>\n      <td>2016</td>\n      <td>IL_REA</td>\n      <td>SECONDARY CONTACT</td>\n      <td>X</td>\n      <td>5</td>\n      <td>NaN</td>\n      <td>N</td>\n      <td>Cause</td>\n      <td>NITROGEN, NITRATE</td>\n      <td>2006.0</td>\n      <td>2015</td>\n      <td>NaN</td>\n      <td>NaT</td>\n    </tr>\n    <tr>\n      <th>1223104</th>\n      <td>1223105</td>\n      <td>IL</td>\n      <td>IL_EPA</td>\n      <td>State</td>\n      <td>2018</td>\n      <td>IL_REA</td>\n      <td>Aquatic Life</td>\n      <td>F</td>\n      <td>5</td>\n      <td>33205</td>\n      <td>N</td>\n      <td>Cause</td>\n      <td>PHOSPHORUS, TOTAL</td>\n      <td>1996.0</td>\n      <td>2018</td>\n      <td>NaN</td>\n      <td>2015-03-01</td>\n    </tr>\n    <tr>\n      <th>1223105</th>\n      <td>1223106</td>\n      <td>IL</td>\n      <td>IL_EPA</td>\n      <td>State</td>\n      <td>2018</td>\n      <td>IL_REA</td>\n      <td>Aquatic Life</td>\n      <td>F</td>\n      <td>5</td>\n      <td>33205</td>\n      <td>N</td>\n      <td>Cause</td>\n      <td>NITROGEN, NITRATE</td>\n      <td>2006.0</td>\n      <td>2018</td>\n      <td>NaN</td>\n      <td>2015-03-01</td>\n    </tr>\n    <tr>\n      <th>1223106</th>\n      <td>1223107</td>\n      <td>IL</td>\n      <td>IL_EPA</td>\n      <td>State</td>\n      <td>2018</td>\n      <td>IL_REA</td>\n      <td>Aquatic Life</td>\n      <td>F</td>\n      <td>5</td>\n      <td>NaN</td>\n      <td>N</td>\n      <td>Cause</td>\n      <td>CHLORDANE</td>\n      <td>1996.0</td>\n      <td>2018</td>\n      <td>NaN</td>\n      <td>2015-03-01</td>\n    </tr>\n    <tr>\n      <th>1223107</th>\n      <td>1223108</td>\n      <td>IL</td>\n      <td>IL_EPA</td>\n      <td>State</td>\n      <td>2018</td>\n      <td>IL_REA</td>\n      <td>Aquatic Life</td>\n      <td>F</td>\n      <td>5</td>\n      <td>NaN</td>\n      <td>N</td>\n      <td>Cause</td>\n      <td>MERCURY</td>\n      <td>2008.0</td>\n      <td>2018</td>\n      <td>NaN</td>\n      <td>2015-03-01</td>\n    </tr>\n    <tr>\n      <th>1223108</th>\n      <td>1223109</td>\n      <td>IL</td>\n      <td>IL_EPA</td>\n      <td>State</td>\n      <td>2018</td>\n      <td>IL_REA</td>\n      <td>Aquatic Life</td>\n      <td>F</td>\n      <td>5</td>\n      <td>NaN</td>\n      <td>N</td>\n      <td>Cause</td>\n      <td>POLYCHLORINATED BIPHENYLS (PCBS)</td>\n      <td>1996.0</td>\n      <td>2018</td>\n      <td>NaN</td>\n      <td>2015-03-01</td>\n    </tr>\n    <tr>\n      <th>1223109</th>\n      <td>1223110</td>\n      <td>IL</td>\n      <td>IL_EPA</td>\n      <td>State</td>\n      <td>2018</td>\n      <td>IL_REA</td>\n      <td>Fish Consumption</td>\n      <td>N</td>\n      <td>5</td>\n      <td>33205</td>\n      <td>N</td>\n      <td>Cause</td>\n      <td>PHOSPHORUS, TOTAL</td>\n      <td>1996.0</td>\n      <td>2018</td>\n      <td>NaN</td>\n      <td>2017-04-25</td>\n    </tr>\n    <tr>\n      <th>1223110</th>\n      <td>1223111</td>\n      <td>IL</td>\n      <td>IL_EPA</td>\n      <td>State</td>\n      <td>2018</td>\n      <td>IL_REA</td>\n      <td>Fish Consumption</td>\n      <td>N</td>\n      <td>5</td>\n      <td>33205</td>\n      <td>N</td>\n      <td>Cause</td>\n      <td>NITROGEN, NITRATE</td>\n      <td>2006.0</td>\n      <td>2018</td>\n      <td>NaN</td>\n      <td>2017-04-25</td>\n    </tr>\n    <tr>\n      <th>1223111</th>\n      <td>1223112</td>\n      <td>IL</td>\n      <td>IL_EPA</td>\n      <td>State</td>\n      <td>2018</td>\n      <td>IL_REA</td>\n      <td>Fish Consumption</td>\n      <td>N</td>\n      <td>5</td>\n      <td>NaN</td>\n      <td>N</td>\n      <td>Cause</td>\n      <td>CHLORDANE</td>\n      <td>1996.0</td>\n      <td>2018</td>\n      <td>NaN</td>\n      <td>2017-04-25</td>\n    </tr>\n    <tr>\n      <th>1223112</th>\n      <td>1223113</td>\n      <td>IL</td>\n      <td>IL_EPA</td>\n      <td>State</td>\n      <td>2018</td>\n      <td>IL_REA</td>\n      <td>Fish Consumption</td>\n      <td>N</td>\n      <td>5</td>\n      <td>NaN</td>\n      <td>N</td>\n      <td>Cause</td>\n      <td>MERCURY</td>\n      <td>2008.0</td>\n      <td>2018</td>\n      <td>NaN</td>\n      <td>2017-04-25</td>\n    </tr>\n    <tr>\n      <th>1223113</th>\n      <td>1223114</td>\n      <td>IL</td>\n      <td>IL_EPA</td>\n      <td>State</td>\n      <td>2018</td>\n      <td>IL_REA</td>\n      <td>Fish Consumption</td>\n      <td>N</td>\n      <td>5</td>\n      <td>NaN</td>\n      <td>N</td>\n      <td>Cause</td>\n      <td>POLYCHLORINATED BIPHENYLS (PCBS)</td>\n      <td>1996.0</td>\n      <td>2018</td>\n      <td>NaN</td>\n      <td>2017-04-25</td>\n    </tr>\n    <tr>\n      <th>1223114</th>\n      <td>1223115</td>\n      <td>IL</td>\n      <td>IL_EPA</td>\n      <td>State</td>\n      <td>2018</td>\n      <td>IL_REA</td>\n      <td>Public and Food Processing Water Supply</td>\n      <td>N</td>\n      <td>5</td>\n      <td>33205</td>\n      <td>N</td>\n      <td>Cause</td>\n      <td>PHOSPHORUS, TOTAL</td>\n      <td>1996.0</td>\n      <td>2018</td>\n      <td>NaN</td>\n      <td>2017-05-14</td>\n    </tr>\n    <tr>\n      <th>1223115</th>\n      <td>1223116</td>\n      <td>IL</td>\n      <td>IL_EPA</td>\n      <td>State</td>\n      <td>2018</td>\n      <td>IL_REA</td>\n      <td>Public and Food Processing Water Supply</td>\n      <td>N</td>\n      <td>5</td>\n      <td>33205</td>\n      <td>N</td>\n      <td>Cause</td>\n      <td>NITROGEN, NITRATE</td>\n      <td>2006.0</td>\n      <td>2018</td>\n      <td>NaN</td>\n      <td>2017-05-14</td>\n    </tr>\n    <tr>\n      <th>1223116</th>\n      <td>1223117</td>\n      <td>IL</td>\n      <td>IL_EPA</td>\n      <td>State</td>\n      <td>2018</td>\n      <td>IL_REA</td>\n      <td>Public and Food Processing Water Supply</td>\n      <td>N</td>\n      <td>5</td>\n      <td>NaN</td>\n      <td>N</td>\n      <td>Cause</td>\n      <td>CHLORDANE</td>\n      <td>1996.0</td>\n      <td>2018</td>\n      <td>NaN</td>\n      <td>2017-05-14</td>\n    </tr>\n    <tr>\n      <th>1223117</th>\n      <td>1223118</td>\n      <td>IL</td>\n      <td>IL_EPA</td>\n      <td>State</td>\n      <td>2018</td>\n      <td>IL_REA</td>\n      <td>Public and Food Processing Water Supply</td>\n      <td>N</td>\n      <td>5</td>\n      <td>NaN</td>\n      <td>N</td>\n      <td>Cause</td>\n      <td>MERCURY</td>\n      <td>2008.0</td>\n      <td>2018</td>\n      <td>NaN</td>\n      <td>2017-05-14</td>\n    </tr>\n    <tr>\n      <th>1223118</th>\n      <td>1223119</td>\n      <td>IL</td>\n      <td>IL_EPA</td>\n      <td>State</td>\n      <td>2018</td>\n      <td>IL_REA</td>\n      <td>Public and Food Processing Water Supply</td>\n      <td>N</td>\n      <td>5</td>\n      <td>NaN</td>\n      <td>N</td>\n      <td>Cause</td>\n      <td>POLYCHLORINATED BIPHENYLS (PCBS)</td>\n      <td>1996.0</td>\n      <td>2018</td>\n      <td>NaN</td>\n      <td>2017-05-14</td>\n    </tr>\n    <tr>\n      <th>1223119</th>\n      <td>1223120</td>\n      <td>IL</td>\n      <td>IL_EPA</td>\n      <td>State</td>\n      <td>2018</td>\n      <td>IL_REA</td>\n      <td>Primary Contact</td>\n      <td>X</td>\n      <td>5</td>\n      <td>33205</td>\n      <td>N</td>\n      <td>Cause</td>\n      <td>PHOSPHORUS, TOTAL</td>\n      <td>1996.0</td>\n      <td>2018</td>\n      <td>NaN</td>\n      <td>NaT</td>\n    </tr>\n    <tr>\n      <th>1223120</th>\n      <td>1223121</td>\n      <td>IL</td>\n      <td>IL_EPA</td>\n      <td>State</td>\n      <td>2018</td>\n      <td>IL_REA</td>\n      <td>Primary Contact</td>\n      <td>X</td>\n      <td>5</td>\n      <td>33205</td>\n      <td>N</td>\n      <td>Cause</td>\n      <td>NITROGEN, NITRATE</td>\n      <td>2006.0</td>\n      <td>2018</td>\n      <td>NaN</td>\n      <td>NaT</td>\n    </tr>\n    <tr>\n      <th>1223121</th>\n      <td>1223122</td>\n      <td>IL</td>\n      <td>IL_EPA</td>\n      <td>State</td>\n      <td>2018</td>\n      <td>IL_REA</td>\n      <td>Primary Contact</td>\n      <td>X</td>\n      <td>5</td>\n      <td>NaN</td>\n      <td>N</td>\n      <td>Cause</td>\n      <td>CHLORDANE</td>\n      <td>1996.0</td>\n      <td>2018</td>\n      <td>NaN</td>\n      <td>NaT</td>\n    </tr>\n    <tr>\n      <th>1223122</th>\n      <td>1223123</td>\n      <td>IL</td>\n      <td>IL_EPA</td>\n      <td>State</td>\n      <td>2018</td>\n      <td>IL_REA</td>\n      <td>Primary Contact</td>\n      <td>X</td>\n      <td>5</td>\n      <td>NaN</td>\n      <td>N</td>\n      <td>Cause</td>\n      <td>MERCURY</td>\n      <td>2008.0</td>\n      <td>2018</td>\n      <td>NaN</td>\n      <td>NaT</td>\n    </tr>\n    <tr>\n      <th>1223123</th>\n      <td>1223124</td>\n      <td>IL</td>\n      <td>IL_EPA</td>\n      <td>State</td>\n      <td>2018</td>\n      <td>IL_REA</td>\n      <td>Primary Contact</td>\n      <td>X</td>\n      <td>5</td>\n      <td>NaN</td>\n      <td>N</td>\n      <td>Cause</td>\n      <td>POLYCHLORINATED BIPHENYLS (PCBS)</td>\n      <td>1996.0</td>\n      <td>2018</td>\n      <td>NaN</td>\n      <td>NaT</td>\n    </tr>\n    <tr>\n      <th>1223124</th>\n      <td>1223125</td>\n      <td>IL</td>\n      <td>IL_EPA</td>\n      <td>State</td>\n      <td>2018</td>\n      <td>IL_REA</td>\n      <td>Aesthetic Quality</td>\n      <td>N</td>\n      <td>5</td>\n      <td>33205</td>\n      <td>N</td>\n      <td>Cause</td>\n      <td>PHOSPHORUS, TOTAL</td>\n      <td>1996.0</td>\n      <td>2018</td>\n      <td>NaN</td>\n      <td>2010-02-28</td>\n    </tr>\n    <tr>\n      <th>1223125</th>\n      <td>1223126</td>\n      <td>IL</td>\n      <td>IL_EPA</td>\n      <td>State</td>\n      <td>2018</td>\n      <td>IL_REA</td>\n      <td>Aesthetic Quality</td>\n      <td>N</td>\n      <td>5</td>\n      <td>33205</td>\n      <td>N</td>\n      <td>Cause</td>\n      <td>NITROGEN, NITRATE</td>\n      <td>2006.0</td>\n      <td>2018</td>\n      <td>NaN</td>\n      <td>2010-02-28</td>\n    </tr>\n    <tr>\n      <th>1223126</th>\n      <td>1223127</td>\n      <td>IL</td>\n      <td>IL_EPA</td>\n      <td>State</td>\n      <td>2018</td>\n      <td>IL_REA</td>\n      <td>Aesthetic Quality</td>\n      <td>N</td>\n      <td>5</td>\n      <td>NaN</td>\n      <td>N</td>\n      <td>Cause</td>\n      <td>CHLORDANE</td>\n      <td>1996.0</td>\n      <td>2018</td>\n      <td>NaN</td>\n      <td>2010-02-28</td>\n    </tr>\n    <tr>\n      <th>1223127</th>\n      <td>1223128</td>\n      <td>IL</td>\n      <td>IL_EPA</td>\n      <td>State</td>\n      <td>2018</td>\n      <td>IL_REA</td>\n      <td>Aesthetic Quality</td>\n      <td>N</td>\n      <td>5</td>\n      <td>NaN</td>\n      <td>N</td>\n      <td>Cause</td>\n      <td>MERCURY</td>\n      <td>2008.0</td>\n      <td>2018</td>\n      <td>NaN</td>\n      <td>2010-02-28</td>\n    </tr>\n    <tr>\n      <th>1223128</th>\n      <td>1223129</td>\n      <td>IL</td>\n      <td>IL_EPA</td>\n      <td>State</td>\n      <td>2018</td>\n      <td>IL_REA</td>\n      <td>Aesthetic Quality</td>\n      <td>N</td>\n      <td>5</td>\n      <td>NaN</td>\n      <td>N</td>\n      <td>Cause</td>\n      <td>POLYCHLORINATED BIPHENYLS (PCBS)</td>\n      <td>1996.0</td>\n      <td>2018</td>\n      <td>NaN</td>\n      <td>2010-02-28</td>\n    </tr>\n    <tr>\n      <th>1243125</th>\n      <td>1243126</td>\n      <td>IL</td>\n      <td>IL_EPA</td>\n      <td>State</td>\n      <td>2022</td>\n      <td>IL_REA</td>\n      <td>Aquatic Life</td>\n      <td>F</td>\n      <td>5</td>\n      <td>33205</td>\n      <td>N</td>\n      <td>Cause</td>\n      <td>PHOSPHORUS, TOTAL</td>\n      <td>1996.0</td>\n      <td>2022</td>\n      <td>NaN</td>\n      <td>2015-03-01</td>\n    </tr>\n    <tr>\n      <th>1243126</th>\n      <td>1243127</td>\n      <td>IL</td>\n      <td>IL_EPA</td>\n      <td>State</td>\n      <td>2022</td>\n      <td>IL_REA</td>\n      <td>Aquatic Life</td>\n      <td>F</td>\n      <td>5</td>\n      <td>NaN</td>\n      <td>N</td>\n      <td>Cause</td>\n      <td>CHLORDANE</td>\n      <td>1996.0</td>\n      <td>2022</td>\n      <td>NaN</td>\n      <td>2015-03-01</td>\n    </tr>\n    <tr>\n      <th>1243127</th>\n      <td>1243128</td>\n      <td>IL</td>\n      <td>IL_EPA</td>\n      <td>State</td>\n      <td>2022</td>\n      <td>IL_REA</td>\n      <td>Aquatic Life</td>\n      <td>F</td>\n      <td>5</td>\n      <td>33205</td>\n      <td>N</td>\n      <td>Cause</td>\n      <td>NITROGEN, NITRATE</td>\n      <td>2006.0</td>\n      <td>2022</td>\n      <td>NaN</td>\n      <td>2015-03-01</td>\n    </tr>\n    <tr>\n      <th>1243128</th>\n      <td>1243129</td>\n      <td>IL</td>\n      <td>IL_EPA</td>\n      <td>State</td>\n      <td>2022</td>\n      <td>IL_REA</td>\n      <td>Aquatic Life</td>\n      <td>F</td>\n      <td>5</td>\n      <td>NaN</td>\n      <td>N</td>\n      <td>Cause</td>\n      <td>MERCURY</td>\n      <td>2008.0</td>\n      <td>2022</td>\n      <td>NaN</td>\n      <td>2015-03-01</td>\n    </tr>\n    <tr>\n      <th>1243129</th>\n      <td>1243130</td>\n      <td>IL</td>\n      <td>IL_EPA</td>\n      <td>State</td>\n      <td>2022</td>\n      <td>IL_REA</td>\n      <td>Aquatic Life</td>\n      <td>F</td>\n      <td>5</td>\n      <td>NaN</td>\n      <td>N</td>\n      <td>Cause</td>\n      <td>POLYCHLORINATED BIPHENYLS (PCBS)</td>\n      <td>1996.0</td>\n      <td>2022</td>\n      <td>NaN</td>\n      <td>2015-03-01</td>\n    </tr>\n    <tr>\n      <th>1243130</th>\n      <td>1243131</td>\n      <td>IL</td>\n      <td>IL_EPA</td>\n      <td>State</td>\n      <td>2022</td>\n      <td>IL_REA</td>\n      <td>Fish Consumption</td>\n      <td>N</td>\n      <td>5</td>\n      <td>33205</td>\n      <td>N</td>\n      <td>Cause</td>\n      <td>PHOSPHORUS, TOTAL</td>\n      <td>1996.0</td>\n      <td>2022</td>\n      <td>NaN</td>\n      <td>2017-04-25</td>\n    </tr>\n    <tr>\n      <th>1243131</th>\n      <td>1243132</td>\n      <td>IL</td>\n      <td>IL_EPA</td>\n      <td>State</td>\n      <td>2022</td>\n      <td>IL_REA</td>\n      <td>Fish Consumption</td>\n      <td>N</td>\n      <td>5</td>\n      <td>NaN</td>\n      <td>N</td>\n      <td>Cause</td>\n      <td>CHLORDANE</td>\n      <td>1996.0</td>\n      <td>2022</td>\n      <td>NaN</td>\n      <td>2017-04-25</td>\n    </tr>\n    <tr>\n      <th>1243132</th>\n      <td>1243133</td>\n      <td>IL</td>\n      <td>IL_EPA</td>\n      <td>State</td>\n      <td>2022</td>\n      <td>IL_REA</td>\n      <td>Fish Consumption</td>\n      <td>N</td>\n      <td>5</td>\n      <td>33205</td>\n      <td>N</td>\n      <td>Cause</td>\n      <td>NITROGEN, NITRATE</td>\n      <td>2006.0</td>\n      <td>2022</td>\n      <td>NaN</td>\n      <td>2017-04-25</td>\n    </tr>\n    <tr>\n      <th>1243133</th>\n      <td>1243134</td>\n      <td>IL</td>\n      <td>IL_EPA</td>\n      <td>State</td>\n      <td>2022</td>\n      <td>IL_REA</td>\n      <td>Fish Consumption</td>\n      <td>N</td>\n      <td>5</td>\n      <td>NaN</td>\n      <td>N</td>\n      <td>Cause</td>\n      <td>MERCURY</td>\n      <td>2008.0</td>\n      <td>2022</td>\n      <td>NaN</td>\n      <td>2017-04-25</td>\n    </tr>\n    <tr>\n      <th>1243134</th>\n      <td>1243135</td>\n      <td>IL</td>\n      <td>IL_EPA</td>\n      <td>State</td>\n      <td>2022</td>\n      <td>IL_REA</td>\n      <td>Fish Consumption</td>\n      <td>N</td>\n      <td>5</td>\n      <td>NaN</td>\n      <td>N</td>\n      <td>Cause</td>\n      <td>POLYCHLORINATED BIPHENYLS (PCBS)</td>\n      <td>1996.0</td>\n      <td>2022</td>\n      <td>NaN</td>\n      <td>2017-04-25</td>\n    </tr>\n    <tr>\n      <th>1243135</th>\n      <td>1243136</td>\n      <td>IL</td>\n      <td>IL_EPA</td>\n      <td>State</td>\n      <td>2022</td>\n      <td>IL_REA</td>\n      <td>Public and Food Processing Water Supply</td>\n      <td>N</td>\n      <td>5</td>\n      <td>33205</td>\n      <td>N</td>\n      <td>Cause</td>\n      <td>PHOSPHORUS, TOTAL</td>\n      <td>1996.0</td>\n      <td>2022</td>\n      <td>NaN</td>\n      <td>2021-05-18</td>\n    </tr>\n    <tr>\n      <th>1243136</th>\n      <td>1243137</td>\n      <td>IL</td>\n      <td>IL_EPA</td>\n      <td>State</td>\n      <td>2022</td>\n      <td>IL_REA</td>\n      <td>Public and Food Processing Water Supply</td>\n      <td>N</td>\n      <td>5</td>\n      <td>NaN</td>\n      <td>N</td>\n      <td>Cause</td>\n      <td>CHLORDANE</td>\n      <td>1996.0</td>\n      <td>2022</td>\n      <td>NaN</td>\n      <td>2021-05-18</td>\n    </tr>\n    <tr>\n      <th>1243137</th>\n      <td>1243138</td>\n      <td>IL</td>\n      <td>IL_EPA</td>\n      <td>State</td>\n      <td>2022</td>\n      <td>IL_REA</td>\n      <td>Public and Food Processing Water Supply</td>\n      <td>N</td>\n      <td>5</td>\n      <td>33205</td>\n      <td>N</td>\n      <td>Cause</td>\n      <td>NITROGEN, NITRATE</td>\n      <td>2006.0</td>\n      <td>2022</td>\n      <td>NaN</td>\n      <td>2021-05-18</td>\n    </tr>\n    <tr>\n      <th>1243138</th>\n      <td>1243139</td>\n      <td>IL</td>\n      <td>IL_EPA</td>\n      <td>State</td>\n      <td>2022</td>\n      <td>IL_REA</td>\n      <td>Public and Food Processing Water Supply</td>\n      <td>N</td>\n      <td>5</td>\n      <td>NaN</td>\n      <td>N</td>\n      <td>Cause</td>\n      <td>MERCURY</td>\n      <td>2008.0</td>\n      <td>2022</td>\n      <td>NaN</td>\n      <td>2021-05-18</td>\n    </tr>\n    <tr>\n      <th>1243139</th>\n      <td>1243140</td>\n      <td>IL</td>\n      <td>IL_EPA</td>\n      <td>State</td>\n      <td>2022</td>\n      <td>IL_REA</td>\n      <td>Public and Food Processing Water Supply</td>\n      <td>N</td>\n      <td>5</td>\n      <td>NaN</td>\n      <td>N</td>\n      <td>Cause</td>\n      <td>POLYCHLORINATED BIPHENYLS (PCBS)</td>\n      <td>1996.0</td>\n      <td>2022</td>\n      <td>NaN</td>\n      <td>2021-05-18</td>\n    </tr>\n    <tr>\n      <th>1243140</th>\n      <td>1243141</td>\n      <td>IL</td>\n      <td>IL_EPA</td>\n      <td>State</td>\n      <td>2022</td>\n      <td>IL_REA</td>\n      <td>Primary Contact</td>\n      <td>X</td>\n      <td>5</td>\n      <td>33205</td>\n      <td>N</td>\n      <td>Cause</td>\n      <td>PHOSPHORUS, TOTAL</td>\n      <td>1996.0</td>\n      <td>2022</td>\n      <td>NaN</td>\n      <td>NaT</td>\n    </tr>\n    <tr>\n      <th>1243141</th>\n      <td>1243142</td>\n      <td>IL</td>\n      <td>IL_EPA</td>\n      <td>State</td>\n      <td>2022</td>\n      <td>IL_REA</td>\n      <td>Primary Contact</td>\n      <td>X</td>\n      <td>5</td>\n      <td>NaN</td>\n      <td>N</td>\n      <td>Cause</td>\n      <td>CHLORDANE</td>\n      <td>1996.0</td>\n      <td>2022</td>\n      <td>NaN</td>\n      <td>NaT</td>\n    </tr>\n    <tr>\n      <th>1243142</th>\n      <td>1243143</td>\n      <td>IL</td>\n      <td>IL_EPA</td>\n      <td>State</td>\n      <td>2022</td>\n      <td>IL_REA</td>\n      <td>Primary Contact</td>\n      <td>X</td>\n      <td>5</td>\n      <td>33205</td>\n      <td>N</td>\n      <td>Cause</td>\n      <td>NITROGEN, NITRATE</td>\n      <td>2006.0</td>\n      <td>2022</td>\n      <td>NaN</td>\n      <td>NaT</td>\n    </tr>\n    <tr>\n      <th>1243143</th>\n      <td>1243144</td>\n      <td>IL</td>\n      <td>IL_EPA</td>\n      <td>State</td>\n      <td>2022</td>\n      <td>IL_REA</td>\n      <td>Primary Contact</td>\n      <td>X</td>\n      <td>5</td>\n      <td>NaN</td>\n      <td>N</td>\n      <td>Cause</td>\n      <td>MERCURY</td>\n      <td>2008.0</td>\n      <td>2022</td>\n      <td>NaN</td>\n      <td>NaT</td>\n    </tr>\n    <tr>\n      <th>1243144</th>\n      <td>1243145</td>\n      <td>IL</td>\n      <td>IL_EPA</td>\n      <td>State</td>\n      <td>2022</td>\n      <td>IL_REA</td>\n      <td>Primary Contact</td>\n      <td>X</td>\n      <td>5</td>\n      <td>NaN</td>\n      <td>N</td>\n      <td>Cause</td>\n      <td>POLYCHLORINATED BIPHENYLS (PCBS)</td>\n      <td>1996.0</td>\n      <td>2022</td>\n      <td>NaN</td>\n      <td>NaT</td>\n    </tr>\n    <tr>\n      <th>1243145</th>\n      <td>1243146</td>\n      <td>IL</td>\n      <td>IL_EPA</td>\n      <td>State</td>\n      <td>2022</td>\n      <td>IL_REA</td>\n      <td>Aesthetic Quality</td>\n      <td>N</td>\n      <td>5</td>\n      <td>33205</td>\n      <td>N</td>\n      <td>Cause</td>\n      <td>PHOSPHORUS, TOTAL</td>\n      <td>1996.0</td>\n      <td>2022</td>\n      <td>NaN</td>\n      <td>2010-02-28</td>\n    </tr>\n    <tr>\n      <th>1243146</th>\n      <td>1243147</td>\n      <td>IL</td>\n      <td>IL_EPA</td>\n      <td>State</td>\n      <td>2022</td>\n      <td>IL_REA</td>\n      <td>Aesthetic Quality</td>\n      <td>N</td>\n      <td>5</td>\n      <td>NaN</td>\n      <td>N</td>\n      <td>Cause</td>\n      <td>CHLORDANE</td>\n      <td>1996.0</td>\n      <td>2022</td>\n      <td>NaN</td>\n      <td>2010-02-28</td>\n    </tr>\n    <tr>\n      <th>1243147</th>\n      <td>1243148</td>\n      <td>IL</td>\n      <td>IL_EPA</td>\n      <td>State</td>\n      <td>2022</td>\n      <td>IL_REA</td>\n      <td>Aesthetic Quality</td>\n      <td>N</td>\n      <td>5</td>\n      <td>33205</td>\n      <td>N</td>\n      <td>Cause</td>\n      <td>NITROGEN, NITRATE</td>\n      <td>2006.0</td>\n      <td>2022</td>\n      <td>NaN</td>\n      <td>2010-02-28</td>\n    </tr>\n    <tr>\n      <th>1243148</th>\n      <td>1243149</td>\n      <td>IL</td>\n      <td>IL_EPA</td>\n      <td>State</td>\n      <td>2022</td>\n      <td>IL_REA</td>\n      <td>Aesthetic Quality</td>\n      <td>N</td>\n      <td>5</td>\n      <td>NaN</td>\n      <td>N</td>\n      <td>Cause</td>\n      <td>MERCURY</td>\n      <td>2008.0</td>\n      <td>2022</td>\n      <td>NaN</td>\n      <td>2010-02-28</td>\n    </tr>\n    <tr>\n      <th>1243149</th>\n      <td>1243150</td>\n      <td>IL</td>\n      <td>IL_EPA</td>\n      <td>State</td>\n      <td>2022</td>\n      <td>IL_REA</td>\n      <td>Aesthetic Quality</td>\n      <td>N</td>\n      <td>5</td>\n      <td>NaN</td>\n      <td>N</td>\n      <td>Cause</td>\n      <td>POLYCHLORINATED BIPHENYLS (PCBS)</td>\n      <td>1996.0</td>\n      <td>2022</td>\n      <td>NaN</td>\n      <td>2010-02-28</td>\n    </tr>\n  </tbody>\n</table>\n</div>"
     },
     "execution_count": 226,
     "metadata": {},
     "output_type": "execute_result"
    }
   ],
   "source": [
    "IL_assessments[IL_assessments['assessmentUnitIdentifier']=='IL_REA']"
   ],
   "metadata": {
    "collapsed": false,
    "pycharm": {
     "name": "#%%\n"
    }
   }
  },
  {
   "cell_type": "markdown",
   "source": [
    "### How many AUs scheduled to receive a TMDL actually received one?"
   ],
   "metadata": {
    "collapsed": false,
    "pycharm": {
     "name": "#%% md\n"
    }
   }
  },
  {
   "cell_type": "code",
   "execution_count": null,
   "outputs": [],
   "source": [
    "len(merged[(merged['cycle_scheduled_for_TMDL'] < merged['reportingCycleText']) & (~pd.isna(merged['TMDLDate']))].drop_duplicates(subset='assessmentUnitIdentifier'))"
   ],
   "metadata": {
    "collapsed": false,
    "pycharm": {
     "name": "#%%\n",
     "is_executing": true
    }
   }
  },
  {
   "cell_type": "markdown",
   "source": [
    "That's about half."
   ],
   "metadata": {
    "collapsed": false,
    "pycharm": {
     "name": "#%% md\n"
    }
   }
  },
  {
   "cell_type": "markdown",
   "source": [
    "### For those that did eventually receive a TMDL, what is the distribution of years between when the TMDL was scheduled, and when the TMDL was received?"
   ],
   "metadata": {
    "collapsed": false,
    "pycharm": {
     "name": "#%% md\n"
    }
   }
  },
  {
   "cell_type": "code",
   "execution_count": null,
   "outputs": [],
   "source": [
    "delays = (merged.drop_duplicates(subset='assessmentUnitIdentifier')['TMDLDate']-merged.drop_duplicates(subset='assessmentUnitIdentifier')['cycle_scheduled_for_TMDL']) / dt.timedelta(days=365)"
   ],
   "metadata": {
    "collapsed": false,
    "pycharm": {
     "name": "#%%\n",
     "is_executing": true
    }
   }
  },
  {
   "cell_type": "code",
   "execution_count": null,
   "outputs": [],
   "source": [
    "plt.hist(delays, bins=50)\n",
    "plt.title('Years between TMDL schedule date and TMDL Date')"
   ],
   "metadata": {
    "collapsed": false,
    "pycharm": {
     "name": "#%%\n",
     "is_executing": true
    }
   }
  }
 ],
 "metadata": {
  "kernelspec": {
   "display_name": "Python 3",
   "language": "python",
   "name": "python3"
  },
  "language_info": {
   "codemirror_mode": {
    "name": "ipython",
    "version": 2
   },
   "file_extension": ".py",
   "mimetype": "text/x-python",
   "name": "python",
   "nbconvert_exporter": "python",
   "pygments_lexer": "ipython2",
   "version": "2.7.6"
  }
 },
 "nbformat": 4,
 "nbformat_minor": 0
}