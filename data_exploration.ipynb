{
 "cells": [
  {
   "cell_type": "markdown",
   "source": [
    "# TMDLs DATA EXPLORATION\n",
    "<i> Ryan Treves\n",
    "\n",
    "Under the Clean Water Act (CWA) section 303(d), states and Tribes are required to monitor water bodies in their territory, and identify water bodies for which a water quality standard has not been met. To do this, they must conduct 'assessments' of water bodies based on whether that water body attains its water quality standard for a certain type of use (e.g., swimming, fishing). Water bodies are delineated into 'assessment units' for the purposes of organizing assessments. Based on the results of the assessment, an assessment unit is assigned an Integrated Reporting (IR) category from 1-5 based on the degree of impairment of the water body. An IR category 5 determination means that a TMDL should be developed for that assessment unit, and the water is 'impaired'. (See https://drive.google.com/drive/u/0/folders/1tGpCSD-3mRBChTC1PZStt5bdRljTK1ck for more details on IR category determination).\n",
    " Every two years (reporting cycles are biennial), states must submit their list of impaired waters (including but not limited to all waters with an IR category 5 determination) as a part of their Integrated Report (IR) to the federal EPA under  sections 303(d), 305(b), and 314.\n",
    "\n",
    "See https://www.epa.gov/wqs-tech/supplemental-module-listing-impaired-waters-and-developing-tmdls#tab-2  for more details.\n",
    "\n",
    "### Questions:\n",
    "- How many Assessment Units (AUs) exist nationwide?\n",
    "- For many AUs do we have a HUC code match?\n",
    "- How many use assessments nationwide, ever, have contributed to an IR5 category determination?\n",
    "- How many unique assessment units have been assigned category IR5?\n",
    "- Which states have had the most use assessments leading to IR5 determinations?\n",
    "- Which states have had the highest rate of IR5 determinations per assessment unit?\n",
    "- For what fraction of use assessments do we have an assessment date?\n",
    "- What parameters have caused the most use non-attainment declarations?\n",
    "- What parameters have caused the most assessment units to be categorized as IR5, irrespective of number of use non-attainment declarations?\n",
    "- What uses have the highest rate of non-attainment?\n",
    "\n",
    "Note: the dataset of AUs doesn't include Pennsylvania (see `ATTAINS_data_cleaning.ipynb` for an explanation)"
   ],
   "metadata": {
    "collapsed": false,
    "pycharm": {
     "name": "#%% md\n"
    }
   }
  },
  {
   "cell_type": "code",
   "execution_count": 1,
   "outputs": [],
   "source": [
    "import pandas as pd\n",
    "import matplotlib.pyplot as plt\n",
    "import json\n",
    "from urllib.request import urlopen\n",
    "import datetime as dt\n",
    "import warnings\n",
    "\n",
    "# Suppress warning messages\n",
    "warnings.filterwarnings('ignore')\n",
    "pd.options.display.max_columns = 200\n",
    "pd.options.display.max_rows = 2000\n",
    "# display all rows & columns\n",
    "pd.set_option('display.max_columns', None)\n",
    "pd.set_option('display.max_rows', None)"
   ],
   "metadata": {
    "collapsed": false,
    "pycharm": {
     "name": "#%%\n"
    }
   }
  },
  {
   "cell_type": "code",
   "execution_count": 2,
   "outputs": [],
   "source": [
    "# Load in ATTAINS data\n",
    "# Assessment Units (source: `ATTAINS_data_cleaning.ipynb`)\n",
    "AUs = pd.read_csv('all_AUs.csv')\n",
    "# Assessments (source: `pull_NotSupporting_assessments.R`)\n",
    "assessments = pd.read_csv('all_NotSupporting_assessments.csv', dtype={'reportingCycleText': str}, parse_dates=['assessment_date'], date_parser=lambda t: pd.to_datetime(t, errors='coerce'))\n",
    "# TMDL Actions (source: `pull_actions.R`)\n",
    "all_actions = pd.read_csv('all_actions.csv', parse_dates=['completionDate', 'TMDLDate'], date_parser=lambda t: pd.to_datetime(t, errors='coerce')).drop('Unnamed: 0', axis=1).drop_duplicates()\n",
    "all_actions_permit_data = pd.read_csv('all_actions_permit_data.csv').drop('Unnamed: 0', axis=1).drop_duplicates()\n",
    "\n",
    "# RAD Data\n",
    "# HUC AUID link table (source: `get_huc_AUID_links.R`)\n",
    "HUC_AUID_links = pd.read_csv('huc_AUID_links.csv', dtype={'attributes.huc12': object})\n",
    "HUC_AUID_links = HUC_AUID_links.drop('Unnamed: 0', axis=1).rename(columns={'attributes.huc12': 'HUC-12', 'attributes.assessmentunitidentifier':'AUID'})\n",
    "# HUC NPDES permit link table (source: `get_huc_npdes_permit_links.R`)\n",
    "HUC_npdes_permit_links = pd.read_csv('huc_npdes_permit_links.csv', dtype={'attributes.WBD_HUC12': object})\n",
    "HUC_npdes_permit_links = HUC_npdes_permit_links.drop('Unnamed: 0', axis=1).rename(columns={'attributes.WBD_HUC12': 'HUC-12'})"
   ],
   "metadata": {
    "collapsed": false,
    "pycharm": {
     "name": "#%%\n"
    }
   }
  },
  {
   "cell_type": "markdown",
   "source": [
    "# 1.  Assessment Units"
   ],
   "metadata": {
    "collapsed": false,
    "pycharm": {
     "name": "#%% md\n"
    }
   }
  },
  {
   "cell_type": "code",
   "execution_count": 3,
   "outputs": [
    {
     "data": {
      "text/plain": "   Unnamed: 0                 AUID            assessmentUnitName  \\\n0           1  AL03140106-0507-100                    Styx River   \n1           2  AL03150105-0502-100                   Mills Creek   \n2           3  AL03150201-0308-100                  Catoma Creek   \n3           4  AL03160112-0106-111  Valley Creek (Bankhead Lake)   \n4           5  AL03140104-0104-200            Boggy Hollow Creek   \n\n                             locationDescriptionText agencyCode stateCode  \\\n0              from Perdido River to Hollinger Creek          S        AL   \n1  from Chattooga River to Alabama-Georgia state ...          S        AL   \n2                     from Ramer Creek to its source          S        AL   \n3       from Black Warrior River to end of embayment          S        AL   \n4      from Alabama-Florida state line to its source          S        AL   \n\n  statusIndicator        waterTypeCode  waterSizeNumber unitsCode  \\\n0               A               STREAM            18.52     Miles   \n1               A               STREAM            21.59     Miles   \n2               A               STREAM            21.50     Miles   \n3               A  RESERVOIR EMBAYMENT           119.67     Acres   \n4               A               STREAM             7.45     Miles   \n\n  useClass.useClassCode useClass.useClassName  \n0                 156.0                   F&W  \n1                 156.0                   F&W  \n2                 156.0                   F&W  \n3                1023.0             PWS/S/F&W  \n4                 156.0                   F&W  ",
      "text/html": "<div>\n<style scoped>\n    .dataframe tbody tr th:only-of-type {\n        vertical-align: middle;\n    }\n\n    .dataframe tbody tr th {\n        vertical-align: top;\n    }\n\n    .dataframe thead th {\n        text-align: right;\n    }\n</style>\n<table border=\"1\" class=\"dataframe\">\n  <thead>\n    <tr style=\"text-align: right;\">\n      <th></th>\n      <th>Unnamed: 0</th>\n      <th>AUID</th>\n      <th>assessmentUnitName</th>\n      <th>locationDescriptionText</th>\n      <th>agencyCode</th>\n      <th>stateCode</th>\n      <th>statusIndicator</th>\n      <th>waterTypeCode</th>\n      <th>waterSizeNumber</th>\n      <th>unitsCode</th>\n      <th>useClass.useClassCode</th>\n      <th>useClass.useClassName</th>\n    </tr>\n  </thead>\n  <tbody>\n    <tr>\n      <th>0</th>\n      <td>1</td>\n      <td>AL03140106-0507-100</td>\n      <td>Styx River</td>\n      <td>from Perdido River to Hollinger Creek</td>\n      <td>S</td>\n      <td>AL</td>\n      <td>A</td>\n      <td>STREAM</td>\n      <td>18.52</td>\n      <td>Miles</td>\n      <td>156.0</td>\n      <td>F&amp;W</td>\n    </tr>\n    <tr>\n      <th>1</th>\n      <td>2</td>\n      <td>AL03150105-0502-100</td>\n      <td>Mills Creek</td>\n      <td>from Chattooga River to Alabama-Georgia state ...</td>\n      <td>S</td>\n      <td>AL</td>\n      <td>A</td>\n      <td>STREAM</td>\n      <td>21.59</td>\n      <td>Miles</td>\n      <td>156.0</td>\n      <td>F&amp;W</td>\n    </tr>\n    <tr>\n      <th>2</th>\n      <td>3</td>\n      <td>AL03150201-0308-100</td>\n      <td>Catoma Creek</td>\n      <td>from Ramer Creek to its source</td>\n      <td>S</td>\n      <td>AL</td>\n      <td>A</td>\n      <td>STREAM</td>\n      <td>21.50</td>\n      <td>Miles</td>\n      <td>156.0</td>\n      <td>F&amp;W</td>\n    </tr>\n    <tr>\n      <th>3</th>\n      <td>4</td>\n      <td>AL03160112-0106-111</td>\n      <td>Valley Creek (Bankhead Lake)</td>\n      <td>from Black Warrior River to end of embayment</td>\n      <td>S</td>\n      <td>AL</td>\n      <td>A</td>\n      <td>RESERVOIR EMBAYMENT</td>\n      <td>119.67</td>\n      <td>Acres</td>\n      <td>1023.0</td>\n      <td>PWS/S/F&amp;W</td>\n    </tr>\n    <tr>\n      <th>4</th>\n      <td>5</td>\n      <td>AL03140104-0104-200</td>\n      <td>Boggy Hollow Creek</td>\n      <td>from Alabama-Florida state line to its source</td>\n      <td>S</td>\n      <td>AL</td>\n      <td>A</td>\n      <td>STREAM</td>\n      <td>7.45</td>\n      <td>Miles</td>\n      <td>156.0</td>\n      <td>F&amp;W</td>\n    </tr>\n  </tbody>\n</table>\n</div>"
     },
     "execution_count": 3,
     "metadata": {},
     "output_type": "execute_result"
    }
   ],
   "source": [
    "AUs.rename(columns={'assessmentUnitIdentifier': 'AUID'}, inplace=True)\n",
    "AUs.head()"
   ],
   "metadata": {
    "collapsed": false,
    "pycharm": {
     "name": "#%%\n"
    }
   }
  },
  {
   "cell_type": "markdown",
   "source": [
    "### How many Assessment Units (AUs) have ever existed nationwide?"
   ],
   "metadata": {
    "collapsed": false,
    "pycharm": {
     "name": "#%% md\n"
    }
   }
  },
  {
   "cell_type": "code",
   "execution_count": 4,
   "outputs": [
    {
     "data": {
      "text/plain": "547965"
     },
     "execution_count": 4,
     "metadata": {},
     "output_type": "execute_result"
    }
   ],
   "source": [
    "len(AUs.drop_duplicates('AUID'))"
   ],
   "metadata": {
    "collapsed": false,
    "pycharm": {
     "name": "#%%\n"
    }
   }
  },
  {
   "cell_type": "markdown",
   "source": [
    "### How many AUIDs do we have in our HUC-AUID link table?\n",
    "Note: the HUC-AUID link table contains AUIDs in use as of 2020"
   ],
   "metadata": {
    "collapsed": false,
    "pycharm": {
     "name": "#%% md\n"
    }
   }
  },
  {
   "cell_type": "code",
   "execution_count": 5,
   "outputs": [
    {
     "data": {
      "text/plain": "419499"
     },
     "execution_count": 5,
     "metadata": {},
     "output_type": "execute_result"
    }
   ],
   "source": [
    "len(HUC_AUID_links.drop_duplicates('AUID'))"
   ],
   "metadata": {
    "collapsed": false,
    "pycharm": {
     "name": "#%%\n"
    }
   }
  },
  {
   "cell_type": "markdown",
   "source": [
    "### How many ATTAINS AUIDs can we link with HUC codes using the HUC-AUID link table?"
   ],
   "metadata": {
    "collapsed": false,
    "pycharm": {
     "name": "#%% md\n"
    }
   }
  },
  {
   "cell_type": "code",
   "execution_count": 6,
   "outputs": [
    {
     "data": {
      "text/plain": "415219"
     },
     "execution_count": 6,
     "metadata": {},
     "output_type": "execute_result"
    }
   ],
   "source": [
    "AUs_merged = HUC_AUID_links.drop_duplicates('AUID').merge(AUs, how='inner', on='AUID')\n",
    "len(AUs_merged[~pd.isna(AUs_merged['HUC-12'])])"
   ],
   "metadata": {
    "collapsed": false,
    "pycharm": {
     "name": "#%%\n"
    }
   }
  },
  {
   "cell_type": "markdown",
   "source": [
    "What explains the AUIDs that are in the ATTAINS AUID table but not the HUC_AUID_links table?\n",
    "Based on hand-checking examples from a variety of states, it appears that the primary reasons why AUIDs appear in the AUs table but not the HUC_AUID_links table are:\n",
    "- Some AUIDs were added in 2022 (e.g., AL06030005-1004-200). These AUIDs would not be present in the HUC_AUID_links table because it is current as of June 2020.\n",
    "- Some AUIDs were split pre-2020 and are no longer in use (e.g., CAX9013000020021202102208, see https://www.waterboards.ca.gov/sandiego/water_issues/programs/303d_list/ref_reports/miscellaneous_changes_report.shtml). These are still reflected in the AUs table because it goes back to 2002."
   ],
   "metadata": {
    "collapsed": false,
    "pycharm": {
     "name": "#%% md\n"
    }
   },
   "outputs": []
  },
  {
   "cell_type": "markdown",
   "source": [
    "What explains the AUIDs that are in the HUC_AUID_links table but not the ATTAINS AUID table?\n",
    "Again, based on hand-checking examples, it appears that almost all (if not all) of the AUIDs that appear in the HUC_AUID_links table but not the AUs table are from Pennsylvania, which was excluded from the AUs table due to computation limitations."
   ],
   "metadata": {
    "collapsed": false,
    "pycharm": {
     "name": "#%% md\n"
    }
   }
  },
  {
   "cell_type": "markdown",
   "source": [
    "### Does a single water body ever have more than one AUID on record?"
   ],
   "metadata": {
    "collapsed": false,
    "pycharm": {
     "name": "#%% md\n"
    }
   }
  },
  {
   "cell_type": "code",
   "execution_count": 7,
   "outputs": [],
   "source": [
    "AUs.drop('Unnamed: 0', axis=1, inplace=True)"
   ],
   "metadata": {
    "collapsed": false,
    "pycharm": {
     "name": "#%%\n"
    }
   }
  },
  {
   "cell_type": "code",
   "execution_count": 9,
   "outputs": [],
   "source": [
    "counts = AUs.groupby(['assessmentUnitName', 'locationDescriptionText'], as_index=False).nunique()\n",
    "changed_AUIDs = counts[counts['AUID']>1][['assessmentUnitName', 'locationDescriptionText', 'AUID']].rename(columns={'AUID':'# unique AUIDs'})"
   ],
   "metadata": {
    "collapsed": false,
    "pycharm": {
     "name": "#%%\n"
    }
   }
  },
  {
   "cell_type": "code",
   "execution_count": 10,
   "outputs": [
    {
     "data": {
      "text/plain": "21750"
     },
     "execution_count": 10,
     "metadata": {},
     "output_type": "execute_result"
    }
   ],
   "source": [
    "changed_AUIDs = changed_AUIDs[(changed_AUIDs['assessmentUnitName'] != '<Null>') & (changed_AUIDs['locationDescriptionText'] != '<Null>')]\n",
    "len(changed_AUIDs)"
   ],
   "metadata": {
    "collapsed": false,
    "pycharm": {
     "name": "#%%\n"
    }
   }
  },
  {
   "cell_type": "code",
   "execution_count": 11,
   "outputs": [
    {
     "data": {
      "text/plain": "                   assessmentUnitName locationDescriptionText  # unique AUIDs  \\\n0               Middle Fork, White R.           HUC: 11010001               2   \n1               Middle Fork, White R.           HUC: 11010001               2   \n2   31 Hollow (Right Fork/Beech Fork)           Entire length               2   \n3   31 Hollow (Right Fork/Beech Fork)           Entire length               2   \n4                             ABENAKI                 Abenaki               2   \n5                             ABENAKI                 Abenaki               2   \n6                         ABNER CREEK           HUC: 05120201               2   \n7                         ABNER CREEK           HUC: 05120201               2   \n8     ABNER CREEK - UNNAMED TRIBUTARY           HUC: 05120201               3   \n9     ABNER CREEK - UNNAMED TRIBUTARY           HUC: 05120201               3   \n10    ABNER CREEK - UNNAMED TRIBUTARY           HUC: 05120201               3   \n11                       ABOITE CREEK           HUC: 05120101               3   \n12                       ABOITE CREEK           HUC: 05120101               3   \n13                       ABOITE CREEK           HUC: 05120101               3   \n14   ABOITE CREEK - UNNAMED TRIBUTARY           HUC: 05120101               5   \n15   ABOITE CREEK - UNNAMED TRIBUTARY           HUC: 05120101               5   \n16   ABOITE CREEK - UNNAMED TRIBUTARY           HUC: 05120101               5   \n17   ABOITE CREEK - UNNAMED TRIBUTARY           HUC: 05120101               5   \n18   ABOITE CREEK - UNNAMED TRIBUTARY           HUC: 05120101               5   \n19                    ACKERMAN BRANCH           HUC: 05120208               2   \n\n                  AUID stateCode  \n0      AR_11010001_026        AR  \n1   AR-4K-11010001-026        AR  \n2     WVBST-70-AA-1_00        WV  \n3    WV-BST-98-BO-1_01        WV  \n4        VT14-03L03_02        VT  \n5        VT14-03L03_01        VT  \n6        INW01D3_T1013        IN  \n7        INW01D3_T1012        IN  \n8        INW01D3_T1016        IN  \n9        INW01D3_T1015        IN  \n10       INW01D3_T1014        IN  \n11          INB01A2_02        IN  \n12          INB01A5_05        IN  \n13          INB01A5_04        IN  \n14       INB01A2_T1014        IN  \n15         INB01A2_02A        IN  \n16      INB01A2_T1014B        IN  \n17      INB01A2_T1014A        IN  \n18       INB01A6_T1005        IN  \n19       INW08H2_T1049        IN  ",
      "text/html": "<div>\n<style scoped>\n    .dataframe tbody tr th:only-of-type {\n        vertical-align: middle;\n    }\n\n    .dataframe tbody tr th {\n        vertical-align: top;\n    }\n\n    .dataframe thead th {\n        text-align: right;\n    }\n</style>\n<table border=\"1\" class=\"dataframe\">\n  <thead>\n    <tr style=\"text-align: right;\">\n      <th></th>\n      <th>assessmentUnitName</th>\n      <th>locationDescriptionText</th>\n      <th># unique AUIDs</th>\n      <th>AUID</th>\n      <th>stateCode</th>\n    </tr>\n  </thead>\n  <tbody>\n    <tr>\n      <th>0</th>\n      <td>Middle Fork, White R.</td>\n      <td>HUC: 11010001</td>\n      <td>2</td>\n      <td>AR_11010001_026</td>\n      <td>AR</td>\n    </tr>\n    <tr>\n      <th>1</th>\n      <td>Middle Fork, White R.</td>\n      <td>HUC: 11010001</td>\n      <td>2</td>\n      <td>AR-4K-11010001-026</td>\n      <td>AR</td>\n    </tr>\n    <tr>\n      <th>2</th>\n      <td>31 Hollow (Right Fork/Beech Fork)</td>\n      <td>Entire length</td>\n      <td>2</td>\n      <td>WVBST-70-AA-1_00</td>\n      <td>WV</td>\n    </tr>\n    <tr>\n      <th>3</th>\n      <td>31 Hollow (Right Fork/Beech Fork)</td>\n      <td>Entire length</td>\n      <td>2</td>\n      <td>WV-BST-98-BO-1_01</td>\n      <td>WV</td>\n    </tr>\n    <tr>\n      <th>4</th>\n      <td>ABENAKI</td>\n      <td>Abenaki</td>\n      <td>2</td>\n      <td>VT14-03L03_02</td>\n      <td>VT</td>\n    </tr>\n    <tr>\n      <th>5</th>\n      <td>ABENAKI</td>\n      <td>Abenaki</td>\n      <td>2</td>\n      <td>VT14-03L03_01</td>\n      <td>VT</td>\n    </tr>\n    <tr>\n      <th>6</th>\n      <td>ABNER CREEK</td>\n      <td>HUC: 05120201</td>\n      <td>2</td>\n      <td>INW01D3_T1013</td>\n      <td>IN</td>\n    </tr>\n    <tr>\n      <th>7</th>\n      <td>ABNER CREEK</td>\n      <td>HUC: 05120201</td>\n      <td>2</td>\n      <td>INW01D3_T1012</td>\n      <td>IN</td>\n    </tr>\n    <tr>\n      <th>8</th>\n      <td>ABNER CREEK - UNNAMED TRIBUTARY</td>\n      <td>HUC: 05120201</td>\n      <td>3</td>\n      <td>INW01D3_T1016</td>\n      <td>IN</td>\n    </tr>\n    <tr>\n      <th>9</th>\n      <td>ABNER CREEK - UNNAMED TRIBUTARY</td>\n      <td>HUC: 05120201</td>\n      <td>3</td>\n      <td>INW01D3_T1015</td>\n      <td>IN</td>\n    </tr>\n    <tr>\n      <th>10</th>\n      <td>ABNER CREEK - UNNAMED TRIBUTARY</td>\n      <td>HUC: 05120201</td>\n      <td>3</td>\n      <td>INW01D3_T1014</td>\n      <td>IN</td>\n    </tr>\n    <tr>\n      <th>11</th>\n      <td>ABOITE CREEK</td>\n      <td>HUC: 05120101</td>\n      <td>3</td>\n      <td>INB01A2_02</td>\n      <td>IN</td>\n    </tr>\n    <tr>\n      <th>12</th>\n      <td>ABOITE CREEK</td>\n      <td>HUC: 05120101</td>\n      <td>3</td>\n      <td>INB01A5_05</td>\n      <td>IN</td>\n    </tr>\n    <tr>\n      <th>13</th>\n      <td>ABOITE CREEK</td>\n      <td>HUC: 05120101</td>\n      <td>3</td>\n      <td>INB01A5_04</td>\n      <td>IN</td>\n    </tr>\n    <tr>\n      <th>14</th>\n      <td>ABOITE CREEK - UNNAMED TRIBUTARY</td>\n      <td>HUC: 05120101</td>\n      <td>5</td>\n      <td>INB01A2_T1014</td>\n      <td>IN</td>\n    </tr>\n    <tr>\n      <th>15</th>\n      <td>ABOITE CREEK - UNNAMED TRIBUTARY</td>\n      <td>HUC: 05120101</td>\n      <td>5</td>\n      <td>INB01A2_02A</td>\n      <td>IN</td>\n    </tr>\n    <tr>\n      <th>16</th>\n      <td>ABOITE CREEK - UNNAMED TRIBUTARY</td>\n      <td>HUC: 05120101</td>\n      <td>5</td>\n      <td>INB01A2_T1014B</td>\n      <td>IN</td>\n    </tr>\n    <tr>\n      <th>17</th>\n      <td>ABOITE CREEK - UNNAMED TRIBUTARY</td>\n      <td>HUC: 05120101</td>\n      <td>5</td>\n      <td>INB01A2_T1014A</td>\n      <td>IN</td>\n    </tr>\n    <tr>\n      <th>18</th>\n      <td>ABOITE CREEK - UNNAMED TRIBUTARY</td>\n      <td>HUC: 05120101</td>\n      <td>5</td>\n      <td>INB01A6_T1005</td>\n      <td>IN</td>\n    </tr>\n    <tr>\n      <th>19</th>\n      <td>ACKERMAN BRANCH</td>\n      <td>HUC: 05120208</td>\n      <td>2</td>\n      <td>INW08H2_T1049</td>\n      <td>IN</td>\n    </tr>\n  </tbody>\n</table>\n</div>"
     },
     "execution_count": 11,
     "metadata": {},
     "output_type": "execute_result"
    }
   ],
   "source": [
    "changed_AUIDs = changed_AUIDs.merge(AUs[['AUID', 'assessmentUnitName', 'locationDescriptionText', 'stateCode']], on=['assessmentUnitName', 'locationDescriptionText'], how='left').drop_duplicates()\n",
    "changed_AUIDs.head(20)"
   ],
   "metadata": {
    "collapsed": false,
    "pycharm": {
     "name": "#%%\n"
    }
   }
  },
  {
   "cell_type": "markdown",
   "source": [
    "Cross-referencing these records with the assessments file below, it appears that many of the examples in the table above represent water bodies in Virginia that underwent a AUID change in 2018 from using the 'VAC' prefix to using 'VAP' or 'VAW' (maybe this has to do with a change to the state's segmentation methodology?). Similar renamings may have occurred in CT, RI, MD, and MO.\n",
    "Other examples seem to be distinct water bodies that happen to share the same `items.assessmentUnits.assessmentUnitName` and `items.assessmentUnits.assessmentUnitIdentifier` values - in some cases, because they are unnamed tributaries or unsegmented portions of watersheds, in other cases, because names are not specific. This appears to be the case for the examples from Alabama.\n",
    "Some examples from Vermont use a two-digit 'Assessment Database segment code' suffix for \"EPA tracking purposes\" (e.g., VT17-01L01_01 and VT17-01L01_02, see https://www.epa.gov/sites/default/files/2019-02/documents/2018-vt-303d-list-report.pdf)"
   ],
   "metadata": {
    "collapsed": false,
    "pycharm": {
     "name": "#%% md\n"
    }
   }
  },
  {
   "cell_type": "markdown",
   "source": [
    "# 2. Assessments"
   ],
   "metadata": {
    "collapsed": false,
    "pycharm": {
     "name": "#%% md\n"
    }
   }
  },
  {
   "cell_type": "code",
   "execution_count": 12,
   "outputs": [
    {
     "data": {
      "text/plain": "   Unnamed: 0 state_code organizationIdentifier organizationTypeText  \\\n0           1         AL                 21AWIC                State   \n1           2         AL                 21AWIC                State   \n2           3         AL                 21AWIC                State   \n3           4         AL                 21AWIC                State   \n4           5         AL                 21AWIC                State   \n\n  reportingCycleText assessmentUnitIdentifier  \\\n0               2004        AL-Gulf of Mexico   \n1               2004        AL-Gulf of Mexico   \n2               2004        AL-Gulf of Mexico   \n3               2004        AL-Gulf of Mexico   \n4               2004        AL-Gulf of Mexico   \n\n                            useName useAttainmentCode epaIRCategory  \\\n0                Contact Recreation                 N           NaN   \n1                Contact Recreation                 N           NaN   \n2                           Fishing                 N           NaN   \n3                           Fishing                 N           NaN   \n4  Propagation of Fish and Wildlife                 N           NaN   \n\n  associatedActionIdentifier threatenedIndicator parameterStatusName  \\\n0                        NaN                   N               Cause   \n1                        NaN                   N               Cause   \n2                        NaN                   N               Cause   \n3                        NaN                   N               Cause   \n4                        NaN                   N               Cause   \n\n  parameterName  cycle_first_listed  cycleLastAssessedText  \\\n0       MERCURY              2004.0                   2002   \n1        METALS              2004.0                   2002   \n2       MERCURY              2004.0                   2002   \n3        METALS              2004.0                   2002   \n4       MERCURY              2004.0                   2002   \n\n   cycle_scheduled_for_TMDL assessment_date  \n0                       NaN             NaT  \n1                       NaN             NaT  \n2                       NaN             NaT  \n3                       NaN             NaT  \n4                       NaN             NaT  ",
      "text/html": "<div>\n<style scoped>\n    .dataframe tbody tr th:only-of-type {\n        vertical-align: middle;\n    }\n\n    .dataframe tbody tr th {\n        vertical-align: top;\n    }\n\n    .dataframe thead th {\n        text-align: right;\n    }\n</style>\n<table border=\"1\" class=\"dataframe\">\n  <thead>\n    <tr style=\"text-align: right;\">\n      <th></th>\n      <th>Unnamed: 0</th>\n      <th>state_code</th>\n      <th>organizationIdentifier</th>\n      <th>organizationTypeText</th>\n      <th>reportingCycleText</th>\n      <th>assessmentUnitIdentifier</th>\n      <th>useName</th>\n      <th>useAttainmentCode</th>\n      <th>epaIRCategory</th>\n      <th>associatedActionIdentifier</th>\n      <th>threatenedIndicator</th>\n      <th>parameterStatusName</th>\n      <th>parameterName</th>\n      <th>cycle_first_listed</th>\n      <th>cycleLastAssessedText</th>\n      <th>cycle_scheduled_for_TMDL</th>\n      <th>assessment_date</th>\n    </tr>\n  </thead>\n  <tbody>\n    <tr>\n      <th>0</th>\n      <td>1</td>\n      <td>AL</td>\n      <td>21AWIC</td>\n      <td>State</td>\n      <td>2004</td>\n      <td>AL-Gulf of Mexico</td>\n      <td>Contact Recreation</td>\n      <td>N</td>\n      <td>NaN</td>\n      <td>NaN</td>\n      <td>N</td>\n      <td>Cause</td>\n      <td>MERCURY</td>\n      <td>2004.0</td>\n      <td>2002</td>\n      <td>NaN</td>\n      <td>NaT</td>\n    </tr>\n    <tr>\n      <th>1</th>\n      <td>2</td>\n      <td>AL</td>\n      <td>21AWIC</td>\n      <td>State</td>\n      <td>2004</td>\n      <td>AL-Gulf of Mexico</td>\n      <td>Contact Recreation</td>\n      <td>N</td>\n      <td>NaN</td>\n      <td>NaN</td>\n      <td>N</td>\n      <td>Cause</td>\n      <td>METALS</td>\n      <td>2004.0</td>\n      <td>2002</td>\n      <td>NaN</td>\n      <td>NaT</td>\n    </tr>\n    <tr>\n      <th>2</th>\n      <td>3</td>\n      <td>AL</td>\n      <td>21AWIC</td>\n      <td>State</td>\n      <td>2004</td>\n      <td>AL-Gulf of Mexico</td>\n      <td>Fishing</td>\n      <td>N</td>\n      <td>NaN</td>\n      <td>NaN</td>\n      <td>N</td>\n      <td>Cause</td>\n      <td>MERCURY</td>\n      <td>2004.0</td>\n      <td>2002</td>\n      <td>NaN</td>\n      <td>NaT</td>\n    </tr>\n    <tr>\n      <th>3</th>\n      <td>4</td>\n      <td>AL</td>\n      <td>21AWIC</td>\n      <td>State</td>\n      <td>2004</td>\n      <td>AL-Gulf of Mexico</td>\n      <td>Fishing</td>\n      <td>N</td>\n      <td>NaN</td>\n      <td>NaN</td>\n      <td>N</td>\n      <td>Cause</td>\n      <td>METALS</td>\n      <td>2004.0</td>\n      <td>2002</td>\n      <td>NaN</td>\n      <td>NaT</td>\n    </tr>\n    <tr>\n      <th>4</th>\n      <td>5</td>\n      <td>AL</td>\n      <td>21AWIC</td>\n      <td>State</td>\n      <td>2004</td>\n      <td>AL-Gulf of Mexico</td>\n      <td>Propagation of Fish and Wildlife</td>\n      <td>N</td>\n      <td>NaN</td>\n      <td>NaN</td>\n      <td>N</td>\n      <td>Cause</td>\n      <td>MERCURY</td>\n      <td>2004.0</td>\n      <td>2002</td>\n      <td>NaN</td>\n      <td>NaT</td>\n    </tr>\n  </tbody>\n</table>\n</div>"
     },
     "execution_count": 12,
     "metadata": {},
     "output_type": "execute_result"
    }
   ],
   "source": [
    "assessments.head()"
   ],
   "metadata": {
    "collapsed": false,
    "pycharm": {
     "name": "#%%\n"
    }
   }
  },
  {
   "cell_type": "code",
   "execution_count": 13,
   "outputs": [
    {
     "data": {
      "text/plain": "3960114"
     },
     "execution_count": 13,
     "metadata": {},
     "output_type": "execute_result"
    }
   ],
   "source": [
    "len(assessments)"
   ],
   "metadata": {
    "collapsed": false,
    "pycharm": {
     "name": "#%%\n"
    }
   }
  },
  {
   "cell_type": "markdown",
   "source": [
    "### How many use assessments nationwide, ever, have contributed to a 'Not Supporting' determination?\n",
    "From here on, 'impaired' = received a 'Not Supporting' determination for any use. One assessment unit can be impaired by having multiple impairments - e.g., multiple chemicals (parameters) or multiple uses or both.\n",
    "Here, a use assessment is uniquely identified by assessmentUnitIdentifier + useName + parameterName + reportingCycleText + assessment_date"
   ],
   "metadata": {
    "collapsed": false,
    "pycharm": {
     "name": "#%% md\n"
    }
   }
  },
  {
   "cell_type": "code",
   "execution_count": 14,
   "outputs": [
    {
     "data": {
      "text/plain": "3699477"
     },
     "execution_count": 14,
     "metadata": {},
     "output_type": "execute_result"
    }
   ],
   "source": [
    "assessments.drop_duplicates(subset=['assessmentUnitIdentifier', 'useName', 'reportingCycleText', 'parameterName', 'assessment_date']).shape[0]"
   ],
   "metadata": {
    "collapsed": false,
    "pycharm": {
     "name": "#%%\n"
    }
   }
  },
  {
   "cell_type": "markdown",
   "source": [
    "These numbers are different because the assessments table contains one row per use assessment x TMDL instance, and some use assessments are associated with multiple TMDLs from different years."
   ],
   "metadata": {
    "collapsed": false,
    "pycharm": {
     "name": "#%% md\n"
    }
   }
  },
  {
   "cell_type": "markdown",
   "source": [
    "### What proportion of assessments have been associated with multiple TMDLs?"
   ],
   "metadata": {
    "collapsed": false,
    "pycharm": {
     "name": "#%% md\n"
    }
   }
  },
  {
   "cell_type": "code",
   "execution_count": 15,
   "outputs": [
    {
     "data": {
      "text/plain": "False    0.934184\nTrue     0.065816\ndtype: float64"
     },
     "execution_count": 15,
     "metadata": {},
     "output_type": "execute_result"
    }
   ],
   "source": [
    "assessments.duplicated(subset=['assessmentUnitIdentifier', 'useName', 'reportingCycleText', 'parameterName', 'assessment_date']).value_counts(normalize=True)"
   ],
   "metadata": {
    "collapsed": false,
    "pycharm": {
     "name": "#%%\n"
    }
   }
  },
  {
   "cell_type": "markdown",
   "source": [
    "### What proportion of all assessment units have been associated with multiple TMDLs?"
   ],
   "metadata": {
    "collapsed": false,
    "pycharm": {
     "name": "#%% md\n"
    }
   }
  },
  {
   "cell_type": "code",
   "execution_count": 16,
   "outputs": [
    {
     "data": {
      "text/plain": "0.14665170220725776"
     },
     "execution_count": 16,
     "metadata": {},
     "output_type": "execute_result"
    }
   ],
   "source": [
    "len(assessments[assessments.duplicated(subset=['assessmentUnitIdentifier', 'associatedActionIdentifier'])].dropna(subset='associatedActionIdentifier').drop_duplicates('assessmentUnitIdentifier'))/len(AUs['AUID'].unique())"
   ],
   "metadata": {
    "collapsed": false,
    "pycharm": {
     "name": "#%%\n"
    }
   }
  },
  {
   "cell_type": "markdown",
   "source": [
    "### How many unique assessment units have been impaired?"
   ],
   "metadata": {
    "collapsed": false,
    "pycharm": {
     "name": "#%% md\n"
    }
   }
  },
  {
   "cell_type": "code",
   "execution_count": 17,
   "outputs": [
    {
     "data": {
      "text/plain": "220326"
     },
     "execution_count": 17,
     "metadata": {},
     "output_type": "execute_result"
    }
   ],
   "source": [
    "len(assessments['assessmentUnitIdentifier'].unique())"
   ],
   "metadata": {
    "collapsed": false,
    "pycharm": {
     "name": "#%%\n"
    }
   }
  },
  {
   "cell_type": "markdown",
   "source": [
    "### Which states have had the most use assessments leading to impairments?"
   ],
   "metadata": {
    "collapsed": false,
    "pycharm": {
     "name": "#%% md\n"
    }
   }
  },
  {
   "cell_type": "code",
   "execution_count": 18,
   "outputs": [
    {
     "data": {
      "text/plain": "state_code\nPA            0.150262\nNH            0.136518\nKS            0.086511\nCA            0.060322\nVA            0.058579\nFL            0.050741\nNJ            0.044158\nOR            0.038471\nWV            0.033967\nNV            0.027243\nIN            0.023406\nMI            0.022562\nWA            0.020319\nMT            0.017350\nNC            0.016956\nMN            0.016645\nID            0.015851\nOH            0.015627\nMA            0.013891\nTN            0.013100\nIL            0.011953\nTX            0.010832\nOK            0.010769\nWI            0.010639\nKY            0.010069\nAR            0.008470\nLA            0.005192\nSC            0.005006\nPR            0.004974\nCT            0.004763\nVT            0.004592\nGA            0.004165\nAL            0.004144\nSD            0.004061\nIA            0.003507\nCO            0.003328\nHI            0.003304\nNM            0.003031\nMO            0.002970\nNE            0.002884\nRI            0.002796\nDE            0.002290\nMS            0.002075\nUT            0.002032\nMD            0.002009\nME            0.001889\nAZ            0.001739\nAK            0.001448\nVI            0.001073\nND            0.000620\nWY            0.000480\nNY            0.000418\ndtype: float64"
     },
     "execution_count": 18,
     "metadata": {},
     "output_type": "execute_result"
    }
   ],
   "source": [
    "assessments.drop_duplicates(subset=['assessmentUnitIdentifier', 'useName', 'reportingCycleText',  'parameterName', 'assessment_date'])[['state_code']].value_counts(normalize=True)"
   ],
   "metadata": {
    "collapsed": false,
    "pycharm": {
     "name": "#%%\n"
    }
   }
  },
  {
   "cell_type": "markdown",
   "source": [
    "### Which states have the highest and lowest rates of impairments per assessment unit?"
   ],
   "metadata": {
    "collapsed": false,
    "pycharm": {
     "name": "#%% md\n"
    }
   }
  },
  {
   "cell_type": "code",
   "execution_count": 19,
   "outputs": [],
   "source": [
    "# Get counts of assessment units in each state\n",
    "AU_counts = AUs.drop_duplicates('AUID').groupby('stateCode', as_index=False).count()[['stateCode', 'AUID']].rename(columns={'AUID':'AUs'})"
   ],
   "metadata": {
    "collapsed": false,
    "pycharm": {
     "name": "#%%\n"
    }
   }
  },
  {
   "cell_type": "code",
   "execution_count": 20,
   "outputs": [],
   "source": [
    "rates = pd.DataFrame(assessments.drop_duplicates(subset=['assessmentUnitIdentifier', 'useName',  'parameterName', 'reportingCycleText', 'assessment_date'])['state_code'].value_counts())\n",
    "rates = rates.reset_index().rename(columns = {'index':'state', 'state_code':'# impairments'})\n",
    "rates = rates.merge(AU_counts, left_on='state', right_on='stateCode', how='left')\n",
    "rates['Impairment rate'] = rates['# impairments']/rates['AUs']"
   ],
   "metadata": {
    "collapsed": false,
    "pycharm": {
     "name": "#%%\n"
    }
   }
  },
  {
   "cell_type": "code",
   "execution_count": 21,
   "outputs": [
    {
     "data": {
      "text/plain": "   state  # impairments stateCode   AUs  Impairment rate\n6     NJ         163360        NJ   958       170.521921\n9     NV         100786        NV   711       141.752461\n2     KS         320045        KS  2421       132.195374\n3     CA         223161        CA  4068        54.857670\n13    MT          64186        MT  1203        53.354946\n28    PR          18403        PR   358        51.405028\n33    SD          15022        SD   400        37.555000\n26    LA          19206        LA   562        34.174377\n17    OH          57812        OH  1723        33.553105\n5     FL         187714        FL  7067        26.562049",
      "text/html": "<div>\n<style scoped>\n    .dataframe tbody tr th:only-of-type {\n        vertical-align: middle;\n    }\n\n    .dataframe tbody tr th {\n        vertical-align: top;\n    }\n\n    .dataframe thead th {\n        text-align: right;\n    }\n</style>\n<table border=\"1\" class=\"dataframe\">\n  <thead>\n    <tr style=\"text-align: right;\">\n      <th></th>\n      <th>state</th>\n      <th># impairments</th>\n      <th>stateCode</th>\n      <th>AUs</th>\n      <th>Impairment rate</th>\n    </tr>\n  </thead>\n  <tbody>\n    <tr>\n      <th>6</th>\n      <td>NJ</td>\n      <td>163360</td>\n      <td>NJ</td>\n      <td>958</td>\n      <td>170.521921</td>\n    </tr>\n    <tr>\n      <th>9</th>\n      <td>NV</td>\n      <td>100786</td>\n      <td>NV</td>\n      <td>711</td>\n      <td>141.752461</td>\n    </tr>\n    <tr>\n      <th>2</th>\n      <td>KS</td>\n      <td>320045</td>\n      <td>KS</td>\n      <td>2421</td>\n      <td>132.195374</td>\n    </tr>\n    <tr>\n      <th>3</th>\n      <td>CA</td>\n      <td>223161</td>\n      <td>CA</td>\n      <td>4068</td>\n      <td>54.857670</td>\n    </tr>\n    <tr>\n      <th>13</th>\n      <td>MT</td>\n      <td>64186</td>\n      <td>MT</td>\n      <td>1203</td>\n      <td>53.354946</td>\n    </tr>\n    <tr>\n      <th>28</th>\n      <td>PR</td>\n      <td>18403</td>\n      <td>PR</td>\n      <td>358</td>\n      <td>51.405028</td>\n    </tr>\n    <tr>\n      <th>33</th>\n      <td>SD</td>\n      <td>15022</td>\n      <td>SD</td>\n      <td>400</td>\n      <td>37.555000</td>\n    </tr>\n    <tr>\n      <th>26</th>\n      <td>LA</td>\n      <td>19206</td>\n      <td>LA</td>\n      <td>562</td>\n      <td>34.174377</td>\n    </tr>\n    <tr>\n      <th>17</th>\n      <td>OH</td>\n      <td>57812</td>\n      <td>OH</td>\n      <td>1723</td>\n      <td>33.553105</td>\n    </tr>\n    <tr>\n      <th>5</th>\n      <td>FL</td>\n      <td>187714</td>\n      <td>FL</td>\n      <td>7067</td>\n      <td>26.562049</td>\n    </tr>\n  </tbody>\n</table>\n</div>"
     },
     "execution_count": 21,
     "metadata": {},
     "output_type": "execute_result"
    }
   ],
   "source": [
    "rates.sort_values(by='Impairment rate', ascending=False).head(10)"
   ],
   "metadata": {
    "collapsed": false,
    "pycharm": {
     "name": "#%%\n"
    }
   }
  },
  {
   "cell_type": "code",
   "execution_count": 22,
   "outputs": [
    {
     "data": {
      "text/plain": "   state  # impairments stateCode     AUs  Impairment rate\n45    ME           6989        ME    1967         3.553127\n34    IA          12973        IA    4924         2.634647\n0     PA         555891        PA  216735         2.564842\n38    MO          10988        MO    4331         2.537058\n39    NE          10671        NE    4269         2.499649\n15    MN          61579        MN   28213         2.182646\n8     WV         125659        WV   60450         2.078726\n49    ND           2294        ND    1834         1.250818\n23    WI          39357        WI   35583         1.106062\n51    NY           1548        NY    4873         0.317669",
      "text/html": "<div>\n<style scoped>\n    .dataframe tbody tr th:only-of-type {\n        vertical-align: middle;\n    }\n\n    .dataframe tbody tr th {\n        vertical-align: top;\n    }\n\n    .dataframe thead th {\n        text-align: right;\n    }\n</style>\n<table border=\"1\" class=\"dataframe\">\n  <thead>\n    <tr style=\"text-align: right;\">\n      <th></th>\n      <th>state</th>\n      <th># impairments</th>\n      <th>stateCode</th>\n      <th>AUs</th>\n      <th>Impairment rate</th>\n    </tr>\n  </thead>\n  <tbody>\n    <tr>\n      <th>45</th>\n      <td>ME</td>\n      <td>6989</td>\n      <td>ME</td>\n      <td>1967</td>\n      <td>3.553127</td>\n    </tr>\n    <tr>\n      <th>34</th>\n      <td>IA</td>\n      <td>12973</td>\n      <td>IA</td>\n      <td>4924</td>\n      <td>2.634647</td>\n    </tr>\n    <tr>\n      <th>0</th>\n      <td>PA</td>\n      <td>555891</td>\n      <td>PA</td>\n      <td>216735</td>\n      <td>2.564842</td>\n    </tr>\n    <tr>\n      <th>38</th>\n      <td>MO</td>\n      <td>10988</td>\n      <td>MO</td>\n      <td>4331</td>\n      <td>2.537058</td>\n    </tr>\n    <tr>\n      <th>39</th>\n      <td>NE</td>\n      <td>10671</td>\n      <td>NE</td>\n      <td>4269</td>\n      <td>2.499649</td>\n    </tr>\n    <tr>\n      <th>15</th>\n      <td>MN</td>\n      <td>61579</td>\n      <td>MN</td>\n      <td>28213</td>\n      <td>2.182646</td>\n    </tr>\n    <tr>\n      <th>8</th>\n      <td>WV</td>\n      <td>125659</td>\n      <td>WV</td>\n      <td>60450</td>\n      <td>2.078726</td>\n    </tr>\n    <tr>\n      <th>49</th>\n      <td>ND</td>\n      <td>2294</td>\n      <td>ND</td>\n      <td>1834</td>\n      <td>1.250818</td>\n    </tr>\n    <tr>\n      <th>23</th>\n      <td>WI</td>\n      <td>39357</td>\n      <td>WI</td>\n      <td>35583</td>\n      <td>1.106062</td>\n    </tr>\n    <tr>\n      <th>51</th>\n      <td>NY</td>\n      <td>1548</td>\n      <td>NY</td>\n      <td>4873</td>\n      <td>0.317669</td>\n    </tr>\n  </tbody>\n</table>\n</div>"
     },
     "execution_count": 22,
     "metadata": {},
     "output_type": "execute_result"
    }
   ],
   "source": [
    "rates.sort_values(by='Impairment rate', ascending=False).tail(10)"
   ],
   "metadata": {
    "collapsed": false,
    "pycharm": {
     "name": "#%%\n"
    }
   }
  },
  {
   "cell_type": "markdown",
   "source": [
    "Note: this table counts an impairment as a unique combination of a parameter x use x AUID x reportingCycle. Thus, having one parameter lead to 5 uses being impaired will have the same effect on impairment rate as 5 parameters each leading to one use being impaired."
   ],
   "metadata": {
    "collapsed": false,
    "pycharm": {
     "name": "#%% md\n"
    }
   }
  },
  {
   "cell_type": "markdown",
   "source": [
    "### For what fraction of use assessments do we have an assessment date?"
   ],
   "metadata": {
    "collapsed": false,
    "pycharm": {
     "name": "#%% md\n"
    }
   }
  },
  {
   "cell_type": "code",
   "execution_count": 23,
   "outputs": [
    {
     "data": {
      "text/plain": "0.24951797240528864"
     },
     "execution_count": 23,
     "metadata": {},
     "output_type": "execute_result"
    }
   ],
   "source": [
    "use_assessments_unique = assessments.drop_duplicates(subset=['assessmentUnitIdentifier', 'useName', 'parameterName', 'reportingCycleText', 'assessment_date'])\n",
    "use_assessments_unique[~pd.isna(use_assessments_unique['assessment_date'])].shape[0]/use_assessments_unique.shape[0]"
   ],
   "metadata": {
    "collapsed": false,
    "pycharm": {
     "name": "#%%\n"
    }
   }
  },
  {
   "cell_type": "markdown",
   "source": [
    "### What parameters have caused the most impairments?"
   ],
   "metadata": {
    "collapsed": false,
    "pycharm": {
     "name": "#%% md\n"
    }
   }
  },
  {
   "cell_type": "code",
   "execution_count": 24,
   "outputs": [
    {
     "data": {
      "text/plain": "ESCHERICHIA COLI (E. COLI)          0.066455\nPATHOGENS                           0.065500\nSILTATION                           0.060735\nFECAL COLIFORM                      0.051016\nDISSOLVED OXYGEN                    0.046293\nPH                                  0.042407\nMERCURY                             0.041189\nMERCURY IN FISH TISSUE              0.036908\nPCBS IN FISH TISSUE                 0.030882\nPOLYCHLORINATED BIPHENYLS (PCBS)    0.026713\nName: parameterName, dtype: float64"
     },
     "execution_count": 24,
     "metadata": {},
     "output_type": "execute_result"
    }
   ],
   "source": [
    "use_assessments_unique[use_assessments_unique['parameterStatusName']=='Cause']['parameterName'].value_counts(normalize=True).iloc[0:10]"
   ],
   "metadata": {
    "collapsed": false,
    "pycharm": {
     "name": "#%%\n"
    }
   }
  },
  {
   "cell_type": "markdown",
   "source": [
    "### What parameters have caused the most assessment units to be impaired, irrespective of number of use non-attainment declarations?"
   ],
   "metadata": {
    "collapsed": false,
    "pycharm": {
     "name": "#%% md\n"
    }
   }
  },
  {
   "cell_type": "code",
   "execution_count": 25,
   "outputs": [
    {
     "data": {
      "text/plain": "PATHOGENS                           0.074285\nSILTATION                           0.072638\nESCHERICHIA COLI (E. COLI)          0.068849\nMERCURY                             0.052655\nMERCURY IN FISH TISSUE              0.046431\nFECAL COLIFORM                      0.042380\nPH                                  0.040274\nDISSOLVED OXYGEN                    0.038449\nMETALS                              0.034789\nPOLYCHLORINATED BIPHENYLS (PCBS)    0.027160\nName: parameterName, dtype: float64"
     },
     "execution_count": 25,
     "metadata": {},
     "output_type": "execute_result"
    }
   ],
   "source": [
    "culprits_unique = assessments.drop_duplicates(subset=['assessmentUnitIdentifier', 'reportingCycleText', 'assessment_date', 'parameterName'])\n",
    "\n",
    "culprits_unique[culprits_unique['parameterStatusName']=='Cause']['parameterName'].value_counts(normalize=True).iloc[0:10]"
   ],
   "metadata": {
    "collapsed": false,
    "pycharm": {
     "name": "#%%\n"
    }
   }
  },
  {
   "cell_type": "markdown",
   "source": [
    "### What uses have the highest rate of non-attainment?"
   ],
   "metadata": {
    "collapsed": false,
    "pycharm": {
     "name": "#%% md\n"
    }
   }
  },
  {
   "cell_type": "code",
   "execution_count": 26,
   "outputs": [
    {
     "data": {
      "text/plain": "Fish Consumption              0.145012\nAquatic Life                  0.063840\nPrimary Contact Recreation    0.044730\nWater Contact Sports          0.043442\nRecreation                    0.038429\nAQUATIC LIFE USE              0.036220\nWarm Water Fishes             0.031540\nCold Water Fishes             0.028787\nDomestic Water Supply         0.025068\nAquatic Life Integrity        0.022380\nName: useName, dtype: float64"
     },
     "execution_count": 26,
     "metadata": {},
     "output_type": "execute_result"
    }
   ],
   "source": [
    "use_assessments_unique['useName'].value_counts(normalize=True).iloc[0:10]"
   ],
   "metadata": {
    "collapsed": false,
    "pycharm": {
     "name": "#%%\n"
    }
   }
  },
  {
   "cell_type": "markdown",
   "source": [
    "Let's look at an example of one AUID x use x parameter combination over time:"
   ],
   "metadata": {
    "collapsed": false,
    "pycharm": {
     "name": "#%% md\n"
    }
   }
  },
  {
   "cell_type": "code",
   "execution_count": 27,
   "outputs": [
    {
     "data": {
      "text/plain": "      Unnamed: 0 state_code organizationIdentifier organizationTypeText  \\\n1694        1695         AL                 21AWIC                State   \n3225        3226         AL                 21AWIC                State   \n4861        4862         AL                 21AWIC                State   \n6506        6507         AL                 21AWIC                State   \n8143        8144         AL                 21AWIC                State   \n\n     reportingCycleText assessmentUnitIdentifier             useName  \\\n1694               2006      AL03140106-0302-202  Contact Recreation   \n3225               2008      AL03140106-0302-202  Contact Recreation   \n4861               2010      AL03140106-0302-202  Contact Recreation   \n6506               2012      AL03140106-0302-202  Contact Recreation   \n8143               2014      AL03140106-0302-202  Contact Recreation   \n\n     useAttainmentCode epaIRCategory associatedActionIdentifier  \\\n1694                 N           NaN                        NaN   \n3225                 N             5                        NaN   \n4861                 N             5                        NaN   \n6506                 N             5                        NaN   \n8143                 N             5                        NaN   \n\n     threatenedIndicator parameterStatusName   parameterName  \\\n1694                   N               Cause  AMMONIA, TOTAL   \n3225                   N               Cause  AMMONIA, TOTAL   \n4861                   N               Cause  AMMONIA, TOTAL   \n6506                   N               Cause  AMMONIA, TOTAL   \n8143                   N               Cause  AMMONIA, TOTAL   \n\n      cycle_first_listed  cycleLastAssessedText  cycle_scheduled_for_TMDL  \\\n1694              2006.0                   2006                       NaN   \n3225              2006.0                   2008                    2010.0   \n4861              1998.0                   2006                    2015.0   \n6506              1998.0                   2006                    2015.0   \n8143              1998.0                   2006                    2016.0   \n\n     assessment_date  \n1694      2006-04-01  \n3225      2006-04-01  \n4861      2006-04-01  \n6506      2006-04-01  \n8143      2006-04-01  ",
      "text/html": "<div>\n<style scoped>\n    .dataframe tbody tr th:only-of-type {\n        vertical-align: middle;\n    }\n\n    .dataframe tbody tr th {\n        vertical-align: top;\n    }\n\n    .dataframe thead th {\n        text-align: right;\n    }\n</style>\n<table border=\"1\" class=\"dataframe\">\n  <thead>\n    <tr style=\"text-align: right;\">\n      <th></th>\n      <th>Unnamed: 0</th>\n      <th>state_code</th>\n      <th>organizationIdentifier</th>\n      <th>organizationTypeText</th>\n      <th>reportingCycleText</th>\n      <th>assessmentUnitIdentifier</th>\n      <th>useName</th>\n      <th>useAttainmentCode</th>\n      <th>epaIRCategory</th>\n      <th>associatedActionIdentifier</th>\n      <th>threatenedIndicator</th>\n      <th>parameterStatusName</th>\n      <th>parameterName</th>\n      <th>cycle_first_listed</th>\n      <th>cycleLastAssessedText</th>\n      <th>cycle_scheduled_for_TMDL</th>\n      <th>assessment_date</th>\n    </tr>\n  </thead>\n  <tbody>\n    <tr>\n      <th>1694</th>\n      <td>1695</td>\n      <td>AL</td>\n      <td>21AWIC</td>\n      <td>State</td>\n      <td>2006</td>\n      <td>AL03140106-0302-202</td>\n      <td>Contact Recreation</td>\n      <td>N</td>\n      <td>NaN</td>\n      <td>NaN</td>\n      <td>N</td>\n      <td>Cause</td>\n      <td>AMMONIA, TOTAL</td>\n      <td>2006.0</td>\n      <td>2006</td>\n      <td>NaN</td>\n      <td>2006-04-01</td>\n    </tr>\n    <tr>\n      <th>3225</th>\n      <td>3226</td>\n      <td>AL</td>\n      <td>21AWIC</td>\n      <td>State</td>\n      <td>2008</td>\n      <td>AL03140106-0302-202</td>\n      <td>Contact Recreation</td>\n      <td>N</td>\n      <td>5</td>\n      <td>NaN</td>\n      <td>N</td>\n      <td>Cause</td>\n      <td>AMMONIA, TOTAL</td>\n      <td>2006.0</td>\n      <td>2008</td>\n      <td>2010.0</td>\n      <td>2006-04-01</td>\n    </tr>\n    <tr>\n      <th>4861</th>\n      <td>4862</td>\n      <td>AL</td>\n      <td>21AWIC</td>\n      <td>State</td>\n      <td>2010</td>\n      <td>AL03140106-0302-202</td>\n      <td>Contact Recreation</td>\n      <td>N</td>\n      <td>5</td>\n      <td>NaN</td>\n      <td>N</td>\n      <td>Cause</td>\n      <td>AMMONIA, TOTAL</td>\n      <td>1998.0</td>\n      <td>2006</td>\n      <td>2015.0</td>\n      <td>2006-04-01</td>\n    </tr>\n    <tr>\n      <th>6506</th>\n      <td>6507</td>\n      <td>AL</td>\n      <td>21AWIC</td>\n      <td>State</td>\n      <td>2012</td>\n      <td>AL03140106-0302-202</td>\n      <td>Contact Recreation</td>\n      <td>N</td>\n      <td>5</td>\n      <td>NaN</td>\n      <td>N</td>\n      <td>Cause</td>\n      <td>AMMONIA, TOTAL</td>\n      <td>1998.0</td>\n      <td>2006</td>\n      <td>2015.0</td>\n      <td>2006-04-01</td>\n    </tr>\n    <tr>\n      <th>8143</th>\n      <td>8144</td>\n      <td>AL</td>\n      <td>21AWIC</td>\n      <td>State</td>\n      <td>2014</td>\n      <td>AL03140106-0302-202</td>\n      <td>Contact Recreation</td>\n      <td>N</td>\n      <td>5</td>\n      <td>NaN</td>\n      <td>N</td>\n      <td>Cause</td>\n      <td>AMMONIA, TOTAL</td>\n      <td>1998.0</td>\n      <td>2006</td>\n      <td>2016.0</td>\n      <td>2006-04-01</td>\n    </tr>\n  </tbody>\n</table>\n</div>"
     },
     "execution_count": 27,
     "metadata": {},
     "output_type": "execute_result"
    }
   ],
   "source": [
    "assessments[(assessments['assessmentUnitIdentifier']=='AL03140106-0302-202') &\n",
    "            (assessments['useName']=='Contact Recreation') &\n",
    "            (assessments['parameterName']=='AMMONIA, TOTAL')].sort_values(by='reportingCycleText').drop_duplicates()"
   ],
   "metadata": {
    "collapsed": false,
    "pycharm": {
     "name": "#%%\n"
    }
   }
  },
  {
   "cell_type": "markdown",
   "source": [
    "Clearly, the fields `cycle_first_listed` and `cycleLastAssessedText` are misleading."
   ],
   "metadata": {
    "collapsed": false,
    "pycharm": {
     "name": "#%% md\n"
    }
   }
  },
  {
   "cell_type": "markdown",
   "source": [
    "### Which states have the most and fewest reporting cycles present in ATTAINS?"
   ],
   "metadata": {
    "collapsed": false,
    "pycharm": {
     "name": "#%% md\n"
    }
   }
  },
  {
   "cell_type": "code",
   "execution_count": 28,
   "outputs": [
    {
     "data": {
      "text/plain": "            reportingCycleText\nstate_code                    \nLA                          11\nNM                          11\nVI                          11\nVA                          11\nMS                          11\nCT                          11\nTX                          11\nOK                          11\nTN                          11\nIA                          11\nSD                          11\nNE                          11\nMI                          10\nNJ                          10\nNC                          10",
      "text/html": "<div>\n<style scoped>\n    .dataframe tbody tr th:only-of-type {\n        vertical-align: middle;\n    }\n\n    .dataframe tbody tr th {\n        vertical-align: top;\n    }\n\n    .dataframe thead th {\n        text-align: right;\n    }\n</style>\n<table border=\"1\" class=\"dataframe\">\n  <thead>\n    <tr style=\"text-align: right;\">\n      <th></th>\n      <th>reportingCycleText</th>\n    </tr>\n    <tr>\n      <th>state_code</th>\n      <th></th>\n    </tr>\n  </thead>\n  <tbody>\n    <tr>\n      <th>LA</th>\n      <td>11</td>\n    </tr>\n    <tr>\n      <th>NM</th>\n      <td>11</td>\n    </tr>\n    <tr>\n      <th>VI</th>\n      <td>11</td>\n    </tr>\n    <tr>\n      <th>VA</th>\n      <td>11</td>\n    </tr>\n    <tr>\n      <th>MS</th>\n      <td>11</td>\n    </tr>\n    <tr>\n      <th>CT</th>\n      <td>11</td>\n    </tr>\n    <tr>\n      <th>TX</th>\n      <td>11</td>\n    </tr>\n    <tr>\n      <th>OK</th>\n      <td>11</td>\n    </tr>\n    <tr>\n      <th>TN</th>\n      <td>11</td>\n    </tr>\n    <tr>\n      <th>IA</th>\n      <td>11</td>\n    </tr>\n    <tr>\n      <th>SD</th>\n      <td>11</td>\n    </tr>\n    <tr>\n      <th>NE</th>\n      <td>11</td>\n    </tr>\n    <tr>\n      <th>MI</th>\n      <td>10</td>\n    </tr>\n    <tr>\n      <th>NJ</th>\n      <td>10</td>\n    </tr>\n    <tr>\n      <th>NC</th>\n      <td>10</td>\n    </tr>\n  </tbody>\n</table>\n</div>"
     },
     "execution_count": 28,
     "metadata": {},
     "output_type": "execute_result"
    }
   ],
   "source": [
    "state_reporting_cycles = assessments.groupby('state_code').nunique()[['reportingCycleText']].sort_values('reportingCycleText', ascending=False)\n",
    "\n",
    "state_reporting_cycles.head(15)"
   ],
   "metadata": {
    "collapsed": false,
    "pycharm": {
     "name": "#%%\n"
    }
   }
  },
  {
   "cell_type": "code",
   "execution_count": 29,
   "outputs": [
    {
     "data": {
      "text/plain": "            reportingCycleText\nstate_code                    \nOH                           8\nIL                           8\nWI                           7\nAR                           6\nMD                           5\nFL                           4\nPA                           4\nOR                           3\nWA                           2\nNY                           1",
      "text/html": "<div>\n<style scoped>\n    .dataframe tbody tr th:only-of-type {\n        vertical-align: middle;\n    }\n\n    .dataframe tbody tr th {\n        vertical-align: top;\n    }\n\n    .dataframe thead th {\n        text-align: right;\n    }\n</style>\n<table border=\"1\" class=\"dataframe\">\n  <thead>\n    <tr style=\"text-align: right;\">\n      <th></th>\n      <th>reportingCycleText</th>\n    </tr>\n    <tr>\n      <th>state_code</th>\n      <th></th>\n    </tr>\n  </thead>\n  <tbody>\n    <tr>\n      <th>OH</th>\n      <td>8</td>\n    </tr>\n    <tr>\n      <th>IL</th>\n      <td>8</td>\n    </tr>\n    <tr>\n      <th>WI</th>\n      <td>7</td>\n    </tr>\n    <tr>\n      <th>AR</th>\n      <td>6</td>\n    </tr>\n    <tr>\n      <th>MD</th>\n      <td>5</td>\n    </tr>\n    <tr>\n      <th>FL</th>\n      <td>4</td>\n    </tr>\n    <tr>\n      <th>PA</th>\n      <td>4</td>\n    </tr>\n    <tr>\n      <th>OR</th>\n      <td>3</td>\n    </tr>\n    <tr>\n      <th>WA</th>\n      <td>2</td>\n    </tr>\n    <tr>\n      <th>NY</th>\n      <td>1</td>\n    </tr>\n  </tbody>\n</table>\n</div>"
     },
     "execution_count": 29,
     "metadata": {},
     "output_type": "execute_result"
    }
   ],
   "source": [
    "state_reporting_cycles.tail(10)"
   ],
   "metadata": {
    "collapsed": false,
    "pycharm": {
     "name": "#%%\n"
    }
   }
  },
  {
   "cell_type": "markdown",
   "source": [
    "### What is the distribution of times when an AUID first appears on a 303(d) list in ATTAINS?"
   ],
   "metadata": {
    "collapsed": false,
    "pycharm": {
     "name": "#%% md\n"
    }
   }
  },
  {
   "cell_type": "code",
   "execution_count": 30,
   "outputs": [],
   "source": [
    "# Determine first appearance on a 303(d) list in ATTAINS\n",
    "appearance_dates = assessments.groupby(['assessmentUnitIdentifier', 'parameterName'], as_index=False).min()[\n",
    "        ['assessmentUnitIdentifier', 'parameterName', 'reportingCycleText']]\n",
    "appearance_dates.rename(columns={'reportingCycleText': 'appearance_date'},\n",
    "                               inplace=True)\n",
    "appearance_dates['appearance_date'] = pd.to_datetime(appearance_dates['appearance_date']).dt.year"
   ],
   "metadata": {
    "collapsed": false,
    "pycharm": {
     "name": "#%%\n"
    }
   }
  },
  {
   "cell_type": "code",
   "execution_count": 31,
   "outputs": [
    {
     "data": {
      "text/plain": "   Unnamed: 0 state_code organizationIdentifier organizationTypeText  \\\n0           1         AL                 21AWIC                State   \n1           3         AL                 21AWIC                State   \n2           5         AL                 21AWIC                State   \n3           7         AL                 21AWIC                State   \n4           9         AL                 21AWIC                State   \n\n  reportingCycleText assessmentUnitIdentifier  \\\n0               2004        AL-Gulf of Mexico   \n1               2004        AL-Gulf of Mexico   \n2               2004        AL-Gulf of Mexico   \n3               2004        AL-Gulf of Mexico   \n4               2004        AL-Gulf of Mexico   \n\n                            useName useAttainmentCode epaIRCategory  \\\n0                Contact Recreation                 N           NaN   \n1                           Fishing                 N           NaN   \n2  Propagation of Fish and Wildlife                 N           NaN   \n3                      Shellfishing                 N           NaN   \n4   Industrial and Agriculture Uses                 N           NaN   \n\n  associatedActionIdentifier threatenedIndicator parameterStatusName  \\\n0                        NaN                   N               Cause   \n1                        NaN                   N               Cause   \n2                        NaN                   N               Cause   \n3                        NaN                   N               Cause   \n4                        NaN                   N               Cause   \n\n  parameterName  cycle_first_listed  cycleLastAssessedText  \\\n0       MERCURY              2004.0                   2002   \n1       MERCURY              2004.0                   2002   \n2       MERCURY              2004.0                   2002   \n3       MERCURY              2004.0                   2002   \n4       MERCURY              2004.0                   2002   \n\n   cycle_scheduled_for_TMDL assessment_date  appearance_date  \n0                       NaN             NaT             2004  \n1                       NaN             NaT             2004  \n2                       NaN             NaT             2004  \n3                       NaN             NaT             2004  \n4                       NaN             NaT             2004  ",
      "text/html": "<div>\n<style scoped>\n    .dataframe tbody tr th:only-of-type {\n        vertical-align: middle;\n    }\n\n    .dataframe tbody tr th {\n        vertical-align: top;\n    }\n\n    .dataframe thead th {\n        text-align: right;\n    }\n</style>\n<table border=\"1\" class=\"dataframe\">\n  <thead>\n    <tr style=\"text-align: right;\">\n      <th></th>\n      <th>Unnamed: 0</th>\n      <th>state_code</th>\n      <th>organizationIdentifier</th>\n      <th>organizationTypeText</th>\n      <th>reportingCycleText</th>\n      <th>assessmentUnitIdentifier</th>\n      <th>useName</th>\n      <th>useAttainmentCode</th>\n      <th>epaIRCategory</th>\n      <th>associatedActionIdentifier</th>\n      <th>threatenedIndicator</th>\n      <th>parameterStatusName</th>\n      <th>parameterName</th>\n      <th>cycle_first_listed</th>\n      <th>cycleLastAssessedText</th>\n      <th>cycle_scheduled_for_TMDL</th>\n      <th>assessment_date</th>\n      <th>appearance_date</th>\n    </tr>\n  </thead>\n  <tbody>\n    <tr>\n      <th>0</th>\n      <td>1</td>\n      <td>AL</td>\n      <td>21AWIC</td>\n      <td>State</td>\n      <td>2004</td>\n      <td>AL-Gulf of Mexico</td>\n      <td>Contact Recreation</td>\n      <td>N</td>\n      <td>NaN</td>\n      <td>NaN</td>\n      <td>N</td>\n      <td>Cause</td>\n      <td>MERCURY</td>\n      <td>2004.0</td>\n      <td>2002</td>\n      <td>NaN</td>\n      <td>NaT</td>\n      <td>2004</td>\n    </tr>\n    <tr>\n      <th>1</th>\n      <td>3</td>\n      <td>AL</td>\n      <td>21AWIC</td>\n      <td>State</td>\n      <td>2004</td>\n      <td>AL-Gulf of Mexico</td>\n      <td>Fishing</td>\n      <td>N</td>\n      <td>NaN</td>\n      <td>NaN</td>\n      <td>N</td>\n      <td>Cause</td>\n      <td>MERCURY</td>\n      <td>2004.0</td>\n      <td>2002</td>\n      <td>NaN</td>\n      <td>NaT</td>\n      <td>2004</td>\n    </tr>\n    <tr>\n      <th>2</th>\n      <td>5</td>\n      <td>AL</td>\n      <td>21AWIC</td>\n      <td>State</td>\n      <td>2004</td>\n      <td>AL-Gulf of Mexico</td>\n      <td>Propagation of Fish and Wildlife</td>\n      <td>N</td>\n      <td>NaN</td>\n      <td>NaN</td>\n      <td>N</td>\n      <td>Cause</td>\n      <td>MERCURY</td>\n      <td>2004.0</td>\n      <td>2002</td>\n      <td>NaN</td>\n      <td>NaT</td>\n      <td>2004</td>\n    </tr>\n    <tr>\n      <th>3</th>\n      <td>7</td>\n      <td>AL</td>\n      <td>21AWIC</td>\n      <td>State</td>\n      <td>2004</td>\n      <td>AL-Gulf of Mexico</td>\n      <td>Shellfishing</td>\n      <td>N</td>\n      <td>NaN</td>\n      <td>NaN</td>\n      <td>N</td>\n      <td>Cause</td>\n      <td>MERCURY</td>\n      <td>2004.0</td>\n      <td>2002</td>\n      <td>NaN</td>\n      <td>NaT</td>\n      <td>2004</td>\n    </tr>\n    <tr>\n      <th>4</th>\n      <td>9</td>\n      <td>AL</td>\n      <td>21AWIC</td>\n      <td>State</td>\n      <td>2004</td>\n      <td>AL-Gulf of Mexico</td>\n      <td>Industrial and Agriculture Uses</td>\n      <td>N</td>\n      <td>NaN</td>\n      <td>NaN</td>\n      <td>N</td>\n      <td>Cause</td>\n      <td>MERCURY</td>\n      <td>2004.0</td>\n      <td>2002</td>\n      <td>NaN</td>\n      <td>NaT</td>\n      <td>2004</td>\n    </tr>\n  </tbody>\n</table>\n</div>"
     },
     "execution_count": 31,
     "metadata": {},
     "output_type": "execute_result"
    }
   ],
   "source": [
    "test = assessments.merge(appearance_dates, on=['assessmentUnitIdentifier', 'parameterName'], how='inner')\n",
    "test.head()"
   ],
   "metadata": {
    "collapsed": false,
    "pycharm": {
     "name": "#%%\n"
    }
   }
  },
  {
   "cell_type": "markdown",
   "source": [
    "TODO: change `appearance_date` from january 1st to just the year"
   ],
   "metadata": {
    "collapsed": false,
    "pycharm": {
     "name": "#%% md\n"
    }
   }
  },
  {
   "cell_type": "markdown",
   "source": [
    "# 3. Actions"
   ],
   "metadata": {
    "collapsed": false,
    "pycharm": {
     "name": "#%% md\n"
    }
   }
  },
  {
   "cell_type": "markdown",
   "source": [
    "### How many unique TMDL actions do we have?"
   ],
   "metadata": {
    "collapsed": false,
    "pycharm": {
     "name": "#%% md\n"
    }
   }
  },
  {
   "cell_type": "code",
   "execution_count": 32,
   "outputs": [
    {
     "data": {
      "text/plain": "20009"
     },
     "execution_count": 32,
     "metadata": {},
     "output_type": "execute_result"
    }
   ],
   "source": [
    "len(all_actions.drop_duplicates(subset='actionIdentifier'))"
   ],
   "metadata": {
    "collapsed": false,
    "pycharm": {
     "name": "#%%\n"
    }
   }
  },
  {
   "cell_type": "markdown",
   "source": [
    "How does this compare to the number of unique actions in our assessments table?"
   ],
   "metadata": {
    "collapsed": false,
    "pycharm": {
     "name": "#%% md\n"
    }
   }
  },
  {
   "cell_type": "code",
   "execution_count": 33,
   "outputs": [
    {
     "data": {
      "text/plain": "21816"
     },
     "execution_count": 33,
     "metadata": {},
     "output_type": "execute_result"
    }
   ],
   "source": [
    "len(assessments.drop_duplicates(subset='associatedActionIdentifier'))"
   ],
   "metadata": {
    "collapsed": false,
    "pycharm": {
     "name": "#%%\n"
    }
   }
  },
  {
   "cell_type": "markdown",
   "source": [
    "### How many unique AUs are represented in the actions data?"
   ],
   "metadata": {
    "collapsed": false,
    "pycharm": {
     "name": "#%% md\n"
    }
   }
  },
  {
   "cell_type": "code",
   "execution_count": 34,
   "outputs": [
    {
     "data": {
      "text/plain": "96171"
     },
     "execution_count": 34,
     "metadata": {},
     "output_type": "execute_result"
    }
   ],
   "source": [
    "len(all_actions.drop_duplicates(subset='assessmentUnitIdentifier'))"
   ],
   "metadata": {
    "collapsed": false,
    "pycharm": {
     "name": "#%%\n"
    }
   }
  },
  {
   "cell_type": "markdown",
   "source": [
    "### Which states have the most TMDL actions?"
   ],
   "metadata": {
    "collapsed": false,
    "pycharm": {
     "name": "#%% md\n"
    }
   }
  },
  {
   "cell_type": "code",
   "execution_count": 35,
   "outputs": [
    {
     "data": {
      "text/plain": "WV    0.268479\nKS    0.101804\nVA    0.088460\nMD    0.042031\nMT    0.028787\nDE    0.028237\nCO    0.022990\nOK    0.021290\nFL    0.020241\nCA    0.019791\nName: state_code, dtype: float64"
     },
     "execution_count": 35,
     "metadata": {},
     "output_type": "execute_result"
    }
   ],
   "source": [
    "all_actions.drop_duplicates(subset='actionIdentifier')['state_code'].value_counts(normalize=True).iloc[0:10]"
   ],
   "metadata": {
    "collapsed": false,
    "pycharm": {
     "name": "#%%\n"
    }
   }
  },
  {
   "cell_type": "markdown",
   "source": [
    "### Which states have the highest and lowest rates of TMDL actions per AUID?"
   ],
   "metadata": {
    "collapsed": false,
    "pycharm": {
     "name": "#%% md\n"
    }
   }
  },
  {
   "cell_type": "code",
   "execution_count": 36,
   "outputs": [
    {
     "data": {
      "text/plain": "   state  # TMDLs stateCode   AUs  TMDL rate\n5     DE      565        DE   590   0.957627\n13    SD      369        SD   400   0.922500\n3     MD      841        MD   971   0.866117\n1     KS     2037        KS  2421   0.841388\n11    LA      395        LA   562   0.702847\n24    WY      183        WY   314   0.582803\n4     MT      576        MT  1203   0.478803\n12    MS      374        MS  1178   0.317487\n18    NJ      304        NJ   958   0.317328\n6     CO      460        CO  1893   0.243001",
      "text/html": "<div>\n<style scoped>\n    .dataframe tbody tr th:only-of-type {\n        vertical-align: middle;\n    }\n\n    .dataframe tbody tr th {\n        vertical-align: top;\n    }\n\n    .dataframe thead th {\n        text-align: right;\n    }\n</style>\n<table border=\"1\" class=\"dataframe\">\n  <thead>\n    <tr style=\"text-align: right;\">\n      <th></th>\n      <th>state</th>\n      <th># TMDLs</th>\n      <th>stateCode</th>\n      <th>AUs</th>\n      <th>TMDL rate</th>\n    </tr>\n  </thead>\n  <tbody>\n    <tr>\n      <th>5</th>\n      <td>DE</td>\n      <td>565</td>\n      <td>DE</td>\n      <td>590</td>\n      <td>0.957627</td>\n    </tr>\n    <tr>\n      <th>13</th>\n      <td>SD</td>\n      <td>369</td>\n      <td>SD</td>\n      <td>400</td>\n      <td>0.922500</td>\n    </tr>\n    <tr>\n      <th>3</th>\n      <td>MD</td>\n      <td>841</td>\n      <td>MD</td>\n      <td>971</td>\n      <td>0.866117</td>\n    </tr>\n    <tr>\n      <th>1</th>\n      <td>KS</td>\n      <td>2037</td>\n      <td>KS</td>\n      <td>2421</td>\n      <td>0.841388</td>\n    </tr>\n    <tr>\n      <th>11</th>\n      <td>LA</td>\n      <td>395</td>\n      <td>LA</td>\n      <td>562</td>\n      <td>0.702847</td>\n    </tr>\n    <tr>\n      <th>24</th>\n      <td>WY</td>\n      <td>183</td>\n      <td>WY</td>\n      <td>314</td>\n      <td>0.582803</td>\n    </tr>\n    <tr>\n      <th>4</th>\n      <td>MT</td>\n      <td>576</td>\n      <td>MT</td>\n      <td>1203</td>\n      <td>0.478803</td>\n    </tr>\n    <tr>\n      <th>12</th>\n      <td>MS</td>\n      <td>374</td>\n      <td>MS</td>\n      <td>1178</td>\n      <td>0.317487</td>\n    </tr>\n    <tr>\n      <th>18</th>\n      <td>NJ</td>\n      <td>304</td>\n      <td>NJ</td>\n      <td>958</td>\n      <td>0.317328</td>\n    </tr>\n    <tr>\n      <th>6</th>\n      <td>CO</td>\n      <td>460</td>\n      <td>CO</td>\n      <td>1893</td>\n      <td>0.243001</td>\n    </tr>\n  </tbody>\n</table>\n</div>"
     },
     "execution_count": 36,
     "metadata": {},
     "output_type": "execute_result"
    }
   ],
   "source": [
    "TMDL_rates = pd.DataFrame(all_actions.drop_duplicates(\n",
    "    subset=['actionIdentifier'])['state_code'].value_counts())\n",
    "TMDL_rates = TMDL_rates.reset_index().rename(columns={'index': 'state', 'state_code': '# TMDLs'})\n",
    "TMDL_rates = TMDL_rates[TMDL_rates['state'] != 'GU']\n",
    "TMDL_rates = TMDL_rates.merge(AU_counts, left_on='state', right_on='stateCode', how='left')\n",
    "TMDL_rates['TMDL rate'] = TMDL_rates['# TMDLs'] / TMDL_rates['AUs']\n",
    "TMDL_rates.sort_values(by='TMDL rate', ascending=False).head(10)"
   ],
   "metadata": {
    "collapsed": false,
    "pycharm": {
     "name": "#%%\n"
    }
   }
  },
  {
   "cell_type": "code",
   "execution_count": 37,
   "outputs": [
    {
     "data": {
      "text/plain": "   state  # TMDLs stateCode     AUs  TMDL rate\n37    MI      115        MI    8028   0.014325\n15    MN      344        MN   28213   0.012193\n46    KY       52        KY    6239   0.008335\n21    NH      200        NH   32484   0.006157\n35    WA      121        WA   20272   0.005969\n41    IN       94        IN   16761   0.005608\n43    NC       75        NC   13628   0.005503\n42    WI       83        WI   35583   0.002333\n14    PA      367        PA  216735   0.001693\n51    OR        5        OR    7316   0.000683",
      "text/html": "<div>\n<style scoped>\n    .dataframe tbody tr th:only-of-type {\n        vertical-align: middle;\n    }\n\n    .dataframe tbody tr th {\n        vertical-align: top;\n    }\n\n    .dataframe thead th {\n        text-align: right;\n    }\n</style>\n<table border=\"1\" class=\"dataframe\">\n  <thead>\n    <tr style=\"text-align: right;\">\n      <th></th>\n      <th>state</th>\n      <th># TMDLs</th>\n      <th>stateCode</th>\n      <th>AUs</th>\n      <th>TMDL rate</th>\n    </tr>\n  </thead>\n  <tbody>\n    <tr>\n      <th>37</th>\n      <td>MI</td>\n      <td>115</td>\n      <td>MI</td>\n      <td>8028</td>\n      <td>0.014325</td>\n    </tr>\n    <tr>\n      <th>15</th>\n      <td>MN</td>\n      <td>344</td>\n      <td>MN</td>\n      <td>28213</td>\n      <td>0.012193</td>\n    </tr>\n    <tr>\n      <th>46</th>\n      <td>KY</td>\n      <td>52</td>\n      <td>KY</td>\n      <td>6239</td>\n      <td>0.008335</td>\n    </tr>\n    <tr>\n      <th>21</th>\n      <td>NH</td>\n      <td>200</td>\n      <td>NH</td>\n      <td>32484</td>\n      <td>0.006157</td>\n    </tr>\n    <tr>\n      <th>35</th>\n      <td>WA</td>\n      <td>121</td>\n      <td>WA</td>\n      <td>20272</td>\n      <td>0.005969</td>\n    </tr>\n    <tr>\n      <th>41</th>\n      <td>IN</td>\n      <td>94</td>\n      <td>IN</td>\n      <td>16761</td>\n      <td>0.005608</td>\n    </tr>\n    <tr>\n      <th>43</th>\n      <td>NC</td>\n      <td>75</td>\n      <td>NC</td>\n      <td>13628</td>\n      <td>0.005503</td>\n    </tr>\n    <tr>\n      <th>42</th>\n      <td>WI</td>\n      <td>83</td>\n      <td>WI</td>\n      <td>35583</td>\n      <td>0.002333</td>\n    </tr>\n    <tr>\n      <th>14</th>\n      <td>PA</td>\n      <td>367</td>\n      <td>PA</td>\n      <td>216735</td>\n      <td>0.001693</td>\n    </tr>\n    <tr>\n      <th>51</th>\n      <td>OR</td>\n      <td>5</td>\n      <td>OR</td>\n      <td>7316</td>\n      <td>0.000683</td>\n    </tr>\n  </tbody>\n</table>\n</div>"
     },
     "execution_count": 37,
     "metadata": {},
     "output_type": "execute_result"
    }
   ],
   "source": [
    "TMDL_rates.sort_values(by='TMDL rate', ascending=False).tail(10)"
   ],
   "metadata": {
    "collapsed": false,
    "pycharm": {
     "name": "#%%\n"
    }
   }
  },
  {
   "cell_type": "markdown",
   "source": [
    "### What is the temporal distribution of TMDLs?"
   ],
   "metadata": {
    "collapsed": false,
    "pycharm": {
     "name": "#%% md\n"
    }
   }
  },
  {
   "cell_type": "markdown",
   "source": [
    "Based on a document here: https://www.exchangenetwork.net/schema/ATTAINS/1/ATTAINS_DET_v1.0a.xlsx , `completionDate` refers to the planned TMDL date, and `TMDLDate` refers to the actual date the TMDL was approved by EPA."
   ],
   "metadata": {
    "collapsed": false,
    "pycharm": {
     "name": "#%% md\n"
    }
   }
  },
  {
   "cell_type": "code",
   "execution_count": 38,
   "outputs": [
    {
     "data": {
      "text/plain": "<Figure size 432x288 with 1 Axes>",
      "image/png": "[encoded data removed]"
     },
     "metadata": {
      "needs_background": "light"
     },
     "output_type": "display_data"
    }
   ],
   "source": [
    "plt.title('Planned TMDL Date')\n",
    "plt.hist(all_actions.drop_duplicates(subset='actionIdentifier')['completionDate'], bins=50);"
   ],
   "metadata": {
    "collapsed": false,
    "pycharm": {
     "name": "#%%\n"
    }
   }
  },
  {
   "cell_type": "code",
   "execution_count": 39,
   "outputs": [
    {
     "data": {
      "text/plain": "<Figure size 432x288 with 1 Axes>",
      "image/png": "[encoded data removed]"
     },
     "metadata": {
      "needs_background": "light"
     },
     "output_type": "display_data"
    }
   ],
   "source": [
    "plt.title('Actual TMDL Date')\n",
    "plt.hist(all_actions.drop_duplicates(subset='actionIdentifier')['TMDLDate'], bins=50);"
   ],
   "metadata": {
    "collapsed": false,
    "pycharm": {
     "name": "#%%\n"
    }
   }
  },
  {
   "cell_type": "code",
   "execution_count": 40,
   "outputs": [
    {
     "data": {
      "text/plain": "Text(0.5, 0, 'Days')"
     },
     "execution_count": 40,
     "metadata": {},
     "output_type": "execute_result"
    },
    {
     "data": {
      "text/plain": "<Figure size 864x576 with 1 Axes>",
      "image/png": "[encoded data removed]"
     },
     "metadata": {
      "needs_background": "light"
     },
     "output_type": "display_data"
    }
   ],
   "source": [
    "import numpy as np\n",
    "delays = (all_actions.drop_duplicates(subset='actionIdentifier')['TMDLDate'] -\n",
    "          all_actions.drop_duplicates(subset='actionIdentifier')['completionDate']) / dt.timedelta(\n",
    "    days=1)\n",
    "plt.figure(figsize=(12, 8))\n",
    "plt.xscale(\"log\")\n",
    "plt.hist(delays, bins=np.logspace(np.log10(1),np.log10(10000.0), 50))\n",
    "plt.title('Days between planned TMDL Date and actual TMDL Date')\n",
    "plt.ylabel('# TMDLs')\n",
    "plt.xlabel('Days')"
   ],
   "metadata": {
    "collapsed": false,
    "pycharm": {
     "name": "#%%\n"
    }
   }
  },
  {
   "cell_type": "markdown",
   "source": [
    "### Which pollutants most often lead to TMDLs?"
   ],
   "metadata": {
    "collapsed": false,
    "pycharm": {
     "name": "#%% md\n"
    }
   }
  },
  {
   "cell_type": "code",
   "execution_count": 41,
   "outputs": [
    {
     "data": {
      "text/plain": "FECAL COLIFORM                  0.155362\nIRON                            0.102766\nESCHERICHIA COLI (E. COLI)      0.070738\nPHOSPHORUS, TOTAL               0.059801\nSEDIMENT                        0.040726\nPH                              0.037441\nALUMINUM                        0.036657\nNITROGEN, TOTAL                 0.030498\nTOTAL SUSPENDED SOLIDS (TSS)    0.027586\nMANGANESE                       0.027474\nName: pollutantName, dtype: float64"
     },
     "execution_count": 41,
     "metadata": {},
     "output_type": "execute_result"
    }
   ],
   "source": [
    "all_actions.drop_duplicates(subset=['actionIdentifier', 'pollutantName'])['pollutantName'].value_counts(normalize=True).iloc[0:10]"
   ],
   "metadata": {
    "collapsed": false,
    "pycharm": {
     "name": "#%%\n"
    }
   }
  },
  {
   "cell_type": "markdown",
   "source": [
    "### Which combinations of state x pollutant are most frequent across all TMDLS?"
   ],
   "metadata": {
    "collapsed": false,
    "pycharm": {
     "name": "#%% md\n"
    }
   }
  },
  {
   "cell_type": "code",
   "execution_count": 42,
   "outputs": [
    {
     "data": {
      "text/plain": "                                              0\npollutantName              state_code          \nIRON                       WV          0.085558\nFECAL COLIFORM             WV          0.050021\nALUMINUM                   WV          0.022061\nPH                         WV          0.019411\nESCHERICHIA COLI (E. COLI) VA          0.017545\nFECAL COLIFORM             VA          0.015902\n                           KS          0.015454\nMANGANESE                  WV          0.015118\nDISSOLVED OXYGEN           KS          0.009705\nSEDIMENT                   MT          0.009482",
      "text/html": "<div>\n<style scoped>\n    .dataframe tbody tr th:only-of-type {\n        vertical-align: middle;\n    }\n\n    .dataframe tbody tr th {\n        vertical-align: top;\n    }\n\n    .dataframe thead th {\n        text-align: right;\n    }\n</style>\n<table border=\"1\" class=\"dataframe\">\n  <thead>\n    <tr style=\"text-align: right;\">\n      <th></th>\n      <th></th>\n      <th>0</th>\n    </tr>\n    <tr>\n      <th>pollutantName</th>\n      <th>state_code</th>\n      <th></th>\n    </tr>\n  </thead>\n  <tbody>\n    <tr>\n      <th>IRON</th>\n      <th>WV</th>\n      <td>0.085558</td>\n    </tr>\n    <tr>\n      <th>FECAL COLIFORM</th>\n      <th>WV</th>\n      <td>0.050021</td>\n    </tr>\n    <tr>\n      <th>ALUMINUM</th>\n      <th>WV</th>\n      <td>0.022061</td>\n    </tr>\n    <tr>\n      <th>PH</th>\n      <th>WV</th>\n      <td>0.019411</td>\n    </tr>\n    <tr>\n      <th>ESCHERICHIA COLI (E. COLI)</th>\n      <th>VA</th>\n      <td>0.017545</td>\n    </tr>\n    <tr>\n      <th rowspan=\"2\" valign=\"top\">FECAL COLIFORM</th>\n      <th>VA</th>\n      <td>0.015902</td>\n    </tr>\n    <tr>\n      <th>KS</th>\n      <td>0.015454</td>\n    </tr>\n    <tr>\n      <th>MANGANESE</th>\n      <th>WV</th>\n      <td>0.015118</td>\n    </tr>\n    <tr>\n      <th>DISSOLVED OXYGEN</th>\n      <th>KS</th>\n      <td>0.009705</td>\n    </tr>\n    <tr>\n      <th>SEDIMENT</th>\n      <th>MT</th>\n      <td>0.009482</td>\n    </tr>\n  </tbody>\n</table>\n</div>"
     },
     "execution_count": 42,
     "metadata": {},
     "output_type": "execute_result"
    }
   ],
   "source": [
    "pd.DataFrame(all_actions.drop_duplicates(subset=['actionIdentifier', 'pollutantName'])[['pollutantName', 'state_code']].value_counts(normalize=True).iloc[0:10])"
   ],
   "metadata": {
    "collapsed": false,
    "pycharm": {
     "name": "#%%\n"
    }
   }
  },
  {
   "cell_type": "markdown",
   "source": [
    "### What is the time delay between a water body appearing on the 303(d) list and receiving a TMDL?\n",
    "Let's try to answer this question for a few states first before looking at the whole country."
   ],
   "metadata": {
    "collapsed": false,
    "pycharm": {
     "name": "#%% md\n"
    }
   }
  },
  {
   "cell_type": "code",
   "execution_count": 43,
   "outputs": [
    {
     "data": {
      "text/plain": "<Figure size 720x432 with 1 Axes>",
      "image/png": "[encoded data removed]"
     },
     "metadata": {
      "needs_background": "light"
     },
     "output_type": "display_data"
    },
    {
     "data": {
      "text/plain": "<Figure size 720x432 with 1 Axes>",
      "image/png": "[encoded data removed]"
     },
     "metadata": {
      "needs_background": "light"
     },
     "output_type": "display_data"
    },
    {
     "data": {
      "text/plain": "<Figure size 720x432 with 1 Axes>",
      "image/png": "[encoded data removed]"
     },
     "metadata": {
      "needs_background": "light"
     },
     "output_type": "display_data"
    },
    {
     "data": {
      "text/plain": "<Figure size 720x432 with 1 Axes>",
      "image/png": "[encoded data removed]"
     },
     "metadata": {
      "needs_background": "light"
     },
     "output_type": "display_data"
    }
   ],
   "source": [
    "# These states were selected based on having a high number of unique reporting cycles present in their assessments table\n",
    "states = ['NM', 'VA', 'MS', 'CT']\n",
    "for state in states:\n",
    "    state_actions = all_actions[(all_actions['state_code'] == state) & (all_actions['TMDLDate']>=pd.to_datetime('2003-01-01'))].dropna(subset=['assessmentUnitIdentifier', 'pollutantName'])\n",
    "    state_assessments = assessments[assessments['state_code'] == state].dropna(\n",
    "        subset=['assessmentUnitIdentifier', 'parameterName'])\n",
    "\n",
    "    # Data cleaning to account for changes in parameter categorization over time\n",
    "    state_assessments['parameterName'] = state_assessments['parameterName'].apply(lambda x: x.replace('SULFATES', 'SULFATE'))\n",
    "    state_assessments['parameterName'] = state_assessments['parameterName'].apply(\n",
    "        lambda x: x.replace('TEMPERATURE, WATER', 'TEMPERATURE'))\n",
    "    state_assessments['parameterName'] = state_assessments['parameterName'].apply(\n",
    "        lambda x: x.replace('ESCHERICHIA COLI (E. COLI)', 'PATHOGENS'))\n",
    "    state_assessments['parameterName'] = state_assessments['parameterName'].apply(\n",
    "        lambda x: x.replace('FECAL COLIFORM', 'PATHOGENS'))\n",
    "    state_assessments['parameterName'] = state_assessments['parameterName'].apply(\n",
    "        lambda x: x.replace('ENTEROCOCCUS BACTERIA', 'ENTEROCOCCUS'))\n",
    "    state_actions['pollutantName'] = state_actions['pollutantName'].apply(\n",
    "        lambda x: x.replace('FECAL COLIFORM', 'PATHOGENS'))\n",
    "    state_actions['pollutantName'] = state_actions['pollutantName'].apply(\n",
    "        lambda x: x.replace('ESCHERICHIA COLI (E. COLI)', 'PATHOGENS'))\n",
    "\n",
    "    # Determine first appearance on a 303(d) list in ATTAINS\n",
    "    appearance_dates = state_assessments.groupby(['assessmentUnitIdentifier', 'parameterName'], as_index=False).min()[\n",
    "        ['assessmentUnitIdentifier', 'parameterName', 'reportingCycleText']]\n",
    "    appearance_dates.rename(columns={'reportingCycleText': 'appearance_date', 'parameterName': 'pollutantName'},\n",
    "                               inplace=True)\n",
    "    appearance_dates['appearance_date'] = pd.to_datetime(appearance_dates['appearance_date'])\n",
    "\n",
    "    # Merge on AU and pollutant\n",
    "    merged = state_actions.merge(appearance_dates, on=['assessmentUnitIdentifier', 'pollutantName'], how='inner')\n",
    "\n",
    "    # Calculate delay time\n",
    "    delays = (merged.drop_duplicates(subset=['assessmentUnitIdentifier', 'pollutantName'])['TMDLDate'] - merged.drop_duplicates(subset=['assessmentUnitIdentifier', 'pollutantName'])[\n",
    "              'appearance_date']) / dt.timedelta(days=365)\n",
    "\n",
    "    # Plot\n",
    "    plt.figure(figsize=(10, 6))\n",
    "    plt.hist(delays, bins=50);\n",
    "    plt.axvline(x=0, linestyle='--', c='silver')\n",
    "    plt.ylabel('# of AU x pollutant combinations')\n",
    "    plt.xlabel('Years')\n",
    "    plt.title(state + ': Delays between first impairment in ATTAINS and TMDL Date \\n (n=' + str(len(delays)) + ' combos, ' + str(len(merged['assessmentUnitIdentifier'].unique())) + ' assessment units (AUs). TMDLs 2003 or later included.)')"
   ],
   "metadata": {
    "collapsed": false,
    "pycharm": {
     "name": "#%%\n"
    }
   }
  },
  {
   "cell_type": "markdown",
   "source": [
    "TODO: ### How many AUs scheduled to receive a TMDL actually received one?"
   ],
   "metadata": {
    "collapsed": false,
    "pycharm": {
     "name": "#%% md\n"
    }
   }
  },
  {
   "cell_type": "markdown",
   "source": [
    "# 4. Exploring the HUC-NPDES Permit ID linkage table"
   ],
   "metadata": {
    "collapsed": false,
    "pycharm": {
     "name": "#%% md\n"
    }
   }
  },
  {
   "cell_type": "markdown",
   "source": [
    "### How many NPDES permit IDs do we have in our HUC-permit linkage table?"
   ],
   "metadata": {
    "collapsed": false,
    "pycharm": {
     "name": "#%% md\n"
    }
   }
  },
  {
   "cell_type": "code",
   "execution_count": 44,
   "outputs": [
    {
     "data": {
      "text/plain": "  attributes.SOURCE_FEATUREID        HUC-12 npdes_permit_id\n0                AL0000019001  060300020503       AL0000019\n1                AL0000019002  060300020904       AL0000019\n2                AL0000019003  060300020505       AL0000019\n3                AL0000019004  060300020503       AL0000019\n4                AL0000019005  060300020503       AL0000019",
      "text/html": "<div>\n<style scoped>\n    .dataframe tbody tr th:only-of-type {\n        vertical-align: middle;\n    }\n\n    .dataframe tbody tr th {\n        vertical-align: top;\n    }\n\n    .dataframe thead th {\n        text-align: right;\n    }\n</style>\n<table border=\"1\" class=\"dataframe\">\n  <thead>\n    <tr style=\"text-align: right;\">\n      <th></th>\n      <th>attributes.SOURCE_FEATUREID</th>\n      <th>HUC-12</th>\n      <th>npdes_permit_id</th>\n    </tr>\n  </thead>\n  <tbody>\n    <tr>\n      <th>0</th>\n      <td>AL0000019001</td>\n      <td>060300020503</td>\n      <td>AL0000019</td>\n    </tr>\n    <tr>\n      <th>1</th>\n      <td>AL0000019002</td>\n      <td>060300020904</td>\n      <td>AL0000019</td>\n    </tr>\n    <tr>\n      <th>2</th>\n      <td>AL0000019003</td>\n      <td>060300020505</td>\n      <td>AL0000019</td>\n    </tr>\n    <tr>\n      <th>3</th>\n      <td>AL0000019004</td>\n      <td>060300020503</td>\n      <td>AL0000019</td>\n    </tr>\n    <tr>\n      <th>4</th>\n      <td>AL0000019005</td>\n      <td>060300020503</td>\n      <td>AL0000019</td>\n    </tr>\n  </tbody>\n</table>\n</div>"
     },
     "execution_count": 44,
     "metadata": {},
     "output_type": "execute_result"
    }
   ],
   "source": [
    "HUC_npdes_permit_links.head()"
   ],
   "metadata": {
    "collapsed": false,
    "pycharm": {
     "name": "#%%\n"
    }
   }
  },
  {
   "cell_type": "code",
   "execution_count": 45,
   "outputs": [
    {
     "data": {
      "text/plain": "761542"
     },
     "execution_count": 45,
     "metadata": {},
     "output_type": "execute_result"
    }
   ],
   "source": [
    "len(HUC_npdes_permit_links.drop_duplicates('npdes_permit_id'))"
   ],
   "metadata": {
    "collapsed": false,
    "pycharm": {
     "name": "#%%\n"
    }
   }
  },
  {
   "cell_type": "markdown",
   "source": [
    "How does this compare to the total number of active NPDES permit IDs in ICIS-NPDES?"
   ],
   "metadata": {
    "collapsed": false,
    "pycharm": {
     "name": "#%% md\n"
    }
   }
  },
  {
   "cell_type": "code",
   "execution_count": 46,
   "outputs": [
    {
     "data": {
      "text/plain": "823373"
     },
     "execution_count": 46,
     "metadata": {},
     "output_type": "execute_result"
    }
   ],
   "source": [
    "all_permit_ids = pd.read_csv('all_icis_npdes_permit_ids.csv')\n",
    "len(all_permit_ids.drop_duplicates('npdes_permit_id'))"
   ],
   "metadata": {
    "collapsed": false,
    "pycharm": {
     "name": "#%%\n"
    }
   }
  },
  {
   "cell_type": "markdown",
   "source": [
    "They are of similar order of magnitude. The difference is likely due to permits in ICIS-NPDES that were retired/terminated prior to 2016 (the date of our HUC-permit linkage table), and other permits that were created after 2016."
   ],
   "metadata": {
    "collapsed": false,
    "pycharm": {
     "name": "#%% md\n"
    }
   }
  },
  {
   "cell_type": "markdown",
   "source": [
    "### What proportion of TMDLs on 2020 assessment units (see HUC-AUID link table exploration above) can we now link to NPDES permit IDs?"
   ],
   "metadata": {
    "collapsed": false,
    "pycharm": {
     "name": "#%% md\n"
    }
   }
  },
  {
   "cell_type": "code",
   "execution_count": 47,
   "outputs": [
    {
     "data": {
      "text/plain": "7377"
     },
     "execution_count": 47,
     "metadata": {},
     "output_type": "execute_result"
    }
   ],
   "source": [
    "actions_current_AUs = all_actions.merge(AUs_merged[['AUID']], left_on='assessmentUnitIdentifier', right_on='AUID', how='inner')\n",
    "actions_current_AUs = actions_current_AUs.merge(HUC_AUID_links, on='AUID', how='inner')\n",
    "len(actions_current_AUs.drop_duplicates(subset='actionIdentifier'))"
   ],
   "metadata": {
    "collapsed": false,
    "pycharm": {
     "name": "#%%\n"
    }
   }
  },
  {
   "cell_type": "code",
   "execution_count": 48,
   "outputs": [
    {
     "data": {
      "text/plain": "  organizationIdentifier organizationTypeText state_code actionIdentifier  \\\n0                 21AWIC                State         AL            39070   \n1                 21AWIC                State         AL            39070   \n2                 21AWIC                State         AL            39070   \n3                 21AWIC                State         AL            39070   \n4                 21AWIC                State         AL            39070   \n\n  actionTypeCode  actionStatusCode completionDate assessmentUnitIdentifier  \\\n0           TMDL  EPA Final Action     2010-09-21      AL03140107-0205-102   \n1           TMDL  EPA Final Action     2010-09-21      AL03140107-0205-102   \n2           TMDL  EPA Final Action     2010-09-21      AL03140107-0205-102   \n3           TMDL  EPA Final Action     2010-09-21      AL03140107-0205-102   \n4           TMDL  EPA Final Action     2010-09-21      AL03140107-0205-102   \n\n           pollutantName pollutantSourceTypeCode explicitMarginofSafetyText  \\\n0  ENTEROCOCCUS BACTERIA         Nonpoint source                        NaN   \n1  ENTEROCOCCUS BACTERIA         Nonpoint source                        NaN   \n2  ENTEROCOCCUS BACTERIA         Nonpoint source                        NaN   \n3  ENTEROCOCCUS BACTERIA         Nonpoint source                        NaN   \n4  ENTEROCOCCUS BACTERIA         Nonpoint source                        NaN   \n\n  implicitMarginofSafetyText  \\\n0                          N   \n1                          N   \n2                          N   \n3                          N   \n4                          N   \n\n                                    TMDLEndPointText   TMDLDate  \\\n0  IN COASTAL WATERS, BACTERIA OF THE ENTEROCOCCI... 2010-09-21   \n1  IN COASTAL WATERS, BACTERIA OF THE ENTEROCOCCI... 2010-09-21   \n2  IN COASTAL WATERS, BACTERIA OF THE ENTEROCOCCI... 2010-09-21   \n3  IN COASTAL WATERS, BACTERIA OF THE ENTEROCOCCI... 2010-09-21   \n4  IN COASTAL WATERS, BACTERIA OF THE ENTEROCOCCI... 2010-09-21   \n\n                  AUID        HUC-12 attributes.SOURCE_FEATUREID  \\\n0  AL03140107-0205-102  031401070205                   ALR107777   \n1  AL03140107-0205-102  031401070205                   ALR10AAY0   \n2  AL03140107-0205-102  031401070205                   ALR10AM01   \n3  AL03140107-0205-102  031401070205                   ALR10AA85   \n4  AL03140107-0205-102  031401070205                   ALR10AN53   \n\n  npdes_permit_id  \n0       ALR107777  \n1       ALR10AAY0  \n2       ALR10AM01  \n3       ALR10AA85  \n4       ALR10AN53  ",
      "text/html": "<div>\n<style scoped>\n    .dataframe tbody tr th:only-of-type {\n        vertical-align: middle;\n    }\n\n    .dataframe tbody tr th {\n        vertical-align: top;\n    }\n\n    .dataframe thead th {\n        text-align: right;\n    }\n</style>\n<table border=\"1\" class=\"dataframe\">\n  <thead>\n    <tr style=\"text-align: right;\">\n      <th></th>\n      <th>organizationIdentifier</th>\n      <th>organizationTypeText</th>\n      <th>state_code</th>\n      <th>actionIdentifier</th>\n      <th>actionTypeCode</th>\n      <th>actionStatusCode</th>\n      <th>completionDate</th>\n      <th>assessmentUnitIdentifier</th>\n      <th>pollutantName</th>\n      <th>pollutantSourceTypeCode</th>\n      <th>explicitMarginofSafetyText</th>\n      <th>implicitMarginofSafetyText</th>\n      <th>TMDLEndPointText</th>\n      <th>TMDLDate</th>\n      <th>AUID</th>\n      <th>HUC-12</th>\n      <th>attributes.SOURCE_FEATUREID</th>\n      <th>npdes_permit_id</th>\n    </tr>\n  </thead>\n  <tbody>\n    <tr>\n      <th>0</th>\n      <td>21AWIC</td>\n      <td>State</td>\n      <td>AL</td>\n      <td>39070</td>\n      <td>TMDL</td>\n      <td>EPA Final Action</td>\n      <td>2010-09-21</td>\n      <td>AL03140107-0205-102</td>\n      <td>ENTEROCOCCUS BACTERIA</td>\n      <td>Nonpoint source</td>\n      <td>NaN</td>\n      <td>N</td>\n      <td>IN COASTAL WATERS, BACTERIA OF THE ENTEROCOCCI...</td>\n      <td>2010-09-21</td>\n      <td>AL03140107-0205-102</td>\n      <td>031401070205</td>\n      <td>ALR107777</td>\n      <td>ALR107777</td>\n    </tr>\n    <tr>\n      <th>1</th>\n      <td>21AWIC</td>\n      <td>State</td>\n      <td>AL</td>\n      <td>39070</td>\n      <td>TMDL</td>\n      <td>EPA Final Action</td>\n      <td>2010-09-21</td>\n      <td>AL03140107-0205-102</td>\n      <td>ENTEROCOCCUS BACTERIA</td>\n      <td>Nonpoint source</td>\n      <td>NaN</td>\n      <td>N</td>\n      <td>IN COASTAL WATERS, BACTERIA OF THE ENTEROCOCCI...</td>\n      <td>2010-09-21</td>\n      <td>AL03140107-0205-102</td>\n      <td>031401070205</td>\n      <td>ALR10AAY0</td>\n      <td>ALR10AAY0</td>\n    </tr>\n    <tr>\n      <th>2</th>\n      <td>21AWIC</td>\n      <td>State</td>\n      <td>AL</td>\n      <td>39070</td>\n      <td>TMDL</td>\n      <td>EPA Final Action</td>\n      <td>2010-09-21</td>\n      <td>AL03140107-0205-102</td>\n      <td>ENTEROCOCCUS BACTERIA</td>\n      <td>Nonpoint source</td>\n      <td>NaN</td>\n      <td>N</td>\n      <td>IN COASTAL WATERS, BACTERIA OF THE ENTEROCOCCI...</td>\n      <td>2010-09-21</td>\n      <td>AL03140107-0205-102</td>\n      <td>031401070205</td>\n      <td>ALR10AM01</td>\n      <td>ALR10AM01</td>\n    </tr>\n    <tr>\n      <th>3</th>\n      <td>21AWIC</td>\n      <td>State</td>\n      <td>AL</td>\n      <td>39070</td>\n      <td>TMDL</td>\n      <td>EPA Final Action</td>\n      <td>2010-09-21</td>\n      <td>AL03140107-0205-102</td>\n      <td>ENTEROCOCCUS BACTERIA</td>\n      <td>Nonpoint source</td>\n      <td>NaN</td>\n      <td>N</td>\n      <td>IN COASTAL WATERS, BACTERIA OF THE ENTEROCOCCI...</td>\n      <td>2010-09-21</td>\n      <td>AL03140107-0205-102</td>\n      <td>031401070205</td>\n      <td>ALR10AA85</td>\n      <td>ALR10AA85</td>\n    </tr>\n    <tr>\n      <th>4</th>\n      <td>21AWIC</td>\n      <td>State</td>\n      <td>AL</td>\n      <td>39070</td>\n      <td>TMDL</td>\n      <td>EPA Final Action</td>\n      <td>2010-09-21</td>\n      <td>AL03140107-0205-102</td>\n      <td>ENTEROCOCCUS BACTERIA</td>\n      <td>Nonpoint source</td>\n      <td>NaN</td>\n      <td>N</td>\n      <td>IN COASTAL WATERS, BACTERIA OF THE ENTEROCOCCI...</td>\n      <td>2010-09-21</td>\n      <td>AL03140107-0205-102</td>\n      <td>031401070205</td>\n      <td>ALR10AN53</td>\n      <td>ALR10AN53</td>\n    </tr>\n  </tbody>\n</table>\n</div>"
     },
     "execution_count": 48,
     "metadata": {},
     "output_type": "execute_result"
    }
   ],
   "source": [
    "actions_current_AUs = actions_current_AUs.merge(HUC_npdes_permit_links, on='HUC-12', how='inner')\n",
    "actions_current_AUs.head()"
   ],
   "metadata": {
    "collapsed": false,
    "pycharm": {
     "name": "#%%\n"
    }
   }
  },
  {
   "cell_type": "code",
   "execution_count": 49,
   "outputs": [
    {
     "data": {
      "text/plain": "6626"
     },
     "execution_count": 49,
     "metadata": {},
     "output_type": "execute_result"
    }
   ],
   "source": [
    "len(actions_current_AUs.drop_duplicates(subset='actionIdentifier'))"
   ],
   "metadata": {
    "collapsed": false,
    "pycharm": {
     "name": "#%%\n"
    }
   }
  },
  {
   "cell_type": "code",
   "execution_count": 50,
   "outputs": [
    {
     "data": {
      "text/plain": "69540"
     },
     "execution_count": 50,
     "metadata": {},
     "output_type": "execute_result"
    }
   ],
   "source": [
    "len(actions_current_AUs.drop_duplicates(subset='AUID'))"
   ],
   "metadata": {
    "collapsed": false,
    "pycharm": {
     "name": "#%%\n"
    }
   }
  },
  {
   "cell_type": "code",
   "execution_count": 51,
   "outputs": [
    {
     "data": {
      "text/plain": "260319"
     },
     "execution_count": 51,
     "metadata": {},
     "output_type": "execute_result"
    }
   ],
   "source": [
    "len(actions_current_AUs.drop_duplicates(subset='npdes_permit_id'))"
   ],
   "metadata": {
    "collapsed": false,
    "pycharm": {
     "name": "#%%\n"
    }
   }
  },
  {
   "cell_type": "markdown",
   "source": [
    "# 5. Putting it all together"
   ],
   "metadata": {
    "collapsed": false,
    "pycharm": {
     "name": "#%% md\n"
    }
   }
  },
  {
   "cell_type": "markdown",
   "source": [
    "###"
   ],
   "metadata": {
    "collapsed": false,
    "pycharm": {
     "name": "#%% md\n"
    }
   }
  }
 ],
 "metadata": {
  "kernelspec": {
   "display_name": "Python 3",
   "language": "python",
   "name": "python3"
  },
  "language_info": {
   "codemirror_mode": {
    "name": "ipython",
    "version": 2
   },
   "file_extension": ".py",
   "mimetype": "text/x-python",
   "name": "python",
   "nbconvert_exporter": "python",
   "pygments_lexer": "ipython2",
   "version": "2.7.6"
  }
 },
 "nbformat": 4,
 "nbformat_minor": 0
}