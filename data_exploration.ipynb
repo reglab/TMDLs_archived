{
 "cells": [
  {
   "cell_type": "markdown",
   "source": [
    "# TMDLs DATA EXPLORATION\n",
    "<i> Ryan Treves\n",
    "\n",
    "Under the Clean Water Act (CWA) section 303(d), states and Tribes are required to monitor water bodies in their territory, and identify water bodies for which a water quality standard has not been met. To do this, they must conduct 'assessments' of water bodies based on whether that water body attains its water quality standard for a certain type of use (e.g., swimming, fishing). Water bodies are delineated into 'assessment units' for the purposes of organizing assessments. Based on the results of the assessment, an assessment unit is assigned an Integrated Reporting (IR) category from 1-5 based on the degree of impairment of the water body. An IR category 5 determination means that a TMDL should be developed for that assessment unit, and the water is 'impaired'. (See https://drive.google.com/drive/u/0/folders/1tGpCSD-3mRBChTC1PZStt5bdRljTK1ck for more details on IR category determination).\n",
    " Every two years (reporting cycles are biennial), states must submit their list of impaired waters (including but not limited to all waters with an IR category 5 determination) as a part of their Integrated Report (IR) to the federal EPA under  sections 303(d), 305(b), and 314.\n",
    "\n",
    "See https://www.epa.gov/wqs-tech/supplemental-module-listing-impaired-waters-and-developing-tmdls#tab-2  for more details.\n",
    "\n",
    "### Questions:\n",
    "- How many Assessment Units (AUs) exist nationwide?\n",
    "- For many AUs do we have a HUC code match?\n",
    "- How many use assessments nationwide, ever, have contributed to an IR5 category determination?\n",
    "- How many unique assessment units have been assigned category IR5?\n",
    "- Which states have had the most use assessments leading to IR5 determinations?\n",
    "- Which states have had the highest rate of IR5 determinations per assessment unit?\n",
    "- For what fraction of use assessments do we have an assessment date?\n",
    "- What parameters have caused the most use non-attainment declarations?\n",
    "- What parameters have caused the most assessment units to be categorized as IR5, irrespective of number of use non-attainment declarations?\n",
    "- What uses have the highest rate of non-attainment?\n",
    "\n",
    "Note: the dataset of AUs doesn't include Pennsylvania (see `ATTAINS_data_cleaning.ipynb` for an explanation)"
   ],
   "metadata": {
    "collapsed": false,
    "pycharm": {
     "name": "#%% md\n"
    }
   }
  },
  {
   "cell_type": "code",
   "execution_count": 1,
   "outputs": [],
   "source": [
    "import pandas as pd\n",
    "import matplotlib.pyplot as plt\n",
    "import json\n",
    "from urllib.request import urlopen\n",
    "import datetime as dt\n",
    "import warnings\n",
    "\n",
    "# Suppress warning messages\n",
    "warnings.filterwarnings('ignore')\n",
    "pd.options.display.max_columns = 200\n",
    "pd.options.display.max_rows = 2000\n",
    "# display all rows & columns\n",
    "pd.set_option('display.max_columns', None)\n",
    "pd.set_option('display.max_rows', None)"
   ],
   "metadata": {
    "collapsed": false,
    "pycharm": {
     "name": "#%%\n"
    }
   }
  },
  {
   "cell_type": "code",
   "execution_count": null,
   "outputs": [],
   "source": [
    "# Load in ATTAINS data\n",
    "# Assessment Units (source: `ATTAINS_data_cleaning.ipynb`)\n",
    "AUs = pd.read_csv('Clean_AU_data/all_AUs_cleaned.csv')\n",
    "# Assessments (source: `pull_NotSupporting_assessments.R`)\n",
    "assessments = pd.read_csv('all_NotSupporting_assessments.csv', dtype={'reportingCycleText': str}, parse_dates=['assessment_date'], date_parser=lambda t: pd.to_datetime(t, errors='coerce'))\n",
    "# TMDL Actions (source: `pull_actions.R`)\n",
    "all_actions = pd.read_csv('all_actions.csv', parse_dates=['completionDate', 'TMDLDate'], date_parser=lambda t: pd.to_datetime(t, errors='coerce')).drop('Unnamed: 0', axis=1).drop_duplicates()\n",
    "all_actions_permit_data = pd.read_csv('all_actions_permit_data.csv').drop('Unnamed: 0', axis=1).drop_duplicates()\n",
    "\n",
    "# RAD Data\n",
    "# HUC AUID link table (source: `get_huc_AUID_links.R`)\n",
    "HUC_AUID_links = pd.read_csv('huc_AUID_links.csv', dtype={'attributes.huc12': object})\n",
    "HUC_AUID_links = HUC_AUID_links.drop('Unnamed: 0', axis=1).rename(columns={'attributes.huc12': 'HUC-12', 'attributes.assessmentunitidentifier':'AUID'})\n",
    "# HUC NPDES permit link table (source: `get_huc_npdes_permit_links.R`)\n",
    "HUC_npdes_permit_links = pd.read_csv('huc_npdes_permit_links.csv', dtype={'attributes.WBD_HUC12': object})\n",
    "HUC_npdes_permit_links = HUC_npdes_permit_links.drop('Unnamed: 0', axis=1).rename(columns={'attributes.WBD_HUC12': 'HUC-12'})"
   ],
   "metadata": {
    "collapsed": false,
    "pycharm": {
     "name": "#%%\n"
    }
   }
  },
  {
   "cell_type": "markdown",
   "source": [
    "# 1.  Assessment Units"
   ],
   "metadata": {
    "collapsed": false,
    "pycharm": {
     "name": "#%% md\n"
    }
   }
  },
  {
   "cell_type": "code",
   "execution_count": 29,
   "outputs": [
    {
     "data": {
      "text/plain": "   Unnamed: 0.1  Unnamed: 0                  AUID  \\\n0             0           0   WYGR140401040103_01   \n1             1           1   WYNP101800020105_02   \n2             2           2   WYBH100800140107_01   \n3             3           3   WYBH100800030108_02   \n4             4           4  WYGR140401040303 _01   \n\n  items.organizationIdentifier items.organizationName  \\\n0                      Wyoming                  State   \n1                      Wyoming                  State   \n2                      Wyoming                  State   \n3                      Wyoming                  State   \n4                      Wyoming                  State   \n\n  items.assessmentUnits.assessmentUnitIdentifier  \\\n0                          Lower Big Sandy River   \n1                                    Muddy Creek   \n2                                      Dry Gulch   \n3                         Little Popo Agie River   \n4                                  Pacific Creek   \n\n            items.assessmentUnits.assessmentUnitName  \\\n0  From the confluence with Squaw Creek downstrea...   \n1  Entire watershed upstream of the confluence wi...   \n2  From the confluence with the Shoshone River to...   \n3  From the confluence with the Popo Agie River u...   \n4  Confluence with Jack Morrow Creek upstream to ...   \n\n  items.assessmentUnits.agencyCode items.assessmentUnits.statusIndicator  \\\n0                               WY               {\\useClassCode\\\":\\\"85\\\"   \n1                               WY               {\\useClassCode\\\":\\\"85\\\"   \n2                               WY              {\\useClassCode\\\":\\\"117\\\"   \n3                               WY               {\\useClassCode\\\":\\\"85\\\"   \n4                               WY               {\\useClassCode\\\":\\\"85\\\"   \n\n     items.assessmentUnits.useClass  \\\n0  \\\"useClassName\\\":\\\"CLASS 2AB\\\"}\"   \n1  \\\"useClassName\\\":\\\"CLASS 2AB\\\"}\"   \n2   \\\"useClassName\\\":\\\"CLASS 3B\\\"}\"   \n3  \\\"useClassName\\\":\\\"CLASS 2AB\\\"}\"   \n4  \\\"useClassName\\\":\\\"CLASS 2AB\\\"}\"   \n\n  items.assessmentUnits.waterTypes.waterTypeCode  \\\n0                                         STREAM   \n1                                         STREAM   \n2                                         STREAM   \n3                                         STREAM   \n4                                         STREAM   \n\n  items.assessmentUnits.waterTypes.waterSizeNumber  \\\n0                                              2.1   \n1                                             44.5   \n2                                              0.5   \n3                                             11.1   \n4                                             13.8   \n\n  items.assessmentUnits.waterTypes.unitsCode  HUC-8  \\\n0                                      Miles    NaN   \n1                                      Miles    NaN   \n2                                      Miles    NaN   \n3                                      Miles    NaN   \n4                                      Miles    NaN   \n\n  items.organizationTypeText  HUC-12 count  \\\n0                        NaN     NaN   NaN   \n1                        NaN     NaN   NaN   \n2                        NaN     NaN   NaN   \n3                        NaN     NaN   NaN   \n4                        NaN     NaN   NaN   \n\n  items.assessmentUnits.locationDescriptionText  \\\n0                                           NaN   \n1                                           NaN   \n2                                           NaN   \n3                                           NaN   \n4                                           NaN   \n\n  items.assessmentUnits.stateCode  \\\n0                             NaN   \n1                             NaN   \n2                             NaN   \n3                             NaN   \n4                             NaN   \n\n  items.assessmentUnits.waterTypes.sizeEstimationMethodCode  \\\n0                                                NaN          \n1                                                NaN          \n2                                                NaN          \n3                                                NaN          \n4                                                NaN          \n\n  items.assessmentUnits.waterTypes.sizeSourceText  \\\n0                                             NaN   \n1                                             NaN   \n2                                             NaN   \n3                                             NaN   \n4                                             NaN   \n\n  items.assessmentUnits.waterTypes.sizeSourceScaleText  \\\n0                                                NaN     \n1                                                NaN     \n2                                                NaN     \n3                                                NaN     \n4                                                NaN     \n\n  items.assessmentUnits.monitoringStations.monitoringOrganizationIdentifier  \\\n0                                                NaN                          \n1                                                NaN                          \n2                                                NaN                          \n3                                                NaN                          \n4                                                NaN                          \n\n  items.assessmentUnits.monitoringStations.monitoringLocationIdentifier  \\\n0                                                NaN                      \n1                                                NaN                      \n2                                                NaN                      \n3                                                NaN                      \n4                                                NaN                      \n\n  items.assessmentUnits.monitoringStations.monitoringDataLinkText  \\\n0                                                NaN                \n1                                                NaN                \n2                                                NaN                \n3                                                NaN                \n4                                                NaN                \n\n  items.assessmentUnits.locations.locationTypeCode  \\\n0                                              NaN   \n1                                              NaN   \n2                                              NaN   \n3                                              NaN   \n4                                              NaN   \n\n   items.assessmentUnits.locations.locationText HUC-10  \n0                                           NaN    NaN  \n1                                           NaN    NaN  \n2                                           NaN    NaN  \n3                                           NaN    NaN  \n4                                           NaN    NaN  ",
      "text/html": "<div>\n<style scoped>\n    .dataframe tbody tr th:only-of-type {\n        vertical-align: middle;\n    }\n\n    .dataframe tbody tr th {\n        vertical-align: top;\n    }\n\n    .dataframe thead th {\n        text-align: right;\n    }\n</style>\n<table border=\"1\" class=\"dataframe\">\n  <thead>\n    <tr style=\"text-align: right;\">\n      <th></th>\n      <th>Unnamed: 0.1</th>\n      <th>Unnamed: 0</th>\n      <th>AUID</th>\n      <th>items.organizationIdentifier</th>\n      <th>items.organizationName</th>\n      <th>items.assessmentUnits.assessmentUnitIdentifier</th>\n      <th>items.assessmentUnits.assessmentUnitName</th>\n      <th>items.assessmentUnits.agencyCode</th>\n      <th>items.assessmentUnits.statusIndicator</th>\n      <th>items.assessmentUnits.useClass</th>\n      <th>items.assessmentUnits.waterTypes.waterTypeCode</th>\n      <th>items.assessmentUnits.waterTypes.waterSizeNumber</th>\n      <th>items.assessmentUnits.waterTypes.unitsCode</th>\n      <th>HUC-8</th>\n      <th>items.organizationTypeText</th>\n      <th>HUC-12</th>\n      <th>count</th>\n      <th>items.assessmentUnits.locationDescriptionText</th>\n      <th>items.assessmentUnits.stateCode</th>\n      <th>items.assessmentUnits.waterTypes.sizeEstimationMethodCode</th>\n      <th>items.assessmentUnits.waterTypes.sizeSourceText</th>\n      <th>items.assessmentUnits.waterTypes.sizeSourceScaleText</th>\n      <th>items.assessmentUnits.monitoringStations.monitoringOrganizationIdentifier</th>\n      <th>items.assessmentUnits.monitoringStations.monitoringLocationIdentifier</th>\n      <th>items.assessmentUnits.monitoringStations.monitoringDataLinkText</th>\n      <th>items.assessmentUnits.locations.locationTypeCode</th>\n      <th>items.assessmentUnits.locations.locationText</th>\n      <th>HUC-10</th>\n    </tr>\n  </thead>\n  <tbody>\n    <tr>\n      <th>0</th>\n      <td>0</td>\n      <td>0</td>\n      <td>WYGR140401040103_01</td>\n      <td>Wyoming</td>\n      <td>State</td>\n      <td>Lower Big Sandy River</td>\n      <td>From the confluence with Squaw Creek downstrea...</td>\n      <td>WY</td>\n      <td>{\\useClassCode\\\":\\\"85\\\"</td>\n      <td>\\\"useClassName\\\":\\\"CLASS 2AB\\\"}\"</td>\n      <td>STREAM</td>\n      <td>2.1</td>\n      <td>Miles</td>\n      <td>NaN</td>\n      <td>NaN</td>\n      <td>NaN</td>\n      <td>NaN</td>\n      <td>NaN</td>\n      <td>NaN</td>\n      <td>NaN</td>\n      <td>NaN</td>\n      <td>NaN</td>\n      <td>NaN</td>\n      <td>NaN</td>\n      <td>NaN</td>\n      <td>NaN</td>\n      <td>NaN</td>\n      <td>NaN</td>\n    </tr>\n    <tr>\n      <th>1</th>\n      <td>1</td>\n      <td>1</td>\n      <td>WYNP101800020105_02</td>\n      <td>Wyoming</td>\n      <td>State</td>\n      <td>Muddy Creek</td>\n      <td>Entire watershed upstream of the confluence wi...</td>\n      <td>WY</td>\n      <td>{\\useClassCode\\\":\\\"85\\\"</td>\n      <td>\\\"useClassName\\\":\\\"CLASS 2AB\\\"}\"</td>\n      <td>STREAM</td>\n      <td>44.5</td>\n      <td>Miles</td>\n      <td>NaN</td>\n      <td>NaN</td>\n      <td>NaN</td>\n      <td>NaN</td>\n      <td>NaN</td>\n      <td>NaN</td>\n      <td>NaN</td>\n      <td>NaN</td>\n      <td>NaN</td>\n      <td>NaN</td>\n      <td>NaN</td>\n      <td>NaN</td>\n      <td>NaN</td>\n      <td>NaN</td>\n      <td>NaN</td>\n    </tr>\n    <tr>\n      <th>2</th>\n      <td>2</td>\n      <td>2</td>\n      <td>WYBH100800140107_01</td>\n      <td>Wyoming</td>\n      <td>State</td>\n      <td>Dry Gulch</td>\n      <td>From the confluence with the Shoshone River to...</td>\n      <td>WY</td>\n      <td>{\\useClassCode\\\":\\\"117\\\"</td>\n      <td>\\\"useClassName\\\":\\\"CLASS 3B\\\"}\"</td>\n      <td>STREAM</td>\n      <td>0.5</td>\n      <td>Miles</td>\n      <td>NaN</td>\n      <td>NaN</td>\n      <td>NaN</td>\n      <td>NaN</td>\n      <td>NaN</td>\n      <td>NaN</td>\n      <td>NaN</td>\n      <td>NaN</td>\n      <td>NaN</td>\n      <td>NaN</td>\n      <td>NaN</td>\n      <td>NaN</td>\n      <td>NaN</td>\n      <td>NaN</td>\n      <td>NaN</td>\n    </tr>\n    <tr>\n      <th>3</th>\n      <td>3</td>\n      <td>3</td>\n      <td>WYBH100800030108_02</td>\n      <td>Wyoming</td>\n      <td>State</td>\n      <td>Little Popo Agie River</td>\n      <td>From the confluence with the Popo Agie River u...</td>\n      <td>WY</td>\n      <td>{\\useClassCode\\\":\\\"85\\\"</td>\n      <td>\\\"useClassName\\\":\\\"CLASS 2AB\\\"}\"</td>\n      <td>STREAM</td>\n      <td>11.1</td>\n      <td>Miles</td>\n      <td>NaN</td>\n      <td>NaN</td>\n      <td>NaN</td>\n      <td>NaN</td>\n      <td>NaN</td>\n      <td>NaN</td>\n      <td>NaN</td>\n      <td>NaN</td>\n      <td>NaN</td>\n      <td>NaN</td>\n      <td>NaN</td>\n      <td>NaN</td>\n      <td>NaN</td>\n      <td>NaN</td>\n      <td>NaN</td>\n    </tr>\n    <tr>\n      <th>4</th>\n      <td>4</td>\n      <td>4</td>\n      <td>WYGR140401040303 _01</td>\n      <td>Wyoming</td>\n      <td>State</td>\n      <td>Pacific Creek</td>\n      <td>Confluence with Jack Morrow Creek upstream to ...</td>\n      <td>WY</td>\n      <td>{\\useClassCode\\\":\\\"85\\\"</td>\n      <td>\\\"useClassName\\\":\\\"CLASS 2AB\\\"}\"</td>\n      <td>STREAM</td>\n      <td>13.8</td>\n      <td>Miles</td>\n      <td>NaN</td>\n      <td>NaN</td>\n      <td>NaN</td>\n      <td>NaN</td>\n      <td>NaN</td>\n      <td>NaN</td>\n      <td>NaN</td>\n      <td>NaN</td>\n      <td>NaN</td>\n      <td>NaN</td>\n      <td>NaN</td>\n      <td>NaN</td>\n      <td>NaN</td>\n      <td>NaN</td>\n      <td>NaN</td>\n    </tr>\n  </tbody>\n</table>\n</div>"
     },
     "execution_count": 29,
     "metadata": {},
     "output_type": "execute_result"
    }
   ],
   "source": [
    "AUs.head()"
   ],
   "metadata": {
    "collapsed": false,
    "pycharm": {
     "name": "#%%\n"
    }
   }
  },
  {
   "cell_type": "markdown",
   "source": [
    "### How many Assessment Units (AUs) have ever existed nationwide?\n",
    "Note: this estimate doesn't include Pennsylvania, which according to https://attains.epa.gov/attains-public/api/assessmentUnits?stateCode=PA&returnCountOnly=Y contains on the order of 200,000 AUs on its own."
   ],
   "metadata": {
    "collapsed": false,
    "pycharm": {
     "name": "#%% md\n"
    }
   }
  },
  {
   "cell_type": "code",
   "execution_count": 30,
   "outputs": [
    {
     "data": {
      "text/plain": "331553"
     },
     "execution_count": 30,
     "metadata": {},
     "output_type": "execute_result"
    }
   ],
   "source": [
    "len(AUs['AUID'].unique())"
   ],
   "metadata": {
    "collapsed": false,
    "pycharm": {
     "name": "#%%\n"
    }
   }
  },
  {
   "cell_type": "markdown",
   "source": [
    "### For many AUs do we have a HUC code match?"
   ],
   "metadata": {
    "collapsed": false,
    "pycharm": {
     "name": "#%% md\n"
    }
   }
  },
  {
   "cell_type": "code",
   "execution_count": 31,
   "outputs": [
    {
     "data": {
      "text/plain": "99534"
     },
     "execution_count": 31,
     "metadata": {},
     "output_type": "execute_result"
    }
   ],
   "source": [
    "AUs[(~pd.isna(AUs['HUC-12'])) | (~pd.isna(AUs['HUC-10'])) | (~pd.isna(AUs['HUC-8']))].shape[0]"
   ],
   "metadata": {
    "collapsed": false,
    "pycharm": {
     "name": "#%%\n"
    }
   }
  },
  {
   "cell_type": "markdown",
   "source": [
    "### Does a single water body ever have more than one AUID on record?"
   ],
   "metadata": {
    "collapsed": false,
    "pycharm": {
     "name": "#%% md\n"
    }
   }
  },
  {
   "cell_type": "code",
   "execution_count": 32,
   "outputs": [],
   "source": [
    "counts = AUs.groupby(['items.assessmentUnits.assessmentUnitName', 'items.assessmentUnits.assessmentUnitIdentifier'], as_index=False).nunique()\n",
    "changed_AUIDs = counts[counts['AUID']>1][['items.assessmentUnits.assessmentUnitName', 'items.assessmentUnits.assessmentUnitIdentifier']]"
   ],
   "metadata": {
    "collapsed": false,
    "pycharm": {
     "name": "#%%\n"
    }
   }
  },
  {
   "cell_type": "code",
   "execution_count": 33,
   "outputs": [
    {
     "data": {
      "text/plain": "             items.assessmentUnits.assessmentUnitName  \\\n0   Aarons Creek from the confluence with Big Bran...   \n2   Aarons Creek from the confluence with Big Bran...   \n3                                             Abenaki   \n4                                             Abenaki   \n5                        All waters in watershed L33R   \n7                        All waters in watershed L33R   \n8   Allen Creek from its headwaters to its mouth o...   \n9   Allen Creek from its headwaters to its mouth o...   \n11                                            Amherst   \n12                                            Amherst   \n13  An unnamed tributary of Hurricane Branch from ...   \n14  An unnamed tributary of Hurricane Branch from ...   \n16             An unnamed tributary to Frisby Branch.   \n18             An unnamed tributary to Frisby Branch.   \n19  An unnamed tributary to the Big Otter River fr...   \n21  An unnamed tributary to the Big Otter River fr...   \n22  An unnamed tributary to the Roanoke (Staunton)...   \n23  An unnamed tributary to the Roanoke (Staunton)...   \n25  An unnamed tributary to the Roanoke (Staunton)...   \n26  An unnamed tributary to the Roanoke (Staunton)...   \n\n   items.assessmentUnits.assessmentUnitIdentifier               AUID  HUC-12  \n0                                    Aarons Creek  VAC-L73R_AAR01A00     NaN  \n2                                    Aarons Creek  VAW-L73R_AAR01A00     NaN  \n3                                         ABENAKI      VT14-03L03_02     NaN  \n4                                         ABENAKI      VT14-03L03_01     NaN  \n5            Unsegmented Portion of Watershed L33  VAC-L33R_ZZZ01A00     NaN  \n7            Unsegmented Portion of Watershed L33  VAW-L33R_ZZZ01A00     NaN  \n8                                     Allen Creek  VAW-L67R_ALL01A08     NaN  \n9                                     Allen Creek  VAC-L67R_ALL01A08     NaN  \n11                                        AMHERST      VT10-15L02_01     NaN  \n12                                        AMHERST      VT10-15L02_02     NaN  \n13            Hurricane Branch, Unnamed Tributary  VAP-K16R_XBL02A02     NaN  \n14            Hurricane Branch, Unnamed Tributary  VAC-K16R_XBL02A02     NaN  \n16               Frisby Branch, Unnamed Tributary  VAC-H21R_XQL01A00     NaN  \n18               Frisby Branch, Unnamed Tributary  VAP-H21R_XQL01A00     NaN  \n19             Big Otter River, Unnamed Tributary  VAC-L28R_XMA01A02     NaN  \n21             Big Otter River, Unnamed Tributary  VAW-L28R_XMA01A02     NaN  \n22    Roanoke (Staunton) River, Unnamed Tributary  VAW-L19R_XCN01A02     NaN  \n23    Roanoke (Staunton) River, Unnamed Tributary  VAC-L19R_XCN01A02     NaN  \n25    Roanoke (Staunton) River, Unnamed Tributary  VAW-L30R_XMH01A02     NaN  \n26    Roanoke (Staunton) River, Unnamed Tributary  VAC-L30R_XMH01A02     NaN  ",
      "text/html": "<div>\n<style scoped>\n    .dataframe tbody tr th:only-of-type {\n        vertical-align: middle;\n    }\n\n    .dataframe tbody tr th {\n        vertical-align: top;\n    }\n\n    .dataframe thead th {\n        text-align: right;\n    }\n</style>\n<table border=\"1\" class=\"dataframe\">\n  <thead>\n    <tr style=\"text-align: right;\">\n      <th></th>\n      <th>items.assessmentUnits.assessmentUnitName</th>\n      <th>items.assessmentUnits.assessmentUnitIdentifier</th>\n      <th>AUID</th>\n      <th>HUC-12</th>\n    </tr>\n  </thead>\n  <tbody>\n    <tr>\n      <th>0</th>\n      <td>Aarons Creek from the confluence with Big Bran...</td>\n      <td>Aarons Creek</td>\n      <td>VAC-L73R_AAR01A00</td>\n      <td>NaN</td>\n    </tr>\n    <tr>\n      <th>2</th>\n      <td>Aarons Creek from the confluence with Big Bran...</td>\n      <td>Aarons Creek</td>\n      <td>VAW-L73R_AAR01A00</td>\n      <td>NaN</td>\n    </tr>\n    <tr>\n      <th>3</th>\n      <td>Abenaki</td>\n      <td>ABENAKI</td>\n      <td>VT14-03L03_02</td>\n      <td>NaN</td>\n    </tr>\n    <tr>\n      <th>4</th>\n      <td>Abenaki</td>\n      <td>ABENAKI</td>\n      <td>VT14-03L03_01</td>\n      <td>NaN</td>\n    </tr>\n    <tr>\n      <th>5</th>\n      <td>All waters in watershed L33R</td>\n      <td>Unsegmented Portion of Watershed L33</td>\n      <td>VAC-L33R_ZZZ01A00</td>\n      <td>NaN</td>\n    </tr>\n    <tr>\n      <th>7</th>\n      <td>All waters in watershed L33R</td>\n      <td>Unsegmented Portion of Watershed L33</td>\n      <td>VAW-L33R_ZZZ01A00</td>\n      <td>NaN</td>\n    </tr>\n    <tr>\n      <th>8</th>\n      <td>Allen Creek from its headwaters to its mouth o...</td>\n      <td>Allen Creek</td>\n      <td>VAW-L67R_ALL01A08</td>\n      <td>NaN</td>\n    </tr>\n    <tr>\n      <th>9</th>\n      <td>Allen Creek from its headwaters to its mouth o...</td>\n      <td>Allen Creek</td>\n      <td>VAC-L67R_ALL01A08</td>\n      <td>NaN</td>\n    </tr>\n    <tr>\n      <th>11</th>\n      <td>Amherst</td>\n      <td>AMHERST</td>\n      <td>VT10-15L02_01</td>\n      <td>NaN</td>\n    </tr>\n    <tr>\n      <th>12</th>\n      <td>Amherst</td>\n      <td>AMHERST</td>\n      <td>VT10-15L02_02</td>\n      <td>NaN</td>\n    </tr>\n    <tr>\n      <th>13</th>\n      <td>An unnamed tributary of Hurricane Branch from ...</td>\n      <td>Hurricane Branch, Unnamed Tributary</td>\n      <td>VAP-K16R_XBL02A02</td>\n      <td>NaN</td>\n    </tr>\n    <tr>\n      <th>14</th>\n      <td>An unnamed tributary of Hurricane Branch from ...</td>\n      <td>Hurricane Branch, Unnamed Tributary</td>\n      <td>VAC-K16R_XBL02A02</td>\n      <td>NaN</td>\n    </tr>\n    <tr>\n      <th>16</th>\n      <td>An unnamed tributary to Frisby Branch.</td>\n      <td>Frisby Branch, Unnamed Tributary</td>\n      <td>VAC-H21R_XQL01A00</td>\n      <td>NaN</td>\n    </tr>\n    <tr>\n      <th>18</th>\n      <td>An unnamed tributary to Frisby Branch.</td>\n      <td>Frisby Branch, Unnamed Tributary</td>\n      <td>VAP-H21R_XQL01A00</td>\n      <td>NaN</td>\n    </tr>\n    <tr>\n      <th>19</th>\n      <td>An unnamed tributary to the Big Otter River fr...</td>\n      <td>Big Otter River, Unnamed Tributary</td>\n      <td>VAC-L28R_XMA01A02</td>\n      <td>NaN</td>\n    </tr>\n    <tr>\n      <th>21</th>\n      <td>An unnamed tributary to the Big Otter River fr...</td>\n      <td>Big Otter River, Unnamed Tributary</td>\n      <td>VAW-L28R_XMA01A02</td>\n      <td>NaN</td>\n    </tr>\n    <tr>\n      <th>22</th>\n      <td>An unnamed tributary to the Roanoke (Staunton)...</td>\n      <td>Roanoke (Staunton) River, Unnamed Tributary</td>\n      <td>VAW-L19R_XCN01A02</td>\n      <td>NaN</td>\n    </tr>\n    <tr>\n      <th>23</th>\n      <td>An unnamed tributary to the Roanoke (Staunton)...</td>\n      <td>Roanoke (Staunton) River, Unnamed Tributary</td>\n      <td>VAC-L19R_XCN01A02</td>\n      <td>NaN</td>\n    </tr>\n    <tr>\n      <th>25</th>\n      <td>An unnamed tributary to the Roanoke (Staunton)...</td>\n      <td>Roanoke (Staunton) River, Unnamed Tributary</td>\n      <td>VAW-L30R_XMH01A02</td>\n      <td>NaN</td>\n    </tr>\n    <tr>\n      <th>26</th>\n      <td>An unnamed tributary to the Roanoke (Staunton)...</td>\n      <td>Roanoke (Staunton) River, Unnamed Tributary</td>\n      <td>VAC-L30R_XMH01A02</td>\n      <td>NaN</td>\n    </tr>\n  </tbody>\n</table>\n</div>"
     },
     "execution_count": 33,
     "metadata": {},
     "output_type": "execute_result"
    }
   ],
   "source": [
    "changed_AUIDs = changed_AUIDs.merge(AUs[['AUID', 'HUC-12', 'items.assessmentUnits.assessmentUnitName', 'items.assessmentUnits.assessmentUnitIdentifier']], on=['items.assessmentUnits.assessmentUnitName', 'items.assessmentUnits.assessmentUnitIdentifier'], how='left').drop_duplicates()\n",
    "changed_AUIDs.head(20)"
   ],
   "metadata": {
    "collapsed": false,
    "pycharm": {
     "name": "#%%\n"
    }
   }
  },
  {
   "cell_type": "markdown",
   "source": [
    "Cross-referencing these records with the assessments file below, it appears that many of the examples in the table above represent water bodies in Virginia that underwent a AUID change in 2018 from using the 'VAC' prefix to using 'VAP' or 'VAW' (maybe this has to do with a change to the state's segmentation methodology?). Similar renamings may have occurred in CT, RI, MD, and MO.\n",
    "Other examples seem to be distinct water bodies that happen to share the same `items.assessmentUnits.assessmentUnitName` and `items.assessmentUnits.assessmentUnitIdentifier` values - in some cases, because they are unnamed tributaries or unsegmented portions of watersheds, in other cases, because names are not specific. This appears to be the case for the examples from Alabama.\n",
    "Some examples from Vermont use a two-digit 'Assessment Database segment code' suffix for \"EPA tracking purposes\" (e.g., VT17-01L01_01 and VT17-01L01_02, see https://www.epa.gov/sites/default/files/2019-02/documents/2018-vt-303d-list-report.pdf)"
   ],
   "metadata": {
    "collapsed": false,
    "pycharm": {
     "name": "#%% md\n"
    }
   }
  },
  {
   "cell_type": "markdown",
   "source": [
    "# 2. Assessments"
   ],
   "metadata": {
    "collapsed": false,
    "pycharm": {
     "name": "#%% md\n"
    }
   }
  },
  {
   "cell_type": "code",
   "execution_count": 34,
   "outputs": [
    {
     "data": {
      "text/plain": "   Unnamed: 0 state_code organizationIdentifier organizationTypeText  \\\n0           1         AL                 21AWIC                State   \n1           2         AL                 21AWIC                State   \n2           3         AL                 21AWIC                State   \n3           4         AL                 21AWIC                State   \n4           5         AL                 21AWIC                State   \n\n  reportingCycleText assessmentUnitIdentifier  \\\n0               2004        AL-Gulf of Mexico   \n1               2004        AL-Gulf of Mexico   \n2               2004        AL-Gulf of Mexico   \n3               2004        AL-Gulf of Mexico   \n4               2004        AL-Gulf of Mexico   \n\n                            useName useAttainmentCode epaIRCategory  \\\n0                Contact Recreation                 N           NaN   \n1                Contact Recreation                 N           NaN   \n2                           Fishing                 N           NaN   \n3                           Fishing                 N           NaN   \n4  Propagation of Fish and Wildlife                 N           NaN   \n\n  associatedActionIdentifier threatenedIndicator parameterStatusName  \\\n0                        NaN                   N               Cause   \n1                        NaN                   N               Cause   \n2                        NaN                   N               Cause   \n3                        NaN                   N               Cause   \n4                        NaN                   N               Cause   \n\n  parameterName  cycle_first_listed  cycleLastAssessedText  \\\n0       MERCURY              2004.0                   2002   \n1        METALS              2004.0                   2002   \n2       MERCURY              2004.0                   2002   \n3        METALS              2004.0                   2002   \n4       MERCURY              2004.0                   2002   \n\n   cycle_scheduled_for_TMDL assessment_date  \n0                       NaN             NaT  \n1                       NaN             NaT  \n2                       NaN             NaT  \n3                       NaN             NaT  \n4                       NaN             NaT  ",
      "text/html": "<div>\n<style scoped>\n    .dataframe tbody tr th:only-of-type {\n        vertical-align: middle;\n    }\n\n    .dataframe tbody tr th {\n        vertical-align: top;\n    }\n\n    .dataframe thead th {\n        text-align: right;\n    }\n</style>\n<table border=\"1\" class=\"dataframe\">\n  <thead>\n    <tr style=\"text-align: right;\">\n      <th></th>\n      <th>Unnamed: 0</th>\n      <th>state_code</th>\n      <th>organizationIdentifier</th>\n      <th>organizationTypeText</th>\n      <th>reportingCycleText</th>\n      <th>assessmentUnitIdentifier</th>\n      <th>useName</th>\n      <th>useAttainmentCode</th>\n      <th>epaIRCategory</th>\n      <th>associatedActionIdentifier</th>\n      <th>threatenedIndicator</th>\n      <th>parameterStatusName</th>\n      <th>parameterName</th>\n      <th>cycle_first_listed</th>\n      <th>cycleLastAssessedText</th>\n      <th>cycle_scheduled_for_TMDL</th>\n      <th>assessment_date</th>\n    </tr>\n  </thead>\n  <tbody>\n    <tr>\n      <th>0</th>\n      <td>1</td>\n      <td>AL</td>\n      <td>21AWIC</td>\n      <td>State</td>\n      <td>2004</td>\n      <td>AL-Gulf of Mexico</td>\n      <td>Contact Recreation</td>\n      <td>N</td>\n      <td>NaN</td>\n      <td>NaN</td>\n      <td>N</td>\n      <td>Cause</td>\n      <td>MERCURY</td>\n      <td>2004.0</td>\n      <td>2002</td>\n      <td>NaN</td>\n      <td>NaT</td>\n    </tr>\n    <tr>\n      <th>1</th>\n      <td>2</td>\n      <td>AL</td>\n      <td>21AWIC</td>\n      <td>State</td>\n      <td>2004</td>\n      <td>AL-Gulf of Mexico</td>\n      <td>Contact Recreation</td>\n      <td>N</td>\n      <td>NaN</td>\n      <td>NaN</td>\n      <td>N</td>\n      <td>Cause</td>\n      <td>METALS</td>\n      <td>2004.0</td>\n      <td>2002</td>\n      <td>NaN</td>\n      <td>NaT</td>\n    </tr>\n    <tr>\n      <th>2</th>\n      <td>3</td>\n      <td>AL</td>\n      <td>21AWIC</td>\n      <td>State</td>\n      <td>2004</td>\n      <td>AL-Gulf of Mexico</td>\n      <td>Fishing</td>\n      <td>N</td>\n      <td>NaN</td>\n      <td>NaN</td>\n      <td>N</td>\n      <td>Cause</td>\n      <td>MERCURY</td>\n      <td>2004.0</td>\n      <td>2002</td>\n      <td>NaN</td>\n      <td>NaT</td>\n    </tr>\n    <tr>\n      <th>3</th>\n      <td>4</td>\n      <td>AL</td>\n      <td>21AWIC</td>\n      <td>State</td>\n      <td>2004</td>\n      <td>AL-Gulf of Mexico</td>\n      <td>Fishing</td>\n      <td>N</td>\n      <td>NaN</td>\n      <td>NaN</td>\n      <td>N</td>\n      <td>Cause</td>\n      <td>METALS</td>\n      <td>2004.0</td>\n      <td>2002</td>\n      <td>NaN</td>\n      <td>NaT</td>\n    </tr>\n    <tr>\n      <th>4</th>\n      <td>5</td>\n      <td>AL</td>\n      <td>21AWIC</td>\n      <td>State</td>\n      <td>2004</td>\n      <td>AL-Gulf of Mexico</td>\n      <td>Propagation of Fish and Wildlife</td>\n      <td>N</td>\n      <td>NaN</td>\n      <td>NaN</td>\n      <td>N</td>\n      <td>Cause</td>\n      <td>MERCURY</td>\n      <td>2004.0</td>\n      <td>2002</td>\n      <td>NaN</td>\n      <td>NaT</td>\n    </tr>\n  </tbody>\n</table>\n</div>"
     },
     "execution_count": 34,
     "metadata": {},
     "output_type": "execute_result"
    }
   ],
   "source": [
    "assessments.head()"
   ],
   "metadata": {
    "collapsed": false,
    "pycharm": {
     "name": "#%%\n"
    }
   }
  },
  {
   "cell_type": "code",
   "execution_count": 35,
   "outputs": [
    {
     "data": {
      "text/plain": "3960114"
     },
     "execution_count": 35,
     "metadata": {},
     "output_type": "execute_result"
    }
   ],
   "source": [
    "len(assessments)"
   ],
   "metadata": {
    "collapsed": false,
    "pycharm": {
     "name": "#%%\n"
    }
   }
  },
  {
   "cell_type": "markdown",
   "source": [
    "### How many use assessments nationwide, ever, have contributed to a 'Not Supporting' determination?\n",
    "From here on, 'impaired' = received a 'Not Supporting' determination for any use. One assessment unit can be impaired by having multiple impairments - e.g., multiple chemicals (parameters) or multiple uses or both.\n",
    "Here, a use assessment is uniquely identified by assessmentUnitIdentifier + useName + parameterName + reportingCycleText + assessment_date"
   ],
   "metadata": {
    "collapsed": false,
    "pycharm": {
     "name": "#%% md\n"
    }
   }
  },
  {
   "cell_type": "code",
   "execution_count": 36,
   "outputs": [
    {
     "data": {
      "text/plain": "3699477"
     },
     "execution_count": 36,
     "metadata": {},
     "output_type": "execute_result"
    }
   ],
   "source": [
    "assessments.drop_duplicates(subset=['assessmentUnitIdentifier', 'useName', 'reportingCycleText', 'parameterName', 'assessment_date']).shape[0]"
   ],
   "metadata": {
    "collapsed": false,
    "pycharm": {
     "name": "#%%\n"
    }
   }
  },
  {
   "cell_type": "markdown",
   "source": [
    "These numbers are different because the assessments table contains one row per use assessment x TMDL instance, and some use assessments are associated with multiple TMDLs from different years."
   ],
   "metadata": {
    "collapsed": false,
    "pycharm": {
     "name": "#%% md\n"
    }
   }
  },
  {
   "cell_type": "markdown",
   "source": [
    "### What proportion of assessments have been associated with multiple TMDLs?"
   ],
   "metadata": {
    "collapsed": false,
    "pycharm": {
     "name": "#%% md\n"
    }
   }
  },
  {
   "cell_type": "code",
   "execution_count": 37,
   "outputs": [
    {
     "data": {
      "text/plain": "False    0.934184\nTrue     0.065816\ndtype: float64"
     },
     "execution_count": 37,
     "metadata": {},
     "output_type": "execute_result"
    }
   ],
   "source": [
    "assessments.duplicated(subset=['assessmentUnitIdentifier', 'useName', 'reportingCycleText', 'parameterName', 'assessment_date']).value_counts(normalize=True)"
   ],
   "metadata": {
    "collapsed": false,
    "pycharm": {
     "name": "#%%\n"
    }
   }
  },
  {
   "cell_type": "markdown",
   "source": [
    "### What proportion of all assessment units have been associated with multiple TMDLs?"
   ],
   "metadata": {
    "collapsed": false,
    "pycharm": {
     "name": "#%% md\n"
    }
   }
  },
  {
   "cell_type": "code",
   "execution_count": 38,
   "outputs": [
    {
     "data": {
      "text/plain": "0.24237452232373105"
     },
     "execution_count": 38,
     "metadata": {},
     "output_type": "execute_result"
    }
   ],
   "source": [
    "len(assessments[assessments.duplicated(subset=['assessmentUnitIdentifier', 'associatedActionIdentifier'])].dropna(subset='associatedActionIdentifier').drop_duplicates('assessmentUnitIdentifier'))/len(AUs['AUID'].unique())"
   ],
   "metadata": {
    "collapsed": false,
    "pycharm": {
     "name": "#%%\n"
    }
   }
  },
  {
   "cell_type": "markdown",
   "source": [
    "### How many unique assessment units have been impaired?"
   ],
   "metadata": {
    "collapsed": false,
    "pycharm": {
     "name": "#%% md\n"
    }
   }
  },
  {
   "cell_type": "code",
   "execution_count": 39,
   "outputs": [
    {
     "data": {
      "text/plain": "220326"
     },
     "execution_count": 39,
     "metadata": {},
     "output_type": "execute_result"
    }
   ],
   "source": [
    "len(assessments['assessmentUnitIdentifier'].unique())"
   ],
   "metadata": {
    "collapsed": false,
    "pycharm": {
     "name": "#%%\n"
    }
   }
  },
  {
   "cell_type": "markdown",
   "source": [
    "### Which states have had the most use assessments leading to impairments?"
   ],
   "metadata": {
    "collapsed": false,
    "pycharm": {
     "name": "#%% md\n"
    }
   }
  },
  {
   "cell_type": "code",
   "execution_count": 40,
   "outputs": [
    {
     "data": {
      "text/plain": "state_code\nPA            0.150262\nNH            0.136518\nKS            0.086511\nCA            0.060322\nVA            0.058579\nFL            0.050741\nNJ            0.044158\nOR            0.038471\nWV            0.033967\nNV            0.027243\nIN            0.023406\nMI            0.022562\nWA            0.020319\nMT            0.017350\nNC            0.016956\nMN            0.016645\nID            0.015851\nOH            0.015627\nMA            0.013891\nTN            0.013100\nIL            0.011953\nTX            0.010832\nOK            0.010769\nWI            0.010639\nKY            0.010069\nAR            0.008470\nLA            0.005192\nSC            0.005006\nPR            0.004974\nCT            0.004763\nVT            0.004592\nGA            0.004165\nAL            0.004144\nSD            0.004061\nIA            0.003507\nCO            0.003328\nHI            0.003304\nNM            0.003031\nMO            0.002970\nNE            0.002884\nRI            0.002796\nDE            0.002290\nMS            0.002075\nUT            0.002032\nMD            0.002009\nME            0.001889\nAZ            0.001739\nAK            0.001448\nVI            0.001073\nND            0.000620\nWY            0.000480\nNY            0.000418\ndtype: float64"
     },
     "execution_count": 40,
     "metadata": {},
     "output_type": "execute_result"
    }
   ],
   "source": [
    "assessments.drop_duplicates(subset=['assessmentUnitIdentifier', 'useName', 'reportingCycleText',  'parameterName', 'assessment_date'])[['state_code']].value_counts(normalize=True)"
   ],
   "metadata": {
    "collapsed": false,
    "pycharm": {
     "name": "#%%\n"
    }
   }
  },
  {
   "cell_type": "markdown",
   "source": [
    "### Which states have the highest and lowest rates of impairments per assessment unit?"
   ],
   "metadata": {
    "collapsed": false,
    "pycharm": {
     "name": "#%% md\n"
    }
   }
  },
  {
   "cell_type": "code",
   "execution_count": 41,
   "outputs": [],
   "source": [
    "# Get counts of assessment units in each state\n",
    "AU_counts = {}\n",
    "for state in assessments['state_code'].unique():\n",
    "    response = urlopen('https://attains.epa.gov/attains-public/api/assessmentUnits?stateCode=' + state + '&returnCountOnly=Y')\n",
    "    data = json.loads(response.read())['count']\n",
    "    AU_counts[state] = data"
   ],
   "metadata": {
    "collapsed": false,
    "pycharm": {
     "name": "#%%\n"
    }
   }
  },
  {
   "cell_type": "code",
   "execution_count": 42,
   "outputs": [],
   "source": [
    "rates = pd.DataFrame(assessments.drop_duplicates(subset=['assessmentUnitIdentifier', 'useName',  'parameterName', 'reportingCycleText', 'assessment_date'])['state_code'].value_counts())\n",
    "rates = rates.reset_index().rename(columns = {'index':'state', 'state_code':'# impairments'})\n",
    "rates['AUs'] = rates['state'].apply(lambda x: AU_counts[x])\n",
    "rates['Impairment rate'] = rates['# impairments']/rates['AUs']"
   ],
   "metadata": {
    "collapsed": false,
    "pycharm": {
     "name": "#%%\n"
    }
   }
  },
  {
   "cell_type": "code",
   "execution_count": 43,
   "outputs": [
    {
     "data": {
      "text/plain": "   state  # impairments   AUs  Impairment rate\n6     NJ         163360   958       170.521921\n9     NV         100786   711       141.752461\n2     KS         320045  2421       132.195374\n3     CA         223161  4068        54.857670\n13    MT          64186  1203        53.354946\n28    PR          18403   358        51.405028\n33    SD          15022   400        37.555000\n26    LA          19206   563        34.113677\n17    OH          57812  1723        33.553105\n5     FL         187714  7072        26.543269",
      "text/html": "<div>\n<style scoped>\n    .dataframe tbody tr th:only-of-type {\n        vertical-align: middle;\n    }\n\n    .dataframe tbody tr th {\n        vertical-align: top;\n    }\n\n    .dataframe thead th {\n        text-align: right;\n    }\n</style>\n<table border=\"1\" class=\"dataframe\">\n  <thead>\n    <tr style=\"text-align: right;\">\n      <th></th>\n      <th>state</th>\n      <th># impairments</th>\n      <th>AUs</th>\n      <th>Impairment rate</th>\n    </tr>\n  </thead>\n  <tbody>\n    <tr>\n      <th>6</th>\n      <td>NJ</td>\n      <td>163360</td>\n      <td>958</td>\n      <td>170.521921</td>\n    </tr>\n    <tr>\n      <th>9</th>\n      <td>NV</td>\n      <td>100786</td>\n      <td>711</td>\n      <td>141.752461</td>\n    </tr>\n    <tr>\n      <th>2</th>\n      <td>KS</td>\n      <td>320045</td>\n      <td>2421</td>\n      <td>132.195374</td>\n    </tr>\n    <tr>\n      <th>3</th>\n      <td>CA</td>\n      <td>223161</td>\n      <td>4068</td>\n      <td>54.857670</td>\n    </tr>\n    <tr>\n      <th>13</th>\n      <td>MT</td>\n      <td>64186</td>\n      <td>1203</td>\n      <td>53.354946</td>\n    </tr>\n    <tr>\n      <th>28</th>\n      <td>PR</td>\n      <td>18403</td>\n      <td>358</td>\n      <td>51.405028</td>\n    </tr>\n    <tr>\n      <th>33</th>\n      <td>SD</td>\n      <td>15022</td>\n      <td>400</td>\n      <td>37.555000</td>\n    </tr>\n    <tr>\n      <th>26</th>\n      <td>LA</td>\n      <td>19206</td>\n      <td>563</td>\n      <td>34.113677</td>\n    </tr>\n    <tr>\n      <th>17</th>\n      <td>OH</td>\n      <td>57812</td>\n      <td>1723</td>\n      <td>33.553105</td>\n    </tr>\n    <tr>\n      <th>5</th>\n      <td>FL</td>\n      <td>187714</td>\n      <td>7072</td>\n      <td>26.543269</td>\n    </tr>\n  </tbody>\n</table>\n</div>"
     },
     "execution_count": 43,
     "metadata": {},
     "output_type": "execute_result"
    }
   ],
   "source": [
    "rates.sort_values(by='Impairment rate', ascending=False).head(10)"
   ],
   "metadata": {
    "collapsed": false,
    "pycharm": {
     "name": "#%%\n"
    }
   }
  },
  {
   "cell_type": "code",
   "execution_count": 44,
   "outputs": [
    {
     "data": {
      "text/plain": "   state  # impairments     AUs  Impairment rate\n45    ME           6989    1967         3.553127\n34    IA          12973    4924         2.634647\n0     PA         555891  216735         2.564842\n38    MO          10988    4331         2.537058\n39    NE          10671    4270         2.499063\n8     WV         125659   60450         2.078726\n49    ND           2294    1834         1.250818\n23    WI          39357   35583         1.106062\n15    MN          61579   55855         1.102480\n51    NY           1548    4873         0.317669",
      "text/html": "<div>\n<style scoped>\n    .dataframe tbody tr th:only-of-type {\n        vertical-align: middle;\n    }\n\n    .dataframe tbody tr th {\n        vertical-align: top;\n    }\n\n    .dataframe thead th {\n        text-align: right;\n    }\n</style>\n<table border=\"1\" class=\"dataframe\">\n  <thead>\n    <tr style=\"text-align: right;\">\n      <th></th>\n      <th>state</th>\n      <th># impairments</th>\n      <th>AUs</th>\n      <th>Impairment rate</th>\n    </tr>\n  </thead>\n  <tbody>\n    <tr>\n      <th>45</th>\n      <td>ME</td>\n      <td>6989</td>\n      <td>1967</td>\n      <td>3.553127</td>\n    </tr>\n    <tr>\n      <th>34</th>\n      <td>IA</td>\n      <td>12973</td>\n      <td>4924</td>\n      <td>2.634647</td>\n    </tr>\n    <tr>\n      <th>0</th>\n      <td>PA</td>\n      <td>555891</td>\n      <td>216735</td>\n      <td>2.564842</td>\n    </tr>\n    <tr>\n      <th>38</th>\n      <td>MO</td>\n      <td>10988</td>\n      <td>4331</td>\n      <td>2.537058</td>\n    </tr>\n    <tr>\n      <th>39</th>\n      <td>NE</td>\n      <td>10671</td>\n      <td>4270</td>\n      <td>2.499063</td>\n    </tr>\n    <tr>\n      <th>8</th>\n      <td>WV</td>\n      <td>125659</td>\n      <td>60450</td>\n      <td>2.078726</td>\n    </tr>\n    <tr>\n      <th>49</th>\n      <td>ND</td>\n      <td>2294</td>\n      <td>1834</td>\n      <td>1.250818</td>\n    </tr>\n    <tr>\n      <th>23</th>\n      <td>WI</td>\n      <td>39357</td>\n      <td>35583</td>\n      <td>1.106062</td>\n    </tr>\n    <tr>\n      <th>15</th>\n      <td>MN</td>\n      <td>61579</td>\n      <td>55855</td>\n      <td>1.102480</td>\n    </tr>\n    <tr>\n      <th>51</th>\n      <td>NY</td>\n      <td>1548</td>\n      <td>4873</td>\n      <td>0.317669</td>\n    </tr>\n  </tbody>\n</table>\n</div>"
     },
     "execution_count": 44,
     "metadata": {},
     "output_type": "execute_result"
    }
   ],
   "source": [
    "rates.sort_values(by='Impairment rate', ascending=False).tail(10)"
   ],
   "metadata": {
    "collapsed": false,
    "pycharm": {
     "name": "#%%\n"
    }
   }
  },
  {
   "cell_type": "markdown",
   "source": [
    "Note: this table counts an impairment as a unique combination of a parameter x use x AUID x reportingCycle. Thus, having one parameter lead to 5 uses being impaired will have the same effect on impairment rate as 5 parameters each leading to one use being impaired."
   ],
   "metadata": {
    "collapsed": false,
    "pycharm": {
     "name": "#%% md\n"
    }
   }
  },
  {
   "cell_type": "markdown",
   "source": [
    "### For what fraction of use assessments do we have an assessment date?"
   ],
   "metadata": {
    "collapsed": false,
    "pycharm": {
     "name": "#%% md\n"
    }
   }
  },
  {
   "cell_type": "code",
   "execution_count": 45,
   "outputs": [
    {
     "data": {
      "text/plain": "0.24951797240528864"
     },
     "execution_count": 45,
     "metadata": {},
     "output_type": "execute_result"
    }
   ],
   "source": [
    "use_assessments_unique = assessments.drop_duplicates(subset=['assessmentUnitIdentifier', 'useName', 'parameterName', 'reportingCycleText', 'assessment_date'])\n",
    "use_assessments_unique[~pd.isna(use_assessments_unique['assessment_date'])].shape[0]/use_assessments_unique.shape[0]"
   ],
   "metadata": {
    "collapsed": false,
    "pycharm": {
     "name": "#%%\n"
    }
   }
  },
  {
   "cell_type": "markdown",
   "source": [
    "### What parameters have caused the most impairments?"
   ],
   "metadata": {
    "collapsed": false,
    "pycharm": {
     "name": "#%% md\n"
    }
   }
  },
  {
   "cell_type": "code",
   "execution_count": 46,
   "outputs": [
    {
     "data": {
      "text/plain": "ESCHERICHIA COLI (E. COLI)          0.066455\nPATHOGENS                           0.065500\nSILTATION                           0.060735\nFECAL COLIFORM                      0.051016\nDISSOLVED OXYGEN                    0.046293\nPH                                  0.042407\nMERCURY                             0.041189\nMERCURY IN FISH TISSUE              0.036908\nPCBS IN FISH TISSUE                 0.030882\nPOLYCHLORINATED BIPHENYLS (PCBS)    0.026713\nName: parameterName, dtype: float64"
     },
     "execution_count": 46,
     "metadata": {},
     "output_type": "execute_result"
    }
   ],
   "source": [
    "use_assessments_unique[use_assessments_unique['parameterStatusName']=='Cause']['parameterName'].value_counts(normalize=True).iloc[0:10]"
   ],
   "metadata": {
    "collapsed": false,
    "pycharm": {
     "name": "#%%\n"
    }
   }
  },
  {
   "cell_type": "markdown",
   "source": [
    "### What parameters have caused the most assessment units to be impaired, irrespective of number of use non-attainment declarations?"
   ],
   "metadata": {
    "collapsed": false,
    "pycharm": {
     "name": "#%% md\n"
    }
   }
  },
  {
   "cell_type": "code",
   "execution_count": 47,
   "outputs": [
    {
     "data": {
      "text/plain": "PATHOGENS                           0.074285\nSILTATION                           0.072638\nESCHERICHIA COLI (E. COLI)          0.068849\nMERCURY                             0.052655\nMERCURY IN FISH TISSUE              0.046431\nFECAL COLIFORM                      0.042380\nPH                                  0.040274\nDISSOLVED OXYGEN                    0.038449\nMETALS                              0.034789\nPOLYCHLORINATED BIPHENYLS (PCBS)    0.027160\nName: parameterName, dtype: float64"
     },
     "execution_count": 47,
     "metadata": {},
     "output_type": "execute_result"
    }
   ],
   "source": [
    "culprits_unique = assessments.drop_duplicates(subset=['assessmentUnitIdentifier', 'reportingCycleText', 'assessment_date', 'parameterName'])\n",
    "\n",
    "culprits_unique[culprits_unique['parameterStatusName']=='Cause']['parameterName'].value_counts(normalize=True).iloc[0:10]"
   ],
   "metadata": {
    "collapsed": false,
    "pycharm": {
     "name": "#%%\n"
    }
   }
  },
  {
   "cell_type": "markdown",
   "source": [
    "### What uses have the highest rate of non-attainment?"
   ],
   "metadata": {
    "collapsed": false,
    "pycharm": {
     "name": "#%% md\n"
    }
   }
  },
  {
   "cell_type": "code",
   "execution_count": 48,
   "outputs": [
    {
     "data": {
      "text/plain": "Fish Consumption              0.145012\nAquatic Life                  0.063840\nPrimary Contact Recreation    0.044730\nWater Contact Sports          0.043442\nRecreation                    0.038429\nAQUATIC LIFE USE              0.036220\nWarm Water Fishes             0.031540\nCold Water Fishes             0.028787\nDomestic Water Supply         0.025068\nAquatic Life Integrity        0.022380\nName: useName, dtype: float64"
     },
     "execution_count": 48,
     "metadata": {},
     "output_type": "execute_result"
    }
   ],
   "source": [
    "use_assessments_unique['useName'].value_counts(normalize=True).iloc[0:10]"
   ],
   "metadata": {
    "collapsed": false,
    "pycharm": {
     "name": "#%%\n"
    }
   }
  },
  {
   "cell_type": "markdown",
   "source": [
    "Let's look at an example of one AUID x use x parameter combination over time:"
   ],
   "metadata": {
    "collapsed": false,
    "pycharm": {
     "name": "#%% md\n"
    }
   }
  },
  {
   "cell_type": "code",
   "execution_count": 49,
   "outputs": [
    {
     "data": {
      "text/plain": "      Unnamed: 0 state_code organizationIdentifier organizationTypeText  \\\n1694        1695         AL                 21AWIC                State   \n3225        3226         AL                 21AWIC                State   \n4861        4862         AL                 21AWIC                State   \n6506        6507         AL                 21AWIC                State   \n8143        8144         AL                 21AWIC                State   \n\n     reportingCycleText assessmentUnitIdentifier             useName  \\\n1694               2006      AL03140106-0302-202  Contact Recreation   \n3225               2008      AL03140106-0302-202  Contact Recreation   \n4861               2010      AL03140106-0302-202  Contact Recreation   \n6506               2012      AL03140106-0302-202  Contact Recreation   \n8143               2014      AL03140106-0302-202  Contact Recreation   \n\n     useAttainmentCode epaIRCategory associatedActionIdentifier  \\\n1694                 N           NaN                        NaN   \n3225                 N             5                        NaN   \n4861                 N             5                        NaN   \n6506                 N             5                        NaN   \n8143                 N             5                        NaN   \n\n     threatenedIndicator parameterStatusName   parameterName  \\\n1694                   N               Cause  AMMONIA, TOTAL   \n3225                   N               Cause  AMMONIA, TOTAL   \n4861                   N               Cause  AMMONIA, TOTAL   \n6506                   N               Cause  AMMONIA, TOTAL   \n8143                   N               Cause  AMMONIA, TOTAL   \n\n      cycle_first_listed  cycleLastAssessedText  cycle_scheduled_for_TMDL  \\\n1694              2006.0                   2006                       NaN   \n3225              2006.0                   2008                    2010.0   \n4861              1998.0                   2006                    2015.0   \n6506              1998.0                   2006                    2015.0   \n8143              1998.0                   2006                    2016.0   \n\n     assessment_date  \n1694      2006-04-01  \n3225      2006-04-01  \n4861      2006-04-01  \n6506      2006-04-01  \n8143      2006-04-01  ",
      "text/html": "<div>\n<style scoped>\n    .dataframe tbody tr th:only-of-type {\n        vertical-align: middle;\n    }\n\n    .dataframe tbody tr th {\n        vertical-align: top;\n    }\n\n    .dataframe thead th {\n        text-align: right;\n    }\n</style>\n<table border=\"1\" class=\"dataframe\">\n  <thead>\n    <tr style=\"text-align: right;\">\n      <th></th>\n      <th>Unnamed: 0</th>\n      <th>state_code</th>\n      <th>organizationIdentifier</th>\n      <th>organizationTypeText</th>\n      <th>reportingCycleText</th>\n      <th>assessmentUnitIdentifier</th>\n      <th>useName</th>\n      <th>useAttainmentCode</th>\n      <th>epaIRCategory</th>\n      <th>associatedActionIdentifier</th>\n      <th>threatenedIndicator</th>\n      <th>parameterStatusName</th>\n      <th>parameterName</th>\n      <th>cycle_first_listed</th>\n      <th>cycleLastAssessedText</th>\n      <th>cycle_scheduled_for_TMDL</th>\n      <th>assessment_date</th>\n    </tr>\n  </thead>\n  <tbody>\n    <tr>\n      <th>1694</th>\n      <td>1695</td>\n      <td>AL</td>\n      <td>21AWIC</td>\n      <td>State</td>\n      <td>2006</td>\n      <td>AL03140106-0302-202</td>\n      <td>Contact Recreation</td>\n      <td>N</td>\n      <td>NaN</td>\n      <td>NaN</td>\n      <td>N</td>\n      <td>Cause</td>\n      <td>AMMONIA, TOTAL</td>\n      <td>2006.0</td>\n      <td>2006</td>\n      <td>NaN</td>\n      <td>2006-04-01</td>\n    </tr>\n    <tr>\n      <th>3225</th>\n      <td>3226</td>\n      <td>AL</td>\n      <td>21AWIC</td>\n      <td>State</td>\n      <td>2008</td>\n      <td>AL03140106-0302-202</td>\n      <td>Contact Recreation</td>\n      <td>N</td>\n      <td>5</td>\n      <td>NaN</td>\n      <td>N</td>\n      <td>Cause</td>\n      <td>AMMONIA, TOTAL</td>\n      <td>2006.0</td>\n      <td>2008</td>\n      <td>2010.0</td>\n      <td>2006-04-01</td>\n    </tr>\n    <tr>\n      <th>4861</th>\n      <td>4862</td>\n      <td>AL</td>\n      <td>21AWIC</td>\n      <td>State</td>\n      <td>2010</td>\n      <td>AL03140106-0302-202</td>\n      <td>Contact Recreation</td>\n      <td>N</td>\n      <td>5</td>\n      <td>NaN</td>\n      <td>N</td>\n      <td>Cause</td>\n      <td>AMMONIA, TOTAL</td>\n      <td>1998.0</td>\n      <td>2006</td>\n      <td>2015.0</td>\n      <td>2006-04-01</td>\n    </tr>\n    <tr>\n      <th>6506</th>\n      <td>6507</td>\n      <td>AL</td>\n      <td>21AWIC</td>\n      <td>State</td>\n      <td>2012</td>\n      <td>AL03140106-0302-202</td>\n      <td>Contact Recreation</td>\n      <td>N</td>\n      <td>5</td>\n      <td>NaN</td>\n      <td>N</td>\n      <td>Cause</td>\n      <td>AMMONIA, TOTAL</td>\n      <td>1998.0</td>\n      <td>2006</td>\n      <td>2015.0</td>\n      <td>2006-04-01</td>\n    </tr>\n    <tr>\n      <th>8143</th>\n      <td>8144</td>\n      <td>AL</td>\n      <td>21AWIC</td>\n      <td>State</td>\n      <td>2014</td>\n      <td>AL03140106-0302-202</td>\n      <td>Contact Recreation</td>\n      <td>N</td>\n      <td>5</td>\n      <td>NaN</td>\n      <td>N</td>\n      <td>Cause</td>\n      <td>AMMONIA, TOTAL</td>\n      <td>1998.0</td>\n      <td>2006</td>\n      <td>2016.0</td>\n      <td>2006-04-01</td>\n    </tr>\n  </tbody>\n</table>\n</div>"
     },
     "execution_count": 49,
     "metadata": {},
     "output_type": "execute_result"
    }
   ],
   "source": [
    "assessments[(assessments['assessmentUnitIdentifier']=='AL03140106-0302-202') &\n",
    "            (assessments['useName']=='Contact Recreation') &\n",
    "            (assessments['parameterName']=='AMMONIA, TOTAL')].sort_values(by='reportingCycleText').drop_duplicates()"
   ],
   "metadata": {
    "collapsed": false,
    "pycharm": {
     "name": "#%%\n"
    }
   }
  },
  {
   "cell_type": "markdown",
   "source": [
    "Clearly, the fields `cycle_first_listed` and `cycleLastAssessedText` are misleading."
   ],
   "metadata": {
    "collapsed": false,
    "pycharm": {
     "name": "#%% md\n"
    }
   }
  },
  {
   "cell_type": "markdown",
   "source": [
    "### Which states have the most and fewest reporting cycles present in ATTAINS?"
   ],
   "metadata": {
    "collapsed": false,
    "pycharm": {
     "name": "#%% md\n"
    }
   }
  },
  {
   "cell_type": "code",
   "execution_count": 50,
   "outputs": [
    {
     "data": {
      "text/plain": "            reportingCycleText\nstate_code                    \nLA                          11\nNM                          11\nVI                          11\nVA                          11\nMS                          11\nCT                          11\nTX                          11\nOK                          11\nTN                          11\nIA                          11\nSD                          11\nNE                          11\nMI                          10\nNJ                          10\nNC                          10",
      "text/html": "<div>\n<style scoped>\n    .dataframe tbody tr th:only-of-type {\n        vertical-align: middle;\n    }\n\n    .dataframe tbody tr th {\n        vertical-align: top;\n    }\n\n    .dataframe thead th {\n        text-align: right;\n    }\n</style>\n<table border=\"1\" class=\"dataframe\">\n  <thead>\n    <tr style=\"text-align: right;\">\n      <th></th>\n      <th>reportingCycleText</th>\n    </tr>\n    <tr>\n      <th>state_code</th>\n      <th></th>\n    </tr>\n  </thead>\n  <tbody>\n    <tr>\n      <th>LA</th>\n      <td>11</td>\n    </tr>\n    <tr>\n      <th>NM</th>\n      <td>11</td>\n    </tr>\n    <tr>\n      <th>VI</th>\n      <td>11</td>\n    </tr>\n    <tr>\n      <th>VA</th>\n      <td>11</td>\n    </tr>\n    <tr>\n      <th>MS</th>\n      <td>11</td>\n    </tr>\n    <tr>\n      <th>CT</th>\n      <td>11</td>\n    </tr>\n    <tr>\n      <th>TX</th>\n      <td>11</td>\n    </tr>\n    <tr>\n      <th>OK</th>\n      <td>11</td>\n    </tr>\n    <tr>\n      <th>TN</th>\n      <td>11</td>\n    </tr>\n    <tr>\n      <th>IA</th>\n      <td>11</td>\n    </tr>\n    <tr>\n      <th>SD</th>\n      <td>11</td>\n    </tr>\n    <tr>\n      <th>NE</th>\n      <td>11</td>\n    </tr>\n    <tr>\n      <th>MI</th>\n      <td>10</td>\n    </tr>\n    <tr>\n      <th>NJ</th>\n      <td>10</td>\n    </tr>\n    <tr>\n      <th>NC</th>\n      <td>10</td>\n    </tr>\n  </tbody>\n</table>\n</div>"
     },
     "execution_count": 50,
     "metadata": {},
     "output_type": "execute_result"
    }
   ],
   "source": [
    "state_reporting_cycles = assessments.groupby('state_code').nunique()[['reportingCycleText']].sort_values('reportingCycleText', ascending=False)\n",
    "\n",
    "state_reporting_cycles.head(15)"
   ],
   "metadata": {
    "collapsed": false,
    "pycharm": {
     "name": "#%%\n"
    }
   }
  },
  {
   "cell_type": "code",
   "execution_count": 51,
   "outputs": [
    {
     "data": {
      "text/plain": "            reportingCycleText\nstate_code                    \nOH                           8\nIL                           8\nWI                           7\nAR                           6\nMD                           5\nFL                           4\nPA                           4\nOR                           3\nWA                           2\nNY                           1",
      "text/html": "<div>\n<style scoped>\n    .dataframe tbody tr th:only-of-type {\n        vertical-align: middle;\n    }\n\n    .dataframe tbody tr th {\n        vertical-align: top;\n    }\n\n    .dataframe thead th {\n        text-align: right;\n    }\n</style>\n<table border=\"1\" class=\"dataframe\">\n  <thead>\n    <tr style=\"text-align: right;\">\n      <th></th>\n      <th>reportingCycleText</th>\n    </tr>\n    <tr>\n      <th>state_code</th>\n      <th></th>\n    </tr>\n  </thead>\n  <tbody>\n    <tr>\n      <th>OH</th>\n      <td>8</td>\n    </tr>\n    <tr>\n      <th>IL</th>\n      <td>8</td>\n    </tr>\n    <tr>\n      <th>WI</th>\n      <td>7</td>\n    </tr>\n    <tr>\n      <th>AR</th>\n      <td>6</td>\n    </tr>\n    <tr>\n      <th>MD</th>\n      <td>5</td>\n    </tr>\n    <tr>\n      <th>FL</th>\n      <td>4</td>\n    </tr>\n    <tr>\n      <th>PA</th>\n      <td>4</td>\n    </tr>\n    <tr>\n      <th>OR</th>\n      <td>3</td>\n    </tr>\n    <tr>\n      <th>WA</th>\n      <td>2</td>\n    </tr>\n    <tr>\n      <th>NY</th>\n      <td>1</td>\n    </tr>\n  </tbody>\n</table>\n</div>"
     },
     "execution_count": 51,
     "metadata": {},
     "output_type": "execute_result"
    }
   ],
   "source": [
    "state_reporting_cycles.tail(10)"
   ],
   "metadata": {
    "collapsed": false,
    "pycharm": {
     "name": "#%%\n"
    }
   }
  },
  {
   "cell_type": "markdown",
   "source": [
    "### What is the distribution of times when an AUID first appears on a 303(d) list in ATTAINS?"
   ],
   "metadata": {
    "collapsed": false,
    "pycharm": {
     "name": "#%% md\n"
    }
   }
  },
  {
   "cell_type": "code",
   "execution_count": 52,
   "outputs": [],
   "source": [
    "# Determine first appearance on a 303(d) list in ATTAINS\n",
    "# appearance_dates = assessments.groupby(['assessmentUnitIdentifier', 'parameterName'], as_index=False).min()[\n",
    "#         ['assessmentUnitIdentifier', 'parameterName', 'reportingCycleText']]\n",
    "# appearance_dates.rename(columns={'reportingCycleText': 'appearance_date'},\n",
    "#                                inplace=True)\n",
    "# appearance_dates['appearance_date'] = pd.to_datetime(appearance_dates['appearance_date'])"
   ],
   "metadata": {
    "collapsed": false,
    "pycharm": {
     "name": "#%%\n"
    }
   }
  },
  {
   "cell_type": "code",
   "execution_count": 53,
   "outputs": [],
   "source": [
    "# test = assessments.merge(appearance_dates, on=['assessmentUnitIdentifier', 'parameterName'], how='inner')\n",
    "# test.head()"
   ],
   "metadata": {
    "collapsed": false,
    "pycharm": {
     "name": "#%%\n"
    }
   }
  },
  {
   "cell_type": "markdown",
   "source": [
    "TODO: change `appearance_date` from january 1st to just the year"
   ],
   "metadata": {
    "collapsed": false,
    "pycharm": {
     "name": "#%% md\n"
    }
   }
  },
  {
   "cell_type": "markdown",
   "source": [
    "# 3. Actions"
   ],
   "metadata": {
    "collapsed": false,
    "pycharm": {
     "name": "#%% md\n"
    }
   }
  },
  {
   "cell_type": "markdown",
   "source": [
    "### How many unique TMDL actions do we have?"
   ],
   "metadata": {
    "collapsed": false,
    "pycharm": {
     "name": "#%% md\n"
    }
   }
  },
  {
   "cell_type": "code",
   "execution_count": 55,
   "outputs": [
    {
     "data": {
      "text/plain": "20009"
     },
     "execution_count": 55,
     "metadata": {},
     "output_type": "execute_result"
    }
   ],
   "source": [
    "len(all_actions.drop_duplicates(subset='actionIdentifier'))"
   ],
   "metadata": {
    "collapsed": false,
    "pycharm": {
     "name": "#%%\n"
    }
   }
  },
  {
   "cell_type": "markdown",
   "source": [
    "How does this compare to the number of unique actions in our assessments table?"
   ],
   "metadata": {
    "collapsed": false,
    "pycharm": {
     "name": "#%% md\n"
    }
   }
  },
  {
   "cell_type": "code",
   "execution_count": 56,
   "outputs": [
    {
     "data": {
      "text/plain": "21816"
     },
     "execution_count": 56,
     "metadata": {},
     "output_type": "execute_result"
    }
   ],
   "source": [
    "len(assessments.drop_duplicates(subset='associatedActionIdentifier'))"
   ],
   "metadata": {
    "collapsed": false,
    "pycharm": {
     "name": "#%%\n"
    }
   }
  },
  {
   "cell_type": "markdown",
   "source": [
    "### How many unique AUs are represented in the actions data?"
   ],
   "metadata": {
    "collapsed": false,
    "pycharm": {
     "name": "#%% md\n"
    }
   }
  },
  {
   "cell_type": "code",
   "execution_count": 57,
   "outputs": [
    {
     "data": {
      "text/plain": "96171"
     },
     "execution_count": 57,
     "metadata": {},
     "output_type": "execute_result"
    }
   ],
   "source": [
    "len(all_actions.drop_duplicates(subset='assessmentUnitIdentifier'))"
   ],
   "metadata": {
    "collapsed": false,
    "pycharm": {
     "name": "#%%\n"
    }
   }
  },
  {
   "cell_type": "markdown",
   "source": [
    "### Which states have the most TMDL actions?"
   ],
   "metadata": {
    "collapsed": false,
    "pycharm": {
     "name": "#%% md\n"
    }
   }
  },
  {
   "cell_type": "code",
   "execution_count": 58,
   "outputs": [
    {
     "data": {
      "text/plain": "WV    0.268479\nKS    0.101804\nVA    0.088460\nMD    0.042031\nMT    0.028787\nDE    0.028237\nCO    0.022990\nOK    0.021290\nFL    0.020241\nCA    0.019791\nName: state_code, dtype: float64"
     },
     "execution_count": 58,
     "metadata": {},
     "output_type": "execute_result"
    }
   ],
   "source": [
    "all_actions.drop_duplicates(subset='actionIdentifier')['state_code'].value_counts(normalize=True).iloc[0:10]"
   ],
   "metadata": {
    "collapsed": false,
    "pycharm": {
     "name": "#%%\n"
    }
   }
  },
  {
   "cell_type": "markdown",
   "source": [
    "### Which states have the highest and lowest rates of TMDL actions per AUID?"
   ],
   "metadata": {
    "collapsed": false,
    "pycharm": {
     "name": "#%% md\n"
    }
   }
  },
  {
   "cell_type": "code",
   "execution_count": 59,
   "outputs": [
    {
     "data": {
      "text/plain": "   state  # TMDLs   AUs  TMDL rate\n5     DE      565   590   0.957627\n13    SD      369   400   0.922500\n3     MD      841   973   0.864337\n1     KS     2037  2421   0.841388\n11    LA      395   563   0.701599\n24    WY      183   314   0.582803\n4     MT      576  1203   0.478803\n12    MS      374  1178   0.317487\n18    NJ      304   958   0.317328\n6     CO      460  1893   0.243001",
      "text/html": "<div>\n<style scoped>\n    .dataframe tbody tr th:only-of-type {\n        vertical-align: middle;\n    }\n\n    .dataframe tbody tr th {\n        vertical-align: top;\n    }\n\n    .dataframe thead th {\n        text-align: right;\n    }\n</style>\n<table border=\"1\" class=\"dataframe\">\n  <thead>\n    <tr style=\"text-align: right;\">\n      <th></th>\n      <th>state</th>\n      <th># TMDLs</th>\n      <th>AUs</th>\n      <th>TMDL rate</th>\n    </tr>\n  </thead>\n  <tbody>\n    <tr>\n      <th>5</th>\n      <td>DE</td>\n      <td>565</td>\n      <td>590</td>\n      <td>0.957627</td>\n    </tr>\n    <tr>\n      <th>13</th>\n      <td>SD</td>\n      <td>369</td>\n      <td>400</td>\n      <td>0.922500</td>\n    </tr>\n    <tr>\n      <th>3</th>\n      <td>MD</td>\n      <td>841</td>\n      <td>973</td>\n      <td>0.864337</td>\n    </tr>\n    <tr>\n      <th>1</th>\n      <td>KS</td>\n      <td>2037</td>\n      <td>2421</td>\n      <td>0.841388</td>\n    </tr>\n    <tr>\n      <th>11</th>\n      <td>LA</td>\n      <td>395</td>\n      <td>563</td>\n      <td>0.701599</td>\n    </tr>\n    <tr>\n      <th>24</th>\n      <td>WY</td>\n      <td>183</td>\n      <td>314</td>\n      <td>0.582803</td>\n    </tr>\n    <tr>\n      <th>4</th>\n      <td>MT</td>\n      <td>576</td>\n      <td>1203</td>\n      <td>0.478803</td>\n    </tr>\n    <tr>\n      <th>12</th>\n      <td>MS</td>\n      <td>374</td>\n      <td>1178</td>\n      <td>0.317487</td>\n    </tr>\n    <tr>\n      <th>18</th>\n      <td>NJ</td>\n      <td>304</td>\n      <td>958</td>\n      <td>0.317328</td>\n    </tr>\n    <tr>\n      <th>6</th>\n      <td>CO</td>\n      <td>460</td>\n      <td>1893</td>\n      <td>0.243001</td>\n    </tr>\n  </tbody>\n</table>\n</div>"
     },
     "execution_count": 59,
     "metadata": {},
     "output_type": "execute_result"
    }
   ],
   "source": [
    "TMDL_rates = pd.DataFrame(all_actions.drop_duplicates(\n",
    "    subset=['actionIdentifier'])['state_code'].value_counts())\n",
    "TMDL_rates = TMDL_rates.reset_index().rename(columns={'index': 'state', 'state_code': '# TMDLs'})\n",
    "TMDL_rates = TMDL_rates[TMDL_rates['state'] != 'GU']\n",
    "TMDL_rates['AUs'] = TMDL_rates['state'].apply(lambda x: AU_counts[x])\n",
    "TMDL_rates['TMDL rate'] = TMDL_rates['# TMDLs'] / TMDL_rates['AUs']\n",
    "TMDL_rates.sort_values(by='TMDL rate', ascending=False).head(10)"
   ],
   "metadata": {
    "collapsed": false,
    "pycharm": {
     "name": "#%%\n"
    }
   }
  },
  {
   "cell_type": "code",
   "execution_count": 60,
   "outputs": [
    {
     "data": {
      "text/plain": "   state  # TMDLs     AUs  TMDL rate\n37    MI      115    8028   0.014325\n46    KY       52    6239   0.008335\n15    MN      344   55855   0.006159\n21    NH      200   32484   0.006157\n35    WA      121   20272   0.005969\n41    IN       94   16762   0.005608\n43    NC       75   13628   0.005503\n42    WI       83   35583   0.002333\n14    PA      367  216735   0.001693\n51    OR        5    7316   0.000683",
      "text/html": "<div>\n<style scoped>\n    .dataframe tbody tr th:only-of-type {\n        vertical-align: middle;\n    }\n\n    .dataframe tbody tr th {\n        vertical-align: top;\n    }\n\n    .dataframe thead th {\n        text-align: right;\n    }\n</style>\n<table border=\"1\" class=\"dataframe\">\n  <thead>\n    <tr style=\"text-align: right;\">\n      <th></th>\n      <th>state</th>\n      <th># TMDLs</th>\n      <th>AUs</th>\n      <th>TMDL rate</th>\n    </tr>\n  </thead>\n  <tbody>\n    <tr>\n      <th>37</th>\n      <td>MI</td>\n      <td>115</td>\n      <td>8028</td>\n      <td>0.014325</td>\n    </tr>\n    <tr>\n      <th>46</th>\n      <td>KY</td>\n      <td>52</td>\n      <td>6239</td>\n      <td>0.008335</td>\n    </tr>\n    <tr>\n      <th>15</th>\n      <td>MN</td>\n      <td>344</td>\n      <td>55855</td>\n      <td>0.006159</td>\n    </tr>\n    <tr>\n      <th>21</th>\n      <td>NH</td>\n      <td>200</td>\n      <td>32484</td>\n      <td>0.006157</td>\n    </tr>\n    <tr>\n      <th>35</th>\n      <td>WA</td>\n      <td>121</td>\n      <td>20272</td>\n      <td>0.005969</td>\n    </tr>\n    <tr>\n      <th>41</th>\n      <td>IN</td>\n      <td>94</td>\n      <td>16762</td>\n      <td>0.005608</td>\n    </tr>\n    <tr>\n      <th>43</th>\n      <td>NC</td>\n      <td>75</td>\n      <td>13628</td>\n      <td>0.005503</td>\n    </tr>\n    <tr>\n      <th>42</th>\n      <td>WI</td>\n      <td>83</td>\n      <td>35583</td>\n      <td>0.002333</td>\n    </tr>\n    <tr>\n      <th>14</th>\n      <td>PA</td>\n      <td>367</td>\n      <td>216735</td>\n      <td>0.001693</td>\n    </tr>\n    <tr>\n      <th>51</th>\n      <td>OR</td>\n      <td>5</td>\n      <td>7316</td>\n      <td>0.000683</td>\n    </tr>\n  </tbody>\n</table>\n</div>"
     },
     "execution_count": 60,
     "metadata": {},
     "output_type": "execute_result"
    }
   ],
   "source": [
    "TMDL_rates.sort_values(by='TMDL rate', ascending=False).tail(10)"
   ],
   "metadata": {
    "collapsed": false,
    "pycharm": {
     "name": "#%%\n"
    }
   }
  },
  {
   "cell_type": "markdown",
   "source": [
    "### What is the temporal distribution of TMDLs?"
   ],
   "metadata": {
    "collapsed": false,
    "pycharm": {
     "name": "#%% md\n"
    }
   }
  },
  {
   "cell_type": "markdown",
   "source": [
    "Based on a document here: https://www.exchangenetwork.net/schema/ATTAINS/1/ATTAINS_DET_v1.0a.xlsx , `completionDate` refers to the planned TMDL date, and `TMDLDate` refers to the actual date the TMDL was approved by EPA."
   ],
   "metadata": {
    "collapsed": false,
    "pycharm": {
     "name": "#%% md\n"
    }
   }
  },
  {
   "cell_type": "code",
   "execution_count": 61,
   "outputs": [
    {
     "data": {
      "text/plain": "<Figure size 432x288 with 1 Axes>",
      "image/png": "[encoded data removed]"
     },
     "metadata": {
      "needs_background": "light"
     },
     "output_type": "display_data"
    }
   ],
   "source": [
    "plt.title('Planned TMDL Date')\n",
    "plt.hist(all_actions.drop_duplicates(subset='actionIdentifier')['completionDate'], bins=50);"
   ],
   "metadata": {
    "collapsed": false,
    "pycharm": {
     "name": "#%%\n"
    }
   }
  },
  {
   "cell_type": "code",
   "execution_count": 62,
   "outputs": [
    {
     "data": {
      "text/plain": "<Figure size 432x288 with 1 Axes>",
      "image/png": "[encoded data removed]"
     },
     "metadata": {
      "needs_background": "light"
     },
     "output_type": "display_data"
    }
   ],
   "source": [
    "plt.title('Actual TMDL Date')\n",
    "plt.hist(all_actions.drop_duplicates(subset='actionIdentifier')['TMDLDate'], bins=50);"
   ],
   "metadata": {
    "collapsed": false,
    "pycharm": {
     "name": "#%%\n"
    }
   }
  },
  {
   "cell_type": "code",
   "execution_count": 63,
   "outputs": [
    {
     "data": {
      "text/plain": "Text(0.5, 0, 'Days')"
     },
     "execution_count": 63,
     "metadata": {},
     "output_type": "execute_result"
    },
    {
     "data": {
      "text/plain": "<Figure size 864x576 with 1 Axes>",
      "image/png": "[encoded data removed]"
     },
     "metadata": {
      "needs_background": "light"
     },
     "output_type": "display_data"
    }
   ],
   "source": [
    "import numpy as np\n",
    "delays = (all_actions.drop_duplicates(subset='actionIdentifier')['TMDLDate'] -\n",
    "          all_actions.drop_duplicates(subset='actionIdentifier')['completionDate']) / dt.timedelta(\n",
    "    days=1)\n",
    "plt.figure(figsize=(12, 8))\n",
    "plt.xscale(\"log\")\n",
    "plt.hist(delays, bins=np.logspace(np.log10(1),np.log10(10000.0), 50))\n",
    "plt.title('Days between planned TMDL Date and actual TMDL Date')\n",
    "plt.ylabel('# TMDLs')\n",
    "plt.xlabel('Days')"
   ],
   "metadata": {
    "collapsed": false,
    "pycharm": {
     "name": "#%%\n"
    }
   }
  },
  {
   "cell_type": "markdown",
   "source": [
    "### Which pollutants most often lead to TMDLs?"
   ],
   "metadata": {
    "collapsed": false,
    "pycharm": {
     "name": "#%% md\n"
    }
   }
  },
  {
   "cell_type": "code",
   "execution_count": 64,
   "outputs": [
    {
     "data": {
      "text/plain": "FECAL COLIFORM                  0.155362\nIRON                            0.102766\nESCHERICHIA COLI (E. COLI)      0.070738\nPHOSPHORUS, TOTAL               0.059801\nSEDIMENT                        0.040726\nPH                              0.037441\nALUMINUM                        0.036657\nNITROGEN, TOTAL                 0.030498\nTOTAL SUSPENDED SOLIDS (TSS)    0.027586\nMANGANESE                       0.027474\nName: pollutantName, dtype: float64"
     },
     "execution_count": 64,
     "metadata": {},
     "output_type": "execute_result"
    }
   ],
   "source": [
    "all_actions.drop_duplicates(subset=['actionIdentifier', 'pollutantName'])['pollutantName'].value_counts(normalize=True).iloc[0:10]"
   ],
   "metadata": {
    "collapsed": false,
    "pycharm": {
     "name": "#%%\n"
    }
   }
  },
  {
   "cell_type": "markdown",
   "source": [
    "### Which combinations of state x pollutant are most frequent across all TMDLS?"
   ],
   "metadata": {
    "collapsed": false,
    "pycharm": {
     "name": "#%% md\n"
    }
   }
  },
  {
   "cell_type": "code",
   "execution_count": 65,
   "outputs": [
    {
     "data": {
      "text/plain": "                                              0\npollutantName              state_code          \nIRON                       WV          0.085558\nFECAL COLIFORM             WV          0.050021\nALUMINUM                   WV          0.022061\nPH                         WV          0.019411\nESCHERICHIA COLI (E. COLI) VA          0.017545\nFECAL COLIFORM             VA          0.015902\n                           KS          0.015454\nMANGANESE                  WV          0.015118\nDISSOLVED OXYGEN           KS          0.009705\nSEDIMENT                   MT          0.009482",
      "text/html": "<div>\n<style scoped>\n    .dataframe tbody tr th:only-of-type {\n        vertical-align: middle;\n    }\n\n    .dataframe tbody tr th {\n        vertical-align: top;\n    }\n\n    .dataframe thead th {\n        text-align: right;\n    }\n</style>\n<table border=\"1\" class=\"dataframe\">\n  <thead>\n    <tr style=\"text-align: right;\">\n      <th></th>\n      <th></th>\n      <th>0</th>\n    </tr>\n    <tr>\n      <th>pollutantName</th>\n      <th>state_code</th>\n      <th></th>\n    </tr>\n  </thead>\n  <tbody>\n    <tr>\n      <th>IRON</th>\n      <th>WV</th>\n      <td>0.085558</td>\n    </tr>\n    <tr>\n      <th>FECAL COLIFORM</th>\n      <th>WV</th>\n      <td>0.050021</td>\n    </tr>\n    <tr>\n      <th>ALUMINUM</th>\n      <th>WV</th>\n      <td>0.022061</td>\n    </tr>\n    <tr>\n      <th>PH</th>\n      <th>WV</th>\n      <td>0.019411</td>\n    </tr>\n    <tr>\n      <th>ESCHERICHIA COLI (E. COLI)</th>\n      <th>VA</th>\n      <td>0.017545</td>\n    </tr>\n    <tr>\n      <th rowspan=\"2\" valign=\"top\">FECAL COLIFORM</th>\n      <th>VA</th>\n      <td>0.015902</td>\n    </tr>\n    <tr>\n      <th>KS</th>\n      <td>0.015454</td>\n    </tr>\n    <tr>\n      <th>MANGANESE</th>\n      <th>WV</th>\n      <td>0.015118</td>\n    </tr>\n    <tr>\n      <th>DISSOLVED OXYGEN</th>\n      <th>KS</th>\n      <td>0.009705</td>\n    </tr>\n    <tr>\n      <th>SEDIMENT</th>\n      <th>MT</th>\n      <td>0.009482</td>\n    </tr>\n  </tbody>\n</table>\n</div>"
     },
     "execution_count": 65,
     "metadata": {},
     "output_type": "execute_result"
    }
   ],
   "source": [
    "pd.DataFrame(all_actions.drop_duplicates(subset=['actionIdentifier', 'pollutantName'])[['pollutantName', 'state_code']].value_counts(normalize=True).iloc[0:10])"
   ],
   "metadata": {
    "collapsed": false,
    "pycharm": {
     "name": "#%%\n"
    }
   }
  },
  {
   "cell_type": "markdown",
   "source": [
    "### For how many TMDL actions do we have one or more NPDES permit ID matches?"
   ],
   "metadata": {
    "collapsed": false,
    "pycharm": {
     "name": "#%% md\n"
    }
   }
  },
  {
   "cell_type": "code",
   "execution_count": 66,
   "outputs": [
    {
     "data": {
      "text/plain": "4069"
     },
     "execution_count": 66,
     "metadata": {},
     "output_type": "execute_result"
    }
   ],
   "source": [
    "all_actions_permit_data.dropna().drop_duplicates('actionIdentifier').shape[0]"
   ],
   "metadata": {
    "collapsed": false,
    "pycharm": {
     "name": "#%%\n"
    }
   }
  },
  {
   "cell_type": "markdown",
   "source": [
    "### What is the distribution of these TMDLs across states?"
   ],
   "metadata": {
    "collapsed": false,
    "pycharm": {
     "name": "#%% md\n"
    }
   }
  },
  {
   "cell_type": "code",
   "execution_count": 67,
   "outputs": [
    {
     "data": {
      "text/plain": "KS    0.167363\nWV    0.109118\nVA    0.060211\nMS    0.046695\nCA    0.041042\nLA    0.039076\nMN    0.036864\nTX    0.036127\nMD    0.033669\nSD    0.032686\nTN    0.028017\nOK    0.026296\nWY    0.023347\nFL    0.022856\nMO    0.022364\nMT    0.021873\nNE    0.021873\nGA    0.018678\nIL    0.017941\nSC    0.016220\nAL    0.014500\nMI    0.012042\nNM    0.011059\nDE    0.010322\nIA    0.010076\nNC    0.009830\nIN    0.009339\nAR    0.009093\nMA    0.007864\nID    0.007619\nKY    0.007127\nUT    0.006881\nNJ    0.006636\nAK    0.006636\nRI    0.005898\nCO    0.005652\nN/    0.004424\nND    0.003686\nPR    0.003195\nCT    0.003195\nNH    0.002703\nAZ    0.002458\nME    0.001966\nVT    0.001966\nM-    0.001720\nWA    0.001229\n11    0.000983\nHI    0.000983\nNo    0.000737\nVI    0.000737\nno    0.000737\nOH    0.000737\nOR    0.000492\nWG    0.000492\nGU    0.000492\n2P    0.000492\n00    0.000246\n15    0.000246\nS-    0.000246\n W    0.000246\nIM    0.000246\n#     0.000246\nPA    0.000246\nH1    0.000246\n2I    0.000246\nMG    0.000246\nco    0.000246\n31    0.000246\nNV    0.000246\nWL    0.000246\n59    0.000246\nName: NPDESIdentifier, dtype: float64"
     },
     "execution_count": 67,
     "metadata": {},
     "output_type": "execute_result"
    }
   ],
   "source": [
    "all_actions_permit_data.dropna().drop_duplicates('actionIdentifier')['NPDESIdentifier'].apply(lambda x: x[0:2]).value_counts(normalize=True)"
   ],
   "metadata": {
    "collapsed": false,
    "pycharm": {
     "name": "#%%\n"
    }
   }
  },
  {
   "cell_type": "markdown",
   "source": [
    "### What is the time delay between a water body appearing on the 303(d) list and receiving a TMDL?\n",
    "Let's try to answer this question for a few states first before looking at the whole country."
   ],
   "metadata": {
    "collapsed": false,
    "pycharm": {
     "name": "#%% md\n"
    }
   }
  },
  {
   "cell_type": "code",
   "execution_count": null,
   "outputs": [],
   "source": [
    "# These states were selected based on having a high number of unique reporting cycles present in their assessments table\n",
    "states = ['NM', 'VA', 'MS', 'CT']\n",
    "for state in states:\n",
    "    state_actions = all_actions[(all_actions['state_code'] == state) & (all_actions['TMDLDate']>=pd.to_datetime('2003-01-01'))].dropna(subset=['assessmentUnitIdentifier', 'pollutantName'])\n",
    "    state_assessments = assessments[assessments['state_code'] == state].dropna(\n",
    "        subset=['assessmentUnitIdentifier', 'parameterName'])\n",
    "\n",
    "    # Data cleaning to account for changes in parameter categorization over time\n",
    "    state_assessments['parameterName'] = state_assessments['parameterName'].apply(lambda x: x.replace('SULFATES', 'SULFATE'))\n",
    "    state_assessments['parameterName'] = state_assessments['parameterName'].apply(\n",
    "        lambda x: x.replace('TEMPERATURE, WATER', 'TEMPERATURE'))\n",
    "    state_assessments['parameterName'] = state_assessments['parameterName'].apply(\n",
    "        lambda x: x.replace('ESCHERICHIA COLI (E. COLI)', 'PATHOGENS'))\n",
    "    state_assessments['parameterName'] = state_assessments['parameterName'].apply(\n",
    "        lambda x: x.replace('FECAL COLIFORM', 'PATHOGENS'))\n",
    "    state_assessments['parameterName'] = state_assessments['parameterName'].apply(\n",
    "        lambda x: x.replace('ENTEROCOCCUS BACTERIA', 'ENTEROCOCCUS'))\n",
    "    state_actions['pollutantName'] = state_actions['pollutantName'].apply(\n",
    "        lambda x: x.replace('FECAL COLIFORM', 'PATHOGENS'))\n",
    "    state_actions['pollutantName'] = state_actions['pollutantName'].apply(\n",
    "        lambda x: x.replace('ESCHERICHIA COLI (E. COLI)', 'PATHOGENS'))\n",
    "\n",
    "    # Determine first appearance on a 303(d) list in ATTAINS\n",
    "    appearance_dates = state_assessments.groupby(['assessmentUnitIdentifier', 'parameterName'], as_index=False).min()[\n",
    "        ['assessmentUnitIdentifier', 'parameterName', 'reportingCycleText']]\n",
    "    appearance_dates.rename(columns={'reportingCycleText': 'appearance_date', 'parameterName': 'pollutantName'},\n",
    "                               inplace=True)\n",
    "    appearance_dates['appearance_date'] = pd.to_datetime(appearance_dates['appearance_date'])\n",
    "\n",
    "    # Merge on AU and pollutant\n",
    "    merged = state_actions.merge(appearance_dates, on=['assessmentUnitIdentifier', 'pollutantName'], how='inner')\n",
    "\n",
    "    # Calculate delay time\n",
    "    delays = (merged.drop_duplicates(subset=['assessmentUnitIdentifier', 'pollutantName'])['TMDLDate'] - merged.drop_duplicates(subset=['assessmentUnitIdentifier', 'pollutantName'])[\n",
    "              'appearance_date']) / dt.timedelta(days=365)\n",
    "\n",
    "    # Plot\n",
    "    plt.figure(figsize=(10, 6))\n",
    "    plt.hist(delays, bins=50);\n",
    "    plt.axvline(x=0, linestyle='--', c='silver')\n",
    "    plt.ylabel('# of AU x pollutant combinations')\n",
    "    plt.xlabel('Years')\n",
    "    plt.title(state + ': Delays between first impairment in ATTAINS and TMDL Date \\n (n=' + str(len(delays)) + ' combos, ' + str(len(merged['assessmentUnitIdentifier'].unique())) + ' assessment units (AUs). TMDLs 2003 or later included.)')"
   ],
   "metadata": {
    "collapsed": false,
    "pycharm": {
     "name": "#%%\n",
     "is_executing": true
    }
   }
  },
  {
   "cell_type": "markdown",
   "source": [
    "TODO: ### How many AUs scheduled to receive a TMDL actually received one?"
   ],
   "metadata": {
    "collapsed": false,
    "pycharm": {
     "name": "#%% md\n"
    }
   }
  },
  {
   "cell_type": "markdown",
   "source": [
    "# 4. Exploring our linkage tables"
   ],
   "metadata": {
    "collapsed": false,
    "pycharm": {
     "name": "#%% md\n"
    }
   }
  },
  {
   "cell_type": "code",
   "execution_count": 69,
   "outputs": [
    {
     "data": {
      "text/plain": "      AUID        HUC-12\n0  FL1137A  031300110605\n1   FL1145  031300130103\n2   FL1146  031200010903\n3   FL1146  031200010901\n4   FL1151  031300130302",
      "text/html": "<div>\n<style scoped>\n    .dataframe tbody tr th:only-of-type {\n        vertical-align: middle;\n    }\n\n    .dataframe tbody tr th {\n        vertical-align: top;\n    }\n\n    .dataframe thead th {\n        text-align: right;\n    }\n</style>\n<table border=\"1\" class=\"dataframe\">\n  <thead>\n    <tr style=\"text-align: right;\">\n      <th></th>\n      <th>AUID</th>\n      <th>HUC-12</th>\n    </tr>\n  </thead>\n  <tbody>\n    <tr>\n      <th>0</th>\n      <td>FL1137A</td>\n      <td>031300110605</td>\n    </tr>\n    <tr>\n      <th>1</th>\n      <td>FL1145</td>\n      <td>031300130103</td>\n    </tr>\n    <tr>\n      <th>2</th>\n      <td>FL1146</td>\n      <td>031200010903</td>\n    </tr>\n    <tr>\n      <th>3</th>\n      <td>FL1146</td>\n      <td>031200010901</td>\n    </tr>\n    <tr>\n      <th>4</th>\n      <td>FL1151</td>\n      <td>031300130302</td>\n    </tr>\n  </tbody>\n</table>\n</div>"
     },
     "execution_count": 69,
     "metadata": {},
     "output_type": "execute_result"
    }
   ],
   "source": [
    "HUC_AUID_links.head()"
   ],
   "metadata": {
    "collapsed": false,
    "pycharm": {
     "name": "#%%\n"
    }
   }
  },
  {
   "cell_type": "markdown",
   "source": [
    "### How many AUIDs do we have in our HUC-AUID link table?"
   ],
   "metadata": {
    "collapsed": false,
    "pycharm": {
     "name": "#%% md\n"
    }
   }
  },
  {
   "cell_type": "code",
   "execution_count": 70,
   "outputs": [
    {
     "data": {
      "text/plain": "419499"
     },
     "execution_count": 70,
     "metadata": {},
     "output_type": "execute_result"
    }
   ],
   "source": [
    "len(HUC_AUID_links.drop_duplicates('AUID'))"
   ],
   "metadata": {
    "collapsed": false,
    "pycharm": {
     "name": "#%%\n"
    }
   }
  },
  {
   "cell_type": "markdown",
   "source": [
    "### How many of these AUIDs are we able to use to directly merge with our ATTAINS AUID table?"
   ],
   "metadata": {
    "collapsed": false,
    "pycharm": {
     "name": "#%% md\n"
    }
   }
  },
  {
   "cell_type": "code",
   "execution_count": 71,
   "outputs": [
    {
     "data": {
      "text/plain": "206349"
     },
     "execution_count": 71,
     "metadata": {},
     "output_type": "execute_result"
    }
   ],
   "source": [
    "AUs_merged = HUC_AUID_links.drop_duplicates('AUID').merge(AUs, how='inner', on='AUID')\n",
    "len(AUs_merged[~pd.isna(AUs_merged['HUC-12_x'])])"
   ],
   "metadata": {
    "collapsed": false,
    "pycharm": {
     "name": "#%%\n"
    }
   }
  },
  {
   "cell_type": "markdown",
   "source": [
    "What explains the AUs that are in the AUs table but not the HUC_AUID_links table?"
   ],
   "metadata": {
    "collapsed": false,
    "pycharm": {
     "name": "#%% md\n"
    }
   }
  },
  {
   "cell_type": "markdown",
   "source": [
    "Based on hand-checking examples from a variety of states, it appears that the primary reasons why AUIDs appear in the AUs table but not the HUC_AUID_links table are:\n",
    "- Some AUIDs were added in 2022 (e.g., AL06030005-1004-200). These AUIDs would not be present in the HUC_AUID_links table because it is current as of June 2020.\n",
    "- Some AUIDs were split pre-2020 and are no longer in use (e.g., CAX9013000020021202102208, see https://www.waterboards.ca.gov/sandiego/water_issues/programs/303d_list/ref_reports/miscellaneous_changes_report.shtml). These are still reflected in the AUs table because it goes back to 2002."
   ],
   "metadata": {
    "collapsed": false,
    "pycharm": {
     "name": "#%% md\n"
    }
   }
  },
  {
   "cell_type": "markdown",
   "source": [
    "What explains the AUs that are in the HUC_AUID_links table but not the AUs table?"
   ],
   "metadata": {
    "collapsed": false,
    "pycharm": {
     "name": "#%% md\n"
    }
   }
  },
  {
   "cell_type": "markdown",
   "source": [
    "Again, based on hand-checking examples, it appears that almost all (if not all) of the AUIDs that appear in the HUC_AUID_links table but not the AUs table are from Pennsylvania, which was excluded from the AUs table due to computation limitations."
   ],
   "metadata": {
    "collapsed": false,
    "pycharm": {
     "name": "#%% md\n"
    }
   }
  },
  {
   "cell_type": "markdown",
   "source": [
    "### How many NPDES permit IDs do we have in our HUC-permit linkage table?"
   ],
   "metadata": {
    "collapsed": false,
    "pycharm": {
     "name": "#%% md\n"
    }
   }
  },
  {
   "cell_type": "code",
   "execution_count": 84,
   "outputs": [
    {
     "data": {
      "text/plain": "  attributes.SOURCE_FEATUREID        HUC-12 npdes_permit_id\n0                AL0000019001  060300020503       AL0000019\n1                AL0000019002  060300020904       AL0000019\n2                AL0000019003  060300020505       AL0000019\n3                AL0000019004  060300020503       AL0000019\n4                AL0000019005  060300020503       AL0000019",
      "text/html": "<div>\n<style scoped>\n    .dataframe tbody tr th:only-of-type {\n        vertical-align: middle;\n    }\n\n    .dataframe tbody tr th {\n        vertical-align: top;\n    }\n\n    .dataframe thead th {\n        text-align: right;\n    }\n</style>\n<table border=\"1\" class=\"dataframe\">\n  <thead>\n    <tr style=\"text-align: right;\">\n      <th></th>\n      <th>attributes.SOURCE_FEATUREID</th>\n      <th>HUC-12</th>\n      <th>npdes_permit_id</th>\n    </tr>\n  </thead>\n  <tbody>\n    <tr>\n      <th>0</th>\n      <td>AL0000019001</td>\n      <td>060300020503</td>\n      <td>AL0000019</td>\n    </tr>\n    <tr>\n      <th>1</th>\n      <td>AL0000019002</td>\n      <td>060300020904</td>\n      <td>AL0000019</td>\n    </tr>\n    <tr>\n      <th>2</th>\n      <td>AL0000019003</td>\n      <td>060300020505</td>\n      <td>AL0000019</td>\n    </tr>\n    <tr>\n      <th>3</th>\n      <td>AL0000019004</td>\n      <td>060300020503</td>\n      <td>AL0000019</td>\n    </tr>\n    <tr>\n      <th>4</th>\n      <td>AL0000019005</td>\n      <td>060300020503</td>\n      <td>AL0000019</td>\n    </tr>\n  </tbody>\n</table>\n</div>"
     },
     "execution_count": 84,
     "metadata": {},
     "output_type": "execute_result"
    }
   ],
   "source": [
    "HUC_npdes_permit_links.head()"
   ],
   "metadata": {
    "collapsed": false,
    "pycharm": {
     "name": "#%%\n"
    }
   }
  },
  {
   "cell_type": "code",
   "execution_count": 81,
   "outputs": [
    {
     "data": {
      "text/plain": "761542"
     },
     "execution_count": 81,
     "metadata": {},
     "output_type": "execute_result"
    }
   ],
   "source": [
    "len(HUC_npdes_permit_links.drop_duplicates('npdes_permit_id'))"
   ],
   "metadata": {
    "collapsed": false,
    "pycharm": {
     "name": "#%%\n"
    }
   }
  },
  {
   "cell_type": "markdown",
   "source": [
    "How does this compare to the total number of active NPDES permit IDs in ICIS-NPDES?"
   ],
   "metadata": {
    "collapsed": false,
    "pycharm": {
     "name": "#%% md\n"
    }
   }
  },
  {
   "cell_type": "code",
   "execution_count": 91,
   "outputs": [
    {
     "data": {
      "text/plain": "823373"
     },
     "execution_count": 91,
     "metadata": {},
     "output_type": "execute_result"
    }
   ],
   "source": [
    "all_permit_ids = pd.read_csv('all_icis_npdes_permit_ids.csv')\n",
    "len(all_permit_ids.drop_duplicates('npdes_permit_id'))"
   ],
   "metadata": {
    "collapsed": false,
    "pycharm": {
     "name": "#%%\n"
    }
   }
  },
  {
   "cell_type": "markdown",
   "source": [
    "They are of similar order of magnitude. The difference is likely due to permits in ICIS-NPDES that were retired/terminated prior to 2016 (the date of our HUC-permit linkage table), and other permits that were created after 2016."
   ],
   "metadata": {
    "collapsed": false,
    "pycharm": {
     "name": "#%% md\n"
    }
   }
  },
  {
   "cell_type": "markdown",
   "source": [
    "### What proportion of TMDLs on current assessment units can we now link to NPDES permit IDs?"
   ],
   "metadata": {
    "collapsed": false,
    "pycharm": {
     "name": "#%% md\n"
    }
   }
  },
  {
   "cell_type": "code",
   "execution_count": 108,
   "outputs": [
    {
     "data": {
      "text/plain": "6983"
     },
     "execution_count": 108,
     "metadata": {},
     "output_type": "execute_result"
    }
   ],
   "source": [
    "actions_current_AUs = all_actions.merge(AUs_merged[['AUID']], left_on='assessmentUnitIdentifier', right_on='AUID', how='inner')\n",
    "actions_current_AUs = actions_current_AUs.merge(HUC_AUID_links, on='AUID', how='inner')\n",
    "len(actions_current_AUs.drop_duplicates(subset='actionIdentifier'))"
   ],
   "metadata": {
    "collapsed": false,
    "pycharm": {
     "name": "#%%\n"
    }
   }
  },
  {
   "cell_type": "code",
   "execution_count": 109,
   "outputs": [
    {
     "data": {
      "text/plain": "   organizationIdentifier organizationTypeText state_code  \\\n0                  21AWIC                State         AL   \n1                  21AWIC                State         AL   \n2                  21AWIC                State         AL   \n3                  21AWIC                State         AL   \n4                  21AWIC                State         AL   \n5                  21AWIC                State         AL   \n6                  21AWIC                State         AL   \n7                  21AWIC                State         AL   \n8                  21AWIC                State         AL   \n9                  21AWIC                State         AL   \n10                 21AWIC                State         AL   \n11                 21AWIC                State         AL   \n12                 21AWIC                State         AL   \n13                 21AWIC                State         AL   \n14                 21AWIC                State         AL   \n15                 21AWIC                State         AL   \n16                 21AWIC                State         AL   \n17                 21AWIC                State         AL   \n18                 21AWIC                State         AL   \n19                 21AWIC                State         AL   \n20                 21AWIC                State         AL   \n21                 21AWIC                State         AL   \n22                 21AWIC                State         AL   \n23                 21AWIC                State         AL   \n24                 21AWIC                State         AL   \n25                 21AWIC                State         AL   \n26                 21AWIC                State         AL   \n27                 21AWIC                State         AL   \n28                 21AWIC                State         AL   \n29                 21AWIC                State         AL   \n30                 21AWIC                State         AL   \n31                 21AWIC                State         AL   \n32                 21AWIC                State         AL   \n33                 21AWIC                State         AL   \n34                 21AWIC                State         AL   \n35                 21AWIC                State         AL   \n36                 21AWIC                State         AL   \n37                 21AWIC                State         AL   \n38                 21AWIC                State         AL   \n39                 21AWIC                State         AL   \n40                 21AWIC                State         AL   \n41                 21AWIC                State         AL   \n42                 21AWIC                State         AL   \n43                 21AWIC                State         AL   \n44                 21AWIC                State         AL   \n45                 21AWIC                State         AL   \n46                 21AWIC                State         AL   \n47                 21AWIC                State         AL   \n48                 21AWIC                State         AL   \n49                 21AWIC                State         AL   \n50                 21AWIC                State         AL   \n51                 21AWIC                State         AL   \n52                 21AWIC                State         AL   \n53                 21AWIC                State         AL   \n54                 21AWIC                State         AL   \n55                 21AWIC                State         AL   \n56                 21AWIC                State         AL   \n57                 21AWIC                State         AL   \n58                 21AWIC                State         AL   \n59                 21AWIC                State         AL   \n60                 21AWIC                State         AL   \n61                 21AWIC                State         AL   \n62                 21AWIC                State         AL   \n63                 21AWIC                State         AL   \n64                 21AWIC                State         AL   \n65                 21AWIC                State         AL   \n66                 21AWIC                State         AL   \n67                 21AWIC                State         AL   \n68                 21AWIC                State         AL   \n69                 21AWIC                State         AL   \n70                 21AWIC                State         AL   \n71                 21AWIC                State         AL   \n72                 21AWIC                State         AL   \n73                 21AWIC                State         AL   \n74                 21AWIC                State         AL   \n75                 21AWIC                State         AL   \n76                 21AWIC                State         AL   \n77                 21AWIC                State         AL   \n78                 21AWIC                State         AL   \n79                 21AWIC                State         AL   \n80                 21AWIC                State         AL   \n81                 21AWIC                State         AL   \n82                 21AWIC                State         AL   \n83                 21AWIC                State         AL   \n84                 21AWIC                State         AL   \n85                 21AWIC                State         AL   \n86                 21AWIC                State         AL   \n87                 21AWIC                State         AL   \n88                 21AWIC                State         AL   \n89                 21AWIC                State         AL   \n90                 21AWIC                State         AL   \n91                 21AWIC                State         AL   \n92                 21AWIC                State         AL   \n93                 21AWIC                State         AL   \n94                 21AWIC                State         AL   \n95                 21AWIC                State         AL   \n96                 21AWIC                State         AL   \n97                 21AWIC                State         AL   \n98                 21AWIC                State         AL   \n99                 21AWIC                State         AL   \n\n                      actionIdentifier actionTypeCode  actionStatusCode  \\\n0                                39070           TMDL  EPA Final Action   \n1                                39070           TMDL  EPA Final Action   \n2                                39070           TMDL  EPA Final Action   \n3                                39070           TMDL  EPA Final Action   \n4                                39070           TMDL  EPA Final Action   \n5                                39070           TMDL  EPA Final Action   \n6                                39070           TMDL  EPA Final Action   \n7                                39070           TMDL  EPA Final Action   \n8                                39070           TMDL  EPA Final Action   \n9                                39070           TMDL  EPA Final Action   \n10                               39070           TMDL  EPA Final Action   \n11                               39070           TMDL  EPA Final Action   \n12                               39070           TMDL  EPA Final Action   \n13                               39070           TMDL  EPA Final Action   \n14                               39070           TMDL  EPA Final Action   \n15                               39070           TMDL  EPA Final Action   \n16                               39070           TMDL  EPA Final Action   \n17                               39070           TMDL  EPA Final Action   \n18                               39070           TMDL  EPA Final Action   \n19                               39070           TMDL  EPA Final Action   \n20                               39070           TMDL  EPA Final Action   \n21                               39070           TMDL  EPA Final Action   \n22                               39070           TMDL  EPA Final Action   \n23                               39070           TMDL  EPA Final Action   \n24                               39070           TMDL  EPA Final Action   \n25                               39070           TMDL  EPA Final Action   \n26                               39070           TMDL  EPA Final Action   \n27                               39070           TMDL  EPA Final Action   \n28                               39070           TMDL  EPA Final Action   \n29  AL03160111_0303_102_Nutrients_2018           TMDL  EPA Final Action   \n30  AL03160111_0303_102_Nutrients_2018           TMDL  EPA Final Action   \n31  AL03160111_0303_102_Nutrients_2018           TMDL  EPA Final Action   \n32  AL03160111_0303_102_Nutrients_2018           TMDL  EPA Final Action   \n33  AL03160111_0303_102_Nutrients_2018           TMDL  EPA Final Action   \n34  AL03160111_0303_102_Nutrients_2018           TMDL  EPA Final Action   \n35  AL03160111_0303_102_Nutrients_2018           TMDL  EPA Final Action   \n36  AL03160111_0303_102_Nutrients_2018           TMDL  EPA Final Action   \n37  AL03160111_0303_102_Nutrients_2018           TMDL  EPA Final Action   \n38  AL03160111_0303_102_Nutrients_2018           TMDL  EPA Final Action   \n39  AL03160111_0303_102_Nutrients_2018           TMDL  EPA Final Action   \n40  AL03160111_0303_102_Nutrients_2018           TMDL  EPA Final Action   \n41  AL03160111_0303_102_Nutrients_2018           TMDL  EPA Final Action   \n42  AL03160111_0303_102_Nutrients_2018           TMDL  EPA Final Action   \n43  AL03160111_0303_102_Nutrients_2018           TMDL  EPA Final Action   \n44  AL03160111_0303_102_Nutrients_2018           TMDL  EPA Final Action   \n45  AL03160111_0303_102_Nutrients_2018           TMDL  EPA Final Action   \n46  AL03160111_0303_102_Nutrients_2018           TMDL  EPA Final Action   \n47  AL03160111_0303_102_Nutrients_2018           TMDL  EPA Final Action   \n48  AL03160111_0303_102_Nutrients_2018           TMDL  EPA Final Action   \n49  AL03160111_0303_102_Nutrients_2018           TMDL  EPA Final Action   \n50  AL03160111_0303_102_Nutrients_2018           TMDL  EPA Final Action   \n51  AL03160111_0303_102_Nutrients_2018           TMDL  EPA Final Action   \n52  AL03160111_0303_102_Nutrients_2018           TMDL  EPA Final Action   \n53  AL03160111_0303_102_Nutrients_2018           TMDL  EPA Final Action   \n54  AL03160111_0303_102_Nutrients_2018           TMDL  EPA Final Action   \n55  AL03160111_0303_102_Nutrients_2018           TMDL  EPA Final Action   \n56  AL03160111_0303_102_Nutrients_2018           TMDL  EPA Final Action   \n57  AL03160111_0303_102_Nutrients_2018           TMDL  EPA Final Action   \n58  AL03160111_0303_102_Nutrients_2018           TMDL  EPA Final Action   \n59  AL03160111_0303_102_Nutrients_2018           TMDL  EPA Final Action   \n60  AL03160111_0303_102_Nutrients_2018           TMDL  EPA Final Action   \n61  AL03160111_0303_102_Nutrients_2018           TMDL  EPA Final Action   \n62  AL03160111_0303_102_Nutrients_2018           TMDL  EPA Final Action   \n63  AL03160111_0303_102_Nutrients_2018           TMDL  EPA Final Action   \n64  AL03160111_0303_102_Nutrients_2018           TMDL  EPA Final Action   \n65  AL03160111_0303_102_Nutrients_2018           TMDL  EPA Final Action   \n66  AL03160111_0303_102_Nutrients_2018           TMDL  EPA Final Action   \n67  AL03160111_0303_102_Nutrients_2018           TMDL  EPA Final Action   \n68  AL03160111_0303_102_Nutrients_2018           TMDL  EPA Final Action   \n69  AL03160111_0303_102_Nutrients_2018           TMDL  EPA Final Action   \n70  AL03160111_0303_102_Nutrients_2018           TMDL  EPA Final Action   \n71  AL03160111_0303_102_Nutrients_2018           TMDL  EPA Final Action   \n72  AL03160111_0303_102_Nutrients_2018           TMDL  EPA Final Action   \n73  AL03160111_0303_102_Nutrients_2018           TMDL  EPA Final Action   \n74  AL03160111_0303_102_Nutrients_2018           TMDL  EPA Final Action   \n75  AL03160111_0303_102_Nutrients_2018           TMDL  EPA Final Action   \n76  AL03160111_0303_102_Nutrients_2018           TMDL  EPA Final Action   \n77  AL03160111_0303_102_Nutrients_2018           TMDL  EPA Final Action   \n78  AL03160111_0303_102_Nutrients_2018           TMDL  EPA Final Action   \n79  AL03160111_0303_102_Nutrients_2018           TMDL  EPA Final Action   \n80  AL03160111_0303_102_Nutrients_2018           TMDL  EPA Final Action   \n81  AL03160111_0303_102_Nutrients_2018           TMDL  EPA Final Action   \n82  AL03160111_0303_102_Nutrients_2018           TMDL  EPA Final Action   \n83  AL03160111_0303_102_Nutrients_2018           TMDL  EPA Final Action   \n84  AL03160111_0303_102_Nutrients_2018           TMDL  EPA Final Action   \n85  AL03160111_0303_102_Nutrients_2018           TMDL  EPA Final Action   \n86  AL03160111_0303_102_Nutrients_2018           TMDL  EPA Final Action   \n87  AL03160111_0303_102_Nutrients_2018           TMDL  EPA Final Action   \n88  AL03160111_0303_102_Nutrients_2018           TMDL  EPA Final Action   \n89  AL03160111_0303_102_Nutrients_2018           TMDL  EPA Final Action   \n90  AL03160111_0303_102_Nutrients_2018           TMDL  EPA Final Action   \n91  AL03160111_0303_102_Nutrients_2018           TMDL  EPA Final Action   \n92  AL03160111_0303_102_Nutrients_2018           TMDL  EPA Final Action   \n93  AL03160111_0303_102_Nutrients_2018           TMDL  EPA Final Action   \n94  AL03160111_0303_102_Nutrients_2018           TMDL  EPA Final Action   \n95  AL03160111_0303_102_Nutrients_2018           TMDL  EPA Final Action   \n96  AL03160111_0303_102_Nutrients_2018           TMDL  EPA Final Action   \n97  AL03160111_0303_102_Nutrients_2018           TMDL  EPA Final Action   \n98  AL03160111_0303_102_Nutrients_2018           TMDL  EPA Final Action   \n99  AL03160111_0303_102_Nutrients_2018           TMDL  EPA Final Action   \n\n   completionDate assessmentUnitIdentifier          pollutantName  \\\n0      2010-09-21      AL03140107-0205-102  ENTEROCOCCUS BACTERIA   \n1      2010-09-21      AL03140107-0205-102  ENTEROCOCCUS BACTERIA   \n2      2010-09-21      AL03140107-0205-102  ENTEROCOCCUS BACTERIA   \n3      2010-09-21      AL03140107-0205-102  ENTEROCOCCUS BACTERIA   \n4      2010-09-21      AL03140107-0205-102  ENTEROCOCCUS BACTERIA   \n5      2010-09-21      AL03140107-0205-102  ENTEROCOCCUS BACTERIA   \n6      2010-09-21      AL03140107-0205-102  ENTEROCOCCUS BACTERIA   \n7      2010-09-21      AL03140107-0205-102  ENTEROCOCCUS BACTERIA   \n8      2010-09-21      AL03140107-0205-102  ENTEROCOCCUS BACTERIA   \n9      2010-09-21      AL03140107-0205-102  ENTEROCOCCUS BACTERIA   \n10     2010-09-21      AL03140107-0205-102  ENTEROCOCCUS BACTERIA   \n11     2010-09-21      AL03140107-0205-102  ENTEROCOCCUS BACTERIA   \n12     2010-09-21      AL03140107-0205-102  ENTEROCOCCUS BACTERIA   \n13     2010-09-21      AL03140107-0205-102  ENTEROCOCCUS BACTERIA   \n14     2010-09-21      AL03140107-0205-102  ENTEROCOCCUS BACTERIA   \n15     2010-09-21      AL03140107-0205-102  ENTEROCOCCUS BACTERIA   \n16     2010-09-21      AL03140107-0205-102  ENTEROCOCCUS BACTERIA   \n17     2010-09-21      AL03140107-0205-102  ENTEROCOCCUS BACTERIA   \n18     2010-09-21      AL03140107-0205-102  ENTEROCOCCUS BACTERIA   \n19     2010-09-21      AL03140107-0205-102  ENTEROCOCCUS BACTERIA   \n20     2010-09-21      AL03140107-0205-102  ENTEROCOCCUS BACTERIA   \n21     2010-09-21      AL03140107-0205-102  ENTEROCOCCUS BACTERIA   \n22     2010-09-21      AL03140107-0205-102  ENTEROCOCCUS BACTERIA   \n23     2010-09-21      AL03140107-0205-102  ENTEROCOCCUS BACTERIA   \n24     2010-09-21      AL03140107-0205-102  ENTEROCOCCUS BACTERIA   \n25     2010-09-21      AL03140107-0205-102  ENTEROCOCCUS BACTERIA   \n26     2010-09-21      AL03140107-0205-102  ENTEROCOCCUS BACTERIA   \n27     2010-09-21      AL03140107-0205-102  ENTEROCOCCUS BACTERIA   \n28     2010-09-21      AL03140107-0205-102  ENTEROCOCCUS BACTERIA   \n29     2017-12-21      AL03160111-0305-102      PHOSPHORUS, TOTAL   \n30     2017-12-21      AL03160111-0305-102      PHOSPHORUS, TOTAL   \n31     2017-12-21      AL03160111-0305-102      PHOSPHORUS, TOTAL   \n32     2017-12-21      AL03160111-0305-102      PHOSPHORUS, TOTAL   \n33     2017-12-21      AL03160111-0305-102      PHOSPHORUS, TOTAL   \n34     2017-12-21      AL03160111-0305-102      PHOSPHORUS, TOTAL   \n35     2017-12-21      AL03160111-0305-102      PHOSPHORUS, TOTAL   \n36     2017-12-21      AL03160111-0305-102      PHOSPHORUS, TOTAL   \n37     2017-12-21      AL03160111-0305-102      PHOSPHORUS, TOTAL   \n38     2017-12-21      AL03160111-0305-102      PHOSPHORUS, TOTAL   \n39     2017-12-21      AL03160111-0305-102      PHOSPHORUS, TOTAL   \n40     2017-12-21      AL03160111-0305-102      PHOSPHORUS, TOTAL   \n41     2017-12-21      AL03160111-0305-102      PHOSPHORUS, TOTAL   \n42     2017-12-21      AL03160111-0305-102      PHOSPHORUS, TOTAL   \n43     2017-12-21      AL03160111-0305-102      PHOSPHORUS, TOTAL   \n44     2017-12-21      AL03160111-0305-102      PHOSPHORUS, TOTAL   \n45     2017-12-21      AL03160111-0305-102      PHOSPHORUS, TOTAL   \n46     2017-12-21      AL03160111-0305-102      PHOSPHORUS, TOTAL   \n47     2017-12-21      AL03160111-0305-102      PHOSPHORUS, TOTAL   \n48     2017-12-21      AL03160111-0305-102      PHOSPHORUS, TOTAL   \n49     2017-12-21      AL03160111-0305-102      PHOSPHORUS, TOTAL   \n50     2017-12-21      AL03160111-0305-102      PHOSPHORUS, TOTAL   \n51     2017-12-21      AL03160111-0305-102      PHOSPHORUS, TOTAL   \n52     2017-12-21      AL03160111-0305-102      PHOSPHORUS, TOTAL   \n53     2017-12-21      AL03160111-0305-102      PHOSPHORUS, TOTAL   \n54     2017-12-21      AL03160111-0305-102      PHOSPHORUS, TOTAL   \n55     2017-12-21      AL03160111-0305-102      PHOSPHORUS, TOTAL   \n56     2017-12-21      AL03160111-0305-102      PHOSPHORUS, TOTAL   \n57     2017-12-21      AL03160111-0305-102      PHOSPHORUS, TOTAL   \n58     2017-12-21      AL03160111-0305-102      PHOSPHORUS, TOTAL   \n59     2017-12-21      AL03160111-0305-102      PHOSPHORUS, TOTAL   \n60     2017-12-21      AL03160111-0305-102      PHOSPHORUS, TOTAL   \n61     2017-12-21      AL03160111-0305-102      PHOSPHORUS, TOTAL   \n62     2017-12-21      AL03160111-0305-102      PHOSPHORUS, TOTAL   \n63     2017-12-21      AL03160111-0305-102      PHOSPHORUS, TOTAL   \n64     2017-12-21      AL03160111-0305-102      PHOSPHORUS, TOTAL   \n65     2017-12-21      AL03160111-0305-102      PHOSPHORUS, TOTAL   \n66     2017-12-21      AL03160111-0305-102      PHOSPHORUS, TOTAL   \n67     2017-12-21      AL03160111-0305-102      PHOSPHORUS, TOTAL   \n68     2017-12-21      AL03160111-0305-102      PHOSPHORUS, TOTAL   \n69     2017-12-21      AL03160111-0305-102      PHOSPHORUS, TOTAL   \n70     2017-12-21      AL03160111-0305-102      PHOSPHORUS, TOTAL   \n71     2017-12-21      AL03160111-0305-102      PHOSPHORUS, TOTAL   \n72     2017-12-21      AL03160111-0305-102      PHOSPHORUS, TOTAL   \n73     2017-12-21      AL03160111-0305-102      PHOSPHORUS, TOTAL   \n74     2017-12-21      AL03160111-0305-102      PHOSPHORUS, TOTAL   \n75     2017-12-21      AL03160111-0305-102      PHOSPHORUS, TOTAL   \n76     2017-12-21      AL03160111-0305-102      PHOSPHORUS, TOTAL   \n77     2017-12-21      AL03160111-0305-102      PHOSPHORUS, TOTAL   \n78     2017-12-21      AL03160111-0305-102      PHOSPHORUS, TOTAL   \n79     2017-12-21      AL03160111-0305-102      PHOSPHORUS, TOTAL   \n80     2017-12-21      AL03160111-0305-102      PHOSPHORUS, TOTAL   \n81     2017-12-21      AL03160111-0305-102      PHOSPHORUS, TOTAL   \n82     2017-12-21      AL03160111-0305-102      PHOSPHORUS, TOTAL   \n83     2017-12-21      AL03160111-0305-102      PHOSPHORUS, TOTAL   \n84     2017-12-21      AL03160111-0305-102      PHOSPHORUS, TOTAL   \n85     2017-12-21      AL03160111-0305-102      PHOSPHORUS, TOTAL   \n86     2017-12-21      AL03160111-0305-102      PHOSPHORUS, TOTAL   \n87     2017-12-21      AL03160111-0305-102      PHOSPHORUS, TOTAL   \n88     2017-12-21      AL03160111-0305-102      PHOSPHORUS, TOTAL   \n89     2017-12-21      AL03160111-0305-102      PHOSPHORUS, TOTAL   \n90     2017-12-21      AL03160111-0305-102      PHOSPHORUS, TOTAL   \n91     2017-12-21      AL03160111-0305-102      PHOSPHORUS, TOTAL   \n92     2017-12-21      AL03160111-0305-102      PHOSPHORUS, TOTAL   \n93     2017-12-21      AL03160111-0305-102      PHOSPHORUS, TOTAL   \n94     2017-12-21      AL03160111-0305-102      PHOSPHORUS, TOTAL   \n95     2017-12-21      AL03160111-0305-102      PHOSPHORUS, TOTAL   \n96     2017-12-21      AL03160111-0305-102      PHOSPHORUS, TOTAL   \n97     2017-12-21      AL03160111-0305-102      PHOSPHORUS, TOTAL   \n98     2017-12-21      AL03160111-0305-102      PHOSPHORUS, TOTAL   \n99     2017-12-21      AL03160111-0305-102      PHOSPHORUS, TOTAL   \n\n   pollutantSourceTypeCode explicitMarginofSafetyText  \\\n0          Nonpoint source                        NaN   \n1          Nonpoint source                        NaN   \n2          Nonpoint source                        NaN   \n3          Nonpoint source                        NaN   \n4          Nonpoint source                        NaN   \n5          Nonpoint source                        NaN   \n6          Nonpoint source                        NaN   \n7          Nonpoint source                        NaN   \n8          Nonpoint source                        NaN   \n9          Nonpoint source                        NaN   \n10         Nonpoint source                        NaN   \n11         Nonpoint source                        NaN   \n12         Nonpoint source                        NaN   \n13         Nonpoint source                        NaN   \n14         Nonpoint source                        NaN   \n15         Nonpoint source                        NaN   \n16         Nonpoint source                        NaN   \n17         Nonpoint source                        NaN   \n18         Nonpoint source                        NaN   \n19         Nonpoint source                        NaN   \n20         Nonpoint source                        NaN   \n21         Nonpoint source                        NaN   \n22         Nonpoint source                        NaN   \n23         Nonpoint source                        NaN   \n24         Nonpoint source                        NaN   \n25         Nonpoint source                        NaN   \n26         Nonpoint source                        NaN   \n27         Nonpoint source                        NaN   \n28         Nonpoint source                        NaN   \n29                    Both                        NaN   \n30                    Both                        NaN   \n31                    Both                        NaN   \n32                    Both                        NaN   \n33                    Both                        NaN   \n34                    Both                        NaN   \n35                    Both                        NaN   \n36                    Both                        NaN   \n37                    Both                        NaN   \n38                    Both                        NaN   \n39                    Both                        NaN   \n40                    Both                        NaN   \n41                    Both                        NaN   \n42                    Both                        NaN   \n43                    Both                        NaN   \n44                    Both                        NaN   \n45                    Both                        NaN   \n46                    Both                        NaN   \n47                    Both                        NaN   \n48                    Both                        NaN   \n49                    Both                        NaN   \n50                    Both                        NaN   \n51                    Both                        NaN   \n52                    Both                        NaN   \n53                    Both                        NaN   \n54                    Both                        NaN   \n55                    Both                        NaN   \n56                    Both                        NaN   \n57                    Both                        NaN   \n58                    Both                        NaN   \n59                    Both                        NaN   \n60                    Both                        NaN   \n61                    Both                        NaN   \n62                    Both                        NaN   \n63                    Both                        NaN   \n64                    Both                        NaN   \n65                    Both                        NaN   \n66                    Both                        NaN   \n67                    Both                        NaN   \n68                    Both                        NaN   \n69                    Both                        NaN   \n70                    Both                        NaN   \n71                    Both                        NaN   \n72                    Both                        NaN   \n73                    Both                        NaN   \n74                    Both                        NaN   \n75                    Both                        NaN   \n76                    Both                        NaN   \n77                    Both                        NaN   \n78                    Both                        NaN   \n79                    Both                        NaN   \n80                    Both                        NaN   \n81                    Both                        NaN   \n82                    Both                        NaN   \n83                    Both                        NaN   \n84                    Both                        NaN   \n85                    Both                        NaN   \n86                    Both                        NaN   \n87                    Both                        NaN   \n88                    Both                        NaN   \n89                    Both                        NaN   \n90                    Both                        NaN   \n91                    Both                        NaN   \n92                    Both                        NaN   \n93                    Both                        NaN   \n94                    Both                        NaN   \n95                    Both                        NaN   \n96                    Both                        NaN   \n97                    Both                        NaN   \n98                    Both                        NaN   \n99                    Both                        NaN   \n\n   implicitMarginofSafetyText  \\\n0                           N   \n1                           N   \n2                           N   \n3                           N   \n4                           N   \n5                           N   \n6                           N   \n7                           N   \n8                           N   \n9                           N   \n10                          N   \n11                          N   \n12                          N   \n13                          N   \n14                          N   \n15                          N   \n16                          N   \n17                          N   \n18                          N   \n19                          N   \n20                          N   \n21                          N   \n22                          N   \n23                          N   \n24                          N   \n25                          N   \n26                          N   \n27                          N   \n28                          N   \n29                        NaN   \n30                        NaN   \n31                        NaN   \n32                        NaN   \n33                        NaN   \n34                        NaN   \n35                        NaN   \n36                        NaN   \n37                        NaN   \n38                        NaN   \n39                        NaN   \n40                        NaN   \n41                        NaN   \n42                        NaN   \n43                        NaN   \n44                        NaN   \n45                        NaN   \n46                        NaN   \n47                        NaN   \n48                        NaN   \n49                        NaN   \n50                        NaN   \n51                        NaN   \n52                        NaN   \n53                        NaN   \n54                        NaN   \n55                        NaN   \n56                        NaN   \n57                        NaN   \n58                        NaN   \n59                        NaN   \n60                        NaN   \n61                        NaN   \n62                        NaN   \n63                        NaN   \n64                        NaN   \n65                        NaN   \n66                        NaN   \n67                        NaN   \n68                        NaN   \n69                        NaN   \n70                        NaN   \n71                        NaN   \n72                        NaN   \n73                        NaN   \n74                        NaN   \n75                        NaN   \n76                        NaN   \n77                        NaN   \n78                        NaN   \n79                        NaN   \n80                        NaN   \n81                        NaN   \n82                        NaN   \n83                        NaN   \n84                        NaN   \n85                        NaN   \n86                        NaN   \n87                        NaN   \n88                        NaN   \n89                        NaN   \n90                        NaN   \n91                        NaN   \n92                        NaN   \n93                        NaN   \n94                        NaN   \n95                        NaN   \n96                        NaN   \n97                        NaN   \n98                        NaN   \n99                        NaN   \n\n                                     TMDLEndPointText   TMDLDate  \\\n0   IN COASTAL WATERS, BACTERIA OF THE ENTEROCOCCI... 2010-09-21   \n1   IN COASTAL WATERS, BACTERIA OF THE ENTEROCOCCI... 2010-09-21   \n2   IN COASTAL WATERS, BACTERIA OF THE ENTEROCOCCI... 2010-09-21   \n3   IN COASTAL WATERS, BACTERIA OF THE ENTEROCOCCI... 2010-09-21   \n4   IN COASTAL WATERS, BACTERIA OF THE ENTEROCOCCI... 2010-09-21   \n5   IN COASTAL WATERS, BACTERIA OF THE ENTEROCOCCI... 2010-09-21   \n6   IN COASTAL WATERS, BACTERIA OF THE ENTEROCOCCI... 2010-09-21   \n7   IN COASTAL WATERS, BACTERIA OF THE ENTEROCOCCI... 2010-09-21   \n8   IN COASTAL WATERS, BACTERIA OF THE ENTEROCOCCI... 2010-09-21   \n9   IN COASTAL WATERS, BACTERIA OF THE ENTEROCOCCI... 2010-09-21   \n10  IN COASTAL WATERS, BACTERIA OF THE ENTEROCOCCI... 2010-09-21   \n11  IN COASTAL WATERS, BACTERIA OF THE ENTEROCOCCI... 2010-09-21   \n12  IN COASTAL WATERS, BACTERIA OF THE ENTEROCOCCI... 2010-09-21   \n13  IN COASTAL WATERS, BACTERIA OF THE ENTEROCOCCI... 2010-09-21   \n14  IN COASTAL WATERS, BACTERIA OF THE ENTEROCOCCI... 2010-09-21   \n15  IN COASTAL WATERS, BACTERIA OF THE ENTEROCOCCI... 2010-09-21   \n16  IN COASTAL WATERS, BACTERIA OF THE ENTEROCOCCI... 2010-09-21   \n17  IN COASTAL WATERS, BACTERIA OF THE ENTEROCOCCI... 2010-09-21   \n18  IN COASTAL WATERS, BACTERIA OF THE ENTEROCOCCI... 2010-09-21   \n19  IN COASTAL WATERS, BACTERIA OF THE ENTEROCOCCI... 2010-09-21   \n20  IN COASTAL WATERS, BACTERIA OF THE ENTEROCOCCI... 2010-09-21   \n21  IN COASTAL WATERS, BACTERIA OF THE ENTEROCOCCI... 2010-09-21   \n22  IN COASTAL WATERS, BACTERIA OF THE ENTEROCOCCI... 2010-09-21   \n23  IN COASTAL WATERS, BACTERIA OF THE ENTEROCOCCI... 2010-09-21   \n24  IN COASTAL WATERS, BACTERIA OF THE ENTEROCOCCI... 2010-09-21   \n25  IN COASTAL WATERS, BACTERIA OF THE ENTEROCOCCI... 2010-09-21   \n26  IN COASTAL WATERS, BACTERIA OF THE ENTEROCOCCI... 2010-09-21   \n27  IN COASTAL WATERS, BACTERIA OF THE ENTEROCOCCI... 2010-09-21   \n28  IN COASTAL WATERS, BACTERIA OF THE ENTEROCOCCI... 2010-09-21   \n29                                                NaN 2018-01-22   \n30                                                NaN 2018-01-22   \n31                                                NaN 2018-01-22   \n32                                                NaN 2018-01-22   \n33                                                NaN 2018-01-22   \n34                                                NaN 2018-01-22   \n35                                                NaN 2018-01-22   \n36                                                NaN 2018-01-22   \n37                                                NaN 2018-01-22   \n38                                                NaN 2018-01-22   \n39                                                NaN 2018-01-22   \n40                                                NaN 2018-01-22   \n41                                                NaN 2018-01-22   \n42                                                NaN 2018-01-22   \n43                                                NaN 2018-01-22   \n44                                                NaN 2018-01-22   \n45                                                NaN 2018-01-22   \n46                                                NaN 2018-01-22   \n47                                                NaN 2018-01-22   \n48                                                NaN 2018-01-22   \n49                                                NaN 2018-01-22   \n50                                                NaN 2018-01-22   \n51                                                NaN 2018-01-22   \n52                                                NaN 2018-01-22   \n53                                                NaN 2018-01-22   \n54                                                NaN 2018-01-22   \n55                                                NaN 2018-01-22   \n56                                                NaN 2018-01-22   \n57                                                NaN 2018-01-22   \n58                                                NaN 2018-01-22   \n59                                                NaN 2018-01-22   \n60                                                NaN 2018-01-22   \n61                                                NaN 2018-01-22   \n62                                                NaN 2018-01-22   \n63                                                NaN 2018-01-22   \n64                                                NaN 2018-01-22   \n65                                                NaN 2018-01-22   \n66                                                NaN 2018-01-22   \n67                                                NaN 2018-01-22   \n68                                                NaN 2018-01-22   \n69                                                NaN 2018-01-22   \n70                                                NaN 2018-01-22   \n71                                                NaN 2018-01-22   \n72                                                NaN 2018-01-22   \n73                                                NaN 2018-01-22   \n74                                                NaN 2018-01-22   \n75                                                NaN 2018-01-22   \n76                                                NaN 2018-01-22   \n77                                                NaN 2018-01-22   \n78                                                NaN 2018-01-22   \n79                                                NaN 2018-01-22   \n80                                                NaN 2018-01-22   \n81                                                NaN 2018-01-22   \n82                                                NaN 2018-01-22   \n83                                                NaN 2018-01-22   \n84                                                NaN 2018-01-22   \n85                                                NaN 2018-01-22   \n86                                                NaN 2018-01-22   \n87                                                NaN 2018-01-22   \n88                                                NaN 2018-01-22   \n89                                                NaN 2018-01-22   \n90                                                NaN 2018-01-22   \n91                                                NaN 2018-01-22   \n92                                                NaN 2018-01-22   \n93                                                NaN 2018-01-22   \n94                                                NaN 2018-01-22   \n95                                                NaN 2018-01-22   \n96                                                NaN 2018-01-22   \n97                                                NaN 2018-01-22   \n98                                                NaN 2018-01-22   \n99                                                NaN 2018-01-22   \n\n                   AUID        HUC-12 attributes.SOURCE_FEATUREID  \\\n0   AL03140107-0205-102  031401070205                   ALR107777   \n1   AL03140107-0205-102  031401070205                   ALR10AAY0   \n2   AL03140107-0205-102  031401070205                   ALR10AM01   \n3   AL03140107-0205-102  031401070205                   ALR10AA85   \n4   AL03140107-0205-102  031401070205                   ALR10AN53   \n5   AL03140107-0205-102  031401070205                   ALR10BBY8   \n6   AL03140107-0205-102  031401070205                   ALR10BDTA   \n7   AL03140107-0205-102  031401070205                   ALR10BCC1   \n8   AL03140107-0205-102  031401070205                   ALR10BCI2   \n9   AL03140107-0205-102  031401070205                   ALR10BCLM   \n10  AL03140107-0205-102  031401070205                   ALR10C03N   \n11  AL03140107-0205-102  031401070205                   ALR10C1PC   \n12  AL03140107-0205-102  031401070205                   ALR10C17X   \n13  AL03140107-0205-102  031401070205                   ALR10C19Y   \n14  AL03140107-0205-102  031401070205                   ALR10C08N   \n15  AL03140107-0205-102  031401070205                   ALR10C0MH   \n16  AL03140107-0205-102  031401070205                   ALR161842   \n17  AL03140107-0205-102  031401070205                   ALR161470   \n18  AL03140107-0205-102  031401070205                   ALR160383   \n19  AL03140107-0205-102  031401070205                   ALR160652   \n20  AL03140107-0205-102  031401070205                   ALR160496   \n21  AL03140107-0205-102  031401070205                   ALR165217   \n22  AL03140107-0205-102  031401070205                   ALR166379   \n23  AL03140107-0205-102  031401070205                   ALR165527   \n24  AL03140107-0205-102  031401070205                   ALR164356   \n25  AL03140107-0205-102  031401070205                   ALR163987   \n26  AL03140107-0205-102  031401070205                   ALR166121   \n27  AL03140107-0205-102  031401070205                   ALR166583   \n28  AL03140107-0205-102  031401070205                   ALU000902   \n29  AL03160111-0305-102  031601110301                   ALA000825   \n30  AL03160111-0305-102  031601110301                   ALR10AAK5   \n31  AL03160111-0305-102  031601110301                   ALR10AP61   \n32  AL03160111-0305-102  031601110301                   ALR16ECGL   \n33  AL03160111-0305-102  031601110301                   ALR16B785   \n34  AL03160111-0305-102  031601110305                AL0075094022   \n35  AL03160111-0305-102  031601110305                AL0075094023   \n36  AL03160111-0305-102  031601110305                AL0075094024   \n37  AL03160111-0305-102  031601110305                AL0075094025   \n38  AL03160111-0305-102  031601110305                AL0075094026   \n39  AL03160111-0305-102  031601110305                AL0075094027   \n40  AL03160111-0305-102  031601110305                AL0075094028   \n41  AL03160111-0305-102  031601110305                AL0075094029   \n42  AL03160111-0305-102  031601110305                AL0075094030   \n43  AL03160111-0305-102  031601110305                AL0075094031   \n44  AL03160111-0305-102  031601110305                AL0075442033   \n45  AL03160111-0305-102  031601110305                AL0075442042   \n46  AL03160111-0305-102  031601110305                AL0075442043   \n47  AL03160111-0305-102  031601110305                AL0075442016   \n48  AL03160111-0305-102  031601110305                AL0075442017   \n49  AL03160111-0305-102  031601110305                AL0075442018   \n50  AL03160111-0305-102  031601110305                AL0075442019   \n51  AL03160111-0305-102  031601110305                AL0075442020   \n52  AL03160111-0305-102  031601110305                AL0075442021   \n53  AL03160111-0305-102  031601110305                AL0075442022   \n54  AL03160111-0305-102  031601110305                AL0075442023   \n55  AL03160111-0305-102  031601110305                AL0075442024   \n56  AL03160111-0305-102  031601110305                AL0075442025   \n57  AL03160111-0305-102  031601110305                AL0075442026   \n58  AL03160111-0305-102  031601110305                AL0075442027   \n59  AL03160111-0305-102  031601110305                AL0075442028   \n60  AL03160111-0305-102  031601110305                AL0075442029   \n61  AL03160111-0305-102  031601110305                AL0075442031   \n62  AL03160111-0305-102  031601110305                AL0075094017   \n63  AL03160111-0305-102  031601110305                AL0075094018   \n64  AL03160111-0305-102  031601110305                AL0075094019   \n65  AL03160111-0305-102  031601110305                AL0075094020   \n66  AL03160111-0305-102  031601110305                AL0075094021   \n67  AL03160111-0305-102  031601110305                   AL0050555   \n68  AL03160111-0305-102  031601110305                AL0075094001   \n69  AL03160111-0305-102  031601110305                AL0075094002   \n70  AL03160111-0305-102  031601110305                AL0075094003   \n71  AL03160111-0305-102  031601110305                AL0075094004   \n72  AL03160111-0305-102  031601110305                AL0075094005   \n73  AL03160111-0305-102  031601110305                AL0075094006   \n74  AL03160111-0305-102  031601110305                AL0075094007   \n75  AL03160111-0305-102  031601110305                AL0075094008   \n76  AL03160111-0305-102  031601110305                AL0075094009   \n77  AL03160111-0305-102  031601110305                AL0075094010   \n78  AL03160111-0305-102  031601110305                AL0075094011   \n79  AL03160111-0305-102  031601110305                AL0075094012   \n80  AL03160111-0305-102  031601110305                AL0075094013   \n81  AL03160111-0305-102  031601110305                AL0075094014   \n82  AL03160111-0305-102  031601110305                AL0075094015   \n83  AL03160111-0305-102  031601110305                AL0075094016   \n84  AL03160111-0305-102  031601110305                AL0075442005   \n85  AL03160111-0305-102  031601110305                AL0075442006   \n86  AL03160111-0305-102  031601110305                AL0075442007   \n87  AL03160111-0305-102  031601110305                AL0075442008   \n88  AL03160111-0305-102  031601110305                AL0075442009   \n89  AL03160111-0305-102  031601110305                AL0075442010   \n90  AL03160111-0305-102  031601110305                AL0075442011   \n91  AL03160111-0305-102  031601110305                AL0075442012   \n92  AL03160111-0305-102  031601110305                AL0075442013   \n93  AL03160111-0305-102  031601110305                AL0075442014   \n94  AL03160111-0305-102  031601110305                AL0075442015   \n95  AL03160111-0305-102  031601110305                AL0079731018   \n96  AL03160111-0305-102  031601110305                AL0079731019   \n97  AL03160111-0305-102  031601110305                   AL0079103   \n98  AL03160111-0305-102  031601110305                AL0079731020   \n99  AL03160111-0305-102  031601110305                AL0079731021   \n\n   npdes_permit_id  \n0        ALR107777  \n1        ALR10AAY0  \n2        ALR10AM01  \n3        ALR10AA85  \n4        ALR10AN53  \n5        ALR10BBY8  \n6        ALR10BDTA  \n7        ALR10BCC1  \n8        ALR10BCI2  \n9        ALR10BCLM  \n10       ALR10C03N  \n11       ALR10C1PC  \n12       ALR10C17X  \n13       ALR10C19Y  \n14       ALR10C08N  \n15       ALR10C0MH  \n16       ALR161842  \n17       ALR161470  \n18       ALR160383  \n19       ALR160652  \n20       ALR160496  \n21       ALR165217  \n22       ALR166379  \n23       ALR165527  \n24       ALR164356  \n25       ALR163987  \n26       ALR166121  \n27       ALR166583  \n28       ALU000902  \n29       ALA000825  \n30       ALR10AAK5  \n31       ALR10AP61  \n32       ALR16ECGL  \n33       ALR16B785  \n34       AL0075094  \n35       AL0075094  \n36       AL0075094  \n37       AL0075094  \n38       AL0075094  \n39       AL0075094  \n40       AL0075094  \n41       AL0075094  \n42       AL0075094  \n43       AL0075094  \n44       AL0075442  \n45       AL0075442  \n46       AL0075442  \n47       AL0075442  \n48       AL0075442  \n49       AL0075442  \n50       AL0075442  \n51       AL0075442  \n52       AL0075442  \n53       AL0075442  \n54       AL0075442  \n55       AL0075442  \n56       AL0075442  \n57       AL0075442  \n58       AL0075442  \n59       AL0075442  \n60       AL0075442  \n61       AL0075442  \n62       AL0075094  \n63       AL0075094  \n64       AL0075094  \n65       AL0075094  \n66       AL0075094  \n67       AL0050555  \n68       AL0075094  \n69       AL0075094  \n70       AL0075094  \n71       AL0075094  \n72       AL0075094  \n73       AL0075094  \n74       AL0075094  \n75       AL0075094  \n76       AL0075094  \n77       AL0075094  \n78       AL0075094  \n79       AL0075094  \n80       AL0075094  \n81       AL0075094  \n82       AL0075094  \n83       AL0075094  \n84       AL0075442  \n85       AL0075442  \n86       AL0075442  \n87       AL0075442  \n88       AL0075442  \n89       AL0075442  \n90       AL0075442  \n91       AL0075442  \n92       AL0075442  \n93       AL0075442  \n94       AL0075442  \n95       AL0079731  \n96       AL0079731  \n97       AL0079103  \n98       AL0079731  \n99       AL0079731  ",
      "text/html": "<div>\n<style scoped>\n    .dataframe tbody tr th:only-of-type {\n        vertical-align: middle;\n    }\n\n    .dataframe tbody tr th {\n        vertical-align: top;\n    }\n\n    .dataframe thead th {\n        text-align: right;\n    }\n</style>\n<table border=\"1\" class=\"dataframe\">\n  <thead>\n    <tr style=\"text-align: right;\">\n      <th></th>\n      <th>organizationIdentifier</th>\n      <th>organizationTypeText</th>\n      <th>state_code</th>\n      <th>actionIdentifier</th>\n      <th>actionTypeCode</th>\n      <th>actionStatusCode</th>\n      <th>completionDate</th>\n      <th>assessmentUnitIdentifier</th>\n      <th>pollutantName</th>\n      <th>pollutantSourceTypeCode</th>\n      <th>explicitMarginofSafetyText</th>\n      <th>implicitMarginofSafetyText</th>\n      <th>TMDLEndPointText</th>\n      <th>TMDLDate</th>\n      <th>AUID</th>\n      <th>HUC-12</th>\n      <th>attributes.SOURCE_FEATUREID</th>\n      <th>npdes_permit_id</th>\n    </tr>\n  </thead>\n  <tbody>\n    <tr>\n      <th>0</th>\n      <td>21AWIC</td>\n      <td>State</td>\n      <td>AL</td>\n      <td>39070</td>\n      <td>TMDL</td>\n      <td>EPA Final Action</td>\n      <td>2010-09-21</td>\n      <td>AL03140107-0205-102</td>\n      <td>ENTEROCOCCUS BACTERIA</td>\n      <td>Nonpoint source</td>\n      <td>NaN</td>\n      <td>N</td>\n      <td>IN COASTAL WATERS, BACTERIA OF THE ENTEROCOCCI...</td>\n      <td>2010-09-21</td>\n      <td>AL03140107-0205-102</td>\n      <td>031401070205</td>\n      <td>ALR107777</td>\n      <td>ALR107777</td>\n    </tr>\n    <tr>\n      <th>1</th>\n      <td>21AWIC</td>\n      <td>State</td>\n      <td>AL</td>\n      <td>39070</td>\n      <td>TMDL</td>\n      <td>EPA Final Action</td>\n      <td>2010-09-21</td>\n      <td>AL03140107-0205-102</td>\n      <td>ENTEROCOCCUS BACTERIA</td>\n      <td>Nonpoint source</td>\n      <td>NaN</td>\n      <td>N</td>\n      <td>IN COASTAL WATERS, BACTERIA OF THE ENTEROCOCCI...</td>\n      <td>2010-09-21</td>\n      <td>AL03140107-0205-102</td>\n      <td>031401070205</td>\n      <td>ALR10AAY0</td>\n      <td>ALR10AAY0</td>\n    </tr>\n    <tr>\n      <th>2</th>\n      <td>21AWIC</td>\n      <td>State</td>\n      <td>AL</td>\n      <td>39070</td>\n      <td>TMDL</td>\n      <td>EPA Final Action</td>\n      <td>2010-09-21</td>\n      <td>AL03140107-0205-102</td>\n      <td>ENTEROCOCCUS BACTERIA</td>\n      <td>Nonpoint source</td>\n      <td>NaN</td>\n      <td>N</td>\n      <td>IN COASTAL WATERS, BACTERIA OF THE ENTEROCOCCI...</td>\n      <td>2010-09-21</td>\n      <td>AL03140107-0205-102</td>\n      <td>031401070205</td>\n      <td>ALR10AM01</td>\n      <td>ALR10AM01</td>\n    </tr>\n    <tr>\n      <th>3</th>\n      <td>21AWIC</td>\n      <td>State</td>\n      <td>AL</td>\n      <td>39070</td>\n      <td>TMDL</td>\n      <td>EPA Final Action</td>\n      <td>2010-09-21</td>\n      <td>AL03140107-0205-102</td>\n      <td>ENTEROCOCCUS BACTERIA</td>\n      <td>Nonpoint source</td>\n      <td>NaN</td>\n      <td>N</td>\n      <td>IN COASTAL WATERS, BACTERIA OF THE ENTEROCOCCI...</td>\n      <td>2010-09-21</td>\n      <td>AL03140107-0205-102</td>\n      <td>031401070205</td>\n      <td>ALR10AA85</td>\n      <td>ALR10AA85</td>\n    </tr>\n    <tr>\n      <th>4</th>\n      <td>21AWIC</td>\n      <td>State</td>\n      <td>AL</td>\n      <td>39070</td>\n      <td>TMDL</td>\n      <td>EPA Final Action</td>\n      <td>2010-09-21</td>\n      <td>AL03140107-0205-102</td>\n      <td>ENTEROCOCCUS BACTERIA</td>\n      <td>Nonpoint source</td>\n      <td>NaN</td>\n      <td>N</td>\n      <td>IN COASTAL WATERS, BACTERIA OF THE ENTEROCOCCI...</td>\n      <td>2010-09-21</td>\n      <td>AL03140107-0205-102</td>\n      <td>031401070205</td>\n      <td>ALR10AN53</td>\n      <td>ALR10AN53</td>\n    </tr>\n    <tr>\n      <th>5</th>\n      <td>21AWIC</td>\n      <td>State</td>\n      <td>AL</td>\n      <td>39070</td>\n      <td>TMDL</td>\n      <td>EPA Final Action</td>\n      <td>2010-09-21</td>\n      <td>AL03140107-0205-102</td>\n      <td>ENTEROCOCCUS BACTERIA</td>\n      <td>Nonpoint source</td>\n      <td>NaN</td>\n      <td>N</td>\n      <td>IN COASTAL WATERS, BACTERIA OF THE ENTEROCOCCI...</td>\n      <td>2010-09-21</td>\n      <td>AL03140107-0205-102</td>\n      <td>031401070205</td>\n      <td>ALR10BBY8</td>\n      <td>ALR10BBY8</td>\n    </tr>\n    <tr>\n      <th>6</th>\n      <td>21AWIC</td>\n      <td>State</td>\n      <td>AL</td>\n      <td>39070</td>\n      <td>TMDL</td>\n      <td>EPA Final Action</td>\n      <td>2010-09-21</td>\n      <td>AL03140107-0205-102</td>\n      <td>ENTEROCOCCUS BACTERIA</td>\n      <td>Nonpoint source</td>\n      <td>NaN</td>\n      <td>N</td>\n      <td>IN COASTAL WATERS, BACTERIA OF THE ENTEROCOCCI...</td>\n      <td>2010-09-21</td>\n      <td>AL03140107-0205-102</td>\n      <td>031401070205</td>\n      <td>ALR10BDTA</td>\n      <td>ALR10BDTA</td>\n    </tr>\n    <tr>\n      <th>7</th>\n      <td>21AWIC</td>\n      <td>State</td>\n      <td>AL</td>\n      <td>39070</td>\n      <td>TMDL</td>\n      <td>EPA Final Action</td>\n      <td>2010-09-21</td>\n      <td>AL03140107-0205-102</td>\n      <td>ENTEROCOCCUS BACTERIA</td>\n      <td>Nonpoint source</td>\n      <td>NaN</td>\n      <td>N</td>\n      <td>IN COASTAL WATERS, BACTERIA OF THE ENTEROCOCCI...</td>\n      <td>2010-09-21</td>\n      <td>AL03140107-0205-102</td>\n      <td>031401070205</td>\n      <td>ALR10BCC1</td>\n      <td>ALR10BCC1</td>\n    </tr>\n    <tr>\n      <th>8</th>\n      <td>21AWIC</td>\n      <td>State</td>\n      <td>AL</td>\n      <td>39070</td>\n      <td>TMDL</td>\n      <td>EPA Final Action</td>\n      <td>2010-09-21</td>\n      <td>AL03140107-0205-102</td>\n      <td>ENTEROCOCCUS BACTERIA</td>\n      <td>Nonpoint source</td>\n      <td>NaN</td>\n      <td>N</td>\n      <td>IN COASTAL WATERS, BACTERIA OF THE ENTEROCOCCI...</td>\n      <td>2010-09-21</td>\n      <td>AL03140107-0205-102</td>\n      <td>031401070205</td>\n      <td>ALR10BCI2</td>\n      <td>ALR10BCI2</td>\n    </tr>\n    <tr>\n      <th>9</th>\n      <td>21AWIC</td>\n      <td>State</td>\n      <td>AL</td>\n      <td>39070</td>\n      <td>TMDL</td>\n      <td>EPA Final Action</td>\n      <td>2010-09-21</td>\n      <td>AL03140107-0205-102</td>\n      <td>ENTEROCOCCUS BACTERIA</td>\n      <td>Nonpoint source</td>\n      <td>NaN</td>\n      <td>N</td>\n      <td>IN COASTAL WATERS, BACTERIA OF THE ENTEROCOCCI...</td>\n      <td>2010-09-21</td>\n      <td>AL03140107-0205-102</td>\n      <td>031401070205</td>\n      <td>ALR10BCLM</td>\n      <td>ALR10BCLM</td>\n    </tr>\n    <tr>\n      <th>10</th>\n      <td>21AWIC</td>\n      <td>State</td>\n      <td>AL</td>\n      <td>39070</td>\n      <td>TMDL</td>\n      <td>EPA Final Action</td>\n      <td>2010-09-21</td>\n      <td>AL03140107-0205-102</td>\n      <td>ENTEROCOCCUS BACTERIA</td>\n      <td>Nonpoint source</td>\n      <td>NaN</td>\n      <td>N</td>\n      <td>IN COASTAL WATERS, BACTERIA OF THE ENTEROCOCCI...</td>\n      <td>2010-09-21</td>\n      <td>AL03140107-0205-102</td>\n      <td>031401070205</td>\n      <td>ALR10C03N</td>\n      <td>ALR10C03N</td>\n    </tr>\n    <tr>\n      <th>11</th>\n      <td>21AWIC</td>\n      <td>State</td>\n      <td>AL</td>\n      <td>39070</td>\n      <td>TMDL</td>\n      <td>EPA Final Action</td>\n      <td>2010-09-21</td>\n      <td>AL03140107-0205-102</td>\n      <td>ENTEROCOCCUS BACTERIA</td>\n      <td>Nonpoint source</td>\n      <td>NaN</td>\n      <td>N</td>\n      <td>IN COASTAL WATERS, BACTERIA OF THE ENTEROCOCCI...</td>\n      <td>2010-09-21</td>\n      <td>AL03140107-0205-102</td>\n      <td>031401070205</td>\n      <td>ALR10C1PC</td>\n      <td>ALR10C1PC</td>\n    </tr>\n    <tr>\n      <th>12</th>\n      <td>21AWIC</td>\n      <td>State</td>\n      <td>AL</td>\n      <td>39070</td>\n      <td>TMDL</td>\n      <td>EPA Final Action</td>\n      <td>2010-09-21</td>\n      <td>AL03140107-0205-102</td>\n      <td>ENTEROCOCCUS BACTERIA</td>\n      <td>Nonpoint source</td>\n      <td>NaN</td>\n      <td>N</td>\n      <td>IN COASTAL WATERS, BACTERIA OF THE ENTEROCOCCI...</td>\n      <td>2010-09-21</td>\n      <td>AL03140107-0205-102</td>\n      <td>031401070205</td>\n      <td>ALR10C17X</td>\n      <td>ALR10C17X</td>\n    </tr>\n    <tr>\n      <th>13</th>\n      <td>21AWIC</td>\n      <td>State</td>\n      <td>AL</td>\n      <td>39070</td>\n      <td>TMDL</td>\n      <td>EPA Final Action</td>\n      <td>2010-09-21</td>\n      <td>AL03140107-0205-102</td>\n      <td>ENTEROCOCCUS BACTERIA</td>\n      <td>Nonpoint source</td>\n      <td>NaN</td>\n      <td>N</td>\n      <td>IN COASTAL WATERS, BACTERIA OF THE ENTEROCOCCI...</td>\n      <td>2010-09-21</td>\n      <td>AL03140107-0205-102</td>\n      <td>031401070205</td>\n      <td>ALR10C19Y</td>\n      <td>ALR10C19Y</td>\n    </tr>\n    <tr>\n      <th>14</th>\n      <td>21AWIC</td>\n      <td>State</td>\n      <td>AL</td>\n      <td>39070</td>\n      <td>TMDL</td>\n      <td>EPA Final Action</td>\n      <td>2010-09-21</td>\n      <td>AL03140107-0205-102</td>\n      <td>ENTEROCOCCUS BACTERIA</td>\n      <td>Nonpoint source</td>\n      <td>NaN</td>\n      <td>N</td>\n      <td>IN COASTAL WATERS, BACTERIA OF THE ENTEROCOCCI...</td>\n      <td>2010-09-21</td>\n      <td>AL03140107-0205-102</td>\n      <td>031401070205</td>\n      <td>ALR10C08N</td>\n      <td>ALR10C08N</td>\n    </tr>\n    <tr>\n      <th>15</th>\n      <td>21AWIC</td>\n      <td>State</td>\n      <td>AL</td>\n      <td>39070</td>\n      <td>TMDL</td>\n      <td>EPA Final Action</td>\n      <td>2010-09-21</td>\n      <td>AL03140107-0205-102</td>\n      <td>ENTEROCOCCUS BACTERIA</td>\n      <td>Nonpoint source</td>\n      <td>NaN</td>\n      <td>N</td>\n      <td>IN COASTAL WATERS, BACTERIA OF THE ENTEROCOCCI...</td>\n      <td>2010-09-21</td>\n      <td>AL03140107-0205-102</td>\n      <td>031401070205</td>\n      <td>ALR10C0MH</td>\n      <td>ALR10C0MH</td>\n    </tr>\n    <tr>\n      <th>16</th>\n      <td>21AWIC</td>\n      <td>State</td>\n      <td>AL</td>\n      <td>39070</td>\n      <td>TMDL</td>\n      <td>EPA Final Action</td>\n      <td>2010-09-21</td>\n      <td>AL03140107-0205-102</td>\n      <td>ENTEROCOCCUS BACTERIA</td>\n      <td>Nonpoint source</td>\n      <td>NaN</td>\n      <td>N</td>\n      <td>IN COASTAL WATERS, BACTERIA OF THE ENTEROCOCCI...</td>\n      <td>2010-09-21</td>\n      <td>AL03140107-0205-102</td>\n      <td>031401070205</td>\n      <td>ALR161842</td>\n      <td>ALR161842</td>\n    </tr>\n    <tr>\n      <th>17</th>\n      <td>21AWIC</td>\n      <td>State</td>\n      <td>AL</td>\n      <td>39070</td>\n      <td>TMDL</td>\n      <td>EPA Final Action</td>\n      <td>2010-09-21</td>\n      <td>AL03140107-0205-102</td>\n      <td>ENTEROCOCCUS BACTERIA</td>\n      <td>Nonpoint source</td>\n      <td>NaN</td>\n      <td>N</td>\n      <td>IN COASTAL WATERS, BACTERIA OF THE ENTEROCOCCI...</td>\n      <td>2010-09-21</td>\n      <td>AL03140107-0205-102</td>\n      <td>031401070205</td>\n      <td>ALR161470</td>\n      <td>ALR161470</td>\n    </tr>\n    <tr>\n      <th>18</th>\n      <td>21AWIC</td>\n      <td>State</td>\n      <td>AL</td>\n      <td>39070</td>\n      <td>TMDL</td>\n      <td>EPA Final Action</td>\n      <td>2010-09-21</td>\n      <td>AL03140107-0205-102</td>\n      <td>ENTEROCOCCUS BACTERIA</td>\n      <td>Nonpoint source</td>\n      <td>NaN</td>\n      <td>N</td>\n      <td>IN COASTAL WATERS, BACTERIA OF THE ENTEROCOCCI...</td>\n      <td>2010-09-21</td>\n      <td>AL03140107-0205-102</td>\n      <td>031401070205</td>\n      <td>ALR160383</td>\n      <td>ALR160383</td>\n    </tr>\n    <tr>\n      <th>19</th>\n      <td>21AWIC</td>\n      <td>State</td>\n      <td>AL</td>\n      <td>39070</td>\n      <td>TMDL</td>\n      <td>EPA Final Action</td>\n      <td>2010-09-21</td>\n      <td>AL03140107-0205-102</td>\n      <td>ENTEROCOCCUS BACTERIA</td>\n      <td>Nonpoint source</td>\n      <td>NaN</td>\n      <td>N</td>\n      <td>IN COASTAL WATERS, BACTERIA OF THE ENTEROCOCCI...</td>\n      <td>2010-09-21</td>\n      <td>AL03140107-0205-102</td>\n      <td>031401070205</td>\n      <td>ALR160652</td>\n      <td>ALR160652</td>\n    </tr>\n    <tr>\n      <th>20</th>\n      <td>21AWIC</td>\n      <td>State</td>\n      <td>AL</td>\n      <td>39070</td>\n      <td>TMDL</td>\n      <td>EPA Final Action</td>\n      <td>2010-09-21</td>\n      <td>AL03140107-0205-102</td>\n      <td>ENTEROCOCCUS BACTERIA</td>\n      <td>Nonpoint source</td>\n      <td>NaN</td>\n      <td>N</td>\n      <td>IN COASTAL WATERS, BACTERIA OF THE ENTEROCOCCI...</td>\n      <td>2010-09-21</td>\n      <td>AL03140107-0205-102</td>\n      <td>031401070205</td>\n      <td>ALR160496</td>\n      <td>ALR160496</td>\n    </tr>\n    <tr>\n      <th>21</th>\n      <td>21AWIC</td>\n      <td>State</td>\n      <td>AL</td>\n      <td>39070</td>\n      <td>TMDL</td>\n      <td>EPA Final Action</td>\n      <td>2010-09-21</td>\n      <td>AL03140107-0205-102</td>\n      <td>ENTEROCOCCUS BACTERIA</td>\n      <td>Nonpoint source</td>\n      <td>NaN</td>\n      <td>N</td>\n      <td>IN COASTAL WATERS, BACTERIA OF THE ENTEROCOCCI...</td>\n      <td>2010-09-21</td>\n      <td>AL03140107-0205-102</td>\n      <td>031401070205</td>\n      <td>ALR165217</td>\n      <td>ALR165217</td>\n    </tr>\n    <tr>\n      <th>22</th>\n      <td>21AWIC</td>\n      <td>State</td>\n      <td>AL</td>\n      <td>39070</td>\n      <td>TMDL</td>\n      <td>EPA Final Action</td>\n      <td>2010-09-21</td>\n      <td>AL03140107-0205-102</td>\n      <td>ENTEROCOCCUS BACTERIA</td>\n      <td>Nonpoint source</td>\n      <td>NaN</td>\n      <td>N</td>\n      <td>IN COASTAL WATERS, BACTERIA OF THE ENTEROCOCCI...</td>\n      <td>2010-09-21</td>\n      <td>AL03140107-0205-102</td>\n      <td>031401070205</td>\n      <td>ALR166379</td>\n      <td>ALR166379</td>\n    </tr>\n    <tr>\n      <th>23</th>\n      <td>21AWIC</td>\n      <td>State</td>\n      <td>AL</td>\n      <td>39070</td>\n      <td>TMDL</td>\n      <td>EPA Final Action</td>\n      <td>2010-09-21</td>\n      <td>AL03140107-0205-102</td>\n      <td>ENTEROCOCCUS BACTERIA</td>\n      <td>Nonpoint source</td>\n      <td>NaN</td>\n      <td>N</td>\n      <td>IN COASTAL WATERS, BACTERIA OF THE ENTEROCOCCI...</td>\n      <td>2010-09-21</td>\n      <td>AL03140107-0205-102</td>\n      <td>031401070205</td>\n      <td>ALR165527</td>\n      <td>ALR165527</td>\n    </tr>\n    <tr>\n      <th>24</th>\n      <td>21AWIC</td>\n      <td>State</td>\n      <td>AL</td>\n      <td>39070</td>\n      <td>TMDL</td>\n      <td>EPA Final Action</td>\n      <td>2010-09-21</td>\n      <td>AL03140107-0205-102</td>\n      <td>ENTEROCOCCUS BACTERIA</td>\n      <td>Nonpoint source</td>\n      <td>NaN</td>\n      <td>N</td>\n      <td>IN COASTAL WATERS, BACTERIA OF THE ENTEROCOCCI...</td>\n      <td>2010-09-21</td>\n      <td>AL03140107-0205-102</td>\n      <td>031401070205</td>\n      <td>ALR164356</td>\n      <td>ALR164356</td>\n    </tr>\n    <tr>\n      <th>25</th>\n      <td>21AWIC</td>\n      <td>State</td>\n      <td>AL</td>\n      <td>39070</td>\n      <td>TMDL</td>\n      <td>EPA Final Action</td>\n      <td>2010-09-21</td>\n      <td>AL03140107-0205-102</td>\n      <td>ENTEROCOCCUS BACTERIA</td>\n      <td>Nonpoint source</td>\n      <td>NaN</td>\n      <td>N</td>\n      <td>IN COASTAL WATERS, BACTERIA OF THE ENTEROCOCCI...</td>\n      <td>2010-09-21</td>\n      <td>AL03140107-0205-102</td>\n      <td>031401070205</td>\n      <td>ALR163987</td>\n      <td>ALR163987</td>\n    </tr>\n    <tr>\n      <th>26</th>\n      <td>21AWIC</td>\n      <td>State</td>\n      <td>AL</td>\n      <td>39070</td>\n      <td>TMDL</td>\n      <td>EPA Final Action</td>\n      <td>2010-09-21</td>\n      <td>AL03140107-0205-102</td>\n      <td>ENTEROCOCCUS BACTERIA</td>\n      <td>Nonpoint source</td>\n      <td>NaN</td>\n      <td>N</td>\n      <td>IN COASTAL WATERS, BACTERIA OF THE ENTEROCOCCI...</td>\n      <td>2010-09-21</td>\n      <td>AL03140107-0205-102</td>\n      <td>031401070205</td>\n      <td>ALR166121</td>\n      <td>ALR166121</td>\n    </tr>\n    <tr>\n      <th>27</th>\n      <td>21AWIC</td>\n      <td>State</td>\n      <td>AL</td>\n      <td>39070</td>\n      <td>TMDL</td>\n      <td>EPA Final Action</td>\n      <td>2010-09-21</td>\n      <td>AL03140107-0205-102</td>\n      <td>ENTEROCOCCUS BACTERIA</td>\n      <td>Nonpoint source</td>\n      <td>NaN</td>\n      <td>N</td>\n      <td>IN COASTAL WATERS, BACTERIA OF THE ENTEROCOCCI...</td>\n      <td>2010-09-21</td>\n      <td>AL03140107-0205-102</td>\n      <td>031401070205</td>\n      <td>ALR166583</td>\n      <td>ALR166583</td>\n    </tr>\n    <tr>\n      <th>28</th>\n      <td>21AWIC</td>\n      <td>State</td>\n      <td>AL</td>\n      <td>39070</td>\n      <td>TMDL</td>\n      <td>EPA Final Action</td>\n      <td>2010-09-21</td>\n      <td>AL03140107-0205-102</td>\n      <td>ENTEROCOCCUS BACTERIA</td>\n      <td>Nonpoint source</td>\n      <td>NaN</td>\n      <td>N</td>\n      <td>IN COASTAL WATERS, BACTERIA OF THE ENTEROCOCCI...</td>\n      <td>2010-09-21</td>\n      <td>AL03140107-0205-102</td>\n      <td>031401070205</td>\n      <td>ALU000902</td>\n      <td>ALU000902</td>\n    </tr>\n    <tr>\n      <th>29</th>\n      <td>21AWIC</td>\n      <td>State</td>\n      <td>AL</td>\n      <td>AL03160111_0303_102_Nutrients_2018</td>\n      <td>TMDL</td>\n      <td>EPA Final Action</td>\n      <td>2017-12-21</td>\n      <td>AL03160111-0305-102</td>\n      <td>PHOSPHORUS, TOTAL</td>\n      <td>Both</td>\n      <td>NaN</td>\n      <td>NaN</td>\n      <td>NaN</td>\n      <td>2018-01-22</td>\n      <td>AL03160111-0305-102</td>\n      <td>031601110301</td>\n      <td>ALA000825</td>\n      <td>ALA000825</td>\n    </tr>\n    <tr>\n      <th>30</th>\n      <td>21AWIC</td>\n      <td>State</td>\n      <td>AL</td>\n      <td>AL03160111_0303_102_Nutrients_2018</td>\n      <td>TMDL</td>\n      <td>EPA Final Action</td>\n      <td>2017-12-21</td>\n      <td>AL03160111-0305-102</td>\n      <td>PHOSPHORUS, TOTAL</td>\n      <td>Both</td>\n      <td>NaN</td>\n      <td>NaN</td>\n      <td>NaN</td>\n      <td>2018-01-22</td>\n      <td>AL03160111-0305-102</td>\n      <td>031601110301</td>\n      <td>ALR10AAK5</td>\n      <td>ALR10AAK5</td>\n    </tr>\n    <tr>\n      <th>31</th>\n      <td>21AWIC</td>\n      <td>State</td>\n      <td>AL</td>\n      <td>AL03160111_0303_102_Nutrients_2018</td>\n      <td>TMDL</td>\n      <td>EPA Final Action</td>\n      <td>2017-12-21</td>\n      <td>AL03160111-0305-102</td>\n      <td>PHOSPHORUS, TOTAL</td>\n      <td>Both</td>\n      <td>NaN</td>\n      <td>NaN</td>\n      <td>NaN</td>\n      <td>2018-01-22</td>\n      <td>AL03160111-0305-102</td>\n      <td>031601110301</td>\n      <td>ALR10AP61</td>\n      <td>ALR10AP61</td>\n    </tr>\n    <tr>\n      <th>32</th>\n      <td>21AWIC</td>\n      <td>State</td>\n      <td>AL</td>\n      <td>AL03160111_0303_102_Nutrients_2018</td>\n      <td>TMDL</td>\n      <td>EPA Final Action</td>\n      <td>2017-12-21</td>\n      <td>AL03160111-0305-102</td>\n      <td>PHOSPHORUS, TOTAL</td>\n      <td>Both</td>\n      <td>NaN</td>\n      <td>NaN</td>\n      <td>NaN</td>\n      <td>2018-01-22</td>\n      <td>AL03160111-0305-102</td>\n      <td>031601110301</td>\n      <td>ALR16ECGL</td>\n      <td>ALR16ECGL</td>\n    </tr>\n    <tr>\n      <th>33</th>\n      <td>21AWIC</td>\n      <td>State</td>\n      <td>AL</td>\n      <td>AL03160111_0303_102_Nutrients_2018</td>\n      <td>TMDL</td>\n      <td>EPA Final Action</td>\n      <td>2017-12-21</td>\n      <td>AL03160111-0305-102</td>\n      <td>PHOSPHORUS, TOTAL</td>\n      <td>Both</td>\n      <td>NaN</td>\n      <td>NaN</td>\n      <td>NaN</td>\n      <td>2018-01-22</td>\n      <td>AL03160111-0305-102</td>\n      <td>031601110301</td>\n      <td>ALR16B785</td>\n      <td>ALR16B785</td>\n    </tr>\n    <tr>\n      <th>34</th>\n      <td>21AWIC</td>\n      <td>State</td>\n      <td>AL</td>\n      <td>AL03160111_0303_102_Nutrients_2018</td>\n      <td>TMDL</td>\n      <td>EPA Final Action</td>\n      <td>2017-12-21</td>\n      <td>AL03160111-0305-102</td>\n      <td>PHOSPHORUS, TOTAL</td>\n      <td>Both</td>\n      <td>NaN</td>\n      <td>NaN</td>\n      <td>NaN</td>\n      <td>2018-01-22</td>\n      <td>AL03160111-0305-102</td>\n      <td>031601110305</td>\n      <td>AL0075094022</td>\n      <td>AL0075094</td>\n    </tr>\n    <tr>\n      <th>35</th>\n      <td>21AWIC</td>\n      <td>State</td>\n      <td>AL</td>\n      <td>AL03160111_0303_102_Nutrients_2018</td>\n      <td>TMDL</td>\n      <td>EPA Final Action</td>\n      <td>2017-12-21</td>\n      <td>AL03160111-0305-102</td>\n      <td>PHOSPHORUS, TOTAL</td>\n      <td>Both</td>\n      <td>NaN</td>\n      <td>NaN</td>\n      <td>NaN</td>\n      <td>2018-01-22</td>\n      <td>AL03160111-0305-102</td>\n      <td>031601110305</td>\n      <td>AL0075094023</td>\n      <td>AL0075094</td>\n    </tr>\n    <tr>\n      <th>36</th>\n      <td>21AWIC</td>\n      <td>State</td>\n      <td>AL</td>\n      <td>AL03160111_0303_102_Nutrients_2018</td>\n      <td>TMDL</td>\n      <td>EPA Final Action</td>\n      <td>2017-12-21</td>\n      <td>AL03160111-0305-102</td>\n      <td>PHOSPHORUS, TOTAL</td>\n      <td>Both</td>\n      <td>NaN</td>\n      <td>NaN</td>\n      <td>NaN</td>\n      <td>2018-01-22</td>\n      <td>AL03160111-0305-102</td>\n      <td>031601110305</td>\n      <td>AL0075094024</td>\n      <td>AL0075094</td>\n    </tr>\n    <tr>\n      <th>37</th>\n      <td>21AWIC</td>\n      <td>State</td>\n      <td>AL</td>\n      <td>AL03160111_0303_102_Nutrients_2018</td>\n      <td>TMDL</td>\n      <td>EPA Final Action</td>\n      <td>2017-12-21</td>\n      <td>AL03160111-0305-102</td>\n      <td>PHOSPHORUS, TOTAL</td>\n      <td>Both</td>\n      <td>NaN</td>\n      <td>NaN</td>\n      <td>NaN</td>\n      <td>2018-01-22</td>\n      <td>AL03160111-0305-102</td>\n      <td>031601110305</td>\n      <td>AL0075094025</td>\n      <td>AL0075094</td>\n    </tr>\n    <tr>\n      <th>38</th>\n      <td>21AWIC</td>\n      <td>State</td>\n      <td>AL</td>\n      <td>AL03160111_0303_102_Nutrients_2018</td>\n      <td>TMDL</td>\n      <td>EPA Final Action</td>\n      <td>2017-12-21</td>\n      <td>AL03160111-0305-102</td>\n      <td>PHOSPHORUS, TOTAL</td>\n      <td>Both</td>\n      <td>NaN</td>\n      <td>NaN</td>\n      <td>NaN</td>\n      <td>2018-01-22</td>\n      <td>AL03160111-0305-102</td>\n      <td>031601110305</td>\n      <td>AL0075094026</td>\n      <td>AL0075094</td>\n    </tr>\n    <tr>\n      <th>39</th>\n      <td>21AWIC</td>\n      <td>State</td>\n      <td>AL</td>\n      <td>AL03160111_0303_102_Nutrients_2018</td>\n      <td>TMDL</td>\n      <td>EPA Final Action</td>\n      <td>2017-12-21</td>\n      <td>AL03160111-0305-102</td>\n      <td>PHOSPHORUS, TOTAL</td>\n      <td>Both</td>\n      <td>NaN</td>\n      <td>NaN</td>\n      <td>NaN</td>\n      <td>2018-01-22</td>\n      <td>AL03160111-0305-102</td>\n      <td>031601110305</td>\n      <td>AL0075094027</td>\n      <td>AL0075094</td>\n    </tr>\n    <tr>\n      <th>40</th>\n      <td>21AWIC</td>\n      <td>State</td>\n      <td>AL</td>\n      <td>AL03160111_0303_102_Nutrients_2018</td>\n      <td>TMDL</td>\n      <td>EPA Final Action</td>\n      <td>2017-12-21</td>\n      <td>AL03160111-0305-102</td>\n      <td>PHOSPHORUS, TOTAL</td>\n      <td>Both</td>\n      <td>NaN</td>\n      <td>NaN</td>\n      <td>NaN</td>\n      <td>2018-01-22</td>\n      <td>AL03160111-0305-102</td>\n      <td>031601110305</td>\n      <td>AL0075094028</td>\n      <td>AL0075094</td>\n    </tr>\n    <tr>\n      <th>41</th>\n      <td>21AWIC</td>\n      <td>State</td>\n      <td>AL</td>\n      <td>AL03160111_0303_102_Nutrients_2018</td>\n      <td>TMDL</td>\n      <td>EPA Final Action</td>\n      <td>2017-12-21</td>\n      <td>AL03160111-0305-102</td>\n      <td>PHOSPHORUS, TOTAL</td>\n      <td>Both</td>\n      <td>NaN</td>\n      <td>NaN</td>\n      <td>NaN</td>\n      <td>2018-01-22</td>\n      <td>AL03160111-0305-102</td>\n      <td>031601110305</td>\n      <td>AL0075094029</td>\n      <td>AL0075094</td>\n    </tr>\n    <tr>\n      <th>42</th>\n      <td>21AWIC</td>\n      <td>State</td>\n      <td>AL</td>\n      <td>AL03160111_0303_102_Nutrients_2018</td>\n      <td>TMDL</td>\n      <td>EPA Final Action</td>\n      <td>2017-12-21</td>\n      <td>AL03160111-0305-102</td>\n      <td>PHOSPHORUS, TOTAL</td>\n      <td>Both</td>\n      <td>NaN</td>\n      <td>NaN</td>\n      <td>NaN</td>\n      <td>2018-01-22</td>\n      <td>AL03160111-0305-102</td>\n      <td>031601110305</td>\n      <td>AL0075094030</td>\n      <td>AL0075094</td>\n    </tr>\n    <tr>\n      <th>43</th>\n      <td>21AWIC</td>\n      <td>State</td>\n      <td>AL</td>\n      <td>AL03160111_0303_102_Nutrients_2018</td>\n      <td>TMDL</td>\n      <td>EPA Final Action</td>\n      <td>2017-12-21</td>\n      <td>AL03160111-0305-102</td>\n      <td>PHOSPHORUS, TOTAL</td>\n      <td>Both</td>\n      <td>NaN</td>\n      <td>NaN</td>\n      <td>NaN</td>\n      <td>2018-01-22</td>\n      <td>AL03160111-0305-102</td>\n      <td>031601110305</td>\n      <td>AL0075094031</td>\n      <td>AL0075094</td>\n    </tr>\n    <tr>\n      <th>44</th>\n      <td>21AWIC</td>\n      <td>State</td>\n      <td>AL</td>\n      <td>AL03160111_0303_102_Nutrients_2018</td>\n      <td>TMDL</td>\n      <td>EPA Final Action</td>\n      <td>2017-12-21</td>\n      <td>AL03160111-0305-102</td>\n      <td>PHOSPHORUS, TOTAL</td>\n      <td>Both</td>\n      <td>NaN</td>\n      <td>NaN</td>\n      <td>NaN</td>\n      <td>2018-01-22</td>\n      <td>AL03160111-0305-102</td>\n      <td>031601110305</td>\n      <td>AL0075442033</td>\n      <td>AL0075442</td>\n    </tr>\n    <tr>\n      <th>45</th>\n      <td>21AWIC</td>\n      <td>State</td>\n      <td>AL</td>\n      <td>AL03160111_0303_102_Nutrients_2018</td>\n      <td>TMDL</td>\n      <td>EPA Final Action</td>\n      <td>2017-12-21</td>\n      <td>AL03160111-0305-102</td>\n      <td>PHOSPHORUS, TOTAL</td>\n      <td>Both</td>\n      <td>NaN</td>\n      <td>NaN</td>\n      <td>NaN</td>\n      <td>2018-01-22</td>\n      <td>AL03160111-0305-102</td>\n      <td>031601110305</td>\n      <td>AL0075442042</td>\n      <td>AL0075442</td>\n    </tr>\n    <tr>\n      <th>46</th>\n      <td>21AWIC</td>\n      <td>State</td>\n      <td>AL</td>\n      <td>AL03160111_0303_102_Nutrients_2018</td>\n      <td>TMDL</td>\n      <td>EPA Final Action</td>\n      <td>2017-12-21</td>\n      <td>AL03160111-0305-102</td>\n      <td>PHOSPHORUS, TOTAL</td>\n      <td>Both</td>\n      <td>NaN</td>\n      <td>NaN</td>\n      <td>NaN</td>\n      <td>2018-01-22</td>\n      <td>AL03160111-0305-102</td>\n      <td>031601110305</td>\n      <td>AL0075442043</td>\n      <td>AL0075442</td>\n    </tr>\n    <tr>\n      <th>47</th>\n      <td>21AWIC</td>\n      <td>State</td>\n      <td>AL</td>\n      <td>AL03160111_0303_102_Nutrients_2018</td>\n      <td>TMDL</td>\n      <td>EPA Final Action</td>\n      <td>2017-12-21</td>\n      <td>AL03160111-0305-102</td>\n      <td>PHOSPHORUS, TOTAL</td>\n      <td>Both</td>\n      <td>NaN</td>\n      <td>NaN</td>\n      <td>NaN</td>\n      <td>2018-01-22</td>\n      <td>AL03160111-0305-102</td>\n      <td>031601110305</td>\n      <td>AL0075442016</td>\n      <td>AL0075442</td>\n    </tr>\n    <tr>\n      <th>48</th>\n      <td>21AWIC</td>\n      <td>State</td>\n      <td>AL</td>\n      <td>AL03160111_0303_102_Nutrients_2018</td>\n      <td>TMDL</td>\n      <td>EPA Final Action</td>\n      <td>2017-12-21</td>\n      <td>AL03160111-0305-102</td>\n      <td>PHOSPHORUS, TOTAL</td>\n      <td>Both</td>\n      <td>NaN</td>\n      <td>NaN</td>\n      <td>NaN</td>\n      <td>2018-01-22</td>\n      <td>AL03160111-0305-102</td>\n      <td>031601110305</td>\n      <td>AL0075442017</td>\n      <td>AL0075442</td>\n    </tr>\n    <tr>\n      <th>49</th>\n      <td>21AWIC</td>\n      <td>State</td>\n      <td>AL</td>\n      <td>AL03160111_0303_102_Nutrients_2018</td>\n      <td>TMDL</td>\n      <td>EPA Final Action</td>\n      <td>2017-12-21</td>\n      <td>AL03160111-0305-102</td>\n      <td>PHOSPHORUS, TOTAL</td>\n      <td>Both</td>\n      <td>NaN</td>\n      <td>NaN</td>\n      <td>NaN</td>\n      <td>2018-01-22</td>\n      <td>AL03160111-0305-102</td>\n      <td>031601110305</td>\n      <td>AL0075442018</td>\n      <td>AL0075442</td>\n    </tr>\n    <tr>\n      <th>50</th>\n      <td>21AWIC</td>\n      <td>State</td>\n      <td>AL</td>\n      <td>AL03160111_0303_102_Nutrients_2018</td>\n      <td>TMDL</td>\n      <td>EPA Final Action</td>\n      <td>2017-12-21</td>\n      <td>AL03160111-0305-102</td>\n      <td>PHOSPHORUS, TOTAL</td>\n      <td>Both</td>\n      <td>NaN</td>\n      <td>NaN</td>\n      <td>NaN</td>\n      <td>2018-01-22</td>\n      <td>AL03160111-0305-102</td>\n      <td>031601110305</td>\n      <td>AL0075442019</td>\n      <td>AL0075442</td>\n    </tr>\n    <tr>\n      <th>51</th>\n      <td>21AWIC</td>\n      <td>State</td>\n      <td>AL</td>\n      <td>AL03160111_0303_102_Nutrients_2018</td>\n      <td>TMDL</td>\n      <td>EPA Final Action</td>\n      <td>2017-12-21</td>\n      <td>AL03160111-0305-102</td>\n      <td>PHOSPHORUS, TOTAL</td>\n      <td>Both</td>\n      <td>NaN</td>\n      <td>NaN</td>\n      <td>NaN</td>\n      <td>2018-01-22</td>\n      <td>AL03160111-0305-102</td>\n      <td>031601110305</td>\n      <td>AL0075442020</td>\n      <td>AL0075442</td>\n    </tr>\n    <tr>\n      <th>52</th>\n      <td>21AWIC</td>\n      <td>State</td>\n      <td>AL</td>\n      <td>AL03160111_0303_102_Nutrients_2018</td>\n      <td>TMDL</td>\n      <td>EPA Final Action</td>\n      <td>2017-12-21</td>\n      <td>AL03160111-0305-102</td>\n      <td>PHOSPHORUS, TOTAL</td>\n      <td>Both</td>\n      <td>NaN</td>\n      <td>NaN</td>\n      <td>NaN</td>\n      <td>2018-01-22</td>\n      <td>AL03160111-0305-102</td>\n      <td>031601110305</td>\n      <td>AL0075442021</td>\n      <td>AL0075442</td>\n    </tr>\n    <tr>\n      <th>53</th>\n      <td>21AWIC</td>\n      <td>State</td>\n      <td>AL</td>\n      <td>AL03160111_0303_102_Nutrients_2018</td>\n      <td>TMDL</td>\n      <td>EPA Final Action</td>\n      <td>2017-12-21</td>\n      <td>AL03160111-0305-102</td>\n      <td>PHOSPHORUS, TOTAL</td>\n      <td>Both</td>\n      <td>NaN</td>\n      <td>NaN</td>\n      <td>NaN</td>\n      <td>2018-01-22</td>\n      <td>AL03160111-0305-102</td>\n      <td>031601110305</td>\n      <td>AL0075442022</td>\n      <td>AL0075442</td>\n    </tr>\n    <tr>\n      <th>54</th>\n      <td>21AWIC</td>\n      <td>State</td>\n      <td>AL</td>\n      <td>AL03160111_0303_102_Nutrients_2018</td>\n      <td>TMDL</td>\n      <td>EPA Final Action</td>\n      <td>2017-12-21</td>\n      <td>AL03160111-0305-102</td>\n      <td>PHOSPHORUS, TOTAL</td>\n      <td>Both</td>\n      <td>NaN</td>\n      <td>NaN</td>\n      <td>NaN</td>\n      <td>2018-01-22</td>\n      <td>AL03160111-0305-102</td>\n      <td>031601110305</td>\n      <td>AL0075442023</td>\n      <td>AL0075442</td>\n    </tr>\n    <tr>\n      <th>55</th>\n      <td>21AWIC</td>\n      <td>State</td>\n      <td>AL</td>\n      <td>AL03160111_0303_102_Nutrients_2018</td>\n      <td>TMDL</td>\n      <td>EPA Final Action</td>\n      <td>2017-12-21</td>\n      <td>AL03160111-0305-102</td>\n      <td>PHOSPHORUS, TOTAL</td>\n      <td>Both</td>\n      <td>NaN</td>\n      <td>NaN</td>\n      <td>NaN</td>\n      <td>2018-01-22</td>\n      <td>AL03160111-0305-102</td>\n      <td>031601110305</td>\n      <td>AL0075442024</td>\n      <td>AL0075442</td>\n    </tr>\n    <tr>\n      <th>56</th>\n      <td>21AWIC</td>\n      <td>State</td>\n      <td>AL</td>\n      <td>AL03160111_0303_102_Nutrients_2018</td>\n      <td>TMDL</td>\n      <td>EPA Final Action</td>\n      <td>2017-12-21</td>\n      <td>AL03160111-0305-102</td>\n      <td>PHOSPHORUS, TOTAL</td>\n      <td>Both</td>\n      <td>NaN</td>\n      <td>NaN</td>\n      <td>NaN</td>\n      <td>2018-01-22</td>\n      <td>AL03160111-0305-102</td>\n      <td>031601110305</td>\n      <td>AL0075442025</td>\n      <td>AL0075442</td>\n    </tr>\n    <tr>\n      <th>57</th>\n      <td>21AWIC</td>\n      <td>State</td>\n      <td>AL</td>\n      <td>AL03160111_0303_102_Nutrients_2018</td>\n      <td>TMDL</td>\n      <td>EPA Final Action</td>\n      <td>2017-12-21</td>\n      <td>AL03160111-0305-102</td>\n      <td>PHOSPHORUS, TOTAL</td>\n      <td>Both</td>\n      <td>NaN</td>\n      <td>NaN</td>\n      <td>NaN</td>\n      <td>2018-01-22</td>\n      <td>AL03160111-0305-102</td>\n      <td>031601110305</td>\n      <td>AL0075442026</td>\n      <td>AL0075442</td>\n    </tr>\n    <tr>\n      <th>58</th>\n      <td>21AWIC</td>\n      <td>State</td>\n      <td>AL</td>\n      <td>AL03160111_0303_102_Nutrients_2018</td>\n      <td>TMDL</td>\n      <td>EPA Final Action</td>\n      <td>2017-12-21</td>\n      <td>AL03160111-0305-102</td>\n      <td>PHOSPHORUS, TOTAL</td>\n      <td>Both</td>\n      <td>NaN</td>\n      <td>NaN</td>\n      <td>NaN</td>\n      <td>2018-01-22</td>\n      <td>AL03160111-0305-102</td>\n      <td>031601110305</td>\n      <td>AL0075442027</td>\n      <td>AL0075442</td>\n    </tr>\n    <tr>\n      <th>59</th>\n      <td>21AWIC</td>\n      <td>State</td>\n      <td>AL</td>\n      <td>AL03160111_0303_102_Nutrients_2018</td>\n      <td>TMDL</td>\n      <td>EPA Final Action</td>\n      <td>2017-12-21</td>\n      <td>AL03160111-0305-102</td>\n      <td>PHOSPHORUS, TOTAL</td>\n      <td>Both</td>\n      <td>NaN</td>\n      <td>NaN</td>\n      <td>NaN</td>\n      <td>2018-01-22</td>\n      <td>AL03160111-0305-102</td>\n      <td>031601110305</td>\n      <td>AL0075442028</td>\n      <td>AL0075442</td>\n    </tr>\n    <tr>\n      <th>60</th>\n      <td>21AWIC</td>\n      <td>State</td>\n      <td>AL</td>\n      <td>AL03160111_0303_102_Nutrients_2018</td>\n      <td>TMDL</td>\n      <td>EPA Final Action</td>\n      <td>2017-12-21</td>\n      <td>AL03160111-0305-102</td>\n      <td>PHOSPHORUS, TOTAL</td>\n      <td>Both</td>\n      <td>NaN</td>\n      <td>NaN</td>\n      <td>NaN</td>\n      <td>2018-01-22</td>\n      <td>AL03160111-0305-102</td>\n      <td>031601110305</td>\n      <td>AL0075442029</td>\n      <td>AL0075442</td>\n    </tr>\n    <tr>\n      <th>61</th>\n      <td>21AWIC</td>\n      <td>State</td>\n      <td>AL</td>\n      <td>AL03160111_0303_102_Nutrients_2018</td>\n      <td>TMDL</td>\n      <td>EPA Final Action</td>\n      <td>2017-12-21</td>\n      <td>AL03160111-0305-102</td>\n      <td>PHOSPHORUS, TOTAL</td>\n      <td>Both</td>\n      <td>NaN</td>\n      <td>NaN</td>\n      <td>NaN</td>\n      <td>2018-01-22</td>\n      <td>AL03160111-0305-102</td>\n      <td>031601110305</td>\n      <td>AL0075442031</td>\n      <td>AL0075442</td>\n    </tr>\n    <tr>\n      <th>62</th>\n      <td>21AWIC</td>\n      <td>State</td>\n      <td>AL</td>\n      <td>AL03160111_0303_102_Nutrients_2018</td>\n      <td>TMDL</td>\n      <td>EPA Final Action</td>\n      <td>2017-12-21</td>\n      <td>AL03160111-0305-102</td>\n      <td>PHOSPHORUS, TOTAL</td>\n      <td>Both</td>\n      <td>NaN</td>\n      <td>NaN</td>\n      <td>NaN</td>\n      <td>2018-01-22</td>\n      <td>AL03160111-0305-102</td>\n      <td>031601110305</td>\n      <td>AL0075094017</td>\n      <td>AL0075094</td>\n    </tr>\n    <tr>\n      <th>63</th>\n      <td>21AWIC</td>\n      <td>State</td>\n      <td>AL</td>\n      <td>AL03160111_0303_102_Nutrients_2018</td>\n      <td>TMDL</td>\n      <td>EPA Final Action</td>\n      <td>2017-12-21</td>\n      <td>AL03160111-0305-102</td>\n      <td>PHOSPHORUS, TOTAL</td>\n      <td>Both</td>\n      <td>NaN</td>\n      <td>NaN</td>\n      <td>NaN</td>\n      <td>2018-01-22</td>\n      <td>AL03160111-0305-102</td>\n      <td>031601110305</td>\n      <td>AL0075094018</td>\n      <td>AL0075094</td>\n    </tr>\n    <tr>\n      <th>64</th>\n      <td>21AWIC</td>\n      <td>State</td>\n      <td>AL</td>\n      <td>AL03160111_0303_102_Nutrients_2018</td>\n      <td>TMDL</td>\n      <td>EPA Final Action</td>\n      <td>2017-12-21</td>\n      <td>AL03160111-0305-102</td>\n      <td>PHOSPHORUS, TOTAL</td>\n      <td>Both</td>\n      <td>NaN</td>\n      <td>NaN</td>\n      <td>NaN</td>\n      <td>2018-01-22</td>\n      <td>AL03160111-0305-102</td>\n      <td>031601110305</td>\n      <td>AL0075094019</td>\n      <td>AL0075094</td>\n    </tr>\n    <tr>\n      <th>65</th>\n      <td>21AWIC</td>\n      <td>State</td>\n      <td>AL</td>\n      <td>AL03160111_0303_102_Nutrients_2018</td>\n      <td>TMDL</td>\n      <td>EPA Final Action</td>\n      <td>2017-12-21</td>\n      <td>AL03160111-0305-102</td>\n      <td>PHOSPHORUS, TOTAL</td>\n      <td>Both</td>\n      <td>NaN</td>\n      <td>NaN</td>\n      <td>NaN</td>\n      <td>2018-01-22</td>\n      <td>AL03160111-0305-102</td>\n      <td>031601110305</td>\n      <td>AL0075094020</td>\n      <td>AL0075094</td>\n    </tr>\n    <tr>\n      <th>66</th>\n      <td>21AWIC</td>\n      <td>State</td>\n      <td>AL</td>\n      <td>AL03160111_0303_102_Nutrients_2018</td>\n      <td>TMDL</td>\n      <td>EPA Final Action</td>\n      <td>2017-12-21</td>\n      <td>AL03160111-0305-102</td>\n      <td>PHOSPHORUS, TOTAL</td>\n      <td>Both</td>\n      <td>NaN</td>\n      <td>NaN</td>\n      <td>NaN</td>\n      <td>2018-01-22</td>\n      <td>AL03160111-0305-102</td>\n      <td>031601110305</td>\n      <td>AL0075094021</td>\n      <td>AL0075094</td>\n    </tr>\n    <tr>\n      <th>67</th>\n      <td>21AWIC</td>\n      <td>State</td>\n      <td>AL</td>\n      <td>AL03160111_0303_102_Nutrients_2018</td>\n      <td>TMDL</td>\n      <td>EPA Final Action</td>\n      <td>2017-12-21</td>\n      <td>AL03160111-0305-102</td>\n      <td>PHOSPHORUS, TOTAL</td>\n      <td>Both</td>\n      <td>NaN</td>\n      <td>NaN</td>\n      <td>NaN</td>\n      <td>2018-01-22</td>\n      <td>AL03160111-0305-102</td>\n      <td>031601110305</td>\n      <td>AL0050555</td>\n      <td>AL0050555</td>\n    </tr>\n    <tr>\n      <th>68</th>\n      <td>21AWIC</td>\n      <td>State</td>\n      <td>AL</td>\n      <td>AL03160111_0303_102_Nutrients_2018</td>\n      <td>TMDL</td>\n      <td>EPA Final Action</td>\n      <td>2017-12-21</td>\n      <td>AL03160111-0305-102</td>\n      <td>PHOSPHORUS, TOTAL</td>\n      <td>Both</td>\n      <td>NaN</td>\n      <td>NaN</td>\n      <td>NaN</td>\n      <td>2018-01-22</td>\n      <td>AL03160111-0305-102</td>\n      <td>031601110305</td>\n      <td>AL0075094001</td>\n      <td>AL0075094</td>\n    </tr>\n    <tr>\n      <th>69</th>\n      <td>21AWIC</td>\n      <td>State</td>\n      <td>AL</td>\n      <td>AL03160111_0303_102_Nutrients_2018</td>\n      <td>TMDL</td>\n      <td>EPA Final Action</td>\n      <td>2017-12-21</td>\n      <td>AL03160111-0305-102</td>\n      <td>PHOSPHORUS, TOTAL</td>\n      <td>Both</td>\n      <td>NaN</td>\n      <td>NaN</td>\n      <td>NaN</td>\n      <td>2018-01-22</td>\n      <td>AL03160111-0305-102</td>\n      <td>031601110305</td>\n      <td>AL0075094002</td>\n      <td>AL0075094</td>\n    </tr>\n    <tr>\n      <th>70</th>\n      <td>21AWIC</td>\n      <td>State</td>\n      <td>AL</td>\n      <td>AL03160111_0303_102_Nutrients_2018</td>\n      <td>TMDL</td>\n      <td>EPA Final Action</td>\n      <td>2017-12-21</td>\n      <td>AL03160111-0305-102</td>\n      <td>PHOSPHORUS, TOTAL</td>\n      <td>Both</td>\n      <td>NaN</td>\n      <td>NaN</td>\n      <td>NaN</td>\n      <td>2018-01-22</td>\n      <td>AL03160111-0305-102</td>\n      <td>031601110305</td>\n      <td>AL0075094003</td>\n      <td>AL0075094</td>\n    </tr>\n    <tr>\n      <th>71</th>\n      <td>21AWIC</td>\n      <td>State</td>\n      <td>AL</td>\n      <td>AL03160111_0303_102_Nutrients_2018</td>\n      <td>TMDL</td>\n      <td>EPA Final Action</td>\n      <td>2017-12-21</td>\n      <td>AL03160111-0305-102</td>\n      <td>PHOSPHORUS, TOTAL</td>\n      <td>Both</td>\n      <td>NaN</td>\n      <td>NaN</td>\n      <td>NaN</td>\n      <td>2018-01-22</td>\n      <td>AL03160111-0305-102</td>\n      <td>031601110305</td>\n      <td>AL0075094004</td>\n      <td>AL0075094</td>\n    </tr>\n    <tr>\n      <th>72</th>\n      <td>21AWIC</td>\n      <td>State</td>\n      <td>AL</td>\n      <td>AL03160111_0303_102_Nutrients_2018</td>\n      <td>TMDL</td>\n      <td>EPA Final Action</td>\n      <td>2017-12-21</td>\n      <td>AL03160111-0305-102</td>\n      <td>PHOSPHORUS, TOTAL</td>\n      <td>Both</td>\n      <td>NaN</td>\n      <td>NaN</td>\n      <td>NaN</td>\n      <td>2018-01-22</td>\n      <td>AL03160111-0305-102</td>\n      <td>031601110305</td>\n      <td>AL0075094005</td>\n      <td>AL0075094</td>\n    </tr>\n    <tr>\n      <th>73</th>\n      <td>21AWIC</td>\n      <td>State</td>\n      <td>AL</td>\n      <td>AL03160111_0303_102_Nutrients_2018</td>\n      <td>TMDL</td>\n      <td>EPA Final Action</td>\n      <td>2017-12-21</td>\n      <td>AL03160111-0305-102</td>\n      <td>PHOSPHORUS, TOTAL</td>\n      <td>Both</td>\n      <td>NaN</td>\n      <td>NaN</td>\n      <td>NaN</td>\n      <td>2018-01-22</td>\n      <td>AL03160111-0305-102</td>\n      <td>031601110305</td>\n      <td>AL0075094006</td>\n      <td>AL0075094</td>\n    </tr>\n    <tr>\n      <th>74</th>\n      <td>21AWIC</td>\n      <td>State</td>\n      <td>AL</td>\n      <td>AL03160111_0303_102_Nutrients_2018</td>\n      <td>TMDL</td>\n      <td>EPA Final Action</td>\n      <td>2017-12-21</td>\n      <td>AL03160111-0305-102</td>\n      <td>PHOSPHORUS, TOTAL</td>\n      <td>Both</td>\n      <td>NaN</td>\n      <td>NaN</td>\n      <td>NaN</td>\n      <td>2018-01-22</td>\n      <td>AL03160111-0305-102</td>\n      <td>031601110305</td>\n      <td>AL0075094007</td>\n      <td>AL0075094</td>\n    </tr>\n    <tr>\n      <th>75</th>\n      <td>21AWIC</td>\n      <td>State</td>\n      <td>AL</td>\n      <td>AL03160111_0303_102_Nutrients_2018</td>\n      <td>TMDL</td>\n      <td>EPA Final Action</td>\n      <td>2017-12-21</td>\n      <td>AL03160111-0305-102</td>\n      <td>PHOSPHORUS, TOTAL</td>\n      <td>Both</td>\n      <td>NaN</td>\n      <td>NaN</td>\n      <td>NaN</td>\n      <td>2018-01-22</td>\n      <td>AL03160111-0305-102</td>\n      <td>031601110305</td>\n      <td>AL0075094008</td>\n      <td>AL0075094</td>\n    </tr>\n    <tr>\n      <th>76</th>\n      <td>21AWIC</td>\n      <td>State</td>\n      <td>AL</td>\n      <td>AL03160111_0303_102_Nutrients_2018</td>\n      <td>TMDL</td>\n      <td>EPA Final Action</td>\n      <td>2017-12-21</td>\n      <td>AL03160111-0305-102</td>\n      <td>PHOSPHORUS, TOTAL</td>\n      <td>Both</td>\n      <td>NaN</td>\n      <td>NaN</td>\n      <td>NaN</td>\n      <td>2018-01-22</td>\n      <td>AL03160111-0305-102</td>\n      <td>031601110305</td>\n      <td>AL0075094009</td>\n      <td>AL0075094</td>\n    </tr>\n    <tr>\n      <th>77</th>\n      <td>21AWIC</td>\n      <td>State</td>\n      <td>AL</td>\n      <td>AL03160111_0303_102_Nutrients_2018</td>\n      <td>TMDL</td>\n      <td>EPA Final Action</td>\n      <td>2017-12-21</td>\n      <td>AL03160111-0305-102</td>\n      <td>PHOSPHORUS, TOTAL</td>\n      <td>Both</td>\n      <td>NaN</td>\n      <td>NaN</td>\n      <td>NaN</td>\n      <td>2018-01-22</td>\n      <td>AL03160111-0305-102</td>\n      <td>031601110305</td>\n      <td>AL0075094010</td>\n      <td>AL0075094</td>\n    </tr>\n    <tr>\n      <th>78</th>\n      <td>21AWIC</td>\n      <td>State</td>\n      <td>AL</td>\n      <td>AL03160111_0303_102_Nutrients_2018</td>\n      <td>TMDL</td>\n      <td>EPA Final Action</td>\n      <td>2017-12-21</td>\n      <td>AL03160111-0305-102</td>\n      <td>PHOSPHORUS, TOTAL</td>\n      <td>Both</td>\n      <td>NaN</td>\n      <td>NaN</td>\n      <td>NaN</td>\n      <td>2018-01-22</td>\n      <td>AL03160111-0305-102</td>\n      <td>031601110305</td>\n      <td>AL0075094011</td>\n      <td>AL0075094</td>\n    </tr>\n    <tr>\n      <th>79</th>\n      <td>21AWIC</td>\n      <td>State</td>\n      <td>AL</td>\n      <td>AL03160111_0303_102_Nutrients_2018</td>\n      <td>TMDL</td>\n      <td>EPA Final Action</td>\n      <td>2017-12-21</td>\n      <td>AL03160111-0305-102</td>\n      <td>PHOSPHORUS, TOTAL</td>\n      <td>Both</td>\n      <td>NaN</td>\n      <td>NaN</td>\n      <td>NaN</td>\n      <td>2018-01-22</td>\n      <td>AL03160111-0305-102</td>\n      <td>031601110305</td>\n      <td>AL0075094012</td>\n      <td>AL0075094</td>\n    </tr>\n    <tr>\n      <th>80</th>\n      <td>21AWIC</td>\n      <td>State</td>\n      <td>AL</td>\n      <td>AL03160111_0303_102_Nutrients_2018</td>\n      <td>TMDL</td>\n      <td>EPA Final Action</td>\n      <td>2017-12-21</td>\n      <td>AL03160111-0305-102</td>\n      <td>PHOSPHORUS, TOTAL</td>\n      <td>Both</td>\n      <td>NaN</td>\n      <td>NaN</td>\n      <td>NaN</td>\n      <td>2018-01-22</td>\n      <td>AL03160111-0305-102</td>\n      <td>031601110305</td>\n      <td>AL0075094013</td>\n      <td>AL0075094</td>\n    </tr>\n    <tr>\n      <th>81</th>\n      <td>21AWIC</td>\n      <td>State</td>\n      <td>AL</td>\n      <td>AL03160111_0303_102_Nutrients_2018</td>\n      <td>TMDL</td>\n      <td>EPA Final Action</td>\n      <td>2017-12-21</td>\n      <td>AL03160111-0305-102</td>\n      <td>PHOSPHORUS, TOTAL</td>\n      <td>Both</td>\n      <td>NaN</td>\n      <td>NaN</td>\n      <td>NaN</td>\n      <td>2018-01-22</td>\n      <td>AL03160111-0305-102</td>\n      <td>031601110305</td>\n      <td>AL0075094014</td>\n      <td>AL0075094</td>\n    </tr>\n    <tr>\n      <th>82</th>\n      <td>21AWIC</td>\n      <td>State</td>\n      <td>AL</td>\n      <td>AL03160111_0303_102_Nutrients_2018</td>\n      <td>TMDL</td>\n      <td>EPA Final Action</td>\n      <td>2017-12-21</td>\n      <td>AL03160111-0305-102</td>\n      <td>PHOSPHORUS, TOTAL</td>\n      <td>Both</td>\n      <td>NaN</td>\n      <td>NaN</td>\n      <td>NaN</td>\n      <td>2018-01-22</td>\n      <td>AL03160111-0305-102</td>\n      <td>031601110305</td>\n      <td>AL0075094015</td>\n      <td>AL0075094</td>\n    </tr>\n    <tr>\n      <th>83</th>\n      <td>21AWIC</td>\n      <td>State</td>\n      <td>AL</td>\n      <td>AL03160111_0303_102_Nutrients_2018</td>\n      <td>TMDL</td>\n      <td>EPA Final Action</td>\n      <td>2017-12-21</td>\n      <td>AL03160111-0305-102</td>\n      <td>PHOSPHORUS, TOTAL</td>\n      <td>Both</td>\n      <td>NaN</td>\n      <td>NaN</td>\n      <td>NaN</td>\n      <td>2018-01-22</td>\n      <td>AL03160111-0305-102</td>\n      <td>031601110305</td>\n      <td>AL0075094016</td>\n      <td>AL0075094</td>\n    </tr>\n    <tr>\n      <th>84</th>\n      <td>21AWIC</td>\n      <td>State</td>\n      <td>AL</td>\n      <td>AL03160111_0303_102_Nutrients_2018</td>\n      <td>TMDL</td>\n      <td>EPA Final Action</td>\n      <td>2017-12-21</td>\n      <td>AL03160111-0305-102</td>\n      <td>PHOSPHORUS, TOTAL</td>\n      <td>Both</td>\n      <td>NaN</td>\n      <td>NaN</td>\n      <td>NaN</td>\n      <td>2018-01-22</td>\n      <td>AL03160111-0305-102</td>\n      <td>031601110305</td>\n      <td>AL0075442005</td>\n      <td>AL0075442</td>\n    </tr>\n    <tr>\n      <th>85</th>\n      <td>21AWIC</td>\n      <td>State</td>\n      <td>AL</td>\n      <td>AL03160111_0303_102_Nutrients_2018</td>\n      <td>TMDL</td>\n      <td>EPA Final Action</td>\n      <td>2017-12-21</td>\n      <td>AL03160111-0305-102</td>\n      <td>PHOSPHORUS, TOTAL</td>\n      <td>Both</td>\n      <td>NaN</td>\n      <td>NaN</td>\n      <td>NaN</td>\n      <td>2018-01-22</td>\n      <td>AL03160111-0305-102</td>\n      <td>031601110305</td>\n      <td>AL0075442006</td>\n      <td>AL0075442</td>\n    </tr>\n    <tr>\n      <th>86</th>\n      <td>21AWIC</td>\n      <td>State</td>\n      <td>AL</td>\n      <td>AL03160111_0303_102_Nutrients_2018</td>\n      <td>TMDL</td>\n      <td>EPA Final Action</td>\n      <td>2017-12-21</td>\n      <td>AL03160111-0305-102</td>\n      <td>PHOSPHORUS, TOTAL</td>\n      <td>Both</td>\n      <td>NaN</td>\n      <td>NaN</td>\n      <td>NaN</td>\n      <td>2018-01-22</td>\n      <td>AL03160111-0305-102</td>\n      <td>031601110305</td>\n      <td>AL0075442007</td>\n      <td>AL0075442</td>\n    </tr>\n    <tr>\n      <th>87</th>\n      <td>21AWIC</td>\n      <td>State</td>\n      <td>AL</td>\n      <td>AL03160111_0303_102_Nutrients_2018</td>\n      <td>TMDL</td>\n      <td>EPA Final Action</td>\n      <td>2017-12-21</td>\n      <td>AL03160111-0305-102</td>\n      <td>PHOSPHORUS, TOTAL</td>\n      <td>Both</td>\n      <td>NaN</td>\n      <td>NaN</td>\n      <td>NaN</td>\n      <td>2018-01-22</td>\n      <td>AL03160111-0305-102</td>\n      <td>031601110305</td>\n      <td>AL0075442008</td>\n      <td>AL0075442</td>\n    </tr>\n    <tr>\n      <th>88</th>\n      <td>21AWIC</td>\n      <td>State</td>\n      <td>AL</td>\n      <td>AL03160111_0303_102_Nutrients_2018</td>\n      <td>TMDL</td>\n      <td>EPA Final Action</td>\n      <td>2017-12-21</td>\n      <td>AL03160111-0305-102</td>\n      <td>PHOSPHORUS, TOTAL</td>\n      <td>Both</td>\n      <td>NaN</td>\n      <td>NaN</td>\n      <td>NaN</td>\n      <td>2018-01-22</td>\n      <td>AL03160111-0305-102</td>\n      <td>031601110305</td>\n      <td>AL0075442009</td>\n      <td>AL0075442</td>\n    </tr>\n    <tr>\n      <th>89</th>\n      <td>21AWIC</td>\n      <td>State</td>\n      <td>AL</td>\n      <td>AL03160111_0303_102_Nutrients_2018</td>\n      <td>TMDL</td>\n      <td>EPA Final Action</td>\n      <td>2017-12-21</td>\n      <td>AL03160111-0305-102</td>\n      <td>PHOSPHORUS, TOTAL</td>\n      <td>Both</td>\n      <td>NaN</td>\n      <td>NaN</td>\n      <td>NaN</td>\n      <td>2018-01-22</td>\n      <td>AL03160111-0305-102</td>\n      <td>031601110305</td>\n      <td>AL0075442010</td>\n      <td>AL0075442</td>\n    </tr>\n    <tr>\n      <th>90</th>\n      <td>21AWIC</td>\n      <td>State</td>\n      <td>AL</td>\n      <td>AL03160111_0303_102_Nutrients_2018</td>\n      <td>TMDL</td>\n      <td>EPA Final Action</td>\n      <td>2017-12-21</td>\n      <td>AL03160111-0305-102</td>\n      <td>PHOSPHORUS, TOTAL</td>\n      <td>Both</td>\n      <td>NaN</td>\n      <td>NaN</td>\n      <td>NaN</td>\n      <td>2018-01-22</td>\n      <td>AL03160111-0305-102</td>\n      <td>031601110305</td>\n      <td>AL0075442011</td>\n      <td>AL0075442</td>\n    </tr>\n    <tr>\n      <th>91</th>\n      <td>21AWIC</td>\n      <td>State</td>\n      <td>AL</td>\n      <td>AL03160111_0303_102_Nutrients_2018</td>\n      <td>TMDL</td>\n      <td>EPA Final Action</td>\n      <td>2017-12-21</td>\n      <td>AL03160111-0305-102</td>\n      <td>PHOSPHORUS, TOTAL</td>\n      <td>Both</td>\n      <td>NaN</td>\n      <td>NaN</td>\n      <td>NaN</td>\n      <td>2018-01-22</td>\n      <td>AL03160111-0305-102</td>\n      <td>031601110305</td>\n      <td>AL0075442012</td>\n      <td>AL0075442</td>\n    </tr>\n    <tr>\n      <th>92</th>\n      <td>21AWIC</td>\n      <td>State</td>\n      <td>AL</td>\n      <td>AL03160111_0303_102_Nutrients_2018</td>\n      <td>TMDL</td>\n      <td>EPA Final Action</td>\n      <td>2017-12-21</td>\n      <td>AL03160111-0305-102</td>\n      <td>PHOSPHORUS, TOTAL</td>\n      <td>Both</td>\n      <td>NaN</td>\n      <td>NaN</td>\n      <td>NaN</td>\n      <td>2018-01-22</td>\n      <td>AL03160111-0305-102</td>\n      <td>031601110305</td>\n      <td>AL0075442013</td>\n      <td>AL0075442</td>\n    </tr>\n    <tr>\n      <th>93</th>\n      <td>21AWIC</td>\n      <td>State</td>\n      <td>AL</td>\n      <td>AL03160111_0303_102_Nutrients_2018</td>\n      <td>TMDL</td>\n      <td>EPA Final Action</td>\n      <td>2017-12-21</td>\n      <td>AL03160111-0305-102</td>\n      <td>PHOSPHORUS, TOTAL</td>\n      <td>Both</td>\n      <td>NaN</td>\n      <td>NaN</td>\n      <td>NaN</td>\n      <td>2018-01-22</td>\n      <td>AL03160111-0305-102</td>\n      <td>031601110305</td>\n      <td>AL0075442014</td>\n      <td>AL0075442</td>\n    </tr>\n    <tr>\n      <th>94</th>\n      <td>21AWIC</td>\n      <td>State</td>\n      <td>AL</td>\n      <td>AL03160111_0303_102_Nutrients_2018</td>\n      <td>TMDL</td>\n      <td>EPA Final Action</td>\n      <td>2017-12-21</td>\n      <td>AL03160111-0305-102</td>\n      <td>PHOSPHORUS, TOTAL</td>\n      <td>Both</td>\n      <td>NaN</td>\n      <td>NaN</td>\n      <td>NaN</td>\n      <td>2018-01-22</td>\n      <td>AL03160111-0305-102</td>\n      <td>031601110305</td>\n      <td>AL0075442015</td>\n      <td>AL0075442</td>\n    </tr>\n    <tr>\n      <th>95</th>\n      <td>21AWIC</td>\n      <td>State</td>\n      <td>AL</td>\n      <td>AL03160111_0303_102_Nutrients_2018</td>\n      <td>TMDL</td>\n      <td>EPA Final Action</td>\n      <td>2017-12-21</td>\n      <td>AL03160111-0305-102</td>\n      <td>PHOSPHORUS, TOTAL</td>\n      <td>Both</td>\n      <td>NaN</td>\n      <td>NaN</td>\n      <td>NaN</td>\n      <td>2018-01-22</td>\n      <td>AL03160111-0305-102</td>\n      <td>031601110305</td>\n      <td>AL0079731018</td>\n      <td>AL0079731</td>\n    </tr>\n    <tr>\n      <th>96</th>\n      <td>21AWIC</td>\n      <td>State</td>\n      <td>AL</td>\n      <td>AL03160111_0303_102_Nutrients_2018</td>\n      <td>TMDL</td>\n      <td>EPA Final Action</td>\n      <td>2017-12-21</td>\n      <td>AL03160111-0305-102</td>\n      <td>PHOSPHORUS, TOTAL</td>\n      <td>Both</td>\n      <td>NaN</td>\n      <td>NaN</td>\n      <td>NaN</td>\n      <td>2018-01-22</td>\n      <td>AL03160111-0305-102</td>\n      <td>031601110305</td>\n      <td>AL0079731019</td>\n      <td>AL0079731</td>\n    </tr>\n    <tr>\n      <th>97</th>\n      <td>21AWIC</td>\n      <td>State</td>\n      <td>AL</td>\n      <td>AL03160111_0303_102_Nutrients_2018</td>\n      <td>TMDL</td>\n      <td>EPA Final Action</td>\n      <td>2017-12-21</td>\n      <td>AL03160111-0305-102</td>\n      <td>PHOSPHORUS, TOTAL</td>\n      <td>Both</td>\n      <td>NaN</td>\n      <td>NaN</td>\n      <td>NaN</td>\n      <td>2018-01-22</td>\n      <td>AL03160111-0305-102</td>\n      <td>031601110305</td>\n      <td>AL0079103</td>\n      <td>AL0079103</td>\n    </tr>\n    <tr>\n      <th>98</th>\n      <td>21AWIC</td>\n      <td>State</td>\n      <td>AL</td>\n      <td>AL03160111_0303_102_Nutrients_2018</td>\n      <td>TMDL</td>\n      <td>EPA Final Action</td>\n      <td>2017-12-21</td>\n      <td>AL03160111-0305-102</td>\n      <td>PHOSPHORUS, TOTAL</td>\n      <td>Both</td>\n      <td>NaN</td>\n      <td>NaN</td>\n      <td>NaN</td>\n      <td>2018-01-22</td>\n      <td>AL03160111-0305-102</td>\n      <td>031601110305</td>\n      <td>AL0079731020</td>\n      <td>AL0079731</td>\n    </tr>\n    <tr>\n      <th>99</th>\n      <td>21AWIC</td>\n      <td>State</td>\n      <td>AL</td>\n      <td>AL03160111_0303_102_Nutrients_2018</td>\n      <td>TMDL</td>\n      <td>EPA Final Action</td>\n      <td>2017-12-21</td>\n      <td>AL03160111-0305-102</td>\n      <td>PHOSPHORUS, TOTAL</td>\n      <td>Both</td>\n      <td>NaN</td>\n      <td>NaN</td>\n      <td>NaN</td>\n      <td>2018-01-22</td>\n      <td>AL03160111-0305-102</td>\n      <td>031601110305</td>\n      <td>AL0079731021</td>\n      <td>AL0079731</td>\n    </tr>\n  </tbody>\n</table>\n</div>"
     },
     "execution_count": 109,
     "metadata": {},
     "output_type": "execute_result"
    }
   ],
   "source": [
    "actions_current_AUs = actions_current_AUs.merge(HUC_npdes_permit_links, on='HUC-12', how='inner')\n",
    "actions_current_AUs.head(100)"
   ],
   "metadata": {
    "collapsed": false,
    "pycharm": {
     "name": "#%%\n"
    }
   }
  },
  {
   "cell_type": "code",
   "execution_count": 111,
   "outputs": [
    {
     "data": {
      "text/plain": "6243"
     },
     "execution_count": 111,
     "metadata": {},
     "output_type": "execute_result"
    }
   ],
   "source": [
    "len(actions_current_AUs.drop_duplicates(subset='actionIdentifier'))"
   ],
   "metadata": {
    "collapsed": false,
    "pycharm": {
     "name": "#%%\n"
    }
   }
  },
  {
   "cell_type": "code",
   "execution_count": 112,
   "outputs": [
    {
     "data": {
      "text/plain": "18449"
     },
     "execution_count": 112,
     "metadata": {},
     "output_type": "execute_result"
    }
   ],
   "source": [
    "len(actions_current_AUs.drop_duplicates(subset='AUID'))"
   ],
   "metadata": {
    "collapsed": false,
    "pycharm": {
     "name": "#%%\n"
    }
   }
  },
  {
   "cell_type": "code",
   "execution_count": 113,
   "outputs": [
    {
     "data": {
      "text/plain": "246136"
     },
     "execution_count": 113,
     "metadata": {},
     "output_type": "execute_result"
    }
   ],
   "source": [
    "len(actions_current_AUs.drop_duplicates(subset='npdes_permit_id'))"
   ],
   "metadata": {
    "collapsed": false,
    "pycharm": {
     "name": "#%%\n"
    }
   }
  },
  {
   "cell_type": "markdown",
   "source": [
    "# 5. Putting it all together"
   ],
   "metadata": {
    "collapsed": false,
    "pycharm": {
     "name": "#%% md\n"
    }
   }
  },
  {
   "cell_type": "markdown",
   "source": [
    "###"
   ],
   "metadata": {
    "collapsed": false,
    "pycharm": {
     "name": "#%% md\n"
    }
   }
  },
  {
   "cell_type": "code",
   "execution_count": 132,
   "outputs": [
    {
     "data": {
      "text/plain": "  organizationIdentifier organizationTypeText state_code actionIdentifier  \\\n0                 21AWIC                State         AL            39070   \n1                 21AWIC                State         AL            39070   \n2                 21AWIC                State         AL            39070   \n3                 21AWIC                State         AL            39070   \n4                 21AWIC                State         AL            39070   \n\n  actionTypeCode  actionStatusCode completionDate assessmentUnitIdentifier  \\\n0           TMDL  EPA Final Action     2010-09-21      AL03140107-0205-102   \n1           TMDL  EPA Final Action     2010-09-21      AL03140107-0205-102   \n2           TMDL  EPA Final Action     2010-09-21      AL03140107-0205-102   \n3           TMDL  EPA Final Action     2010-09-21      AL03140107-0205-102   \n4           TMDL  EPA Final Action     2010-09-21      AL03140107-0205-102   \n\n           pollutantName pollutantSourceTypeCode explicitMarginofSafetyText  \\\n0  ENTEROCOCCUS BACTERIA         Nonpoint source                        NaN   \n1  ENTEROCOCCUS BACTERIA         Nonpoint source                        NaN   \n2  ENTEROCOCCUS BACTERIA         Nonpoint source                        NaN   \n3  ENTEROCOCCUS BACTERIA         Nonpoint source                        NaN   \n4  ENTEROCOCCUS BACTERIA         Nonpoint source                        NaN   \n\n  implicitMarginofSafetyText  \\\n0                          N   \n1                          N   \n2                          N   \n3                          N   \n4                          N   \n\n                                    TMDLEndPointText   TMDLDate  \\\n0  IN COASTAL WATERS, BACTERIA OF THE ENTEROCOCCI... 2010-09-21   \n1  IN COASTAL WATERS, BACTERIA OF THE ENTEROCOCCI... 2010-09-21   \n2  IN COASTAL WATERS, BACTERIA OF THE ENTEROCOCCI... 2010-09-21   \n3  IN COASTAL WATERS, BACTERIA OF THE ENTEROCOCCI... 2010-09-21   \n4  IN COASTAL WATERS, BACTERIA OF THE ENTEROCOCCI... 2010-09-21   \n\n                  AUID        HUC-12 attributes.SOURCE_FEATUREID  \\\n0  AL03140107-0205-102  031401070205                   ALR107777   \n1  AL03140107-0205-102  031401070205                   ALR10AAY0   \n2  AL03140107-0205-102  031401070205                   ALR10AM01   \n3  AL03140107-0205-102  031401070205                   ALR10AA85   \n4  AL03140107-0205-102  031401070205                   ALR10AN53   \n\n  npdes_permit_id  \n0       ALR107777  \n1       ALR10AAY0  \n2       ALR10AM01  \n3       ALR10AA85  \n4       ALR10AN53  ",
      "text/html": "<div>\n<style scoped>\n    .dataframe tbody tr th:only-of-type {\n        vertical-align: middle;\n    }\n\n    .dataframe tbody tr th {\n        vertical-align: top;\n    }\n\n    .dataframe thead th {\n        text-align: right;\n    }\n</style>\n<table border=\"1\" class=\"dataframe\">\n  <thead>\n    <tr style=\"text-align: right;\">\n      <th></th>\n      <th>organizationIdentifier</th>\n      <th>organizationTypeText</th>\n      <th>state_code</th>\n      <th>actionIdentifier</th>\n      <th>actionTypeCode</th>\n      <th>actionStatusCode</th>\n      <th>completionDate</th>\n      <th>assessmentUnitIdentifier</th>\n      <th>pollutantName</th>\n      <th>pollutantSourceTypeCode</th>\n      <th>explicitMarginofSafetyText</th>\n      <th>implicitMarginofSafetyText</th>\n      <th>TMDLEndPointText</th>\n      <th>TMDLDate</th>\n      <th>AUID</th>\n      <th>HUC-12</th>\n      <th>attributes.SOURCE_FEATUREID</th>\n      <th>npdes_permit_id</th>\n    </tr>\n  </thead>\n  <tbody>\n    <tr>\n      <th>0</th>\n      <td>21AWIC</td>\n      <td>State</td>\n      <td>AL</td>\n      <td>39070</td>\n      <td>TMDL</td>\n      <td>EPA Final Action</td>\n      <td>2010-09-21</td>\n      <td>AL03140107-0205-102</td>\n      <td>ENTEROCOCCUS BACTERIA</td>\n      <td>Nonpoint source</td>\n      <td>NaN</td>\n      <td>N</td>\n      <td>IN COASTAL WATERS, BACTERIA OF THE ENTEROCOCCI...</td>\n      <td>2010-09-21</td>\n      <td>AL03140107-0205-102</td>\n      <td>031401070205</td>\n      <td>ALR107777</td>\n      <td>ALR107777</td>\n    </tr>\n    <tr>\n      <th>1</th>\n      <td>21AWIC</td>\n      <td>State</td>\n      <td>AL</td>\n      <td>39070</td>\n      <td>TMDL</td>\n      <td>EPA Final Action</td>\n      <td>2010-09-21</td>\n      <td>AL03140107-0205-102</td>\n      <td>ENTEROCOCCUS BACTERIA</td>\n      <td>Nonpoint source</td>\n      <td>NaN</td>\n      <td>N</td>\n      <td>IN COASTAL WATERS, BACTERIA OF THE ENTEROCOCCI...</td>\n      <td>2010-09-21</td>\n      <td>AL03140107-0205-102</td>\n      <td>031401070205</td>\n      <td>ALR10AAY0</td>\n      <td>ALR10AAY0</td>\n    </tr>\n    <tr>\n      <th>2</th>\n      <td>21AWIC</td>\n      <td>State</td>\n      <td>AL</td>\n      <td>39070</td>\n      <td>TMDL</td>\n      <td>EPA Final Action</td>\n      <td>2010-09-21</td>\n      <td>AL03140107-0205-102</td>\n      <td>ENTEROCOCCUS BACTERIA</td>\n      <td>Nonpoint source</td>\n      <td>NaN</td>\n      <td>N</td>\n      <td>IN COASTAL WATERS, BACTERIA OF THE ENTEROCOCCI...</td>\n      <td>2010-09-21</td>\n      <td>AL03140107-0205-102</td>\n      <td>031401070205</td>\n      <td>ALR10AM01</td>\n      <td>ALR10AM01</td>\n    </tr>\n    <tr>\n      <th>3</th>\n      <td>21AWIC</td>\n      <td>State</td>\n      <td>AL</td>\n      <td>39070</td>\n      <td>TMDL</td>\n      <td>EPA Final Action</td>\n      <td>2010-09-21</td>\n      <td>AL03140107-0205-102</td>\n      <td>ENTEROCOCCUS BACTERIA</td>\n      <td>Nonpoint source</td>\n      <td>NaN</td>\n      <td>N</td>\n      <td>IN COASTAL WATERS, BACTERIA OF THE ENTEROCOCCI...</td>\n      <td>2010-09-21</td>\n      <td>AL03140107-0205-102</td>\n      <td>031401070205</td>\n      <td>ALR10AA85</td>\n      <td>ALR10AA85</td>\n    </tr>\n    <tr>\n      <th>4</th>\n      <td>21AWIC</td>\n      <td>State</td>\n      <td>AL</td>\n      <td>39070</td>\n      <td>TMDL</td>\n      <td>EPA Final Action</td>\n      <td>2010-09-21</td>\n      <td>AL03140107-0205-102</td>\n      <td>ENTEROCOCCUS BACTERIA</td>\n      <td>Nonpoint source</td>\n      <td>NaN</td>\n      <td>N</td>\n      <td>IN COASTAL WATERS, BACTERIA OF THE ENTEROCOCCI...</td>\n      <td>2010-09-21</td>\n      <td>AL03140107-0205-102</td>\n      <td>031401070205</td>\n      <td>ALR10AN53</td>\n      <td>ALR10AN53</td>\n    </tr>\n  </tbody>\n</table>\n</div>"
     },
     "execution_count": 132,
     "metadata": {},
     "output_type": "execute_result"
    }
   ],
   "source": [
    "actions_current_AUs.head()"
   ],
   "metadata": {
    "collapsed": false,
    "pycharm": {
     "name": "#%%\n"
    }
   }
  },
  {
   "cell_type": "code",
   "execution_count": 131,
   "outputs": [
    {
     "data": {
      "text/plain": "    organizationIdentifier organizationTypeText state_code  \\\n0                   21AWIC                State         AL   \n2                   21AWIC                State         AL   \n4                   21AWIC                State         AL   \n6                   21AWIC                State         AL   \n8                   21AWIC                State         AL   \n9                   21AWIC                State         AL   \n15                  21AWIC                State         AL   \n17                  21AWIC                State         AL   \n18                  21AWIC                State         AL   \n19                  21AWIC                State         AL   \n20                  21AWIC                State         AL   \n21                  21AWIC                State         AL   \n22                  21AWIC                State         AL   \n25                  21AWIC                State         AL   \n27                  21AWIC                State         AL   \n30                  21AWIC                State         AL   \n31                  21AWIC                State         AL   \n32                  21AWIC                State         AL   \n34                  21AWIC                State         AL   \n36                  21AWIC                State         AL   \n38                  21AWIC                State         AL   \n40                  21AWIC                State         AL   \n42                  21AWIC                State         AL   \n44                  21AWIC                State         AL   \n46                  21AWIC                State         AL   \n48                  21AWIC                State         AL   \n52                  21AWIC                State         AL   \n54                  21AWIC                State         AL   \n55                  21AWIC                State         AL   \n57                  21AWIC                State         AL   \n60                  21AWIC                State         AL   \n62                  21AWIC                State         AL   \n65                  21AWIC                State         AL   \n67                  21AWIC                State         AL   \n68                  21AWIC                State         AL   \n70                  21AWIC                State         AL   \n72                  21AWIC                State         AL   \n78                  21AWIC                State         AL   \n84                  21AWIC                State         AL   \n105                 21AWIC                State         AL   \n161                 21AWIC                State         AL   \n164                 21AWIC                State         AL   \n182                 21AWIC                State         AL   \n186                 21AWIC                State         AL   \n189                 21AWIC                State         AL   \n193                 21AWIC                State         AL   \n195                 21AWIC                State         AL   \n197                 21AWIC                State         AL   \n200                 21AWIC                State         AL   \n215                 21AWIC                State         AL   \n227                 21AWIC                State         AL   \n242                 21AWIC                State         AL   \n243                 21AWIC                State         AL   \n244                 21AWIC                State         AL   \n246                 21AWIC                State         AL   \n249                 21AWIC                State         AL   \n250                 21AWIC                State         AL   \n254                 21AWIC                State         AL   \n255                 21AWIC                State         AL   \n268                 21AWIC                State         AL   \n277                 21AWIC                State         AL   \n279                 21AWIC                State         AL   \n282                 21AWIC                State         AL   \n283                 21AWIC                State         AL   \n284                 21AWIC                State         AL   \n288                 21AWIC                State         AL   \n291                 21AWIC                State         AL   \n297                 21AWIC                State         AL   \n299                 21AWIC                State         AL   \n305                 21AWIC                State         AL   \n455                 21AWIC                State         AL   \n461                 21AWIC                State         AL   \n465                 21AWIC                State         AL   \n471                 21AWIC                State         AL   \n477                 21AWIC                State         AL   \n479                 21AWIC                State         AL   \n485                 21AWIC                State         AL   \n487                 21AWIC                State         AL   \n490                 21AWIC                State         AL   \n502                 21AWIC                State         AL   \n505                 21AWIC                State         AL   \n507                 21AWIC                State         AL   \n513                 21AWIC                State         AL   \n514                 21AWIC                State         AL   \n525                 21AWIC                State         AL   \n528                 21AWIC                State         AL   \n540                 21AWIC                State         AL   \n546                 21AWIC                State         AL   \n552                 21AWIC                State         AL   \n555                 21AWIC                State         AL   \n556                 21AWIC                State         AL   \n559                 21AWIC                State         AL   \n562                 21AWIC                State         AL   \n564                 21AWIC                State         AL   \n566                 21AWIC                State         AL   \n568                 21AWIC                State         AL   \n570                 21AWIC                State         AL   \n582                 21AWIC                State         AL   \n584                 21AWIC                State         AL   \n590                 21AWIC                State         AL   \n593                 21AWIC                State         AL   \n605                 21AWIC                State         AL   \n607                 21AWIC                State         AL   \n613                 21AWIC                State         AL   \n619                 21AWIC                State         AL   \n627                 21AWIC                State         AL   \n633                 21AWIC                State         AL   \n645                 21AWIC                State         AL   \n647                 21AWIC                State         AL   \n649                 21AWIC                State         AL   \n651                 21AWIC                State         AL   \n655                 21AWIC                State         AL   \n657                 21AWIC                State         AL   \n659                 21AWIC                State         AL   \n671                 21AWIC                State         AL   \n674                 21AWIC                State         AL   \n676                 21AWIC                State         AL   \n679                 21AWIC                State         AL   \n681                 21AWIC                State         AL   \n685                 21AWIC                State         AL   \n695                 21AWIC                State         AL   \n696                 21AWIC                State         AL   \n699                 21AWIC                State         AL   \n702                 21AWIC                State         AL   \n703                 21AWIC                State         AL   \n707                 21AWIC                State         AL   \n708                 21AWIC                State         AL   \n746                 21AWIC                State         AL   \n747                 21AWIC                State         AL   \n754                 21AWIC                State         AL   \n762                 21AWIC                State         AL   \n805                 21AWIC                State         AL   \n\n                       actionIdentifier actionTypeCode  actionStatusCode  \\\n0                                 36562           TMDL  EPA Final Action   \n2                                 36561           TMDL  EPA Final Action   \n4                                 36556           TMDL  EPA Final Action   \n6                                 36559           TMDL  EPA Final Action   \n8                                 39070           TMDL  EPA Final Action   \n9    AL03160111_0303_102_Nutrients_2018           TMDL  EPA Final Action   \n15                                39067           TMDL  EPA Final Action   \n17                                39066           TMDL  EPA Final Action   \n18                                39068           TMDL  EPA Final Action   \n19   AL03150203-0103-200_Pathogens_2019           TMDL  EPA Final Action   \n20   AL03160110-0401-100_Pathogens_2021           TMDL  EPA Final Action   \n21                                39091           TMDL  EPA Final Action   \n22                       2021AL03140201           TMDL  EPA Final Action   \n25                                42664           TMDL  EPA Final Action   \n27   AL03160105-0204-102_Pathogens_2021           TMDL  EPA Final Action   \n30   AL03150201-0104-302_Pathogens_2019           TMDL  EPA Final Action   \n31                        2021al3130003           TMDL  EPA Final Action   \n32                                36540           TMDL  EPA Final Action   \n34                                34135           TMDL  EPA Final Action   \n36                                34136           TMDL  EPA Final Action   \n38                                34137           TMDL  EPA Final Action   \n40                                31647           TMDL  EPA Final Action   \n42                                36531           TMDL  EPA Final Action   \n44                                31646           TMDL  EPA Final Action   \n46                                34138           TMDL  EPA Final Action   \n48                                31645           TMDL  EPA Final Action   \n52                                31644           TMDL  EPA Final Action   \n54                                31643           TMDL  EPA Final Action   \n55                                36543           TMDL  EPA Final Action   \n57                                36542           TMDL  EPA Final Action   \n60                                36541           TMDL  EPA Final Action   \n62                                36545           TMDL  EPA Final Action   \n65                                36544           TMDL  EPA Final Action   \n67                                36547           TMDL  EPA Final Action   \n68                                36546           TMDL  EPA Final Action   \n70                                36548           TMDL  EPA Final Action   \n72                                 1622           TMDL  EPA Final Action   \n78                                 1612           TMDL  EPA Final Action   \n84                                11566           TMDL  EPA Final Action   \n105                               11567           TMDL  EPA Final Action   \n161                               31854           TMDL  EPA Final Action   \n164                               11550           TMDL  EPA Final Action   \n182                               11551           TMDL  EPA Final Action   \n186                               11556           TMDL  EPA Final Action   \n189                               11557           TMDL  EPA Final Action   \n193                               11554           TMDL  EPA Final Action   \n195                               11555           TMDL  EPA Final Action   \n197                               11548           TMDL  EPA Final Action   \n200                               11549           TMDL  EPA Final Action   \n215                               11545           TMDL  EPA Final Action   \n227                               11547           TMDL  EPA Final Action   \n242         AL03160111-0307-400_pH_2019           TMDL  EPA Final Action   \n243  AL03150201-1006-101_Pathogens_2021           TMDL  EPA Final Action   \n244                               11348           TMDL  EPA Final Action   \n246                               42718           TMDL  EPA Final Action   \n249                               42717           TMDL  EPA Final Action   \n250                               41534           TMDL  EPA Final Action   \n254  AL03160302-0205-100_Pathogens_2020           TMDL  EPA Final Action   \n255                               30895           TMDL  EPA Final Action   \n268                               11314           TMDL  EPA Final Action   \n277                               11315           TMDL  EPA Final Action   \n279                               40206           TMDL  EPA Final Action   \n282                               40207           TMDL  EPA Final Action   \n283                               40208           TMDL  EPA Final Action   \n284                               11313           TMDL  EPA Final Action   \n288                                1442           TMDL  EPA Final Action   \n291                                1449           TMDL  EPA Final Action   \n297                               56201           TMDL  EPA Final Action   \n299                               56200           TMDL  EPA Final Action   \n305                               10789           TMDL  EPA Final Action   \n455                                1420           TMDL  EPA Final Action   \n461                                1550           TMDL  EPA Final Action   \n465                                1683           TMDL  EPA Final Action   \n471                                1693           TMDL  EPA Final Action   \n477                               56222           TMDL  EPA Final Action   \n479                               56220           TMDL  EPA Final Action   \n485                               56223           TMDL  EPA Final Action   \n487                                1437           TMDL  EPA Final Action   \n490                                4030           TMDL  EPA Final Action   \n502                                4031           TMDL  EPA Final Action   \n505                                4032           TMDL  EPA Final Action   \n507                                4033           TMDL  EPA Final Action   \n513                               39505           TMDL  EPA Final Action   \n514                               54160           TMDL  EPA Final Action   \n525                                4022           TMDL  EPA Final Action   \n528                                4023           TMDL  EPA Final Action   \n540                                4024           TMDL  EPA Final Action   \n546                                4025           TMDL  EPA Final Action   \n552                                4026           TMDL  EPA Final Action   \n555                      2021al03140202           TMDL  EPA Final Action   \n556                                4027           TMDL  EPA Final Action   \n559                                4028           TMDL  EPA Final Action   \n562                                4040           TMDL  EPA Final Action   \n564                                4041           TMDL  EPA Final Action   \n566                                4042           TMDL  EPA Final Action   \n568                                4043           TMDL  EPA Final Action   \n570                                4034           TMDL  EPA Final Action   \n582                                4035           TMDL  EPA Final Action   \n584                                4036           TMDL  EPA Final Action   \n590                                4037           TMDL  EPA Final Action   \n593                                4038           TMDL  EPA Final Action   \n605                                4039           TMDL  EPA Final Action   \n607                                4020           TMDL  EPA Final Action   \n613                                4021           TMDL  EPA Final Action   \n619                                4018           TMDL  EPA Final Action   \n627                                4015           TMDL  EPA Final Action   \n633                                4016           TMDL  EPA Final Action   \n645                                4017           TMDL  EPA Final Action   \n647                               33887           TMDL  EPA Final Action   \n649                               40839           TMDL  EPA Final Action   \n651                               40961           TMDL  EPA Final Action   \n655                               40962           TMDL  EPA Final Action   \n657                               40960           TMDL  EPA Final Action   \n659                               11070           TMDL  EPA Final Action   \n671                               11071           TMDL  EPA Final Action   \n674                               67686           TMDL  EPA Final Action   \n676                               11066           TMDL  EPA Final Action   \n679                               11068           TMDL  EPA Final Action   \n681                               10964           TMDL  EPA Final Action   \n685                               66256           TMDL  EPA Final Action   \n695                               66257           TMDL  EPA Final Action   \n696                               11059           TMDL  EPA Final Action   \n699                               40853           TMDL  EPA Final Action   \n702                               64824           TMDL  EPA Final Action   \n703                               64823           TMDL  EPA Final Action   \n707                               11058           TMDL  EPA Final Action   \n708                               11050           TMDL  EPA Final Action   \n746  AL03150107-0405-100_Pathogens_2020           TMDL  EPA Final Action   \n747                               10764           TMDL  EPA Final Action   \n754                                1497           TMDL  EPA Final Action   \n762                               10733           TMDL  EPA Final Action   \n805                               40958           TMDL  EPA Final Action   \n\n    completionDate assessmentUnitIdentifier  \\\n0       2009-09-23      AL03160205-0310-702   \n2       2009-09-23      AL03160205-0202-400   \n4       2009-09-23      AL03150202-0202-401   \n6       2009-09-23      AL03160205-0202-300   \n8       2010-09-21      AL03140107-0205-102   \n9       2017-12-21      AL03160111-0305-102   \n15      2010-09-21      AL03140202-0502-102   \n17      2010-09-21      AL03140201-1001-700   \n18      2010-09-21      AL03140107-0103-100   \n19      2019-08-13      AL03150203-0103-200   \n20      2021-07-26      AL03160110-0401-100   \n21      2010-09-21      AL03160205-0300-201   \n22      2021-07-26      AL03140201-0406-100   \n25      2012-09-27      AL06030002-0105-101   \n27      2021-07-26      AL03160105-0101-102   \n30      2019-08-13      AL03150201-0104-302   \n31      2021-07-26      AL03130003-1204-100   \n32      2009-09-23      AL03150201-0309-100   \n34      2008-09-26      AL03140201-0704-600   \n36      2008-09-26      AL06030002-0603-102   \n38      2008-09-26      AL06030002-0602-102   \n40      2007-01-18      AL06030004-0102-100   \n42      2009-09-23      AL03160204-0504-500   \n44      2007-03-19       AL/06030002-200-01   \n46      2008-09-26      AL06030002-0401-102   \n48      2007-01-18      AL06030002-0304-100   \n52      2007-01-18      AL06030002-0802-201   \n54      2007-01-18       AL/06030002-440-02   \n55      2009-09-23      AL03160203-0601-100   \n57      2009-09-23      AL03170009-0102-100   \n60      2009-09-23      AL03150202-0202-101   \n62      2009-09-23      AL03160204-0504-300   \n65      2009-09-23      AL03170008-0402-700   \n67      2009-09-23      AL03160205-0202-700   \n68      2009-09-23      AL03140201-0502-100   \n70      2009-09-23      AL03160111-0203-100   \n72      1997-08-01       AL/03170008-030-01   \n78      1997-08-01       AL/03150110-030-01   \n84      2005-08-24       AL/03140301-040-01   \n105     2008-10-28      AL03150106-0801-100   \n161     2007-01-18       AL/06030002-270-01   \n164     2007-01-18       AL/03160204-060-01   \n182     2009-03-03       AL/03150107-090-01   \n186     2005-08-24       AL/03150201-080-01   \n189     2008-10-27     AL/ALICEVILLE RES_01   \n193     2006-01-31       AL/03160111-140-03   \n195     2006-01-31       AL/03160109-030-01   \n197     2006-01-31       AL/03150202-030_03   \n200     2008-04-25       AL/03150110-030-01   \n215     2005-08-24       AL/03160111-140-01   \n227     2005-08-24       AL/03160111-140-02   \n242     2019-08-13      AL03160111-0307-400   \n243     2021-07-26      AL03150201-1006-101   \n244     2005-08-24       AL/03150108-250-01   \n246     2012-09-27      AL03140103-0102-700   \n249     2012-09-27      AL06030002-0404-200   \n250     2012-03-15      AL03160109-0105-101   \n254     2020-07-20      AL03160203-0205-100   \n255     2006-10-26      AL03150202-0203-102   \n268     2005-04-12       AL/03160205-020-02   \n277     2005-04-12       AL/03170008-030-01   \n279     2011-05-02      AL03150105-0807-200   \n282     2011-05-02      AL03150201-0404-100   \n283     2011-05-02      AL03160110-0502-102   \n284     2005-04-12       AL/03160205-020-02   \n288     1997-08-01       AL/03160109-050-01   \n291     1997-08-01       AL/03150107-090-01   \n297     2014-01-02      AL03160201-0904-101   \n299     2014-01-02      AL03160204-0504-101   \n305     2003-09-30       AL/06030002-330-05   \n455     1997-08-01       AL/03160204-030-02   \n461     1997-08-01       AL/03150106-050-01   \n465     1997-08-01       AL/06030001-250-02   \n471     1997-08-01       AL/03150107-050-01   \n477     2014-01-02      AL03160205-0204-112   \n479     2014-01-02      AL03150202-0204-101   \n485     2014-01-02      AL03160105-0101-200   \n487     1997-08-01                  AL-0003   \n490     2002-10-31       AL/03160109-020-02   \n502     2002-10-31       AL/06030002-410-01   \n505     2002-10-31       AL/03160110-080-01   \n507     2002-10-31       AL/06030002-400-01   \n513     2010-12-21      AL03160205-0300-101   \n514     2013-08-14      AL03150202-0204-101   \n525     2002-10-31       AL/06030002-070-01   \n528     2002-10-31       AL/03160110-090-01   \n540     2002-10-31       AL/03160109-020-01   \n546     2002-10-31       AL/03160111-050-01   \n552     2002-10-31       AL/06030006-040_02   \n555     2021-07-26      AL03140202-0505-100   \n556     2002-10-31       AL/06030002-250-02   \n559     2002-10-31       AL/06030002-100_01   \n562     2003-01-30       AL/03160109-020-02   \n564     2003-01-30       AL/03160110-080-01   \n566     2003-01-30       AL/03160109-080-01   \n568     2003-10-29       AL/03150202-170-01   \n570     2002-10-31       AL/06030001-270-01   \n582     2002-10-31       AL/06030001-270-01   \n584     2002-10-31       AL/06030002-390-01   \n590     2007-01-28       AL/TALLAPOOSA R_01   \n593     2002-10-31       AL/03160109-080-01   \n605     2003-01-30       AL/03160110-090-01   \n607     2002-10-31       AL/06030002-220-01   \n613     2002-10-31       AL/06030002-190-01   \n619     2002-10-31       AL/06030005-010-01   \n627     2002-10-31       AL/06030002-230-01   \n633     2002-10-31       AL/06030005-010-01   \n645     2002-10-31       AL/06030005-010-01   \n647     2008-02-07      AL03170008-0205-102   \n649     2011-09-16      AL03150110-0603-102   \n651     2011-09-29      AL03150105-0807-102   \n655     2011-09-29      AL03150203-0802-400   \n657     2011-09-29      AL03150203-0802-100   \n659     2004-11-01       AL/03150202-060-01   \n671     2008-10-21     AL/03150105-1001-103   \n674     2017-08-01      AL03150108-0905-103   \n676     2004-12-13       AL/06030002-210-01   \n679     2004-11-01          AL/WEISS RES_01   \n681     2004-10-29       AL/03160204-050-01   \n685     2016-09-16      AL03160109-0404-500   \n695     2016-09-16      AL03140303-0201-101   \n696     2004-12-13       AL/06030002-210_02   \n699     2011-09-29      AL03150202-0103-300   \n702     2015-10-05      AL03160205-0300-501   \n703     2015-10-05      AL03160111-0408-103   \n707     2004-12-13       AL/03170008-090_03   \n708     2004-11-01       AL/03160112-120-03   \n746     2020-07-20      AL03150107-0405-100   \n747     2003-10-29       AL/03150202-060_03   \n754     1997-08-01       AL/03160109-040-01   \n762     2003-10-20       AL/06030002-220-01   \n805     2011-09-29      AL03150110-0202-200   \n\n                               pollutantName pollutantSourceTypeCode  \\\n0                             FECAL COLIFORM         Nonpoint source   \n2                             FECAL COLIFORM                    Both   \n4                             FECAL COLIFORM                    Both   \n6                             FECAL COLIFORM                    Both   \n8                      ENTEROCOCCUS BACTERIA         Nonpoint source   \n9                          PHOSPHORUS, TOTAL                    Both   \n15                                      LEAD                    Both   \n17                ESCHERICHIA COLI (E. COLI)         Nonpoint source   \n18                     ENTEROCOCCUS BACTERIA         Nonpoint source   \n19                ESCHERICHIA COLI (E. COLI)         Nonpoint source   \n20                ESCHERICHIA COLI (E. COLI)         Nonpoint source   \n21                     ENTEROCOCCUS BACTERIA         Nonpoint source   \n22                ESCHERICHIA COLI (E. COLI)                    Both   \n25                ESCHERICHIA COLI (E. COLI)         Nonpoint source   \n27                ESCHERICHIA COLI (E. COLI)         Nonpoint source   \n30                ESCHERICHIA COLI (E. COLI)         Nonpoint source   \n31                ESCHERICHIA COLI (E. COLI)                    Both   \n32                            FECAL COLIFORM                    Both   \n34                            FECAL COLIFORM         Nonpoint source   \n36                            FECAL COLIFORM         Nonpoint source   \n38                            FECAL COLIFORM         Nonpoint source   \n40                            FECAL COLIFORM         Nonpoint source   \n42                            FECAL COLIFORM                    Both   \n44                                 PATHOGENS                    Both   \n46                            FECAL COLIFORM                    Both   \n48                            FECAL COLIFORM         Nonpoint source   \n52                            FECAL COLIFORM         Nonpoint source   \n54                                 PATHOGENS         Nonpoint source   \n55                            FECAL COLIFORM                    Both   \n57                     ENTEROCOCCUS BACTERIA         Nonpoint source   \n60                            FECAL COLIFORM                    Both   \n62                            FECAL COLIFORM            Point source   \n65                            FECAL COLIFORM         Nonpoint source   \n67                            FECAL COLIFORM                    Both   \n68                            FECAL COLIFORM                    Both   \n70                            FECAL COLIFORM                    Both   \n72   ORGANIC ENRICHMENT/LOW DISSOLVED OXYGEN                    Both   \n78                          CARBONACEOUS BOD                    Both   \n84                                  SEDIMENT                    Both   \n105                        PHOSPHORUS, TOTAL                    Both   \n161  ORGANIC ENRICHMENT/LOW DISSOLVED OXYGEN                    Both   \n164  ORGANIC ENRICHMENT/LOW DISSOLVED OXYGEN                    Both   \n182                        PHOSPHORUS, TOTAL                    Both   \n186                          NITROGENOUS BOD                    Both   \n189  ORGANIC ENRICHMENT/LOW DISSOLVED OXYGEN                    Both   \n193                                SILTATION         Nonpoint source   \n195                           FECAL COLIFORM                    Both   \n197                         CARBONACEOUS BOD            Point source   \n200                        PHOSPHORUS, TOTAL                    Both   \n215                                       PH                    Both   \n227                                SILTATION                    Both   \n242                                       PH         Nonpoint source   \n243               ESCHERICHIA COLI (E. COLI)                    Both   \n244                           FECAL COLIFORM                    Both   \n246               ESCHERICHIA COLI (E. COLI)         Nonpoint source   \n249               ESCHERICHIA COLI (E. COLI)         Nonpoint source   \n250                        PHOSPHORUS, TOTAL         Nonpoint source   \n254               ESCHERICHIA COLI (E. COLI)         Nonpoint source   \n255                        PHOSPHORUS, TOTAL                    Both   \n268                         CARBONACEOUS BOD                    Both   \n277                           FECAL COLIFORM                    Both   \n279               ESCHERICHIA COLI (E. COLI)         Nonpoint source   \n282               ESCHERICHIA COLI (E. COLI)                    Both   \n283               ESCHERICHIA COLI (E. COLI)                    Both   \n284                                PATHOGENS                    Both   \n288                                    NH3-N                    Both   \n291                         CARBONACEOUS BOD                    Both   \n297               ESCHERICHIA COLI (E. COLI)                    Both   \n299               ESCHERICHIA COLI (E. COLI)                    Both   \n305  ORGANIC ENRICHMENT/LOW DISSOLVED OXYGEN                    Both   \n455  ORGANIC ENRICHMENT/LOW DISSOLVED OXYGEN                    Both   \n461                                    NH3-N                    Both   \n465  ORGANIC ENRICHMENT/LOW DISSOLVED OXYGEN            Point source   \n471  ORGANIC ENRICHMENT/LOW DISSOLVED OXYGEN            Point source   \n477               ESCHERICHIA COLI (E. COLI)                    Both   \n479               ESCHERICHIA COLI (E. COLI)                    Both   \n485               ESCHERICHIA COLI (E. COLI)                    Both   \n487  ORGANIC ENRICHMENT/LOW DISSOLVED OXYGEN                    Both   \n490                                  AMMONIA         Nonpoint source   \n502                          NITROGENOUS BOD                    Both   \n505                          NITROGENOUS BOD                    Both   \n507  ORGANIC ENRICHMENT/LOW DISSOLVED OXYGEN         Nonpoint source   \n513                    ENTEROCOCCUS BACTERIA                    Both   \n514             TOTAL SUSPENDED SOLIDS (TSS)         Nonpoint source   \n525  ORGANIC ENRICHMENT/LOW DISSOLVED OXYGEN         Nonpoint source   \n528  ORGANIC ENRICHMENT/LOW DISSOLVED OXYGEN                    Both   \n540                         CARBONACEOUS BOD                    Both   \n546                          NITROGENOUS BOD                    Both   \n552                          NITROGENOUS BOD                    Both   \n555               ESCHERICHIA COLI (E. COLI)                    Both   \n556                         CARBONACEOUS BOD                    Both   \n559                         CARBONACEOUS BOD                    Both   \n562                                PATHOGENS         Nonpoint source   \n564                                PATHOGENS                    Both   \n566                                PATHOGENS         Nonpoint source   \n568                                PATHOGENS         Nonpoint source   \n570                                  AMMONIA                    Both   \n582                                PATHOGENS                    Both   \n584                         CARBONACEOUS BOD                    Both   \n590  ORGANIC ENRICHMENT/LOW DISSOLVED OXYGEN                    Both   \n593  ORGANIC ENRICHMENT/LOW DISSOLVED OXYGEN         Nonpoint source   \n605                                PATHOGENS                    Both   \n607                          NITROGENOUS BOD                    Both   \n613  ORGANIC ENRICHMENT/LOW DISSOLVED OXYGEN         Nonpoint source   \n619                               PESTICIDES         Nonpoint source   \n627                         CARBONACEOUS BOD                    Both   \n633  ORGANIC ENRICHMENT/LOW DISSOLVED OXYGEN                    Both   \n645                                PATHOGENS                    Both   \n647                        PHOSPHORUS, TOTAL         Nonpoint source   \n649               ESCHERICHIA COLI (E. COLI)         Nonpoint source   \n651               ESCHERICHIA COLI (E. COLI)         Nonpoint source   \n655               ESCHERICHIA COLI (E. COLI)                    Both   \n657               ESCHERICHIA COLI (E. COLI)         Nonpoint source   \n659              OTHER HABITAT ALTERATION(S)                    Both   \n671                        PHOSPHORUS, TOTAL                    Both   \n674               ESCHERICHIA COLI (E. COLI)         Nonpoint source   \n676                          NITROGENOUS BOD                    Both   \n679                 PRIORITY ORGANICS - PCBS            Point source   \n681                           FECAL COLIFORM                    Both   \n685                                       PH         Nonpoint source   \n695               ESCHERICHIA COLI (E. COLI)                    Both   \n696                          NITROGENOUS BOD                    Both   \n699               ESCHERICHIA COLI (E. COLI)            Point source   \n702                    ENTEROCOCCUS BACTERIA                    Both   \n703               ESCHERICHIA COLI (E. COLI)                    Both   \n707                           FECAL COLIFORM                    Both   \n708                                     IRON                    Both   \n746               ESCHERICHIA COLI (E. COLI)                    Both   \n747                           FECAL COLIFORM                    Both   \n754                                  AMMONIA                    Both   \n762                                SILTATION                    Both   \n805               ESCHERICHIA COLI (E. COLI)                    Both   \n\n    explicitMarginofSafetyText implicitMarginofSafetyText  \\\n0           1320000000 CFU/DAY                          N   \n2           2010000000 CFU/DAY                          N   \n4           7290000000 CFU/DAY                          N   \n6           1660000000 CFU/DAY                          N   \n8                          NaN                          N   \n9                          NaN                        NaN   \n15                         NaN                          Y   \n17                         NaN                          N   \n18                         NaN                          N   \n19                         NaN                        NaN   \n20                         NaN                        NaN   \n21                         NaN                          N   \n22                         NaN                        NaN   \n25                         NaN                        NaN   \n27                         NaN                        NaN   \n30                         NaN                        NaN   \n31                         NaN                        NaN   \n32      11400000000000 CFU/DAY                          N   \n34        119000000000 CFU/DAY                          N   \n36         60800000000 CFU/DAY                          N   \n38        326000000000 CFU/DAY                          N   \n40                         NaN                        NaN   \n42           201000000 CFU/DAY                          N   \n44                         NaN                          N   \n46        245000000000 CFU/DAY                          N   \n48                         NaN                          N   \n52                         NaN                          N   \n54                         NaN                        NaN   \n55           313000000 CFU/DAY                          N   \n57          1040000000 CFU/DAY                          N   \n60          1610000000 CFU/DAY                          N   \n62           362000000 CFU/DAY                          N   \n65          3410000000 CFU/DAY                          N   \n67        837000000000 CFU/DAY                          N   \n68        596000000000 CFU/DAY                          N   \n70          3430000000 CFU/DAY                          N   \n72                         NaN                          Y   \n78                         NaN                          Y   \n84                         NaN                          Y   \n105                        NaN                          Y   \n161                        NaN                          Y   \n164                        NaN                        NaN   \n182                        NaN                        NaN   \n186                        NaN                        NaN   \n189                        NaN                        NaN   \n193                        NaN                        NaN   \n195                        NaN                        NaN   \n197                        NaN                        NaN   \n200                        NaN                        NaN   \n215                        NaN                          Y   \n227                        NaN                        NaN   \n242                        NaN                        NaN   \n243                        NaN                        NaN   \n244                        NaN                        NaN   \n246                        NaN                        NaN   \n249                        NaN                        NaN   \n250                        NaN                        NaN   \n254                        NaN                        NaN   \n255                        NaN                          Y   \n268                        NaN                          Y   \n277                        NaN                          N   \n279          308000000 CFU/DAY                          N   \n282          441000000 CFU/DAY                          N   \n283          774000000 CFU/DAY                          N   \n284                        NaN                        NaN   \n288                        NaN                          Y   \n291                        NaN                          Y   \n297                        NaN                        NaN   \n299                        NaN                        NaN   \n305                        NaN                        NaN   \n455                        NaN                          Y   \n461                        NaN                          Y   \n465                        NaN                          Y   \n471                        NaN                          Y   \n477                        NaN                        NaN   \n479                        NaN                        NaN   \n485                        NaN                        NaN   \n487                        NaN                          Y   \n490                        NaN                          Y   \n502                        NaN                          Y   \n505                        NaN                        NaN   \n507                        NaN                        NaN   \n513                        NaN                        NaN   \n514                        NaN                        NaN   \n525                        NaN                          Y   \n528                        NaN                        NaN   \n540                        NaN                        NaN   \n546                        NaN                          Y   \n552                        NaN                          Y   \n555                        NaN                        NaN   \n556                        NaN                        NaN   \n559                        NaN                        NaN   \n562                        NaN                        NaN   \n564                        NaN                        NaN   \n566                        NaN                        NaN   \n568                        NaN                        NaN   \n570                        NaN                          Y   \n582                        NaN                        NaN   \n584                        NaN                        NaN   \n590                        NaN                        NaN   \n593                        NaN                        NaN   \n605                        NaN                        NaN   \n607                        NaN                        NaN   \n613                        NaN                        NaN   \n619                        NaN                        NaN   \n627                        NaN                        NaN   \n633                        NaN                        NaN   \n645                        NaN                        NaN   \n647                        NaN                          Y   \n649                        NaN                          N   \n651                        NaN                          N   \n655                        NaN                          N   \n657                        NaN                          N   \n659                        NaN                          Y   \n671                        NaN                          Y   \n674                        NaN                        NaN   \n676                        NaN                        NaN   \n679                        NaN                        NaN   \n681                        NaN                        NaN   \n685                        NaN                        NaN   \n695                        NaN                        NaN   \n696                        NaN                        NaN   \n699                        NaN                          N   \n702                       10                          NaN   \n703                23500000000                        NaN   \n707                        NaN                          N   \n708                        NaN                        NaN   \n746                        NaN                        NaN   \n747                        NaN                        NaN   \n754                        NaN                          Y   \n762                        NaN                        NaN   \n805                        NaN                          N   \n\n                                      TMDLEndPointText   TMDLDate  \n0    JUNE-SEPTEMBER: GEOMETRIC MEAN OF 200 COLONIES... 2009-09-23  \n2    JUNE-SEPTEMBER: GEOMETRIC MEAN OF 200 COLONIES... 2009-09-23  \n4    JUNE-SEPTEMBER: GEOMETRIC MEAN OF 200 COLONIES... 2009-09-23  \n6    JUNE-SEPTEMBER: GEOMETRIC MEAN OF 200 COLONIES... 2009-09-23  \n8    IN COASTAL WATERS, BACTERIA OF THE ENTEROCOCCI... 2010-09-21  \n9                                                  NaN 2018-01-22  \n15   DISSOLVED LEAD CONCENTRATION OF 0.789 UG/L, US... 2010-09-21  \n17   JUNE THROUGH SEPTEMBER:  GEOMETRIC MEAN E. COL... 2010-09-21  \n18   IN COASTAL WATERS, BACTERIA OF THE ENTEROCOCCI... 2010-09-21  \n19                                                 NaN 2019-09-09  \n20                                                 NaN 2021-08-23  \n21   IN COASTAL WATERS, BACTERIA OF THE ENTEROCOCCI... 2010-09-21  \n22                                                 NaN 2021-08-23  \n25   NUMERIC STATE CRITERIA.  E. COLI NOT TO EXCEED... 2012-09-27  \n27                                                 NaN 2021-08-23  \n30                                                 NaN 2019-09-09  \n31                                                 NaN 2021-08-23  \n32   JUNE-SEPTEMBER: GEOMETRIC MEAN OF 200 COLONIES... 2009-09-23  \n34   JUNE-SEPTEMBER:  GEOMETRIC MEAN OF 200 COLONIE... 2008-09-26  \n36   JUNE-SEPTEMBER:  GEOMETRIC MEAN OF 200 COLONIE... 2008-09-26  \n38   JUNE-SEPTEMBER:  GEOMETRIC MEAN OF 200 COLONIE... 2008-09-26  \n40   OCTOBER-MAY:  GEOMETRIC MEAN OF 1000 COLONIES/... 2007-01-18  \n42   JUNE-SEPTEMBER: GEOMETRIC MEAN OF 200 COLONIES... 2009-09-23  \n44   OCTOBER-MAY:  GEOMETRIC MEAN OF 1000 COLONIES/... 2007-03-19  \n46   JUNE-SEPTEMBER:  GEOMETRIC MEAN OF 200 COLONIE... 2008-09-26  \n48   OCTOBER-MAY:  GEOMETRIC MEAN OF 1000 COLONIES/... 2007-01-18  \n52   OCTOBER-MAY:  GEOMETRIC MEAN OF 1000 COLONIES/... 2007-01-18  \n54   OCTOBER-MAY:  GEOMETRIC MEAN OF 1000 COLONIES/... 2007-01-18  \n55   JUNE-SEPTEMBER: GEOMETRIC MEAN OF 200 COLONIES... 2009-09-23  \n57   JUNE-SEPTEMBER: BACTERIA OF THE ENTEROCOCCI GR... 2009-09-23  \n60   JUNE-SEPTEMBER: GEOMETRIC MEAN OF 200 COLONIES... 2009-09-23  \n62   JUNE-SEPTEMBER: GEOMETRIC MEAN OF 200 COLONIES... 2009-09-23  \n65   JUNE-SEPTEMBER: GEOMETRIC MEAN OF 200 COLONIES... 2009-09-23  \n67   JUNE-SEPTEMBER: GEOMETRIC MEAN OF 200 COLONIES... 2009-09-23  \n68   JUNE-SEPTEMBER: GEOMETRIC MEAN OF 200 COLONIES... 2009-09-23  \n70   JUNE-SEPTEMBER: GEOMETRIC MEAN OF 200 COLONIES... 2009-09-23  \n72   A DAILY AVERAGE DISSOLVED OXYGEN CONCENTRATION... 1997-08-01  \n78                                                 NaN 1997-08-01  \n84                                                 NaN 2005-08-24  \n105  NARRATIVE CRITERIA FOR NUTRIENTS. (TARGET MEAN... 2008-10-28  \n161  DISSOLVED OXYGEN CONCENTRATION SHALL NOT BE LE... 2007-01-18  \n164  A DAILY AVERAGE DISSOLVED OXYGEN CONCENTRATION... 2007-01-18  \n182                                                NaN 2009-03-03  \n186                                                NaN 2005-08-24  \n189  CONCENTRATIONS CALCULATED TO ACHIEVE DISSOLVED... 2008-10-27  \n193  NARRATIVE CRITERIA FOR STREAMS CLASSIFIED AS L... 2006-01-31  \n195                                                NaN 2006-01-31  \n197                                                NaN 2006-01-31  \n200                                                NaN 2008-04-25  \n215  PH CANNOT BE GREATER THAN 8.5 STANDARD UNITS O... 2005-08-24  \n227  NARRATIVE CRITERIA FOR STREAMS CLASSIFIED AS W... 2005-08-24  \n242                                                NaN 2019-09-09  \n243                                                NaN 2021-08-23  \n244                                                NaN 2005-08-24  \n246  NUMERIC STATE CRITERIA.  E. COLI NOT TO EXCEED... 2012-09-27  \n249  NUMERIC STATE CRITERIA.  E. COLI NOT TO EXCEED... 2012-09-27  \n250  NARRATIVE NUTRIENT CRITERIA ARE THE BASIS FOR ... 2012-03-15  \n254                                                NaN 2020-08-11  \n255  LOADS CALCULATED TO ACHIEVE IN-STREAM GROWING ... 2006-10-26  \n268                                                NaN 2005-04-12  \n277                                                NaN 2005-04-12  \n279  IN NON-COASTAL WATERS, E. COLI ORGANISM DENSIT... 2011-05-02  \n282  IN NON-COASTAL WATERS, E. COLI ORGANISM DENSIT... 2011-05-02  \n283  IN NON-COASTAL WATERS, E. COLI ORGANISM DENSIT... 2011-05-02  \n284  OCTOBER-MAY:  GEOMETRIC MEAN OF 1000 COLONIES/... 2005-04-12  \n288                                                NaN 1997-08-01  \n291                                                NaN 1997-08-01  \n297  Numeric State criteria.  E. coli not to exceed... 2014-01-02  \n299  Numeric State criteria.  Enterococci  not to e... 2014-01-02  \n305  VIOLATION OF NARRATIVE CRITERIA FOR NUTRIENTS ... 2003-09-30  \n455  A DAILY AVERAGE DISSOLVED OXYGEN CONCENTRATION... 1997-08-01  \n461                                                NaN 1997-08-01  \n465  A DAILY AVERAGE DISSOLVED OXYGEN CONCENTRATION... 1997-08-01  \n471  A DAILY AVERAGE DISSOLVED OXYGEN CONCENTRATION... 1997-08-01  \n477  Numeric State criteria.  E. coli not to exceed... 2014-01-02  \n479  Numeric State criteria.  E. coli not to exceed... 2014-01-02  \n485  Numeric state criteria.  E. coli not to exceed... 2014-01-02  \n487  A DAILY AVERAGE DISSOLVED OXYGEN CONCENTRATION... 1997-08-01  \n490                      THE CRITERIA FOR AMMONIA IS   2002-10-31  \n502                                                NaN 2002-10-31  \n505                                                NaN 2002-10-31  \n507  A DAILY AVERAGE CONCENTRATION OF 5 MG/L AND NO... 2002-10-31  \n513                                                NaN 2010-12-21  \n514  In this TMDL document, the water quality stand... 2013-08-14  \n525  A DAILY AVERAGE CONCENTRATION OF 5 MG/L AND NO... 2002-10-31  \n528  A DAILY AVERAGE CONCENTRATION OF 5 MG/L AND NO... 2002-10-31  \n540                                                NaN 2002-10-31  \n546                                                NaN 2002-10-31  \n552                                                NaN 2002-10-31  \n555                                                NaN 2021-08-23  \n556                                                NaN 2002-10-31  \n559                                                NaN 2002-10-31  \n562  30 DAY PERIOD GEOMETRIC MEAN FOR FECAL COLIFOR... 2003-01-30  \n564  30 DAY PERIOD GEOMETRIC MEAN FOR FECAL COLIFOR... 2003-01-30  \n566  30 DAY PERIOD GEOMETRIC MEAN FOR FECAL COLIFOR... 2003-01-30  \n568  30 DAY PERIOD GEOMETRIC MEAN FOR FECAL COLIFOR... 2003-10-29  \n570             THE CRITERIA FOR AMMONIA IS 2.48 MG/L. 2002-10-31  \n582  30 DAY GEOMETRIC MEAN FOR FECAL COLIFIRM SHALL... 2002-10-31  \n584                                                NaN 2002-10-31  \n590  A DAILY AVERAGE CONCENTRATION OF 5 MG/L AND NO... 2007-01-28  \n593  A DAILY AVERAGE CONCENTRATION OF 5 MG/L AND NO... 2002-10-31  \n605  30 DAY PERIOD GEOMETRIC MEAN FOR FECAL COLIFOR... 2003-01-30  \n607                                                NaN 2002-10-31  \n613  A DAILY AVERAGE DISSOLVED OXYGEN CONCENTRATION... 2002-10-31  \n619    THE CRITERIA FOR METHYL PARATHION IS 0.222 PPB. 2002-10-31  \n627                                                NaN 2002-10-31  \n633  A DAILY AVERAGE DISSOLVED OXYGEN CONCENTRATION... 2002-10-31  \n645  30 DAY GEOMETRIC MEAN FOR FECAL COLIFORM SHALL... 2002-10-31  \n647  LOADS CALCULATED TO ACHIEVE GROWING SEASON MED... 2008-02-07  \n649  IN NON-COASTAL WATERS, E. COLI ORGANISM DENSIT... 2011-09-16  \n651  IN NON-COASTAL WATERS, E. COLI ORGANISM DENSIT... 2011-09-29  \n655  IN NON-COASTAL WATERS, E. COLI ORGANISM DENSIT... 2011-09-29  \n657  IN NON-COASTAL WATERS, E. COLI ORGANISM DENSIT... 2011-09-29  \n659  STATE WATERS SHALL BE FREE FROM SUBSTANCES ATT... 2004-11-01  \n671                                                NaN 2008-10-21  \n674  1.04 E+12 colonies per day for single samples\\... 2017-08-01  \n676                                                NaN 2004-12-13  \n679                                                NaN 2004-11-01  \n681                                                NaN 2004-10-29  \n685  pH should not be less than 6.0 SU or greater t... 2016-09-16  \n695  The concentration of the E. Coli group shall n... 2016-09-16  \n696                                                NaN 2004-12-13  \n699  IN NON-COASTAL WATERS, E. COLI ORGANISM DENSIT... 2011-09-29  \n702  Water Quality Standard for beaches  geometric ... 2015-10-05  \n703  Instream water quality standard 548 colonies p... 2015-10-05  \n707                                                NaN 2004-12-13  \n708                                                NaN 2004-11-01  \n746                                                NaN 2020-08-11  \n747                                                NaN 2003-10-29  \n754  A DAILY AVERAGE DISSOLVED OXYGEN CONCENTRATION... 1997-08-01  \n762  NARRATIVE CRITERIA FOR STREAMS CLASSIFIED AS F... 2003-10-20  \n805  IN NON-COASTAL WATERS, E. COLI ORGANISM DENSIT... 2011-09-29  ",
      "text/html": "<div>\n<style scoped>\n    .dataframe tbody tr th:only-of-type {\n        vertical-align: middle;\n    }\n\n    .dataframe tbody tr th {\n        vertical-align: top;\n    }\n\n    .dataframe thead th {\n        text-align: right;\n    }\n</style>\n<table border=\"1\" class=\"dataframe\">\n  <thead>\n    <tr style=\"text-align: right;\">\n      <th></th>\n      <th>organizationIdentifier</th>\n      <th>organizationTypeText</th>\n      <th>state_code</th>\n      <th>actionIdentifier</th>\n      <th>actionTypeCode</th>\n      <th>actionStatusCode</th>\n      <th>completionDate</th>\n      <th>assessmentUnitIdentifier</th>\n      <th>pollutantName</th>\n      <th>pollutantSourceTypeCode</th>\n      <th>explicitMarginofSafetyText</th>\n      <th>implicitMarginofSafetyText</th>\n      <th>TMDLEndPointText</th>\n      <th>TMDLDate</th>\n    </tr>\n  </thead>\n  <tbody>\n    <tr>\n      <th>0</th>\n      <td>21AWIC</td>\n      <td>State</td>\n      <td>AL</td>\n      <td>36562</td>\n      <td>TMDL</td>\n      <td>EPA Final Action</td>\n      <td>2009-09-23</td>\n      <td>AL03160205-0310-702</td>\n      <td>FECAL COLIFORM</td>\n      <td>Nonpoint source</td>\n      <td>1320000000 CFU/DAY</td>\n      <td>N</td>\n      <td>JUNE-SEPTEMBER: GEOMETRIC MEAN OF 200 COLONIES...</td>\n      <td>2009-09-23</td>\n    </tr>\n    <tr>\n      <th>2</th>\n      <td>21AWIC</td>\n      <td>State</td>\n      <td>AL</td>\n      <td>36561</td>\n      <td>TMDL</td>\n      <td>EPA Final Action</td>\n      <td>2009-09-23</td>\n      <td>AL03160205-0202-400</td>\n      <td>FECAL COLIFORM</td>\n      <td>Both</td>\n      <td>2010000000 CFU/DAY</td>\n      <td>N</td>\n      <td>JUNE-SEPTEMBER: GEOMETRIC MEAN OF 200 COLONIES...</td>\n      <td>2009-09-23</td>\n    </tr>\n    <tr>\n      <th>4</th>\n      <td>21AWIC</td>\n      <td>State</td>\n      <td>AL</td>\n      <td>36556</td>\n      <td>TMDL</td>\n      <td>EPA Final Action</td>\n      <td>2009-09-23</td>\n      <td>AL03150202-0202-401</td>\n      <td>FECAL COLIFORM</td>\n      <td>Both</td>\n      <td>7290000000 CFU/DAY</td>\n      <td>N</td>\n      <td>JUNE-SEPTEMBER: GEOMETRIC MEAN OF 200 COLONIES...</td>\n      <td>2009-09-23</td>\n    </tr>\n    <tr>\n      <th>6</th>\n      <td>21AWIC</td>\n      <td>State</td>\n      <td>AL</td>\n      <td>36559</td>\n      <td>TMDL</td>\n      <td>EPA Final Action</td>\n      <td>2009-09-23</td>\n      <td>AL03160205-0202-300</td>\n      <td>FECAL COLIFORM</td>\n      <td>Both</td>\n      <td>1660000000 CFU/DAY</td>\n      <td>N</td>\n      <td>JUNE-SEPTEMBER: GEOMETRIC MEAN OF 200 COLONIES...</td>\n      <td>2009-09-23</td>\n    </tr>\n    <tr>\n      <th>8</th>\n      <td>21AWIC</td>\n      <td>State</td>\n      <td>AL</td>\n      <td>39070</td>\n      <td>TMDL</td>\n      <td>EPA Final Action</td>\n      <td>2010-09-21</td>\n      <td>AL03140107-0205-102</td>\n      <td>ENTEROCOCCUS BACTERIA</td>\n      <td>Nonpoint source</td>\n      <td>NaN</td>\n      <td>N</td>\n      <td>IN COASTAL WATERS, BACTERIA OF THE ENTEROCOCCI...</td>\n      <td>2010-09-21</td>\n    </tr>\n    <tr>\n      <th>9</th>\n      <td>21AWIC</td>\n      <td>State</td>\n      <td>AL</td>\n      <td>AL03160111_0303_102_Nutrients_2018</td>\n      <td>TMDL</td>\n      <td>EPA Final Action</td>\n      <td>2017-12-21</td>\n      <td>AL03160111-0305-102</td>\n      <td>PHOSPHORUS, TOTAL</td>\n      <td>Both</td>\n      <td>NaN</td>\n      <td>NaN</td>\n      <td>NaN</td>\n      <td>2018-01-22</td>\n    </tr>\n    <tr>\n      <th>15</th>\n      <td>21AWIC</td>\n      <td>State</td>\n      <td>AL</td>\n      <td>39067</td>\n      <td>TMDL</td>\n      <td>EPA Final Action</td>\n      <td>2010-09-21</td>\n      <td>AL03140202-0502-102</td>\n      <td>LEAD</td>\n      <td>Both</td>\n      <td>NaN</td>\n      <td>Y</td>\n      <td>DISSOLVED LEAD CONCENTRATION OF 0.789 UG/L, US...</td>\n      <td>2010-09-21</td>\n    </tr>\n    <tr>\n      <th>17</th>\n      <td>21AWIC</td>\n      <td>State</td>\n      <td>AL</td>\n      <td>39066</td>\n      <td>TMDL</td>\n      <td>EPA Final Action</td>\n      <td>2010-09-21</td>\n      <td>AL03140201-1001-700</td>\n      <td>ESCHERICHIA COLI (E. COLI)</td>\n      <td>Nonpoint source</td>\n      <td>NaN</td>\n      <td>N</td>\n      <td>JUNE THROUGH SEPTEMBER:  GEOMETRIC MEAN E. COL...</td>\n      <td>2010-09-21</td>\n    </tr>\n    <tr>\n      <th>18</th>\n      <td>21AWIC</td>\n      <td>State</td>\n      <td>AL</td>\n      <td>39068</td>\n      <td>TMDL</td>\n      <td>EPA Final Action</td>\n      <td>2010-09-21</td>\n      <td>AL03140107-0103-100</td>\n      <td>ENTEROCOCCUS BACTERIA</td>\n      <td>Nonpoint source</td>\n      <td>NaN</td>\n      <td>N</td>\n      <td>IN COASTAL WATERS, BACTERIA OF THE ENTEROCOCCI...</td>\n      <td>2010-09-21</td>\n    </tr>\n    <tr>\n      <th>19</th>\n      <td>21AWIC</td>\n      <td>State</td>\n      <td>AL</td>\n      <td>AL03150203-0103-200_Pathogens_2019</td>\n      <td>TMDL</td>\n      <td>EPA Final Action</td>\n      <td>2019-08-13</td>\n      <td>AL03150203-0103-200</td>\n      <td>ESCHERICHIA COLI (E. COLI)</td>\n      <td>Nonpoint source</td>\n      <td>NaN</td>\n      <td>NaN</td>\n      <td>NaN</td>\n      <td>2019-09-09</td>\n    </tr>\n    <tr>\n      <th>20</th>\n      <td>21AWIC</td>\n      <td>State</td>\n      <td>AL</td>\n      <td>AL03160110-0401-100_Pathogens_2021</td>\n      <td>TMDL</td>\n      <td>EPA Final Action</td>\n      <td>2021-07-26</td>\n      <td>AL03160110-0401-100</td>\n      <td>ESCHERICHIA COLI (E. COLI)</td>\n      <td>Nonpoint source</td>\n      <td>NaN</td>\n      <td>NaN</td>\n      <td>NaN</td>\n      <td>2021-08-23</td>\n    </tr>\n    <tr>\n      <th>21</th>\n      <td>21AWIC</td>\n      <td>State</td>\n      <td>AL</td>\n      <td>39091</td>\n      <td>TMDL</td>\n      <td>EPA Final Action</td>\n      <td>2010-09-21</td>\n      <td>AL03160205-0300-201</td>\n      <td>ENTEROCOCCUS BACTERIA</td>\n      <td>Nonpoint source</td>\n      <td>NaN</td>\n      <td>N</td>\n      <td>IN COASTAL WATERS, BACTERIA OF THE ENTEROCOCCI...</td>\n      <td>2010-09-21</td>\n    </tr>\n    <tr>\n      <th>22</th>\n      <td>21AWIC</td>\n      <td>State</td>\n      <td>AL</td>\n      <td>2021AL03140201</td>\n      <td>TMDL</td>\n      <td>EPA Final Action</td>\n      <td>2021-07-26</td>\n      <td>AL03140201-0406-100</td>\n      <td>ESCHERICHIA COLI (E. COLI)</td>\n      <td>Both</td>\n      <td>NaN</td>\n      <td>NaN</td>\n      <td>NaN</td>\n      <td>2021-08-23</td>\n    </tr>\n    <tr>\n      <th>25</th>\n      <td>21AWIC</td>\n      <td>State</td>\n      <td>AL</td>\n      <td>42664</td>\n      <td>TMDL</td>\n      <td>EPA Final Action</td>\n      <td>2012-09-27</td>\n      <td>AL06030002-0105-101</td>\n      <td>ESCHERICHIA COLI (E. COLI)</td>\n      <td>Nonpoint source</td>\n      <td>NaN</td>\n      <td>NaN</td>\n      <td>NUMERIC STATE CRITERIA.  E. COLI NOT TO EXCEED...</td>\n      <td>2012-09-27</td>\n    </tr>\n    <tr>\n      <th>27</th>\n      <td>21AWIC</td>\n      <td>State</td>\n      <td>AL</td>\n      <td>AL03160105-0204-102_Pathogens_2021</td>\n      <td>TMDL</td>\n      <td>EPA Final Action</td>\n      <td>2021-07-26</td>\n      <td>AL03160105-0101-102</td>\n      <td>ESCHERICHIA COLI (E. COLI)</td>\n      <td>Nonpoint source</td>\n      <td>NaN</td>\n      <td>NaN</td>\n      <td>NaN</td>\n      <td>2021-08-23</td>\n    </tr>\n    <tr>\n      <th>30</th>\n      <td>21AWIC</td>\n      <td>State</td>\n      <td>AL</td>\n      <td>AL03150201-0104-302_Pathogens_2019</td>\n      <td>TMDL</td>\n      <td>EPA Final Action</td>\n      <td>2019-08-13</td>\n      <td>AL03150201-0104-302</td>\n      <td>ESCHERICHIA COLI (E. COLI)</td>\n      <td>Nonpoint source</td>\n      <td>NaN</td>\n      <td>NaN</td>\n      <td>NaN</td>\n      <td>2019-09-09</td>\n    </tr>\n    <tr>\n      <th>31</th>\n      <td>21AWIC</td>\n      <td>State</td>\n      <td>AL</td>\n      <td>2021al3130003</td>\n      <td>TMDL</td>\n      <td>EPA Final Action</td>\n      <td>2021-07-26</td>\n      <td>AL03130003-1204-100</td>\n      <td>ESCHERICHIA COLI (E. COLI)</td>\n      <td>Both</td>\n      <td>NaN</td>\n      <td>NaN</td>\n      <td>NaN</td>\n      <td>2021-08-23</td>\n    </tr>\n    <tr>\n      <th>32</th>\n      <td>21AWIC</td>\n      <td>State</td>\n      <td>AL</td>\n      <td>36540</td>\n      <td>TMDL</td>\n      <td>EPA Final Action</td>\n      <td>2009-09-23</td>\n      <td>AL03150201-0309-100</td>\n      <td>FECAL COLIFORM</td>\n      <td>Both</td>\n      <td>11400000000000 CFU/DAY</td>\n      <td>N</td>\n      <td>JUNE-SEPTEMBER: GEOMETRIC MEAN OF 200 COLONIES...</td>\n      <td>2009-09-23</td>\n    </tr>\n    <tr>\n      <th>34</th>\n      <td>21AWIC</td>\n      <td>State</td>\n      <td>AL</td>\n      <td>34135</td>\n      <td>TMDL</td>\n      <td>EPA Final Action</td>\n      <td>2008-09-26</td>\n      <td>AL03140201-0704-600</td>\n      <td>FECAL COLIFORM</td>\n      <td>Nonpoint source</td>\n      <td>119000000000 CFU/DAY</td>\n      <td>N</td>\n      <td>JUNE-SEPTEMBER:  GEOMETRIC MEAN OF 200 COLONIE...</td>\n      <td>2008-09-26</td>\n    </tr>\n    <tr>\n      <th>36</th>\n      <td>21AWIC</td>\n      <td>State</td>\n      <td>AL</td>\n      <td>34136</td>\n      <td>TMDL</td>\n      <td>EPA Final Action</td>\n      <td>2008-09-26</td>\n      <td>AL06030002-0603-102</td>\n      <td>FECAL COLIFORM</td>\n      <td>Nonpoint source</td>\n      <td>60800000000 CFU/DAY</td>\n      <td>N</td>\n      <td>JUNE-SEPTEMBER:  GEOMETRIC MEAN OF 200 COLONIE...</td>\n      <td>2008-09-26</td>\n    </tr>\n    <tr>\n      <th>38</th>\n      <td>21AWIC</td>\n      <td>State</td>\n      <td>AL</td>\n      <td>34137</td>\n      <td>TMDL</td>\n      <td>EPA Final Action</td>\n      <td>2008-09-26</td>\n      <td>AL06030002-0602-102</td>\n      <td>FECAL COLIFORM</td>\n      <td>Nonpoint source</td>\n      <td>326000000000 CFU/DAY</td>\n      <td>N</td>\n      <td>JUNE-SEPTEMBER:  GEOMETRIC MEAN OF 200 COLONIE...</td>\n      <td>2008-09-26</td>\n    </tr>\n    <tr>\n      <th>40</th>\n      <td>21AWIC</td>\n      <td>State</td>\n      <td>AL</td>\n      <td>31647</td>\n      <td>TMDL</td>\n      <td>EPA Final Action</td>\n      <td>2007-01-18</td>\n      <td>AL06030004-0102-100</td>\n      <td>FECAL COLIFORM</td>\n      <td>Nonpoint source</td>\n      <td>NaN</td>\n      <td>NaN</td>\n      <td>OCTOBER-MAY:  GEOMETRIC MEAN OF 1000 COLONIES/...</td>\n      <td>2007-01-18</td>\n    </tr>\n    <tr>\n      <th>42</th>\n      <td>21AWIC</td>\n      <td>State</td>\n      <td>AL</td>\n      <td>36531</td>\n      <td>TMDL</td>\n      <td>EPA Final Action</td>\n      <td>2009-09-23</td>\n      <td>AL03160204-0504-500</td>\n      <td>FECAL COLIFORM</td>\n      <td>Both</td>\n      <td>201000000 CFU/DAY</td>\n      <td>N</td>\n      <td>JUNE-SEPTEMBER: GEOMETRIC MEAN OF 200 COLONIES...</td>\n      <td>2009-09-23</td>\n    </tr>\n    <tr>\n      <th>44</th>\n      <td>21AWIC</td>\n      <td>State</td>\n      <td>AL</td>\n      <td>31646</td>\n      <td>TMDL</td>\n      <td>EPA Final Action</td>\n      <td>2007-03-19</td>\n      <td>AL/06030002-200-01</td>\n      <td>PATHOGENS</td>\n      <td>Both</td>\n      <td>NaN</td>\n      <td>N</td>\n      <td>OCTOBER-MAY:  GEOMETRIC MEAN OF 1000 COLONIES/...</td>\n      <td>2007-03-19</td>\n    </tr>\n    <tr>\n      <th>46</th>\n      <td>21AWIC</td>\n      <td>State</td>\n      <td>AL</td>\n      <td>34138</td>\n      <td>TMDL</td>\n      <td>EPA Final Action</td>\n      <td>2008-09-26</td>\n      <td>AL06030002-0401-102</td>\n      <td>FECAL COLIFORM</td>\n      <td>Both</td>\n      <td>245000000000 CFU/DAY</td>\n      <td>N</td>\n      <td>JUNE-SEPTEMBER:  GEOMETRIC MEAN OF 200 COLONIE...</td>\n      <td>2008-09-26</td>\n    </tr>\n    <tr>\n      <th>48</th>\n      <td>21AWIC</td>\n      <td>State</td>\n      <td>AL</td>\n      <td>31645</td>\n      <td>TMDL</td>\n      <td>EPA Final Action</td>\n      <td>2007-01-18</td>\n      <td>AL06030002-0304-100</td>\n      <td>FECAL COLIFORM</td>\n      <td>Nonpoint source</td>\n      <td>NaN</td>\n      <td>N</td>\n      <td>OCTOBER-MAY:  GEOMETRIC MEAN OF 1000 COLONIES/...</td>\n      <td>2007-01-18</td>\n    </tr>\n    <tr>\n      <th>52</th>\n      <td>21AWIC</td>\n      <td>State</td>\n      <td>AL</td>\n      <td>31644</td>\n      <td>TMDL</td>\n      <td>EPA Final Action</td>\n      <td>2007-01-18</td>\n      <td>AL06030002-0802-201</td>\n      <td>FECAL COLIFORM</td>\n      <td>Nonpoint source</td>\n      <td>NaN</td>\n      <td>N</td>\n      <td>OCTOBER-MAY:  GEOMETRIC MEAN OF 1000 COLONIES/...</td>\n      <td>2007-01-18</td>\n    </tr>\n    <tr>\n      <th>54</th>\n      <td>21AWIC</td>\n      <td>State</td>\n      <td>AL</td>\n      <td>31643</td>\n      <td>TMDL</td>\n      <td>EPA Final Action</td>\n      <td>2007-01-18</td>\n      <td>AL/06030002-440-02</td>\n      <td>PATHOGENS</td>\n      <td>Nonpoint source</td>\n      <td>NaN</td>\n      <td>NaN</td>\n      <td>OCTOBER-MAY:  GEOMETRIC MEAN OF 1000 COLONIES/...</td>\n      <td>2007-01-18</td>\n    </tr>\n    <tr>\n      <th>55</th>\n      <td>21AWIC</td>\n      <td>State</td>\n      <td>AL</td>\n      <td>36543</td>\n      <td>TMDL</td>\n      <td>EPA Final Action</td>\n      <td>2009-09-23</td>\n      <td>AL03160203-0601-100</td>\n      <td>FECAL COLIFORM</td>\n      <td>Both</td>\n      <td>313000000 CFU/DAY</td>\n      <td>N</td>\n      <td>JUNE-SEPTEMBER: GEOMETRIC MEAN OF 200 COLONIES...</td>\n      <td>2009-09-23</td>\n    </tr>\n    <tr>\n      <th>57</th>\n      <td>21AWIC</td>\n      <td>State</td>\n      <td>AL</td>\n      <td>36542</td>\n      <td>TMDL</td>\n      <td>EPA Final Action</td>\n      <td>2009-09-23</td>\n      <td>AL03170009-0102-100</td>\n      <td>ENTEROCOCCUS BACTERIA</td>\n      <td>Nonpoint source</td>\n      <td>1040000000 CFU/DAY</td>\n      <td>N</td>\n      <td>JUNE-SEPTEMBER: BACTERIA OF THE ENTEROCOCCI GR...</td>\n      <td>2009-09-23</td>\n    </tr>\n    <tr>\n      <th>60</th>\n      <td>21AWIC</td>\n      <td>State</td>\n      <td>AL</td>\n      <td>36541</td>\n      <td>TMDL</td>\n      <td>EPA Final Action</td>\n      <td>2009-09-23</td>\n      <td>AL03150202-0202-101</td>\n      <td>FECAL COLIFORM</td>\n      <td>Both</td>\n      <td>1610000000 CFU/DAY</td>\n      <td>N</td>\n      <td>JUNE-SEPTEMBER: GEOMETRIC MEAN OF 200 COLONIES...</td>\n      <td>2009-09-23</td>\n    </tr>\n    <tr>\n      <th>62</th>\n      <td>21AWIC</td>\n      <td>State</td>\n      <td>AL</td>\n      <td>36545</td>\n      <td>TMDL</td>\n      <td>EPA Final Action</td>\n      <td>2009-09-23</td>\n      <td>AL03160204-0504-300</td>\n      <td>FECAL COLIFORM</td>\n      <td>Point source</td>\n      <td>362000000 CFU/DAY</td>\n      <td>N</td>\n      <td>JUNE-SEPTEMBER: GEOMETRIC MEAN OF 200 COLONIES...</td>\n      <td>2009-09-23</td>\n    </tr>\n    <tr>\n      <th>65</th>\n      <td>21AWIC</td>\n      <td>State</td>\n      <td>AL</td>\n      <td>36544</td>\n      <td>TMDL</td>\n      <td>EPA Final Action</td>\n      <td>2009-09-23</td>\n      <td>AL03170008-0402-700</td>\n      <td>FECAL COLIFORM</td>\n      <td>Nonpoint source</td>\n      <td>3410000000 CFU/DAY</td>\n      <td>N</td>\n      <td>JUNE-SEPTEMBER: GEOMETRIC MEAN OF 200 COLONIES...</td>\n      <td>2009-09-23</td>\n    </tr>\n    <tr>\n      <th>67</th>\n      <td>21AWIC</td>\n      <td>State</td>\n      <td>AL</td>\n      <td>36547</td>\n      <td>TMDL</td>\n      <td>EPA Final Action</td>\n      <td>2009-09-23</td>\n      <td>AL03160205-0202-700</td>\n      <td>FECAL COLIFORM</td>\n      <td>Both</td>\n      <td>837000000000 CFU/DAY</td>\n      <td>N</td>\n      <td>JUNE-SEPTEMBER: GEOMETRIC MEAN OF 200 COLONIES...</td>\n      <td>2009-09-23</td>\n    </tr>\n    <tr>\n      <th>68</th>\n      <td>21AWIC</td>\n      <td>State</td>\n      <td>AL</td>\n      <td>36546</td>\n      <td>TMDL</td>\n      <td>EPA Final Action</td>\n      <td>2009-09-23</td>\n      <td>AL03140201-0502-100</td>\n      <td>FECAL COLIFORM</td>\n      <td>Both</td>\n      <td>596000000000 CFU/DAY</td>\n      <td>N</td>\n      <td>JUNE-SEPTEMBER: GEOMETRIC MEAN OF 200 COLONIES...</td>\n      <td>2009-09-23</td>\n    </tr>\n    <tr>\n      <th>70</th>\n      <td>21AWIC</td>\n      <td>State</td>\n      <td>AL</td>\n      <td>36548</td>\n      <td>TMDL</td>\n      <td>EPA Final Action</td>\n      <td>2009-09-23</td>\n      <td>AL03160111-0203-100</td>\n      <td>FECAL COLIFORM</td>\n      <td>Both</td>\n      <td>3430000000 CFU/DAY</td>\n      <td>N</td>\n      <td>JUNE-SEPTEMBER: GEOMETRIC MEAN OF 200 COLONIES...</td>\n      <td>2009-09-23</td>\n    </tr>\n    <tr>\n      <th>72</th>\n      <td>21AWIC</td>\n      <td>State</td>\n      <td>AL</td>\n      <td>1622</td>\n      <td>TMDL</td>\n      <td>EPA Final Action</td>\n      <td>1997-08-01</td>\n      <td>AL/03170008-030-01</td>\n      <td>ORGANIC ENRICHMENT/LOW DISSOLVED OXYGEN</td>\n      <td>Both</td>\n      <td>NaN</td>\n      <td>Y</td>\n      <td>A DAILY AVERAGE DISSOLVED OXYGEN CONCENTRATION...</td>\n      <td>1997-08-01</td>\n    </tr>\n    <tr>\n      <th>78</th>\n      <td>21AWIC</td>\n      <td>State</td>\n      <td>AL</td>\n      <td>1612</td>\n      <td>TMDL</td>\n      <td>EPA Final Action</td>\n      <td>1997-08-01</td>\n      <td>AL/03150110-030-01</td>\n      <td>CARBONACEOUS BOD</td>\n      <td>Both</td>\n      <td>NaN</td>\n      <td>Y</td>\n      <td>NaN</td>\n      <td>1997-08-01</td>\n    </tr>\n    <tr>\n      <th>84</th>\n      <td>21AWIC</td>\n      <td>State</td>\n      <td>AL</td>\n      <td>11566</td>\n      <td>TMDL</td>\n      <td>EPA Final Action</td>\n      <td>2005-08-24</td>\n      <td>AL/03140301-040-01</td>\n      <td>SEDIMENT</td>\n      <td>Both</td>\n      <td>NaN</td>\n      <td>Y</td>\n      <td>NaN</td>\n      <td>2005-08-24</td>\n    </tr>\n    <tr>\n      <th>105</th>\n      <td>21AWIC</td>\n      <td>State</td>\n      <td>AL</td>\n      <td>11567</td>\n      <td>TMDL</td>\n      <td>EPA Final Action</td>\n      <td>2008-10-28</td>\n      <td>AL03150106-0801-100</td>\n      <td>PHOSPHORUS, TOTAL</td>\n      <td>Both</td>\n      <td>NaN</td>\n      <td>Y</td>\n      <td>NARRATIVE CRITERIA FOR NUTRIENTS. (TARGET MEAN...</td>\n      <td>2008-10-28</td>\n    </tr>\n    <tr>\n      <th>161</th>\n      <td>21AWIC</td>\n      <td>State</td>\n      <td>AL</td>\n      <td>31854</td>\n      <td>TMDL</td>\n      <td>EPA Final Action</td>\n      <td>2007-01-18</td>\n      <td>AL/06030002-270-01</td>\n      <td>ORGANIC ENRICHMENT/LOW DISSOLVED OXYGEN</td>\n      <td>Both</td>\n      <td>NaN</td>\n      <td>Y</td>\n      <td>DISSOLVED OXYGEN CONCENTRATION SHALL NOT BE LE...</td>\n      <td>2007-01-18</td>\n    </tr>\n    <tr>\n      <th>164</th>\n      <td>21AWIC</td>\n      <td>State</td>\n      <td>AL</td>\n      <td>11550</td>\n      <td>TMDL</td>\n      <td>EPA Final Action</td>\n      <td>2007-01-18</td>\n      <td>AL/03160204-060-01</td>\n      <td>ORGANIC ENRICHMENT/LOW DISSOLVED OXYGEN</td>\n      <td>Both</td>\n      <td>NaN</td>\n      <td>NaN</td>\n      <td>A DAILY AVERAGE DISSOLVED OXYGEN CONCENTRATION...</td>\n      <td>2007-01-18</td>\n    </tr>\n    <tr>\n      <th>182</th>\n      <td>21AWIC</td>\n      <td>State</td>\n      <td>AL</td>\n      <td>11551</td>\n      <td>TMDL</td>\n      <td>EPA Final Action</td>\n      <td>2009-03-03</td>\n      <td>AL/03150107-090-01</td>\n      <td>PHOSPHORUS, TOTAL</td>\n      <td>Both</td>\n      <td>NaN</td>\n      <td>NaN</td>\n      <td>NaN</td>\n      <td>2009-03-03</td>\n    </tr>\n    <tr>\n      <th>186</th>\n      <td>21AWIC</td>\n      <td>State</td>\n      <td>AL</td>\n      <td>11556</td>\n      <td>TMDL</td>\n      <td>EPA Final Action</td>\n      <td>2005-08-24</td>\n      <td>AL/03150201-080-01</td>\n      <td>NITROGENOUS BOD</td>\n      <td>Both</td>\n      <td>NaN</td>\n      <td>NaN</td>\n      <td>NaN</td>\n      <td>2005-08-24</td>\n    </tr>\n    <tr>\n      <th>189</th>\n      <td>21AWIC</td>\n      <td>State</td>\n      <td>AL</td>\n      <td>11557</td>\n      <td>TMDL</td>\n      <td>EPA Final Action</td>\n      <td>2008-10-27</td>\n      <td>AL/ALICEVILLE RES_01</td>\n      <td>ORGANIC ENRICHMENT/LOW DISSOLVED OXYGEN</td>\n      <td>Both</td>\n      <td>NaN</td>\n      <td>NaN</td>\n      <td>CONCENTRATIONS CALCULATED TO ACHIEVE DISSOLVED...</td>\n      <td>2008-10-27</td>\n    </tr>\n    <tr>\n      <th>193</th>\n      <td>21AWIC</td>\n      <td>State</td>\n      <td>AL</td>\n      <td>11554</td>\n      <td>TMDL</td>\n      <td>EPA Final Action</td>\n      <td>2006-01-31</td>\n      <td>AL/03160111-140-03</td>\n      <td>SILTATION</td>\n      <td>Nonpoint source</td>\n      <td>NaN</td>\n      <td>NaN</td>\n      <td>NARRATIVE CRITERIA FOR STREAMS CLASSIFIED AS L...</td>\n      <td>2006-01-31</td>\n    </tr>\n    <tr>\n      <th>195</th>\n      <td>21AWIC</td>\n      <td>State</td>\n      <td>AL</td>\n      <td>11555</td>\n      <td>TMDL</td>\n      <td>EPA Final Action</td>\n      <td>2006-01-31</td>\n      <td>AL/03160109-030-01</td>\n      <td>FECAL COLIFORM</td>\n      <td>Both</td>\n      <td>NaN</td>\n      <td>NaN</td>\n      <td>NaN</td>\n      <td>2006-01-31</td>\n    </tr>\n    <tr>\n      <th>197</th>\n      <td>21AWIC</td>\n      <td>State</td>\n      <td>AL</td>\n      <td>11548</td>\n      <td>TMDL</td>\n      <td>EPA Final Action</td>\n      <td>2006-01-31</td>\n      <td>AL/03150202-030_03</td>\n      <td>CARBONACEOUS BOD</td>\n      <td>Point source</td>\n      <td>NaN</td>\n      <td>NaN</td>\n      <td>NaN</td>\n      <td>2006-01-31</td>\n    </tr>\n    <tr>\n      <th>200</th>\n      <td>21AWIC</td>\n      <td>State</td>\n      <td>AL</td>\n      <td>11549</td>\n      <td>TMDL</td>\n      <td>EPA Final Action</td>\n      <td>2008-04-25</td>\n      <td>AL/03150110-030-01</td>\n      <td>PHOSPHORUS, TOTAL</td>\n      <td>Both</td>\n      <td>NaN</td>\n      <td>NaN</td>\n      <td>NaN</td>\n      <td>2008-04-25</td>\n    </tr>\n    <tr>\n      <th>215</th>\n      <td>21AWIC</td>\n      <td>State</td>\n      <td>AL</td>\n      <td>11545</td>\n      <td>TMDL</td>\n      <td>EPA Final Action</td>\n      <td>2005-08-24</td>\n      <td>AL/03160111-140-01</td>\n      <td>PH</td>\n      <td>Both</td>\n      <td>NaN</td>\n      <td>Y</td>\n      <td>PH CANNOT BE GREATER THAN 8.5 STANDARD UNITS O...</td>\n      <td>2005-08-24</td>\n    </tr>\n    <tr>\n      <th>227</th>\n      <td>21AWIC</td>\n      <td>State</td>\n      <td>AL</td>\n      <td>11547</td>\n      <td>TMDL</td>\n      <td>EPA Final Action</td>\n      <td>2005-08-24</td>\n      <td>AL/03160111-140-02</td>\n      <td>SILTATION</td>\n      <td>Both</td>\n      <td>NaN</td>\n      <td>NaN</td>\n      <td>NARRATIVE CRITERIA FOR STREAMS CLASSIFIED AS W...</td>\n      <td>2005-08-24</td>\n    </tr>\n    <tr>\n      <th>242</th>\n      <td>21AWIC</td>\n      <td>State</td>\n      <td>AL</td>\n      <td>AL03160111-0307-400_pH_2019</td>\n      <td>TMDL</td>\n      <td>EPA Final Action</td>\n      <td>2019-08-13</td>\n      <td>AL03160111-0307-400</td>\n      <td>PH</td>\n      <td>Nonpoint source</td>\n      <td>NaN</td>\n      <td>NaN</td>\n      <td>NaN</td>\n      <td>2019-09-09</td>\n    </tr>\n    <tr>\n      <th>243</th>\n      <td>21AWIC</td>\n      <td>State</td>\n      <td>AL</td>\n      <td>AL03150201-1006-101_Pathogens_2021</td>\n      <td>TMDL</td>\n      <td>EPA Final Action</td>\n      <td>2021-07-26</td>\n      <td>AL03150201-1006-101</td>\n      <td>ESCHERICHIA COLI (E. COLI)</td>\n      <td>Both</td>\n      <td>NaN</td>\n      <td>NaN</td>\n      <td>NaN</td>\n      <td>2021-08-23</td>\n    </tr>\n    <tr>\n      <th>244</th>\n      <td>21AWIC</td>\n      <td>State</td>\n      <td>AL</td>\n      <td>11348</td>\n      <td>TMDL</td>\n      <td>EPA Final Action</td>\n      <td>2005-08-24</td>\n      <td>AL/03150108-250-01</td>\n      <td>FECAL COLIFORM</td>\n      <td>Both</td>\n      <td>NaN</td>\n      <td>NaN</td>\n      <td>NaN</td>\n      <td>2005-08-24</td>\n    </tr>\n    <tr>\n      <th>246</th>\n      <td>21AWIC</td>\n      <td>State</td>\n      <td>AL</td>\n      <td>42718</td>\n      <td>TMDL</td>\n      <td>EPA Final Action</td>\n      <td>2012-09-27</td>\n      <td>AL03140103-0102-700</td>\n      <td>ESCHERICHIA COLI (E. COLI)</td>\n      <td>Nonpoint source</td>\n      <td>NaN</td>\n      <td>NaN</td>\n      <td>NUMERIC STATE CRITERIA.  E. COLI NOT TO EXCEED...</td>\n      <td>2012-09-27</td>\n    </tr>\n    <tr>\n      <th>249</th>\n      <td>21AWIC</td>\n      <td>State</td>\n      <td>AL</td>\n      <td>42717</td>\n      <td>TMDL</td>\n      <td>EPA Final Action</td>\n      <td>2012-09-27</td>\n      <td>AL06030002-0404-200</td>\n      <td>ESCHERICHIA COLI (E. COLI)</td>\n      <td>Nonpoint source</td>\n      <td>NaN</td>\n      <td>NaN</td>\n      <td>NUMERIC STATE CRITERIA.  E. COLI NOT TO EXCEED...</td>\n      <td>2012-09-27</td>\n    </tr>\n    <tr>\n      <th>250</th>\n      <td>21AWIC</td>\n      <td>State</td>\n      <td>AL</td>\n      <td>41534</td>\n      <td>TMDL</td>\n      <td>EPA Final Action</td>\n      <td>2012-03-15</td>\n      <td>AL03160109-0105-101</td>\n      <td>PHOSPHORUS, TOTAL</td>\n      <td>Nonpoint source</td>\n      <td>NaN</td>\n      <td>NaN</td>\n      <td>NARRATIVE NUTRIENT CRITERIA ARE THE BASIS FOR ...</td>\n      <td>2012-03-15</td>\n    </tr>\n    <tr>\n      <th>254</th>\n      <td>21AWIC</td>\n      <td>State</td>\n      <td>AL</td>\n      <td>AL03160302-0205-100_Pathogens_2020</td>\n      <td>TMDL</td>\n      <td>EPA Final Action</td>\n      <td>2020-07-20</td>\n      <td>AL03160203-0205-100</td>\n      <td>ESCHERICHIA COLI (E. COLI)</td>\n      <td>Nonpoint source</td>\n      <td>NaN</td>\n      <td>NaN</td>\n      <td>NaN</td>\n      <td>2020-08-11</td>\n    </tr>\n    <tr>\n      <th>255</th>\n      <td>21AWIC</td>\n      <td>State</td>\n      <td>AL</td>\n      <td>30895</td>\n      <td>TMDL</td>\n      <td>EPA Final Action</td>\n      <td>2006-10-26</td>\n      <td>AL03150202-0203-102</td>\n      <td>PHOSPHORUS, TOTAL</td>\n      <td>Both</td>\n      <td>NaN</td>\n      <td>Y</td>\n      <td>LOADS CALCULATED TO ACHIEVE IN-STREAM GROWING ...</td>\n      <td>2006-10-26</td>\n    </tr>\n    <tr>\n      <th>268</th>\n      <td>21AWIC</td>\n      <td>State</td>\n      <td>AL</td>\n      <td>11314</td>\n      <td>TMDL</td>\n      <td>EPA Final Action</td>\n      <td>2005-04-12</td>\n      <td>AL/03160205-020-02</td>\n      <td>CARBONACEOUS BOD</td>\n      <td>Both</td>\n      <td>NaN</td>\n      <td>Y</td>\n      <td>NaN</td>\n      <td>2005-04-12</td>\n    </tr>\n    <tr>\n      <th>277</th>\n      <td>21AWIC</td>\n      <td>State</td>\n      <td>AL</td>\n      <td>11315</td>\n      <td>TMDL</td>\n      <td>EPA Final Action</td>\n      <td>2005-04-12</td>\n      <td>AL/03170008-030-01</td>\n      <td>FECAL COLIFORM</td>\n      <td>Both</td>\n      <td>NaN</td>\n      <td>N</td>\n      <td>NaN</td>\n      <td>2005-04-12</td>\n    </tr>\n    <tr>\n      <th>279</th>\n      <td>21AWIC</td>\n      <td>State</td>\n      <td>AL</td>\n      <td>40206</td>\n      <td>TMDL</td>\n      <td>EPA Final Action</td>\n      <td>2011-05-02</td>\n      <td>AL03150105-0807-200</td>\n      <td>ESCHERICHIA COLI (E. COLI)</td>\n      <td>Nonpoint source</td>\n      <td>308000000 CFU/DAY</td>\n      <td>N</td>\n      <td>IN NON-COASTAL WATERS, E. COLI ORGANISM DENSIT...</td>\n      <td>2011-05-02</td>\n    </tr>\n    <tr>\n      <th>282</th>\n      <td>21AWIC</td>\n      <td>State</td>\n      <td>AL</td>\n      <td>40207</td>\n      <td>TMDL</td>\n      <td>EPA Final Action</td>\n      <td>2011-05-02</td>\n      <td>AL03150201-0404-100</td>\n      <td>ESCHERICHIA COLI (E. COLI)</td>\n      <td>Both</td>\n      <td>441000000 CFU/DAY</td>\n      <td>N</td>\n      <td>IN NON-COASTAL WATERS, E. COLI ORGANISM DENSIT...</td>\n      <td>2011-05-02</td>\n    </tr>\n    <tr>\n      <th>283</th>\n      <td>21AWIC</td>\n      <td>State</td>\n      <td>AL</td>\n      <td>40208</td>\n      <td>TMDL</td>\n      <td>EPA Final Action</td>\n      <td>2011-05-02</td>\n      <td>AL03160110-0502-102</td>\n      <td>ESCHERICHIA COLI (E. COLI)</td>\n      <td>Both</td>\n      <td>774000000 CFU/DAY</td>\n      <td>N</td>\n      <td>IN NON-COASTAL WATERS, E. COLI ORGANISM DENSIT...</td>\n      <td>2011-05-02</td>\n    </tr>\n    <tr>\n      <th>284</th>\n      <td>21AWIC</td>\n      <td>State</td>\n      <td>AL</td>\n      <td>11313</td>\n      <td>TMDL</td>\n      <td>EPA Final Action</td>\n      <td>2005-04-12</td>\n      <td>AL/03160205-020-02</td>\n      <td>PATHOGENS</td>\n      <td>Both</td>\n      <td>NaN</td>\n      <td>NaN</td>\n      <td>OCTOBER-MAY:  GEOMETRIC MEAN OF 1000 COLONIES/...</td>\n      <td>2005-04-12</td>\n    </tr>\n    <tr>\n      <th>288</th>\n      <td>21AWIC</td>\n      <td>State</td>\n      <td>AL</td>\n      <td>1442</td>\n      <td>TMDL</td>\n      <td>EPA Final Action</td>\n      <td>1997-08-01</td>\n      <td>AL/03160109-050-01</td>\n      <td>NH3-N</td>\n      <td>Both</td>\n      <td>NaN</td>\n      <td>Y</td>\n      <td>NaN</td>\n      <td>1997-08-01</td>\n    </tr>\n    <tr>\n      <th>291</th>\n      <td>21AWIC</td>\n      <td>State</td>\n      <td>AL</td>\n      <td>1449</td>\n      <td>TMDL</td>\n      <td>EPA Final Action</td>\n      <td>1997-08-01</td>\n      <td>AL/03150107-090-01</td>\n      <td>CARBONACEOUS BOD</td>\n      <td>Both</td>\n      <td>NaN</td>\n      <td>Y</td>\n      <td>NaN</td>\n      <td>1997-08-01</td>\n    </tr>\n    <tr>\n      <th>297</th>\n      <td>21AWIC</td>\n      <td>State</td>\n      <td>AL</td>\n      <td>56201</td>\n      <td>TMDL</td>\n      <td>EPA Final Action</td>\n      <td>2014-01-02</td>\n      <td>AL03160201-0904-101</td>\n      <td>ESCHERICHIA COLI (E. COLI)</td>\n      <td>Both</td>\n      <td>NaN</td>\n      <td>NaN</td>\n      <td>Numeric State criteria.  E. coli not to exceed...</td>\n      <td>2014-01-02</td>\n    </tr>\n    <tr>\n      <th>299</th>\n      <td>21AWIC</td>\n      <td>State</td>\n      <td>AL</td>\n      <td>56200</td>\n      <td>TMDL</td>\n      <td>EPA Final Action</td>\n      <td>2014-01-02</td>\n      <td>AL03160204-0504-101</td>\n      <td>ESCHERICHIA COLI (E. COLI)</td>\n      <td>Both</td>\n      <td>NaN</td>\n      <td>NaN</td>\n      <td>Numeric State criteria.  Enterococci  not to e...</td>\n      <td>2014-01-02</td>\n    </tr>\n    <tr>\n      <th>305</th>\n      <td>21AWIC</td>\n      <td>State</td>\n      <td>AL</td>\n      <td>10789</td>\n      <td>TMDL</td>\n      <td>EPA Final Action</td>\n      <td>2003-09-30</td>\n      <td>AL/06030002-330-05</td>\n      <td>ORGANIC ENRICHMENT/LOW DISSOLVED OXYGEN</td>\n      <td>Both</td>\n      <td>NaN</td>\n      <td>NaN</td>\n      <td>VIOLATION OF NARRATIVE CRITERIA FOR NUTRIENTS ...</td>\n      <td>2003-09-30</td>\n    </tr>\n    <tr>\n      <th>455</th>\n      <td>21AWIC</td>\n      <td>State</td>\n      <td>AL</td>\n      <td>1420</td>\n      <td>TMDL</td>\n      <td>EPA Final Action</td>\n      <td>1997-08-01</td>\n      <td>AL/03160204-030-02</td>\n      <td>ORGANIC ENRICHMENT/LOW DISSOLVED OXYGEN</td>\n      <td>Both</td>\n      <td>NaN</td>\n      <td>Y</td>\n      <td>A DAILY AVERAGE DISSOLVED OXYGEN CONCENTRATION...</td>\n      <td>1997-08-01</td>\n    </tr>\n    <tr>\n      <th>461</th>\n      <td>21AWIC</td>\n      <td>State</td>\n      <td>AL</td>\n      <td>1550</td>\n      <td>TMDL</td>\n      <td>EPA Final Action</td>\n      <td>1997-08-01</td>\n      <td>AL/03150106-050-01</td>\n      <td>NH3-N</td>\n      <td>Both</td>\n      <td>NaN</td>\n      <td>Y</td>\n      <td>NaN</td>\n      <td>1997-08-01</td>\n    </tr>\n    <tr>\n      <th>465</th>\n      <td>21AWIC</td>\n      <td>State</td>\n      <td>AL</td>\n      <td>1683</td>\n      <td>TMDL</td>\n      <td>EPA Final Action</td>\n      <td>1997-08-01</td>\n      <td>AL/06030001-250-02</td>\n      <td>ORGANIC ENRICHMENT/LOW DISSOLVED OXYGEN</td>\n      <td>Point source</td>\n      <td>NaN</td>\n      <td>Y</td>\n      <td>A DAILY AVERAGE DISSOLVED OXYGEN CONCENTRATION...</td>\n      <td>1997-08-01</td>\n    </tr>\n    <tr>\n      <th>471</th>\n      <td>21AWIC</td>\n      <td>State</td>\n      <td>AL</td>\n      <td>1693</td>\n      <td>TMDL</td>\n      <td>EPA Final Action</td>\n      <td>1997-08-01</td>\n      <td>AL/03150107-050-01</td>\n      <td>ORGANIC ENRICHMENT/LOW DISSOLVED OXYGEN</td>\n      <td>Point source</td>\n      <td>NaN</td>\n      <td>Y</td>\n      <td>A DAILY AVERAGE DISSOLVED OXYGEN CONCENTRATION...</td>\n      <td>1997-08-01</td>\n    </tr>\n    <tr>\n      <th>477</th>\n      <td>21AWIC</td>\n      <td>State</td>\n      <td>AL</td>\n      <td>56222</td>\n      <td>TMDL</td>\n      <td>EPA Final Action</td>\n      <td>2014-01-02</td>\n      <td>AL03160205-0204-112</td>\n      <td>ESCHERICHIA COLI (E. COLI)</td>\n      <td>Both</td>\n      <td>NaN</td>\n      <td>NaN</td>\n      <td>Numeric State criteria.  E. coli not to exceed...</td>\n      <td>2014-01-02</td>\n    </tr>\n    <tr>\n      <th>479</th>\n      <td>21AWIC</td>\n      <td>State</td>\n      <td>AL</td>\n      <td>56220</td>\n      <td>TMDL</td>\n      <td>EPA Final Action</td>\n      <td>2014-01-02</td>\n      <td>AL03150202-0204-101</td>\n      <td>ESCHERICHIA COLI (E. COLI)</td>\n      <td>Both</td>\n      <td>NaN</td>\n      <td>NaN</td>\n      <td>Numeric State criteria.  E. coli not to exceed...</td>\n      <td>2014-01-02</td>\n    </tr>\n    <tr>\n      <th>485</th>\n      <td>21AWIC</td>\n      <td>State</td>\n      <td>AL</td>\n      <td>56223</td>\n      <td>TMDL</td>\n      <td>EPA Final Action</td>\n      <td>2014-01-02</td>\n      <td>AL03160105-0101-200</td>\n      <td>ESCHERICHIA COLI (E. COLI)</td>\n      <td>Both</td>\n      <td>NaN</td>\n      <td>NaN</td>\n      <td>Numeric state criteria.  E. coli not to exceed...</td>\n      <td>2014-01-02</td>\n    </tr>\n    <tr>\n      <th>487</th>\n      <td>21AWIC</td>\n      <td>State</td>\n      <td>AL</td>\n      <td>1437</td>\n      <td>TMDL</td>\n      <td>EPA Final Action</td>\n      <td>1997-08-01</td>\n      <td>AL-0003</td>\n      <td>ORGANIC ENRICHMENT/LOW DISSOLVED OXYGEN</td>\n      <td>Both</td>\n      <td>NaN</td>\n      <td>Y</td>\n      <td>A DAILY AVERAGE DISSOLVED OXYGEN CONCENTRATION...</td>\n      <td>1997-08-01</td>\n    </tr>\n    <tr>\n      <th>490</th>\n      <td>21AWIC</td>\n      <td>State</td>\n      <td>AL</td>\n      <td>4030</td>\n      <td>TMDL</td>\n      <td>EPA Final Action</td>\n      <td>2002-10-31</td>\n      <td>AL/03160109-020-02</td>\n      <td>AMMONIA</td>\n      <td>Nonpoint source</td>\n      <td>NaN</td>\n      <td>Y</td>\n      <td>THE CRITERIA FOR AMMONIA IS</td>\n      <td>2002-10-31</td>\n    </tr>\n    <tr>\n      <th>502</th>\n      <td>21AWIC</td>\n      <td>State</td>\n      <td>AL</td>\n      <td>4031</td>\n      <td>TMDL</td>\n      <td>EPA Final Action</td>\n      <td>2002-10-31</td>\n      <td>AL/06030002-410-01</td>\n      <td>NITROGENOUS BOD</td>\n      <td>Both</td>\n      <td>NaN</td>\n      <td>Y</td>\n      <td>NaN</td>\n      <td>2002-10-31</td>\n    </tr>\n    <tr>\n      <th>505</th>\n      <td>21AWIC</td>\n      <td>State</td>\n      <td>AL</td>\n      <td>4032</td>\n      <td>TMDL</td>\n      <td>EPA Final Action</td>\n      <td>2002-10-31</td>\n      <td>AL/03160110-080-01</td>\n      <td>NITROGENOUS BOD</td>\n      <td>Both</td>\n      <td>NaN</td>\n      <td>NaN</td>\n      <td>NaN</td>\n      <td>2002-10-31</td>\n    </tr>\n    <tr>\n      <th>507</th>\n      <td>21AWIC</td>\n      <td>State</td>\n      <td>AL</td>\n      <td>4033</td>\n      <td>TMDL</td>\n      <td>EPA Final Action</td>\n      <td>2002-10-31</td>\n      <td>AL/06030002-400-01</td>\n      <td>ORGANIC ENRICHMENT/LOW DISSOLVED OXYGEN</td>\n      <td>Nonpoint source</td>\n      <td>NaN</td>\n      <td>NaN</td>\n      <td>A DAILY AVERAGE CONCENTRATION OF 5 MG/L AND NO...</td>\n      <td>2002-10-31</td>\n    </tr>\n    <tr>\n      <th>513</th>\n      <td>21AWIC</td>\n      <td>State</td>\n      <td>AL</td>\n      <td>39505</td>\n      <td>TMDL</td>\n      <td>EPA Final Action</td>\n      <td>2010-12-21</td>\n      <td>AL03160205-0300-101</td>\n      <td>ENTEROCOCCUS BACTERIA</td>\n      <td>Both</td>\n      <td>NaN</td>\n      <td>NaN</td>\n      <td>NaN</td>\n      <td>2010-12-21</td>\n    </tr>\n    <tr>\n      <th>514</th>\n      <td>21AWIC</td>\n      <td>State</td>\n      <td>AL</td>\n      <td>54160</td>\n      <td>TMDL</td>\n      <td>EPA Final Action</td>\n      <td>2013-08-14</td>\n      <td>AL03150202-0204-101</td>\n      <td>TOTAL SUSPENDED SOLIDS (TSS)</td>\n      <td>Nonpoint source</td>\n      <td>NaN</td>\n      <td>NaN</td>\n      <td>In this TMDL document, the water quality stand...</td>\n      <td>2013-08-14</td>\n    </tr>\n    <tr>\n      <th>525</th>\n      <td>21AWIC</td>\n      <td>State</td>\n      <td>AL</td>\n      <td>4022</td>\n      <td>TMDL</td>\n      <td>EPA Final Action</td>\n      <td>2002-10-31</td>\n      <td>AL/06030002-070-01</td>\n      <td>ORGANIC ENRICHMENT/LOW DISSOLVED OXYGEN</td>\n      <td>Nonpoint source</td>\n      <td>NaN</td>\n      <td>Y</td>\n      <td>A DAILY AVERAGE CONCENTRATION OF 5 MG/L AND NO...</td>\n      <td>2002-10-31</td>\n    </tr>\n    <tr>\n      <th>528</th>\n      <td>21AWIC</td>\n      <td>State</td>\n      <td>AL</td>\n      <td>4023</td>\n      <td>TMDL</td>\n      <td>EPA Final Action</td>\n      <td>2002-10-31</td>\n      <td>AL/03160110-090-01</td>\n      <td>ORGANIC ENRICHMENT/LOW DISSOLVED OXYGEN</td>\n      <td>Both</td>\n      <td>NaN</td>\n      <td>NaN</td>\n      <td>A DAILY AVERAGE CONCENTRATION OF 5 MG/L AND NO...</td>\n      <td>2002-10-31</td>\n    </tr>\n    <tr>\n      <th>540</th>\n      <td>21AWIC</td>\n      <td>State</td>\n      <td>AL</td>\n      <td>4024</td>\n      <td>TMDL</td>\n      <td>EPA Final Action</td>\n      <td>2002-10-31</td>\n      <td>AL/03160109-020-01</td>\n      <td>CARBONACEOUS BOD</td>\n      <td>Both</td>\n      <td>NaN</td>\n      <td>NaN</td>\n      <td>NaN</td>\n      <td>2002-10-31</td>\n    </tr>\n    <tr>\n      <th>546</th>\n      <td>21AWIC</td>\n      <td>State</td>\n      <td>AL</td>\n      <td>4025</td>\n      <td>TMDL</td>\n      <td>EPA Final Action</td>\n      <td>2002-10-31</td>\n      <td>AL/03160111-050-01</td>\n      <td>NITROGENOUS BOD</td>\n      <td>Both</td>\n      <td>NaN</td>\n      <td>Y</td>\n      <td>NaN</td>\n      <td>2002-10-31</td>\n    </tr>\n    <tr>\n      <th>552</th>\n      <td>21AWIC</td>\n      <td>State</td>\n      <td>AL</td>\n      <td>4026</td>\n      <td>TMDL</td>\n      <td>EPA Final Action</td>\n      <td>2002-10-31</td>\n      <td>AL/06030006-040_02</td>\n      <td>NITROGENOUS BOD</td>\n      <td>Both</td>\n      <td>NaN</td>\n      <td>Y</td>\n      <td>NaN</td>\n      <td>2002-10-31</td>\n    </tr>\n    <tr>\n      <th>555</th>\n      <td>21AWIC</td>\n      <td>State</td>\n      <td>AL</td>\n      <td>2021al03140202</td>\n      <td>TMDL</td>\n      <td>EPA Final Action</td>\n      <td>2021-07-26</td>\n      <td>AL03140202-0505-100</td>\n      <td>ESCHERICHIA COLI (E. COLI)</td>\n      <td>Both</td>\n      <td>NaN</td>\n      <td>NaN</td>\n      <td>NaN</td>\n      <td>2021-08-23</td>\n    </tr>\n    <tr>\n      <th>556</th>\n      <td>21AWIC</td>\n      <td>State</td>\n      <td>AL</td>\n      <td>4027</td>\n      <td>TMDL</td>\n      <td>EPA Final Action</td>\n      <td>2002-10-31</td>\n      <td>AL/06030002-250-02</td>\n      <td>CARBONACEOUS BOD</td>\n      <td>Both</td>\n      <td>NaN</td>\n      <td>NaN</td>\n      <td>NaN</td>\n      <td>2002-10-31</td>\n    </tr>\n    <tr>\n      <th>559</th>\n      <td>21AWIC</td>\n      <td>State</td>\n      <td>AL</td>\n      <td>4028</td>\n      <td>TMDL</td>\n      <td>EPA Final Action</td>\n      <td>2002-10-31</td>\n      <td>AL/06030002-100_01</td>\n      <td>CARBONACEOUS BOD</td>\n      <td>Both</td>\n      <td>NaN</td>\n      <td>NaN</td>\n      <td>NaN</td>\n      <td>2002-10-31</td>\n    </tr>\n    <tr>\n      <th>562</th>\n      <td>21AWIC</td>\n      <td>State</td>\n      <td>AL</td>\n      <td>4040</td>\n      <td>TMDL</td>\n      <td>EPA Final Action</td>\n      <td>2003-01-30</td>\n      <td>AL/03160109-020-02</td>\n      <td>PATHOGENS</td>\n      <td>Nonpoint source</td>\n      <td>NaN</td>\n      <td>NaN</td>\n      <td>30 DAY PERIOD GEOMETRIC MEAN FOR FECAL COLIFOR...</td>\n      <td>2003-01-30</td>\n    </tr>\n    <tr>\n      <th>564</th>\n      <td>21AWIC</td>\n      <td>State</td>\n      <td>AL</td>\n      <td>4041</td>\n      <td>TMDL</td>\n      <td>EPA Final Action</td>\n      <td>2003-01-30</td>\n      <td>AL/03160110-080-01</td>\n      <td>PATHOGENS</td>\n      <td>Both</td>\n      <td>NaN</td>\n      <td>NaN</td>\n      <td>30 DAY PERIOD GEOMETRIC MEAN FOR FECAL COLIFOR...</td>\n      <td>2003-01-30</td>\n    </tr>\n    <tr>\n      <th>566</th>\n      <td>21AWIC</td>\n      <td>State</td>\n      <td>AL</td>\n      <td>4042</td>\n      <td>TMDL</td>\n      <td>EPA Final Action</td>\n      <td>2003-01-30</td>\n      <td>AL/03160109-080-01</td>\n      <td>PATHOGENS</td>\n      <td>Nonpoint source</td>\n      <td>NaN</td>\n      <td>NaN</td>\n      <td>30 DAY PERIOD GEOMETRIC MEAN FOR FECAL COLIFOR...</td>\n      <td>2003-01-30</td>\n    </tr>\n    <tr>\n      <th>568</th>\n      <td>21AWIC</td>\n      <td>State</td>\n      <td>AL</td>\n      <td>4043</td>\n      <td>TMDL</td>\n      <td>EPA Final Action</td>\n      <td>2003-10-29</td>\n      <td>AL/03150202-170-01</td>\n      <td>PATHOGENS</td>\n      <td>Nonpoint source</td>\n      <td>NaN</td>\n      <td>NaN</td>\n      <td>30 DAY PERIOD GEOMETRIC MEAN FOR FECAL COLIFOR...</td>\n      <td>2003-10-29</td>\n    </tr>\n    <tr>\n      <th>570</th>\n      <td>21AWIC</td>\n      <td>State</td>\n      <td>AL</td>\n      <td>4034</td>\n      <td>TMDL</td>\n      <td>EPA Final Action</td>\n      <td>2002-10-31</td>\n      <td>AL/06030001-270-01</td>\n      <td>AMMONIA</td>\n      <td>Both</td>\n      <td>NaN</td>\n      <td>Y</td>\n      <td>THE CRITERIA FOR AMMONIA IS 2.48 MG/L.</td>\n      <td>2002-10-31</td>\n    </tr>\n    <tr>\n      <th>582</th>\n      <td>21AWIC</td>\n      <td>State</td>\n      <td>AL</td>\n      <td>4035</td>\n      <td>TMDL</td>\n      <td>EPA Final Action</td>\n      <td>2002-10-31</td>\n      <td>AL/06030001-270-01</td>\n      <td>PATHOGENS</td>\n      <td>Both</td>\n      <td>NaN</td>\n      <td>NaN</td>\n      <td>30 DAY GEOMETRIC MEAN FOR FECAL COLIFIRM SHALL...</td>\n      <td>2002-10-31</td>\n    </tr>\n    <tr>\n      <th>584</th>\n      <td>21AWIC</td>\n      <td>State</td>\n      <td>AL</td>\n      <td>4036</td>\n      <td>TMDL</td>\n      <td>EPA Final Action</td>\n      <td>2002-10-31</td>\n      <td>AL/06030002-390-01</td>\n      <td>CARBONACEOUS BOD</td>\n      <td>Both</td>\n      <td>NaN</td>\n      <td>NaN</td>\n      <td>NaN</td>\n      <td>2002-10-31</td>\n    </tr>\n    <tr>\n      <th>590</th>\n      <td>21AWIC</td>\n      <td>State</td>\n      <td>AL</td>\n      <td>4037</td>\n      <td>TMDL</td>\n      <td>EPA Final Action</td>\n      <td>2007-01-28</td>\n      <td>AL/TALLAPOOSA R_01</td>\n      <td>ORGANIC ENRICHMENT/LOW DISSOLVED OXYGEN</td>\n      <td>Both</td>\n      <td>NaN</td>\n      <td>NaN</td>\n      <td>A DAILY AVERAGE CONCENTRATION OF 5 MG/L AND NO...</td>\n      <td>2007-01-28</td>\n    </tr>\n    <tr>\n      <th>593</th>\n      <td>21AWIC</td>\n      <td>State</td>\n      <td>AL</td>\n      <td>4038</td>\n      <td>TMDL</td>\n      <td>EPA Final Action</td>\n      <td>2002-10-31</td>\n      <td>AL/03160109-080-01</td>\n      <td>ORGANIC ENRICHMENT/LOW DISSOLVED OXYGEN</td>\n      <td>Nonpoint source</td>\n      <td>NaN</td>\n      <td>NaN</td>\n      <td>A DAILY AVERAGE CONCENTRATION OF 5 MG/L AND NO...</td>\n      <td>2002-10-31</td>\n    </tr>\n    <tr>\n      <th>605</th>\n      <td>21AWIC</td>\n      <td>State</td>\n      <td>AL</td>\n      <td>4039</td>\n      <td>TMDL</td>\n      <td>EPA Final Action</td>\n      <td>2003-01-30</td>\n      <td>AL/03160110-090-01</td>\n      <td>PATHOGENS</td>\n      <td>Both</td>\n      <td>NaN</td>\n      <td>NaN</td>\n      <td>30 DAY PERIOD GEOMETRIC MEAN FOR FECAL COLIFOR...</td>\n      <td>2003-01-30</td>\n    </tr>\n    <tr>\n      <th>607</th>\n      <td>21AWIC</td>\n      <td>State</td>\n      <td>AL</td>\n      <td>4020</td>\n      <td>TMDL</td>\n      <td>EPA Final Action</td>\n      <td>2002-10-31</td>\n      <td>AL/06030002-220-01</td>\n      <td>NITROGENOUS BOD</td>\n      <td>Both</td>\n      <td>NaN</td>\n      <td>NaN</td>\n      <td>NaN</td>\n      <td>2002-10-31</td>\n    </tr>\n    <tr>\n      <th>613</th>\n      <td>21AWIC</td>\n      <td>State</td>\n      <td>AL</td>\n      <td>4021</td>\n      <td>TMDL</td>\n      <td>EPA Final Action</td>\n      <td>2002-10-31</td>\n      <td>AL/06030002-190-01</td>\n      <td>ORGANIC ENRICHMENT/LOW DISSOLVED OXYGEN</td>\n      <td>Nonpoint source</td>\n      <td>NaN</td>\n      <td>NaN</td>\n      <td>A DAILY AVERAGE DISSOLVED OXYGEN CONCENTRATION...</td>\n      <td>2002-10-31</td>\n    </tr>\n    <tr>\n      <th>619</th>\n      <td>21AWIC</td>\n      <td>State</td>\n      <td>AL</td>\n      <td>4018</td>\n      <td>TMDL</td>\n      <td>EPA Final Action</td>\n      <td>2002-10-31</td>\n      <td>AL/06030005-010-01</td>\n      <td>PESTICIDES</td>\n      <td>Nonpoint source</td>\n      <td>NaN</td>\n      <td>NaN</td>\n      <td>THE CRITERIA FOR METHYL PARATHION IS 0.222 PPB.</td>\n      <td>2002-10-31</td>\n    </tr>\n    <tr>\n      <th>627</th>\n      <td>21AWIC</td>\n      <td>State</td>\n      <td>AL</td>\n      <td>4015</td>\n      <td>TMDL</td>\n      <td>EPA Final Action</td>\n      <td>2002-10-31</td>\n      <td>AL/06030002-230-01</td>\n      <td>CARBONACEOUS BOD</td>\n      <td>Both</td>\n      <td>NaN</td>\n      <td>NaN</td>\n      <td>NaN</td>\n      <td>2002-10-31</td>\n    </tr>\n    <tr>\n      <th>633</th>\n      <td>21AWIC</td>\n      <td>State</td>\n      <td>AL</td>\n      <td>4016</td>\n      <td>TMDL</td>\n      <td>EPA Final Action</td>\n      <td>2002-10-31</td>\n      <td>AL/06030005-010-01</td>\n      <td>ORGANIC ENRICHMENT/LOW DISSOLVED OXYGEN</td>\n      <td>Both</td>\n      <td>NaN</td>\n      <td>NaN</td>\n      <td>A DAILY AVERAGE DISSOLVED OXYGEN CONCENTRATION...</td>\n      <td>2002-10-31</td>\n    </tr>\n    <tr>\n      <th>645</th>\n      <td>21AWIC</td>\n      <td>State</td>\n      <td>AL</td>\n      <td>4017</td>\n      <td>TMDL</td>\n      <td>EPA Final Action</td>\n      <td>2002-10-31</td>\n      <td>AL/06030005-010-01</td>\n      <td>PATHOGENS</td>\n      <td>Both</td>\n      <td>NaN</td>\n      <td>NaN</td>\n      <td>30 DAY GEOMETRIC MEAN FOR FECAL COLIFORM SHALL...</td>\n      <td>2002-10-31</td>\n    </tr>\n    <tr>\n      <th>647</th>\n      <td>21AWIC</td>\n      <td>State</td>\n      <td>AL</td>\n      <td>33887</td>\n      <td>TMDL</td>\n      <td>EPA Final Action</td>\n      <td>2008-02-07</td>\n      <td>AL03170008-0205-102</td>\n      <td>PHOSPHORUS, TOTAL</td>\n      <td>Nonpoint source</td>\n      <td>NaN</td>\n      <td>Y</td>\n      <td>LOADS CALCULATED TO ACHIEVE GROWING SEASON MED...</td>\n      <td>2008-02-07</td>\n    </tr>\n    <tr>\n      <th>649</th>\n      <td>21AWIC</td>\n      <td>State</td>\n      <td>AL</td>\n      <td>40839</td>\n      <td>TMDL</td>\n      <td>EPA Final Action</td>\n      <td>2011-09-16</td>\n      <td>AL03150110-0603-102</td>\n      <td>ESCHERICHIA COLI (E. COLI)</td>\n      <td>Nonpoint source</td>\n      <td>NaN</td>\n      <td>N</td>\n      <td>IN NON-COASTAL WATERS, E. COLI ORGANISM DENSIT...</td>\n      <td>2011-09-16</td>\n    </tr>\n    <tr>\n      <th>651</th>\n      <td>21AWIC</td>\n      <td>State</td>\n      <td>AL</td>\n      <td>40961</td>\n      <td>TMDL</td>\n      <td>EPA Final Action</td>\n      <td>2011-09-29</td>\n      <td>AL03150105-0807-102</td>\n      <td>ESCHERICHIA COLI (E. COLI)</td>\n      <td>Nonpoint source</td>\n      <td>NaN</td>\n      <td>N</td>\n      <td>IN NON-COASTAL WATERS, E. COLI ORGANISM DENSIT...</td>\n      <td>2011-09-29</td>\n    </tr>\n    <tr>\n      <th>655</th>\n      <td>21AWIC</td>\n      <td>State</td>\n      <td>AL</td>\n      <td>40962</td>\n      <td>TMDL</td>\n      <td>EPA Final Action</td>\n      <td>2011-09-29</td>\n      <td>AL03150203-0802-400</td>\n      <td>ESCHERICHIA COLI (E. COLI)</td>\n      <td>Both</td>\n      <td>NaN</td>\n      <td>N</td>\n      <td>IN NON-COASTAL WATERS, E. COLI ORGANISM DENSIT...</td>\n      <td>2011-09-29</td>\n    </tr>\n    <tr>\n      <th>657</th>\n      <td>21AWIC</td>\n      <td>State</td>\n      <td>AL</td>\n      <td>40960</td>\n      <td>TMDL</td>\n      <td>EPA Final Action</td>\n      <td>2011-09-29</td>\n      <td>AL03150203-0802-100</td>\n      <td>ESCHERICHIA COLI (E. COLI)</td>\n      <td>Nonpoint source</td>\n      <td>NaN</td>\n      <td>N</td>\n      <td>IN NON-COASTAL WATERS, E. COLI ORGANISM DENSIT...</td>\n      <td>2011-09-29</td>\n    </tr>\n    <tr>\n      <th>659</th>\n      <td>21AWIC</td>\n      <td>State</td>\n      <td>AL</td>\n      <td>11070</td>\n      <td>TMDL</td>\n      <td>EPA Final Action</td>\n      <td>2004-11-01</td>\n      <td>AL/03150202-060-01</td>\n      <td>OTHER HABITAT ALTERATION(S)</td>\n      <td>Both</td>\n      <td>NaN</td>\n      <td>Y</td>\n      <td>STATE WATERS SHALL BE FREE FROM SUBSTANCES ATT...</td>\n      <td>2004-11-01</td>\n    </tr>\n    <tr>\n      <th>671</th>\n      <td>21AWIC</td>\n      <td>State</td>\n      <td>AL</td>\n      <td>11071</td>\n      <td>TMDL</td>\n      <td>EPA Final Action</td>\n      <td>2008-10-21</td>\n      <td>AL/03150105-1001-103</td>\n      <td>PHOSPHORUS, TOTAL</td>\n      <td>Both</td>\n      <td>NaN</td>\n      <td>Y</td>\n      <td>NaN</td>\n      <td>2008-10-21</td>\n    </tr>\n    <tr>\n      <th>674</th>\n      <td>21AWIC</td>\n      <td>State</td>\n      <td>AL</td>\n      <td>67686</td>\n      <td>TMDL</td>\n      <td>EPA Final Action</td>\n      <td>2017-08-01</td>\n      <td>AL03150108-0905-103</td>\n      <td>ESCHERICHIA COLI (E. COLI)</td>\n      <td>Nonpoint source</td>\n      <td>NaN</td>\n      <td>NaN</td>\n      <td>1.04 E+12 colonies per day for single samples\\...</td>\n      <td>2017-08-01</td>\n    </tr>\n    <tr>\n      <th>676</th>\n      <td>21AWIC</td>\n      <td>State</td>\n      <td>AL</td>\n      <td>11066</td>\n      <td>TMDL</td>\n      <td>EPA Final Action</td>\n      <td>2004-12-13</td>\n      <td>AL/06030002-210-01</td>\n      <td>NITROGENOUS BOD</td>\n      <td>Both</td>\n      <td>NaN</td>\n      <td>NaN</td>\n      <td>NaN</td>\n      <td>2004-12-13</td>\n    </tr>\n    <tr>\n      <th>679</th>\n      <td>21AWIC</td>\n      <td>State</td>\n      <td>AL</td>\n      <td>11068</td>\n      <td>TMDL</td>\n      <td>EPA Final Action</td>\n      <td>2004-11-01</td>\n      <td>AL/WEISS RES_01</td>\n      <td>PRIORITY ORGANICS - PCBS</td>\n      <td>Point source</td>\n      <td>NaN</td>\n      <td>NaN</td>\n      <td>NaN</td>\n      <td>2004-11-01</td>\n    </tr>\n    <tr>\n      <th>681</th>\n      <td>21AWIC</td>\n      <td>State</td>\n      <td>AL</td>\n      <td>10964</td>\n      <td>TMDL</td>\n      <td>EPA Final Action</td>\n      <td>2004-10-29</td>\n      <td>AL/03160204-050-01</td>\n      <td>FECAL COLIFORM</td>\n      <td>Both</td>\n      <td>NaN</td>\n      <td>NaN</td>\n      <td>NaN</td>\n      <td>2004-10-29</td>\n    </tr>\n    <tr>\n      <th>685</th>\n      <td>21AWIC</td>\n      <td>State</td>\n      <td>AL</td>\n      <td>66256</td>\n      <td>TMDL</td>\n      <td>EPA Final Action</td>\n      <td>2016-09-16</td>\n      <td>AL03160109-0404-500</td>\n      <td>PH</td>\n      <td>Nonpoint source</td>\n      <td>NaN</td>\n      <td>NaN</td>\n      <td>pH should not be less than 6.0 SU or greater t...</td>\n      <td>2016-09-16</td>\n    </tr>\n    <tr>\n      <th>695</th>\n      <td>21AWIC</td>\n      <td>State</td>\n      <td>AL</td>\n      <td>66257</td>\n      <td>TMDL</td>\n      <td>EPA Final Action</td>\n      <td>2016-09-16</td>\n      <td>AL03140303-0201-101</td>\n      <td>ESCHERICHIA COLI (E. COLI)</td>\n      <td>Both</td>\n      <td>NaN</td>\n      <td>NaN</td>\n      <td>The concentration of the E. Coli group shall n...</td>\n      <td>2016-09-16</td>\n    </tr>\n    <tr>\n      <th>696</th>\n      <td>21AWIC</td>\n      <td>State</td>\n      <td>AL</td>\n      <td>11059</td>\n      <td>TMDL</td>\n      <td>EPA Final Action</td>\n      <td>2004-12-13</td>\n      <td>AL/06030002-210_02</td>\n      <td>NITROGENOUS BOD</td>\n      <td>Both</td>\n      <td>NaN</td>\n      <td>NaN</td>\n      <td>NaN</td>\n      <td>2004-12-13</td>\n    </tr>\n    <tr>\n      <th>699</th>\n      <td>21AWIC</td>\n      <td>State</td>\n      <td>AL</td>\n      <td>40853</td>\n      <td>TMDL</td>\n      <td>EPA Final Action</td>\n      <td>2011-09-29</td>\n      <td>AL03150202-0103-300</td>\n      <td>ESCHERICHIA COLI (E. COLI)</td>\n      <td>Point source</td>\n      <td>NaN</td>\n      <td>N</td>\n      <td>IN NON-COASTAL WATERS, E. COLI ORGANISM DENSIT...</td>\n      <td>2011-09-29</td>\n    </tr>\n    <tr>\n      <th>702</th>\n      <td>21AWIC</td>\n      <td>State</td>\n      <td>AL</td>\n      <td>64824</td>\n      <td>TMDL</td>\n      <td>EPA Final Action</td>\n      <td>2015-10-05</td>\n      <td>AL03160205-0300-501</td>\n      <td>ENTEROCOCCUS BACTERIA</td>\n      <td>Both</td>\n      <td>10</td>\n      <td>NaN</td>\n      <td>Water Quality Standard for beaches  geometric ...</td>\n      <td>2015-10-05</td>\n    </tr>\n    <tr>\n      <th>703</th>\n      <td>21AWIC</td>\n      <td>State</td>\n      <td>AL</td>\n      <td>64823</td>\n      <td>TMDL</td>\n      <td>EPA Final Action</td>\n      <td>2015-10-05</td>\n      <td>AL03160111-0408-103</td>\n      <td>ESCHERICHIA COLI (E. COLI)</td>\n      <td>Both</td>\n      <td>23500000000</td>\n      <td>NaN</td>\n      <td>Instream water quality standard 548 colonies p...</td>\n      <td>2015-10-05</td>\n    </tr>\n    <tr>\n      <th>707</th>\n      <td>21AWIC</td>\n      <td>State</td>\n      <td>AL</td>\n      <td>11058</td>\n      <td>TMDL</td>\n      <td>EPA Final Action</td>\n      <td>2004-12-13</td>\n      <td>AL/03170008-090_03</td>\n      <td>FECAL COLIFORM</td>\n      <td>Both</td>\n      <td>NaN</td>\n      <td>N</td>\n      <td>NaN</td>\n      <td>2004-12-13</td>\n    </tr>\n    <tr>\n      <th>708</th>\n      <td>21AWIC</td>\n      <td>State</td>\n      <td>AL</td>\n      <td>11050</td>\n      <td>TMDL</td>\n      <td>EPA Final Action</td>\n      <td>2004-11-01</td>\n      <td>AL/03160112-120-03</td>\n      <td>IRON</td>\n      <td>Both</td>\n      <td>NaN</td>\n      <td>NaN</td>\n      <td>NaN</td>\n      <td>2004-11-01</td>\n    </tr>\n    <tr>\n      <th>746</th>\n      <td>21AWIC</td>\n      <td>State</td>\n      <td>AL</td>\n      <td>AL03150107-0405-100_Pathogens_2020</td>\n      <td>TMDL</td>\n      <td>EPA Final Action</td>\n      <td>2020-07-20</td>\n      <td>AL03150107-0405-100</td>\n      <td>ESCHERICHIA COLI (E. COLI)</td>\n      <td>Both</td>\n      <td>NaN</td>\n      <td>NaN</td>\n      <td>NaN</td>\n      <td>2020-08-11</td>\n    </tr>\n    <tr>\n      <th>747</th>\n      <td>21AWIC</td>\n      <td>State</td>\n      <td>AL</td>\n      <td>10764</td>\n      <td>TMDL</td>\n      <td>EPA Final Action</td>\n      <td>2003-10-29</td>\n      <td>AL/03150202-060_03</td>\n      <td>FECAL COLIFORM</td>\n      <td>Both</td>\n      <td>NaN</td>\n      <td>NaN</td>\n      <td>NaN</td>\n      <td>2003-10-29</td>\n    </tr>\n    <tr>\n      <th>754</th>\n      <td>21AWIC</td>\n      <td>State</td>\n      <td>AL</td>\n      <td>1497</td>\n      <td>TMDL</td>\n      <td>EPA Final Action</td>\n      <td>1997-08-01</td>\n      <td>AL/03160109-040-01</td>\n      <td>AMMONIA</td>\n      <td>Both</td>\n      <td>NaN</td>\n      <td>Y</td>\n      <td>A DAILY AVERAGE DISSOLVED OXYGEN CONCENTRATION...</td>\n      <td>1997-08-01</td>\n    </tr>\n    <tr>\n      <th>762</th>\n      <td>21AWIC</td>\n      <td>State</td>\n      <td>AL</td>\n      <td>10733</td>\n      <td>TMDL</td>\n      <td>EPA Final Action</td>\n      <td>2003-10-20</td>\n      <td>AL/06030002-220-01</td>\n      <td>SILTATION</td>\n      <td>Both</td>\n      <td>NaN</td>\n      <td>NaN</td>\n      <td>NARRATIVE CRITERIA FOR STREAMS CLASSIFIED AS F...</td>\n      <td>2003-10-20</td>\n    </tr>\n    <tr>\n      <th>805</th>\n      <td>21AWIC</td>\n      <td>State</td>\n      <td>AL</td>\n      <td>40958</td>\n      <td>TMDL</td>\n      <td>EPA Final Action</td>\n      <td>2011-09-29</td>\n      <td>AL03150110-0202-200</td>\n      <td>ESCHERICHIA COLI (E. COLI)</td>\n      <td>Both</td>\n      <td>NaN</td>\n      <td>N</td>\n      <td>IN NON-COASTAL WATERS, E. COLI ORGANISM DENSIT...</td>\n      <td>2011-09-29</td>\n    </tr>\n  </tbody>\n</table>\n</div>"
     },
     "execution_count": 131,
     "metadata": {},
     "output_type": "execute_result"
    }
   ],
   "source": [
    "all_actions.drop_duplicates('actionIdentifier')[all_actions.drop_duplicates('actionIdentifier')['state_code']=='AL']"
   ],
   "metadata": {
    "collapsed": false,
    "pycharm": {
     "name": "#%%\n"
    }
   }
  },
  {
   "cell_type": "code",
   "execution_count": null,
   "outputs": [],
   "source": [],
   "metadata": {
    "collapsed": false,
    "pycharm": {
     "name": "#%%\n"
    }
   }
  }
 ],
 "metadata": {
  "kernelspec": {
   "display_name": "Python 3",
   "language": "python",
   "name": "python3"
  },
  "language_info": {
   "codemirror_mode": {
    "name": "ipython",
    "version": 2
   },
   "file_extension": ".py",
   "mimetype": "text/x-python",
   "name": "python",
   "nbconvert_exporter": "python",
   "pygments_lexer": "ipython2",
   "version": "2.7.6"
  }
 },
 "nbformat": 4,
 "nbformat_minor": 0
}