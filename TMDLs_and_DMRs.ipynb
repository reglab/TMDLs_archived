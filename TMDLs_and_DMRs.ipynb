{
 "cells": [
  {
   "cell_type": "markdown",
   "source": [
    "# TMDLs and DMRs\n",
    "### Goal: understand the effect of TMDL on DMR values\n",
    "Author: Ryan Treves"
   ],
   "metadata": {
    "collapsed": false,
    "pycharm": {
     "name": "#%% md\n"
    }
   }
  },
  {
   "cell_type": "code",
   "execution_count": 49,
   "outputs": [],
   "source": [
    "# Imports\n",
    "import pandas as pd\n",
    "import matplotlib.pyplot as plt\n",
    "import numpy as np\n",
    "import seaborn as sns\n",
    "import warnings\n",
    "import scipy.stats as ss\n",
    "\n",
    "# Suppress warning messages\n",
    "warnings.filterwarnings('ignore')\n",
    "pd.options.display.max_columns = 200\n",
    "pd.options.display.max_rows = 2000\n",
    "# display all rows & columns\n",
    "pd.set_option('display.max_columns', None)\n",
    "pd.set_option('display.max_rows', None)"
   ],
   "metadata": {
    "collapsed": false,
    "pycharm": {
     "name": "#%%\n"
    }
   }
  },
  {
   "cell_type": "code",
   "execution_count": 50,
   "outputs": [],
   "source": [
    "# Load ATTAINS data\n",
    "AUs = pd.read_csv('all_AUs.csv')\n",
    "assessments = pd.read_csv('all_NotSupporting_assessments.csv', dtype={'reportingCycleText': str}, parse_dates=['assessment_date'], date_parser=lambda t: pd.to_datetime(t, errors='coerce'))\n",
    "tmdls = pd.read_csv('all_actions.csv', parse_dates=['completionDate', 'TMDLDate'], date_parser=lambda t: pd.to_datetime(t, errors='coerce')).drop('Unnamed: 0', axis=1).rename(columns={'assessmentUnitIdentifier':'AUID'})\n",
    "\n",
    "# Load RAD Data\n",
    "# HUC AUID link table (source: `get_huc_AUID_links.R`)\n",
    "HUC_AUID_links = pd.read_csv('huc_AUID_links.csv', dtype={'attributes.huc12': object})\n",
    "HUC_AUID_links = HUC_AUID_links.drop('Unnamed: 0', axis=1).rename(columns={'attributes.huc12': 'HUC-12', 'attributes.assessmentunitidentifier':'AUID'})\n",
    "# HUC NPDES permit link table (source: `get_huc_npdes_permit_links.R`)\n",
    "HUC_npdes_permit_links = pd.read_csv('huc_npdes_permit_links.csv', dtype={'attributes.WBD_HUC12': object})\n",
    "HUC_npdes_permit_links = HUC_npdes_permit_links.drop('Unnamed: 0', axis=1).rename(columns={'attributes.WBD_HUC12': 'HUC-12'})\n",
    "huc_AUID_links = pd.read_csv('huc_AUID_links.csv', dtype={'attributes.huc12': object}).rename(columns={'attributes.assessmentunitidentifier':'AUID', 'attributes.huc12': 'HUC-12'})"
   ],
   "metadata": {
    "collapsed": false,
    "pycharm": {
     "name": "#%%\n"
    }
   }
  },
  {
   "cell_type": "markdown",
   "source": [
    "Let's start with just one state: Texas"
   ],
   "metadata": {
    "collapsed": false,
    "pycharm": {
     "name": "#%% md\n"
    }
   }
  },
  {
   "cell_type": "code",
   "execution_count": 3,
   "outputs": [],
   "source": [
    "# Load TX DMR Data\n",
    "TX_dmrs = pd.read_csv('TX_dmrs.csv', dtype={'dmr_value_standard_units': float,\n",
    "                              'parameter_code': object},\n",
    "                       parse_dates=['monitoring_period_end_date'],\n",
    "                       date_parser=lambda t: pd.to_datetime(t, errors='coerce'))\n",
    "\n",
    "# Load permit data and subset to just TX, and permits with valid issue dates\n",
    "permit_data = pd.read_csv('permit_data.csv', parse_dates=['effective_date', 'issue_date', 'original_effective_date', 'original_issue_date', 'expiration_date', 'retirement_date', 'termination_date'], date_parser=lambda t: pd.to_datetime(t, errors='coerce'))\n",
    "TX_permit_data = permit_data[permit_data['permit_state']=='TX'].dropna(subset='issue_date')\n",
    "del permit_data\n",
    "\n",
    "# Merge with permit_data to get permit issuance date\n",
    "TX_dmrs = TX_dmrs.merge(TX_permit_data, on=['npdes_permit_id', 'version_nmbr'], how='left')\n",
    "del TX_permit_data"
   ],
   "metadata": {
    "collapsed": false,
    "pycharm": {
     "name": "#%%\n"
    }
   }
  },
  {
   "cell_type": "code",
   "execution_count": 4,
   "outputs": [],
   "source": [
    "# Subset to TX and delete large tmdl table to save memory\n",
    "TX_tmdls = tmdls[tmdls['state_code']=='TX']\n",
    "del tmdls"
   ],
   "metadata": {
    "collapsed": false,
    "pycharm": {
     "name": "#%%\n"
    }
   }
  },
  {
   "cell_type": "code",
   "execution_count": 69,
   "outputs": [],
   "source": [
    "# Link TMDLs to HUC-12 codes to NPDES permittees\n",
    "TX_tmdls_merged = TX_tmdls.drop_duplicates().merge(HUC_AUID_links, on='AUID', how='inner').merge(HUC_npdes_permit_links, on='HUC-12', how='inner')\n",
    "del HUC_AUID_links\n",
    "del HUC_npdes_permit_links\n",
    "\n",
    "# Filter down to TMDLs that are classified as point source\n",
    "TX_tmdls_merged = TX_tmdls_merged[TX_tmdls_merged['pollutantSourceTypeCode'] =='Point source']"
   ],
   "metadata": {
    "collapsed": false,
    "pycharm": {
     "name": "#%%\n"
    }
   }
  },
  {
   "cell_type": "markdown",
   "source": [
    "Now we need to merge DMRs with TMDLs on NPDES permit ID and pollutant."
   ],
   "metadata": {
    "collapsed": false,
    "pycharm": {
     "name": "#%% md\n"
    }
   }
  },
  {
   "cell_type": "code",
   "execution_count": 71,
   "outputs": [],
   "source": [
    "# Dictionary linking `pollutantName` from ATTAINS to one or more values of `parameter_desc` from ICIS-NPDES. Note: there is definitely some uncertainty involved in this linkage due to my lack of expertise in water chemistry (e.g., are there point-source parameters not related to BOD that may still contribute to water body impairment caused by BOD?).\n",
    "# Copied matching parameters from the list of values of `parameter_desc` in DMR Data dictionary, minus those indicating '% removed'. Keys are names of pollutants from the list of all point-source TMDLs.\n",
    "pollutant_parameter_link_dict = {'ESCHERICHIA COLI (E. COLI)':['E. coli', 'E. coli exceedances', 'E. coli, colony forming units [CFU]', 'E. coli, MTEC-MF', 'E. coli, thermotol, MF, MTEC'],\n",
    "                             'ENTEROCOCCUS BACTERIA': ['Enterococci Enterococci - % of upper confidence limit', 'Enterococci - % samples exceeding limit', 'Enterococci: group D, MF trans, M-E, EIA'],\n",
    "\n",
    "                             'FECAL COLIFORM': ['Fecal coliform', 'Fecal coliform in sludge, CFU/gram', 'Fecal coliform, MPN, EC med, 44.5 C'],\n",
    "\n",
    "                             'SELENIUM': ['Selenium, acid soluble', 'Selenium, dissolved [as Se]', 'Selenium, dry weight', 'Selenium, potentially dissolvd', 'Selenium, sludge solid', 'Selenium, sludge, total, dry weight [as Se]', 'Selenium, total [as Se]', 'Selenium, total recoverable'],\n",
    "\n",
    "                             'BIOCHEMICAL OXYGEN DEMAND (BOD)':['Non-nitrogenous BOD', 'Carbonaceous BOD, 5 day, 20 deg C filtrd', 'BOD','BOD 5-Day [lbs/1000 lbs Product]','BOD excursions','BOD, [ult. 1st stage]','BOD, [ult. 2nd stage]','BOD, [ult. all stages]','BOD, % over influent','BOD, 11-day [20 deg. C]','BOD, 120 Day, 20 Degrees C','BOD, 20-day [20 deg. C]','BOD, 20-day, percent removal','BOD, 35-day [20 deg. C]','BOD, 5 day carbonaceous, % rmvl, dry','BOD, 5 day carbonaceous, % rmvl, wet','BOD, 5 day percent removal, dry','BOD, 5 day percent removal, wet','BOD, 5 lb/cu ft process','BOD, 5-day','BOD, 5-day, 20 deg C per cfs of streamflw','BOD, 5-day, 20 deg. C','BOD, 5-day, 20 deg. C','BOD, 5-day, 20 deg. C','BOD, 5-day, 20 deg. C [per season]','BOD, 5-day, 20 deg. C per production','BOD, 5-day, dissolved','BOD, 5-day, percent removal','BOD, 5-day, total','BOD, carb-5 day, 20 deg C, percent removal','BOD, carbonaceous [20 day, 20 C]','BOD, carbonaceous [25-day, 20 C]','BOD, carbonaceous [28 day, 20 C]','BOD, carbonaceous [40 day, 20 C]','BOD, carbonaceous [5 day, 20 C]','BOD, carbonaceous [5 day, 20 C][load]','BOD, carbonaceous [5 day, 20 C][per discharge]','BOD, carbonaceous [5 day, 5 C]','BOD, carbonaceous [5-day, 20 C][streamflow]','BOD, carbonaceous, 20-day, % Removal','BOD, carbonaceous, percent removal','BOD, filtered, 5 day, 20 deg C','BOD, mass, times flow prop. multiplier','BOD, nitrogen inhib 5-day [20 deg. C]', 'Avg. of 7-day sum of BOD5 values'],\n",
    "\n",
    "                             'LEAD':['Lead,Lead 210', 'Lead 210, total', 'Lead 212', 'Lead 214', 'Lead-212 [Radioactivity Concentration]', 'Lead, calculated limit', 'Lead, dissolved [as Pb]', 'Lead, Organic, Total', 'Lead, potentially dissolvd', 'Lead, sludge solid', 'Lead, sludge total', 'Lead, sludge, total, dry weight [as Pb]', 'Lead, total [as Pb]', 'Lead, total [as Pb] [per discharge]', 'Lead, total dry weight [as Pb]', 'Lead, total recoverable', 'Lead, total recoverable', 'Lead, total sludge'],\n",
    "\n",
    "                             'CARBONACEOUS BOD':['BOD, carbonaceous [20 day, 20 C]','BOD, carbonaceous [25-day, 20 C]','BOD, carbonaceous [28 day, 20 C]','BOD, carbonaceous [40 day, 20 C]','BOD, carbonaceous [5 day, 20 C]','BOD, carbonaceous [5 day, 20 C][load]','BOD, carbonaceous [5 day, 20 C][per discharge]','BOD, carbonaceous [5 day, 5 C]','BOD, carbonaceous [5-day, 20 C][streamflow]', 'Carbonaceous BOD, 5 day, 20 deg C filtrd'],\n",
    "\n",
    "                             'MERCURY':['Mercury','Mercury [Hg], in barite, dry weight', 'Mercury, dissolved [as Hg]','Mercury, potentially dissolvd','Mercury, sludge, total, dry weight [as Hg]','Mercury, tot in bot deposits [dry wgt]','Mercury, total [as Hg]','Mercury, total [as Hg] [per discharge]','Mercury, total [low level]','Mercury, total low level','Mercury, total recoverable','Mercury, total recoverable'],\n",
    "\n",
    "                             'NICKEL':['Nickel','Nickel carbonyl','Nickel, dissolved [as Ni]','Nickel, potentially dissolvd','Nickel, sludge solid','Nickel, sludge total','Nickel, sludge, total, dry weight [as Ni]','Nickel, suspended [as Ni]','Nickel, tot in bottom deposits [dry wgt]','Nickel, total [as Ni]','Nickel, total [as Ni] [per discharge]','Nickel, total per batch','Nickel, total recoverable','Nickel, total sludge'],\n",
    "\n",
    "                             'CYANIDE':['Cyanide','Cyanide [A]', 'Cyanide and thiocyanate - total', 'Cyanide complexed to range of compound', 'Cyanide in bottom deposits [dry wgt]','Cyanide, dissolved std method','Cyanide, filterable, total','Cyanide, free [amen. to chlorination]','Cyanide, free [amenable to chlorine]','Cyanide, free available','Cyanide, free not amenable to chlorin.','Cyanide, free-water plus wastewaters','Cyanide, sludge solid','Cyanide, total [as CN]','Cyanide, total recoverable','Cyanide, weak acid, dissociable'],\n",
    "\n",
    "                             'CHROMIUM, TOTAL':['Chromium','Chromium hexavalent [as Cr]','Chromium III','Chromium, dissolved [as Cr]','Chromium, hexavalent','Chromium, hexavalent','Chromium, hexavalent [as Cr]','Chromium, hexavalent dissolved [as Cr]','Chromium, hexavalent in bot dep [dry wt]','Chromium, hexavalent potentially disolvd','Chromium, hexavalent tot recoverable','Chromium, hexavalent tot recoverable','Chromium, sludge solid','Chromium, sludge total','Chromium, sludge, total, dry weight [as Cr]','Chromium, suspended [as Cr]','Chromium, total','Chromium, total [as Cr]','Chromium, total [as Cr]','Chromium, total [as Cr] [Can Production]','Chromium, total [as Cr] [per discharge]','Chromium, total dry weight [as Cr]','Chromium, total in bot dep [wet wgt]','Chromium, total recoverable','Chromium, trivalent [as Cr]','Chromium, trivalent dissolved, as Cr','Chromium, trivalent in bottom deposits','Chromium, trivalent total recoverable','Chromium, trivalent, potentially dissolvd'],\n",
    "\n",
    "                             'CADMIUM':['Cadmium','Cadmium [Cd], in barite, dry weight','Cadmium, dissolved [as Cd]','Cadmium, dry weight','Cadmium, in bottom deposits [dry wgt]','Cadmium, percent removal','Cadmium, potentially dissolvd','Cadmium, sludge solid','Cadmium, sludge total','Cadmium, sludge, total, dry weight [as Cd]','Cadmium, total [as Cd]','Cadmium, total [as Cd] [per discharge]','Cadmium, total recoverable'],\n",
    "\n",
    "                             'AMMONIA-NITROGEN':['Ammonia nitrogen, total, [as N] 30 day', 'Nitrogen, ammonia [NH3-N]','Nitrogen, ammonia [NH3-N], [sludge]','Nitrogen, ammonia dissolved','Nitrogen, ammonia in bottom deposits','Nitrogen, ammonia per cfs of streamflow','Nitrogen, ammonia total [as N]','Nitrogen, ammonia total [as N] [per discharge]','Nitrogen, ammonia total [as N] [per season]','Nitrogen, ammonia total [as NH4]','Nitrogen, ammonia, percent removal','Nitrogen, ammonia, sludge solid','Nitrogen, ammonia, sludge, tot dry wgt','Nitrogen, ammonia, tot unionized [as N]','Nitrogen, ammonia, total [as NH3]','Nitrogen, AmmoniaTotal'],\n",
    "\n",
    "                             'CHLORDANE':['Chlordane','Chlordane - Nonachlor, Cis','Chlordane - Nonachlor, Trans','Chlordane [tech mix & metabs], dry wgt', 'Chlordane [tech mix. and metabolites]','Chlordane, .alpha.-, dry weight','Chlordane, .alpha.-, whole water','Chlordane, CA Ocean Plan definition'],\n",
    "\n",
    "                             'AMMONIA':['Ammonia [as N] + unionized ammonia','Ammonia & ammonium- total','Ammonia nitrogen, total, [as N] 30 day','Ammonia, unionized', 'Nitrogen, ammonia [NH3-N]','Nitrogen, ammonia [NH3-N], [sludge]','Nitrogen, ammonia dissolved','Nitrogen, ammonia in bottom deposits','Nitrogen, ammonia per cfs of streamflow','Nitrogen, ammonia total [as N]','Nitrogen, ammonia total [as N] [per discharge]','Nitrogen, ammonia total [as N] [per season]','Nitrogen, ammonia total [as NH4]','Nitrogen, ammonia, percent removal','Nitrogen, ammonia, sludge solid','Nitrogen, ammonia, sludge, tot dry wgt','Nitrogen, ammonia, tot unionized [as N]','Nitrogen, ammonia, total [as NH3]','Nitrogen, AmmoniaTotal'],\n",
    "\n",
    "                             'ALUMINUM':['Aluminum','Aluminum [total]','Aluminum chloride, dissolved, water','Aluminum oxide','Aluminum stearate, wat sol in drill fl','Aluminum sulfate','Aluminum, acid soluble','Aluminum, dissolved [as Al]','Aluminum, ion','Aluminum, potentially dissolvd','Aluminum, total','Aluminum, total [as Al]','Aluminum, total [as Al] [Can Production]','Aluminum, total recoverable','Aluminum, total sludge, dry wt.'],\n",
    "\n",
    "                             # TODO\n",
    "                             'SEDIMENTATION/SILTATION':[],\n",
    "\n",
    "                             'COPPER':['Copper','Copper as suspended black oxide','Copper in bottom deposits [dry wgt]','Copper, calculated limit','Copper, dissolved [as Cu]','Copper, dry weight','Copper, percent removal','Copper, potentially dissolved','Copper, sludge solid','Copper, sludge total','Copper, sludge, total, dry weight [as Cu]','Copper, suspended [as Cu]','Copper, total [as Cu]','Copper, total [as Cu] [per discharge]','Copper, total per batch','Copper, total recoverable','Copper, total recoverable'],\n",
    "\n",
    "                             # TODO\n",
    "                             'DISSOLVED OXYGEN':[],\n",
    "\n",
    "                             'NITROGEN, TOTAL':['Nitrogen [as NO3] sludge solid','Nitrogen Kjeldahl, total [TKN]','Nitrogen oxides [as N]','Nitrogen sludge solid','Nitrogen sludge total','Nitrogen-nitrate in water, [pct]','Nitrogen-nitrite in water, [pct]','Nitrogen, ammonia [NH3-N]','Nitrogen, ammonia [NH3-N], [sludge]','Nitrogen, ammonia dissolved','Nitrogen, ammonia in bottom deposits','Nitrogen, ammonia per cfs of streamflow','Nitrogen, ammonia total [as N]','Nitrogen, ammonia total [as N] [per discharge]','Nitrogen, ammonia total [as N] [per season]','Nitrogen, ammonia total [as NH4]','Nitrogen, ammonia, percent removal','Nitrogen, ammonia, sludge solid','Nitrogen, ammonia, sludge, tot dry wgt','Nitrogen, ammonia, tot unionized [as N]','Nitrogen, ammonia, total [as NH3]','Nitrogen, AmmoniaTotal','Nitrogen, Dissolved','Nitrogen, inorganic total','Nitrogen, Kjeldahl','Nitrogen, Kjeldahl, dissolved [as N]','Nitrogen, Kjeldahl, total [as N]','Nitrogen, Kjeldahl, total [as N] [per discharge]','Nitrogen, Kjeldahl, total [TKN] [water]','Nitrogen, Kjeldahl, total [TKN], [sludge]','Nitrogen, Kjeldahl,Total[TKN], insoluble','Nitrogen, KjeldahlTotal','Nitrogen, nitrate [NO3], [sludge]','Nitrogen, nitrate [NO3], [water]','Nitrogen, nitrate dissolved','Nitrogen, nitrate total [as N]','Nitrogen, nitrate total [as NO3]','Nitrogen, NitrateTotal','Nitrogen, nitrite total [as N]','Nitrogen, nitrite total [as NO2]','Nitrogen, NitriteTotal','Nitrogen, organic total [as N]','Nitrogen, organic, dissolved [as N]','Nitrogen, oxidized','Nitrogen, sludge, total, dry weight [as N]','Nitrogen, Total','Nitrogen, total','Nitrogen, total [as N]','Nitrogen, total [as N]','Nitrogen, total [as N] [adjusted]','Nitrogen, total [as N] [credit]','Nitrogen, total [as N] [delivered]','Nitrogen, Total As N','Nitrogen, Total as NO3 + NH3','Nitrogen, total available [water]','Nitrogen, total available, [sludge]','Nitrogen, total Kjeldahl','Nitrogen, total Kjeldahl, % removal','Nitrogen, total, as NO3, [sludge]','Nitrogen, total, as NO3, [water]'],\n",
    "\n",
    "                             'ARSENIC':['Arsenic','Arsenic total, dry weight, sludge','Arsenic, dissolved [as As]','Arsenic, dry weight','Arsenic, Inorganic','Arsenic, potentially dissolved','Arsenic, sludge tot. dry wt [as As]','Arsenic, total [as As]','Arsenic, total recoverable','Arsenic, total recoverable','Arsenic, trivalent dissolved','Arsenic, trivalent total','Arsenic, trivalent total recoverable'],\n",
    "\n",
    "                             # TODO\n",
    "                             'SEDIMENT':[],\n",
    "\n",
    "                             'PHOSPHORUS, TOTAL':['Phosphorous 32, total','Phosphorous, in total orthophosphate','Phosphorous, total elemental','Phosphorous, total organic [as P]','Phosphorous, total recoverable','Phosphorous, total, in bottom deposits', 'Phosphorus [reactive as P]', 'Phosphorus Adsorption', 'Phosphorus Pentoxide','Phosphorus, brays','Phosphorus, dissolved','Phosphorus, dissolved reactive [drp as P]','Phosphorus, insoluble','Phosphorus, ortho','Phosphorus, sludge, total, dry weight [as P]','Phosphorus, Total','Phosphorus, total [as P]','Phosphorus, total [as P] [Can Production]','Phosphorus, total [as P] [credit]','Phosphorus, total [as P] [delivered]','Phosphorus, total [as P] [per season]','Phosphorus, Total [Avg Seasonal Load Cap]','Phosphorus, Total As P','Phosphorus, total percent removal','Phosphorus, total soluble [as PO4]'],\n",
    "\n",
    "                             'NH3-N':['Ammonia nitrogen, total, [as N] 30 day', 'Nitrogen, ammonia [NH3-N]','Nitrogen, ammonia [NH3-N], [sludge]','Nitrogen, ammonia dissolved','Nitrogen, ammonia in bottom deposits','Nitrogen, ammonia per cfs of streamflow','Nitrogen, ammonia total [as N]','Nitrogen, ammonia total [as N] [per discharge]','Nitrogen, ammonia total [as N] [per season]','Nitrogen, ammonia total [as NH4]','Nitrogen, ammonia, percent removal','Nitrogen, ammonia, sludge solid','Nitrogen, ammonia, sludge, tot dry wgt','Nitrogen, ammonia, tot unionized [as N]','Nitrogen, ammonia, total [as NH3]','Nitrogen, AmmoniaTotal'],\n",
    "\n",
    "                             'TOTAL SUSPENDED SOLIDS (TSS)':['Solids, total susp per production','Solids, total susp. per 1000 gallons','Solids, total susp. per batch','Solids, total susp. per cfs of streamflw','Solids, total suspd. non-volatile','Solids, Total Suspen [lbs/1000 lbs Product]','Solids, total suspended','Solids, total suspended [Can Production]','Solids, total suspended [per discharge]','Solids, total suspended [per season]','Solids, total suspended, loading rate','Solids, Total Suspended, Net Value'],\n",
    "\n",
    "                             'TURBIDITY':['Turbidity','Turbidity [severity]','Turbidity, % increas over intake','Turbidity, background','Turbidity, change','Turbidity, hch turbidimiter','Turbidity, hellige [silicon dioxide]','Turbidity, increase over background','Turbidity, lab, NTU','Turbidity, sed stick','Turbidity, Test Failures','Turbidity, time above limit','Turbidity, transmissometer, %'],\n",
    "\n",
    "                             'AMMONIA, TOTAL':['Ammonia [as N] + unionized ammonia','Ammonia & ammonium- total','Ammonia nitrogen, total, [as N] 30 day','Ammonia, unionized', 'Nitrogen, ammonia [NH3-N]','Nitrogen, ammonia [NH3-N], [sludge]','Nitrogen, ammonia dissolved','Nitrogen, ammonia in bottom deposits','Nitrogen, ammonia per cfs of streamflow','Nitrogen, ammonia total [as N]','Nitrogen, ammonia total [as N] [per discharge]','Nitrogen, ammonia total [as N] [per season]','Nitrogen, ammonia total [as NH4]','Nitrogen, ammonia, percent removal','Nitrogen, ammonia, sludge solid','Nitrogen, ammonia, sludge, tot dry wgt','Nitrogen, ammonia, tot unionized [as N]','Nitrogen, ammonia, total [as NH3]','Nitrogen, AmmoniaTotal'],\n",
    "\n",
    "                             'THALLIUM':['Thallium 208','Thallium in bottom deposits [dry wgt]','Thallium, acid soluble','Thallium, calculated limit','Thallium, dissolved [as Tl]','Thallium, potentially dissolvd','Thallium, total [as Tl]','Thallium, total recoverable'],\n",
    "\n",
    "                             'ZINC':['Zinc','Zinc in bottom deposits [dry wgt]','Zinc, dissolved [as Zn]','Zinc, percent removal','Zinc, potentially dissolved','Zinc, sludge solid','Zinc, sludge total','Zinc, sludge, total, dry weight [as Zn]','Zinc, total','Zinc, total [as Zn]','Zinc, total [as Zn] [Can Production]','Zinc, total [as Zn] [per discharge]','Zinc, total recoverable','Zinc, total recoverable','Zinc, total sludge']\n",
    "                             }\n",
    "\n",
    "# Convert the linkage dictionary into a dataframe so it can be easily merged with the TMDL dataset\n",
    "pollutant_parameter_links = pd.DataFrame()\n",
    "for pollutant in pollutant_parameter_link_dict.keys():\n",
    "    pollutant_parameter_links = pd.concat([pollutant_parameter_links, pd.DataFrame({'pollutantName':[pollutant]*len(pollutant_parameter_link_dict[pollutant]), 'parameter_desc':pollutant_parameter_link_dict[pollutant]})])"
   ],
   "metadata": {
    "collapsed": false,
    "pycharm": {
     "name": "#%%\n"
    }
   }
  },
  {
   "cell_type": "code",
   "execution_count": 72,
   "outputs": [],
   "source": [
    "# Merge with TMDLs dataset to produce a long-form DataFrame ready to merge with DMRs\n",
    "TX_tmdls_merged = TX_tmdls_merged.merge(pollutant_parameter_links, on='pollutantName', how='inner')"
   ],
   "metadata": {
    "collapsed": false,
    "pycharm": {
     "name": "#%%\n"
    }
   }
  },
  {
   "cell_type": "code",
   "execution_count": 73,
   "outputs": [],
   "source": [
    "# Merge with DMRs\n",
    "TX_dmrs_tmdls_merged = TX_tmdls_merged.merge(TX_dmrs, on=['npdes_permit_id', 'parameter_desc'])"
   ],
   "metadata": {
    "collapsed": false,
    "pycharm": {
     "name": "#%%\n"
    }
   }
  },
  {
   "cell_type": "code",
   "execution_count": 74,
   "outputs": [],
   "source": [
    "# Define incumbency\n",
    "TX_dmrs_tmdls_merged['incumbent'] = (TX_dmrs_tmdls_merged['issue_date'] <= TX_dmrs_tmdls_merged['TMDLDate'])"
   ],
   "metadata": {
    "collapsed": false,
    "pycharm": {
     "name": "#%%\n"
    }
   }
  },
  {
   "cell_type": "code",
   "execution_count": 75,
   "outputs": [
    {
     "data": {
      "text/plain": "   actionIdentifier                       parameter_desc value_type_code  \\\n0             35935                       Fecal coliform              Q2   \n1             35935                       Fecal coliform              Q2   \n2             39028                              E. coli              C2   \n3             39028                              E. coli              C2   \n4             39028                              E. coli              C3   \n5             39028                              E. coli              C3   \n6             39030                              E. coli              C2   \n7             39030                              E. coli              C2   \n8             39030                              E. coli              C3   \n9             39030                              E. coli              C3   \n10            39035                              E. coli              C2   \n11            39035                              E. coli              C2   \n12            39035                              E. coli              C3   \n13            39035                              E. coli              C3   \n14            39035  E. coli, colony forming units [CFU]              C2   \n15            39035  E. coli, colony forming units [CFU]              C3   \n16            51281                              E. coli              C2   \n17            51281                              E. coli              C2   \n18            51281                              E. coli              C3   \n19            51281                              E. coli              C3   \n20            52900                              E. coli              C2   \n21            52900                              E. coli              C2   \n22            52900                              E. coli              C3   \n23            52900                              E. coli              C3   \n24            54900                              E. coli              C2   \n25            54900                              E. coli              C3   \n26            54920                              E. coli              C2   \n27            54920                              E. coli              C3   \n28            54921                              E. coli              C2   \n29            54921                              E. coli              C3   \n30            54981                              E. coli              C2   \n31            54981                              E. coli              C3   \n32            64680                              E. coli              C2   \n33            64680                              E. coli              C2   \n34            64680                              E. coli              C3   \n35            64680                              E. coli              C3   \n\n    incumbent      DMR_mean  DMR_mean_SE  n_permittees  \n0       False   5236.181818  2474.406745            26  \n1        True  20841.636364  8243.668692            25  \n2       False      8.539072     2.970578            27  \n3        True     14.248705     6.902800             3  \n4       False     61.206249     6.979893            26  \n5        True    419.489209   113.035126             3  \n6       False     25.643331     6.722257            26  \n7        True      5.811185     1.220250             3  \n8       False     69.166512    10.955951            26  \n9        True    472.739855   348.438351             3  \n10      False     11.498986     2.286745            44  \n11       True     24.823964    18.310507             4  \n12      False     29.230694     4.256271            44  \n13       True     99.049172    29.883871             4  \n14      False      4.587500     1.555180             1  \n15      False      4.587500     1.555180             1  \n16      False      3.463130     0.138948            18  \n17       True      5.360562     0.504828             9  \n18      False    125.377542    20.172946            18  \n19       True    245.189759    38.410821             9  \n20      False      3.150130     0.108248            61  \n21       True     36.723605     7.174551            61  \n22      False    115.482841     9.716720            61  \n23       True    943.176091   485.223291            61  \n24      False      1.285714     0.070552             1  \n25      False      9.238095     0.981720             1  \n26      False      1.285714     0.070552             1  \n27      False      9.238095     0.981720             1  \n28      False      1.285714     0.070552             1  \n29      False      9.238095     0.981720             1  \n30      False      1.285714     0.070552             1  \n31      False      9.238095     0.981720             1  \n32      False      3.316681     0.239203            26  \n33       True     10.982237     2.248703            29  \n34      False     47.025564    13.686803            26  \n35       True   1653.198160  1535.579020            29  ",
      "text/html": "<div>\n<style scoped>\n    .dataframe tbody tr th:only-of-type {\n        vertical-align: middle;\n    }\n\n    .dataframe tbody tr th {\n        vertical-align: top;\n    }\n\n    .dataframe thead th {\n        text-align: right;\n    }\n</style>\n<table border=\"1\" class=\"dataframe\">\n  <thead>\n    <tr style=\"text-align: right;\">\n      <th></th>\n      <th>actionIdentifier</th>\n      <th>parameter_desc</th>\n      <th>value_type_code</th>\n      <th>incumbent</th>\n      <th>DMR_mean</th>\n      <th>DMR_mean_SE</th>\n      <th>n_permittees</th>\n    </tr>\n  </thead>\n  <tbody>\n    <tr>\n      <th>0</th>\n      <td>35935</td>\n      <td>Fecal coliform</td>\n      <td>Q2</td>\n      <td>False</td>\n      <td>5236.181818</td>\n      <td>2474.406745</td>\n      <td>26</td>\n    </tr>\n    <tr>\n      <th>1</th>\n      <td>35935</td>\n      <td>Fecal coliform</td>\n      <td>Q2</td>\n      <td>True</td>\n      <td>20841.636364</td>\n      <td>8243.668692</td>\n      <td>25</td>\n    </tr>\n    <tr>\n      <th>2</th>\n      <td>39028</td>\n      <td>E. coli</td>\n      <td>C2</td>\n      <td>False</td>\n      <td>8.539072</td>\n      <td>2.970578</td>\n      <td>27</td>\n    </tr>\n    <tr>\n      <th>3</th>\n      <td>39028</td>\n      <td>E. coli</td>\n      <td>C2</td>\n      <td>True</td>\n      <td>14.248705</td>\n      <td>6.902800</td>\n      <td>3</td>\n    </tr>\n    <tr>\n      <th>4</th>\n      <td>39028</td>\n      <td>E. coli</td>\n      <td>C3</td>\n      <td>False</td>\n      <td>61.206249</td>\n      <td>6.979893</td>\n      <td>26</td>\n    </tr>\n    <tr>\n      <th>5</th>\n      <td>39028</td>\n      <td>E. coli</td>\n      <td>C3</td>\n      <td>True</td>\n      <td>419.489209</td>\n      <td>113.035126</td>\n      <td>3</td>\n    </tr>\n    <tr>\n      <th>6</th>\n      <td>39030</td>\n      <td>E. coli</td>\n      <td>C2</td>\n      <td>False</td>\n      <td>25.643331</td>\n      <td>6.722257</td>\n      <td>26</td>\n    </tr>\n    <tr>\n      <th>7</th>\n      <td>39030</td>\n      <td>E. coli</td>\n      <td>C2</td>\n      <td>True</td>\n      <td>5.811185</td>\n      <td>1.220250</td>\n      <td>3</td>\n    </tr>\n    <tr>\n      <th>8</th>\n      <td>39030</td>\n      <td>E. coli</td>\n      <td>C3</td>\n      <td>False</td>\n      <td>69.166512</td>\n      <td>10.955951</td>\n      <td>26</td>\n    </tr>\n    <tr>\n      <th>9</th>\n      <td>39030</td>\n      <td>E. coli</td>\n      <td>C3</td>\n      <td>True</td>\n      <td>472.739855</td>\n      <td>348.438351</td>\n      <td>3</td>\n    </tr>\n    <tr>\n      <th>10</th>\n      <td>39035</td>\n      <td>E. coli</td>\n      <td>C2</td>\n      <td>False</td>\n      <td>11.498986</td>\n      <td>2.286745</td>\n      <td>44</td>\n    </tr>\n    <tr>\n      <th>11</th>\n      <td>39035</td>\n      <td>E. coli</td>\n      <td>C2</td>\n      <td>True</td>\n      <td>24.823964</td>\n      <td>18.310507</td>\n      <td>4</td>\n    </tr>\n    <tr>\n      <th>12</th>\n      <td>39035</td>\n      <td>E. coli</td>\n      <td>C3</td>\n      <td>False</td>\n      <td>29.230694</td>\n      <td>4.256271</td>\n      <td>44</td>\n    </tr>\n    <tr>\n      <th>13</th>\n      <td>39035</td>\n      <td>E. coli</td>\n      <td>C3</td>\n      <td>True</td>\n      <td>99.049172</td>\n      <td>29.883871</td>\n      <td>4</td>\n    </tr>\n    <tr>\n      <th>14</th>\n      <td>39035</td>\n      <td>E. coli, colony forming units [CFU]</td>\n      <td>C2</td>\n      <td>False</td>\n      <td>4.587500</td>\n      <td>1.555180</td>\n      <td>1</td>\n    </tr>\n    <tr>\n      <th>15</th>\n      <td>39035</td>\n      <td>E. coli, colony forming units [CFU]</td>\n      <td>C3</td>\n      <td>False</td>\n      <td>4.587500</td>\n      <td>1.555180</td>\n      <td>1</td>\n    </tr>\n    <tr>\n      <th>16</th>\n      <td>51281</td>\n      <td>E. coli</td>\n      <td>C2</td>\n      <td>False</td>\n      <td>3.463130</td>\n      <td>0.138948</td>\n      <td>18</td>\n    </tr>\n    <tr>\n      <th>17</th>\n      <td>51281</td>\n      <td>E. coli</td>\n      <td>C2</td>\n      <td>True</td>\n      <td>5.360562</td>\n      <td>0.504828</td>\n      <td>9</td>\n    </tr>\n    <tr>\n      <th>18</th>\n      <td>51281</td>\n      <td>E. coli</td>\n      <td>C3</td>\n      <td>False</td>\n      <td>125.377542</td>\n      <td>20.172946</td>\n      <td>18</td>\n    </tr>\n    <tr>\n      <th>19</th>\n      <td>51281</td>\n      <td>E. coli</td>\n      <td>C3</td>\n      <td>True</td>\n      <td>245.189759</td>\n      <td>38.410821</td>\n      <td>9</td>\n    </tr>\n    <tr>\n      <th>20</th>\n      <td>52900</td>\n      <td>E. coli</td>\n      <td>C2</td>\n      <td>False</td>\n      <td>3.150130</td>\n      <td>0.108248</td>\n      <td>61</td>\n    </tr>\n    <tr>\n      <th>21</th>\n      <td>52900</td>\n      <td>E. coli</td>\n      <td>C2</td>\n      <td>True</td>\n      <td>36.723605</td>\n      <td>7.174551</td>\n      <td>61</td>\n    </tr>\n    <tr>\n      <th>22</th>\n      <td>52900</td>\n      <td>E. coli</td>\n      <td>C3</td>\n      <td>False</td>\n      <td>115.482841</td>\n      <td>9.716720</td>\n      <td>61</td>\n    </tr>\n    <tr>\n      <th>23</th>\n      <td>52900</td>\n      <td>E. coli</td>\n      <td>C3</td>\n      <td>True</td>\n      <td>943.176091</td>\n      <td>485.223291</td>\n      <td>61</td>\n    </tr>\n    <tr>\n      <th>24</th>\n      <td>54900</td>\n      <td>E. coli</td>\n      <td>C2</td>\n      <td>False</td>\n      <td>1.285714</td>\n      <td>0.070552</td>\n      <td>1</td>\n    </tr>\n    <tr>\n      <th>25</th>\n      <td>54900</td>\n      <td>E. coli</td>\n      <td>C3</td>\n      <td>False</td>\n      <td>9.238095</td>\n      <td>0.981720</td>\n      <td>1</td>\n    </tr>\n    <tr>\n      <th>26</th>\n      <td>54920</td>\n      <td>E. coli</td>\n      <td>C2</td>\n      <td>False</td>\n      <td>1.285714</td>\n      <td>0.070552</td>\n      <td>1</td>\n    </tr>\n    <tr>\n      <th>27</th>\n      <td>54920</td>\n      <td>E. coli</td>\n      <td>C3</td>\n      <td>False</td>\n      <td>9.238095</td>\n      <td>0.981720</td>\n      <td>1</td>\n    </tr>\n    <tr>\n      <th>28</th>\n      <td>54921</td>\n      <td>E. coli</td>\n      <td>C2</td>\n      <td>False</td>\n      <td>1.285714</td>\n      <td>0.070552</td>\n      <td>1</td>\n    </tr>\n    <tr>\n      <th>29</th>\n      <td>54921</td>\n      <td>E. coli</td>\n      <td>C3</td>\n      <td>False</td>\n      <td>9.238095</td>\n      <td>0.981720</td>\n      <td>1</td>\n    </tr>\n    <tr>\n      <th>30</th>\n      <td>54981</td>\n      <td>E. coli</td>\n      <td>C2</td>\n      <td>False</td>\n      <td>1.285714</td>\n      <td>0.070552</td>\n      <td>1</td>\n    </tr>\n    <tr>\n      <th>31</th>\n      <td>54981</td>\n      <td>E. coli</td>\n      <td>C3</td>\n      <td>False</td>\n      <td>9.238095</td>\n      <td>0.981720</td>\n      <td>1</td>\n    </tr>\n    <tr>\n      <th>32</th>\n      <td>64680</td>\n      <td>E. coli</td>\n      <td>C2</td>\n      <td>False</td>\n      <td>3.316681</td>\n      <td>0.239203</td>\n      <td>26</td>\n    </tr>\n    <tr>\n      <th>33</th>\n      <td>64680</td>\n      <td>E. coli</td>\n      <td>C2</td>\n      <td>True</td>\n      <td>10.982237</td>\n      <td>2.248703</td>\n      <td>29</td>\n    </tr>\n    <tr>\n      <th>34</th>\n      <td>64680</td>\n      <td>E. coli</td>\n      <td>C3</td>\n      <td>False</td>\n      <td>47.025564</td>\n      <td>13.686803</td>\n      <td>26</td>\n    </tr>\n    <tr>\n      <th>35</th>\n      <td>64680</td>\n      <td>E. coli</td>\n      <td>C3</td>\n      <td>True</td>\n      <td>1653.198160</td>\n      <td>1535.579020</td>\n      <td>29</td>\n    </tr>\n  </tbody>\n</table>\n</div>"
     },
     "execution_count": 75,
     "metadata": {},
     "output_type": "execute_result"
    }
   ],
   "source": [
    "summary_stats = TX_dmrs_tmdls_merged.groupby(['actionIdentifier', 'parameter_desc', 'value_type_code', 'incumbent'], as_index=False).agg(DMR_mean=pd.NamedAgg(column='dmr_value_standard_units', aggfunc=lambda x: x.mean()), DMR_mean_SE=pd.NamedAgg(column='dmr_value_standard_units', aggfunc=lambda x: x.sem()), n_permittees=pd.NamedAgg(column='npdes_permit_id', aggfunc=lambda x: x.nunique()))\n",
    "summary_stats.head(100)"
   ],
   "metadata": {
    "collapsed": false,
    "pycharm": {
     "name": "#%%\n"
    }
   }
  },
  {
   "cell_type": "code",
   "execution_count": 59,
   "outputs": [],
   "source": [
    "summary_stats_pivotted = pd.pivot(summary_stats, index=['actionIdentifier', 'parameter_desc', 'value_type_code'], columns='incumbent')"
   ],
   "metadata": {
    "collapsed": false,
    "pycharm": {
     "name": "#%%\n"
    }
   }
  },
  {
   "cell_type": "code",
   "execution_count": 60,
   "outputs": [],
   "source": [
    "summary_stats_pivotted.columns = ['Newcomer DMR mean', 'Incumbent DMR mean', 'Newcomer DMR SE', 'Incumbent DMR SE', 'Newcomer n_permittees', 'Incumbent n_permittees']"
   ],
   "metadata": {
    "collapsed": false,
    "pycharm": {
     "name": "#%%\n"
    }
   }
  },
  {
   "cell_type": "code",
   "execution_count": 61,
   "outputs": [],
   "source": [
    "summary_stats_pivotted['Welch test t-stat'] = (summary_stats_pivotted['Incumbent DMR mean']-summary_stats_pivotted['Newcomer DMR mean']) / np.sqrt((summary_stats_pivotted['Incumbent DMR SE'])**2 + (summary_stats_pivotted['Newcomer DMR SE'])**2)"
   ],
   "metadata": {
    "collapsed": false,
    "pycharm": {
     "name": "#%%\n"
    }
   }
  },
  {
   "cell_type": "code",
   "execution_count": 62,
   "outputs": [
    {
     "data": {
      "text/plain": "                                                                      Newcomer DMR mean  \\\nactionIdentifier parameter_desc                      value_type_code                      \n35935            Fecal coliform                      Q2                     5236.181818   \n39028            E. coli                             C2                        8.539072   \n                                                     C3                       61.206249   \n39030            E. coli                             C2                       25.643331   \n                                                     C3                       69.166512   \n39035            E. coli                             C2                       11.498986   \n                                                     C3                       29.230694   \n                 E. coli, colony forming units [CFU] C2                        4.587500   \n                                                     C3                        4.587500   \n51281            E. coli                             C2                        3.463130   \n                                                     C3                      125.377542   \n52900            E. coli                             C2                        3.150130   \n                                                     C3                      115.482841   \n54900            E. coli                             C2                        1.285714   \n                                                     C3                        9.238095   \n54920            E. coli                             C2                        1.285714   \n                                                     C3                        9.238095   \n54921            E. coli                             C2                        1.285714   \n                                                     C3                        9.238095   \n54981            E. coli                             C2                        1.285714   \n                                                     C3                        9.238095   \n64680            E. coli                             C2                        3.316681   \n                                                     C3                       47.025564   \n\n                                                                      Incumbent DMR mean  \\\nactionIdentifier parameter_desc                      value_type_code                       \n35935            Fecal coliform                      Q2                     20841.636364   \n39028            E. coli                             C2                        14.248705   \n                                                     C3                       419.489209   \n39030            E. coli                             C2                         5.811185   \n                                                     C3                       472.739855   \n39035            E. coli                             C2                        24.823964   \n                                                     C3                        99.049172   \n                 E. coli, colony forming units [CFU] C2                              NaN   \n                                                     C3                              NaN   \n51281            E. coli                             C2                         5.360562   \n                                                     C3                       245.189759   \n52900            E. coli                             C2                        36.723605   \n                                                     C3                       943.176091   \n54900            E. coli                             C2                              NaN   \n                                                     C3                              NaN   \n54920            E. coli                             C2                              NaN   \n                                                     C3                              NaN   \n54921            E. coli                             C2                              NaN   \n                                                     C3                              NaN   \n54981            E. coli                             C2                              NaN   \n                                                     C3                              NaN   \n64680            E. coli                             C2                        10.982237   \n                                                     C3                      1653.198160   \n\n                                                                      Newcomer DMR SE  \\\nactionIdentifier parameter_desc                      value_type_code                    \n35935            Fecal coliform                      Q2                   2474.406745   \n39028            E. coli                             C2                      2.970578   \n                                                     C3                      6.979893   \n39030            E. coli                             C2                      6.722257   \n                                                     C3                     10.955951   \n39035            E. coli                             C2                      2.286745   \n                                                     C3                      4.256271   \n                 E. coli, colony forming units [CFU] C2                      1.555180   \n                                                     C3                      1.555180   \n51281            E. coli                             C2                      0.138948   \n                                                     C3                     20.172946   \n52900            E. coli                             C2                      0.108248   \n                                                     C3                      9.716720   \n54900            E. coli                             C2                      0.070552   \n                                                     C3                      0.981720   \n54920            E. coli                             C2                      0.070552   \n                                                     C3                      0.981720   \n54921            E. coli                             C2                      0.070552   \n                                                     C3                      0.981720   \n54981            E. coli                             C2                      0.070552   \n                                                     C3                      0.981720   \n64680            E. coli                             C2                      0.239203   \n                                                     C3                     13.686803   \n\n                                                                      Incumbent DMR SE  \\\nactionIdentifier parameter_desc                      value_type_code                     \n35935            Fecal coliform                      Q2                    8243.668692   \n39028            E. coli                             C2                       6.902800   \n                                                     C3                     113.035126   \n39030            E. coli                             C2                       1.220250   \n                                                     C3                     348.438351   \n39035            E. coli                             C2                      18.310507   \n                                                     C3                      29.883871   \n                 E. coli, colony forming units [CFU] C2                            NaN   \n                                                     C3                            NaN   \n51281            E. coli                             C2                       0.504828   \n                                                     C3                      38.410821   \n52900            E. coli                             C2                       7.174551   \n                                                     C3                     485.223291   \n54900            E. coli                             C2                            NaN   \n                                                     C3                            NaN   \n54920            E. coli                             C2                            NaN   \n                                                     C3                            NaN   \n54921            E. coli                             C2                            NaN   \n                                                     C3                            NaN   \n54981            E. coli                             C2                            NaN   \n                                                     C3                            NaN   \n64680            E. coli                             C2                       2.248703   \n                                                     C3                    1535.579020   \n\n                                                                      Newcomer n_permittees  \\\nactionIdentifier parameter_desc                      value_type_code                          \n35935            Fecal coliform                      Q2                                26.0   \n39028            E. coli                             C2                                27.0   \n                                                     C3                                26.0   \n39030            E. coli                             C2                                26.0   \n                                                     C3                                26.0   \n39035            E. coli                             C2                                44.0   \n                                                     C3                                44.0   \n                 E. coli, colony forming units [CFU] C2                                 1.0   \n                                                     C3                                 1.0   \n51281            E. coli                             C2                                18.0   \n                                                     C3                                18.0   \n52900            E. coli                             C2                                61.0   \n                                                     C3                                61.0   \n54900            E. coli                             C2                                 1.0   \n                                                     C3                                 1.0   \n54920            E. coli                             C2                                 1.0   \n                                                     C3                                 1.0   \n54921            E. coli                             C2                                 1.0   \n                                                     C3                                 1.0   \n54981            E. coli                             C2                                 1.0   \n                                                     C3                                 1.0   \n64680            E. coli                             C2                                26.0   \n                                                     C3                                26.0   \n\n                                                                      Incumbent n_permittees  \\\nactionIdentifier parameter_desc                      value_type_code                           \n35935            Fecal coliform                      Q2                                 25.0   \n39028            E. coli                             C2                                  3.0   \n                                                     C3                                  3.0   \n39030            E. coli                             C2                                  3.0   \n                                                     C3                                  3.0   \n39035            E. coli                             C2                                  4.0   \n                                                     C3                                  4.0   \n                 E. coli, colony forming units [CFU] C2                                  NaN   \n                                                     C3                                  NaN   \n51281            E. coli                             C2                                  9.0   \n                                                     C3                                  9.0   \n52900            E. coli                             C2                                 61.0   \n                                                     C3                                 61.0   \n54900            E. coli                             C2                                  NaN   \n                                                     C3                                  NaN   \n54920            E. coli                             C2                                  NaN   \n                                                     C3                                  NaN   \n54921            E. coli                             C2                                  NaN   \n                                                     C3                                  NaN   \n54981            E. coli                             C2                                  NaN   \n                                                     C3                                  NaN   \n64680            E. coli                             C2                                 29.0   \n                                                     C3                                 29.0   \n\n                                                                      Welch test t-stat  \nactionIdentifier parameter_desc                      value_type_code                     \n35935            Fecal coliform                      Q2                        1.813108  \n39028            E. coli                             C2                        0.759780  \n                                                     C3                        3.163635  \n39030            E. coli                             C2                       -2.902784  \n                                                     C3                        1.157662  \n39035            E. coli                             C2                        0.722114  \n                                                     C3                        2.312984  \n                 E. coli, colony forming units [CFU] C2                             NaN  \n                                                     C3                             NaN  \n51281            E. coli                             C2                        3.623815  \n                                                     C3                        2.761545  \n52900            E. coli                             C2                        4.678990  \n                                                     C3                        1.705457  \n54900            E. coli                             C2                             NaN  \n                                                     C3                             NaN  \n54920            E. coli                             C2                             NaN  \n                                                     C3                             NaN  \n54921            E. coli                             C2                             NaN  \n                                                     C3                             NaN  \n54981            E. coli                             C2                             NaN  \n                                                     C3                             NaN  \n64680            E. coli                             C2                        3.389754  \n                                                     C3                        1.045930  ",
      "text/html": "<div>\n<style scoped>\n    .dataframe tbody tr th:only-of-type {\n        vertical-align: middle;\n    }\n\n    .dataframe tbody tr th {\n        vertical-align: top;\n    }\n\n    .dataframe thead th {\n        text-align: right;\n    }\n</style>\n<table border=\"1\" class=\"dataframe\">\n  <thead>\n    <tr style=\"text-align: right;\">\n      <th></th>\n      <th></th>\n      <th></th>\n      <th>Newcomer DMR mean</th>\n      <th>Incumbent DMR mean</th>\n      <th>Newcomer DMR SE</th>\n      <th>Incumbent DMR SE</th>\n      <th>Newcomer n_permittees</th>\n      <th>Incumbent n_permittees</th>\n      <th>Welch test t-stat</th>\n    </tr>\n    <tr>\n      <th>actionIdentifier</th>\n      <th>parameter_desc</th>\n      <th>value_type_code</th>\n      <th></th>\n      <th></th>\n      <th></th>\n      <th></th>\n      <th></th>\n      <th></th>\n      <th></th>\n    </tr>\n  </thead>\n  <tbody>\n    <tr>\n      <th>35935</th>\n      <th>Fecal coliform</th>\n      <th>Q2</th>\n      <td>5236.181818</td>\n      <td>20841.636364</td>\n      <td>2474.406745</td>\n      <td>8243.668692</td>\n      <td>26.0</td>\n      <td>25.0</td>\n      <td>1.813108</td>\n    </tr>\n    <tr>\n      <th rowspan=\"2\" valign=\"top\">39028</th>\n      <th rowspan=\"2\" valign=\"top\">E. coli</th>\n      <th>C2</th>\n      <td>8.539072</td>\n      <td>14.248705</td>\n      <td>2.970578</td>\n      <td>6.902800</td>\n      <td>27.0</td>\n      <td>3.0</td>\n      <td>0.759780</td>\n    </tr>\n    <tr>\n      <th>C3</th>\n      <td>61.206249</td>\n      <td>419.489209</td>\n      <td>6.979893</td>\n      <td>113.035126</td>\n      <td>26.0</td>\n      <td>3.0</td>\n      <td>3.163635</td>\n    </tr>\n    <tr>\n      <th rowspan=\"2\" valign=\"top\">39030</th>\n      <th rowspan=\"2\" valign=\"top\">E. coli</th>\n      <th>C2</th>\n      <td>25.643331</td>\n      <td>5.811185</td>\n      <td>6.722257</td>\n      <td>1.220250</td>\n      <td>26.0</td>\n      <td>3.0</td>\n      <td>-2.902784</td>\n    </tr>\n    <tr>\n      <th>C3</th>\n      <td>69.166512</td>\n      <td>472.739855</td>\n      <td>10.955951</td>\n      <td>348.438351</td>\n      <td>26.0</td>\n      <td>3.0</td>\n      <td>1.157662</td>\n    </tr>\n    <tr>\n      <th rowspan=\"4\" valign=\"top\">39035</th>\n      <th rowspan=\"2\" valign=\"top\">E. coli</th>\n      <th>C2</th>\n      <td>11.498986</td>\n      <td>24.823964</td>\n      <td>2.286745</td>\n      <td>18.310507</td>\n      <td>44.0</td>\n      <td>4.0</td>\n      <td>0.722114</td>\n    </tr>\n    <tr>\n      <th>C3</th>\n      <td>29.230694</td>\n      <td>99.049172</td>\n      <td>4.256271</td>\n      <td>29.883871</td>\n      <td>44.0</td>\n      <td>4.0</td>\n      <td>2.312984</td>\n    </tr>\n    <tr>\n      <th rowspan=\"2\" valign=\"top\">E. coli, colony forming units [CFU]</th>\n      <th>C2</th>\n      <td>4.587500</td>\n      <td>NaN</td>\n      <td>1.555180</td>\n      <td>NaN</td>\n      <td>1.0</td>\n      <td>NaN</td>\n      <td>NaN</td>\n    </tr>\n    <tr>\n      <th>C3</th>\n      <td>4.587500</td>\n      <td>NaN</td>\n      <td>1.555180</td>\n      <td>NaN</td>\n      <td>1.0</td>\n      <td>NaN</td>\n      <td>NaN</td>\n    </tr>\n    <tr>\n      <th rowspan=\"2\" valign=\"top\">51281</th>\n      <th rowspan=\"2\" valign=\"top\">E. coli</th>\n      <th>C2</th>\n      <td>3.463130</td>\n      <td>5.360562</td>\n      <td>0.138948</td>\n      <td>0.504828</td>\n      <td>18.0</td>\n      <td>9.0</td>\n      <td>3.623815</td>\n    </tr>\n    <tr>\n      <th>C3</th>\n      <td>125.377542</td>\n      <td>245.189759</td>\n      <td>20.172946</td>\n      <td>38.410821</td>\n      <td>18.0</td>\n      <td>9.0</td>\n      <td>2.761545</td>\n    </tr>\n    <tr>\n      <th rowspan=\"2\" valign=\"top\">52900</th>\n      <th rowspan=\"2\" valign=\"top\">E. coli</th>\n      <th>C2</th>\n      <td>3.150130</td>\n      <td>36.723605</td>\n      <td>0.108248</td>\n      <td>7.174551</td>\n      <td>61.0</td>\n      <td>61.0</td>\n      <td>4.678990</td>\n    </tr>\n    <tr>\n      <th>C3</th>\n      <td>115.482841</td>\n      <td>943.176091</td>\n      <td>9.716720</td>\n      <td>485.223291</td>\n      <td>61.0</td>\n      <td>61.0</td>\n      <td>1.705457</td>\n    </tr>\n    <tr>\n      <th rowspan=\"2\" valign=\"top\">54900</th>\n      <th rowspan=\"2\" valign=\"top\">E. coli</th>\n      <th>C2</th>\n      <td>1.285714</td>\n      <td>NaN</td>\n      <td>0.070552</td>\n      <td>NaN</td>\n      <td>1.0</td>\n      <td>NaN</td>\n      <td>NaN</td>\n    </tr>\n    <tr>\n      <th>C3</th>\n      <td>9.238095</td>\n      <td>NaN</td>\n      <td>0.981720</td>\n      <td>NaN</td>\n      <td>1.0</td>\n      <td>NaN</td>\n      <td>NaN</td>\n    </tr>\n    <tr>\n      <th rowspan=\"2\" valign=\"top\">54920</th>\n      <th rowspan=\"2\" valign=\"top\">E. coli</th>\n      <th>C2</th>\n      <td>1.285714</td>\n      <td>NaN</td>\n      <td>0.070552</td>\n      <td>NaN</td>\n      <td>1.0</td>\n      <td>NaN</td>\n      <td>NaN</td>\n    </tr>\n    <tr>\n      <th>C3</th>\n      <td>9.238095</td>\n      <td>NaN</td>\n      <td>0.981720</td>\n      <td>NaN</td>\n      <td>1.0</td>\n      <td>NaN</td>\n      <td>NaN</td>\n    </tr>\n    <tr>\n      <th rowspan=\"2\" valign=\"top\">54921</th>\n      <th rowspan=\"2\" valign=\"top\">E. coli</th>\n      <th>C2</th>\n      <td>1.285714</td>\n      <td>NaN</td>\n      <td>0.070552</td>\n      <td>NaN</td>\n      <td>1.0</td>\n      <td>NaN</td>\n      <td>NaN</td>\n    </tr>\n    <tr>\n      <th>C3</th>\n      <td>9.238095</td>\n      <td>NaN</td>\n      <td>0.981720</td>\n      <td>NaN</td>\n      <td>1.0</td>\n      <td>NaN</td>\n      <td>NaN</td>\n    </tr>\n    <tr>\n      <th rowspan=\"2\" valign=\"top\">54981</th>\n      <th rowspan=\"2\" valign=\"top\">E. coli</th>\n      <th>C2</th>\n      <td>1.285714</td>\n      <td>NaN</td>\n      <td>0.070552</td>\n      <td>NaN</td>\n      <td>1.0</td>\n      <td>NaN</td>\n      <td>NaN</td>\n    </tr>\n    <tr>\n      <th>C3</th>\n      <td>9.238095</td>\n      <td>NaN</td>\n      <td>0.981720</td>\n      <td>NaN</td>\n      <td>1.0</td>\n      <td>NaN</td>\n      <td>NaN</td>\n    </tr>\n    <tr>\n      <th rowspan=\"2\" valign=\"top\">64680</th>\n      <th rowspan=\"2\" valign=\"top\">E. coli</th>\n      <th>C2</th>\n      <td>3.316681</td>\n      <td>10.982237</td>\n      <td>0.239203</td>\n      <td>2.248703</td>\n      <td>26.0</td>\n      <td>29.0</td>\n      <td>3.389754</td>\n    </tr>\n    <tr>\n      <th>C3</th>\n      <td>47.025564</td>\n      <td>1653.198160</td>\n      <td>13.686803</td>\n      <td>1535.579020</td>\n      <td>26.0</td>\n      <td>29.0</td>\n      <td>1.045930</td>\n    </tr>\n  </tbody>\n</table>\n</div>"
     },
     "execution_count": 62,
     "metadata": {},
     "output_type": "execute_result"
    }
   ],
   "source": [
    "summary_stats_pivotted"
   ],
   "metadata": {
    "collapsed": false,
    "pycharm": {
     "name": "#%%\n"
    }
   }
  }
 ],
 "metadata": {
  "kernelspec": {
   "display_name": "Python 3",
   "language": "python",
   "name": "python3"
  },
  "language_info": {
   "codemirror_mode": {
    "name": "ipython",
    "version": 2
   },
   "file_extension": ".py",
   "mimetype": "text/x-python",
   "name": "python",
   "nbconvert_exporter": "python",
   "pygments_lexer": "ipython2",
   "version": "2.7.6"
  }
 },
 "nbformat": 4,
 "nbformat_minor": 0
}