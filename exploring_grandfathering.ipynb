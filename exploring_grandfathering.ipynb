{
 "cells": [
  {
   "cell_type": "markdown",
   "source": [
    "# How do NPDES permit limits differ between permits issued before TMDLs (incumbents) vs permits issued after TMDLs (newcomers)?\n",
    "Author: Ryan Treves"
   ],
   "metadata": {
    "collapsed": false,
    "pycharm": {
     "name": "#%% md\n"
    }
   }
  },
  {
   "cell_type": "code",
   "execution_count": 1,
   "metadata": {
    "collapsed": true,
    "pycharm": {
     "name": "#%%\n"
    }
   },
   "outputs": [],
   "source": [
    "import pandas as pd\n",
    "import matplotlib.pyplot as plt\n",
    "import seaborn as sns\n",
    "import scipy.stats as ss\n",
    "import warnings\n",
    "\n",
    "# Suppress warning messages\n",
    "warnings.filterwarnings('ignore')\n",
    "pd.options.display.max_columns = 200\n",
    "pd.options.display.max_rows = 2000\n",
    "# display all rows & columns\n",
    "pd.set_option('display.max_columns', None)\n",
    "pd.set_option('display.max_rows', None)"
   ]
  },
  {
   "cell_type": "code",
   "execution_count": 2,
   "outputs": [],
   "source": [
    "# Load data\n",
    "tmdls = pd.read_csv('all_actions.csv', parse_dates=['TMDLDate'], date_parser=lambda t: pd.to_datetime(t, errors='coerce')).drop('Unnamed: 0', axis=1).rename(columns={'assessmentUnitIdentifier':'AUID'})\n",
    "huc_npdes_permit_links = pd.read_csv('huc_npdes_permit_links.csv', dtype={'attributes.WBD_HUC12': object}).rename(columns={'attributes.WBD_HUC12': 'HUC-12'})\n",
    "huc_AUID_links = pd.read_csv('huc_AUID_links.csv', dtype={'attributes.huc12': object}).rename(columns={'attributes.assessmentunitidentifier':'AUID', 'attributes.huc12': 'HUC-12'})\n",
    "\n",
    "# Alabama data for case study\n",
    "AL_permit_data = pd.read_csv('AL_permit_data.csv', parse_dates=['effective_date', 'issue_date', 'original_effective_date', 'original_issue_date', 'expiration_date', 'retirement_date', 'termination_date'], date_parser=lambda t: pd.to_datetime(t, errors='coerce'))\n",
    "AL_dmrs = pd.read_csv('AL_dmrs.csv', parse_dates=['limit_begin_date', 'limit_end_date'], date_parser=lambda t: pd.to_datetime(t, errors='coerce'))\n",
    "# Drop permits without an issue date\n",
    "AL_permit_data.dropna(subset='issue_date', inplace=True)"
   ],
   "metadata": {
    "collapsed": false,
    "pycharm": {
     "name": "#%%\n"
    }
   }
  },
  {
   "cell_type": "code",
   "execution_count": 3,
   "outputs": [],
   "source": [
    "# Link TMDLs to HUC-12 codes to NPDES permittees\n",
    "tmdls_merged = tmdls.drop_duplicates().merge(huc_AUID_links, on='AUID', how='inner').merge(huc_npdes_permit_links, on='HUC-12', how='inner')\n",
    "\n",
    "# Filter down to point-source TMDLs\n",
    "tmdls_merged = tmdls_merged[tmdls_merged['pollutantSourceTypeCode'] != 'Nonpoint source']\n",
    "\n",
    "# Deleting objects we no longer need to save memory\n",
    "del tmdls\n",
    "del huc_AUID_links\n",
    "del huc_npdes_permit_links"
   ],
   "metadata": {
    "collapsed": false,
    "pycharm": {
     "name": "#%%\n"
    }
   }
  },
  {
   "cell_type": "markdown",
   "source": [
    "### Test state: Alabama"
   ],
   "metadata": {
    "collapsed": false,
    "pycharm": {
     "name": "#%% md\n"
    }
   }
  },
  {
   "cell_type": "code",
   "execution_count": 4,
   "outputs": [],
   "source": [
    "# Extract only limits from DMR data\n",
    "AL_limits = AL_dmrs.drop_duplicates(subset=['npdes_permit_id', 'perm_feature_nmbr', 'parameter_desc', 'limit_value_type_code', 'limit_value_nmbr', 'statistical_base_code', 'limit_begin_date', 'version_nmbr'])\n",
    "\n",
    "# Merge with permit_data to get permit issuance date\n",
    "AL_limits = AL_limits.merge(AL_permit_data, on=['npdes_permit_id', 'version_nmbr'], how='left')\n",
    "del AL_permit_data"
   ],
   "metadata": {
    "collapsed": false,
    "pycharm": {
     "name": "#%%\n"
    }
   }
  },
  {
   "cell_type": "code",
   "execution_count": 5,
   "outputs": [],
   "source": [
    "# Just look at Alabama TMDLs\n",
    "tmdls_merged_AL = tmdls_merged[tmdls_merged['state_code'] == 'AL']\n",
    "\n",
    "# Merge limit data with TMDL data\n",
    "tmdls_limits_merged = tmdls_merged_AL.merge(AL_limits, on='npdes_permit_id', how='inner')\n",
    "\n",
    "# Drop limits that expired, retired, or were terminated before the TMDL date\n",
    "tmdls_limits_merged = tmdls_limits_merged[~(tmdls_limits_merged['expiration_date'] <= tmdls_limits_merged['TMDLDate']) &\n",
    "                                            ~(tmdls_limits_merged['retirement_date'] <= tmdls_limits_merged['TMDLDate']) &\n",
    "                                            ~(tmdls_limits_merged['termination_date'] <= tmdls_limits_merged['TMDLDate'])]"
   ],
   "metadata": {
    "collapsed": false,
    "pycharm": {
     "name": "#%%\n"
    }
   }
  },
  {
   "cell_type": "code",
   "execution_count": 6,
   "outputs": [],
   "source": [
    "# Define incumbency\n",
    "tmdls_limits_merged['incumbent'] = (tmdls_limits_merged['issue_date'] <= tmdls_limits_merged['TMDLDate'])"
   ],
   "metadata": {
    "collapsed": false,
    "pycharm": {
     "name": "#%%\n"
    }
   }
  },
  {
   "cell_type": "code",
   "execution_count": 7,
   "outputs": [
    {
     "data": {
      "text/plain": "False    191276\nTrue      94157\nName: incumbent, dtype: int64"
     },
     "execution_count": 7,
     "metadata": {},
     "output_type": "execute_result"
    }
   ],
   "source": [
    "tmdls_limits_merged['incumbent'].value_counts()"
   ],
   "metadata": {
    "collapsed": false,
    "pycharm": {
     "name": "#%%\n"
    }
   }
  },
  {
   "cell_type": "code",
   "execution_count": 8,
   "outputs": [
    {
     "data": {
      "text/plain": "ESCHERICHIA COLI (E. COLI)    119051\nPHOSPHORUS, TOTAL              95018\nCARBONACEOUS BOD               24124\nNITROGENOUS BOD                24124\nFECAL COLIFORM                 22997\nLEAD                             119\nName: pollutantName, dtype: int64"
     },
     "execution_count": 8,
     "metadata": {},
     "output_type": "execute_result"
    }
   ],
   "source": [
    "tmdls_limits_merged['pollutantName'].value_counts()"
   ],
   "metadata": {
    "collapsed": false,
    "pycharm": {
     "name": "#%%\n"
    }
   }
  },
  {
   "cell_type": "code",
   "execution_count": 9,
   "outputs": [],
   "source": [
    "# Define function to plot incumbents vs newcomers for a given parameter\n",
    "def plot_incumbent_comparison(data, parameter, bw=0.1):\n",
    "    plt.style.use('default')\n",
    "    value_types = data['limit_value_type_code'].unique()\n",
    "    fig, axes = plt.subplots(1, len(value_types), figsize=(15, 5))\n",
    "    fig.suptitle(parameter + '\\n (Orange=incumbent, Blue=newcomer)')\n",
    "    for i in range(0, len(value_types)):\n",
    "        sns.kdeplot(ax=axes[i], data=data[(data['incumbent']==True) & (data['limit_value_type_code']==value_types[i])], x='limit_value_standard_units', bw_adjust=bw, color='orange')\n",
    "        sns.kdeplot(ax=axes[i], data=data[(data['incumbent']==False) & (data['limit_value_type_code']==value_types[i])], x='limit_value_standard_units', bw_adjust=bw)\n",
    "        axes[i].set_title('Limit value type: ' + value_types[i] + ' (' + str(len(data[(data['incumbent']==True) & (data['limit_value_type_code']==value_types[i])])) + ' inc., ' + str(len(data[(data['incumbent']==False) & (data['limit_value_type_code']==value_types[i])])) + ' new)')"
   ],
   "metadata": {
    "collapsed": false,
    "pycharm": {
     "name": "#%%\n"
    }
   }
  },
  {
   "cell_type": "code",
   "execution_count": null,
   "outputs": [],
   "source": [
    "# Subset TMDLs by parameter\n",
    "AL_E_coli = tmdls_limits_merged[(tmdls_limits_merged['pollutantName']=='ESCHERICHIA COLI (E. COLI)') & (tmdls_limits_merged['parameter_desc']=='E. coli')].dropna(subset='limit_value_standard_units')\n",
    "AL_CBOD = tmdls_limits_merged[(tmdls_limits_merged['pollutantName']=='CARBONACEOUS BOD') & (tmdls_limits_merged['parameter_desc'].apply(lambda x: x in ['BOD, 5-day, total', 'BOD, carbonaceous [20 day, 20 C]', 'BOD, carbonaceous [25-day, 20 C]', 'BOD, carbonaceous [28 day, 20 C]', 'BOD, carbonaceous [40 day, 20 C]', 'BOD, carbonaceous [5 day, 20 C]', 'BOD, carbonaceous [5 day, 20 C][load]', 'BOD, carbonaceous [5 day, 20 C][per discharge]', 'BOD, carbonaceous [5 day, 5 C] BOD, carbonaceous [5-day, 20 C][streamflow]']))].dropna(subset='limit_value_standard_units')\n",
    "AL_P = tmdls_limits_merged[(tmdls_limits_merged['pollutantName']=='PHOSPHORUS, TOTAL') & (tmdls_limits_merged['parameter_desc'].apply(lambda x: x in ['Phosphorus, Total As P', 'Phosphorus, total [as P]', 'Phosphorous, total elemental', 'Phosphorous, total organic [as P]', 'Phosphorous, total recoverable']))].dropna(subset='limit_value_standard_units')\n",
    "AL_coliform = tmdls_limits_merged[(tmdls_limits_merged['pollutantName']=='FECAL COLIFORM') & (tmdls_limits_merged['parameter_desc'].apply(lambda x: x in ['Coliform, fecal - % samples exceeding limit', 'Coliform, fecal 10/mL', 'Coliform, fecal general', 'Coliform, fecal MF, MFC agar, 44.5 C, 24hr', 'Coliform, fecal MF, MFC broth, 44.5 C', 'Coliform, fecal MF, MFC, 0.7um', 'Coliform, fecal MPN + membrane ftl 44.5 C', 'Coliform, fecal, colony forming units', 'Fecal coliform', 'Fecal coliform in sludge, CFU/gram', 'Fecal coliform, MPN, EC med, 44.5 C']))].dropna(subset='limit_value_standard_units')\n",
    "AL_NBOD = tmdls_limits_merged[(tmdls_limits_merged['pollutantName']=='NITROGENOUS BOD') & (tmdls_limits_merged['parameter_desc'].apply(lambda x: x in ['Nitrogenous oxygen demand [20-day, 20 C]', 'Nitrogenous oxygen demand, % removal', 'Oxygen demand, nitrogenous, ultimate', 'Nitrite + Nitrate total [as N]', 'Nitrogen, ammonia total [as N]', 'Nitrogen, total [as N]', 'BOD, 5-day, 20 deg. C','Nitrogen, nitrate total [as N]', 'Nitrogen, nitrite total [as N]', 'Nitrogen, total Kjeldahl', 'Nitrogen, organic total [as N]']))].dropna(subset='limit_value_standard_units')"
   ],
   "metadata": {
    "collapsed": false,
    "pycharm": {
     "name": "#%%\n",
     "is_executing": true
    }
   }
  },
  {
   "cell_type": "code",
   "execution_count": null,
   "outputs": [],
   "source": [
    "plot_incumbent_comparison(AL_E_coli, 'E. coli')"
   ],
   "metadata": {
    "collapsed": false,
    "pycharm": {
     "name": "#%%\n",
     "is_executing": true
    }
   }
  },
  {
   "cell_type": "code",
   "execution_count": null,
   "outputs": [],
   "source": [
    "plot_incumbent_comparison(AL_CBOD, 'Carbonaceous BOD', bw=0.2)"
   ],
   "metadata": {
    "collapsed": false,
    "pycharm": {
     "name": "#%%\n",
     "is_executing": true
    }
   }
  },
  {
   "cell_type": "code",
   "execution_count": null,
   "outputs": [],
   "source": [
    "plot_incumbent_comparison(AL_NBOD, 'Nitrogenous BOD', bw=0.2)"
   ],
   "metadata": {
    "collapsed": false,
    "pycharm": {
     "name": "#%%\n"
    }
   }
  },
  {
   "cell_type": "code",
   "execution_count": null,
   "outputs": [],
   "source": [
    "plot_incumbent_comparison(AL_P, 'Phosphorus', bw=0.9)"
   ],
   "metadata": {
    "collapsed": false,
    "pycharm": {
     "name": "#%%\n",
     "is_executing": true
    }
   }
  },
  {
   "cell_type": "code",
   "execution_count": null,
   "outputs": [],
   "source": [
    "plot_incumbent_comparison(AL_coliform, 'Fecal coliform', bw=0.3)"
   ],
   "metadata": {
    "collapsed": false,
    "pycharm": {
     "name": "#%%\n",
     "is_executing": true
    }
   }
  },
  {
   "cell_type": "markdown",
   "source": [
    "### Can we perform statistical inference on these differences?"
   ],
   "metadata": {
    "collapsed": false,
    "pycharm": {
     "name": "#%% md\n"
    }
   }
  },
  {
   "cell_type": "code",
   "execution_count": null,
   "outputs": [],
   "source": [
    "# Concatenate all matched data above\n",
    "to_test = pd.concat([AL_E_coli, AL_P, AL_coliform, AL_CBOD, AL_NBOD])"
   ],
   "metadata": {
    "collapsed": false,
    "pycharm": {
     "name": "#%%\n",
     "is_executing": true
    }
   }
  },
  {
   "cell_type": "code",
   "execution_count": null,
   "outputs": [],
   "source": [
    "# Group by limit type\n",
    "grouped = to_test.groupby(['pollutantName', 'limit_value_type_code', 'statistical_base_code', 'facility_type_indicator', 'wastewater_permit_flag', 'stormwater_permit_flag', 'sewage_permit_flag', 'individual_permit_flag', 'major_permit_flag', 'actionIdentifier'], as_index=False).nunique()\n",
    "\n",
    "# Only retain permit limit types with more than one permittee, as well as both incumbents and newcomers\n",
    "grouped = grouped[(grouped['npdes_permit_id']>1) & (grouped['incumbent']>1)]"
   ],
   "metadata": {
    "collapsed": false,
    "pycharm": {
     "name": "#%%\n",
     "is_executing": true
    }
   }
  },
  {
   "cell_type": "code",
   "execution_count": null,
   "outputs": [],
   "source": [
    "p_values = pd.DataFrame()\n",
    "\n",
    "for i in range(0, len(grouped)):\n",
    "    # Pick out one permit limit type\n",
    "    permit_limit_type = grouped.iloc[[i]][['pollutantName', 'limit_value_type_code', 'statistical_base_code', 'facility_type_indicator', 'wastewater_permit_flag', 'stormwater_permit_flag', 'sewage_permit_flag', 'individual_permit_flag', 'major_permit_flag', 'actionIdentifier']].merge(to_test, on=['pollutantName', 'limit_value_type_code', 'statistical_base_code', 'facility_type_indicator', 'wastewater_permit_flag', 'stormwater_permit_flag', 'sewage_permit_flag', 'individual_permit_flag', 'major_permit_flag', 'actionIdentifier'], how='inner')\n",
    "\n",
    "    # Create ID tracking unique limits\n",
    "    permit_limit_type['unique_lim_id'] = permit_limit_type['npdes_permit_id'] + '_' + permit_limit_type['version_nmbr'].astype(str) + '_' + permit_limit_type['perm_feature_nmbr'].astype(str) + '_' + permit_limit_type['limit_begin_date'].astype(str)\n",
    "\n",
    "    # Drop non-unique limits\n",
    "    permit_limit_type.drop_duplicates('unique_lim_id', inplace=True)\n",
    "\n",
    "    # Optional, calculate stats\n",
    "    #stats = test.groupby('incumbent').agg(limit_mean=pd.NamedAgg(column='limit_value_standard_units', aggfunc=lambda x: x.mean()), limit_mean_SE=pd.NamedAgg(column='limit_value_standard_units', aggfunc=lambda x: x.sem()), unique_limits=pd.NamedAgg(column='unique_lim_id', aggfunc=lambda x: x.nunique()))\n",
    "\n",
    "    # Calculate Welch's t-test (two-pop t-test with diff variances) and save p-value\n",
    "    p_value = ss.ttest_ind(permit_limit_type[permit_limit_type['incumbent']==True]['limit_value_standard_units'], permit_limit_type[permit_limit_type['incumbent']==False]['limit_value_standard_units'], alternative='greater').pvalue\n",
    "    p_values = pd.concat([p_values, pd.Series(p_value)]).dropna()"
   ],
   "metadata": {
    "collapsed": false,
    "pycharm": {
     "name": "#%%\n",
     "is_executing": true
    }
   }
  },
  {
   "cell_type": "code",
   "execution_count": null,
   "outputs": [],
   "source": [
    "plt.style.use('default')\n",
    "plt.figure(figsize=(12,8))\n",
    "plt.hist(p_values, bins=30);\n",
    "plt.xlim((0, 1));\n",
    "plt.xlabel('Welch\\'s t-test p-value')\n",
    "plt.ylabel('# p-values')\n",
    "plt.title('Alt Hypothesis: incumbents\\' mean limit value > newcomers\\' mean limit value, \\n comparing similar permittees under the same TMDL in Alabama. \\n Phosphorus, pH, TSS, E. coli TMDLs included. (n=' + str(len(p_values)) + ' tests)')\n",
    "plt.savefig('grandpa_plot_1.png', dpi=300)"
   ],
   "metadata": {
    "collapsed": false,
    "pycharm": {
     "name": "#%%\n",
     "is_executing": true
    }
   }
  },
  {
   "cell_type": "code",
   "execution_count": null,
   "outputs": [],
   "source": [
    "# Group by limit type\n",
    "grouped = to_test.groupby(['pollutantName', 'limit_value_type_code', 'statistical_base_code', 'actionIdentifier'], as_index=False).nunique()\n",
    "\n",
    "# Only retain permit limit types with more than one permittee, as well as both incumbents and newcomers\n",
    "grouped = grouped[(grouped['npdes_permit_id'] > 1) & (grouped['incumbent'] > 1)]\n",
    "p_values = pd.DataFrame()\n",
    "\n",
    "for i in range(0, len(grouped)):\n",
    "    # Pick out one permit limit type\n",
    "    permit_limit_type = grouped.iloc[[i]][\n",
    "        ['pollutantName', 'limit_value_type_code', 'statistical_base_code', 'actionIdentifier']].merge(to_test,\n",
    "                                    on=['pollutantName', 'limit_value_type_code', 'statistical_base_code', 'actionIdentifier'], how='inner')\n",
    "\n",
    "    # Create ID tracking unique limits\n",
    "    permit_limit_type['unique_lim_id'] = permit_limit_type['npdes_permit_id'] + '_' + permit_limit_type[\n",
    "        'version_nmbr'].astype(str) + '_' + permit_limit_type['perm_feature_nmbr'].astype(str) + '_' + permit_limit_type['limit_begin_date'].astype(str)\n",
    "\n",
    "    # Drop non-unique limits\n",
    "    permit_limit_type.drop_duplicates('unique_lim_id', inplace=True)\n",
    "\n",
    "    # Optional, calculate stats\n",
    "    #stats = test.groupby('incumbent').agg(limit_mean=pd.NamedAgg(column='limit_value_standard_units', aggfunc=lambda x: x.mean()), limit_mean_SE=pd.NamedAgg(column='limit_value_standard_units', aggfunc=lambda x: x.sem()), unique_limits=pd.NamedAgg(column='unique_lim_id', aggfunc=lambda x: x.nunique()))\n",
    "\n",
    "    # Calculate Welch's t-test (two-pop t-test with diff variances) and save p-value\n",
    "    p_value = ss.ttest_ind(permit_limit_type[permit_limit_type['incumbent'] == True]['limit_value_standard_units'],\n",
    "                           permit_limit_type[permit_limit_type['incumbent'] == False]['limit_value_standard_units'],\n",
    "                           alternative='greater').pvalue\n",
    "    p_values = pd.concat([p_values, pd.Series(p_value)]).dropna()"
   ],
   "metadata": {
    "collapsed": false,
    "pycharm": {
     "name": "#%%\n",
     "is_executing": true
    }
   }
  },
  {
   "cell_type": "code",
   "execution_count": null,
   "outputs": [],
   "source": [
    "plt.style.use('default')\n",
    "plt.figure(figsize=(12, 8))\n",
    "plt.hist(p_values, bins=30);\n",
    "plt.xlim((0, 1));\n",
    "plt.xlabel('Welch\\'s t-test p-value')\n",
    "plt.ylabel('# p-values')\n",
    "plt.title(\n",
    "    'Alt Hypothesis: incumbents\\' mean limit value > newcomers\\' mean limit value, \\n comparing all facilities under the same TMDL in Alabama. \\n Phosphorus, pH, TSS, E. coli TMDLs included. (n=' + str(\n",
    "        len(p_values)) + ' tests)')\n",
    "plt.savefig('grandpa_plot_2.png', dpi=300)"
   ],
   "metadata": {
    "collapsed": false,
    "pycharm": {
     "name": "#%%\n",
     "is_executing": true
    }
   }
  },
  {
   "cell_type": "markdown",
   "source": [
    "### Can we extend this analysis to the national level for Phosphorus?"
   ],
   "metadata": {
    "collapsed": false,
    "pycharm": {
     "name": "#%% md\n"
    }
   }
  },
  {
   "cell_type": "code",
   "execution_count": null,
   "outputs": [],
   "source": [
    "# Read in DMR data for limit comparisons\n",
    "P_dmrs = pd.read_csv('phosphorus_dmrs.csv', parse_dates=['limit_begin_date', 'limit_end_date'], date_parser=lambda t: pd.to_datetime(t, errors='coerce'))\n",
    "# Extract only limits from DMR data\n",
    "P_limits = P_dmrs.drop_duplicates(subset=['npdes_permit_id', 'perm_feature_nmbr', 'parameter_desc', 'limit_value_type_code', 'limit_value_nmbr', 'statistical_base_code', 'limit_begin_date', 'version_nmbr'])\n",
    "del P_dmrs"
   ],
   "metadata": {
    "collapsed": false,
    "pycharm": {
     "name": "#%%\n",
     "is_executing": true
    }
   }
  },
  {
   "cell_type": "code",
   "execution_count": null,
   "outputs": [],
   "source": [
    "permit_data = pd.read_csv('permit_data.csv', parse_dates=['effective_date', 'issue_date', 'original_effective_date', 'original_issue_date', 'expiration_date', 'retirement_date', 'termination_date'], date_parser=lambda t: pd.to_datetime(t, errors='coerce'))\n",
    "\n",
    "# Merge with permit_data to get permit issuance date\n",
    "P_limits = P_limits.merge(permit_data, on=['npdes_permit_id', 'version_nmbr'], how='left')\n",
    "del permit_data"
   ],
   "metadata": {
    "collapsed": false,
    "pycharm": {
     "name": "#%%\n",
     "is_executing": true
    }
   }
  },
  {
   "cell_type": "code",
   "execution_count": null,
   "outputs": [],
   "source": [
    "# Merge limit data with TMDL data\n",
    "P_limits_merged = tmdls_merged.merge(P_limits, on='npdes_permit_id', how='inner')\n",
    "\n",
    "# Drop limits that expired, retired, or were terminated before the TMDL date\n",
    "P_limits_merged = P_limits_merged[~(P_limits_merged['expiration_date'] <= P_limits_merged['TMDLDate']) &\n",
    "                                          ~(P_limits_merged['retirement_date'] <= P_limits_merged['TMDLDate']) &\n",
    "                                          ~(P_limits_merged['termination_date'] <= P_limits_merged['TMDLDate'])]\n",
    "# Define incumbency\n",
    "P_limits_merged['incumbent'] = (P_limits_merged['issue_date'] <= P_limits_merged['TMDLDate'])"
   ],
   "metadata": {
    "collapsed": false,
    "pycharm": {
     "name": "#%%\n",
     "is_executing": true
    }
   }
  },
  {
   "cell_type": "code",
   "execution_count": null,
   "outputs": [],
   "source": [
    "P_limits_merged = P_limits_merged[(P_limits_merged['pollutantName']=='PHOSPHORUS, TOTAL') & (P_limits_merged['parameter_desc'].apply(lambda x: x in ['Phosphorus, Total As P', 'Phosphorus, total [as P]', 'Phosphorous, total elemental', 'Phosphorous, total organic [as P]', 'Phosphorous, total recoverable']))].dropna(subset='limit_value_standard_units')"
   ],
   "metadata": {
    "collapsed": false,
    "pycharm": {
     "name": "#%%\n",
     "is_executing": true
    }
   }
  },
  {
   "cell_type": "code",
   "execution_count": null,
   "outputs": [],
   "source": [
    "# Group by limit type\n",
    "grouped = P_limits_merged.groupby(['pollutantName', 'limit_value_type_code', 'statistical_base_code', 'actionIdentifier'], as_index=False).nunique()\n",
    "\n",
    "# Only retain permit limit types with more than one permittee, as well as both incumbents and newcomers\n",
    "grouped = grouped[(grouped['npdes_permit_id'] > 1) & (grouped['incumbent'] > 1)]\n",
    "p_values = pd.DataFrame()\n",
    "\n",
    "for i in range(0, len(grouped)):\n",
    "    # Pick out one permit limit type\n",
    "    permit_limit_type = grouped.iloc[[i]][\n",
    "        ['pollutantName', 'limit_value_type_code', 'statistical_base_code', 'actionIdentifier']].merge(P_limits_merged,\n",
    "                                    on=['pollutantName', 'limit_value_type_code', 'statistical_base_code', 'actionIdentifier'], how='inner')\n",
    "\n",
    "    # Create ID tracking unique limits\n",
    "    permit_limit_type['unique_lim_id'] = permit_limit_type['npdes_permit_id'] + '_' + permit_limit_type[\n",
    "        'version_nmbr'].astype(str) + '_' + permit_limit_type['perm_feature_nmbr'].astype(str) + '_' + permit_limit_type['limit_begin_date'].astype(str)\n",
    "\n",
    "    # Drop non-unique limits\n",
    "    permit_limit_type.drop_duplicates('unique_lim_id', inplace=True)\n",
    "\n",
    "    # Optional, calculate stats\n",
    "    #stats = test.groupby('incumbent').agg(limit_mean=pd.NamedAgg(column='limit_value_standard_units', aggfunc=lambda x: x.mean()), limit_mean_SE=pd.NamedAgg(column='limit_value_standard_units', aggfunc=lambda x: x.sem()), unique_limits=pd.NamedAgg(column='unique_lim_id', aggfunc=lambda x: x.nunique()))\n",
    "\n",
    "    # Calculate Welch's t-test (two-pop t-test with diff variances) and save p-value\n",
    "    p_value = ss.ttest_ind(permit_limit_type[permit_limit_type['incumbent'] == True]['limit_value_standard_units'],\n",
    "                           permit_limit_type[permit_limit_type['incumbent'] == False]['limit_value_standard_units'],\n",
    "                           alternative='greater').pvalue\n",
    "    p_values = pd.concat([p_values, pd.Series(p_value)]).dropna()"
   ],
   "metadata": {
    "collapsed": false,
    "pycharm": {
     "name": "#%%\n",
     "is_executing": true
    }
   }
  },
  {
   "cell_type": "code",
   "execution_count": null,
   "outputs": [],
   "source": [
    "plt.style.use('default')\n",
    "plt.figure(figsize=(12,8))\n",
    "plt.hist(p_values, bins=30);\n",
    "plt.xlim((0, 1));\n",
    "plt.xlabel('Welch\\'s t-test p-value')\n",
    "plt.ylabel('# p-values')\n",
    "plt.title('Alt Hypothesis: incumbents\\' mean limit value > newcomers\\' mean limit value, \\n comparing all permittees under the same TMDL nationwide. \\n Phosphorus included. (n=' + str(len(p_values)) + ' tests)');\n",
    "plt.savefig('grandpa_plot_1.png', dpi=300)"
   ],
   "metadata": {
    "collapsed": false,
    "pycharm": {
     "name": "#%%\n",
     "is_executing": true
    }
   }
  },
  {
   "cell_type": "markdown",
   "source": [
    "### What about Mercury?"
   ],
   "metadata": {
    "collapsed": false,
    "pycharm": {
     "name": "#%% md\n"
    }
   }
  },
  {
   "cell_type": "code",
   "execution_count": null,
   "outputs": [],
   "source": [
    "Hg_dmrs = pd.read_csv('mercury_dmrs.csv', parse_dates=['limit_begin_date', 'limit_end_date'],\n",
    "                     date_parser=lambda t: pd.to_datetime(t, errors='coerce'))\n",
    "# Extract only limits from DMR data\n",
    "Hg_limits = Hg_dmrs.drop_duplicates(\n",
    "    subset=['npdes_permit_id', 'perm_feature_nmbr', 'parameter_desc', 'limit_value_type_code', 'limit_value_nmbr',\n",
    "            'statistical_base_code', 'limit_begin_date', 'version_nmbr'])\n",
    "del Hg_dmrs"
   ],
   "metadata": {
    "collapsed": false,
    "pycharm": {
     "name": "#%%\n",
     "is_executing": true
    }
   }
  },
  {
   "cell_type": "code",
   "execution_count": null,
   "outputs": [],
   "source": [
    "permit_data = pd.read_csv('permit_data.csv',\n",
    "                          parse_dates=['effective_date', 'issue_date', 'original_effective_date', 'original_issue_date',\n",
    "                                       'expiration_date', 'retirement_date', 'termination_date'],\n",
    "                          date_parser=lambda t: pd.to_datetime(t, errors='coerce'))\n",
    "\n",
    "# Merge with permit_data to get permit issuance date\n",
    "Hg_limits = Hg_limits.merge(permit_data, on=['npdes_permit_id', 'version_nmbr'], how='left')\n",
    "del permit_data\n",
    "\n",
    "# Merge limit data with TMDL data\n",
    "Hg_limits_merged = tmdls_merged.merge(Hg_limits, on='npdes_permit_id', how='inner')\n",
    "\n",
    "# Drop limits that expired, retired, or were terminated before the TMDL date\n",
    "Hg_limits_merged = Hg_limits_merged[~(Hg_limits_merged['expiration_date'] <= Hg_limits_merged['TMDLDate']) &\n",
    "                                  ~(Hg_limits_merged['retirement_date'] <= Hg_limits_merged['TMDLDate']) &\n",
    "                                  ~(Hg_limits_merged['termination_date'] <= Hg_limits_merged['TMDLDate'])]\n",
    "# Define incumbency\n",
    "Hg_limits_merged['incumbent'] = (Hg_limits_merged['issue_date'] <= Hg_limits_merged['TMDLDate'])"
   ],
   "metadata": {
    "collapsed": false,
    "pycharm": {
     "name": "#%%\n",
     "is_executing": true
    }
   }
  },
  {
   "cell_type": "code",
   "execution_count": null,
   "outputs": [],
   "source": [
    "Hg_limits_merged = Hg_limits_merged[(Hg_limits_merged['pollutantName'] == 'MERCURY') & (\n",
    "    Hg_limits_merged['parameter_desc'].apply(\n",
    "        lambda x: x in ['Mercury', 'Mercury [Hg], in barite, dry weight', 'Mercury, dissolved [as Hg]', 'Mercury, potentially dissolvd', 'Mercury, sludge, total, dry weight [as Hg]', 'Mercury, tot in bot deposits [dry wgt]', 'Mercury, total [as Hg]', 'Mercury, total [as Hg] [per discharge]', 'Mercury, total [low level]', 'Mercury, total low level', 'Mercury, total recoverable', 'Mercury, total recoverable']))].dropna(\n",
    "    subset='limit_value_standard_units')"
   ],
   "metadata": {
    "collapsed": false,
    "pycharm": {
     "name": "#%%\n",
     "is_executing": true
    }
   }
  },
  {
   "cell_type": "code",
   "execution_count": null,
   "outputs": [],
   "source": [
    "# Group by limit type\n",
    "grouped = Hg_limits_merged.groupby(\n",
    "    ['pollutantName', 'limit_value_type_code', 'statistical_base_code', 'facility_type_indicator', 'wastewater_permit_flag', 'stormwater_permit_flag', 'sewage_permit_flag', 'individual_permit_flag', 'major_permit_flag', 'actionIdentifier'], as_index=False).nunique()\n",
    "\n",
    "# Only retain permit limit types with more than one permittee, as well as both incumbents and newcomers\n",
    "grouped = grouped[(grouped['npdes_permit_id'] > 1) & (grouped['incumbent'] > 1)]\n",
    "p_values = pd.DataFrame()\n",
    "\n",
    "for i in range(0, len(grouped)):\n",
    "    # Pick out one permit limit type\n",
    "    permit_limit_type = grouped.iloc[[i]][\n",
    "        ['pollutantName', 'limit_value_type_code', 'statistical_base_code', 'facility_type_indicator', 'wastewater_permit_flag', 'stormwater_permit_flag', 'sewage_permit_flag', 'individual_permit_flag', 'major_permit_flag', 'actionIdentifier']].merge(Hg_limits_merged,\n",
    "                                    on=['pollutantName', 'limit_value_type_code', 'statistical_base_code', 'facility_type_indicator', 'wastewater_permit_flag', 'stormwater_permit_flag', 'sewage_permit_flag', 'individual_permit_flag', 'major_permit_flag', 'actionIdentifier'], how='inner')\n",
    "\n",
    "    # Create ID tracking unique limits\n",
    "    permit_limit_type['unique_lim_id'] = permit_limit_type['npdes_permit_id'] + '_' + permit_limit_type[\n",
    "        'version_nmbr'].astype(str) + '_' + permit_limit_type['perm_feature_nmbr'].astype(str) + '_' + permit_limit_type['limit_begin_date'].astype(str)\n",
    "\n",
    "    # Drop non-unique limits\n",
    "    permit_limit_type.drop_duplicates('unique_lim_id', inplace=True)\n",
    "\n",
    "    # Optional, calculate stats\n",
    "    #stats = test.groupby('incumbent').agg(limit_mean=pd.NamedAgg(column='limit_value_standard_units', aggfunc=lambda x: x.mean()), limit_mean_SE=pd.NamedAgg(column='limit_value_standard_units', aggfunc=lambda x: x.sem()), unique_limits=pd.NamedAgg(column='unique_lim_id', aggfunc=lambda x: x.nunique()))\n",
    "\n",
    "    # Calculate Welch's t-test (two-pop t-test with diff variances) and save p-value\n",
    "    p_value = ss.ttest_ind(permit_limit_type[permit_limit_type['incumbent'] == True]['limit_value_standard_units'],\n",
    "                           permit_limit_type[permit_limit_type['incumbent'] == False]['limit_value_standard_units'],\n",
    "                           alternative='greater').pvalue\n",
    "    p_values = pd.concat([p_values, pd.Series(p_value)]).dropna()"
   ],
   "metadata": {
    "collapsed": false,
    "pycharm": {
     "name": "#%%\n",
     "is_executing": true
    }
   }
  },
  {
   "cell_type": "code",
   "execution_count": null,
   "outputs": [],
   "source": [
    "plt.style.use('default')\n",
    "plt.figure(figsize=(12, 8))\n",
    "plt.hist(p_values, bins=30);\n",
    "plt.xlim((0, 1));\n",
    "plt.xlabel('Welch\\'s t-test p-value')\n",
    "plt.ylabel('# p-values')\n",
    "plt.title(\n",
    "    'Alt Hypothesis: incumbents\\' mean limit value > newcomers\\' mean limit value, \\n comparing similar permittees under the same TMDL nationwide. \\n Mercury included. (n=' + str(\n",
    "        len(p_values)) + ' tests)');\n",
    "plt.savefig('grandpa_plot_2.png', dpi=300)"
   ],
   "metadata": {
    "collapsed": false,
    "pycharm": {
     "name": "#%%\n",
     "is_executing": true
    }
   }
  }
 ],
 "metadata": {
  "kernelspec": {
   "display_name": "Python 3",
   "language": "python",
   "name": "python3"
  },
  "language_info": {
   "codemirror_mode": {
    "name": "ipython",
    "version": 2
   },
   "file_extension": ".py",
   "mimetype": "text/x-python",
   "name": "python",
   "nbconvert_exporter": "python",
   "pygments_lexer": "ipython2",
   "version": "2.7.6"
  }
 },
 "nbformat": 4,
 "nbformat_minor": 0
}