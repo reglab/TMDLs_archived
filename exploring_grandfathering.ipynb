{
 "cells": [
  {
   "cell_type": "code",
   "execution_count": 1,
   "metadata": {
    "collapsed": true,
    "pycharm": {
     "name": "#%%\n"
    }
   },
   "outputs": [],
   "source": [
    "import pandas as pd\n",
    "import matplotlib.pyplot as plt\n",
    "import datetime as dt\n",
    "import warnings\n",
    "\n",
    "# Suppress warning messages\n",
    "warnings.filterwarnings('ignore')\n",
    "pd.options.display.max_columns = 200\n",
    "pd.options.display.max_rows = 2000\n",
    "# display all rows & columns\n",
    "pd.set_option('display.max_columns', None)\n",
    "pd.set_option('display.max_rows', None)"
   ]
  },
  {
   "cell_type": "code",
   "execution_count": 2,
   "outputs": [],
   "source": [
    "tmdls = pd.read_csv('all_actions.csv', parse_dates=['TMDLDate'], date_parser=lambda t: pd.to_datetime(t, errors='coerce')).drop('Unnamed: 0', axis=1).rename(columns={'assessmentUnitIdentifier':'AUID'})\n",
    "huc_npdes_permit_links = pd.read_csv('huc_npdes_permit_links.csv').rename(columns={'attributes.WBD_HUC12': 'HUC-12'})\n",
    "huc_AUID_links = pd.read_csv('huc_AUID_links.csv').rename(columns={'attributes.assessmentunitidentifier':'AUID', 'attributes.huc12': 'HUC-12'})\n",
    "permit_dates = pd.read_csv('permit_dates.csv', parse_dates=['effective_date','issue_date','original_effective_date','original_issue_date','expiration_date','retirement_date','termination_date'], date_parser=lambda t: pd.to_datetime(t, errors='coerce'))"
   ],
   "metadata": {
    "collapsed": false,
    "pycharm": {
     "name": "#%%\n"
    }
   }
  },
  {
   "cell_type": "code",
   "execution_count": 3,
   "outputs": [
    {
     "data": {
      "text/plain": "20009"
     },
     "execution_count": 3,
     "metadata": {},
     "output_type": "execute_result"
    }
   ],
   "source": [
    "len(tmdls.drop_duplicates('actionIdentifier'))"
   ],
   "metadata": {
    "collapsed": false,
    "pycharm": {
     "name": "#%%\n"
    }
   }
  },
  {
   "cell_type": "code",
   "execution_count": 4,
   "outputs": [],
   "source": [
    "tmdls_merged = tmdls.drop_duplicates().merge(huc_AUID_links, on='AUID', how='inner').merge(huc_npdes_permit_links, on='HUC-12', how='inner')"
   ],
   "metadata": {
    "collapsed": false,
    "pycharm": {
     "name": "#%%\n"
    }
   }
  },
  {
   "cell_type": "code",
   "execution_count": 5,
   "outputs": [
    {
     "data": {
      "text/plain": "260319"
     },
     "execution_count": 5,
     "metadata": {},
     "output_type": "execute_result"
    }
   ],
   "source": [
    "len(tmdls_merged.drop_duplicates('npdes_permit_id'))"
   ],
   "metadata": {
    "collapsed": false,
    "pycharm": {
     "name": "#%%\n"
    }
   }
  },
  {
   "cell_type": "code",
   "execution_count": 6,
   "outputs": [
    {
     "data": {
      "text/plain": "9166"
     },
     "execution_count": 6,
     "metadata": {},
     "output_type": "execute_result"
    }
   ],
   "source": [
    "len(tmdls_merged.drop_duplicates('HUC-12'))"
   ],
   "metadata": {
    "collapsed": false,
    "pycharm": {
     "name": "#%%\n"
    }
   }
  },
  {
   "cell_type": "code",
   "execution_count": 7,
   "outputs": [
    {
     "data": {
      "text/plain": "69540"
     },
     "execution_count": 7,
     "metadata": {},
     "output_type": "execute_result"
    }
   ],
   "source": [
    "len(tmdls_merged.drop_duplicates('AUID'))"
   ],
   "metadata": {
    "collapsed": false,
    "pycharm": {
     "name": "#%%\n"
    }
   }
  },
  {
   "cell_type": "code",
   "execution_count": 8,
   "outputs": [
    {
     "data": {
      "text/plain": "6626"
     },
     "execution_count": 8,
     "metadata": {},
     "output_type": "execute_result"
    }
   ],
   "source": [
    "len(tmdls_merged.drop_duplicates('actionIdentifier'))"
   ],
   "metadata": {
    "collapsed": false,
    "pycharm": {
     "name": "#%%\n"
    }
   }
  },
  {
   "cell_type": "code",
   "execution_count": 9,
   "outputs": [],
   "source": [
    "tmdls_merged = tmdls_merged.merge(permit_dates, on='npdes_permit_id', how='inner')"
   ],
   "metadata": {
    "collapsed": false,
    "pycharm": {
     "name": "#%%\n"
    }
   }
  },
  {
   "cell_type": "code",
   "execution_count": 10,
   "outputs": [],
   "source": [
    "tmdls_merged['incumbent'] = (tmdls_merged['issue_date'] <= tmdls_merged['TMDLDate'])"
   ],
   "metadata": {
    "collapsed": false,
    "pycharm": {
     "name": "#%%\n"
    }
   }
  },
  {
   "cell_type": "code",
   "execution_count": 11,
   "outputs": [
    {
     "data": {
      "text/plain": "  organizationIdentifier organizationTypeText state_code actionIdentifier  \\\n0                 21AWIC                State         AL            39070   \n1                 21AWIC                State         AL            39070   \n2                 21AWIC                State         AL            39070   \n3                 21AWIC                State         AL            39070   \n4                 21AWIC                State         AL            39070   \n\n  actionTypeCode  actionStatusCode completionDate                 AUID  \\\n0           TMDL  EPA Final Action     2010-09-21  AL03140107-0205-102   \n1           TMDL  EPA Final Action     2010-09-21  AL03140107-0205-102   \n2           TMDL  EPA Final Action     2010-09-21  AL03140107-0205-102   \n3           TMDL  EPA Final Action     2010-09-21  AL03140107-0205-102   \n4           TMDL  EPA Final Action     2010-09-21  AL03140107-0205-102   \n\n           pollutantName pollutantSourceTypeCode explicitMarginofSafetyText  \\\n0  ENTEROCOCCUS BACTERIA         Nonpoint source                        NaN   \n1  ENTEROCOCCUS BACTERIA         Nonpoint source                        NaN   \n2  ENTEROCOCCUS BACTERIA         Nonpoint source                        NaN   \n3  ENTEROCOCCUS BACTERIA         Nonpoint source                        NaN   \n4  ENTEROCOCCUS BACTERIA         Nonpoint source                        NaN   \n\n  implicitMarginofSafetyText  \\\n0                          N   \n1                          N   \n2                          N   \n3                          N   \n4                          N   \n\n                                    TMDLEndPointText   TMDLDate  Unnamed: 0_x  \\\n0  IN COASTAL WATERS, BACTERIA OF THE ENTEROCOCCI... 2010-09-21        342386   \n1  IN COASTAL WATERS, BACTERIA OF THE ENTEROCOCCI... 2010-09-21        342386   \n2  IN COASTAL WATERS, BACTERIA OF THE ENTEROCOCCI... 2010-09-21        342386   \n3  IN COASTAL WATERS, BACTERIA OF THE ENTEROCOCCI... 2010-09-21        342386   \n4  IN COASTAL WATERS, BACTERIA OF THE ENTEROCOCCI... 2010-09-21        342386   \n\n         HUC-12  Unnamed: 0_y attributes.SOURCE_FEATUREID npdes_permit_id  \\\n0  3.140107e+10         21370                   ALR107777       ALR107777   \n1  3.140107e+10         24366                   ALR10AAY0       ALR10AAY0   \n2  3.140107e+10         27846                   ALR10AM01       ALR10AM01   \n3  3.140107e+10         27870                   ALR10AA85       ALR10AA85   \n4  3.140107e+10         27870                   ALR10AA85       ALR10AA85   \n\n  permit_state  is_currently_active_flag effective_date issue_date  \\\n0           AL                     False     2011-07-27 2011-07-27   \n1           AL                     False     2013-08-15 2013-08-15   \n2           AL                     False     2014-06-11 2014-06-11   \n3           AL                      True     2016-04-05 2016-04-05   \n4           AL                      True     2021-04-01 2021-04-01   \n\n  original_effective_date original_issue_date expiration_date retirement_date  \\\n0              2011-07-27          2011-07-27      2016-03-31             NaT   \n1              2013-08-15          2013-08-15      2016-03-31             NaT   \n2              2014-06-11          2014-06-11      2016-03-31             NaT   \n3              2021-04-01          2013-06-12      2021-03-31      2021-03-31   \n4              2021-04-01          2013-06-12      2026-03-31             NaT   \n\n  termination_date  incumbent  \n0       2019-04-30      False  \n1       2020-03-13      False  \n2       2020-03-13      False  \n3              NaT      False  \n4              NaT      False  ",
      "text/html": "<div>\n<style scoped>\n    .dataframe tbody tr th:only-of-type {\n        vertical-align: middle;\n    }\n\n    .dataframe tbody tr th {\n        vertical-align: top;\n    }\n\n    .dataframe thead th {\n        text-align: right;\n    }\n</style>\n<table border=\"1\" class=\"dataframe\">\n  <thead>\n    <tr style=\"text-align: right;\">\n      <th></th>\n      <th>organizationIdentifier</th>\n      <th>organizationTypeText</th>\n      <th>state_code</th>\n      <th>actionIdentifier</th>\n      <th>actionTypeCode</th>\n      <th>actionStatusCode</th>\n      <th>completionDate</th>\n      <th>AUID</th>\n      <th>pollutantName</th>\n      <th>pollutantSourceTypeCode</th>\n      <th>explicitMarginofSafetyText</th>\n      <th>implicitMarginofSafetyText</th>\n      <th>TMDLEndPointText</th>\n      <th>TMDLDate</th>\n      <th>Unnamed: 0_x</th>\n      <th>HUC-12</th>\n      <th>Unnamed: 0_y</th>\n      <th>attributes.SOURCE_FEATUREID</th>\n      <th>npdes_permit_id</th>\n      <th>permit_state</th>\n      <th>is_currently_active_flag</th>\n      <th>effective_date</th>\n      <th>issue_date</th>\n      <th>original_effective_date</th>\n      <th>original_issue_date</th>\n      <th>expiration_date</th>\n      <th>retirement_date</th>\n      <th>termination_date</th>\n      <th>incumbent</th>\n    </tr>\n  </thead>\n  <tbody>\n    <tr>\n      <th>0</th>\n      <td>21AWIC</td>\n      <td>State</td>\n      <td>AL</td>\n      <td>39070</td>\n      <td>TMDL</td>\n      <td>EPA Final Action</td>\n      <td>2010-09-21</td>\n      <td>AL03140107-0205-102</td>\n      <td>ENTEROCOCCUS BACTERIA</td>\n      <td>Nonpoint source</td>\n      <td>NaN</td>\n      <td>N</td>\n      <td>IN COASTAL WATERS, BACTERIA OF THE ENTEROCOCCI...</td>\n      <td>2010-09-21</td>\n      <td>342386</td>\n      <td>3.140107e+10</td>\n      <td>21370</td>\n      <td>ALR107777</td>\n      <td>ALR107777</td>\n      <td>AL</td>\n      <td>False</td>\n      <td>2011-07-27</td>\n      <td>2011-07-27</td>\n      <td>2011-07-27</td>\n      <td>2011-07-27</td>\n      <td>2016-03-31</td>\n      <td>NaT</td>\n      <td>2019-04-30</td>\n      <td>False</td>\n    </tr>\n    <tr>\n      <th>1</th>\n      <td>21AWIC</td>\n      <td>State</td>\n      <td>AL</td>\n      <td>39070</td>\n      <td>TMDL</td>\n      <td>EPA Final Action</td>\n      <td>2010-09-21</td>\n      <td>AL03140107-0205-102</td>\n      <td>ENTEROCOCCUS BACTERIA</td>\n      <td>Nonpoint source</td>\n      <td>NaN</td>\n      <td>N</td>\n      <td>IN COASTAL WATERS, BACTERIA OF THE ENTEROCOCCI...</td>\n      <td>2010-09-21</td>\n      <td>342386</td>\n      <td>3.140107e+10</td>\n      <td>24366</td>\n      <td>ALR10AAY0</td>\n      <td>ALR10AAY0</td>\n      <td>AL</td>\n      <td>False</td>\n      <td>2013-08-15</td>\n      <td>2013-08-15</td>\n      <td>2013-08-15</td>\n      <td>2013-08-15</td>\n      <td>2016-03-31</td>\n      <td>NaT</td>\n      <td>2020-03-13</td>\n      <td>False</td>\n    </tr>\n    <tr>\n      <th>2</th>\n      <td>21AWIC</td>\n      <td>State</td>\n      <td>AL</td>\n      <td>39070</td>\n      <td>TMDL</td>\n      <td>EPA Final Action</td>\n      <td>2010-09-21</td>\n      <td>AL03140107-0205-102</td>\n      <td>ENTEROCOCCUS BACTERIA</td>\n      <td>Nonpoint source</td>\n      <td>NaN</td>\n      <td>N</td>\n      <td>IN COASTAL WATERS, BACTERIA OF THE ENTEROCOCCI...</td>\n      <td>2010-09-21</td>\n      <td>342386</td>\n      <td>3.140107e+10</td>\n      <td>27846</td>\n      <td>ALR10AM01</td>\n      <td>ALR10AM01</td>\n      <td>AL</td>\n      <td>False</td>\n      <td>2014-06-11</td>\n      <td>2014-06-11</td>\n      <td>2014-06-11</td>\n      <td>2014-06-11</td>\n      <td>2016-03-31</td>\n      <td>NaT</td>\n      <td>2020-03-13</td>\n      <td>False</td>\n    </tr>\n    <tr>\n      <th>3</th>\n      <td>21AWIC</td>\n      <td>State</td>\n      <td>AL</td>\n      <td>39070</td>\n      <td>TMDL</td>\n      <td>EPA Final Action</td>\n      <td>2010-09-21</td>\n      <td>AL03140107-0205-102</td>\n      <td>ENTEROCOCCUS BACTERIA</td>\n      <td>Nonpoint source</td>\n      <td>NaN</td>\n      <td>N</td>\n      <td>IN COASTAL WATERS, BACTERIA OF THE ENTEROCOCCI...</td>\n      <td>2010-09-21</td>\n      <td>342386</td>\n      <td>3.140107e+10</td>\n      <td>27870</td>\n      <td>ALR10AA85</td>\n      <td>ALR10AA85</td>\n      <td>AL</td>\n      <td>True</td>\n      <td>2016-04-05</td>\n      <td>2016-04-05</td>\n      <td>2021-04-01</td>\n      <td>2013-06-12</td>\n      <td>2021-03-31</td>\n      <td>2021-03-31</td>\n      <td>NaT</td>\n      <td>False</td>\n    </tr>\n    <tr>\n      <th>4</th>\n      <td>21AWIC</td>\n      <td>State</td>\n      <td>AL</td>\n      <td>39070</td>\n      <td>TMDL</td>\n      <td>EPA Final Action</td>\n      <td>2010-09-21</td>\n      <td>AL03140107-0205-102</td>\n      <td>ENTEROCOCCUS BACTERIA</td>\n      <td>Nonpoint source</td>\n      <td>NaN</td>\n      <td>N</td>\n      <td>IN COASTAL WATERS, BACTERIA OF THE ENTEROCOCCI...</td>\n      <td>2010-09-21</td>\n      <td>342386</td>\n      <td>3.140107e+10</td>\n      <td>27870</td>\n      <td>ALR10AA85</td>\n      <td>ALR10AA85</td>\n      <td>AL</td>\n      <td>True</td>\n      <td>2021-04-01</td>\n      <td>2021-04-01</td>\n      <td>2021-04-01</td>\n      <td>2013-06-12</td>\n      <td>2026-03-31</td>\n      <td>NaT</td>\n      <td>NaT</td>\n      <td>False</td>\n    </tr>\n  </tbody>\n</table>\n</div>"
     },
     "execution_count": 11,
     "metadata": {},
     "output_type": "execute_result"
    }
   ],
   "source": [
    "tmdls_merged.head()"
   ],
   "metadata": {
    "collapsed": false,
    "pycharm": {
     "name": "#%%\n"
    }
   }
  },
  {
   "cell_type": "code",
   "execution_count": null,
   "outputs": [],
   "source": [
    "len(tmdls_merged.drop_duplicates('npdes_permit_id'))"
   ],
   "metadata": {
    "collapsed": false,
    "pycharm": {
     "name": "#%%\n",
     "is_executing": true
    }
   }
  },
  {
   "cell_type": "code",
   "execution_count": null,
   "outputs": [],
   "source": [
    "tmdls_merged.drop_duplicates('npdes_permit_id')['incumbent'].value_counts"
   ],
   "metadata": {
    "collapsed": false,
    "pycharm": {
     "name": "#%%\n",
     "is_executing": true
    }
   }
  }
 ],
 "metadata": {
  "kernelspec": {
   "display_name": "Python 3",
   "language": "python",
   "name": "python3"
  },
  "language_info": {
   "codemirror_mode": {
    "name": "ipython",
    "version": 2
   },
   "file_extension": ".py",
   "mimetype": "text/x-python",
   "name": "python",
   "nbconvert_exporter": "python",
   "pygments_lexer": "ipython2",
   "version": "2.7.6"
  }
 },
 "nbformat": 4,
 "nbformat_minor": 0
}