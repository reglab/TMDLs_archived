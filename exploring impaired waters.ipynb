{
 "cells": [
  {
   "cell_type": "code",
   "execution_count": 1,
   "metadata": {
    "collapsed": true,
    "pycharm": {
     "name": "#%%\n"
    }
   },
   "outputs": [],
   "source": [
    "import matplotlib.pyplot as plt\n",
    "import pandas as pd\n",
    "import numpy as np\n",
    "import datetime as dt"
   ]
  },
  {
   "cell_type": "code",
   "execution_count": 2,
   "outputs": [],
   "source": [
    "# Specify vars to parse as dates\n",
    "date_vars = ['limit_begin_date', 'limit_end_date', 'monitoring_period_end_date', 'monitoring_period_end_month', 'monitoring_period_quarter_start', 'monitoring_period_quarter_end', 'value_received_date', 'value_received_month', 'value_received_quarter_start', 'value_received_quarter_end']"
   ],
   "metadata": {
    "collapsed": false,
    "pycharm": {
     "name": "#%%\n"
    }
   }
  },
  {
   "cell_type": "code",
   "execution_count": 3,
   "outputs": [
    {
     "name": "stderr",
     "output_type": "stream",
     "text": [
      "/var/folders/1h/lmmglcgx2652108zjxqs36vr0000gq/T/ipykernel_22670/3206737226.py:2: DtypeWarning: Columns (17,20,21,22,46,47,56,70) have mixed types. Specify dtype option on import or set low_memory=False.\n",
      "  MS_dmrs = pd.read_csv('~/Documents/DMR work/DMR Python Projects/dmr-permit-limit-changes/dmr_data/MS_dmrs.csv', dtype={\n"
     ]
    }
   ],
   "source": [
    "# Load in DMR data\n",
    "MS_dmrs = pd.read_csv('~/Documents/DMR work/DMR Python Projects/dmr-permit-limit-changes/dmr_data/MS_dmrs.csv', dtype={\n",
    "                            'perm_feature_nmbr': object,\n",
    "                             'limit_unit_code': object,\n",
    "                             'standard_unit_code': object,\n",
    "                             'dmr_unit_desc': str,\n",
    "                             'dmr_unit_code': object\n",
    "                         }, parse_dates=date_vars, date_parser=lambda t: pd.to_datetime(t, errors='coerce'))"
   ],
   "metadata": {
    "collapsed": false,
    "pycharm": {
     "name": "#%%\n"
    }
   }
  },
  {
   "cell_type": "markdown",
   "source": [
    "Constructing limit value time series"
   ],
   "metadata": {
    "collapsed": false,
    "pycharm": {
     "name": "#%% md\n"
    }
   }
  },
  {
   "cell_type": "code",
   "execution_count": 99,
   "outputs": [
    {
     "ename": "KeyError",
     "evalue": "\"['wbd_huc12'] not in index\"",
     "output_type": "error",
     "traceback": [
      "\u001B[0;31m---------------------------------------------------------------------------\u001B[0m",
      "\u001B[0;31mKeyError\u001B[0m                                  Traceback (most recent call last)",
      "Input \u001B[0;32mIn [99]\u001B[0m, in \u001B[0;36m<cell line: 2>\u001B[0;34m()\u001B[0m\n\u001B[1;32m      1\u001B[0m \u001B[38;5;66;03m# Drop DMRs with duplicate limit variables\u001B[39;00m\n\u001B[0;32m----> 2\u001B[0m limit_time_series \u001B[38;5;241m=\u001B[39m \u001B[43mexcl_missing_lv\u001B[49m\u001B[43m[\u001B[49m\u001B[43mlimit_ids\u001B[49m\u001B[43m \u001B[49m\u001B[38;5;241;43m+\u001B[39;49m\u001B[43m \u001B[49m\u001B[43mlimit_unique\u001B[49m\u001B[43m \u001B[49m\u001B[38;5;241;43m+\u001B[39;49m\u001B[43m \u001B[49m\u001B[43mlimit_times\u001B[49m\u001B[43m \u001B[49m\u001B[38;5;241;43m+\u001B[39;49m\u001B[43m \u001B[49m\u001B[43mlimit_vals\u001B[49m\u001B[43m \u001B[49m\u001B[38;5;241;43m+\u001B[39;49m\u001B[43m \u001B[49m\u001B[38;5;28;43mlist\u001B[39;49m\u001B[43m(\u001B[49m\u001B[43m[\u001B[49m\u001B[38;5;124;43m'\u001B[39;49m\u001B[38;5;124;43mwbd_huc12\u001B[39;49m\u001B[38;5;124;43m'\u001B[39;49m\u001B[43m]\u001B[49m\u001B[43m)\u001B[49m\u001B[43m]\u001B[49m\u001B[38;5;241m.\u001B[39mdrop_duplicates()\n\u001B[1;32m      3\u001B[0m \u001B[38;5;28mprint\u001B[39m(\u001B[38;5;124m'\u001B[39m\u001B[38;5;124mDMRs with duplicate limit variables dropped: \u001B[39m\u001B[38;5;124m'\u001B[39m, \u001B[38;5;28mlen\u001B[39m(MS_dmrs) \u001B[38;5;241m-\u001B[39m \u001B[38;5;28mlen\u001B[39m(limit_time_series))\n\u001B[1;32m      5\u001B[0m \u001B[38;5;66;03m# Sort limit values\u001B[39;00m\n",
      "File \u001B[0;32m~/miniforge3/envs/tf/lib/python3.10/site-packages/pandas/core/frame.py:3511\u001B[0m, in \u001B[0;36mDataFrame.__getitem__\u001B[0;34m(self, key)\u001B[0m\n\u001B[1;32m   3509\u001B[0m     \u001B[38;5;28;01mif\u001B[39;00m is_iterator(key):\n\u001B[1;32m   3510\u001B[0m         key \u001B[38;5;241m=\u001B[39m \u001B[38;5;28mlist\u001B[39m(key)\n\u001B[0;32m-> 3511\u001B[0m     indexer \u001B[38;5;241m=\u001B[39m \u001B[38;5;28;43mself\u001B[39;49m\u001B[38;5;241;43m.\u001B[39;49m\u001B[43mcolumns\u001B[49m\u001B[38;5;241;43m.\u001B[39;49m\u001B[43m_get_indexer_strict\u001B[49m\u001B[43m(\u001B[49m\u001B[43mkey\u001B[49m\u001B[43m,\u001B[49m\u001B[43m \u001B[49m\u001B[38;5;124;43m\"\u001B[39;49m\u001B[38;5;124;43mcolumns\u001B[39;49m\u001B[38;5;124;43m\"\u001B[39;49m\u001B[43m)\u001B[49m[\u001B[38;5;241m1\u001B[39m]\n\u001B[1;32m   3513\u001B[0m \u001B[38;5;66;03m# take() does not accept boolean indexers\u001B[39;00m\n\u001B[1;32m   3514\u001B[0m \u001B[38;5;28;01mif\u001B[39;00m \u001B[38;5;28mgetattr\u001B[39m(indexer, \u001B[38;5;124m\"\u001B[39m\u001B[38;5;124mdtype\u001B[39m\u001B[38;5;124m\"\u001B[39m, \u001B[38;5;28;01mNone\u001B[39;00m) \u001B[38;5;241m==\u001B[39m \u001B[38;5;28mbool\u001B[39m:\n",
      "File \u001B[0;32m~/miniforge3/envs/tf/lib/python3.10/site-packages/pandas/core/indexes/base.py:5782\u001B[0m, in \u001B[0;36mIndex._get_indexer_strict\u001B[0;34m(self, key, axis_name)\u001B[0m\n\u001B[1;32m   5779\u001B[0m \u001B[38;5;28;01melse\u001B[39;00m:\n\u001B[1;32m   5780\u001B[0m     keyarr, indexer, new_indexer \u001B[38;5;241m=\u001B[39m \u001B[38;5;28mself\u001B[39m\u001B[38;5;241m.\u001B[39m_reindex_non_unique(keyarr)\n\u001B[0;32m-> 5782\u001B[0m \u001B[38;5;28;43mself\u001B[39;49m\u001B[38;5;241;43m.\u001B[39;49m\u001B[43m_raise_if_missing\u001B[49m\u001B[43m(\u001B[49m\u001B[43mkeyarr\u001B[49m\u001B[43m,\u001B[49m\u001B[43m \u001B[49m\u001B[43mindexer\u001B[49m\u001B[43m,\u001B[49m\u001B[43m \u001B[49m\u001B[43maxis_name\u001B[49m\u001B[43m)\u001B[49m\n\u001B[1;32m   5784\u001B[0m keyarr \u001B[38;5;241m=\u001B[39m \u001B[38;5;28mself\u001B[39m\u001B[38;5;241m.\u001B[39mtake(indexer)\n\u001B[1;32m   5785\u001B[0m \u001B[38;5;28;01mif\u001B[39;00m \u001B[38;5;28misinstance\u001B[39m(key, Index):\n\u001B[1;32m   5786\u001B[0m     \u001B[38;5;66;03m# GH 42790 - Preserve name from an Index\u001B[39;00m\n",
      "File \u001B[0;32m~/miniforge3/envs/tf/lib/python3.10/site-packages/pandas/core/indexes/base.py:5845\u001B[0m, in \u001B[0;36mIndex._raise_if_missing\u001B[0;34m(self, key, indexer, axis_name)\u001B[0m\n\u001B[1;32m   5842\u001B[0m     \u001B[38;5;28;01mraise\u001B[39;00m \u001B[38;5;167;01mKeyError\u001B[39;00m(\u001B[38;5;124mf\u001B[39m\u001B[38;5;124m\"\u001B[39m\u001B[38;5;124mNone of [\u001B[39m\u001B[38;5;132;01m{\u001B[39;00mkey\u001B[38;5;132;01m}\u001B[39;00m\u001B[38;5;124m] are in the [\u001B[39m\u001B[38;5;132;01m{\u001B[39;00maxis_name\u001B[38;5;132;01m}\u001B[39;00m\u001B[38;5;124m]\u001B[39m\u001B[38;5;124m\"\u001B[39m)\n\u001B[1;32m   5844\u001B[0m not_found \u001B[38;5;241m=\u001B[39m \u001B[38;5;28mlist\u001B[39m(ensure_index(key)[missing_mask\u001B[38;5;241m.\u001B[39mnonzero()[\u001B[38;5;241m0\u001B[39m]]\u001B[38;5;241m.\u001B[39munique())\n\u001B[0;32m-> 5845\u001B[0m \u001B[38;5;28;01mraise\u001B[39;00m \u001B[38;5;167;01mKeyError\u001B[39;00m(\u001B[38;5;124mf\u001B[39m\u001B[38;5;124m\"\u001B[39m\u001B[38;5;132;01m{\u001B[39;00mnot_found\u001B[38;5;132;01m}\u001B[39;00m\u001B[38;5;124m not in index\u001B[39m\u001B[38;5;124m\"\u001B[39m)\n",
      "\u001B[0;31mKeyError\u001B[0m: \"['wbd_huc12'] not in index\""
     ]
    }
   ],
   "source": [
    "# For each NPDES permit, permit features, parameter, and limit type-- construct time series of limit values over time\n",
    "\n",
    "# Variables to include in time series\n",
    "limit_ids = ['limit_id', 'limit_value_id']\n",
    "limit_times = ['limit_begin_date', 'limit_end_date']\n",
    "limit_unique = ['npdes_permit_id', 'perm_feature_nmbr', 'parameter_desc', 'limit_value_type_code', 'statistical_base_code', 'statistical_base_type_code']\n",
    "limit_vals = ['limit_value_nmbr', 'limit_value_standard_units', 'standard_unit_desc']\n",
    "\n",
    "# Obtain limit values over time from DMR data\n",
    "# Exclude missing limit values\n",
    "excl_missing_lv = MS_dmrs.dropna(subset=['limit_value_nmbr'])\n",
    "# Drop DMRs with duplicate limit variables\n",
    "limit_time_series = excl_missing_lv[limit_ids + limit_unique + limit_times + limit_vals].drop_duplicates()\n",
    "print('DMRs with duplicate limit variables dropped: ', len(MS_dmrs) - len(limit_time_series))\n",
    "\n",
    "# Sort limit values\n",
    "limit_time_series.sort_values(by=limit_unique + limit_times + limit_vals, inplace=True)\n",
    "limit_time_series.head()"
   ],
   "metadata": {
    "collapsed": false,
    "pycharm": {
     "name": "#%%\n"
    }
   }
  },
  {
   "cell_type": "code",
   "execution_count": 5,
   "outputs": [
    {
     "data": {
      "text/plain": "1    107403\n2      4545\nName: counts, dtype: int64"
     },
     "execution_count": 5,
     "metadata": {},
     "output_type": "execute_result"
    }
   ],
   "source": [
    "# First, finding duplicates on limit id x time\n",
    "find_dups = limit_time_series.groupby(limit_ids + limit_times).size().reset_index(name='counts')\n",
    "\n",
    "# Print the counts of limits id x time combinations by how many times they appear in the dataset\n",
    "find_dups['counts'].value_counts()"
   ],
   "metadata": {
    "collapsed": false,
    "pycharm": {
     "name": "#%%\n"
    }
   }
  },
  {
   "cell_type": "code",
   "execution_count": 6,
   "outputs": [
    {
     "data": {
      "text/plain": "1     102893\n2      13374\n4        148\n10        40\n3         24\n8          8\n6          6\nName: counts, dtype: int64"
     },
     "execution_count": 6,
     "metadata": {},
     "output_type": "execute_result"
    }
   ],
   "source": [
    "# Flag duplicates on all known identifiers\n",
    "find_dups_all = limit_time_series.groupby(limit_unique + limit_times).size().reset_index(name='counts') # Count number of duplicates using the unique identifiers and time as ID variables\n",
    "find_dups_all = limit_time_series.merge(find_dups_all, how='left', on=limit_unique + limit_times)\n",
    "find_dups_all['counts'].value_counts()"
   ],
   "metadata": {
    "collapsed": false,
    "pycharm": {
     "name": "#%%\n"
    }
   }
  },
  {
   "cell_type": "code",
   "execution_count": 7,
   "outputs": [
    {
     "name": "stdout",
     "output_type": "stream",
     "text": [
      "Number of limits dropped:  13600\n"
     ]
    }
   ],
   "source": [
    "# For now, drop limits if they are not unique on our identifiers\n",
    "pre_length = len(limit_time_series)\n",
    "limit_time_series = find_dups_all[find_dups_all['counts']==1]\n",
    "print(\"Number of limits dropped: \", pre_length-len(limit_time_series))\n",
    "# notes about duplicated data:\n",
    "# some of the duplicates (e.g. for permit_id MS0003115 pH) have depulicated limit values; can just drop the id variable and then de-dup\n",
    "# some duplicates contain different limit values for different observations (e.g. for permit_id MS0034436 Flow, in conduit or thru treatment plant). this at least doesn't seem to change over time? not sure what happens to the limit values\n",
    "# for now, ignore"
   ],
   "metadata": {
    "collapsed": false,
    "pycharm": {
     "name": "#%%\n"
    }
   }
  },
  {
   "cell_type": "markdown",
   "source": [
    "Constructing flag for actual permit limit change"
   ],
   "metadata": {
    "collapsed": false,
    "pycharm": {
     "name": "#%% md\n"
    }
   }
  },
  {
   "cell_type": "code",
   "execution_count": 8,
   "outputs": [
    {
     "name": "stderr",
     "output_type": "stream",
     "text": [
      "/var/folders/1h/lmmglcgx2652108zjxqs36vr0000gq/T/ipykernel_22670/452802210.py:3: SettingWithCopyWarning: \n",
      "A value is trying to be set on a copy of a slice from a DataFrame.\n",
      "Try using .loc[row_indexer,col_indexer] = value instead\n",
      "\n",
      "See the caveats in the documentation: https://pandas.pydata.org/pandas-docs/stable/user_guide/indexing.html#returning-a-view-versus-a-copy\n",
      "  limit_time_series_df['prev_limit_value_nmbr'] = limit_time_series_df.groupby(limit_unique)[['limit_value_nmbr']].shift()\n",
      "/var/folders/1h/lmmglcgx2652108zjxqs36vr0000gq/T/ipykernel_22670/452802210.py:5: SettingWithCopyWarning: \n",
      "A value is trying to be set on a copy of a slice from a DataFrame.\n",
      "Try using .loc[row_indexer,col_indexer] = value instead\n",
      "\n",
      "See the caveats in the documentation: https://pandas.pydata.org/pandas-docs/stable/user_guide/indexing.html#returning-a-view-versus-a-copy\n",
      "  limit_time_series_df['prev_limit_value_standard_units'] = limit_time_series_df.groupby(limit_unique)[['limit_value_standard_units']].shift()\n",
      "/var/folders/1h/lmmglcgx2652108zjxqs36vr0000gq/T/ipykernel_22670/452802210.py:8: SettingWithCopyWarning: \n",
      "A value is trying to be set on a copy of a slice from a DataFrame.\n",
      "Try using .loc[row_indexer,col_indexer] = value instead\n",
      "\n",
      "See the caveats in the documentation: https://pandas.pydata.org/pandas-docs/stable/user_guide/indexing.html#returning-a-view-versus-a-copy\n",
      "  limit_time_series_df['limit_change'] = np.where(condition1 & condition2, 1, 0)\n"
     ]
    }
   ],
   "source": [
    "# Compare to flagged value; if limit_value_standard_units != prev then there was a change\n",
    "limit_time_series_df = limit_time_series\n",
    "limit_time_series_df['prev_limit_value_nmbr'] = limit_time_series_df.groupby(limit_unique)[['limit_value_nmbr']].shift()\n",
    "\n",
    "limit_time_series_df['prev_limit_value_standard_units'] = limit_time_series_df.groupby(limit_unique)[['limit_value_standard_units']].shift()\n",
    "condition1 = limit_time_series_df['prev_limit_value_nmbr'].notna()\n",
    "condition2 = limit_time_series_df['limit_value_nmbr'] != limit_time_series_df['prev_limit_value_nmbr']\n",
    "limit_time_series_df['limit_change'] = np.where(condition1 & condition2, 1, 0)"
   ],
   "metadata": {
    "collapsed": false,
    "pycharm": {
     "name": "#%%\n"
    }
   }
  },
  {
   "cell_type": "code",
   "execution_count": 9,
   "outputs": [
    {
     "name": "stderr",
     "output_type": "stream",
     "text": [
      "/var/folders/1h/lmmglcgx2652108zjxqs36vr0000gq/T/ipykernel_22670/1790454609.py:2: SettingWithCopyWarning: \n",
      "A value is trying to be set on a copy of a slice from a DataFrame.\n",
      "Try using .loc[row_indexer,col_indexer] = value instead\n",
      "\n",
      "See the caveats in the documentation: https://pandas.pydata.org/pandas-docs/stable/user_guide/indexing.html#returning-a-view-versus-a-copy\n",
      "  limit_time_series_df['limit_change_pct'] = 100*(limit_time_series_df['limit_value_standard_units']-limit_time_series_df['prev_limit_value_standard_units'])/limit_time_series_df['prev_limit_value_standard_units']\n",
      "/var/folders/1h/lmmglcgx2652108zjxqs36vr0000gq/T/ipykernel_22670/1790454609.py:3: SettingWithCopyWarning: \n",
      "A value is trying to be set on a copy of a slice from a DataFrame.\n",
      "Try using .loc[row_indexer,col_indexer] = value instead\n",
      "\n",
      "See the caveats in the documentation: https://pandas.pydata.org/pandas-docs/stable/user_guide/indexing.html#returning-a-view-versus-a-copy\n",
      "  limit_time_series_df['limit_change_pct'] = np.where(limit_time_series_df['limit_change']==0, np.nan, limit_time_series_df['limit_change_pct']) # if there is no limit change, represent limit_change_pct as NaN\n"
     ]
    }
   ],
   "source": [
    "#  Calculate limit change % difference\n",
    "limit_time_series_df['limit_change_pct'] = 100*(limit_time_series_df['limit_value_standard_units']-limit_time_series_df['prev_limit_value_standard_units'])/limit_time_series_df['prev_limit_value_standard_units']\n",
    "limit_time_series_df['limit_change_pct'] = np.where(limit_time_series_df['limit_change']==0, np.nan, limit_time_series_df['limit_change_pct']) # if there is no limit change, represent limit_change_pct as NaN"
   ],
   "metadata": {
    "collapsed": false,
    "pycharm": {
     "name": "#%%\n"
    }
   }
  },
  {
   "cell_type": "code",
   "execution_count": 10,
   "outputs": [
    {
     "data": {
      "text/plain": "0    97125\n1     5768\nName: limit_change, dtype: int64"
     },
     "execution_count": 10,
     "metadata": {},
     "output_type": "execute_result"
    }
   ],
   "source": [
    "limit_time_series_df['limit_change'].value_counts()"
   ],
   "metadata": {
    "collapsed": false,
    "pycharm": {
     "name": "#%%\n"
    }
   }
  },
  {
   "cell_type": "code",
   "execution_count": 68,
   "outputs": [],
   "source": [
    "limit_changes = limit_time_series_df[limit_time_series_df['limit_change']==1]\n",
    "limits_unchanged = limit_time_series_df[limit_time_series_df['limit_change']==0]"
   ],
   "metadata": {
    "collapsed": false,
    "pycharm": {
     "name": "#%%\n"
    }
   }
  },
  {
   "cell_type": "markdown",
   "source": [
    "How many limit series have never changed?"
   ],
   "metadata": {
    "collapsed": false,
    "pycharm": {
     "name": "#%% md\n"
    }
   }
  },
  {
   "cell_type": "code",
   "execution_count": 73,
   "outputs": [
    {
     "data": {
      "text/plain": "97114"
     },
     "execution_count": 73,
     "metadata": {},
     "output_type": "execute_result"
    }
   ],
   "source": [
    "limits_unchanged.drop_duplicates(subset=['limit_value_id', 'limit_id']).shape[0]"
   ],
   "metadata": {
    "collapsed": false,
    "pycharm": {
     "name": "#%%\n"
    }
   }
  },
  {
   "cell_type": "markdown",
   "source": [
    "How many limit series have ever changed?"
   ],
   "metadata": {
    "collapsed": false,
    "pycharm": {
     "name": "#%% md\n"
    }
   }
  },
  {
   "cell_type": "code",
   "execution_count": 83,
   "outputs": [
    {
     "data": {
      "text/plain": "5768"
     },
     "execution_count": 83,
     "metadata": {},
     "output_type": "execute_result"
    }
   ],
   "source": [
    "limit_changes.drop_duplicates(subset=['limit_value_id', 'limit_id']).shape[0]"
   ],
   "metadata": {
    "collapsed": false,
    "pycharm": {
     "name": "#%%\n"
    }
   }
  },
  {
   "cell_type": "code",
   "execution_count": 47,
   "outputs": [],
   "source": [
    "impaired_waters = pd.read_csv('impaired_waters.csv', dtype={'HUC12': object})\n",
    "permits = pd.read_csv('MS_permits.csv', dtype={'wbd_huc12': object}).rename(columns={'wbd_huc12':'HUC12'})"
   ],
   "metadata": {
    "collapsed": false,
    "pycharm": {
     "name": "#%%\n"
    }
   }
  },
  {
   "cell_type": "code",
   "execution_count": 49,
   "outputs": [],
   "source": [
    "impaired_permits = permits.merge(impaired_waters, how='inner', on='HUC12')\n",
    "impaired_permits.to_csv('impaired_permits.csv')"
   ],
   "metadata": {
    "collapsed": false,
    "pycharm": {
     "name": "#%%\n"
    }
   }
  },
  {
   "cell_type": "code",
   "execution_count": 122,
   "outputs": [
    {
     "data": {
      "text/plain": "154"
     },
     "execution_count": 122,
     "metadata": {},
     "output_type": "execute_result"
    }
   ],
   "source": [
    "impaired_permits.drop_duplicates(subset=['HUC12']).shape[0]"
   ],
   "metadata": {
    "collapsed": false,
    "pycharm": {
     "name": "#%%\n"
    }
   }
  },
  {
   "cell_type": "markdown",
   "source": [
    "How many impaired waters were left behind after the merge?"
   ],
   "metadata": {
    "collapsed": false,
    "pycharm": {
     "name": "#%% md\n"
    }
   }
  },
  {
   "cell_type": "code",
   "execution_count": 118,
   "outputs": [
    {
     "data": {
      "text/plain": "49"
     },
     "execution_count": 118,
     "metadata": {},
     "output_type": "execute_result"
    }
   ],
   "source": [
    "hucs = list(impaired_permits['HUC12'].unique())\n",
    "unmatched = impaired_waters[impaired_waters['HUC12'].apply(lambda x: x not in hucs)]\n",
    "len(unmatched.drop_duplicates(subset=['HUC12']))"
   ],
   "metadata": {
    "collapsed": false,
    "pycharm": {
     "name": "#%%\n"
    }
   }
  },
  {
   "cell_type": "markdown",
   "source": [
    "49 impaired waters were not matched by HUC12 code to the MS permits list. What do these waters look like?"
   ],
   "metadata": {
    "collapsed": false,
    "pycharm": {
     "name": "#%% md\n"
    }
   }
  },
  {
   "cell_type": "code",
   "execution_count": 51,
   "outputs": [
    {
     "data": {
      "text/plain": "         AUID ASSESSMENT_ID         ASSESSMENT_UNIT_NAME FIRST LISTED   \\\n2    MS931011      MS931011                  WALNUT LAKE          2022   \n3    MS938312      MS938312                   LAKE HENRY          2016   \n4    MS990411      MS990411                  LAKE BEULAH           NaN   \n5    MS100211      MS100211                 SPRING CREEK          2018   \n7      101112        101112                   SAND CREEK          2008   \n10     103913        103913                CROOKED CREEK          2018   \n11     103914        103914                 PARKER CREEK          2018   \n12     104511        104511  PEPPER CREEK / RUCKER CREEK          2012   \n13     104812        104812            BIG CYPRESS CREEK          2012   \n17     107611        107611                 PORTER CREEK          2012   \n23     109511        109511                 WILLIS CREEK          2002   \n33     203411        203411                HICKORY CREEK          2018   \n34     203511        203511                HICKORY CREEK          2018   \n35     203711        203711             DEAD TIGER CREEK          2006   \n44     301212        301212           TAREBREECHES CREEK          2010   \n45     301213        301213            LITTLE CANE CREEK          2018   \n46     301312        301312                   COON CREEK          2020   \n48     301913        301913                 FOURTH CREEK          2014   \n52     302112        302112                 TURKEY CREEK          2014   \n53     302412        302412                BEARMAN CREEK          2018   \n64     403311        403311                  ROCKY CREEK          2012   \n67     404712        404712               PENANTLY CREEK          2012   \n68     404811        404811             SOUENLOVIE CREEK          2010   \n70     405111        405111                ARCHUSA CREEK          2012   \n85     413612        413612                 HORSE BRANCH          2006   \n90     414512        414512                  TIGER CREEK          2012   \n96     421212        421212                 BEAVER CREEK          2012   \n143    603411        603411                 WILLIS CREEK          2012   \n149    607811        607811                ZEIGLER CREEK          2014   \n150    608111        608111                    DRY CREEK          2010   \n151    608211        608211                    DRY CREEK          2012   \n152    608312        608312                 BEAVER CREEK          2020   \n153    608611        608611                    DRY BAYOU          2014   \n155    609612        609612                 BROWNS CREEK          2014   \n156    610514        610514                   BEAR CREEK          2010   \n157    611211        611211           PICKNEYVILLE CREEK          2014   \n159    612312        612312                   DAYS CREEK          2016   \n167    801611        801611              MANTACHIE CREEK          2014   \n168    801612        801612                   SAND CREEK          2014   \n169    801613        801613               PUNCHEON CREEK          2014   \n174    804111        804111                   TOWN CREEK          2016   \n175    804112        804112                 FULLER CREEK          2012   \n188    808312        808312                  LONG BRANCH          2014   \n196    812211        812211                 HOLLIS CREEK          2002   \n199    813012        813012                SHOTBAG CREEK          2008   \n219    908411        908411                SHELTON CREEK          2002   \n220    909112        909112       LITTLE COLDWATER CREEK          2010   \n222    910512        910512             JAMES WOLF CREEK          2016   \n223    910611        910611             JAMES WOLF CREEK          2010   \n226    913812        913812                   BEAR CREEK          2014   \n227    913813        913813                   BUCK CREEK          2018   \n229    914313        914313       LITTLE HORSE PEN CREEK          2018   \n231    915214        915214               SAVANNAH CREEK          2018   \n236    916911        916911                 LITTLE BOGUE          2016   \n237    917011        917011                 LITTLE BOGUE          2016   \n238    917111        917111                 LITTLE BOGUE          2016   \n240    919311        919311                PELUCIA CREEK          2020   \n241    920911        920911             FANNEGUSHA CREEK          2002   \n246    931912        931912                  MOORE BAYOU          2016   \n248    938511        938511                  PECAN BAYOU          2016   \n\n    EPA_IR_CAT           WATER_TYPE       Acres      SqKm  LAST_ASSESSED  \\\n2            5  LAKE/RESERVOIR/POND  142.855946  0.578118           2022   \n3            5  LAKE/RESERVOIR/POND  154.714323  0.626107           2018   \n4            5  LAKE/RESERVOIR/POND  993.896204  4.022155           2018   \n5            5   STREAM/CREEK/RIVER    8.350559       NaN           2022   \n7            5   STREAM/CREEK/RIVER    4.574525       NaN           2022   \n10           5   STREAM/CREEK/RIVER    3.509387       NaN           2022   \n11           5   STREAM/CREEK/RIVER    5.621625       NaN           2022   \n12           5   STREAM/CREEK/RIVER    4.571230       NaN           2014   \n13           5   STREAM/CREEK/RIVER    2.843281       NaN           2012   \n17           5   STREAM/CREEK/RIVER    9.066825       NaN           2014   \n23           5   STREAM/CREEK/RIVER    4.043436       NaN           2002   \n33           5   STREAM/CREEK/RIVER    8.120813       NaN           2020   \n34           5   STREAM/CREEK/RIVER   10.935041       NaN           2020   \n35           5   STREAM/CREEK/RIVER   11.460741       NaN           2018   \n44           5   STREAM/CREEK/RIVER    7.873043       NaN           2022   \n45           5   STREAM/CREEK/RIVER    1.746443       NaN           2018   \n46           5   STREAM/CREEK/RIVER    3.229213       NaN           2022   \n48           5   STREAM/CREEK/RIVER    4.276346       NaN           2016   \n52           5   STREAM/CREEK/RIVER    2.670971       NaN           2016   \n53           5   STREAM/CREEK/RIVER    2.698910       NaN           2018   \n64           5   STREAM/CREEK/RIVER   12.735324       NaN           2014   \n67           5   STREAM/CREEK/RIVER   10.025054       NaN           2018   \n68           5   STREAM/CREEK/RIVER   14.274396       NaN           2012   \n70           5   STREAM/CREEK/RIVER    9.892343       NaN           2014   \n85           5   STREAM/CREEK/RIVER    1.638861       NaN           2002   \n90           5   STREAM/CREEK/RIVER    6.982345       NaN           2014   \n96           5   STREAM/CREEK/RIVER    3.308163       NaN           2016   \n143          5   STREAM/CREEK/RIVER    6.256947       NaN           2022   \n149          5   STREAM/CREEK/RIVER    3.548046       NaN           2022   \n150          5   STREAM/CREEK/RIVER    6.375405       NaN           2022   \n151          5   STREAM/CREEK/RIVER   13.863599       NaN           2022   \n152          5   STREAM/CREEK/RIVER    5.889759       NaN           2022   \n153          5   STREAM/CREEK/RIVER    9.558592       NaN           2016   \n155          5   STREAM/CREEK/RIVER    8.913879       NaN           2016   \n156          5   STREAM/CREEK/RIVER    4.081266       NaN           2014   \n157          5   STREAM/CREEK/RIVER    3.277967       NaN           2016   \n159          5   STREAM/CREEK/RIVER    5.879044       NaN           2016   \n167          5   STREAM/CREEK/RIVER   11.002875       NaN           2016   \n168          5   STREAM/CREEK/RIVER    3.679835       NaN           2022   \n169          5   STREAM/CREEK/RIVER    3.068317       NaN           2022   \n174          5   STREAM/CREEK/RIVER   11.130119       NaN           2022   \n175          5   STREAM/CREEK/RIVER    8.854345       NaN           2016   \n188          5   STREAM/CREEK/RIVER   11.827937       NaN           2016   \n196          5   STREAM/CREEK/RIVER   11.327334       NaN           2022   \n199          5   STREAM/CREEK/RIVER   10.111607       NaN           2012   \n219          5   STREAM/CREEK/RIVER    3.280132       NaN           2020   \n220          5   STREAM/CREEK/RIVER    8.553720       NaN           2014   \n222          5   STREAM/CREEK/RIVER    2.075261       NaN           2002   \n223          5   STREAM/CREEK/RIVER    6.168151       NaN           2022   \n226          5   STREAM/CREEK/RIVER    6.593571       NaN           2016   \n227          5   STREAM/CREEK/RIVER    6.133988       NaN           2020   \n229          5   STREAM/CREEK/RIVER    3.899208       NaN           2022   \n231          5   STREAM/CREEK/RIVER    3.542265       NaN           2020   \n236          5   STREAM/CREEK/RIVER    6.684596       NaN           2006   \n237          5   STREAM/CREEK/RIVER    5.352939       NaN           2006   \n238          5   STREAM/CREEK/RIVER    7.453442       NaN           2020   \n240          5   STREAM/CREEK/RIVER    9.738141       NaN           2022   \n241          5   STREAM/CREEK/RIVER   10.821589       NaN           2020   \n246          5   STREAM/CREEK/RIVER   14.768548       NaN           2008   \n248          5   STREAM/CREEK/RIVER    8.589201       NaN           2014   \n\n     LAST_MODIFIED  Overall_Status        HUC12  \\\n2             2022  Not Supporting  80302040804   \n3             2020  Not Supporting  80302070802   \n4             2020  Not Supporting  80201000302   \n5             2022  Not Supporting  80602010101   \n7             2022  Not Supporting  80602010301   \n10            2022  Not Supporting  80602010903   \n11            2022  Not Supporting  80602010903   \n12            2020  Not Supporting  80602020407   \n13            2020  Not Supporting  80602020101   \n17            2020  Not Supporting  80602020704   \n23            2018  Not Supporting  80602021104   \n33            2020  Not Supporting  31700090901   \n34            2020  Not Supporting  31700090901   \n35            2020  Not Supporting  31700090904   \n44            2022  Not Supporting  80102070503   \n45            2020  Not Supporting  80102070503   \n46            2022  Not Supporting  80102070504   \n48            2020  Not Supporting  80102070204   \n52            2020  Not Supporting  80102070602   \n53            2020  Not Supporting  80102070801   \n64            2020  Not Supporting  31700020502   \n67            2020  Not Supporting  31700020102   \n68            2020  Not Supporting  31700020102   \n70            2020  Not Supporting  31700020303   \n85            2018  Not Supporting  31700050205   \n90            2020  Not Supporting  31700050502   \n96            2020  Not Supporting  31700070502   \n143           2022  Not Supporting  80602030704   \n149           2022  Not Supporting  80602050507   \n150           2022  Not Supporting  80602050507   \n151           2022  Not Supporting  80602050601   \n152           2022  Not Supporting  80602050608   \n153           2020  Not Supporting  80602050604   \n155           2020  Not Supporting  80602060102   \n156           2020  Not Supporting  80602060304   \n157           2020  Not Supporting  80702010203   \n159           2020  Not Supporting  80702020202   \n167           2020  Not Supporting  31601010401   \n168           2022  Not Supporting  31601010401   \n169           2022  Not Supporting  31601010401   \n174           2022  Not Supporting  31601011301   \n175           2020  Not Supporting  31601011301   \n188           2020  Not Supporting  31601040507   \n196           2022  Not Supporting  31601080207   \n199           2020  Not Supporting  31601080302   \n219           2020  Not Supporting  80302030405   \n220           2020  Not Supporting  80302040104   \n222           2020  Not Supporting  80302040402   \n223           2022  Not Supporting  80302040402   \n226           2020  Not Supporting  80302050107   \n227           2020  Not Supporting  80302050107   \n229           2022  Not Supporting  80302050404   \n231           2020  Not Supporting  80302050205   \n236           2020  Not Supporting  80302050503   \n237           2020  Not Supporting  80302050503   \n238           2020  Not Supporting  80302050504   \n240           2022  Not Supporting  80302060101   \n241           2020  Not Supporting  80302060602   \n246           2020  Not Supporting  80302020501   \n248           2020  Not Supporting  80302070705   \n\n                                   HUC12_NAME  \n2                Brushy Bayou-Coldwater River  \n3                                  Lake Henry  \n4               Lake Beulah-Mississippi River  \n5                 Savannah Creek-Spring Creek  \n7                            Calabrella Creek  \n10                Ousley Creek-Seneasha Creek  \n11                Ousley Creek-Seneasha Creek  \n12               Pepper Creek-Big Black River  \n13            Cypress Creek-Big Cypress Creek  \n17                               Porter Creek  \n23             Kennison Creek-Big Black River  \n33                        Upper Hickory Creek  \n34                        Upper Hickory Creek  \n35                           Dead Tiger Creek  \n44   Tarebreeches Creek-Tuscumbia River Canal  \n45   Tarebreeches Creek-Tuscumbia River Canal  \n46           Coon Creek-Tuscumbia River Canal  \n48                 Fourth Creek-Hatchie River  \n52                   Turkey Creek-Muddy Creek  \n53             Goose Pond Creek-Hatchie River  \n64               Motts Creek-Buckatunna Creek  \n67            Penantly Creek-Souenlovie Creek  \n68            Penantly Creek-Souenlovie Creek  \n70                Rolling Creek-Archusa Creek  \n85                          Tallahattah Creek  \n90                     Tiger Creek-Bogue Homo  \n96                 Beaver Creek-Hickory Creek  \n143                  Brady Creek-Willis Creek  \n149            Zeigler Creek-Homochitto River  \n150            Zeigler Creek-Homochitto River  \n151                    Rocky Branch-Dry Creek  \n152            Beaver Branch-Homochitto River  \n153                    Caney Branch-Dry Bayou  \n155                Browns Creek-Buffalo River  \n156              Belmont Slough-Buffalo River  \n157                         Little Bayou Sara  \n159          Days Creek-West Fork Amite River  \n167                     Upper Mantachie Creek  \n168                     Upper Mantachie Creek  \n169                     Upper Mantachie Creek  \n174                   Fuller Creek-Town Creek  \n175                   Fuller Creek-Town Creek  \n188                    Long Branch-Line Creek  \n196   Talking Warrior Creek-Chinchahoma Creek  \n199                             Shotbag Creek  \n219                Shelton Creek-Yocona River  \n220    Little Coldwater Creek-Coldwater River  \n222                          James Wolf Creek  \n223                          James Wolf Creek  \n226           Bear Creek-Topashaw Creek Canal  \n227           Bear Creek-Topashaw Creek Canal  \n229      Horse Pen Creek-Sabougla Creek Canal  \n231              Kittahutty Creek-Skuna River  \n236                   Dunn Creek-Little Bogue  \n237                   Dunn Creek-Little Bogue  \n238                  Mouse Creek-Little Bogue  \n240                       Upper Pelucia Creek  \n241                            Bophumpa Creek  \n246                Whiting Lake-Cassidy Bayou  \n248                               Pecan Bayou  ",
      "text/html": "<div>\n<style scoped>\n    .dataframe tbody tr th:only-of-type {\n        vertical-align: middle;\n    }\n\n    .dataframe tbody tr th {\n        vertical-align: top;\n    }\n\n    .dataframe thead th {\n        text-align: right;\n    }\n</style>\n<table border=\"1\" class=\"dataframe\">\n  <thead>\n    <tr style=\"text-align: right;\">\n      <th></th>\n      <th>AUID</th>\n      <th>ASSESSMENT_ID</th>\n      <th>ASSESSMENT_UNIT_NAME</th>\n      <th>FIRST LISTED</th>\n      <th>EPA_IR_CAT</th>\n      <th>WATER_TYPE</th>\n      <th>Acres</th>\n      <th>SqKm</th>\n      <th>LAST_ASSESSED</th>\n      <th>LAST_MODIFIED</th>\n      <th>Overall_Status</th>\n      <th>HUC12</th>\n      <th>HUC12_NAME</th>\n    </tr>\n  </thead>\n  <tbody>\n    <tr>\n      <th>2</th>\n      <td>MS931011</td>\n      <td>MS931011</td>\n      <td>WALNUT LAKE</td>\n      <td>2022</td>\n      <td>5</td>\n      <td>LAKE/RESERVOIR/POND</td>\n      <td>142.855946</td>\n      <td>0.578118</td>\n      <td>2022</td>\n      <td>2022</td>\n      <td>Not Supporting</td>\n      <td>80302040804</td>\n      <td>Brushy Bayou-Coldwater River</td>\n    </tr>\n    <tr>\n      <th>3</th>\n      <td>MS938312</td>\n      <td>MS938312</td>\n      <td>LAKE HENRY</td>\n      <td>2016</td>\n      <td>5</td>\n      <td>LAKE/RESERVOIR/POND</td>\n      <td>154.714323</td>\n      <td>0.626107</td>\n      <td>2018</td>\n      <td>2020</td>\n      <td>Not Supporting</td>\n      <td>80302070802</td>\n      <td>Lake Henry</td>\n    </tr>\n    <tr>\n      <th>4</th>\n      <td>MS990411</td>\n      <td>MS990411</td>\n      <td>LAKE BEULAH</td>\n      <td>NaN</td>\n      <td>5</td>\n      <td>LAKE/RESERVOIR/POND</td>\n      <td>993.896204</td>\n      <td>4.022155</td>\n      <td>2018</td>\n      <td>2020</td>\n      <td>Not Supporting</td>\n      <td>80201000302</td>\n      <td>Lake Beulah-Mississippi River</td>\n    </tr>\n    <tr>\n      <th>5</th>\n      <td>MS100211</td>\n      <td>MS100211</td>\n      <td>SPRING CREEK</td>\n      <td>2018</td>\n      <td>5</td>\n      <td>STREAM/CREEK/RIVER</td>\n      <td>8.350559</td>\n      <td>NaN</td>\n      <td>2022</td>\n      <td>2022</td>\n      <td>Not Supporting</td>\n      <td>80602010101</td>\n      <td>Savannah Creek-Spring Creek</td>\n    </tr>\n    <tr>\n      <th>7</th>\n      <td>101112</td>\n      <td>101112</td>\n      <td>SAND CREEK</td>\n      <td>2008</td>\n      <td>5</td>\n      <td>STREAM/CREEK/RIVER</td>\n      <td>4.574525</td>\n      <td>NaN</td>\n      <td>2022</td>\n      <td>2022</td>\n      <td>Not Supporting</td>\n      <td>80602010301</td>\n      <td>Calabrella Creek</td>\n    </tr>\n    <tr>\n      <th>10</th>\n      <td>103913</td>\n      <td>103913</td>\n      <td>CROOKED CREEK</td>\n      <td>2018</td>\n      <td>5</td>\n      <td>STREAM/CREEK/RIVER</td>\n      <td>3.509387</td>\n      <td>NaN</td>\n      <td>2022</td>\n      <td>2022</td>\n      <td>Not Supporting</td>\n      <td>80602010903</td>\n      <td>Ousley Creek-Seneasha Creek</td>\n    </tr>\n    <tr>\n      <th>11</th>\n      <td>103914</td>\n      <td>103914</td>\n      <td>PARKER CREEK</td>\n      <td>2018</td>\n      <td>5</td>\n      <td>STREAM/CREEK/RIVER</td>\n      <td>5.621625</td>\n      <td>NaN</td>\n      <td>2022</td>\n      <td>2022</td>\n      <td>Not Supporting</td>\n      <td>80602010903</td>\n      <td>Ousley Creek-Seneasha Creek</td>\n    </tr>\n    <tr>\n      <th>12</th>\n      <td>104511</td>\n      <td>104511</td>\n      <td>PEPPER CREEK / RUCKER CREEK</td>\n      <td>2012</td>\n      <td>5</td>\n      <td>STREAM/CREEK/RIVER</td>\n      <td>4.571230</td>\n      <td>NaN</td>\n      <td>2014</td>\n      <td>2020</td>\n      <td>Not Supporting</td>\n      <td>80602020407</td>\n      <td>Pepper Creek-Big Black River</td>\n    </tr>\n    <tr>\n      <th>13</th>\n      <td>104812</td>\n      <td>104812</td>\n      <td>BIG CYPRESS CREEK</td>\n      <td>2012</td>\n      <td>5</td>\n      <td>STREAM/CREEK/RIVER</td>\n      <td>2.843281</td>\n      <td>NaN</td>\n      <td>2012</td>\n      <td>2020</td>\n      <td>Not Supporting</td>\n      <td>80602020101</td>\n      <td>Cypress Creek-Big Cypress Creek</td>\n    </tr>\n    <tr>\n      <th>17</th>\n      <td>107611</td>\n      <td>107611</td>\n      <td>PORTER CREEK</td>\n      <td>2012</td>\n      <td>5</td>\n      <td>STREAM/CREEK/RIVER</td>\n      <td>9.066825</td>\n      <td>NaN</td>\n      <td>2014</td>\n      <td>2020</td>\n      <td>Not Supporting</td>\n      <td>80602020704</td>\n      <td>Porter Creek</td>\n    </tr>\n    <tr>\n      <th>23</th>\n      <td>109511</td>\n      <td>109511</td>\n      <td>WILLIS CREEK</td>\n      <td>2002</td>\n      <td>5</td>\n      <td>STREAM/CREEK/RIVER</td>\n      <td>4.043436</td>\n      <td>NaN</td>\n      <td>2002</td>\n      <td>2018</td>\n      <td>Not Supporting</td>\n      <td>80602021104</td>\n      <td>Kennison Creek-Big Black River</td>\n    </tr>\n    <tr>\n      <th>33</th>\n      <td>203411</td>\n      <td>203411</td>\n      <td>HICKORY CREEK</td>\n      <td>2018</td>\n      <td>5</td>\n      <td>STREAM/CREEK/RIVER</td>\n      <td>8.120813</td>\n      <td>NaN</td>\n      <td>2020</td>\n      <td>2020</td>\n      <td>Not Supporting</td>\n      <td>31700090901</td>\n      <td>Upper Hickory Creek</td>\n    </tr>\n    <tr>\n      <th>34</th>\n      <td>203511</td>\n      <td>203511</td>\n      <td>HICKORY CREEK</td>\n      <td>2018</td>\n      <td>5</td>\n      <td>STREAM/CREEK/RIVER</td>\n      <td>10.935041</td>\n      <td>NaN</td>\n      <td>2020</td>\n      <td>2020</td>\n      <td>Not Supporting</td>\n      <td>31700090901</td>\n      <td>Upper Hickory Creek</td>\n    </tr>\n    <tr>\n      <th>35</th>\n      <td>203711</td>\n      <td>203711</td>\n      <td>DEAD TIGER CREEK</td>\n      <td>2006</td>\n      <td>5</td>\n      <td>STREAM/CREEK/RIVER</td>\n      <td>11.460741</td>\n      <td>NaN</td>\n      <td>2018</td>\n      <td>2020</td>\n      <td>Not Supporting</td>\n      <td>31700090904</td>\n      <td>Dead Tiger Creek</td>\n    </tr>\n    <tr>\n      <th>44</th>\n      <td>301212</td>\n      <td>301212</td>\n      <td>TAREBREECHES CREEK</td>\n      <td>2010</td>\n      <td>5</td>\n      <td>STREAM/CREEK/RIVER</td>\n      <td>7.873043</td>\n      <td>NaN</td>\n      <td>2022</td>\n      <td>2022</td>\n      <td>Not Supporting</td>\n      <td>80102070503</td>\n      <td>Tarebreeches Creek-Tuscumbia River Canal</td>\n    </tr>\n    <tr>\n      <th>45</th>\n      <td>301213</td>\n      <td>301213</td>\n      <td>LITTLE CANE CREEK</td>\n      <td>2018</td>\n      <td>5</td>\n      <td>STREAM/CREEK/RIVER</td>\n      <td>1.746443</td>\n      <td>NaN</td>\n      <td>2018</td>\n      <td>2020</td>\n      <td>Not Supporting</td>\n      <td>80102070503</td>\n      <td>Tarebreeches Creek-Tuscumbia River Canal</td>\n    </tr>\n    <tr>\n      <th>46</th>\n      <td>301312</td>\n      <td>301312</td>\n      <td>COON CREEK</td>\n      <td>2020</td>\n      <td>5</td>\n      <td>STREAM/CREEK/RIVER</td>\n      <td>3.229213</td>\n      <td>NaN</td>\n      <td>2022</td>\n      <td>2022</td>\n      <td>Not Supporting</td>\n      <td>80102070504</td>\n      <td>Coon Creek-Tuscumbia River Canal</td>\n    </tr>\n    <tr>\n      <th>48</th>\n      <td>301913</td>\n      <td>301913</td>\n      <td>FOURTH CREEK</td>\n      <td>2014</td>\n      <td>5</td>\n      <td>STREAM/CREEK/RIVER</td>\n      <td>4.276346</td>\n      <td>NaN</td>\n      <td>2016</td>\n      <td>2020</td>\n      <td>Not Supporting</td>\n      <td>80102070204</td>\n      <td>Fourth Creek-Hatchie River</td>\n    </tr>\n    <tr>\n      <th>52</th>\n      <td>302112</td>\n      <td>302112</td>\n      <td>TURKEY CREEK</td>\n      <td>2014</td>\n      <td>5</td>\n      <td>STREAM/CREEK/RIVER</td>\n      <td>2.670971</td>\n      <td>NaN</td>\n      <td>2016</td>\n      <td>2020</td>\n      <td>Not Supporting</td>\n      <td>80102070602</td>\n      <td>Turkey Creek-Muddy Creek</td>\n    </tr>\n    <tr>\n      <th>53</th>\n      <td>302412</td>\n      <td>302412</td>\n      <td>BEARMAN CREEK</td>\n      <td>2018</td>\n      <td>5</td>\n      <td>STREAM/CREEK/RIVER</td>\n      <td>2.698910</td>\n      <td>NaN</td>\n      <td>2018</td>\n      <td>2020</td>\n      <td>Not Supporting</td>\n      <td>80102070801</td>\n      <td>Goose Pond Creek-Hatchie River</td>\n    </tr>\n    <tr>\n      <th>64</th>\n      <td>403311</td>\n      <td>403311</td>\n      <td>ROCKY CREEK</td>\n      <td>2012</td>\n      <td>5</td>\n      <td>STREAM/CREEK/RIVER</td>\n      <td>12.735324</td>\n      <td>NaN</td>\n      <td>2014</td>\n      <td>2020</td>\n      <td>Not Supporting</td>\n      <td>31700020502</td>\n      <td>Motts Creek-Buckatunna Creek</td>\n    </tr>\n    <tr>\n      <th>67</th>\n      <td>404712</td>\n      <td>404712</td>\n      <td>PENANTLY CREEK</td>\n      <td>2012</td>\n      <td>5</td>\n      <td>STREAM/CREEK/RIVER</td>\n      <td>10.025054</td>\n      <td>NaN</td>\n      <td>2018</td>\n      <td>2020</td>\n      <td>Not Supporting</td>\n      <td>31700020102</td>\n      <td>Penantly Creek-Souenlovie Creek</td>\n    </tr>\n    <tr>\n      <th>68</th>\n      <td>404811</td>\n      <td>404811</td>\n      <td>SOUENLOVIE CREEK</td>\n      <td>2010</td>\n      <td>5</td>\n      <td>STREAM/CREEK/RIVER</td>\n      <td>14.274396</td>\n      <td>NaN</td>\n      <td>2012</td>\n      <td>2020</td>\n      <td>Not Supporting</td>\n      <td>31700020102</td>\n      <td>Penantly Creek-Souenlovie Creek</td>\n    </tr>\n    <tr>\n      <th>70</th>\n      <td>405111</td>\n      <td>405111</td>\n      <td>ARCHUSA CREEK</td>\n      <td>2012</td>\n      <td>5</td>\n      <td>STREAM/CREEK/RIVER</td>\n      <td>9.892343</td>\n      <td>NaN</td>\n      <td>2014</td>\n      <td>2020</td>\n      <td>Not Supporting</td>\n      <td>31700020303</td>\n      <td>Rolling Creek-Archusa Creek</td>\n    </tr>\n    <tr>\n      <th>85</th>\n      <td>413612</td>\n      <td>413612</td>\n      <td>HORSE BRANCH</td>\n      <td>2006</td>\n      <td>5</td>\n      <td>STREAM/CREEK/RIVER</td>\n      <td>1.638861</td>\n      <td>NaN</td>\n      <td>2002</td>\n      <td>2018</td>\n      <td>Not Supporting</td>\n      <td>31700050205</td>\n      <td>Tallahattah Creek</td>\n    </tr>\n    <tr>\n      <th>90</th>\n      <td>414512</td>\n      <td>414512</td>\n      <td>TIGER CREEK</td>\n      <td>2012</td>\n      <td>5</td>\n      <td>STREAM/CREEK/RIVER</td>\n      <td>6.982345</td>\n      <td>NaN</td>\n      <td>2014</td>\n      <td>2020</td>\n      <td>Not Supporting</td>\n      <td>31700050502</td>\n      <td>Tiger Creek-Bogue Homo</td>\n    </tr>\n    <tr>\n      <th>96</th>\n      <td>421212</td>\n      <td>421212</td>\n      <td>BEAVER CREEK</td>\n      <td>2012</td>\n      <td>5</td>\n      <td>STREAM/CREEK/RIVER</td>\n      <td>3.308163</td>\n      <td>NaN</td>\n      <td>2016</td>\n      <td>2020</td>\n      <td>Not Supporting</td>\n      <td>31700070502</td>\n      <td>Beaver Creek-Hickory Creek</td>\n    </tr>\n    <tr>\n      <th>143</th>\n      <td>603411</td>\n      <td>603411</td>\n      <td>WILLIS CREEK</td>\n      <td>2012</td>\n      <td>5</td>\n      <td>STREAM/CREEK/RIVER</td>\n      <td>6.256947</td>\n      <td>NaN</td>\n      <td>2022</td>\n      <td>2022</td>\n      <td>Not Supporting</td>\n      <td>80602030704</td>\n      <td>Brady Creek-Willis Creek</td>\n    </tr>\n    <tr>\n      <th>149</th>\n      <td>607811</td>\n      <td>607811</td>\n      <td>ZEIGLER CREEK</td>\n      <td>2014</td>\n      <td>5</td>\n      <td>STREAM/CREEK/RIVER</td>\n      <td>3.548046</td>\n      <td>NaN</td>\n      <td>2022</td>\n      <td>2022</td>\n      <td>Not Supporting</td>\n      <td>80602050507</td>\n      <td>Zeigler Creek-Homochitto River</td>\n    </tr>\n    <tr>\n      <th>150</th>\n      <td>608111</td>\n      <td>608111</td>\n      <td>DRY CREEK</td>\n      <td>2010</td>\n      <td>5</td>\n      <td>STREAM/CREEK/RIVER</td>\n      <td>6.375405</td>\n      <td>NaN</td>\n      <td>2022</td>\n      <td>2022</td>\n      <td>Not Supporting</td>\n      <td>80602050507</td>\n      <td>Zeigler Creek-Homochitto River</td>\n    </tr>\n    <tr>\n      <th>151</th>\n      <td>608211</td>\n      <td>608211</td>\n      <td>DRY CREEK</td>\n      <td>2012</td>\n      <td>5</td>\n      <td>STREAM/CREEK/RIVER</td>\n      <td>13.863599</td>\n      <td>NaN</td>\n      <td>2022</td>\n      <td>2022</td>\n      <td>Not Supporting</td>\n      <td>80602050601</td>\n      <td>Rocky Branch-Dry Creek</td>\n    </tr>\n    <tr>\n      <th>152</th>\n      <td>608312</td>\n      <td>608312</td>\n      <td>BEAVER CREEK</td>\n      <td>2020</td>\n      <td>5</td>\n      <td>STREAM/CREEK/RIVER</td>\n      <td>5.889759</td>\n      <td>NaN</td>\n      <td>2022</td>\n      <td>2022</td>\n      <td>Not Supporting</td>\n      <td>80602050608</td>\n      <td>Beaver Branch-Homochitto River</td>\n    </tr>\n    <tr>\n      <th>153</th>\n      <td>608611</td>\n      <td>608611</td>\n      <td>DRY BAYOU</td>\n      <td>2014</td>\n      <td>5</td>\n      <td>STREAM/CREEK/RIVER</td>\n      <td>9.558592</td>\n      <td>NaN</td>\n      <td>2016</td>\n      <td>2020</td>\n      <td>Not Supporting</td>\n      <td>80602050604</td>\n      <td>Caney Branch-Dry Bayou</td>\n    </tr>\n    <tr>\n      <th>155</th>\n      <td>609612</td>\n      <td>609612</td>\n      <td>BROWNS CREEK</td>\n      <td>2014</td>\n      <td>5</td>\n      <td>STREAM/CREEK/RIVER</td>\n      <td>8.913879</td>\n      <td>NaN</td>\n      <td>2016</td>\n      <td>2020</td>\n      <td>Not Supporting</td>\n      <td>80602060102</td>\n      <td>Browns Creek-Buffalo River</td>\n    </tr>\n    <tr>\n      <th>156</th>\n      <td>610514</td>\n      <td>610514</td>\n      <td>BEAR CREEK</td>\n      <td>2010</td>\n      <td>5</td>\n      <td>STREAM/CREEK/RIVER</td>\n      <td>4.081266</td>\n      <td>NaN</td>\n      <td>2014</td>\n      <td>2020</td>\n      <td>Not Supporting</td>\n      <td>80602060304</td>\n      <td>Belmont Slough-Buffalo River</td>\n    </tr>\n    <tr>\n      <th>157</th>\n      <td>611211</td>\n      <td>611211</td>\n      <td>PICKNEYVILLE CREEK</td>\n      <td>2014</td>\n      <td>5</td>\n      <td>STREAM/CREEK/RIVER</td>\n      <td>3.277967</td>\n      <td>NaN</td>\n      <td>2016</td>\n      <td>2020</td>\n      <td>Not Supporting</td>\n      <td>80702010203</td>\n      <td>Little Bayou Sara</td>\n    </tr>\n    <tr>\n      <th>159</th>\n      <td>612312</td>\n      <td>612312</td>\n      <td>DAYS CREEK</td>\n      <td>2016</td>\n      <td>5</td>\n      <td>STREAM/CREEK/RIVER</td>\n      <td>5.879044</td>\n      <td>NaN</td>\n      <td>2016</td>\n      <td>2020</td>\n      <td>Not Supporting</td>\n      <td>80702020202</td>\n      <td>Days Creek-West Fork Amite River</td>\n    </tr>\n    <tr>\n      <th>167</th>\n      <td>801611</td>\n      <td>801611</td>\n      <td>MANTACHIE CREEK</td>\n      <td>2014</td>\n      <td>5</td>\n      <td>STREAM/CREEK/RIVER</td>\n      <td>11.002875</td>\n      <td>NaN</td>\n      <td>2016</td>\n      <td>2020</td>\n      <td>Not Supporting</td>\n      <td>31601010401</td>\n      <td>Upper Mantachie Creek</td>\n    </tr>\n    <tr>\n      <th>168</th>\n      <td>801612</td>\n      <td>801612</td>\n      <td>SAND CREEK</td>\n      <td>2014</td>\n      <td>5</td>\n      <td>STREAM/CREEK/RIVER</td>\n      <td>3.679835</td>\n      <td>NaN</td>\n      <td>2022</td>\n      <td>2022</td>\n      <td>Not Supporting</td>\n      <td>31601010401</td>\n      <td>Upper Mantachie Creek</td>\n    </tr>\n    <tr>\n      <th>169</th>\n      <td>801613</td>\n      <td>801613</td>\n      <td>PUNCHEON CREEK</td>\n      <td>2014</td>\n      <td>5</td>\n      <td>STREAM/CREEK/RIVER</td>\n      <td>3.068317</td>\n      <td>NaN</td>\n      <td>2022</td>\n      <td>2022</td>\n      <td>Not Supporting</td>\n      <td>31601010401</td>\n      <td>Upper Mantachie Creek</td>\n    </tr>\n    <tr>\n      <th>174</th>\n      <td>804111</td>\n      <td>804111</td>\n      <td>TOWN CREEK</td>\n      <td>2016</td>\n      <td>5</td>\n      <td>STREAM/CREEK/RIVER</td>\n      <td>11.130119</td>\n      <td>NaN</td>\n      <td>2022</td>\n      <td>2022</td>\n      <td>Not Supporting</td>\n      <td>31601011301</td>\n      <td>Fuller Creek-Town Creek</td>\n    </tr>\n    <tr>\n      <th>175</th>\n      <td>804112</td>\n      <td>804112</td>\n      <td>FULLER CREEK</td>\n      <td>2012</td>\n      <td>5</td>\n      <td>STREAM/CREEK/RIVER</td>\n      <td>8.854345</td>\n      <td>NaN</td>\n      <td>2016</td>\n      <td>2020</td>\n      <td>Not Supporting</td>\n      <td>31601011301</td>\n      <td>Fuller Creek-Town Creek</td>\n    </tr>\n    <tr>\n      <th>188</th>\n      <td>808312</td>\n      <td>808312</td>\n      <td>LONG BRANCH</td>\n      <td>2014</td>\n      <td>5</td>\n      <td>STREAM/CREEK/RIVER</td>\n      <td>11.827937</td>\n      <td>NaN</td>\n      <td>2016</td>\n      <td>2020</td>\n      <td>Not Supporting</td>\n      <td>31601040507</td>\n      <td>Long Branch-Line Creek</td>\n    </tr>\n    <tr>\n      <th>196</th>\n      <td>812211</td>\n      <td>812211</td>\n      <td>HOLLIS CREEK</td>\n      <td>2002</td>\n      <td>5</td>\n      <td>STREAM/CREEK/RIVER</td>\n      <td>11.327334</td>\n      <td>NaN</td>\n      <td>2022</td>\n      <td>2022</td>\n      <td>Not Supporting</td>\n      <td>31601080207</td>\n      <td>Talking Warrior Creek-Chinchahoma Creek</td>\n    </tr>\n    <tr>\n      <th>199</th>\n      <td>813012</td>\n      <td>813012</td>\n      <td>SHOTBAG CREEK</td>\n      <td>2008</td>\n      <td>5</td>\n      <td>STREAM/CREEK/RIVER</td>\n      <td>10.111607</td>\n      <td>NaN</td>\n      <td>2012</td>\n      <td>2020</td>\n      <td>Not Supporting</td>\n      <td>31601080302</td>\n      <td>Shotbag Creek</td>\n    </tr>\n    <tr>\n      <th>219</th>\n      <td>908411</td>\n      <td>908411</td>\n      <td>SHELTON CREEK</td>\n      <td>2002</td>\n      <td>5</td>\n      <td>STREAM/CREEK/RIVER</td>\n      <td>3.280132</td>\n      <td>NaN</td>\n      <td>2020</td>\n      <td>2020</td>\n      <td>Not Supporting</td>\n      <td>80302030405</td>\n      <td>Shelton Creek-Yocona River</td>\n    </tr>\n    <tr>\n      <th>220</th>\n      <td>909112</td>\n      <td>909112</td>\n      <td>LITTLE COLDWATER CREEK</td>\n      <td>2010</td>\n      <td>5</td>\n      <td>STREAM/CREEK/RIVER</td>\n      <td>8.553720</td>\n      <td>NaN</td>\n      <td>2014</td>\n      <td>2020</td>\n      <td>Not Supporting</td>\n      <td>80302040104</td>\n      <td>Little Coldwater Creek-Coldwater River</td>\n    </tr>\n    <tr>\n      <th>222</th>\n      <td>910512</td>\n      <td>910512</td>\n      <td>JAMES WOLF CREEK</td>\n      <td>2016</td>\n      <td>5</td>\n      <td>STREAM/CREEK/RIVER</td>\n      <td>2.075261</td>\n      <td>NaN</td>\n      <td>2002</td>\n      <td>2020</td>\n      <td>Not Supporting</td>\n      <td>80302040402</td>\n      <td>James Wolf Creek</td>\n    </tr>\n    <tr>\n      <th>223</th>\n      <td>910611</td>\n      <td>910611</td>\n      <td>JAMES WOLF CREEK</td>\n      <td>2010</td>\n      <td>5</td>\n      <td>STREAM/CREEK/RIVER</td>\n      <td>6.168151</td>\n      <td>NaN</td>\n      <td>2022</td>\n      <td>2022</td>\n      <td>Not Supporting</td>\n      <td>80302040402</td>\n      <td>James Wolf Creek</td>\n    </tr>\n    <tr>\n      <th>226</th>\n      <td>913812</td>\n      <td>913812</td>\n      <td>BEAR CREEK</td>\n      <td>2014</td>\n      <td>5</td>\n      <td>STREAM/CREEK/RIVER</td>\n      <td>6.593571</td>\n      <td>NaN</td>\n      <td>2016</td>\n      <td>2020</td>\n      <td>Not Supporting</td>\n      <td>80302050107</td>\n      <td>Bear Creek-Topashaw Creek Canal</td>\n    </tr>\n    <tr>\n      <th>227</th>\n      <td>913813</td>\n      <td>913813</td>\n      <td>BUCK CREEK</td>\n      <td>2018</td>\n      <td>5</td>\n      <td>STREAM/CREEK/RIVER</td>\n      <td>6.133988</td>\n      <td>NaN</td>\n      <td>2020</td>\n      <td>2020</td>\n      <td>Not Supporting</td>\n      <td>80302050107</td>\n      <td>Bear Creek-Topashaw Creek Canal</td>\n    </tr>\n    <tr>\n      <th>229</th>\n      <td>914313</td>\n      <td>914313</td>\n      <td>LITTLE HORSE PEN CREEK</td>\n      <td>2018</td>\n      <td>5</td>\n      <td>STREAM/CREEK/RIVER</td>\n      <td>3.899208</td>\n      <td>NaN</td>\n      <td>2022</td>\n      <td>2022</td>\n      <td>Not Supporting</td>\n      <td>80302050404</td>\n      <td>Horse Pen Creek-Sabougla Creek Canal</td>\n    </tr>\n    <tr>\n      <th>231</th>\n      <td>915214</td>\n      <td>915214</td>\n      <td>SAVANNAH CREEK</td>\n      <td>2018</td>\n      <td>5</td>\n      <td>STREAM/CREEK/RIVER</td>\n      <td>3.542265</td>\n      <td>NaN</td>\n      <td>2020</td>\n      <td>2020</td>\n      <td>Not Supporting</td>\n      <td>80302050205</td>\n      <td>Kittahutty Creek-Skuna River</td>\n    </tr>\n    <tr>\n      <th>236</th>\n      <td>916911</td>\n      <td>916911</td>\n      <td>LITTLE BOGUE</td>\n      <td>2016</td>\n      <td>5</td>\n      <td>STREAM/CREEK/RIVER</td>\n      <td>6.684596</td>\n      <td>NaN</td>\n      <td>2006</td>\n      <td>2020</td>\n      <td>Not Supporting</td>\n      <td>80302050503</td>\n      <td>Dunn Creek-Little Bogue</td>\n    </tr>\n    <tr>\n      <th>237</th>\n      <td>917011</td>\n      <td>917011</td>\n      <td>LITTLE BOGUE</td>\n      <td>2016</td>\n      <td>5</td>\n      <td>STREAM/CREEK/RIVER</td>\n      <td>5.352939</td>\n      <td>NaN</td>\n      <td>2006</td>\n      <td>2020</td>\n      <td>Not Supporting</td>\n      <td>80302050503</td>\n      <td>Dunn Creek-Little Bogue</td>\n    </tr>\n    <tr>\n      <th>238</th>\n      <td>917111</td>\n      <td>917111</td>\n      <td>LITTLE BOGUE</td>\n      <td>2016</td>\n      <td>5</td>\n      <td>STREAM/CREEK/RIVER</td>\n      <td>7.453442</td>\n      <td>NaN</td>\n      <td>2020</td>\n      <td>2020</td>\n      <td>Not Supporting</td>\n      <td>80302050504</td>\n      <td>Mouse Creek-Little Bogue</td>\n    </tr>\n    <tr>\n      <th>240</th>\n      <td>919311</td>\n      <td>919311</td>\n      <td>PELUCIA CREEK</td>\n      <td>2020</td>\n      <td>5</td>\n      <td>STREAM/CREEK/RIVER</td>\n      <td>9.738141</td>\n      <td>NaN</td>\n      <td>2022</td>\n      <td>2022</td>\n      <td>Not Supporting</td>\n      <td>80302060101</td>\n      <td>Upper Pelucia Creek</td>\n    </tr>\n    <tr>\n      <th>241</th>\n      <td>920911</td>\n      <td>920911</td>\n      <td>FANNEGUSHA CREEK</td>\n      <td>2002</td>\n      <td>5</td>\n      <td>STREAM/CREEK/RIVER</td>\n      <td>10.821589</td>\n      <td>NaN</td>\n      <td>2020</td>\n      <td>2020</td>\n      <td>Not Supporting</td>\n      <td>80302060602</td>\n      <td>Bophumpa Creek</td>\n    </tr>\n    <tr>\n      <th>246</th>\n      <td>931912</td>\n      <td>931912</td>\n      <td>MOORE BAYOU</td>\n      <td>2016</td>\n      <td>5</td>\n      <td>STREAM/CREEK/RIVER</td>\n      <td>14.768548</td>\n      <td>NaN</td>\n      <td>2008</td>\n      <td>2020</td>\n      <td>Not Supporting</td>\n      <td>80302020501</td>\n      <td>Whiting Lake-Cassidy Bayou</td>\n    </tr>\n    <tr>\n      <th>248</th>\n      <td>938511</td>\n      <td>938511</td>\n      <td>PECAN BAYOU</td>\n      <td>2016</td>\n      <td>5</td>\n      <td>STREAM/CREEK/RIVER</td>\n      <td>8.589201</td>\n      <td>NaN</td>\n      <td>2014</td>\n      <td>2020</td>\n      <td>Not Supporting</td>\n      <td>80302070705</td>\n      <td>Pecan Bayou</td>\n    </tr>\n  </tbody>\n</table>\n</div>"
     },
     "execution_count": 51,
     "metadata": {},
     "output_type": "execute_result"
    }
   ],
   "source": [
    "unmatched"
   ],
   "metadata": {
    "collapsed": false,
    "pycharm": {
     "name": "#%%\n"
    }
   }
  },
  {
   "cell_type": "markdown",
   "source": [
    "How many limit series had a limit change and an impairment?"
   ],
   "metadata": {
    "collapsed": false,
    "pycharm": {
     "name": "#%% md\n"
    }
   }
  },
  {
   "cell_type": "code",
   "execution_count": 92,
   "outputs": [
    {
     "data": {
      "text/plain": "787"
     },
     "execution_count": 92,
     "metadata": {},
     "output_type": "execute_result"
    }
   ],
   "source": [
    "impaired_changed_permits = impaired_permits.merge(limit_changes, how='inner', on='npdes_permit_id')\n",
    "impaired_changed_permits.drop_duplicates(subset=['limit_value_id', 'limit_id']).shape[0]"
   ],
   "metadata": {
    "collapsed": false,
    "pycharm": {
     "name": "#%%\n"
    }
   }
  },
  {
   "cell_type": "markdown",
   "source": [
    "How many limit series correspond to an impaired water but never had a limit change?"
   ],
   "metadata": {
    "collapsed": false,
    "pycharm": {
     "name": "#%% md\n"
    }
   }
  },
  {
   "cell_type": "code",
   "execution_count": 71,
   "outputs": [
    {
     "data": {
      "text/plain": "16983"
     },
     "execution_count": 71,
     "metadata": {},
     "output_type": "execute_result"
    }
   ],
   "source": [
    "impaired_unchanged_permits = impaired_permits.merge(limits_unchanged, how='inner', on='npdes_permit_id')\n",
    "impaired_unchanged_permits.drop_duplicates(subset=['limit_value_id', 'limit_id']).shape[0]"
   ],
   "metadata": {
    "collapsed": false,
    "pycharm": {
     "name": "#%%\n"
    }
   }
  },
  {
   "cell_type": "markdown",
   "source": [
    "How permits could not be matched to any limit?"
   ],
   "metadata": {
    "collapsed": false,
    "pycharm": {
     "name": "#%% md\n"
    }
   }
  },
  {
   "cell_type": "code",
   "execution_count": 120,
   "outputs": [
    {
     "data": {
      "text/plain": "0"
     },
     "execution_count": 120,
     "metadata": {},
     "output_type": "execute_result"
    }
   ],
   "source": [
    "impaired_permits.merge(limit_time_series_df, how='inner', on='npdes_permit_id').drop_duplicates(subset=['limit_value_id', 'limit_id']).shape[0]-787-16983"
   ],
   "metadata": {
    "collapsed": false,
    "pycharm": {
     "name": "#%%\n"
    }
   }
  },
  {
   "cell_type": "markdown",
   "source": [
    "How many limit series had a limit change after their first impairment?"
   ],
   "metadata": {
    "collapsed": false,
    "pycharm": {
     "name": "#%% md\n"
    }
   }
  },
  {
   "cell_type": "code",
   "execution_count": 93,
   "outputs": [
    {
     "data": {
      "text/plain": "490"
     },
     "execution_count": 93,
     "metadata": {},
     "output_type": "execute_result"
    }
   ],
   "source": [
    "impaired_changed_permits['FIRST LISTED '] = pd.to_datetime(impaired_changed_permits['FIRST LISTED '], errors='coerce')\n",
    "impaired_changed_permits = impaired_changed_permits.rename(columns={'FIRST LISTED ': 'Year first listed'})\n",
    "impaired_changed_permits['delay'] = impaired_changed_permits.limit_begin_date-impaired_changed_permits['Year first listed']\n",
    "delays = impaired_changed_permits.drop_duplicates(subset=['limit_id', 'limit_value_id'])['delay']\n",
    "\n",
    "impaired_changed_permits[impaired_changed_permits['delay'].dt.days>=0].drop_duplicates(subset=['limit_id', 'limit_value_id']).shape[0]"
   ],
   "metadata": {
    "collapsed": false,
    "pycharm": {
     "name": "#%%\n"
    }
   }
  },
  {
   "cell_type": "code",
   "execution_count": 79,
   "outputs": [],
   "source": [
    "impaired_changed_permits.to_csv('impaired_changed_permits.csv')"
   ],
   "metadata": {
    "collapsed": false,
    "pycharm": {
     "name": "#%%\n"
    }
   }
  },
  {
   "cell_type": "code",
   "execution_count": null,
   "outputs": [],
   "source": [
    "import matplotlib.pyplot as plt\n",
    "plt.figure(figsize=(12,8))\n",
    "plt.hist(delays.dt.days)"
   ],
   "metadata": {
    "collapsed": false,
    "pycharm": {
     "name": "#%%\n"
    }
   }
  },
  {
   "cell_type": "code",
   "execution_count": 104,
   "outputs": [
    {
     "data": {
      "text/plain": "118"
     },
     "execution_count": 104,
     "metadata": {},
     "output_type": "execute_result"
    }
   ],
   "source": [
    "impaired_changed_permits[(impaired_changed_permits['delay'].dt.days>=0) & (impaired_changed_permits['delay'].dt.days<365*3)].drop_duplicates(subset=['limit_id', 'limit_value_id']).shape[0]"
   ],
   "metadata": {
    "collapsed": false,
    "pycharm": {
     "name": "#%%\n"
    }
   }
  },
  {
   "cell_type": "code",
   "execution_count": 105,
   "outputs": [
    {
     "data": {
      "text/plain": "79"
     },
     "execution_count": 105,
     "metadata": {},
     "output_type": "execute_result"
    }
   ],
   "source": [
    "impaired_changed_permits[(impaired_changed_permits['delay'].dt.days>=0) & (impaired_changed_permits['delay'].dt.days<365*2)].drop_duplicates(subset=['limit_id', 'limit_value_id']).shape[0]"
   ],
   "metadata": {
    "collapsed": false,
    "pycharm": {
     "name": "#%%\n"
    }
   }
  },
  {
   "cell_type": "code",
   "execution_count": 106,
   "outputs": [
    {
     "data": {
      "text/plain": "36"
     },
     "execution_count": 106,
     "metadata": {},
     "output_type": "execute_result"
    }
   ],
   "source": [
    "impaired_changed_permits[(impaired_changed_permits['delay'].dt.days>=0) & (impaired_changed_permits['delay'].dt.days<365)].drop_duplicates(subset=['limit_id', 'limit_value_id']).shape[0]"
   ],
   "metadata": {
    "collapsed": false,
    "pycharm": {
     "name": "#%%\n"
    }
   }
  },
  {
   "cell_type": "code",
   "execution_count": 138,
   "outputs": [
    {
     "name": "stdout",
     "output_type": "stream",
     "text": [
      "Numbers are in terms of limit series\n"
     ]
    },
    {
     "data": {
      "text/plain": "                                              Ever impaired Never impaired\nLimit constant                                        16983          80131\nLimit change ever                                       787           4981\nLimit change on/after first impairment                  490             NA\nLimit change within 3 yrs of first impairment           118             NA\nLimit change within 2 yrs of first impairment            79             NA\nLimit change within 1 yr of first impairment             36             NA",
      "text/html": "<div>\n<style scoped>\n    .dataframe tbody tr th:only-of-type {\n        vertical-align: middle;\n    }\n\n    .dataframe tbody tr th {\n        vertical-align: top;\n    }\n\n    .dataframe thead th {\n        text-align: right;\n    }\n</style>\n<table border=\"1\" class=\"dataframe\">\n  <thead>\n    <tr style=\"text-align: right;\">\n      <th></th>\n      <th>Ever impaired</th>\n      <th>Never impaired</th>\n    </tr>\n  </thead>\n  <tbody>\n    <tr>\n      <th>Limit constant</th>\n      <td>16983</td>\n      <td>80131</td>\n    </tr>\n    <tr>\n      <th>Limit change ever</th>\n      <td>787</td>\n      <td>4981</td>\n    </tr>\n    <tr>\n      <th>Limit change on/after first impairment</th>\n      <td>490</td>\n      <td>NA</td>\n    </tr>\n    <tr>\n      <th>Limit change within 3 yrs of first impairment</th>\n      <td>118</td>\n      <td>NA</td>\n    </tr>\n    <tr>\n      <th>Limit change within 2 yrs of first impairment</th>\n      <td>79</td>\n      <td>NA</td>\n    </tr>\n    <tr>\n      <th>Limit change within 1 yr of first impairment</th>\n      <td>36</td>\n      <td>NA</td>\n    </tr>\n  </tbody>\n</table>\n</div>"
     },
     "execution_count": 138,
     "metadata": {},
     "output_type": "execute_result"
    }
   ],
   "source": [
    "print('Numbers are in terms of limit series')\n",
    "A = impaired_unchanged_permits.drop_duplicates(subset=['limit_id', 'limit_value_id']).shape[0] # Unchanged impaired water limit series\n",
    "unchanged_permits = permits.merge(limits_unchanged, how='inner', on='npdes_permit_id')\n",
    "B = unchanged_permits.drop_duplicates(subset=['limit_id', 'limit_value_id']).shape[0] # Unchanged limit series\n",
    "C = impaired_changed_permits.drop_duplicates(subset=['limit_id', 'limit_value_id']).shape[0] # Changed impaired water limit series\n",
    "D = permits.merge(limit_changes, how='inner', on='npdes_permit_id').drop_duplicates(subset=['limit_id', 'limit_value_id']).shape[0] # Changed water limit series\n",
    "\n",
    "E = impaired_changed_permits[impaired_changed_permits['delay'].dt.days>=0].drop_duplicates(subset=['limit_id', 'limit_value_id']).shape[0]\n",
    "F = impaired_changed_permits[(impaired_changed_permits['delay'].dt.days>=0) & (impaired_changed_permits['delay'].dt.days<365*3)].drop_duplicates(subset=['limit_id', 'limit_value_id']).shape[0]\n",
    "G = impaired_changed_permits[(impaired_changed_permits['delay'].dt.days>=0) & (impaired_changed_permits['delay'].dt.days<365*2)].drop_duplicates(subset=['limit_id', 'limit_value_id']).shape[0]\n",
    "H = impaired_changed_permits[(impaired_changed_permits['delay'].dt.days>=0) & (impaired_changed_permits['delay'].dt.days<365)].drop_duplicates(subset=['limit_id', 'limit_value_id']).shape[0]\n",
    "\n",
    "pd.DataFrame({'Limit constant': [A, B-A], 'Limit change ever':[C, D-C], 'Limit change on/after first impairment':[E, 'NA'], 'Limit change within 3 yrs of first impairment': [F, 'NA'], 'Limit change within 2 yrs of first impairment': [G, 'NA'], 'Limit change within 1 yr of first impairment': [H, 'NA']}, {'Never impaired', 'Ever impaired'}).T"
   ],
   "metadata": {
    "collapsed": false,
    "pycharm": {
     "name": "#%%\n"
    }
   }
  },
  {
   "cell_type": "markdown",
   "source": [
    "What about in terms of waters?"
   ],
   "metadata": {
    "collapsed": false,
    "pycharm": {
     "name": "#%% md\n"
    }
   }
  },
  {
   "cell_type": "code",
   "execution_count": 135,
   "outputs": [
    {
     "name": "stdout",
     "output_type": "stream",
     "text": [
      "Numbers are in terms of HUC12 waters\n"
     ]
    },
    {
     "data": {
      "text/plain": "                                              Ever impaired Never impaired\nAll limits constant                                      47            609\nLimit change ever                                        66            327\nLimit change on/after first impairment                   45             NA\nLimit change within 3 yrs of first impairment            18             NA\nLimit change within 2 yrs of first impairment            15             NA\nLimit change within 1 yr of first impairment             10             NA",
      "text/html": "<div>\n<style scoped>\n    .dataframe tbody tr th:only-of-type {\n        vertical-align: middle;\n    }\n\n    .dataframe tbody tr th {\n        vertical-align: top;\n    }\n\n    .dataframe thead th {\n        text-align: right;\n    }\n</style>\n<table border=\"1\" class=\"dataframe\">\n  <thead>\n    <tr style=\"text-align: right;\">\n      <th></th>\n      <th>Ever impaired</th>\n      <th>Never impaired</th>\n    </tr>\n  </thead>\n  <tbody>\n    <tr>\n      <th>All limits constant</th>\n      <td>47</td>\n      <td>609</td>\n    </tr>\n    <tr>\n      <th>Limit change ever</th>\n      <td>66</td>\n      <td>327</td>\n    </tr>\n    <tr>\n      <th>Limit change on/after first impairment</th>\n      <td>45</td>\n      <td>NA</td>\n    </tr>\n    <tr>\n      <th>Limit change within 3 yrs of first impairment</th>\n      <td>18</td>\n      <td>NA</td>\n    </tr>\n    <tr>\n      <th>Limit change within 2 yrs of first impairment</th>\n      <td>15</td>\n      <td>NA</td>\n    </tr>\n    <tr>\n      <th>Limit change within 1 yr of first impairment</th>\n      <td>10</td>\n      <td>NA</td>\n    </tr>\n  </tbody>\n</table>\n</div>"
     },
     "execution_count": 135,
     "metadata": {},
     "output_type": "execute_result"
    }
   ],
   "source": [
    "print('Numbers are in terms of HUC12 waters')\n",
    "limit_change_hucs = list(impaired_changed_permits.drop_duplicates(subset='HUC12')['HUC12'])\n",
    "A = impaired_unchanged_permits[impaired_unchanged_permits['HUC12'].apply(lambda x: x not in limit_change_hucs)].drop_duplicates(subset='HUC12').shape[0] # All never-changing limit impaired HUCs\n",
    "\n",
    "unchanged_permits = permits.merge(limits_unchanged, how='inner', on='npdes_permit_id')\n",
    "B = unchanged_permits[unchanged_permits['HUC12'].apply(lambda x: x not in limit_change_hucs)].drop_duplicates(subset=['HUC12']).shape[0] # All never-changing limit HUCs\n",
    "C = impaired_changed_permits.drop_duplicates(subset=['HUC12']).shape[0] # Impaired limit change HUCs\n",
    "D = permits.merge(limit_changes, how='inner', on='npdes_permit_id').drop_duplicates(subset=['HUC12']).shape[0] # All limit change HUCs\n",
    "\n",
    "E = impaired_changed_permits[impaired_changed_permits['delay'].dt.days>=0].drop_duplicates(subset=['HUC12']).shape[0]\n",
    "F = impaired_changed_permits[(impaired_changed_permits['delay'].dt.days>=0) & (impaired_changed_permits['delay'].dt.days<365*3)].drop_duplicates(subset=['HUC12']).shape[0]\n",
    "G = impaired_changed_permits[(impaired_changed_permits['delay'].dt.days>=0) & (impaired_changed_permits['delay'].dt.days<365*2)].drop_duplicates(subset=['HUC12']).shape[0]\n",
    "H = impaired_changed_permits[(impaired_changed_permits['delay'].dt.days>=0) & (impaired_changed_permits['delay'].dt.days<365)].drop_duplicates(subset=['HUC12']).shape[0]\n",
    "\n",
    "pd.DataFrame({'All limits constant': [A, B-A], 'Limit change ever':[C, D-C], 'Limit change on/after first impairment':[E, 'NA'], 'Limit change within 3 yrs of first impairment': [F, 'NA'], 'Limit change within 2 yrs of first impairment': [G, 'NA'], 'Limit change within 1 yr of first impairment': [H, 'NA']}, {'Never impaired', 'Ever impaired'}).T"
   ],
   "metadata": {
    "collapsed": false,
    "pycharm": {
     "name": "#%%\n"
    }
   }
  },
  {
   "cell_type": "code",
   "execution_count": null,
   "outputs": [],
   "source": [],
   "metadata": {
    "collapsed": false,
    "pycharm": {
     "name": "#%%\n"
    }
   }
  }
 ],
 "metadata": {
  "kernelspec": {
   "display_name": "Python 3",
   "language": "python",
   "name": "python3"
  },
  "language_info": {
   "codemirror_mode": {
    "name": "ipython",
    "version": 2
   },
   "file_extension": ".py",
   "mimetype": "text/x-python",
   "name": "python",
   "nbconvert_exporter": "python",
   "pygments_lexer": "ipython2",
   "version": "2.7.6"
  }
 },
 "nbformat": 4,
 "nbformat_minor": 0
}