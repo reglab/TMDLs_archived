{
 "cells": [
  {
   "cell_type": "markdown",
   "source": [
    "# Exploration: Mississippi Impaired Water Designations and NPDES permit limit changes\n",
    "<i> Ryan Treves\n",
    "### Overarching question:\n",
    "- What is the connection between impaired water designations and NPDES permit limit changes? Specifically, how many impaired waters designations in MS produce permit limit changes?"
   ],
   "metadata": {
    "collapsed": false,
    "pycharm": {
     "name": "#%% md\n"
    }
   }
  },
  {
   "cell_type": "code",
   "execution_count": 1,
   "metadata": {
    "collapsed": true,
    "pycharm": {
     "name": "#%%\n"
    }
   },
   "outputs": [],
   "source": [
    "import matplotlib.pyplot as plt\n",
    "import pandas as pd\n",
    "import numpy as np\n",
    "import datetime as dt\n",
    "\n",
    "# Suppressing warning messages\n",
    "pd.options.mode.chained_assignment = None\n",
    "import warnings\n",
    "warnings.filterwarnings('ignore')"
   ]
  },
  {
   "cell_type": "code",
   "execution_count": 2,
   "outputs": [],
   "source": [
    "# Specify vars to parse as dates\n",
    "date_vars = ['limit_begin_date', 'limit_end_date', 'monitoring_period_end_date', 'monitoring_period_end_month', 'monitoring_period_quarter_start', 'monitoring_period_quarter_end', 'value_received_date', 'value_received_month', 'value_received_quarter_start', 'value_received_quarter_end']\n",
    "# Load in DMR data\n",
    "MS_dmrs = pd.read_csv('~/Documents/DMR work/DMR Python Projects/dmr-permit-limit-changes/dmr_data/MS_dmrs.csv', dtype={\n",
    "                            'perm_feature_nmbr': object,\n",
    "                             'limit_unit_code': object,\n",
    "                             'standard_unit_code': object,\n",
    "                             'dmr_unit_desc': str,\n",
    "                             'dmr_unit_code': object\n",
    "                         }, parse_dates=date_vars, date_parser=lambda t: pd.to_datetime(t, errors='coerce'))\n",
    "\n",
    "# Load in data on impaired waters and permits\n",
    "impaired_waters = pd.read_csv('impaired_waters.csv', dtype={'HUC12': object})\n",
    "permits = pd.read_csv('MS_permits.csv', dtype={'wbd_huc12': object}).rename(columns={'wbd_huc12':'HUC12'})"
   ],
   "metadata": {
    "collapsed": false,
    "pycharm": {
     "name": "#%%\n"
    }
   }
  },
  {
   "cell_type": "markdown",
   "source": [
    "Constructing limit value time series"
   ],
   "metadata": {
    "collapsed": false,
    "pycharm": {
     "name": "#%% md\n"
    }
   }
  },
  {
   "cell_type": "code",
   "execution_count": 3,
   "outputs": [
    {
     "name": "stdout",
     "output_type": "stream",
     "text": [
      "DMRs with duplicate limit variables dropped:  3364167\n"
     ]
    },
    {
     "data": {
      "text/plain": "           limit_id  limit_value_id npdes_permit_id perm_feature_nmbr  \\\n5        3200110659      3200553298       MS0000078               001   \n581523   3200110655      3200553278       MS0000078               001   \n1908881  3602973461      3605069675       MS0000078               001   \n16       3200110659      3200553299       MS0000078               001   \n581532   3200110655      3200553279       MS0000078               001   \n\n        parameter_desc limit_value_type_code statistical_base_code  \\\n5         Oil & Grease                    C2                    MK   \n581523    Oil & Grease                    C2                    MK   \n1908881   Oil & Grease                    C2                    MK   \n16        Oil & Grease                    C3                    DD   \n581532    Oil & Grease                    C3                    DD   \n\n        statistical_base_type_code limit_begin_date limit_end_date  \\\n5                              AVG       2007-07-01     2012-05-31   \n581523                         AVG       2012-07-25     2017-06-30   \n1908881                        AVG       2017-11-27     2022-10-31   \n16                             MAX       2007-07-01     2012-05-31   \n581532                         MAX       2012-07-25     2017-06-30   \n\n         limit_value_nmbr  limit_value_standard_units standard_unit_desc  \n5                    10.0                        10.0               mg/L  \n581523               10.0                        10.0               mg/L  \n1908881              10.0                        10.0               mg/L  \n16                   15.0                        15.0               mg/L  \n581532               15.0                        15.0               mg/L  ",
      "text/html": "<div>\n<style scoped>\n    .dataframe tbody tr th:only-of-type {\n        vertical-align: middle;\n    }\n\n    .dataframe tbody tr th {\n        vertical-align: top;\n    }\n\n    .dataframe thead th {\n        text-align: right;\n    }\n</style>\n<table border=\"1\" class=\"dataframe\">\n  <thead>\n    <tr style=\"text-align: right;\">\n      <th></th>\n      <th>limit_id</th>\n      <th>limit_value_id</th>\n      <th>npdes_permit_id</th>\n      <th>perm_feature_nmbr</th>\n      <th>parameter_desc</th>\n      <th>limit_value_type_code</th>\n      <th>statistical_base_code</th>\n      <th>statistical_base_type_code</th>\n      <th>limit_begin_date</th>\n      <th>limit_end_date</th>\n      <th>limit_value_nmbr</th>\n      <th>limit_value_standard_units</th>\n      <th>standard_unit_desc</th>\n    </tr>\n  </thead>\n  <tbody>\n    <tr>\n      <th>5</th>\n      <td>3200110659</td>\n      <td>3200553298</td>\n      <td>MS0000078</td>\n      <td>001</td>\n      <td>Oil &amp; Grease</td>\n      <td>C2</td>\n      <td>MK</td>\n      <td>AVG</td>\n      <td>2007-07-01</td>\n      <td>2012-05-31</td>\n      <td>10.0</td>\n      <td>10.0</td>\n      <td>mg/L</td>\n    </tr>\n    <tr>\n      <th>581523</th>\n      <td>3200110655</td>\n      <td>3200553278</td>\n      <td>MS0000078</td>\n      <td>001</td>\n      <td>Oil &amp; Grease</td>\n      <td>C2</td>\n      <td>MK</td>\n      <td>AVG</td>\n      <td>2012-07-25</td>\n      <td>2017-06-30</td>\n      <td>10.0</td>\n      <td>10.0</td>\n      <td>mg/L</td>\n    </tr>\n    <tr>\n      <th>1908881</th>\n      <td>3602973461</td>\n      <td>3605069675</td>\n      <td>MS0000078</td>\n      <td>001</td>\n      <td>Oil &amp; Grease</td>\n      <td>C2</td>\n      <td>MK</td>\n      <td>AVG</td>\n      <td>2017-11-27</td>\n      <td>2022-10-31</td>\n      <td>10.0</td>\n      <td>10.0</td>\n      <td>mg/L</td>\n    </tr>\n    <tr>\n      <th>16</th>\n      <td>3200110659</td>\n      <td>3200553299</td>\n      <td>MS0000078</td>\n      <td>001</td>\n      <td>Oil &amp; Grease</td>\n      <td>C3</td>\n      <td>DD</td>\n      <td>MAX</td>\n      <td>2007-07-01</td>\n      <td>2012-05-31</td>\n      <td>15.0</td>\n      <td>15.0</td>\n      <td>mg/L</td>\n    </tr>\n    <tr>\n      <th>581532</th>\n      <td>3200110655</td>\n      <td>3200553279</td>\n      <td>MS0000078</td>\n      <td>001</td>\n      <td>Oil &amp; Grease</td>\n      <td>C3</td>\n      <td>DD</td>\n      <td>MAX</td>\n      <td>2012-07-25</td>\n      <td>2017-06-30</td>\n      <td>15.0</td>\n      <td>15.0</td>\n      <td>mg/L</td>\n    </tr>\n  </tbody>\n</table>\n</div>"
     },
     "execution_count": 3,
     "metadata": {},
     "output_type": "execute_result"
    }
   ],
   "source": [
    "# For each NPDES permit, permit features, parameter, and limit type-- construct time series of limit values over time\n",
    "\n",
    "# Variables to include in time series\n",
    "limit_ids = ['limit_id', 'limit_value_id']\n",
    "limit_times = ['limit_begin_date', 'limit_end_date']\n",
    "limit_unique = ['npdes_permit_id', 'perm_feature_nmbr', 'parameter_desc', 'limit_value_type_code', 'statistical_base_code', 'statistical_base_type_code']\n",
    "limit_vals = ['limit_value_nmbr', 'limit_value_standard_units', 'standard_unit_desc']\n",
    "\n",
    "# Obtain limit values over time from DMR data\n",
    "# Exclude missing limit values\n",
    "excl_missing_lv = MS_dmrs.dropna(subset=['limit_value_nmbr'])\n",
    "# Drop DMRs with duplicate limit variables\n",
    "limit_time_series = excl_missing_lv[limit_ids + limit_unique + limit_times + limit_vals].drop_duplicates()\n",
    "print('DMRs with duplicate limit variables dropped: ', len(MS_dmrs) - len(limit_time_series))\n",
    "\n",
    "# Sort limit values\n",
    "limit_time_series.sort_values(by=limit_unique + limit_times + limit_vals, inplace=True)\n",
    "limit_time_series.head()"
   ],
   "metadata": {
    "collapsed": false,
    "pycharm": {
     "name": "#%%\n"
    }
   }
  },
  {
   "cell_type": "code",
   "execution_count": 4,
   "outputs": [
    {
     "data": {
      "text/plain": "1    107403\n2      4545\nName: counts, dtype: int64"
     },
     "execution_count": 4,
     "metadata": {},
     "output_type": "execute_result"
    }
   ],
   "source": [
    "# First, finding duplicates on limit id x time\n",
    "find_dups = limit_time_series.groupby(limit_ids + limit_times).size().reset_index(name='counts')\n",
    "\n",
    "# Print the counts of limits id x time combinations by how many times they appear in the dataset\n",
    "find_dups['counts'].value_counts()"
   ],
   "metadata": {
    "collapsed": false,
    "pycharm": {
     "name": "#%%\n"
    }
   }
  },
  {
   "cell_type": "code",
   "execution_count": 5,
   "outputs": [
    {
     "data": {
      "text/plain": "1     102893\n2      13374\n4        148\n10        40\n3         24\n8          8\n6          6\nName: counts, dtype: int64"
     },
     "execution_count": 5,
     "metadata": {},
     "output_type": "execute_result"
    }
   ],
   "source": [
    "# Flag duplicates on all known identifiers\n",
    "find_dups_all = limit_time_series.groupby(limit_unique + limit_times).size().reset_index(name='counts') # Count number of duplicates using the unique identifiers and time as ID variables\n",
    "find_dups_all = limit_time_series.merge(find_dups_all, how='left', on=limit_unique + limit_times)\n",
    "find_dups_all['counts'].value_counts()"
   ],
   "metadata": {
    "collapsed": false,
    "pycharm": {
     "name": "#%%\n"
    }
   }
  },
  {
   "cell_type": "code",
   "execution_count": 6,
   "outputs": [
    {
     "name": "stdout",
     "output_type": "stream",
     "text": [
      "Number of limits dropped:  13600\n"
     ]
    }
   ],
   "source": [
    "# For now, drop limits if they are not unique on our identifiers\n",
    "pre_length = len(limit_time_series)\n",
    "limit_time_series = find_dups_all[find_dups_all['counts']==1]\n",
    "print(\"Number of limits dropped: \", pre_length-len(limit_time_series))\n",
    "# notes about duplicated data:\n",
    "# some of the duplicates (e.g. for permit_id MS0003115 pH) have depulicated limit values; can just drop the id variable and then de-dup\n",
    "# some duplicates contain different limit values for different observations (e.g. for permit_id MS0034436 Flow, in conduit or thru treatment plant). this at least doesn't seem to change over time? not sure what happens to the limit values\n",
    "# for now, ignore"
   ],
   "metadata": {
    "collapsed": false,
    "pycharm": {
     "name": "#%%\n"
    }
   }
  },
  {
   "cell_type": "markdown",
   "source": [
    "Constructing flag for actual permit limit change"
   ],
   "metadata": {
    "collapsed": false,
    "pycharm": {
     "name": "#%% md\n"
    }
   }
  },
  {
   "cell_type": "code",
   "execution_count": 7,
   "outputs": [],
   "source": [
    "# Compare to flagged value; if limit_value_standard_units != prev then there was a change\n",
    "limit_time_series_df = limit_time_series\n",
    "limit_time_series_df['prev_limit_value_nmbr'] = limit_time_series_df.groupby(limit_unique)[['limit_value_nmbr']].shift()\n",
    "\n",
    "limit_time_series_df['prev_limit_value_standard_units'] = limit_time_series_df.groupby(limit_unique)[['limit_value_standard_units']].shift()\n",
    "condition1 = limit_time_series_df['prev_limit_value_nmbr'].notna()\n",
    "condition2 = limit_time_series_df['limit_value_nmbr'] != limit_time_series_df['prev_limit_value_nmbr']\n",
    "limit_time_series_df['limit_change'] = np.where(condition1 & condition2, 1, 0)"
   ],
   "metadata": {
    "collapsed": false,
    "pycharm": {
     "name": "#%%\n"
    }
   }
  },
  {
   "cell_type": "code",
   "execution_count": 8,
   "outputs": [],
   "source": [
    "#  Calculate limit change % difference\n",
    "limit_time_series_df['limit_change_pct'] = 100*(limit_time_series_df['limit_value_standard_units']-limit_time_series_df['prev_limit_value_standard_units'])/limit_time_series_df['prev_limit_value_standard_units']\n",
    "limit_time_series_df['limit_change_pct'] = np.where(limit_time_series_df['limit_change']==0, np.nan, limit_time_series_df['limit_change_pct']) # if there is no limit change, represent limit_change_pct as NaN"
   ],
   "metadata": {
    "collapsed": false,
    "pycharm": {
     "name": "#%%\n"
    }
   }
  },
  {
   "cell_type": "markdown",
   "source": [
    "How many limit series have ever changed?"
   ],
   "metadata": {
    "collapsed": false,
    "pycharm": {
     "name": "#%% md\n"
    }
   }
  },
  {
   "cell_type": "code",
   "execution_count": 22,
   "outputs": [
    {
     "data": {
      "text/plain": "0    97114\n1     5768\nName: limit_change, dtype: int64"
     },
     "execution_count": 22,
     "metadata": {},
     "output_type": "execute_result"
    }
   ],
   "source": [
    "limit_time_series_df.drop_duplicates(subset=['limit_value_id', 'limit_id'])['limit_change'].value_counts()"
   ],
   "metadata": {
    "collapsed": false,
    "pycharm": {
     "name": "#%%\n"
    }
   }
  },
  {
   "cell_type": "code",
   "execution_count": 10,
   "outputs": [],
   "source": [
    "limit_changes = limit_time_series_df[limit_time_series_df['limit_change']==1]\n",
    "limits_unchanged = limit_time_series_df[limit_time_series_df['limit_change']==0]"
   ],
   "metadata": {
    "collapsed": false,
    "pycharm": {
     "name": "#%%\n"
    }
   }
  },
  {
   "cell_type": "code",
   "execution_count": 11,
   "outputs": [],
   "source": [
    "# Find NPDES permittees that have outfalls onto waters that have ever been designated as impaired\n",
    "impaired_permits = permits.merge(impaired_waters, how='inner', on='HUC12')\n",
    "impaired_permits.to_csv('impaired_permits.csv')"
   ],
   "metadata": {
    "collapsed": false,
    "pycharm": {
     "name": "#%%\n"
    }
   }
  },
  {
   "cell_type": "markdown",
   "source": [
    "How many HUC12 codes are represented in the list of impaired waters permits?"
   ],
   "metadata": {
    "collapsed": false,
    "pycharm": {
     "name": "#%% md\n"
    }
   }
  },
  {
   "cell_type": "code",
   "execution_count": 12,
   "outputs": [
    {
     "data": {
      "text/plain": "154"
     },
     "execution_count": 12,
     "metadata": {},
     "output_type": "execute_result"
    }
   ],
   "source": [
    "impaired_permits.drop_duplicates(subset=['HUC12']).shape[0]"
   ],
   "metadata": {
    "collapsed": false,
    "pycharm": {
     "name": "#%%\n"
    }
   }
  },
  {
   "cell_type": "markdown",
   "source": [
    "How many impaired waters were left behind after the merge?"
   ],
   "metadata": {
    "collapsed": false,
    "pycharm": {
     "name": "#%% md\n"
    }
   }
  },
  {
   "cell_type": "code",
   "execution_count": 13,
   "outputs": [
    {
     "data": {
      "text/plain": "49"
     },
     "execution_count": 13,
     "metadata": {},
     "output_type": "execute_result"
    }
   ],
   "source": [
    "hucs = list(impaired_permits['HUC12'].unique())\n",
    "unmatched = impaired_waters[impaired_waters['HUC12'].apply(lambda x: x not in hucs)]\n",
    "len(unmatched.drop_duplicates(subset=['HUC12']))"
   ],
   "metadata": {
    "collapsed": false,
    "pycharm": {
     "name": "#%%\n"
    }
   }
  },
  {
   "cell_type": "markdown",
   "source": [
    "49 impaired waters were not matched by HUC12 code to the MS permits list."
   ],
   "metadata": {
    "collapsed": false,
    "pycharm": {
     "name": "#%% md\n"
    }
   }
  },
  {
   "cell_type": "code",
   "execution_count": 24,
   "outputs": [],
   "source": [
    "impaired_changed_permits = impaired_permits.merge(limit_changes, how='inner', on='npdes_permit_id')\n",
    "impaired_unchanged_permits = impaired_permits.merge(limits_unchanged, how='inner', on='npdes_permit_id')"
   ],
   "metadata": {
    "collapsed": false,
    "pycharm": {
     "name": "#%%\n"
    }
   }
  },
  {
   "cell_type": "code",
   "execution_count": 25,
   "outputs": [],
   "source": [
    "impaired_changed_permits['FIRST LISTED '] = pd.to_datetime(impaired_changed_permits['FIRST LISTED '], errors='coerce')\n",
    "impaired_changed_permits = impaired_changed_permits.rename(columns={'FIRST LISTED ': 'Year first listed'})\n",
    "impaired_changed_permits['delay'] = impaired_changed_permits.limit_begin_date-impaired_changed_permits['Year first listed']\n",
    "delays = impaired_changed_permits[impaired_changed_permits['delay'].dt.days>=0].drop_duplicates(subset=['limit_id', 'limit_value_id'])['delay']"
   ],
   "metadata": {
    "collapsed": false,
    "pycharm": {
     "name": "#%%\n"
    }
   }
  },
  {
   "cell_type": "markdown",
   "source": [
    "How permits could not be matched to any limit?"
   ],
   "metadata": {
    "collapsed": false,
    "pycharm": {
     "name": "#%% md\n"
    }
   }
  },
  {
   "cell_type": "code",
   "execution_count": 16,
   "outputs": [
    {
     "data": {
      "text/plain": "0"
     },
     "execution_count": 16,
     "metadata": {},
     "output_type": "execute_result"
    }
   ],
   "source": [
    "impaired_permits.merge(limit_time_series_df, how='inner', on='npdes_permit_id').drop_duplicates(subset=['limit_value_id', 'limit_id']).shape[0]-787-16983"
   ],
   "metadata": {
    "collapsed": false,
    "pycharm": {
     "name": "#%%\n"
    }
   }
  },
  {
   "cell_type": "code",
   "execution_count": 17,
   "outputs": [],
   "source": [
    "impaired_changed_permits.to_csv('impaired_changed_permits.csv')"
   ],
   "metadata": {
    "collapsed": false,
    "pycharm": {
     "name": "#%%\n"
    }
   }
  },
  {
   "cell_type": "markdown",
   "source": [
    "Among limit series that changed after the corresponding waterway was impaired, what is the distribution of delay times until the date of the limit change after the impairment?"
   ],
   "metadata": {
    "collapsed": false,
    "pycharm": {
     "name": "#%% md\n"
    }
   }
  },
  {
   "cell_type": "code",
   "execution_count": 26,
   "outputs": [
    {
     "data": {
      "text/plain": "(array([65., 94., 74., 70., 70., 61., 25.,  5., 16., 10.]),\n array([   0. ,  699.9, 1399.8, 2099.7, 2799.6, 3499.5, 4199.4, 4899.3,\n        5599.2, 6299.1, 6999. ]),\n <BarContainer object of 10 artists>)"
     },
     "execution_count": 26,
     "metadata": {},
     "output_type": "execute_result"
    },
    {
     "data": {
      "text/plain": "<Figure size 864x576 with 1 Axes>",
      "image/png": "[encoded data removed]"
     },
     "metadata": {
      "needs_background": "light"
     },
     "output_type": "display_data"
    }
   ],
   "source": [
    "import matplotlib.pyplot as plt\n",
    "plt.figure(figsize=(12,8))\n",
    "plt.hist(delays.dt.days)"
   ],
   "metadata": {
    "collapsed": false,
    "pycharm": {
     "name": "#%%\n"
    }
   }
  },
  {
   "cell_type": "code",
   "execution_count": 30,
   "outputs": [
    {
     "name": "stdout",
     "output_type": "stream",
     "text": [
      "Numbers are in terms of limit series\n"
     ]
    },
    {
     "data": {
      "text/plain": "                                              Ever impaired Never impaired\nLimit constant                                        16983          80131\nLimit change ever                                       787           4981\nLimit change on/after first impairment                  490             NA\nLimit change within 3 yrs of first impairment           118             NA\nLimit change within 2 yrs of first impairment            79             NA\nLimit change within 1 yr of first impairment             36             NA",
      "text/html": "<div>\n<style scoped>\n    .dataframe tbody tr th:only-of-type {\n        vertical-align: middle;\n    }\n\n    .dataframe tbody tr th {\n        vertical-align: top;\n    }\n\n    .dataframe thead th {\n        text-align: right;\n    }\n</style>\n<table border=\"1\" class=\"dataframe\">\n  <thead>\n    <tr style=\"text-align: right;\">\n      <th></th>\n      <th>Ever impaired</th>\n      <th>Never impaired</th>\n    </tr>\n  </thead>\n  <tbody>\n    <tr>\n      <th>Limit constant</th>\n      <td>16983</td>\n      <td>80131</td>\n    </tr>\n    <tr>\n      <th>Limit change ever</th>\n      <td>787</td>\n      <td>4981</td>\n    </tr>\n    <tr>\n      <th>Limit change on/after first impairment</th>\n      <td>490</td>\n      <td>NA</td>\n    </tr>\n    <tr>\n      <th>Limit change within 3 yrs of first impairment</th>\n      <td>118</td>\n      <td>NA</td>\n    </tr>\n    <tr>\n      <th>Limit change within 2 yrs of first impairment</th>\n      <td>79</td>\n      <td>NA</td>\n    </tr>\n    <tr>\n      <th>Limit change within 1 yr of first impairment</th>\n      <td>36</td>\n      <td>NA</td>\n    </tr>\n  </tbody>\n</table>\n</div>"
     },
     "execution_count": 30,
     "metadata": {},
     "output_type": "execute_result"
    }
   ],
   "source": [
    "print('Numbers are in terms of limit series')\n",
    "A = impaired_unchanged_permits.drop_duplicates(subset=['limit_id', 'limit_value_id']).shape[0] # Unchanged impaired water limit series\n",
    "unchanged_permits = permits.merge(limits_unchanged, how='inner', on='npdes_permit_id')\n",
    "B = unchanged_permits.drop_duplicates(subset=['limit_id', 'limit_value_id']).shape[0] # Unchanged limit series\n",
    "C = impaired_changed_permits.drop_duplicates(subset=['limit_id', 'limit_value_id']).shape[0] # Changed impaired water limit series\n",
    "D = permits.merge(limit_changes, how='inner', on='npdes_permit_id').drop_duplicates(subset=['limit_id', 'limit_value_id']).shape[0] # Changed water limit series\n",
    "\n",
    "E = impaired_changed_permits[impaired_changed_permits['delay'].dt.days>=0].drop_duplicates(subset=['limit_id', 'limit_value_id']).shape[0] # Limit series that changed after an impairment\n",
    "F = impaired_changed_permits[(impaired_changed_permits['delay'].dt.days>=0) & (impaired_changed_permits['delay'].dt.days<365*3)].drop_duplicates(subset=['limit_id', 'limit_value_id']).shape[0] # ...within 3 years\n",
    "G = impaired_changed_permits[(impaired_changed_permits['delay'].dt.days>=0) & (impaired_changed_permits['delay'].dt.days<365*2)].drop_duplicates(subset=['limit_id', 'limit_value_id']).shape[0] # ...within 2 years\n",
    "H = impaired_changed_permits[(impaired_changed_permits['delay'].dt.days>=0) & (impaired_changed_permits['delay'].dt.days<365)].drop_duplicates(subset=['limit_id', 'limit_value_id']).shape[0] # ...within 1 year\n",
    "\n",
    "pd.DataFrame({'Limit constant': [A, B-A], 'Limit change ever':[C, D-C], 'Limit change on/after first impairment':[E, 'NA'], 'Limit change within 3 yrs of first impairment': [F, 'NA'], 'Limit change within 2 yrs of first impairment': [G, 'NA'], 'Limit change within 1 yr of first impairment': [H, 'NA']}, {'Ever impaired', 'Never impaired'}).T"
   ],
   "metadata": {
    "collapsed": false,
    "pycharm": {
     "name": "#%%\n"
    }
   }
  },
  {
   "cell_type": "markdown",
   "source": [
    "What about in terms of waters?"
   ],
   "metadata": {
    "collapsed": false,
    "pycharm": {
     "name": "#%% md\n"
    }
   }
  },
  {
   "cell_type": "code",
   "execution_count": 29,
   "outputs": [
    {
     "name": "stdout",
     "output_type": "stream",
     "text": [
      "Numbers are in terms of HUC12 waters\n"
     ]
    },
    {
     "data": {
      "text/plain": "                                              Ever impaired Never impaired\nAll limits constant                                      47            609\nLimit change ever                                        66            327\nLimit change on/after first impairment                   45             NA\nLimit change within 3 yrs of first impairment            18             NA\nLimit change within 2 yrs of first impairment            15             NA\nLimit change within 1 yr of first impairment             10             NA",
      "text/html": "<div>\n<style scoped>\n    .dataframe tbody tr th:only-of-type {\n        vertical-align: middle;\n    }\n\n    .dataframe tbody tr th {\n        vertical-align: top;\n    }\n\n    .dataframe thead th {\n        text-align: right;\n    }\n</style>\n<table border=\"1\" class=\"dataframe\">\n  <thead>\n    <tr style=\"text-align: right;\">\n      <th></th>\n      <th>Ever impaired</th>\n      <th>Never impaired</th>\n    </tr>\n  </thead>\n  <tbody>\n    <tr>\n      <th>All limits constant</th>\n      <td>47</td>\n      <td>609</td>\n    </tr>\n    <tr>\n      <th>Limit change ever</th>\n      <td>66</td>\n      <td>327</td>\n    </tr>\n    <tr>\n      <th>Limit change on/after first impairment</th>\n      <td>45</td>\n      <td>NA</td>\n    </tr>\n    <tr>\n      <th>Limit change within 3 yrs of first impairment</th>\n      <td>18</td>\n      <td>NA</td>\n    </tr>\n    <tr>\n      <th>Limit change within 2 yrs of first impairment</th>\n      <td>15</td>\n      <td>NA</td>\n    </tr>\n    <tr>\n      <th>Limit change within 1 yr of first impairment</th>\n      <td>10</td>\n      <td>NA</td>\n    </tr>\n  </tbody>\n</table>\n</div>"
     },
     "execution_count": 29,
     "metadata": {},
     "output_type": "execute_result"
    }
   ],
   "source": [
    "limit_change_hucs = list(impaired_changed_permits.drop_duplicates(subset='HUC12')['HUC12'])\n",
    "A = impaired_unchanged_permits[impaired_unchanged_permits['HUC12'].apply(lambda x: x not in limit_change_hucs)].drop_duplicates(subset='HUC12').shape[0] # All never-changing limit impaired HUCs\n",
    "\n",
    "unchanged_permits = permits.merge(limits_unchanged, how='inner', on='npdes_permit_id')\n",
    "B = unchanged_permits[unchanged_permits['HUC12'].apply(lambda x: x not in limit_change_hucs)].drop_duplicates(subset=['HUC12']).shape[0] # All never-changing limit HUCs\n",
    "C = impaired_changed_permits.drop_duplicates(subset=['HUC12']).shape[0] # Impaired limit change HUCs\n",
    "D = permits.merge(limit_changes, how='inner', on='npdes_permit_id').drop_duplicates(subset=['HUC12']).shape[0] # All limit change HUCs\n",
    "\n",
    "E = impaired_changed_permits[impaired_changed_permits['delay'].dt.days>=0].drop_duplicates(subset=['HUC12']).shape[0] # HUC12s that had a limit change after an impairment\n",
    "F = impaired_changed_permits[(impaired_changed_permits['delay'].dt.days>=0) & (impaired_changed_permits['delay'].dt.days<365*3)].drop_duplicates(subset=['HUC12']).shape[0] #...within 3 years\n",
    "G = impaired_changed_permits[(impaired_changed_permits['delay'].dt.days>=0) & (impaired_changed_permits['delay'].dt.days<365*2)].drop_duplicates(subset=['HUC12']).shape[0] #...within 2 years\n",
    "H = impaired_changed_permits[(impaired_changed_permits['delay'].dt.days>=0) & (impaired_changed_permits['delay'].dt.days<365)].drop_duplicates(subset=['HUC12']).shape[0] #...within 1 year\n",
    "print('Numbers are in terms of HUC12 waters')\n",
    "pd.DataFrame({'All limits constant': [A, B-A], 'Limit change ever':[C, D-C], 'Limit change on/after first impairment':[E, 'NA'], 'Limit change within 3 yrs of first impairment': [F, 'NA'], 'Limit change within 2 yrs of first impairment': [G, 'NA'], 'Limit change within 1 yr of first impairment': [H, 'NA']}, {'Ever impaired', 'Never impaired'}).T"
   ],
   "metadata": {
    "collapsed": false,
    "pycharm": {
     "name": "#%%\n"
    }
   }
  }
 ],
 "metadata": {
  "kernelspec": {
   "display_name": "Python 3",
   "language": "python",
   "name": "python3"
  },
  "language_info": {
   "codemirror_mode": {
    "name": "ipython",
    "version": 2
   },
   "file_extension": ".py",
   "mimetype": "text/x-python",
   "name": "python",
   "nbconvert_exporter": "python",
   "pygments_lexer": "ipython2",
   "version": "2.7.6"
  }
 },
 "nbformat": 4,
 "nbformat_minor": 0
}